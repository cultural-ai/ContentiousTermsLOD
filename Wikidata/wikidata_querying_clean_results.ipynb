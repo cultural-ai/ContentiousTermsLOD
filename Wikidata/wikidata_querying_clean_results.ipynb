{
 "cells": [
  {
   "cell_type": "code",
   "execution_count": null,
   "metadata": {},
   "outputs": [],
   "source": [
    "import json\n",
    "import re"
   ]
  },
  {
   "cell_type": "code",
   "execution_count": null,
   "metadata": {},
   "outputs": [],
   "source": [
    "# importing EN results w claims\n",
    "with open('results_w_claims_en.json','r') as jf:\n",
    "    results_en = json.load(jf)"
   ]
  },
  {
   "cell_type": "code",
   "execution_count": null,
   "metadata": {},
   "outputs": [],
   "source": [
    "# importing NL results w claims\n",
    "with open('results_w_claims_nl.json','r') as jf:\n",
    "    results_nl = json.load(jf)"
   ]
  },
  {
   "cell_type": "markdown",
   "metadata": {},
   "source": [
    "#### Filtering out proper names\n",
    "- if query term is used in prefLabel capitalized (with word boundaries)\n",
    "- if an entity has the property value 'Q5' ('human') of 'P31' ('instance of')"
   ]
  },
  {
   "cell_type": "code",
   "execution_count": null,
   "metadata": {},
   "outputs": [],
   "source": [
    "# EN\n",
    "results_clean_en = {}\n",
    "k = 0\n",
    "\n",
    "for query_term,results in results_en.items():\n",
    "    results_clean_en[query_term] = []\n",
    "    for hit in results:\n",
    "        if hit['prefLabel'] != None and len(re.findall(f\"\\\\b{hit['query_term'].capitalize()}\\\\b\",hit['prefLabel'])) > 0 and 'human' in hit['instance_of']:\n",
    "            k += 1\n",
    "        else:\n",
    "            results_clean_en[query_term].append(hit)\n",
    "            \n",
    "print(f\"Occurences filtered out: {k}\")"
   ]
  },
  {
   "cell_type": "code",
   "execution_count": null,
   "metadata": {},
   "outputs": [],
   "source": [
    "# saving clean results EN\n",
    "\n",
    "with open(\"results_clean_en.json\",\"w\") as jf:\n",
    "    json.dump(results_clean_en, jf)"
   ]
  },
  {
   "cell_type": "code",
   "execution_count": null,
   "metadata": {},
   "outputs": [],
   "source": [
    "# NL\n",
    "results_clean_nl = {}\n",
    "k = 0\n",
    "\n",
    "for query_term,results in results_nl.items():\n",
    "    results_clean_nl[query_term] = []\n",
    "    for hit in results:\n",
    "        if hit['prefLabel'] != None and len(re.findall(f\"\\\\b{hit['query_term'].capitalize()}\\\\b\",hit['prefLabel'])) > 0 and 'mens' in hit['instance_of']:\n",
    "            k += 1\n",
    "        else:\n",
    "            results_clean_nl[query_term].append(hit)\n",
    "            \n",
    "print(f\"Occurences filtered out: {k}\")"
   ]
  },
  {
   "cell_type": "code",
   "execution_count": null,
   "metadata": {},
   "outputs": [],
   "source": [
    "# saving clean results NL\n",
    "\n",
    "with open(\"results_clean_nl.json\",\"w\") as jf:\n",
    "    json.dump(results_clean_nl, jf)"
   ]
  },
  {
   "cell_type": "markdown",
   "metadata": {},
   "source": [
    "### Stats"
   ]
  },
  {
   "cell_type": "code",
   "execution_count": null,
   "metadata": {},
   "outputs": [],
   "source": [
    "# total hits EN and NL BEFORE filtering out names\n",
    "\n",
    "c_en = 0\n",
    "for results in results_en.values():\n",
    "    for hit in results:\n",
    "        c_en += 1\n",
    "        \n",
    "c_nl = 0\n",
    "for results in results_nl.values():\n",
    "    for hit in results:\n",
    "        c_nl += 1\n",
    "        \n",
    "print(f\"EN hits:{c_en}, NL hits: {c_nl}\")"
   ]
  },
  {
   "cell_type": "code",
   "execution_count": null,
   "metadata": {},
   "outputs": [],
   "source": [
    "# total hits EN and NL AFTER filtering out names\n",
    "\n",
    "c_en_filtered = 0\n",
    "for results in results_clean_en.values():\n",
    "    for hit in results:\n",
    "        c_en_filtered += 1\n",
    "        \n",
    "c_nl_filtered = 0\n",
    "for results in results_clean_nl.values():\n",
    "    for hit in results:\n",
    "        c_nl_filtered += 1\n",
    "        \n",
    "print(f\"EN hits:{c_en_filtered}, NL hits: {c_nl_filtered}\")"
   ]
  },
  {
   "cell_type": "code",
   "execution_count": null,
   "metadata": {},
   "outputs": [],
   "source": []
  }
 ],
 "metadata": {
  "kernelspec": {
   "display_name": "Python 3",
   "language": "python",
   "name": "python3"
  },
  "language_info": {
   "codemirror_mode": {
    "name": "ipython",
    "version": 3
   },
   "file_extension": ".py",
   "mimetype": "text/x-python",
   "name": "python",
   "nbconvert_exporter": "python",
   "pygments_lexer": "ipython3",
   "version": "3.8.5"
  }
 },
 "nbformat": 4,
 "nbformat_minor": 4
}
