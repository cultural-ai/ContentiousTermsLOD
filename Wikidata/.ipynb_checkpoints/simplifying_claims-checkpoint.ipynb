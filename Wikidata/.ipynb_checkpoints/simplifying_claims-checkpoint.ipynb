{
 "cells": [
  {
   "cell_type": "code",
   "execution_count": null,
   "metadata": {},
   "outputs": [],
   "source": [
    "import json\n",
    "import requests"
   ]
  },
  {
   "cell_type": "markdown",
   "metadata": {},
   "source": [
    "## Simplifying entities' claims\n",
    "The claims of retrieved entities have a lot of extra information, which is unnecessary in this research. They were simplified for more efficients processing. The simplified claims include only labels and Qids of the P31 and P279 properties for every entity."
   ]
  },
  {
   "cell_type": "markdown",
   "metadata": {},
   "source": [
    "## EN"
   ]
  },
  {
   "cell_type": "markdown",
   "metadata": {},
   "source": [
    "### Importing files"
   ]
  },
  {
   "cell_type": "code",
   "execution_count": null,
   "metadata": {},
   "outputs": [],
   "source": [
    "# entities from the clean results\n",
    "\n",
    "with zipfile.ZipFile('wikidata_search_results_en_clean.json.zip','r') as unzip:\n",
    "    unzip.extractall('') # set your path (~47 MB)\n",
    "\n",
    "# set your path\n",
    "with open('/wikidata_search_results_en_clean.json','r') as json_file:\n",
    "    wd_en = json.load(json_file)"
   ]
  },
  {
   "cell_type": "code",
   "execution_count": null,
   "metadata": {},
   "outputs": [],
   "source": [
    "# claims\n",
    "# set your path to the merged json file from the previous step\n",
    "\n",
    "with open('/claims_en/merged_claims_en.json','r') as json_file:\n",
    "    claims_en = json.load(json_file)"
   ]
  },
  {
   "cell_type": "markdown",
   "metadata": {},
   "source": [
    "### Collecting P31 and P279 for every EN entity from the local files"
   ]
  },
  {
   "cell_type": "code",
   "execution_count": null,
   "metadata": {},
   "outputs": [],
   "source": [
    "list_of_all_entities_en = []\n",
    "for target_word, entity in wd_en.items():\n",
    "    for page_id, values in entity.items():\n",
    "        list_of_all_entities_en.append(values['title'])"
   ]
  },
  {
   "cell_type": "code",
   "execution_count": null,
   "metadata": {},
   "outputs": [],
   "source": [
    "claims_dict = {}\n",
    "\n",
    "for target_word, claims_list in claims_en.items():\n",
    "    for i in claims_list:\n",
    "        \n",
    "        for e_id, claims in i.items():\n",
    "            \n",
    "            if e_id in list_of_all_entities_en and 'claims' in claims:\n",
    "                \n",
    "                subdict = {}\n",
    "                sub_subdict_P31 = {}\n",
    "                sub_subdict_P279 = {}\n",
    "                \n",
    "                for v in claims['claims'].values():\n",
    "                    \n",
    "                    for l in v:\n",
    "                        \n",
    "                        if 'datavalue' in l['mainsnak'] and l['mainsnak']['property'] == 'P31':\n",
    "                            sub_subdict_P31[l['mainsnak']['datavalue']['value']['id']] = \"\"\n",
    "                                                    \n",
    "                        if 'datavalue' in l['mainsnak'] and l['mainsnak']['property'] == 'P279':\n",
    "                            sub_subdict_P279[l['mainsnak']['datavalue']['value']['id']] = \"\"\n",
    "                    \n",
    "                \n",
    "                subdict['P31'] = sub_subdict_P31\n",
    "                subdict['P279'] = sub_subdict_P279\n",
    "                claims_dict[e_id] = subdict"
   ]
  },
  {
   "cell_type": "code",
   "execution_count": null,
   "metadata": {},
   "outputs": [],
   "source": [
    "# making a list of all the values of P31 and P279 \n",
    "\n",
    "all_values_en = []\n",
    "for i,v in claims_dict.items():\n",
    "    all_values_en.extend(list(v['P31'].keys()))\n",
    "    all_values_en.extend(list(v['P279'].keys()))"
   ]
  },
  {
   "cell_type": "code",
   "execution_count": null,
   "metadata": {},
   "outputs": [],
   "source": [
    "# only unique values:\n",
    "\n",
    "all_values_en_unique = list(set(all_values_en))"
   ]
  },
  {
   "cell_type": "markdown",
   "metadata": {},
   "source": [
    "### Getting the labels of values of P31 and P279 from Wikidata\n",
    "Additional requests are needed"
   ]
  },
  {
   "cell_type": "code",
   "execution_count": null,
   "metadata": {},
   "outputs": [],
   "source": [
    "# 'wbgetentities': constant params\n",
    "url = \"https://www.wikidata.org/w/api.php\"\n",
    "params = {\"action\":\"wbgetentities\",\n",
    "          \"ids\":\"\", # string of entities (max=50) goes here\n",
    "          \"props\":\"labels\",\n",
    "          \"languages\":\"en\",\n",
    "          \"format\":\"json\"\n",
    "         }\n",
    "# set your header\n",
    "headers = {\"user-agent\":\"bot getting labels of the requested entities (CWI; Human-Centered Data Analytics; nesterov@cwi.nl)\"}"
   ]
  },
  {
   "cell_type": "code",
   "execution_count": null,
   "metadata": {},
   "outputs": [],
   "source": [
    "loops = len(all_values_en_unique) // 50\n",
    "start = 0\n",
    "end = 0\n",
    "\n",
    "values_dict = {}\n",
    "\n",
    "for i in range(0,loops+1):\n",
    "    end = end + 50\n",
    "    ids_string = \"\"\n",
    "    \n",
    "    for value_id in all_values_en_unique[start:end]:\n",
    "        ids_string = ids_string + f\"{value_id}|\"\n",
    "    \n",
    "    params[\"ids\"] = ids_string.rstrip(\"|\")\n",
    "    d = requests.get(url,params=params,headers=headers)\n",
    "    labels = d.json() # labels per request\n",
    "    \n",
    "    for k,l in labels['entities'].items():\n",
    "        if 'labels' in l and 'en' in l['labels']:\n",
    "            values_dict[k] = l['labels']['en']['value']\n",
    "    \n",
    "    start = start + 50"
   ]
  },
  {
   "cell_type": "code",
   "execution_count": null,
   "metadata": {},
   "outputs": [],
   "source": [
    "# linking property ids to their labels\n",
    "\n",
    "for entity_id,values in claims_dict.items():\n",
    "    \n",
    "    for i in values['P31'].keys():\n",
    "        if i in values_dict.keys():\n",
    "            values['P31'][i] = values_dict[i]\n",
    "        \n",
    "    for i in values['P279'].keys():\n",
    "        if i in values_dict.keys():\n",
    "            values['P279'][i] = values_dict[i]"
   ]
  },
  {
   "cell_type": "code",
   "execution_count": null,
   "metadata": {},
   "outputs": [],
   "source": [
    "# exporting simplified claims EN\n",
    "# this file is zipped on GitHub\n",
    "\n",
    "with open('/simple_claims_en.json','w') as json_write:\n",
    "    json.dump(claims_dict,json_write)"
   ]
  },
  {
   "cell_type": "markdown",
   "metadata": {},
   "source": [
    "## NL"
   ]
  },
  {
   "cell_type": "markdown",
   "metadata": {},
   "source": [
    "### Importing files"
   ]
  },
  {
   "cell_type": "code",
   "execution_count": null,
   "metadata": {},
   "outputs": [],
   "source": [
    "# entities from the clean results NL\n",
    "\n",
    "with zipfile.ZipFile('wikidata_search_results_nl_clean.json.zip','r') as unzip:\n",
    "    unzip.extractall('') # set your path (~28,7 MB)\n",
    "\n",
    "# set your path\n",
    "with open('/wikidata_search_results_nl_clean.json','r') as json_file:\n",
    "    wd_nl = json.load(json_file)"
   ]
  },
  {
   "cell_type": "code",
   "execution_count": null,
   "metadata": {},
   "outputs": [],
   "source": [
    "# claims NL\n",
    "# set your path to the merged json file from the previous step\n",
    "\n",
    "with open('/claims_nl/merged_claims_nl.json','r') as json_file:\n",
    "    claims_nl = json.load(json_file)"
   ]
  },
  {
   "cell_type": "markdown",
   "metadata": {},
   "source": [
    "### Collecting P31 and P279 for every NL entity from the local files"
   ]
  },
  {
   "cell_type": "code",
   "execution_count": null,
   "metadata": {},
   "outputs": [],
   "source": [
    "list_of_all_entities_nl = []\n",
    "for target_word, entity in wd_nl.items():\n",
    "    for page_id, values in entity.items():\n",
    "        list_of_all_entities_nl.append(values['title'])"
   ]
  },
  {
   "cell_type": "code",
   "execution_count": null,
   "metadata": {},
   "outputs": [],
   "source": [
    "claims_dict_nl = {}\n",
    "\n",
    "for target_word, claims_list in claims_nl.items():\n",
    "    for i in claims_list:\n",
    "        \n",
    "        for e_id, claims in i.items():\n",
    "            \n",
    "            if e_id in list_of_all_entities_nl and 'claims' in claims:\n",
    "                \n",
    "                subdict = {}\n",
    "                sub_subdict_P31 = {}\n",
    "                sub_subdict_P279 = {}\n",
    "                \n",
    "                for v in claims['claims'].values():\n",
    "                    \n",
    "                    for l in v:\n",
    "                        \n",
    "                        if 'datavalue' in l['mainsnak'] and l['mainsnak']['property'] == 'P31':\n",
    "                            sub_subdict_P31[l['mainsnak']['datavalue']['value']['id']] = \"\"\n",
    "                                                    \n",
    "                        if 'datavalue' in l['mainsnak'] and l['mainsnak']['property'] == 'P279':\n",
    "                            sub_subdict_P279[l['mainsnak']['datavalue']['value']['id']] = \"\"\n",
    "                    \n",
    "                \n",
    "                subdict['P31'] = sub_subdict_P31\n",
    "                subdict['P279'] = sub_subdict_P279\n",
    "                claims_dict_nl[e_id] = subdict"
   ]
  },
  {
   "cell_type": "code",
   "execution_count": null,
   "metadata": {},
   "outputs": [],
   "source": [
    "# making a list of all the values of the properties P31 and P279\n",
    "\n",
    "all_values_nl = []\n",
    "for i,v in claims_dict_nl.items():\n",
    "    all_values_nl.extend(list(v['P31'].keys()))\n",
    "    all_values_nl.extend(list(v['P279'].keys()))"
   ]
  },
  {
   "cell_type": "code",
   "execution_count": null,
   "metadata": {},
   "outputs": [],
   "source": [
    "# only unique values:\n",
    "\n",
    "all_values_nl_unique = list(set(all_values_nl))"
   ]
  },
  {
   "cell_type": "markdown",
   "metadata": {},
   "source": [
    "### Getting the labels of values of P31 and P279 from Wikidata"
   ]
  },
  {
   "cell_type": "code",
   "execution_count": null,
   "metadata": {},
   "outputs": [],
   "source": [
    "# 'wbgetentities': constant params\n",
    "url = \"https://www.wikidata.org/w/api.php\"\n",
    "params = {\"action\":\"wbgetentities\",\n",
    "          \"ids\":\"\", # string of entities (max=50) goes here\n",
    "          \"props\":\"labels\",\n",
    "          \"languages\":\"nl\", # Dutch\n",
    "          \"format\":\"json\"\n",
    "         }\n",
    "# set your header\n",
    "headers = {\"user-agent\":\"bot getting labels of the requested entities (CWI; Human-Centered Data Analytics; nesterov@cwi.nl)\"}"
   ]
  },
  {
   "cell_type": "code",
   "execution_count": null,
   "metadata": {},
   "outputs": [],
   "source": [
    "loops = len(all_values_nl_unique) // 50\n",
    "start = 0\n",
    "end = 0\n",
    "\n",
    "values_dict = {}\n",
    "\n",
    "for i in range(0,loops+1):\n",
    "    end = end + 50\n",
    "    ids_string = \"\"\n",
    "    \n",
    "    for value_id in all_values_nl_unique[start:end]:\n",
    "        ids_string = ids_string + f\"{value_id}|\"\n",
    "    \n",
    "    params[\"ids\"] = ids_string.rstrip(\"|\")\n",
    "    d = requests.get(url,params=params,headers=headers)\n",
    "    labels = d.json() # labels per request\n",
    "    \n",
    "    for k,l in labels['entities'].items():\n",
    "        if 'labels' in l and 'nl' in l['labels']:\n",
    "            values_dict[k] = l['labels']['nl']['value']\n",
    "    \n",
    "    start = start + 50\n",
    "        "
   ]
  },
  {
   "cell_type": "code",
   "execution_count": null,
   "metadata": {
    "scrolled": true
   },
   "outputs": [],
   "source": [
    "# linking property ids to their labels\n",
    "\n",
    "for entity_id,values in claims_dict_nl.items():\n",
    "    \n",
    "    for i in values['P31'].keys():\n",
    "        if i in values_dict.keys():\n",
    "            values['P31'][i] = values_dict[i]\n",
    "        \n",
    "    for i in values['P279'].keys():\n",
    "        if i in values_dict.keys():\n",
    "            values['P279'][i] = values_dict[i]"
   ]
  },
  {
   "cell_type": "code",
   "execution_count": null,
   "metadata": {},
   "outputs": [],
   "source": [
    "# exporting simplified claims EN\n",
    "# this file is zipped on GitHub\n",
    "\n",
    "with open('/simple_claims_nl.json','w') as json_write:\n",
    "    json.dump(claims_dict_nl,json_write)"
   ]
  }
 ],
 "metadata": {
  "kernelspec": {
   "display_name": "Python 3",
   "language": "python",
   "name": "python3"
  },
  "language_info": {
   "codemirror_mode": {
    "name": "ipython",
    "version": 3
   },
   "file_extension": ".py",
   "mimetype": "text/x-python",
   "name": "python",
   "nbconvert_exporter": "python",
   "pygments_lexer": "ipython3",
   "version": "3.8.5"
  }
 },
 "nbformat": 4,
 "nbformat_minor": 4
}
