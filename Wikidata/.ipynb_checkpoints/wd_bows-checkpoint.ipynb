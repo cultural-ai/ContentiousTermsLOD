{
 "cells": [
  {
   "cell_type": "code",
   "execution_count": 1,
   "metadata": {},
   "outputs": [],
   "source": [
    "import json"
   ]
  },
  {
   "cell_type": "code",
   "execution_count": 2,
   "metadata": {},
   "outputs": [],
   "source": [
    "# importing results\n",
    "with open('/Users/anesterov/wd/jan31/results_clean_en.json','r') as jf:\n",
    "    wd = json.load(jf)"
   ]
  },
  {
   "cell_type": "code",
   "execution_count": 15,
   "metadata": {},
   "outputs": [
    {
     "name": "stdout",
     "output_type": "stream",
     "text": [
      "{'query_term': 'batavia', 'lang': 'en', 'QID': 'Q100341056', 'prefLabel': 'Tentoonstelling ter herdenking van het 300-jarig bestaan van Batavia', 'aliases': None, 'description': ['exhibition in 1919'], 'index': 292, 'found_in': 'prefLabel', 'instance_of': ['temporary exhibition'], 'subclass_of': []}\n"
     ]
    }
   ],
   "source": [
    "for hit in wd['batavia']:\n",
    "    print(hit)\n",
    "    bow = []\n",
    "    bow.append(hit[\"prefLabel\"])\n",
    "    \n",
    "    inlabel = False\n",
    "    inaliases = False\n",
    "    \n",
    "    if hit[\"query_term\"] in hit[\"prefLabel\"].lower():\n",
    "        bow.extend(hit[\"instance_of\"])\n",
    "        bow.extend(hit[\"subclass_of\"])\n",
    "    \n",
    "    if hit[\"aliases\"] != None:\n",
    "        bow.extend(hit[\"aliases\"])\n",
    "        for alias in hit[\"aliases\"]\n",
    "        \n",
    "        \n",
    "    if hit[\"description\"] != None:\n",
    "        bow.extend(hit[\"description\"])\n",
    "    # adding P31 and P279 if query term is mentioned in pref or alt labels\n",
    "    \n",
    "    else:\n",
    "        for alias in hit[\"aliases\"]\n",
    "    break"
   ]
  },
  {
   "cell_type": "code",
   "execution_count": 16,
   "metadata": {},
   "outputs": [
    {
     "data": {
      "text/plain": [
       "['Tentoonstelling ter herdenking van het 300-jarig bestaan van Batavia',\n",
       " 'exhibition in 1919',\n",
       " 'temporary exhibition']"
      ]
     },
     "execution_count": 16,
     "metadata": {},
     "output_type": "execute_result"
    }
   ],
   "source": [
    "bow"
   ]
  },
  {
   "cell_type": "code",
   "execution_count": null,
   "metadata": {},
   "outputs": [],
   "source": []
  }
 ],
 "metadata": {
  "kernelspec": {
   "display_name": "Python 3",
   "language": "python",
   "name": "python3"
  },
  "language_info": {
   "codemirror_mode": {
    "name": "ipython",
    "version": 3
   },
   "file_extension": ".py",
   "mimetype": "text/x-python",
   "name": "python",
   "nbconvert_exporter": "python",
   "pygments_lexer": "ipython3",
   "version": "3.8.5"
  }
 },
 "nbformat": 4,
 "nbformat_minor": 4
}
