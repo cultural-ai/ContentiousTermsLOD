{
 "cells": [
  {
   "cell_type": "code",
   "execution_count": 1,
   "metadata": {},
   "outputs": [],
   "source": [
    "import json\n",
    "# Importing LODlitParser Wikidata module \n",
    "# this code is taken from\n",
    "# https://stackoverflow.com/questions/67631/how-can-i-import-a-module-dynamically-given-the-full-path\n",
    "import importlib.util\n",
    "import sys\n",
    "spec = importlib.util.spec_from_file_location(\"LODlitParser.wd\", \"/Users/anesterov/reps/LODlit/LODlitParser/wd.py\")\n",
    "wd = importlib.util.module_from_spec(spec)\n",
    "sys.modules[\"LODlitParser.wd\"] = wd\n",
    "spec.loader.exec_module(wd)"
   ]
  },
  {
   "cell_type": "code",
   "execution_count": 2,
   "metadata": {},
   "outputs": [],
   "source": [
    "user_agent = \"Bot getting hits of query terms (nesterov@cwi.nl)\""
   ]
  },
  {
   "cell_type": "code",
   "execution_count": null,
   "metadata": {},
   "outputs": [],
   "source": [
    "filter_by_keywords"
   ]
  },
  {
   "cell_type": "code",
   "execution_count": 3,
   "metadata": {},
   "outputs": [],
   "source": [
    "# importing statements to filter out\n",
    "with open(\"/Users/anesterov/reps/LODlit/Wikidata/statements_filter.json\",\"r\") as jf:\n",
    "    statements_filter = json.load(jf)"
   ]
  },
  {
   "cell_type": "code",
   "execution_count": 4,
   "metadata": {},
   "outputs": [],
   "source": [
    "# creating a list of tuples with statements to filter out\n",
    "statements = []\n",
    "for s in statements_filter.keys():\n",
    "    statements.extend([('P31',s),('P279',s)])"
   ]
  },
  {
   "cell_type": "code",
   "execution_count": 5,
   "metadata": {},
   "outputs": [
    {
     "data": {
      "text/plain": [
       "[('P31', 'Q13442814'),\n",
       " ('P279', 'Q13442814'),\n",
       " ('P31', 'Q16521'),\n",
       " ('P279', 'Q16521'),\n",
       " ('P31', 'Q7187'),\n",
       " ('P279', 'Q7187'),\n",
       " ('P31', 'Q8054'),\n",
       " ('P279', 'Q8054'),\n",
       " ('P31', 'Q4167410'),\n",
       " ('P279', 'Q4167410'),\n",
       " ('P31', 'Q11424'),\n",
       " ('P279', 'Q11424'),\n",
       " ('P31', 'Q482994'),\n",
       " ('P279', 'Q482994'),\n",
       " ('P31', 'Q11266439'),\n",
       " ('P279', 'Q11266439'),\n",
       " ('P31', 'Q5633421'),\n",
       " ('P279', 'Q5633421'),\n",
       " ('P31', 'Q20747295'),\n",
       " ('P279', 'Q20747295')]"
      ]
     },
     "execution_count": 5,
     "metadata": {},
     "output_type": "execute_result"
    }
   ],
   "source": [
    "statements"
   ]
  },
  {
   "cell_type": "code",
   "execution_count": 6,
   "metadata": {},
   "outputs": [],
   "source": [
    "statements_str = ''\n",
    "for t in statements:\n",
    "    statements_str = statements_str + f\" -haswbstatement:{t[0]}={t[1]}\""
   ]
  },
  {
   "cell_type": "code",
   "execution_count": 7,
   "metadata": {},
   "outputs": [
    {
     "data": {
      "text/plain": [
       "' -haswbstatement:P31=Q13442814 -haswbstatement:P279=Q13442814 -haswbstatement:P31=Q16521 -haswbstatement:P279=Q16521 -haswbstatement:P31=Q7187 -haswbstatement:P279=Q7187 -haswbstatement:P31=Q8054 -haswbstatement:P279=Q8054 -haswbstatement:P31=Q4167410 -haswbstatement:P279=Q4167410 -haswbstatement:P31=Q11424 -haswbstatement:P279=Q11424 -haswbstatement:P31=Q482994 -haswbstatement:P279=Q482994 -haswbstatement:P31=Q11266439 -haswbstatement:P279=Q11266439 -haswbstatement:P31=Q5633421 -haswbstatement:P279=Q5633421 -haswbstatement:P31=Q20747295 -haswbstatement:P279=Q20747295'"
      ]
     },
     "execution_count": 7,
     "metadata": {},
     "output_type": "execute_result"
    }
   ],
   "source": [
    "statements_str"
   ]
  },
  {
   "cell_type": "code",
   "execution_count": null,
   "metadata": {},
   "outputs": [],
   "source": [
    "wd.get_search_hits()"
   ]
  }
 ],
 "metadata": {
  "kernelspec": {
   "display_name": "Python 3",
   "language": "python",
   "name": "python3"
  },
  "language_info": {
   "codemirror_mode": {
    "name": "ipython",
    "version": 3
   },
   "file_extension": ".py",
   "mimetype": "text/x-python",
   "name": "python",
   "nbconvert_exporter": "python",
   "pygments_lexer": "ipython3",
   "version": "3.8.5"
  }
 },
 "nbformat": 4,
 "nbformat_minor": 4
}
