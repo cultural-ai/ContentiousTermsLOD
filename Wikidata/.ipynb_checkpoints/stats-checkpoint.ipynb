{
 "cells": [
  {
   "cell_type": "markdown",
   "metadata": {},
   "source": [
    "### This notebook generates csv files with statistics of found query terms and their lemmas in Wikidata"
   ]
  },
  {
   "cell_type": "code",
   "execution_count": null,
   "metadata": {},
   "outputs": [],
   "source": [
    "import json\n",
    "import csv\n",
    "import pandas as pd"
   ]
  },
  {
   "cell_type": "code",
   "execution_count": null,
   "metadata": {},
   "outputs": [],
   "source": [
    "# importing search results (retrieved)\n",
    "with open('/Users/anesterov/wd/jan31/search_results_en.json','r') as jf:\n",
    "    retrieved_en = json.load(jf)\n",
    "with open('/Users/anesterov/wd/jan31/search_results_nl.json','r') as jf:\n",
    "    retrieved_nl = json.load(jf)"
   ]
  },
  {
   "cell_type": "code",
   "execution_count": null,
   "metadata": {},
   "outputs": [],
   "source": [
    "# importing clean results\n",
    "with open('/Users/anesterov/wd/jan31/results_clean_en.json','r') as jf:\n",
    "    results_en = json.load(jf)\n",
    "with open('/Users/anesterov/wd/jan31/results_clean_nl.json','r') as jf:\n",
    "    results_nl = json.load(jf)"
   ]
  },
  {
   "cell_type": "code",
   "execution_count": null,
   "metadata": {},
   "outputs": [],
   "source": [
    "# importing query terms with lemmas\n",
    "with open('/Users/anesterov/reps/LODlit/query_terms.json','r') as jf:\n",
    "    query_terms = json.load(jf)"
   ]
  },
  {
   "cell_type": "markdown",
   "metadata": {},
   "source": [
    "### 1. N entities retrieved by query terms"
   ]
  },
  {
   "cell_type": "code",
   "execution_count": null,
   "metadata": {},
   "outputs": [],
   "source": [
    "n_entities_retrieved_en = {}\n",
    "\n",
    "for query_term, results in retrieved_en.items():\n",
    "    if 'searchinfo' in results:\n",
    "        n_entities = 0\n",
    "    else:\n",
    "        n_entities = len(results)\n",
    "        \n",
    "    n_entities_retrieved_en[query_term] = n_entities"
   ]
  },
  {
   "cell_type": "code",
   "execution_count": null,
   "metadata": {},
   "outputs": [],
   "source": [
    "n_entities_retrieved_nl = {}\n",
    "\n",
    "for query_term, results in retrieved_nl.items():\n",
    "    if 'searchinfo' in results:\n",
    "        n_entities = 0\n",
    "    else:\n",
    "        n_entities = len(results)\n",
    "        \n",
    "    n_entities_retrieved_nl[query_term] = n_entities"
   ]
  },
  {
   "cell_type": "code",
   "execution_count": null,
   "metadata": {},
   "outputs": [],
   "source": [
    "with open('n_entities_retrieved_by_term.csv','w') as csv_file:\n",
    "    writer = csv.writer(csv_file)\n",
    "    header = ['lemma','term','lang','n_e_retrieved']\n",
    "    writer.writerow(header)\n",
    "    \n",
    "    for query_term, e in n_entities_retrieved_en.items():\n",
    "        # getting a lemma of the query term\n",
    "        for l, wordforms in query_terms['en'].items():\n",
    "            if query_term in wordforms:\n",
    "                lemma = l\n",
    "        row = [lemma,query_term,'en',e]\n",
    "        writer.writerow(row)\n",
    "        \n",
    "    for query_term, e in n_entities_retrieved_nl.items():\n",
    "        # getting a lemma of the query term\n",
    "        for l, wordforms in query_terms['nl'].items():\n",
    "            if query_term in wordforms:\n",
    "                lemma = l\n",
    "        row = [lemma,query_term,'nl',e]\n",
    "        writer.writerow(row)"
   ]
  },
  {
   "cell_type": "markdown",
   "metadata": {},
   "source": [
    "### 2. N entities retrieved by lemmas"
   ]
  },
  {
   "cell_type": "code",
   "execution_count": null,
   "metadata": {},
   "outputs": [],
   "source": [
    "df = pd.read_csv('n_entities_retrieved_by_term.csv')\n",
    "# lemmas are not unique in 2 lang, making seaprate dfs by lang\n",
    "en_df = df.loc[df['lang'] == 'en']\n",
    "nl_df = df.loc[df['lang'] == 'nl']"
   ]
  },
  {
   "cell_type": "code",
   "execution_count": null,
   "metadata": {},
   "outputs": [],
   "source": [
    "with open('n_entities_retrieved_by_lemma.csv','w') as csv_file:\n",
    "    writer = csv.writer(csv_file)\n",
    "    header = ['lemma','lang','n_e_retrieved']\n",
    "    writer.writerow(header)\n",
    "\n",
    "    for group in en_df.groupby('lemma'):\n",
    "        \n",
    "        row = [group[0],'en',sum(group[1]['n_e_retrieved'])]\n",
    "        writer.writerow(row)\n",
    "        \n",
    "    for group in nl_df.groupby('lemma'):\n",
    "        \n",
    "        row = [group[0],'nl',sum(group[1]['n_e_retrieved'])]\n",
    "        writer.writerow(row)"
   ]
  },
  {
   "cell_type": "markdown",
   "metadata": {},
   "source": [
    "### 3. N entities after proper names filtering by query terms"
   ]
  },
  {
   "cell_type": "code",
   "execution_count": null,
   "metadata": {},
   "outputs": [],
   "source": [
    "n_entities_filtered_en = {}\n",
    "for term, results in results_en.items():\n",
    "    n_entities_filtered_en[term] = len(set([hit['QID'] for hit in results]))"
   ]
  },
  {
   "cell_type": "code",
   "execution_count": null,
   "metadata": {},
   "outputs": [],
   "source": [
    "n_entities_filtered_nl = {}\n",
    "for term, results in results_nl.items():\n",
    "    n_entities_filtered_nl[term] = len(set([hit['QID'] for hit in results]))"
   ]
  },
  {
   "cell_type": "code",
   "execution_count": null,
   "metadata": {},
   "outputs": [],
   "source": [
    "with open('n_entities_clean_by_term.csv','w') as csv_file:\n",
    "    writer = csv.writer(csv_file)\n",
    "    header = ['lemma','term','lang','e_clean']\n",
    "    writer.writerow(header)\n",
    "    \n",
    "    for query_term, e in n_entities_filtered_en.items():\n",
    "        # getting a lemma of the query term\n",
    "        for l, wordforms in query_terms['en'].items():\n",
    "            if query_term in wordforms:\n",
    "                lemma = l\n",
    "        row = [lemma,query_term,'en',e]\n",
    "        writer.writerow(row)\n",
    "        \n",
    "    for query_term, e in n_entities_filtered_nl.items():\n",
    "        # getting a lemma of the query term\n",
    "        for l, wordforms in query_terms['nl'].items():\n",
    "            if query_term in wordforms:\n",
    "                lemma = l\n",
    "        row = [lemma,query_term,'nl',e]\n",
    "        writer.writerow(row)"
   ]
  },
  {
   "cell_type": "markdown",
   "metadata": {},
   "source": [
    "### 4. N entities after proper names filtering by lemmas"
   ]
  },
  {
   "cell_type": "code",
   "execution_count": null,
   "metadata": {},
   "outputs": [],
   "source": [
    "df = pd.read_csv('n_entities_clean_by_term.csv')\n",
    "# lemmas are not unique in 2 lang, making seaprate dfs by lang\n",
    "en_df = df.loc[df['lang'] == 'en']\n",
    "nl_df = df.loc[df['lang'] == 'nl']"
   ]
  },
  {
   "cell_type": "code",
   "execution_count": null,
   "metadata": {},
   "outputs": [],
   "source": [
    "with open('n_entities_clean_by_lemma.csv','w') as csv_file:\n",
    "    writer = csv.writer(csv_file)\n",
    "    header = ['lemma','lang','e_clean']\n",
    "    writer.writerow(header)\n",
    "\n",
    "    for group in en_df.groupby('lemma'):\n",
    "        \n",
    "        row = [group[0],'en',sum(group[1]['e_clean'])]\n",
    "        writer.writerow(row)\n",
    "        \n",
    "    for group in nl_df.groupby('lemma'):\n",
    "        \n",
    "        row = [group[0],'nl',sum(group[1]['e_clean'])]\n",
    "        writer.writerow(row)"
   ]
  },
  {
   "cell_type": "markdown",
   "metadata": {},
   "source": [
    "### 5. N hits (occurences) by query terms\n",
    "Count N of occurences of query terms in prefLabel, aliases, and description"
   ]
  },
  {
   "cell_type": "code",
   "execution_count": null,
   "metadata": {},
   "outputs": [],
   "source": [
    "# EN\n",
    "wd_where_terms_found_en = {}\n",
    "\n",
    "for term, results in results_en.items():\n",
    "    pref = 0\n",
    "    alias = 0\n",
    "    descr = 0\n",
    "    for hit in results:\n",
    "        if hit['found_in'] == 'prefLabel':\n",
    "            pref += 1\n",
    "        if hit['found_in'] == 'aliases':\n",
    "            alias += 1\n",
    "        if hit['found_in'] == 'description':\n",
    "            descr += 1\n",
    "            \n",
    "    wd_where_terms_found_en[term] = [pref,alias,descr]"
   ]
  },
  {
   "cell_type": "code",
   "execution_count": null,
   "metadata": {},
   "outputs": [],
   "source": [
    "# NL\n",
    "wd_where_terms_found_nl = {}\n",
    "\n",
    "for term, results in results_nl.items():\n",
    "    pref = 0\n",
    "    alias = 0\n",
    "    descr = 0\n",
    "    for hit in results:\n",
    "        if hit['found_in'] == 'prefLabel':\n",
    "            pref += 1\n",
    "        if hit['found_in'] == 'aliases':\n",
    "            alias += 1\n",
    "        if hit['found_in'] == 'description':\n",
    "            descr += 1\n",
    "            \n",
    "    wd_where_terms_found_nl[term] = [pref,alias,descr]"
   ]
  },
  {
   "cell_type": "code",
   "execution_count": null,
   "metadata": {},
   "outputs": [],
   "source": [
    "with open('n_hits_by_term.csv','w') as csv_file:\n",
    "    writer = csv.writer(csv_file)\n",
    "    header = ['lemma','term','lang','wd_prefLabel','wd_aliases','wd_description','total']\n",
    "    writer.writerow(header)\n",
    "    \n",
    "    for term, stats in wd_where_terms_found_en.items():\n",
    "        for l, wordforms in query_terms['en'].items():\n",
    "            if term in wordforms:\n",
    "                lemma = l\n",
    "        row = [lemma, term, 'en', stats[0], stats[1], stats[2], sum(stats)]\n",
    "        writer.writerow(row)\n",
    "        \n",
    "    for term, stats in wd_where_terms_found_nl.items():\n",
    "        for l, wordforms in query_terms['nl'].items():\n",
    "            if term in wordforms:\n",
    "                lemma = l\n",
    "        row = [lemma, term, 'nl', stats[0], stats[1], stats[2], sum(stats)]\n",
    "        writer.writerow(row)"
   ]
  },
  {
   "cell_type": "markdown",
   "metadata": {},
   "source": [
    "### 6. N hits (occurences) by lemmas"
   ]
  },
  {
   "cell_type": "code",
   "execution_count": null,
   "metadata": {},
   "outputs": [],
   "source": [
    "# grouping N hits by lemmas\n",
    "df = pd.read_csv('n_hits_by_term.csv')\n",
    "# lemmas are not unique in 2 lang, making sneaprate dfs by lang\n",
    "en_df = df.loc[df['lang'] == 'en']\n",
    "nl_df = df.loc[df['lang'] == 'nl']"
   ]
  },
  {
   "cell_type": "code",
   "execution_count": null,
   "metadata": {},
   "outputs": [],
   "source": [
    "# exporting a csv with stats by lemma\n",
    "\n",
    "with open('n_hits_by_lemma.csv','w') as csv_file:\n",
    "    writer = csv.writer(csv_file)\n",
    "    header = ['lemma','lang','wd_pref_lemma','wd_aliases_lemma','wd_desc_lemma','total_lemma']\n",
    "    writer.writerow(header)\n",
    "\n",
    "    for group in en_df.groupby('lemma'):\n",
    "        \n",
    "        row = [group[0],'en',sum(group[1]['wd_prefLabel']),sum(group[1]['wd_aliases']),\\\n",
    "              sum(group[1]['wd_description']),sum(group[1]['total'])]\n",
    "        \n",
    "        writer.writerow(row)\n",
    "        \n",
    "    for group in nl_df.groupby('lemma'):\n",
    "        \n",
    "        row = [group[0],'nl',sum(group[1]['wd_prefLabel']),sum(group[1]['wd_aliases']),\\\n",
    "              sum(group[1]['wd_description']),sum(group[1]['total'])]\n",
    "        \n",
    "        writer.writerow(row)"
   ]
  }
 ],
 "metadata": {
  "kernelspec": {
   "display_name": "Python 3",
   "language": "python",
   "name": "python3"
  },
  "language_info": {
   "codemirror_mode": {
    "name": "ipython",
    "version": 3
   },
   "file_extension": ".py",
   "mimetype": "text/x-python",
   "name": "python",
   "nbconvert_exporter": "python",
   "pygments_lexer": "ipython3",
   "version": "3.8.5"
  }
 },
 "nbformat": 4,
 "nbformat_minor": 4
}
