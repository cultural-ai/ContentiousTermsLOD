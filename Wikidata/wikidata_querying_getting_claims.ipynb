{
 "cells": [
  {
   "cell_type": "code",
   "execution_count": null,
   "metadata": {},
   "outputs": [],
   "source": [
    "import json\n",
    "import csv\n",
    "import requests\n",
    "import io\n",
    "import time\n",
    "import zipfile\n",
    "import wikidata_parser"
   ]
  },
  {
   "cell_type": "code",
   "execution_count": null,
   "metadata": {},
   "outputs": [],
   "source": [
    "# {\"requested_QID\":{\"P31\":{\"valueID\":\"label\"},\"P279\":{\"valueID\":\"label\"}}}"
   ]
  },
  {
   "cell_type": "code",
   "execution_count": null,
   "metadata": {},
   "outputs": [],
   "source": [
    "headers = {\"user-agent\":\"bot getting claims of the requested entities (CWI; Human-Centered Data Analytics; nesterov@cwi.nl)\"}"
   ]
  },
  {
   "cell_type": "code",
   "execution_count": null,
   "metadata": {},
   "outputs": [],
   "source": [
    "# importing EN results\n",
    "with open('term_found_en.json','r') as jf:\n",
    "    entities_en = json.load(jf)"
   ]
  },
  {
   "cell_type": "code",
   "execution_count": null,
   "metadata": {},
   "outputs": [],
   "source": [
    "# importing NL results\n",
    "with open('term_found_nl.json','r') as jf:\n",
    "    entities_nl = json.load(jf)"
   ]
  },
  {
   "cell_type": "code",
   "execution_count": null,
   "metadata": {},
   "outputs": [],
   "source": [
    "# putting all unique QIDs in a list\n",
    "\n",
    "qids = []\n",
    "\n",
    "for term, values in entities_en.items():\n",
    "    for v in values:\n",
    "        qids.append(v[\"QID\"])\n",
    "        \n",
    "for term, values in entities_nl.items():\n",
    "    for v in values:\n",
    "        qids.append(v[\"QID\"])"
   ]
  },
  {
   "cell_type": "code",
   "execution_count": null,
   "metadata": {},
   "outputs": [],
   "source": [
    "unique_qids = list(set(qids))"
   ]
  },
  {
   "cell_type": "code",
   "execution_count": null,
   "metadata": {},
   "outputs": [],
   "source": [
    "len(unique_qids)"
   ]
  },
  {
   "cell_type": "markdown",
   "metadata": {},
   "source": [
    "#### Getting claims for every entity (language independent) in batches (2K)\n",
    "- files with batches are not on GitHub; only the merged json file is available"
   ]
  },
  {
   "cell_type": "code",
   "execution_count": null,
   "metadata": {},
   "outputs": [],
   "source": [
    "# Putting the query results in separate files (batches)\n",
    "# Batch = 2K quids with claims\n",
    "# [{quid:{'P31':'','P279':''}}]\n",
    "\n",
    "n_batches = len(unique_qids) // 2000 + 1\n",
    "\n",
    "start_batch_at = 0\n",
    "end_batch_at = 0\n",
    "\n",
    "for batch in range(0,n_batches):\n",
    "    \n",
    "    end_batch_at = end_batch_at + 2000\n",
    "    \n",
    "    qids_sublist = not_requested[start_batch_at:end_batch_at]\n",
    "\n",
    "    # return a list of quids that were failed; [] if ok\n",
    "    failed = wikidata_parser.request_claims(qids_sublist,['P31','P279'],headers,'/claims/',i)\n",
    "    \n",
    "    print(end_batch_at, failed)\n",
    "    \n",
    "    start_batch_at = start_batch_at + 2000\n",
    "    \n",
    "    time.sleep(1)"
   ]
  },
  {
   "cell_type": "markdown",
   "metadata": {},
   "source": [
    "###### Merging files with claims"
   ]
  },
  {
   "cell_type": "code",
   "execution_count": null,
   "metadata": {},
   "outputs": [],
   "source": [
    "import os\n",
    "from os import listdir\n",
    "from os.path import isfile,join"
   ]
  },
  {
   "cell_type": "code",
   "execution_count": null,
   "metadata": {},
   "outputs": [],
   "source": [
    "dir_path = 'claims'\n",
    "claims_paths = [join(dir_path, f) for f in listdir(dir_path) if isfile(join(dir_path,f)) and f.endswith('.json')]"
   ]
  },
  {
   "cell_type": "code",
   "execution_count": null,
   "metadata": {},
   "outputs": [],
   "source": [
    "all_claims = []\n",
    "for file in claims_paths:\n",
    "    with open(file, \"r\") as jf:\n",
    "        claims = json.load(jf)\n",
    "        all_claims.extend(claims)"
   ]
  },
  {
   "cell_type": "code",
   "execution_count": null,
   "metadata": {},
   "outputs": [],
   "source": [
    "# saving all claims in one file\n",
    "with open(\"all_claims.json\", \"w\") as f:\n",
    "    json.dump(all_claims,f)"
   ]
  },
  {
   "cell_type": "markdown",
   "metadata": {},
   "source": [
    "#### Getting labels of property values (EN and NL)"
   ]
  },
  {
   "cell_type": "markdown",
   "metadata": {},
   "source": [
    "##### Getting unique value IDs of P31 and P279"
   ]
  },
  {
   "cell_type": "code",
   "execution_count": null,
   "metadata": {},
   "outputs": [],
   "source": [
    "# using all_claims"
   ]
  },
  {
   "cell_type": "code",
   "execution_count": null,
   "metadata": {},
   "outputs": [],
   "source": [
    "values_ids = []\n",
    "for claim in all_claims:\n",
    "    for value in claim.values():\n",
    "        values_ids.extend(value['P31'].keys())\n",
    "        values_ids.extend(value['P279'].keys())"
   ]
  },
  {
   "cell_type": "code",
   "execution_count": null,
   "metadata": {},
   "outputs": [],
   "source": [
    "len(values_ids)"
   ]
  },
  {
   "cell_type": "code",
   "execution_count": null,
   "metadata": {},
   "outputs": [],
   "source": [
    "unique_values_ids = list(set(values_ids))"
   ]
  },
  {
   "cell_type": "code",
   "execution_count": null,
   "metadata": {},
   "outputs": [],
   "source": [
    "len(unique_values_ids)"
   ]
  },
  {
   "cell_type": "code",
   "execution_count": null,
   "metadata": {},
   "outputs": [],
   "source": [
    "headers = {\"user-agent\":\"bot getting labels of the requested entities (CWI; Human-Centered Data Analytics; nesterov@cwi.nl)\"}"
   ]
  },
  {
   "cell_type": "code",
   "execution_count": null,
   "metadata": {},
   "outputs": [],
   "source": [
    "# saves 'labels_property_values_1.json'\n",
    "# retuns a list of failed entities\n",
    "wikidata_parser.request_labels_of_property_values(unique_values_ids,headers,'')"
   ]
  },
  {
   "cell_type": "markdown",
   "metadata": {},
   "source": [
    "#### Merging claims with the property labels"
   ]
  },
  {
   "cell_type": "code",
   "execution_count": null,
   "metadata": {},
   "outputs": [],
   "source": [
    "# reading the property labels file\n",
    "with open(\"labels_property_values_1.json\",\"r\") as jf:\n",
    "    property_labels = json.load(jf)"
   ]
  },
  {
   "cell_type": "code",
   "execution_count": null,
   "metadata": {},
   "outputs": [],
   "source": [
    "for claim in all_claims:\n",
    "    for value in claim.values():\n",
    "        for k in value['P31'].keys():\n",
    "            value['P31'][k] = property_labels.get(k)\n",
    "        for k in value['P279'].keys():\n",
    "            value['P279'][k] = property_labels.get(k)"
   ]
  },
  {
   "cell_type": "code",
   "execution_count": null,
   "metadata": {},
   "outputs": [],
   "source": [
    "# modifying claims\n",
    "claims_dict = {}\n",
    "\n",
    "for claim in all_claims:\n",
    "    for qid, props in claim.items():\n",
    "        claims_dict[qid] = props"
   ]
  },
  {
   "cell_type": "code",
   "execution_count": null,
   "metadata": {},
   "outputs": [],
   "source": [
    "len(claims_dict)"
   ]
  },
  {
   "cell_type": "code",
   "execution_count": null,
   "metadata": {},
   "outputs": [],
   "source": [
    "# saving all claims with labels (languge independent)\n",
    "with open(\"all_claims_w_labels.json\", \"w\") as f:\n",
    "    json.dump(claims_dict,f)"
   ]
  },
  {
   "cell_type": "code",
   "execution_count": null,
   "metadata": {},
   "outputs": [],
   "source": []
  }
 ],
 "metadata": {
  "kernelspec": {
   "display_name": "Python 3",
   "language": "python",
   "name": "python3"
  },
  "language_info": {
   "codemirror_mode": {
    "name": "ipython",
    "version": 3
   },
   "file_extension": ".py",
   "mimetype": "text/x-python",
   "name": "python",
   "nbconvert_exporter": "python",
   "pygments_lexer": "ipython3",
   "version": "3.8.5"
  }
 },
 "nbformat": 4,
 "nbformat_minor": 4
}
