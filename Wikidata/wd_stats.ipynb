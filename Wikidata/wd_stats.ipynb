{
 "cells": [
  {
   "cell_type": "code",
   "execution_count": null,
   "metadata": {},
   "outputs": [],
   "source": [
    "import json\n",
    "import csv\n",
    "import pandas as pd\n",
    "from LODlit import wd"
   ]
  },
  {
   "cell_type": "markdown",
   "metadata": {},
   "source": [
    "### This notebook generates csv files with statistics of the found terms in Wikidata"
   ]
  },
  {
   "cell_type": "code",
   "execution_count": null,
   "metadata": {},
   "outputs": [],
   "source": [
    "# importing search results (retrieved)\n",
    "# these files are gzipped on GitHub with the prefix \"gzip_\"\n",
    "with open('search_results_en.json','r') as jf:\n",
    "    retrieved_en = json.load(jf)\n",
    "with open('search_results_nl.json','r') as jf:\n",
    "    retrieved_nl = json.load(jf)"
   ]
  },
  {
   "cell_type": "code",
   "execution_count": null,
   "metadata": {},
   "outputs": [],
   "source": [
    "# importing clean results (filtered out entities)\n",
    "# these files are gzipped on GitHub with the prefix \"gzip_\"\n",
    "with open('results_clean_en.json','r') as jf:\n",
    "    results_en = json.load(jf)\n",
    "with open('results_clean_nl.json','r') as jf:\n",
    "    results_nl = json.load(jf)"
   ]
  },
  {
   "cell_type": "code",
   "execution_count": null,
   "metadata": {},
   "outputs": [],
   "source": [
    "# importing query terms\n",
    "with open('LODlit/query_terms.json','r') as jf:\n",
    "    query_terms = json.load(jf)"
   ]
  },
  {
   "cell_type": "markdown",
   "metadata": {},
   "source": [
    "#### 1. N entities retrieved by all terms"
   ]
  },
  {
   "cell_type": "code",
   "execution_count": null,
   "metadata": {},
   "outputs": [],
   "source": [
    "n_entities_retrieved_en = {}\n",
    "\n",
    "for query_term, results in retrieved_en.items():\n",
    "    if 'searchinfo' in results:\n",
    "        n_entities = 0\n",
    "    else:\n",
    "        n_entities = len(results)\n",
    "        \n",
    "    n_entities_retrieved_en[query_term] = n_entities"
   ]
  },
  {
   "cell_type": "code",
   "execution_count": null,
   "metadata": {},
   "outputs": [],
   "source": [
    "n_entities_retrieved_nl = {}\n",
    "\n",
    "for query_term, results in retrieved_nl.items():\n",
    "    if 'searchinfo' in results:\n",
    "        n_entities = 0\n",
    "    else:\n",
    "        n_entities = len(results)\n",
    "        \n",
    "    n_entities_retrieved_nl[query_term] = n_entities"
   ]
  },
  {
   "cell_type": "code",
   "execution_count": null,
   "metadata": {},
   "outputs": [],
   "source": [
    "with open('n_entities_retrieved_by_term.csv','w') as csv_file:\n",
    "    writer = csv.writer(csv_file)\n",
    "    header = ['lemma','term','lang','n_e_retrieved']\n",
    "    writer.writerow(header)\n",
    "    \n",
    "    for query_term, e in n_entities_retrieved_en.items():\n",
    "        # getting a lemma of the query term\n",
    "        for l, wordforms in query_terms['en'].items():\n",
    "            if query_term in wordforms:\n",
    "                lemma = l\n",
    "        row = [lemma,query_term,'en',e]\n",
    "        writer.writerow(row)\n",
    "        \n",
    "    for query_term, e in n_entities_retrieved_nl.items():\n",
    "        # getting a lemma of the query term\n",
    "        for l, wordforms in query_terms['nl'].items():\n",
    "            if query_term in wordforms:\n",
    "                lemma = l\n",
    "        row = [lemma,query_term,'nl',e]\n",
    "        writer.writerow(row)"
   ]
  },
  {
   "cell_type": "markdown",
   "metadata": {},
   "source": [
    "#### 2. N entities retrieved by terms' canonical forms"
   ]
  },
  {
   "cell_type": "code",
   "execution_count": null,
   "metadata": {},
   "outputs": [],
   "source": [
    "df = pd.read_csv('n_entities_retrieved_by_term.csv')\n",
    "# lemmas are not unique in 2 lang, making seaprate dfs by lang\n",
    "en_df = df.loc[df['lang'] == 'en']\n",
    "nl_df = df.loc[df['lang'] == 'nl']"
   ]
  },
  {
   "cell_type": "code",
   "execution_count": null,
   "metadata": {},
   "outputs": [],
   "source": [
    "with open('n_entities_retrieved_by_lemma.csv','w') as csv_file:\n",
    "    writer = csv.writer(csv_file)\n",
    "    header = ['lemma','lang','n_e_retrieved']\n",
    "    writer.writerow(header)\n",
    "\n",
    "    for group in en_df.groupby('lemma'):\n",
    "        \n",
    "        row = [group[0],'en',sum(group[1]['n_e_retrieved'])]\n",
    "        writer.writerow(row)\n",
    "        \n",
    "    for group in nl_df.groupby('lemma'):\n",
    "        \n",
    "        row = [group[0],'nl',sum(group[1]['n_e_retrieved'])]\n",
    "        writer.writerow(row)"
   ]
  },
  {
   "cell_type": "markdown",
   "metadata": {},
   "source": [
    "#### 3. N entities after proper names filtering by all terms"
   ]
  },
  {
   "cell_type": "code",
   "execution_count": null,
   "metadata": {},
   "outputs": [],
   "source": [
    "n_entities_filtered_en = {}\n",
    "for term, results in results_en.items():\n",
    "    n_entities_filtered_en[term] = len(set([hit['QID'] for hit in results]))"
   ]
  },
  {
   "cell_type": "code",
   "execution_count": null,
   "metadata": {},
   "outputs": [],
   "source": [
    "n_entities_filtered_nl = {}\n",
    "for term, results in results_nl.items():\n",
    "    n_entities_filtered_nl[term] = len(set([hit['QID'] for hit in results]))"
   ]
  },
  {
   "cell_type": "code",
   "execution_count": null,
   "metadata": {},
   "outputs": [],
   "source": [
    "with open('n_entities_clean_by_term.csv','w') as csv_file:\n",
    "    writer = csv.writer(csv_file)\n",
    "    header = ['lemma','term','lang','e_clean']\n",
    "    writer.writerow(header)\n",
    "    \n",
    "    for query_term, e in n_entities_filtered_en.items():\n",
    "        # getting a lemma of the query term\n",
    "        for l, wordforms in query_terms['en'].items():\n",
    "            if query_term in wordforms:\n",
    "                lemma = l\n",
    "        row = [lemma,query_term,'en',e]\n",
    "        writer.writerow(row)\n",
    "        \n",
    "    for query_term, e in n_entities_filtered_nl.items():\n",
    "        # getting a lemma of the query term\n",
    "        for l, wordforms in query_terms['nl'].items():\n",
    "            if query_term in wordforms:\n",
    "                lemma = l\n",
    "        row = [lemma,query_term,'nl',e]\n",
    "        writer.writerow(row)"
   ]
  },
  {
   "cell_type": "markdown",
   "metadata": {},
   "source": [
    "#### 4. N entities after proper names filtering by terms' canonical forms"
   ]
  },
  {
   "cell_type": "code",
   "execution_count": null,
   "metadata": {},
   "outputs": [],
   "source": [
    "df = pd.read_csv('n_entities_clean_by_term.csv')\n",
    "# lemmas are not unique in 2 lang, making seaprate dfs by lang\n",
    "en_df = df.loc[df['lang'] == 'en']\n",
    "nl_df = df.loc[df['lang'] == 'nl']"
   ]
  },
  {
   "cell_type": "code",
   "execution_count": null,
   "metadata": {},
   "outputs": [],
   "source": [
    "with open('n_entities_clean_by_lemma.csv','w') as csv_file:\n",
    "    writer = csv.writer(csv_file)\n",
    "    header = ['lemma','lang','e_clean']\n",
    "    writer.writerow(header)\n",
    "\n",
    "    for group in en_df.groupby('lemma'):\n",
    "        \n",
    "        row = [group[0],'en',sum(group[1]['e_clean'])]\n",
    "        writer.writerow(row)\n",
    "        \n",
    "    for group in nl_df.groupby('lemma'):\n",
    "        \n",
    "        row = [group[0],'nl',sum(group[1]['e_clean'])]\n",
    "        writer.writerow(row)"
   ]
  },
  {
   "cell_type": "markdown",
   "metadata": {},
   "source": [
    "#### 5. N hits (occurences) by all terms\n",
    "Count N of occurences of query terms in prefLabel, aliases, and description;\n",
    "\n",
    "The json files with results are gzipped on GitHub with the prefix \"gzip_\""
   ]
  },
  {
   "cell_type": "code",
   "execution_count": null,
   "metadata": {},
   "outputs": [],
   "source": [
    "# EN\n",
    "n_query_terms = wd.get_n_hits_by_properties('results_clean_en.json','en')\n",
    "n_query_terms.to_csv(\"n_hits_by_term_en.csv\")"
   ]
  },
  {
   "cell_type": "code",
   "execution_count": null,
   "metadata": {},
   "outputs": [],
   "source": [
    "# NL\n",
    "n_query_terms_nl = wd.get_n_hits_by_properties('results_clean_nl.json','nl')\n",
    "n_query_terms_nl.to_csv(\"n_hits_by_term_nl.csv\")"
   ]
  },
  {
   "cell_type": "markdown",
   "metadata": {},
   "source": [
    "#### 6. N hits (occurences) by terms' canonical forms"
   ]
  },
  {
   "cell_type": "code",
   "execution_count": null,
   "metadata": {},
   "outputs": [],
   "source": [
    "# EN\n",
    "n_lemmas = wd.get_n_hits_by_properties('results_clean_en.json','en',group_by_lemma=True)\n",
    "n_lemmas.to_csv(\"n_hits_by_lemma_en.csv\")"
   ]
  },
  {
   "cell_type": "code",
   "execution_count": null,
   "metadata": {},
   "outputs": [],
   "source": [
    "# NL\n",
    "n_lemmas_nl = wd.get_n_hits_by_properties('results_clean_nl.json','nl',group_by_lemma=True)\n",
    "n_lemmas_nl.to_csv(\"n_hits_by_lemma_nl.csv\")"
   ]
  },
  {
   "cell_type": "code",
   "execution_count": null,
   "metadata": {},
   "outputs": [],
   "source": []
  }
 ],
 "metadata": {
  "kernelspec": {
   "display_name": "Python 3",
   "language": "python",
   "name": "python3"
  },
  "language_info": {
   "codemirror_mode": {
    "name": "ipython",
    "version": 3
   },
   "file_extension": ".py",
   "mimetype": "text/x-python",
   "name": "python",
   "nbconvert_exporter": "python",
   "pygments_lexer": "ipython3",
   "version": "3.8.5"
  }
 },
 "nbformat": 4,
 "nbformat_minor": 4
}
