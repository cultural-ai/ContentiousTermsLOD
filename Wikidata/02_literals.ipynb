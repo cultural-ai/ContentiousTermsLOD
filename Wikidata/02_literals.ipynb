{
 "cells": [
  {
   "cell_type": "markdown",
   "metadata": {},
   "source": [
    "## 1. Getting labels, aliases, descriptions of the found entities"
   ]
  },
  {
   "cell_type": "code",
   "execution_count": null,
   "metadata": {},
   "outputs": [],
   "source": [
    "import json\n",
    "from LODlit import wd"
   ]
  },
  {
   "cell_type": "code",
   "execution_count": null,
   "metadata": {},
   "outputs": [],
   "source": [
    "user_agent = \"Bot searching for entities and getting their labels, aliases, and descriptions (nesterov@cwi.nl)\""
   ]
  },
  {
   "cell_type": "code",
   "execution_count": null,
   "metadata": {},
   "outputs": [],
   "source": [
    "# importing query terms\n",
    "with open(\"/LODlit/query_terms.json\",\"r\") as jf:\n",
    "    query_terms = json.load(jf)"
   ]
  },
  {
   "cell_type": "code",
   "execution_count": null,
   "metadata": {},
   "outputs": [],
   "source": [
    "en_query_terms = []\n",
    "for lemma, wordforms in query_terms['en'].items():\n",
    "    en_query_terms.extend(wordforms)"
   ]
  },
  {
   "cell_type": "code",
   "execution_count": null,
   "metadata": {},
   "outputs": [],
   "source": [
    "nl_query_terms = []\n",
    "for lemma, wordforms in query_terms['nl'].items():\n",
    "    nl_query_terms.extend(wordforms)"
   ]
  },
  {
   "cell_type": "code",
   "execution_count": null,
   "metadata": {},
   "outputs": [],
   "source": [
    "# importing statements to filter out\n",
    "with open(\"statements_filter.json\",\"r\") as jf:\n",
    "    statements_filter = json.load(jf)"
   ]
  },
  {
   "cell_type": "code",
   "execution_count": null,
   "metadata": {},
   "outputs": [],
   "source": [
    "# creating a list of tuples with statements to filter out\n",
    "statements = []\n",
    "for s in statements_filter.keys():\n",
    "    statements.extend([('P31',s),('P279',s)])"
   ]
  },
  {
   "cell_type": "code",
   "execution_count": null,
   "metadata": {},
   "outputs": [],
   "source": [
    "# requesting EN\n",
    "literals_en = {}\n",
    "keywords_en = ['scientific','scholarly','article']\n",
    "for query_term in en_query_terms:\n",
    "    lits_per_term = wd.get_lit_by_term(query_term,'en',user_agent,keywords_en,statements)\n",
    "    literals_en.update(lits_per_term)"
   ]
  },
  {
   "cell_type": "code",
   "execution_count": null,
   "metadata": {},
   "outputs": [],
   "source": [
    "# exporting EN search results\n",
    "with open('search_results_en.json', 'w') as jf:\n",
    "    json.dump(literals_en, jf)"
   ]
  },
  {
   "cell_type": "code",
   "execution_count": null,
   "metadata": {},
   "outputs": [],
   "source": [
    "# requesting NL\n",
    "literals_nl = {}\n",
    "keywords_nl = ['wetenschappelijk','artikel']\n",
    "for query_term in nl_query_terms:\n",
    "    lits_per_term = wd.get_lit_by_term(query_term,'nl',user_agent,keywords_nl,statements)\n",
    "    literals_nl.update(lits_per_term)\n",
    "    print(query_term)"
   ]
  },
  {
   "cell_type": "code",
   "execution_count": null,
   "metadata": {},
   "outputs": [],
   "source": [
    "# exporting NL search results\n",
    "with open('search_results_nl.json', 'w') as jf:\n",
    "    json.dump(literals_nl, jf)"
   ]
  },
  {
   "cell_type": "markdown",
   "metadata": {},
   "source": [
    "## 2. Finding where query terms appear\n",
    "– This step filters out entities in literal values of which (label, aliases, description) no query terms were found"
   ]
  },
  {
   "cell_type": "code",
   "execution_count": null,
   "metadata": {},
   "outputs": [],
   "source": [
    "# EN\n",
    "path_to_query_results_en = 'search_results_en.json'\n",
    "terms_found_en = wd.find_where_query_term_appears(path_to_query_results_en,'en')"
   ]
  },
  {
   "cell_type": "code",
   "execution_count": null,
   "metadata": {},
   "outputs": [],
   "source": [
    "# exporting EN file\n",
    "with open('terms_found_en.json', 'w') as jf:\n",
    "    json.dump(terms_found_en, jf)"
   ]
  },
  {
   "cell_type": "code",
   "execution_count": null,
   "metadata": {},
   "outputs": [],
   "source": [
    "# NL\n",
    "path_to_query_results_nl = 'search_results_nl.json'\n",
    "terms_found_nl = wd.find_where_query_term_appears(path_to_query_results_nl,'nl')"
   ]
  },
  {
   "cell_type": "code",
   "execution_count": null,
   "metadata": {},
   "outputs": [],
   "source": [
    "# exporting NL file\n",
    "with open('terms_found_nl.json', 'w') as jf:\n",
    "    json.dump(terms_found_nl, jf)"
   ]
  }
 ],
 "metadata": {
  "kernelspec": {
   "display_name": "Python 3 (ipykernel)",
   "language": "python",
   "name": "python3"
  },
  "language_info": {
   "codemirror_mode": {
    "name": "ipython",
    "version": 3
   },
   "file_extension": ".py",
   "mimetype": "text/x-python",
   "name": "python",
   "nbconvert_exporter": "python",
   "pygments_lexer": "ipython3",
   "version": "3.8.5"
  }
 },
 "nbformat": 4,
 "nbformat_minor": 4
}
