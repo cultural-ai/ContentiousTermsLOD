{
 "cells": [
  {
   "cell_type": "markdown",
   "metadata": {},
   "source": [
    "## Getting claims of the found entities"
   ]
  },
  {
   "cell_type": "code",
   "execution_count": null,
   "metadata": {},
   "outputs": [],
   "source": [
    "import json\n",
    "from LODlit import wd"
   ]
  },
  {
   "cell_type": "code",
   "execution_count": null,
   "metadata": {},
   "outputs": [],
   "source": [
    "# importing the search results\n",
    "with open(\"terms_found_en.json\",\"r\") as jf:\n",
    "    entities_en = json.load(jf)\n",
    "with open(\"terms_found_nl.json\",\"r\") as jf:\n",
    "    entities_nl = json.load(jf)"
   ]
  },
  {
   "cell_type": "code",
   "execution_count": null,
   "metadata": {},
   "outputs": [],
   "source": [
    "# take Qs from the 'terms found' results\n",
    "# putting all unique QIDs in a list\n",
    "\n",
    "qids = []\n",
    "\n",
    "for term, values in entities_en.items():\n",
    "    for v in values:\n",
    "        qids.append(v[\"QID\"])\n",
    "        \n",
    "for term, values in entities_nl.items():\n",
    "    for v in values:\n",
    "        qids.append(v[\"QID\"])\n",
    "        \n",
    "# taking only unique QIDs         \n",
    "unique_qids = list(set(qids))"
   ]
  },
  {
   "cell_type": "code",
   "execution_count": null,
   "metadata": {},
   "outputs": [],
   "source": [
    "user_agent = \"Bot getting claims of entities (nesterov@cwi.nl)\"\n",
    "props = ['P31','P279']\n",
    "path = '/Users/anesterov/wd/jan31/claims/'"
   ]
  },
  {
   "cell_type": "code",
   "execution_count": null,
   "metadata": {},
   "outputs": [],
   "source": [
    "# all claims are saved in batches\n",
    "wd.get_claims(unique_qids,props,user_agent,path)"
   ]
  },
  {
   "cell_type": "code",
   "execution_count": null,
   "metadata": {},
   "outputs": [],
   "source": [
    "# Merging all claims in one file\n",
    "dir_path = '/Users/anesterov/wd/jan31/claims'\n",
    "claims_paths = [join(dir_path, f) for f in listdir(dir_path) if isfile(join(dir_path,f)) and f.endswith('.json')]"
   ]
  },
  {
   "cell_type": "code",
   "execution_count": null,
   "metadata": {},
   "outputs": [],
   "source": [
    "all_claims = {}\n",
    "for file in claims_paths:\n",
    "    with open(file, \"r\") as jf:\n",
    "        claims = json.load(jf)\n",
    "        all_claims.update(claims)"
   ]
  },
  {
   "cell_type": "code",
   "execution_count": null,
   "metadata": {},
   "outputs": [],
   "source": [
    "# saving all claims in one file\n",
    "with open(\"/Users/anesterov/wd/jan31/claims/all_claims.json\", \"w\") as f:\n",
    "    json.dump(all_claims,f)"
   ]
  },
  {
   "cell_type": "markdown",
   "metadata": {},
   "source": [
    "## Getting labels of the property values"
   ]
  },
  {
   "cell_type": "code",
   "execution_count": null,
   "metadata": {},
   "outputs": [],
   "source": [
    "# Getting unique value IDs of P31 and P279 from all claims\n",
    "values_ids = []\n",
    "for properties in all_claims.values():\n",
    "    values_ids.extend(properties['P31'].keys())\n",
    "    values_ids.extend(properties['P279'].keys())"
   ]
  },
  {
   "cell_type": "code",
   "execution_count": null,
   "metadata": {},
   "outputs": [],
   "source": [
    "unique_values_ids = list(set(values_ids))"
   ]
  },
  {
   "cell_type": "code",
   "execution_count": null,
   "metadata": {
    "scrolled": true
   },
   "outputs": [],
   "source": [
    "len(unique_values_ids)"
   ]
  },
  {
   "cell_type": "code",
   "execution_count": null,
   "metadata": {},
   "outputs": [],
   "source": [
    "user_agent = \"bot getting labels of entities (nesterov@cwi.nl)\"\n",
    "langs = ['en','nl']"
   ]
  },
  {
   "cell_type": "code",
   "execution_count": null,
   "metadata": {},
   "outputs": [],
   "source": [
    "# Returns a dict: {\"labels\":dict with labels by lang,\"failed\":list of QIDs that were failed}\n",
    "labels = wd.get_labels_by_q(unique_values_ids,langs,user_agent)"
   ]
  },
  {
   "cell_type": "code",
   "execution_count": null,
   "metadata": {},
   "outputs": [],
   "source": [
    "# checking if there are failed entities\n",
    "len(labels['failed'])"
   ]
  },
  {
   "cell_type": "code",
   "execution_count": null,
   "metadata": {},
   "outputs": [],
   "source": [
    "# exporting labels\n",
    "with open(\"/Users/anesterov/wd/jan31/labels_property_values.json\", \"w\") as f:\n",
    "    json.dump(labels['labels'],f)"
   ]
  },
  {
   "cell_type": "markdown",
   "metadata": {},
   "source": [
    "## Merging claims with property values labels"
   ]
  },
  {
   "cell_type": "code",
   "execution_count": null,
   "metadata": {},
   "outputs": [],
   "source": [
    "# it overwrites all_claims\n",
    "for claims in all_claims.values():\n",
    "    for k in claims['P31'].keys():\n",
    "        claims['P31'][k] = labels['labels'].get(k)\n",
    "    for k in claims['P279'].keys():\n",
    "        claims['P279'][k] = labels['labels'].get(k)"
   ]
  },
  {
   "cell_type": "code",
   "execution_count": null,
   "metadata": {},
   "outputs": [],
   "source": [
    "# saving all claims with labels (languge independent)\n",
    "with open(\"/Users/anesterov/wd/jan31/all_claims_with_labels.json\", \"w\") as f:\n",
    "    json.dump(all_claims,f)"
   ]
  }
 ],
 "metadata": {
  "kernelspec": {
   "display_name": "Python 3 (ipykernel)",
   "language": "python",
   "name": "python3"
  },
  "language_info": {
   "codemirror_mode": {
    "name": "ipython",
    "version": 3
   },
   "file_extension": ".py",
   "mimetype": "text/x-python",
   "name": "python",
   "nbconvert_exporter": "python",
   "pygments_lexer": "ipython3",
   "version": "3.8.5"
  }
 },
 "nbformat": 4,
 "nbformat_minor": 4
}
