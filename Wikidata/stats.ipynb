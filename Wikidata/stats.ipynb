{
 "cells": [
  {
   "cell_type": "code",
   "execution_count": null,
   "metadata": {},
   "outputs": [],
   "source": [
    "import json\n",
    "import csv\n",
    "import pandas as pd"
   ]
  },
  {
   "cell_type": "code",
   "execution_count": null,
   "metadata": {},
   "outputs": [],
   "source": [
    "# importing the clean results\n",
    "with open('/Users/anesterov/wd/jan31/results_clean_en.json','r') as jf:\n",
    "    results_en = json.load(jf)\n",
    "with open('/Users/anesterov/wd/jan31/results_clean_nl.json','r') as jf:\n",
    "    results_nl = json.load(jf)"
   ]
  },
  {
   "cell_type": "markdown",
   "metadata": {},
   "source": [
    "### 1. Hits filter_proper_names (clean results)\n",
    "count QIDs per term"
   ]
  },
  {
   "cell_type": "code",
   "execution_count": null,
   "metadata": {},
   "outputs": [],
   "source": [
    "count_q_en = {}\n",
    "for term, results in results_en.items():\n",
    "    count_q_en[term] = len(set([hit['QID'] for hit in results]))"
   ]
  },
  {
   "cell_type": "code",
   "execution_count": null,
   "metadata": {},
   "outputs": [],
   "source": [
    "count_q_nl = {}\n",
    "for term, results in results_nl.items():\n",
    "    count_q_nl[term] = len(set([hit['QID'] for hit in results]))"
   ]
  },
  {
   "cell_type": "code",
   "execution_count": null,
   "metadata": {},
   "outputs": [],
   "source": [
    "with open('hits_clean.csv','w') as csv_file:\n",
    "    writer = csv.writer(csv_file)\n",
    "    header = ['term','lang','hits_clean']\n",
    "    writer.writerow(header)\n",
    "    \n",
    "    for query_term, hits in count_q_en.items():\n",
    "        row = [query_term,'en',hits]\n",
    "        writer.writerow(row)\n",
    "    for query_term, hits in count_q_nl.items():\n",
    "        row = [query_term,'nl',hits]\n",
    "        writer.writerow(row)"
   ]
  },
  {
   "cell_type": "markdown",
   "metadata": {},
   "source": [
    "### 2. Where terms are found\n",
    "query_term, wd_prefLabel, wd_aliases, wd_description"
   ]
  },
  {
   "cell_type": "code",
   "execution_count": null,
   "metadata": {},
   "outputs": [],
   "source": [
    "# EN\n",
    "\n",
    "wd_where_terms_found_en = {}\n",
    "\n",
    "for term, results in results_en.items():\n",
    "    pref = 0\n",
    "    alias = 0\n",
    "    descr = 0\n",
    "    for hit in results:\n",
    "        if hit['found_in'] == 'prefLabel':\n",
    "            pref += 1\n",
    "        if hit['found_in'] == 'aliases':\n",
    "            alias += 1\n",
    "        if hit['found_in'] == 'description':\n",
    "            descr += 1\n",
    "            \n",
    "    wd_where_terms_found_en[term] = [pref,alias,descr]"
   ]
  },
  {
   "cell_type": "code",
   "execution_count": null,
   "metadata": {},
   "outputs": [],
   "source": [
    "# NL\n",
    "\n",
    "wd_where_terms_found_nl = {}\n",
    "\n",
    "for term, results in results_nl.items():\n",
    "    pref = 0\n",
    "    alias = 0\n",
    "    descr = 0\n",
    "    for hit in results:\n",
    "        if hit['found_in'] == 'prefLabel':\n",
    "            pref += 1\n",
    "        if hit['found_in'] == 'aliases':\n",
    "            alias += 1\n",
    "        if hit['found_in'] == 'description':\n",
    "            descr += 1\n",
    "            \n",
    "    wd_where_terms_found_nl[term] = [pref,alias,descr]"
   ]
  },
  {
   "cell_type": "code",
   "execution_count": null,
   "metadata": {},
   "outputs": [],
   "source": [
    "# importing query terms to get lemmas\n",
    "with open('/Users/anesterov/reps/LODlit/query_terms.json','r') as jf:\n",
    "    query_terms = json.load(jf)"
   ]
  },
  {
   "cell_type": "code",
   "execution_count": null,
   "metadata": {},
   "outputs": [],
   "source": [
    "# exporting a csv of where terms are found\n",
    "\n",
    "with open('wd_where_terms_found.csv','w') as csv_file:\n",
    "    writer = csv.writer(csv_file)\n",
    "    header = ['lemma','term','lang','wd_prefLabel','wd_aliases','wd_description','total']\n",
    "    writer.writerow(header)\n",
    "    \n",
    "    for term, stats in wd_where_terms_found_en.items():\n",
    "        for l, wordforms in query_terms['en'].items():\n",
    "            if term in wordforms:\n",
    "                lemma = l\n",
    "        row = [lemma, term, 'en', stats[0], stats[1], stats[2], sum(stats)]\n",
    "        writer.writerow(row)\n",
    "        \n",
    "    for term, stats in wd_where_terms_found_nl.items():\n",
    "        for l, wordforms in query_terms['nl'].items():\n",
    "            if term in wordforms:\n",
    "                lemma = l\n",
    "        row = [lemma, term, 'nl', stats[0], stats[1], stats[2], sum(stats)]\n",
    "        writer.writerow(row)"
   ]
  },
  {
   "cell_type": "code",
   "execution_count": null,
   "metadata": {},
   "outputs": [],
   "source": [
    "# grouping N hits by lemmas\n",
    "df = pd.read_csv('wd_where_terms_found.csv')\n",
    "en_df = df.loc[df['lang'] == 'en']\n",
    "nl_df = df.loc[df['lang'] == 'nl']"
   ]
  },
  {
   "cell_type": "code",
   "execution_count": null,
   "metadata": {},
   "outputs": [],
   "source": [
    "# exporting a csv with stats by lemma\n",
    "\n",
    "with open('wd_stats_lemma.csv','w') as csv_file:\n",
    "    writer = csv.writer(csv_file)\n",
    "    header = ['lemma','lang','wd_pref_lemma','wd_aliases_lemma','wd_desc_lemma','total_lemma']\n",
    "    writer.writerow(header)\n",
    "\n",
    "    for group in en_df.groupby('lemma'):\n",
    "        \n",
    "        row = [group[0],'en',sum(group[1]['wd_prefLabel']),sum(group[1]['wd_aliases']),\\\n",
    "              sum(group[1]['wd_description']),sum(group[1]['total'])]\n",
    "        \n",
    "        writer.writerow(row)\n",
    "        \n",
    "    for group in nl_df.groupby('lemma'):\n",
    "        \n",
    "        row = [group[0],'nl',sum(group[1]['wd_prefLabel']),sum(group[1]['wd_aliases']),\\\n",
    "              sum(group[1]['wd_description']),sum(group[1]['total'])]\n",
    "        \n",
    "        writer.writerow(row)"
   ]
  },
  {
   "cell_type": "code",
   "execution_count": null,
   "metadata": {},
   "outputs": [],
   "source": []
  }
 ],
 "metadata": {
  "kernelspec": {
   "display_name": "Python 3",
   "language": "python",
   "name": "python3"
  },
  "language_info": {
   "codemirror_mode": {
    "name": "ipython",
    "version": 3
   },
   "file_extension": ".py",
   "mimetype": "text/x-python",
   "name": "python",
   "nbconvert_exporter": "python",
   "pygments_lexer": "ipython3",
   "version": "3.8.5"
  }
 },
 "nbformat": 4,
 "nbformat_minor": 4
}
