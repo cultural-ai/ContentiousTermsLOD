{
 "cells": [
  {
   "cell_type": "code",
   "execution_count": 1,
   "metadata": {},
   "outputs": [],
   "source": [
    "import json\n",
    "import csv\n",
    "import requests\n",
    "import io\n",
    "import time\n",
    "import zipfile\n",
    "import re"
   ]
  },
  {
   "cell_type": "code",
   "execution_count": 2,
   "metadata": {},
   "outputs": [],
   "source": [
    "# importing manually added terms\n",
    "with open('/Users/anesterov/reps/LODlit/wordforms_added_manually.json','r') as jf:\n",
    "    added_manually = json.load(jf)"
   ]
  },
  {
   "cell_type": "code",
   "execution_count": 9,
   "metadata": {},
   "outputs": [],
   "source": [
    "# a list of EN terms\n",
    "added_manually_en = []\n",
    "for key,value in added_manually['en'].items():\n",
    "    added_manually_en.extend(value)\n",
    "    \n",
    "# a list of NL terms\n",
    "added_manually_nl = []\n",
    "for key,value in added_manually['nl'].items():\n",
    "    added_manually_nl.extend(value)"
   ]
  },
  {
   "cell_type": "markdown",
   "metadata": {},
   "source": [
    "### Querying EN terms"
   ]
  },
  {
   "cell_type": "code",
   "execution_count": 12,
   "metadata": {},
   "outputs": [],
   "source": [
    "# 'query' with 'search' generator: constant params\n",
    "url = \"https://www.wikidata.org/w/api.php\"\n",
    "params_en = {\"action\":\"query\",\n",
    "          \"prop\":\"entityterms\",\n",
    "          \"wbetlanguage\":\"en\", # English\n",
    "          \"generator\":\"search\",\n",
    "          \"gsrsearch\":'', # term goes here (quotes for stemming off)\n",
    "          \"gsrlimit\":\"1\", # getting all results\n",
    "          \"gsrinfo\":\"totalhits\",\n",
    "          \"format\":\"json\"}\n",
    "headers = {\"user-agent\":\"counting hits of terms (CWI; Human-Centered Data Analytics; nesterov@cwi.nl)\"}"
   ]
  },
  {
   "cell_type": "code",
   "execution_count": 13,
   "metadata": {},
   "outputs": [
    {
     "name": "stdout",
     "output_type": "stream",
     "text": [
      "allochtoons 1\n",
      "bush negros 0\n",
      "bush negroes 5\n",
      "developing nation 126\n",
      "ethnic group 4942\n",
      "ethnicities 377\n",
      "footman 133\n",
      "gypsies 424\n",
      "handicaps 906\n",
      "indos 26\n",
      "low-income country 278\n",
      "metis 708\n"
     ]
    }
   ],
   "source": [
    "# iterating over the list of terms\n",
    "# updating the 'srsearch' param\n",
    "\n",
    "for term in added_manually_en:\n",
    "    params_en[\"gsrsearch\"] = f'\"{term}\"'\n",
    "    r = requests.get(url,params=params_en,headers=headers)\n",
    "    hits = r.json()['query']['searchinfo']['totalhits']\n",
    "    print(term,hits)"
   ]
  },
  {
   "cell_type": "markdown",
   "metadata": {},
   "source": [
    "### Querying NL terms"
   ]
  },
  {
   "cell_type": "code",
   "execution_count": 14,
   "metadata": {},
   "outputs": [],
   "source": [
    "# 'query' with 'search' generator: constant params\n",
    "url = \"https://www.wikidata.org/w/api.php\"\n",
    "params_nl = {\"action\":\"query\",\n",
    "          \"prop\":\"entityterms\",\n",
    "          \"wbetlanguage\":\"nl\", # Dutch\n",
    "          \"generator\":\"search\",\n",
    "          \"gsrsearch\":'', # term goes here (quotes for stemming off)\n",
    "          \"gsrlimit\":\"1\", # getting all results\n",
    "          \"gsrinfo\":\"totalhits\",\n",
    "          \"format\":\"json\"} \n",
    "headers = {\"user-agent\":\"bot counting hits of terms (CWI; Human-Centered Data Analytics; nesterov@cwi.nl)\"}"
   ]
  },
  {
   "cell_type": "code",
   "execution_count": 15,
   "metadata": {},
   "outputs": [
    {
     "name": "stdout",
     "output_type": "stream",
     "text": [
      "achterlijkheid 0\n",
      "achterlijken 0\n",
      "etnische groepen 8\n",
      "indiaans 11\n",
      "metis 708\n",
      "mongools 80\n",
      "moors 1058\n",
      "politionele acties 1\n",
      "blanken 416\n"
     ]
    }
   ],
   "source": [
    "# iterating over the list of terms\n",
    "# updating the 'srsearch' param\n",
    "\n",
    "for term in added_manually_nl:\n",
    "    params_nl[\"gsrsearch\"] = f'\"{term}\"'\n",
    "    r = requests.get(url,params=params_nl,headers=headers)\n",
    "    hits = r.json()['query']['searchinfo']['totalhits']\n",
    "    print(term,hits)"
   ]
  },
  {
   "cell_type": "code",
   "execution_count": null,
   "metadata": {},
   "outputs": [],
   "source": []
  }
 ],
 "metadata": {
  "kernelspec": {
   "display_name": "Python 3",
   "language": "python",
   "name": "python3"
  },
  "language_info": {
   "codemirror_mode": {
    "name": "ipython",
    "version": 3
   },
   "file_extension": ".py",
   "mimetype": "text/x-python",
   "name": "python",
   "nbconvert_exporter": "python",
   "pygments_lexer": "ipython3",
   "version": "3.8.5"
  }
 },
 "nbformat": 4,
 "nbformat_minor": 4
}
