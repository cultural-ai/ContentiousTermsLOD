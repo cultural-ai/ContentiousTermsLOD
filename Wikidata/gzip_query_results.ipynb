{
 "cells": [
  {
   "cell_type": "code",
   "execution_count": 1,
   "metadata": {},
   "outputs": [],
   "source": [
    "import gzip\n",
    "import json"
   ]
  },
  {
   "cell_type": "code",
   "execution_count": 12,
   "metadata": {},
   "outputs": [],
   "source": [
    "def gzip_files(path_to_json:str, path_to_save:str) -> str:\n",
    "    '''\n",
    "    Compressing json files with query results\n",
    "    path_to_json: str, a path to uncompressed json\n",
    "    path_to_save: str, a path where to save compressed file (with no '/' at the end)\n",
    "    Return a status str \"File is saved\"\n",
    "    Dependencies: json, gzip\n",
    "    '''\n",
    "    \n",
    "    filename = f\"gzip_{path_to_json.split('/')[-1]}\"\n",
    "    path_to_save_filename = f\"{path_to_save}/{filename}\"\n",
    "    \n",
    "    with open(path_to_json,'r') as jf:\n",
    "        json_uncompressed = json.load(jf)\n",
    "        \n",
    "    with gzip.open(path_to_save_filename, 'w') as gzip_out:\n",
    "        gzip_out.write(json.dumps(json_uncompressed).encode('utf-8'))\n",
    "        \n",
    "    return \"File is saved\""
   ]
  },
  {
   "cell_type": "markdown",
   "metadata": {},
   "source": [
    "## 1. Search results (EN,NL)"
   ]
  },
  {
   "cell_type": "code",
   "execution_count": 13,
   "metadata": {},
   "outputs": [
    {
     "data": {
      "text/plain": [
       "'File is saved'"
      ]
     },
     "execution_count": 13,
     "metadata": {},
     "output_type": "execute_result"
    }
   ],
   "source": [
    "gzip_files('/Users/anesterov/wd/jan31/search_results_en.json','/Users/anesterov/reps/LODlit/Wikidata')"
   ]
  },
  {
   "cell_type": "code",
   "execution_count": 14,
   "metadata": {},
   "outputs": [
    {
     "data": {
      "text/plain": [
       "'File is saved'"
      ]
     },
     "execution_count": 14,
     "metadata": {},
     "output_type": "execute_result"
    }
   ],
   "source": [
    "gzip_files('/Users/anesterov/wd/jan31/search_results_nl.json','/Users/anesterov/reps/LODlit/Wikidata')"
   ]
  },
  {
   "cell_type": "markdown",
   "metadata": {},
   "source": [
    "## 2. Terms found (EN,NL)"
   ]
  },
  {
   "cell_type": "code",
   "execution_count": 15,
   "metadata": {},
   "outputs": [
    {
     "data": {
      "text/plain": [
       "'File is saved'"
      ]
     },
     "execution_count": 15,
     "metadata": {},
     "output_type": "execute_result"
    }
   ],
   "source": [
    "gzip_files('/Users/anesterov/wd/jan31/terms_found_en.json','/Users/anesterov/reps/LODlit/Wikidata')"
   ]
  },
  {
   "cell_type": "code",
   "execution_count": 16,
   "metadata": {},
   "outputs": [
    {
     "data": {
      "text/plain": [
       "'File is saved'"
      ]
     },
     "execution_count": 16,
     "metadata": {},
     "output_type": "execute_result"
    }
   ],
   "source": [
    "gzip_files('/Users/anesterov/wd/jan31/terms_found_nl.json','/Users/anesterov/reps/LODlit/Wikidata')"
   ]
  },
  {
   "cell_type": "markdown",
   "metadata": {},
   "source": [
    "## 3. Claims\n",
    "all claims, labels of property values, all claims with labels"
   ]
  },
  {
   "cell_type": "code",
   "execution_count": 17,
   "metadata": {},
   "outputs": [
    {
     "data": {
      "text/plain": [
       "'File is saved'"
      ]
     },
     "execution_count": 17,
     "metadata": {},
     "output_type": "execute_result"
    }
   ],
   "source": [
    "gzip_files('/Users/anesterov/wd/jan31/all_claims.json','/Users/anesterov/reps/LODlit/Wikidata')"
   ]
  },
  {
   "cell_type": "code",
   "execution_count": 18,
   "metadata": {},
   "outputs": [
    {
     "data": {
      "text/plain": [
       "'File is saved'"
      ]
     },
     "execution_count": 18,
     "metadata": {},
     "output_type": "execute_result"
    }
   ],
   "source": [
    "gzip_files('/Users/anesterov/wd/jan31/labels_property_values.json','/Users/anesterov/reps/LODlit/Wikidata')"
   ]
  },
  {
   "cell_type": "code",
   "execution_count": 19,
   "metadata": {},
   "outputs": [
    {
     "data": {
      "text/plain": [
       "'File is saved'"
      ]
     },
     "execution_count": 19,
     "metadata": {},
     "output_type": "execute_result"
    }
   ],
   "source": [
    "gzip_files('/Users/anesterov/wd/jan31/all_claims_with_labels.json','/Users/anesterov/reps/LODlit/Wikidata')"
   ]
  },
  {
   "cell_type": "markdown",
   "metadata": {},
   "source": [
    "## 4. Results with claims (EN,NL)"
   ]
  },
  {
   "cell_type": "code",
   "execution_count": 20,
   "metadata": {},
   "outputs": [
    {
     "data": {
      "text/plain": [
       "'File is saved'"
      ]
     },
     "execution_count": 20,
     "metadata": {},
     "output_type": "execute_result"
    }
   ],
   "source": [
    "gzip_files('/Users/anesterov/wd/jan31/results_with_claims_en.json','/Users/anesterov/reps/LODlit/Wikidata')"
   ]
  },
  {
   "cell_type": "code",
   "execution_count": 21,
   "metadata": {},
   "outputs": [
    {
     "data": {
      "text/plain": [
       "'File is saved'"
      ]
     },
     "execution_count": 21,
     "metadata": {},
     "output_type": "execute_result"
    }
   ],
   "source": [
    "gzip_files('/Users/anesterov/wd/jan31/results_with_claims_nl.json','/Users/anesterov/reps/LODlit/Wikidata')"
   ]
  },
  {
   "cell_type": "markdown",
   "metadata": {},
   "source": [
    "## 5. Clean results (EN,NL)"
   ]
  },
  {
   "cell_type": "code",
   "execution_count": 22,
   "metadata": {},
   "outputs": [
    {
     "data": {
      "text/plain": [
       "'File is saved'"
      ]
     },
     "execution_count": 22,
     "metadata": {},
     "output_type": "execute_result"
    }
   ],
   "source": [
    "gzip_files('/Users/anesterov/wd/jan31/results_clean_en.json','/Users/anesterov/reps/LODlit/Wikidata')"
   ]
  },
  {
   "cell_type": "code",
   "execution_count": 23,
   "metadata": {},
   "outputs": [
    {
     "data": {
      "text/plain": [
       "'File is saved'"
      ]
     },
     "execution_count": 23,
     "metadata": {},
     "output_type": "execute_result"
    }
   ],
   "source": [
    "gzip_files('/Users/anesterov/wd/jan31/results_clean_nl.json','/Users/anesterov/reps/LODlit/Wikidata')"
   ]
  },
  {
   "cell_type": "code",
   "execution_count": null,
   "metadata": {},
   "outputs": [],
   "source": []
  }
 ],
 "metadata": {
  "kernelspec": {
   "display_name": "Python 3",
   "language": "python",
   "name": "python3"
  },
  "language_info": {
   "codemirror_mode": {
    "name": "ipython",
    "version": 3
   },
   "file_extension": ".py",
   "mimetype": "text/x-python",
   "name": "python",
   "nbconvert_exporter": "python",
   "pygments_lexer": "ipython3",
   "version": "3.8.5"
  }
 },
 "nbformat": 4,
 "nbformat_minor": 4
}
