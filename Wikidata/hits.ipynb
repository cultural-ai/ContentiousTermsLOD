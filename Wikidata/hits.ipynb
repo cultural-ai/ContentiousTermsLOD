{
 "cells": [
  {
   "cell_type": "markdown",
   "metadata": {},
   "source": [
    "## Getting N of hits by term (generates 'hits.csv')\n",
    "* no filtering\n",
    "* filtering with keywords\n",
    "* filtering with keywords and statements"
   ]
  },
  {
   "cell_type": "code",
   "execution_count": null,
   "metadata": {},
   "outputs": [],
   "source": [
    "import json\n",
    "import csv"
   ]
  },
  {
   "cell_type": "code",
   "execution_count": null,
   "metadata": {},
   "outputs": [],
   "source": [
    "# Importing LODlitParser Wikidata module \n",
    "# this code is taken from\n",
    "# https://stackoverflow.com/questions/67631/how-can-i-import-a-module-dynamically-given-the-full-path\n",
    "import importlib.util\n",
    "import sys\n",
    "spec = importlib.util.spec_from_file_location(\"LODlitParser.wd\", \"/Users/anesterov/reps/LODlit/LODlitParser/wd.py\")\n",
    "wd = importlib.util.module_from_spec(spec)\n",
    "sys.modules[\"LODlitParser.wd\"] = wd\n",
    "spec.loader.exec_module(wd)"
   ]
  },
  {
   "cell_type": "code",
   "execution_count": null,
   "metadata": {},
   "outputs": [],
   "source": [
    "# importing query terms\n",
    "with open(\"/Users/anesterov/reps/LODlit/query_terms.json\",\"r\") as jf:\n",
    "    query_terms = json.load(jf)"
   ]
  },
  {
   "cell_type": "code",
   "execution_count": null,
   "metadata": {},
   "outputs": [],
   "source": [
    "en_query_terms = []\n",
    "for lemma, wordforms in query_terms['en'].items():\n",
    "    en_query_terms.extend(wordforms)\n",
    "len(en_query_terms)"
   ]
  },
  {
   "cell_type": "code",
   "execution_count": null,
   "metadata": {},
   "outputs": [],
   "source": [
    "nl_query_terms = []\n",
    "for lemma, wordforms in query_terms['nl'].items():\n",
    "    nl_query_terms.extend(wordforms)\n",
    "len(nl_query_terms)"
   ]
  },
  {
   "cell_type": "code",
   "execution_count": null,
   "metadata": {},
   "outputs": [],
   "source": [
    "user_agent = \"Bot getting N of search hits (nesterov@cwi.nl)\""
   ]
  },
  {
   "cell_type": "code",
   "execution_count": null,
   "metadata": {},
   "outputs": [],
   "source": [
    "# hits with no filter EN\n",
    "hits_en_no_filter = {}\n",
    "\n",
    "for query_term in en_query_terms:\n",
    "    hits_per_term = wd.get_search_hits(query_term,'en',user_agent)\n",
    "    hits_en_no_filter.update(hits_per_term)"
   ]
  },
  {
   "cell_type": "code",
   "execution_count": null,
   "metadata": {},
   "outputs": [],
   "source": [
    "# hits with no filter NL\n",
    "hits_nl_no_filter = {}\n",
    "\n",
    "for query_term in nl_query_terms:\n",
    "    hits_per_term = wd.get_search_hits(query_term,'nl',user_agent)\n",
    "    hits_nl_no_filter.update(hits_per_term)"
   ]
  },
  {
   "cell_type": "code",
   "execution_count": null,
   "metadata": {},
   "outputs": [],
   "source": [
    "# hits with keywords EN\n",
    "keywords_en = ['scientific','scholarly','article']\n",
    "hits_en_filter_keywords = {}\n",
    "\n",
    "for query_term in en_query_terms:\n",
    "    hits_per_term = wd.get_search_hits(query_term,'en',user_agent,keywords_en)\n",
    "    hits_en_filter_keywords.update(hits_per_term)"
   ]
  },
  {
   "cell_type": "code",
   "execution_count": null,
   "metadata": {},
   "outputs": [],
   "source": [
    "# hits with keywords NL\n",
    "keywords_nl = ['wetenschappelijk','artikel']\n",
    "hits_nl_filter_keywords = {}\n",
    "\n",
    "for query_term in nl_query_terms:\n",
    "    hits_per_term = wd.get_search_hits(query_term,'nl',user_agent,keywords_nl)\n",
    "    hits_nl_filter_keywords.update(hits_per_term)"
   ]
  },
  {
   "cell_type": "code",
   "execution_count": null,
   "metadata": {},
   "outputs": [],
   "source": [
    "# importing statements to filter out\n",
    "with open(\"/Users/anesterov/reps/LODlit/Wikidata/statements_filter.json\",\"r\") as jf:\n",
    "    statements_filter = json.load(jf)"
   ]
  },
  {
   "cell_type": "code",
   "execution_count": null,
   "metadata": {},
   "outputs": [],
   "source": [
    "# creating a list of tuples with statements to filter out\n",
    "statements = []\n",
    "for s in statements_filter.keys():\n",
    "    statements.extend([('P31',s),('P279',s)])"
   ]
  },
  {
   "cell_type": "code",
   "execution_count": null,
   "metadata": {},
   "outputs": [],
   "source": [
    "# hits with keywords and statements EN\n",
    "hits_en_filter_keywords_statements = {}\n",
    "\n",
    "for query_term in en_query_terms:\n",
    "    hits_per_term = wd.get_search_hits(query_term,'en',user_agent,keywords_en,statements)\n",
    "    hits_en_filter_keywords_statements.update(hits_per_term)"
   ]
  },
  {
   "cell_type": "code",
   "execution_count": null,
   "metadata": {},
   "outputs": [],
   "source": [
    "# hits with keywords and statements NL\n",
    "hits_nl_filter_keywords_statements = {}\n",
    "\n",
    "for query_term in nl_query_terms:\n",
    "    hits_per_term = wd.get_search_hits(query_term,'nl',user_agent,keywords_nl,statements)\n",
    "    hits_nl_filter_keywords_statements.update(hits_per_term)"
   ]
  },
  {
   "cell_type": "code",
   "execution_count": null,
   "metadata": {},
   "outputs": [],
   "source": [
    "# hits: exporting a resulting csv\n",
    "with open('hits.csv','w') as csv_file:\n",
    "    writer = csv.writer(csv_file)\n",
    "    header = [\"term\", \"lang\", \"hits_no_filter\", \"hits_filter_keywords\", \"hits_filter_keywords_statements\"]\n",
    "    writer.writerow(header)\n",
    "    for query_term in en_query_terms:\n",
    "        row = [query_term,'en',hits_en_no_filter[query_term],hits_en_filter_keywords[query_term],hits_en_filter_keywords_statements[query_term]]\n",
    "        writer.writerow(row)\n",
    "    for query_term in nl_query_terms:\n",
    "        row = [query_term,'nl',hits_nl_no_filter[query_term],hits_nl_filter_keywords[query_term],hits_nl_filter_keywords_statements[query_term]]\n",
    "        writer.writerow(row)"
   ]
  }
 ],
 "metadata": {
  "kernelspec": {
   "display_name": "Python 3",
   "language": "python",
   "name": "python3"
  },
  "language_info": {
   "codemirror_mode": {
    "name": "ipython",
    "version": 3
   },
   "file_extension": ".py",
   "mimetype": "text/x-python",
   "name": "python",
   "nbconvert_exporter": "python",
   "pygments_lexer": "ipython3",
   "version": "3.8.5"
  }
 },
 "nbformat": 4,
 "nbformat_minor": 4
}
