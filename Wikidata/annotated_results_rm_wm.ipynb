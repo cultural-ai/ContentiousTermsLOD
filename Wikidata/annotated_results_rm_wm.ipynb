{
 "cells": [
  {
   "cell_type": "code",
   "execution_count": 1,
   "metadata": {},
   "outputs": [],
   "source": [
    "import json\n",
    "import csv\n",
    "import pandas as pd\n",
    "import sys"
   ]
  },
  {
   "cell_type": "code",
   "execution_count": 2,
   "metadata": {},
   "outputs": [],
   "source": [
    "# importing Wikidata module\n",
    "sys.path.append('/Users/anesterov/reps/LODlit/LODlitParser')\n",
    "import wd"
   ]
  },
  {
   "cell_type": "code",
   "execution_count": 3,
   "metadata": {},
   "outputs": [],
   "source": [
    "with open('/Users/anesterov/wd/jan31/results_clean_en.json','r') as jf:\n",
    "    results_en = json.load(jf)"
   ]
  },
  {
   "cell_type": "code",
   "execution_count": 28,
   "metadata": {},
   "outputs": [],
   "source": [
    "def get_hit_info_by_entity_id(entity_id:str,term:str,search_results:dict) -> list:\n",
    "    '''\n",
    "    Getting Wikidata hit info (from the search results file) by entity QID\n",
    "    entity_id: str, QID, for example \"Q100341056\"\n",
    "    term: str, query term\n",
    "    Returns list of dicts\n",
    "    '''\n",
    "    hits_per_entity = []\n",
    "    \n",
    "    for hits in search_results.values():\n",
    "        for hit in hits:\n",
    "            if hit[\"QID\"] == entity_id and hit[\"query_term\"] == term:\n",
    "                hits_per_entity.append(hit)\n",
    "                \n",
    "    return hits_per_entity"
   ]
  },
  {
   "cell_type": "code",
   "execution_count": 10,
   "metadata": {},
   "outputs": [
    {
     "data": {
      "text/plain": [
       "[{'query_term': 'batavia',\n",
       "  'lang': 'en',\n",
       "  'QID': 'Q1150578',\n",
       "  'prefLabel': '1740 Batavia massacre',\n",
       "  'aliases': ['Chinezenmoord', 'Geger Pacinan'],\n",
       "  'description': ['Pogrom of ethnic Chinese in the port city of Batavia (present-day Jakarta) in the Dutch East Indies'],\n",
       "  'index': 532,\n",
       "  'found_in': 'prefLabel',\n",
       "  'instance_of': ['mass murder'],\n",
       "  'subclass_of': []},\n",
       " {'query_term': 'batavia',\n",
       "  'lang': 'en',\n",
       "  'QID': 'Q1150578',\n",
       "  'prefLabel': '1740 Batavia massacre',\n",
       "  'aliases': ['Chinezenmoord', 'Geger Pacinan'],\n",
       "  'description': 'Pogrom of ethnic Chinese in the port city of Batavia (present-day Jakarta) in the Dutch East Indies',\n",
       "  'index': 532,\n",
       "  'found_in': 'description',\n",
       "  'instance_of': ['mass murder'],\n",
       "  'subclass_of': []}]"
      ]
     },
     "execution_count": 10,
     "metadata": {},
     "output_type": "execute_result"
    }
   ],
   "source": [
    "get_hit_info_by_entity_id(\"Q1150578\",results_en)"
   ]
  },
  {
   "cell_type": "code",
   "execution_count": 19,
   "metadata": {},
   "outputs": [],
   "source": [
    "### RM"
   ]
  },
  {
   "cell_type": "code",
   "execution_count": 12,
   "metadata": {},
   "outputs": [],
   "source": [
    "annotated_rm = pd.read_csv(\"/Users/anesterov/reps/LODlit/Wikidata/annotated/wd_en_rm.csv\")"
   ]
  },
  {
   "cell_type": "code",
   "execution_count": 14,
   "metadata": {},
   "outputs": [],
   "source": [
    "annotated_rm.drop(['text_1','text_2','text_3','text_4','text_5'], axis=1, inplace=True)"
   ]
  },
  {
   "cell_type": "code",
   "execution_count": 17,
   "metadata": {},
   "outputs": [],
   "source": [
    "# taking only True values in check\n",
    "wd_en_rm_true = annotated_rm[annotated_rm.check]"
   ]
  },
  {
   "cell_type": "code",
   "execution_count": 18,
   "metadata": {},
   "outputs": [
    {
     "data": {
      "text/html": [
       "<div>\n",
       "<style scoped>\n",
       "    .dataframe tbody tr th:only-of-type {\n",
       "        vertical-align: middle;\n",
       "    }\n",
       "\n",
       "    .dataframe tbody tr th {\n",
       "        vertical-align: top;\n",
       "    }\n",
       "\n",
       "    .dataframe thead th {\n",
       "        text-align: right;\n",
       "    }\n",
       "</style>\n",
       "<table border=\"1\" class=\"dataframe\">\n",
       "  <thead>\n",
       "    <tr style=\"text-align: right;\">\n",
       "      <th></th>\n",
       "      <th>term</th>\n",
       "      <th>entity_id</th>\n",
       "      <th>check</th>\n",
       "    </tr>\n",
       "  </thead>\n",
       "  <tbody>\n",
       "    <tr>\n",
       "      <th>0</th>\n",
       "      <td>aboriginal</td>\n",
       "      <td>Q103817</td>\n",
       "      <td>True</td>\n",
       "    </tr>\n",
       "    <tr>\n",
       "      <th>1</th>\n",
       "      <td>aboriginal</td>\n",
       "      <td>Q96200400</td>\n",
       "      <td>True</td>\n",
       "    </tr>\n",
       "    <tr>\n",
       "      <th>2</th>\n",
       "      <td>aboriginal</td>\n",
       "      <td>Q7980672</td>\n",
       "      <td>True</td>\n",
       "    </tr>\n",
       "    <tr>\n",
       "      <th>3</th>\n",
       "      <td>aboriginal</td>\n",
       "      <td>Q28942344</td>\n",
       "      <td>True</td>\n",
       "    </tr>\n",
       "    <tr>\n",
       "      <th>4</th>\n",
       "      <td>aboriginal</td>\n",
       "      <td>Q8039318</td>\n",
       "      <td>True</td>\n",
       "    </tr>\n",
       "  </tbody>\n",
       "</table>\n",
       "</div>"
      ],
      "text/plain": [
       "         term  entity_id  check\n",
       "0  aboriginal    Q103817   True\n",
       "1  aboriginal  Q96200400   True\n",
       "2  aboriginal   Q7980672   True\n",
       "3  aboriginal  Q28942344   True\n",
       "4  aboriginal   Q8039318   True"
      ]
     },
     "execution_count": 18,
     "metadata": {},
     "output_type": "execute_result"
    }
   ],
   "source": [
    "wd_en_rm_true.head()"
   ]
  },
  {
   "cell_type": "code",
   "execution_count": 20,
   "metadata": {},
   "outputs": [],
   "source": [
    "### WM"
   ]
  },
  {
   "cell_type": "code",
   "execution_count": 21,
   "metadata": {},
   "outputs": [],
   "source": [
    "annotated_wm = pd.read_csv(\"/Users/anesterov/reps/LODlit/Wikidata/annotated/wd_en_wm.csv\")"
   ]
  },
  {
   "cell_type": "code",
   "execution_count": 23,
   "metadata": {},
   "outputs": [],
   "source": [
    "annotated_wm.drop(['text_1','text_2','text_3','text_4','text_5'], axis=1, inplace=True)"
   ]
  },
  {
   "cell_type": "code",
   "execution_count": 24,
   "metadata": {},
   "outputs": [],
   "source": [
    "# taking only True values in check\n",
    "wd_en_wm_true = annotated_wm[annotated_wm.check]"
   ]
  },
  {
   "cell_type": "code",
   "execution_count": 26,
   "metadata": {},
   "outputs": [
    {
     "data": {
      "text/html": [
       "<div>\n",
       "<style scoped>\n",
       "    .dataframe tbody tr th:only-of-type {\n",
       "        vertical-align: middle;\n",
       "    }\n",
       "\n",
       "    .dataframe tbody tr th {\n",
       "        vertical-align: top;\n",
       "    }\n",
       "\n",
       "    .dataframe thead th {\n",
       "        text-align: right;\n",
       "    }\n",
       "</style>\n",
       "<table border=\"1\" class=\"dataframe\">\n",
       "  <thead>\n",
       "    <tr style=\"text-align: right;\">\n",
       "      <th></th>\n",
       "      <th>term</th>\n",
       "      <th>entity_id</th>\n",
       "      <th>check</th>\n",
       "    </tr>\n",
       "  </thead>\n",
       "  <tbody>\n",
       "    <tr>\n",
       "      <th>0</th>\n",
       "      <td>aboriginal</td>\n",
       "      <td>Q1493806</td>\n",
       "      <td>True</td>\n",
       "    </tr>\n",
       "    <tr>\n",
       "      <th>1</th>\n",
       "      <td>aboriginal</td>\n",
       "      <td>Q113211688</td>\n",
       "      <td>True</td>\n",
       "    </tr>\n",
       "    <tr>\n",
       "      <th>2</th>\n",
       "      <td>aboriginal</td>\n",
       "      <td>Q3699302</td>\n",
       "      <td>True</td>\n",
       "    </tr>\n",
       "    <tr>\n",
       "      <th>3</th>\n",
       "      <td>aboriginal</td>\n",
       "      <td>Q115959477</td>\n",
       "      <td>True</td>\n",
       "    </tr>\n",
       "    <tr>\n",
       "      <th>4</th>\n",
       "      <td>aboriginal</td>\n",
       "      <td>Q6922014</td>\n",
       "      <td>True</td>\n",
       "    </tr>\n",
       "    <tr>\n",
       "      <th>...</th>\n",
       "      <td>...</td>\n",
       "      <td>...</td>\n",
       "      <td>...</td>\n",
       "    </tr>\n",
       "    <tr>\n",
       "      <th>570</th>\n",
       "      <td>white</td>\n",
       "      <td>Q6880109</td>\n",
       "      <td>True</td>\n",
       "    </tr>\n",
       "    <tr>\n",
       "      <th>572</th>\n",
       "      <td>white</td>\n",
       "      <td>Q639836</td>\n",
       "      <td>True</td>\n",
       "    </tr>\n",
       "    <tr>\n",
       "      <th>575</th>\n",
       "      <td>whites</td>\n",
       "      <td>Q59937358</td>\n",
       "      <td>True</td>\n",
       "    </tr>\n",
       "    <tr>\n",
       "      <th>576</th>\n",
       "      <td>whites</td>\n",
       "      <td>Q26597222</td>\n",
       "      <td>True</td>\n",
       "    </tr>\n",
       "    <tr>\n",
       "      <th>577</th>\n",
       "      <td>whites</td>\n",
       "      <td>Q111637086</td>\n",
       "      <td>True</td>\n",
       "    </tr>\n",
       "  </tbody>\n",
       "</table>\n",
       "<p>341 rows × 3 columns</p>\n",
       "</div>"
      ],
      "text/plain": [
       "           term   entity_id  check\n",
       "0    aboriginal    Q1493806   True\n",
       "1    aboriginal  Q113211688   True\n",
       "2    aboriginal    Q3699302   True\n",
       "3    aboriginal  Q115959477   True\n",
       "4    aboriginal    Q6922014   True\n",
       "..          ...         ...    ...\n",
       "570       white    Q6880109   True\n",
       "572       white     Q639836   True\n",
       "575      whites   Q59937358   True\n",
       "576      whites   Q26597222   True\n",
       "577      whites  Q111637086   True\n",
       "\n",
       "[341 rows x 3 columns]"
      ]
     },
     "execution_count": 26,
     "metadata": {},
     "output_type": "execute_result"
    }
   ],
   "source": [
    "wd_en_wm_true"
   ]
  },
  {
   "cell_type": "code",
   "execution_count": 27,
   "metadata": {},
   "outputs": [],
   "source": [
    "### Generate 2 files with annotated entities: (1) by RM and (2) by WM"
   ]
  },
  {
   "cell_type": "code",
   "execution_count": 32,
   "metadata": {},
   "outputs": [],
   "source": [
    "#### RM"
   ]
  },
  {
   "cell_type": "code",
   "execution_count": 29,
   "metadata": {},
   "outputs": [],
   "source": [
    "annotated_wd_en_rm_info = {}\n",
    "\n",
    "for group in wd_en_rm_true.groupby(\"term\"):\n",
    "    all_hits_by_term = []\n",
    "    \n",
    "    entity_ids = list(group[1][\"entity_id\"])\n",
    "    \n",
    "    for qid in entity_ids:\n",
    "        all_hits_by_term.extend(get_hit_info_by_entity_id(qid,group[0],results_en))\n",
    "    \n",
    "    annotated_wd_en_rm_info[group[0]] = all_hits_by_term"
   ]
  },
  {
   "cell_type": "code",
   "execution_count": 31,
   "metadata": {},
   "outputs": [],
   "source": [
    "with open('/Users/anesterov/reps/LODlit/Wikidata/annotated/hits_rm.json', 'w') as jf:\n",
    "    json.dump(annotated_wm_en_rm_info, jf)"
   ]
  },
  {
   "cell_type": "code",
   "execution_count": 33,
   "metadata": {},
   "outputs": [],
   "source": [
    "#### WM"
   ]
  },
  {
   "cell_type": "code",
   "execution_count": 34,
   "metadata": {},
   "outputs": [],
   "source": [
    "annotated_wd_en_wm_info = {}\n",
    "\n",
    "for group in wd_en_wm_true.groupby(\"term\"):\n",
    "    all_hits_by_term = []\n",
    "    \n",
    "    entity_ids = list(group[1][\"entity_id\"])\n",
    "    \n",
    "    for qid in entity_ids:\n",
    "        all_hits_by_term.extend(get_hit_info_by_entity_id(qid,group[0],results_en))\n",
    "    \n",
    "    annotated_wd_en_wm_info[group[0]] = all_hits_by_term"
   ]
  },
  {
   "cell_type": "code",
   "execution_count": 35,
   "metadata": {},
   "outputs": [],
   "source": [
    "with open('/Users/anesterov/reps/LODlit/Wikidata/annotated/hits_wm.json', 'w') as jf:\n",
    "    json.dump(annotated_wd_en_wm_info, jf)"
   ]
  },
  {
   "cell_type": "code",
   "execution_count": 36,
   "metadata": {},
   "outputs": [],
   "source": [
    "### Generate an overview by properties"
   ]
  },
  {
   "cell_type": "code",
   "execution_count": 37,
   "metadata": {},
   "outputs": [],
   "source": [
    "#### RM"
   ]
  },
  {
   "cell_type": "code",
   "execution_count": 39,
   "metadata": {},
   "outputs": [],
   "source": [
    "n_hits_by_lemma = wd.get_n_hits_by_properties('/Users/anesterov/reps/LODlit/Wikidata/annotated/hits_rm.json','en',group_by_lemma=True)\n",
    "n_hits_by_lemma.to_csv(\"/Users/anesterov/reps/LODlit/Wikidata/annotated/n_hits_by_lemma_en_rm.csv\")"
   ]
  },
  {
   "cell_type": "code",
   "execution_count": 40,
   "metadata": {},
   "outputs": [],
   "source": [
    "#### WM\n",
    "n_hits_by_lemma_wm = wd.get_n_hits_by_properties('/Users/anesterov/reps/LODlit/Wikidata/annotated/hits_wm.json','en',group_by_lemma=True)\n",
    "n_hits_by_lemma_wm.to_csv(\"/Users/anesterov/reps/LODlit/Wikidata/annotated/n_hits_by_lemma_en_wm.csv\")"
   ]
  },
  {
   "cell_type": "code",
   "execution_count": 41,
   "metadata": {},
   "outputs": [],
   "source": [
    "### Bar charts"
   ]
  },
  {
   "cell_type": "code",
   "execution_count": 42,
   "metadata": {},
   "outputs": [],
   "source": [
    "import plotly.graph_objects as go\n",
    "from IPython.display import Image"
   ]
  },
  {
   "cell_type": "code",
   "execution_count": 49,
   "metadata": {},
   "outputs": [],
   "source": [
    "n_hits_by_lemma.sort_values(\"wd_lemma_total\", ascending=True, inplace=True)"
   ]
  },
  {
   "cell_type": "code",
   "execution_count": 51,
   "metadata": {},
   "outputs": [],
   "source": [
    "all_hits_by_lemma = pd.read_csv(\"/Users/anesterov/reps/LODlit/Wikidata/n_hits_by_lemma_en.csv\")"
   ]
  },
  {
   "cell_type": "code",
   "execution_count": 53,
   "metadata": {},
   "outputs": [],
   "source": [
    "all_hits_by_lemma.sort_values(\"wd_lemma_total\", ascending=True, inplace=True)"
   ]
  },
  {
   "cell_type": "code",
   "execution_count": 150,
   "metadata": {},
   "outputs": [],
   "source": [
    "all_hits_by_lemma_nl = pd.read_csv(\"/Users/anesterov/reps/LODlit/Wikidata/n_hits_by_lemma_nl.csv\")"
   ]
  },
  {
   "cell_type": "code",
   "execution_count": 151,
   "metadata": {},
   "outputs": [],
   "source": [
    "all_hits_by_lemma_nl.sort_values(\"wd_lemma_total\", ascending=True, inplace=True)"
   ]
  },
  {
   "cell_type": "markdown",
   "metadata": {},
   "source": [
    "### Making proportions"
   ]
  },
  {
   "cell_type": "code",
   "execution_count": 155,
   "metadata": {},
   "outputs": [
    {
     "data": {
      "text/html": [
       "<div>\n",
       "<style scoped>\n",
       "    .dataframe tbody tr th:only-of-type {\n",
       "        vertical-align: middle;\n",
       "    }\n",
       "\n",
       "    .dataframe tbody tr th {\n",
       "        vertical-align: top;\n",
       "    }\n",
       "\n",
       "    .dataframe thead th {\n",
       "        text-align: right;\n",
       "    }\n",
       "</style>\n",
       "<table border=\"1\" class=\"dataframe\">\n",
       "  <thead>\n",
       "    <tr style=\"text-align: right;\">\n",
       "      <th></th>\n",
       "      <th>Unnamed: 0</th>\n",
       "      <th>lemma</th>\n",
       "      <th>lang</th>\n",
       "      <th>wd_prefLabel</th>\n",
       "      <th>wd_aliases</th>\n",
       "      <th>wd_descr</th>\n",
       "      <th>wd_lemma_total</th>\n",
       "    </tr>\n",
       "  </thead>\n",
       "  <tbody>\n",
       "    <tr>\n",
       "      <th>1</th>\n",
       "      <td>1</td>\n",
       "      <td>allochtoon</td>\n",
       "      <td>en</td>\n",
       "      <td>1</td>\n",
       "      <td>0</td>\n",
       "      <td>0</td>\n",
       "      <td>1</td>\n",
       "    </tr>\n",
       "    <tr>\n",
       "      <th>9</th>\n",
       "      <td>9</td>\n",
       "      <td>bush negro</td>\n",
       "      <td>en</td>\n",
       "      <td>0</td>\n",
       "      <td>0</td>\n",
       "      <td>1</td>\n",
       "      <td>1</td>\n",
       "    </tr>\n",
       "    <tr>\n",
       "      <th>25</th>\n",
       "      <td>25</td>\n",
       "      <td>full blood</td>\n",
       "      <td>en</td>\n",
       "      <td>2</td>\n",
       "      <td>5</td>\n",
       "      <td>1</td>\n",
       "      <td>8</td>\n",
       "    </tr>\n",
       "    <tr>\n",
       "      <th>42</th>\n",
       "      <td>42</td>\n",
       "      <td>lilliputian</td>\n",
       "      <td>en</td>\n",
       "      <td>8</td>\n",
       "      <td>2</td>\n",
       "      <td>1</td>\n",
       "      <td>11</td>\n",
       "    </tr>\n",
       "    <tr>\n",
       "      <th>43</th>\n",
       "      <td>43</td>\n",
       "      <td>low-income countries</td>\n",
       "      <td>en</td>\n",
       "      <td>12</td>\n",
       "      <td>2</td>\n",
       "      <td>0</td>\n",
       "      <td>14</td>\n",
       "    </tr>\n",
       "  </tbody>\n",
       "</table>\n",
       "</div>"
      ],
      "text/plain": [
       "    Unnamed: 0                 lemma lang  wd_prefLabel  wd_aliases  wd_descr  \\\n",
       "1            1            allochtoon   en             1           0         0   \n",
       "9            9            bush negro   en             0           0         1   \n",
       "25          25            full blood   en             2           5         1   \n",
       "42          42           lilliputian   en             8           2         1   \n",
       "43          43  low-income countries   en            12           2         0   \n",
       "\n",
       "    wd_lemma_total  \n",
       "1                1  \n",
       "9                1  \n",
       "25               8  \n",
       "42              11  \n",
       "43              14  "
      ]
     },
     "execution_count": 155,
     "metadata": {},
     "output_type": "execute_result"
    }
   ],
   "source": [
    "all_hits_by_lemma.head()"
   ]
  },
  {
   "cell_type": "code",
   "execution_count": 177,
   "metadata": {},
   "outputs": [],
   "source": [
    "all_hits_by_lemma_nl_p = all_hits_by_lemma_nl.assign(wd_prefLabel_p=lambda x: x.wd_prefLabel / x.wd_lemma_total * 100,\n",
    "                                               wd_aliases_p=lambda x: x.wd_aliases / x.wd_lemma_total * 100,\n",
    "                                               wd_descr_p=lambda x: x.wd_descr / x.wd_lemma_total * 100)"
   ]
  },
  {
   "cell_type": "code",
   "execution_count": 178,
   "metadata": {},
   "outputs": [
    {
     "data": {
      "text/html": [
       "<div>\n",
       "<style scoped>\n",
       "    .dataframe tbody tr th:only-of-type {\n",
       "        vertical-align: middle;\n",
       "    }\n",
       "\n",
       "    .dataframe tbody tr th {\n",
       "        vertical-align: top;\n",
       "    }\n",
       "\n",
       "    .dataframe thead th {\n",
       "        text-align: right;\n",
       "    }\n",
       "</style>\n",
       "<table border=\"1\" class=\"dataframe\">\n",
       "  <thead>\n",
       "    <tr style=\"text-align: right;\">\n",
       "      <th></th>\n",
       "      <th>Unnamed: 0</th>\n",
       "      <th>lemma</th>\n",
       "      <th>lang</th>\n",
       "      <th>wd_prefLabel</th>\n",
       "      <th>wd_aliases</th>\n",
       "      <th>wd_descr</th>\n",
       "      <th>wd_lemma_total</th>\n",
       "      <th>wd_prefLabel_p</th>\n",
       "      <th>wd_aliases_p</th>\n",
       "      <th>wd_descr_p</th>\n",
       "    </tr>\n",
       "  </thead>\n",
       "  <tbody>\n",
       "    <tr>\n",
       "      <th>17</th>\n",
       "      <td>17</td>\n",
       "      <td>eerste wereld</td>\n",
       "      <td>nl</td>\n",
       "      <td>1</td>\n",
       "      <td>0</td>\n",
       "      <td>0</td>\n",
       "      <td>1</td>\n",
       "      <td>100.000000</td>\n",
       "      <td>0.000000</td>\n",
       "      <td>0.000000</td>\n",
       "    </tr>\n",
       "    <tr>\n",
       "      <th>1</th>\n",
       "      <td>1</td>\n",
       "      <td>achterlijk</td>\n",
       "      <td>nl</td>\n",
       "      <td>1</td>\n",
       "      <td>0</td>\n",
       "      <td>0</td>\n",
       "      <td>1</td>\n",
       "      <td>100.000000</td>\n",
       "      <td>0.000000</td>\n",
       "      <td>0.000000</td>\n",
       "    </tr>\n",
       "    <tr>\n",
       "      <th>47</th>\n",
       "      <td>47</td>\n",
       "      <td>lagelonenland</td>\n",
       "      <td>nl</td>\n",
       "      <td>1</td>\n",
       "      <td>0</td>\n",
       "      <td>0</td>\n",
       "      <td>1</td>\n",
       "      <td>100.000000</td>\n",
       "      <td>0.000000</td>\n",
       "      <td>0.000000</td>\n",
       "    </tr>\n",
       "    <tr>\n",
       "      <th>32</th>\n",
       "      <td>32</td>\n",
       "      <td>inboorling</td>\n",
       "      <td>nl</td>\n",
       "      <td>1</td>\n",
       "      <td>0</td>\n",
       "      <td>0</td>\n",
       "      <td>1</td>\n",
       "      <td>100.000000</td>\n",
       "      <td>0.000000</td>\n",
       "      <td>0.000000</td>\n",
       "    </tr>\n",
       "    <tr>\n",
       "      <th>12</th>\n",
       "      <td>12</td>\n",
       "      <td>boslandcreool</td>\n",
       "      <td>nl</td>\n",
       "      <td>0</td>\n",
       "      <td>1</td>\n",
       "      <td>0</td>\n",
       "      <td>1</td>\n",
       "      <td>0.000000</td>\n",
       "      <td>100.000000</td>\n",
       "      <td>0.000000</td>\n",
       "    </tr>\n",
       "    <tr>\n",
       "      <th>...</th>\n",
       "      <td>...</td>\n",
       "      <td>...</td>\n",
       "      <td>...</td>\n",
       "      <td>...</td>\n",
       "      <td>...</td>\n",
       "      <td>...</td>\n",
       "      <td>...</td>\n",
       "      <td>...</td>\n",
       "      <td>...</td>\n",
       "      <td>...</td>\n",
       "    </tr>\n",
       "    <tr>\n",
       "      <th>81</th>\n",
       "      <td>81</td>\n",
       "      <td>zwart</td>\n",
       "      <td>nl</td>\n",
       "      <td>1057</td>\n",
       "      <td>236</td>\n",
       "      <td>231</td>\n",
       "      <td>1524</td>\n",
       "      <td>69.356955</td>\n",
       "      <td>15.485564</td>\n",
       "      <td>15.157480</td>\n",
       "    </tr>\n",
       "    <tr>\n",
       "      <th>28</th>\n",
       "      <td>28</td>\n",
       "      <td>homo</td>\n",
       "      <td>nl</td>\n",
       "      <td>83</td>\n",
       "      <td>28</td>\n",
       "      <td>3123</td>\n",
       "      <td>3234</td>\n",
       "      <td>2.566481</td>\n",
       "      <td>0.865801</td>\n",
       "      <td>96.567718</td>\n",
       "    </tr>\n",
       "    <tr>\n",
       "      <th>33</th>\n",
       "      <td>33</td>\n",
       "      <td>indiaan</td>\n",
       "      <td>nl</td>\n",
       "      <td>32</td>\n",
       "      <td>8</td>\n",
       "      <td>9183</td>\n",
       "      <td>9223</td>\n",
       "      <td>0.346959</td>\n",
       "      <td>0.086740</td>\n",
       "      <td>99.566302</td>\n",
       "    </tr>\n",
       "    <tr>\n",
       "      <th>20</th>\n",
       "      <td>20</td>\n",
       "      <td>etnische groep</td>\n",
       "      <td>nl</td>\n",
       "      <td>7</td>\n",
       "      <td>1</td>\n",
       "      <td>9241</td>\n",
       "      <td>9249</td>\n",
       "      <td>0.075684</td>\n",
       "      <td>0.010812</td>\n",
       "      <td>99.913504</td>\n",
       "    </tr>\n",
       "    <tr>\n",
       "      <th>78</th>\n",
       "      <td>78</td>\n",
       "      <td>wit</td>\n",
       "      <td>nl</td>\n",
       "      <td>1654</td>\n",
       "      <td>439</td>\n",
       "      <td>9508</td>\n",
       "      <td>11601</td>\n",
       "      <td>14.257392</td>\n",
       "      <td>3.784157</td>\n",
       "      <td>81.958452</td>\n",
       "    </tr>\n",
       "  </tbody>\n",
       "</table>\n",
       "<p>82 rows × 10 columns</p>\n",
       "</div>"
      ],
      "text/plain": [
       "    Unnamed: 0           lemma lang  wd_prefLabel  wd_aliases  wd_descr  \\\n",
       "17          17   eerste wereld   nl             1           0         0   \n",
       "1            1      achterlijk   nl             1           0         0   \n",
       "47          47   lagelonenland   nl             1           0         0   \n",
       "32          32      inboorling   nl             1           0         0   \n",
       "12          12   boslandcreool   nl             0           1         0   \n",
       "..         ...             ...  ...           ...         ...       ...   \n",
       "81          81           zwart   nl          1057         236       231   \n",
       "28          28            homo   nl            83          28      3123   \n",
       "33          33         indiaan   nl            32           8      9183   \n",
       "20          20  etnische groep   nl             7           1      9241   \n",
       "78          78             wit   nl          1654         439      9508   \n",
       "\n",
       "    wd_lemma_total  wd_prefLabel_p  wd_aliases_p  wd_descr_p  \n",
       "17               1      100.000000      0.000000    0.000000  \n",
       "1                1      100.000000      0.000000    0.000000  \n",
       "47               1      100.000000      0.000000    0.000000  \n",
       "32               1      100.000000      0.000000    0.000000  \n",
       "12               1        0.000000    100.000000    0.000000  \n",
       "..             ...             ...           ...         ...  \n",
       "81            1524       69.356955     15.485564   15.157480  \n",
       "28            3234        2.566481      0.865801   96.567718  \n",
       "33            9223        0.346959      0.086740   99.566302  \n",
       "20            9249        0.075684      0.010812   99.913504  \n",
       "78           11601       14.257392      3.784157   81.958452  \n",
       "\n",
       "[82 rows x 10 columns]"
      ]
     },
     "execution_count": 178,
     "metadata": {},
     "output_type": "execute_result"
    }
   ],
   "source": [
    "all_hits_by_lemma_nl_p"
   ]
  },
  {
   "cell_type": "code",
   "execution_count": 179,
   "metadata": {},
   "outputs": [
    {
     "data": {
      "application/vnd.plotly.v1+json": {
       "config": {
        "plotlyServerURL": "https://plot.ly"
       },
       "data": [
        {
         "hoverinfo": "text",
         "hovertext": [
          "1",
          "1",
          "1",
          "1",
          "0",
          "0",
          "0",
          "1",
          "2",
          "0",
          "2",
          "1",
          "2",
          "2",
          "1",
          "2",
          "2",
          "0",
          "3",
          "5",
          "3",
          "4",
          "4",
          "5",
          "5",
          "3",
          "5",
          "8",
          "8",
          "2",
          "2",
          "14",
          "4",
          "11",
          "15",
          "20",
          "18",
          "11",
          "12",
          "26",
          "26",
          "28",
          "25",
          "27",
          "30",
          "28",
          "32",
          "38",
          "35",
          "20",
          "45",
          "61",
          "43",
          "24",
          "36",
          "71",
          "65",
          "45",
          "54",
          "63",
          "4",
          "89",
          "71",
          "64",
          "127",
          "82",
          "77",
          "164",
          "56",
          "139",
          "348",
          "129",
          "320",
          "299",
          "386",
          "591",
          "545",
          "1057",
          "83",
          "32",
          "7",
          "1654"
         ],
         "marker": {
          "color": "rgb(0,0,0)",
          "line": {
           "color": "black",
           "width": 0.5
          }
         },
         "name": "prefLabel",
         "orientation": "h",
         "textfont": {
          "size": 8
         },
         "type": "bar",
         "x": [
          100,
          100,
          100,
          100,
          0,
          0,
          0,
          50,
          100,
          0,
          100,
          33.33333333333333,
          66.66666666666666,
          66.66666666666666,
          33.33333333333333,
          66.66666666666666,
          66.66666666666666,
          0,
          75,
          100,
          60,
          80,
          80,
          83.33333333333334,
          71.42857142857143,
          42.857142857142854,
          55.55555555555556,
          88.88888888888889,
          80,
          18.181818181818183,
          14.285714285714285,
          93.33333333333333,
          25,
          64.70588235294117,
          75,
          80,
          69.23076923076923,
          42.30769230769231,
          44.44444444444444,
          89.65517241379311,
          89.65517241379311,
          82.35294117647058,
          64.1025641025641,
          64.28571428571429,
          69.76744186046511,
          62.22222222222222,
          66.66666666666666,
          79.16666666666666,
          71.42857142857143,
          35.714285714285715,
          71.42857142857143,
          84.72222222222221,
          50.588235294117645,
          27.586206896551722,
          39.130434782608695,
          71.71717171717171,
          65.65656565656566,
          37.81512605042017,
          43.90243902439025,
          49.60629921259843,
          2.8169014084507045,
          57.7922077922078,
          44.65408805031446,
          39.75155279503105,
          69.39890710382514,
          39.61352657004831,
          33.92070484581498,
          70.3862660944206,
          23.628691983122362,
          52.851711026615966,
          78.37837837837837,
          28.98876404494382,
          55.749128919860624,
          52,
          54.061624649859944,
          81.85595567867036,
          75.38035961272476,
          69.35695538057742,
          2.5664811379097094,
          0.3469586902309444,
          0.07568385771434749,
          14.257391604172053
         ],
         "y": [
          "eerste wereld",
          "achterlijk",
          "lagelonenland",
          "inboorling",
          "boslandcreool",
          "hottentot",
          "islamiet",
          "primitivisme",
          "koelie",
          "bosneger",
          "koppensneller",
          "lilliputter",
          "tweede wereld",
          "kaffer",
          "mohammedaan",
          "mesties",
          "baboe",
          "travestiet",
          "politionele actie",
          "derde wereld",
          "pygmee",
          "halfbloed",
          "hermafrodiet",
          "allochtoon",
          "volbloed",
          "jappenkamp",
          "medicijnman",
          "barbaar",
          "mulat",
          "ontwikkelingsland",
          "etniciteit",
          "ontdekken",
          "inlander",
          "zuid-rhodesië",
          "oriëntaals",
          "homoseksualiteit",
          "inuk",
          "homoseksueel",
          "gekleurd",
          "jap",
          "berber",
          "zigeuner",
          "métis",
          "primitief",
          "neger",
          "marron",
          "handicap",
          "exotisch",
          "birma",
          "gehandicapte",
          "aboriginal",
          "knecht",
          "slaaf",
          "kaukasisch",
          "mongool",
          "queer",
          "eskimo",
          "inheems",
          "page",
          "madras",
          "afkomst",
          "batavia",
          "indo",
          "dwerg",
          "blank",
          "bombay",
          "bediende",
          "roots",
          "stam",
          "westers",
          "trans",
          "calcutta",
          "indisch",
          "gay",
          "traditioneel",
          "ras",
          "moor",
          "zwart",
          "homo",
          "indiaan",
          "etnische groep",
          "wit"
         ]
        },
        {
         "hoverinfo": "text",
         "hovertext": [
          "0",
          "0",
          "0",
          "0",
          "1",
          "2",
          "2",
          "1",
          "0",
          "2",
          "0",
          "2",
          "1",
          "0",
          "2",
          "1",
          "1",
          "1",
          "1",
          "0",
          "1",
          "1",
          "1",
          "1",
          "2",
          "1",
          "1",
          "1",
          "2",
          "3",
          "2",
          "0",
          "2",
          "0",
          "2",
          "1",
          "5",
          "4",
          "0",
          "3",
          "2",
          "6",
          "4",
          "8",
          "5",
          "2",
          "5",
          "2",
          "11",
          "5",
          "7",
          "7",
          "7",
          "16",
          "7",
          "0",
          "5",
          "11",
          "59",
          "3",
          "12",
          "21",
          "22",
          "20",
          "21",
          "20",
          "6",
          "7",
          "20",
          "44",
          "56",
          "47",
          "111",
          "35",
          "60",
          "43",
          "39",
          "236",
          "28",
          "8",
          "1",
          "439"
         ],
         "marker": {
          "color": "rgb(128, 128, 128)",
          "line": {
           "color": "black",
           "width": 0.5
          }
         },
         "name": "aliases",
         "orientation": "h",
         "textfont": {
          "size": 8
         },
         "type": "bar",
         "x": [
          0,
          0,
          0,
          0,
          100,
          100,
          100,
          50,
          0,
          100,
          0,
          66.66666666666666,
          33.33333333333333,
          0,
          66.66666666666666,
          33.33333333333333,
          33.33333333333333,
          25,
          25,
          0,
          20,
          20,
          20,
          16.666666666666664,
          28.57142857142857,
          14.285714285714285,
          11.11111111111111,
          11.11111111111111,
          20,
          27.27272727272727,
          14.285714285714285,
          0,
          12.5,
          0,
          10,
          4,
          19.230769230769234,
          15.384615384615385,
          0,
          10.344827586206897,
          6.896551724137931,
          17.647058823529413,
          10.256410256410255,
          19.047619047619047,
          11.627906976744185,
          4.444444444444445,
          10.416666666666668,
          4.166666666666666,
          22.448979591836736,
          8.928571428571429,
          11.11111111111111,
          9.722222222222223,
          8.235294117647058,
          18.39080459770115,
          7.608695652173914,
          0,
          5.05050505050505,
          9.243697478991598,
          47.96747967479675,
          2.3622047244094486,
          8.450704225352112,
          13.636363636363635,
          13.836477987421384,
          12.422360248447205,
          11.475409836065573,
          9.66183574879227,
          2.643171806167401,
          3.004291845493562,
          8.438818565400844,
          16.730038022813687,
          12.612612612612612,
          10.561797752808989,
          19.337979094076655,
          6.086956521739131,
          8.403361344537815,
          5.955678670360111,
          5.394190871369295,
          15.485564304461944,
          0.8658008658008658,
          0.0867396725577361,
          0.010811979673478214,
          3.7841565382294626
         ],
         "y": [
          "eerste wereld",
          "achterlijk",
          "lagelonenland",
          "inboorling",
          "boslandcreool",
          "hottentot",
          "islamiet",
          "primitivisme",
          "koelie",
          "bosneger",
          "koppensneller",
          "lilliputter",
          "tweede wereld",
          "kaffer",
          "mohammedaan",
          "mesties",
          "baboe",
          "travestiet",
          "politionele actie",
          "derde wereld",
          "pygmee",
          "halfbloed",
          "hermafrodiet",
          "allochtoon",
          "volbloed",
          "jappenkamp",
          "medicijnman",
          "barbaar",
          "mulat",
          "ontwikkelingsland",
          "etniciteit",
          "ontdekken",
          "inlander",
          "zuid-rhodesië",
          "oriëntaals",
          "homoseksualiteit",
          "inuk",
          "homoseksueel",
          "gekleurd",
          "jap",
          "berber",
          "zigeuner",
          "métis",
          "primitief",
          "neger",
          "marron",
          "handicap",
          "exotisch",
          "birma",
          "gehandicapte",
          "aboriginal",
          "knecht",
          "slaaf",
          "kaukasisch",
          "mongool",
          "queer",
          "eskimo",
          "inheems",
          "page",
          "madras",
          "afkomst",
          "batavia",
          "indo",
          "dwerg",
          "blank",
          "bombay",
          "bediende",
          "roots",
          "stam",
          "westers",
          "trans",
          "calcutta",
          "indisch",
          "gay",
          "traditioneel",
          "ras",
          "moor",
          "zwart",
          "homo",
          "indiaan",
          "etnische groep",
          "wit"
         ]
        },
        {
         "hoverinfo": "text",
         "hovertext": [
          "0",
          "0",
          "0",
          "0",
          "0",
          "0",
          "0",
          "0",
          "0",
          "0",
          "0",
          "0",
          "0",
          "1",
          "0",
          "0",
          "0",
          "3",
          "0",
          "0",
          "1",
          "0",
          "0",
          "0",
          "0",
          "3",
          "3",
          "0",
          "0",
          "6",
          "10",
          "1",
          "10",
          "6",
          "3",
          "4",
          "3",
          "11",
          "15",
          "0",
          "1",
          "0",
          "10",
          "7",
          "8",
          "15",
          "11",
          "8",
          "3",
          "31",
          "11",
          "4",
          "35",
          "47",
          "49",
          "28",
          "29",
          "63",
          "10",
          "61",
          "126",
          "44",
          "66",
          "77",
          "35",
          "105",
          "144",
          "62",
          "161",
          "80",
          "40",
          "269",
          "143",
          "241",
          "268",
          "88",
          "139",
          "231",
          "3123",
          "9183",
          "9241",
          "9508"
         ],
         "marker": {
          "color": "rgb(224, 224, 224)",
          "line": {
           "color": "black",
           "width": 0.5
          }
         },
         "name": "description",
         "orientation": "h",
         "text": [
          "1",
          "1",
          "1",
          "1",
          "1",
          "2",
          "2",
          "2",
          "2",
          "2",
          "2",
          "3",
          "3",
          "3",
          "3",
          "3",
          "3",
          "4",
          "4",
          "5",
          "5",
          "5",
          "5",
          "6",
          "7",
          "7",
          "9",
          "9",
          "10",
          "11",
          "14",
          "15",
          "16",
          "17",
          "20",
          "25",
          "26",
          "26",
          "27",
          "29",
          "29",
          "34",
          "39",
          "42",
          "43",
          "45",
          "48",
          "48",
          "49",
          "56",
          "63",
          "72",
          "85",
          "87",
          "92",
          "99",
          "99",
          "119",
          "123",
          "127",
          "142",
          "154",
          "159",
          "161",
          "183",
          "207",
          "227",
          "233",
          "237",
          "263",
          "444",
          "445",
          "574",
          "575",
          "714",
          "722",
          "723",
          "1524",
          "3234",
          "9223",
          "9249",
          "11601"
         ],
         "textfont": {
          "size": 8
         },
         "textposition": "outside",
         "type": "bar",
         "x": [
          0,
          0,
          0,
          0,
          0,
          0,
          0,
          0,
          0,
          0,
          0,
          0,
          0,
          33.33333333333333,
          0,
          0,
          0,
          75,
          0,
          0,
          20,
          0,
          0,
          0,
          0,
          42.857142857142854,
          33.33333333333333,
          0,
          0,
          54.54545454545454,
          71.42857142857143,
          6.666666666666667,
          62.5,
          35.294117647058826,
          15,
          16,
          11.538461538461538,
          42.30769230769231,
          55.55555555555556,
          0,
          3.4482758620689653,
          0,
          25.64102564102564,
          16.666666666666664,
          18.6046511627907,
          33.33333333333333,
          22.916666666666664,
          16.666666666666664,
          6.122448979591836,
          55.35714285714286,
          17.46031746031746,
          5.555555555555555,
          41.17647058823529,
          54.02298850574713,
          53.2608695652174,
          28.28282828282828,
          29.292929292929294,
          52.94117647058824,
          8.130081300813007,
          48.031496062992126,
          88.73239436619718,
          28.57142857142857,
          41.509433962264154,
          47.82608695652174,
          19.12568306010929,
          50.72463768115942,
          63.436123348017624,
          26.609442060085836,
          67.9324894514768,
          30.418250950570343,
          9.00900900900901,
          60.449438202247194,
          24.912891986062718,
          41.91304347826087,
          37.53501400560224,
          12.18836565096953,
          19.22544951590595,
          15.157480314960631,
          96.56771799628943,
          99.56630163721132,
          99.91350416261217,
          81.95845185759848
         ],
         "y": [
          "eerste wereld",
          "achterlijk",
          "lagelonenland",
          "inboorling",
          "boslandcreool",
          "hottentot",
          "islamiet",
          "primitivisme",
          "koelie",
          "bosneger",
          "koppensneller",
          "lilliputter",
          "tweede wereld",
          "kaffer",
          "mohammedaan",
          "mesties",
          "baboe",
          "travestiet",
          "politionele actie",
          "derde wereld",
          "pygmee",
          "halfbloed",
          "hermafrodiet",
          "allochtoon",
          "volbloed",
          "jappenkamp",
          "medicijnman",
          "barbaar",
          "mulat",
          "ontwikkelingsland",
          "etniciteit",
          "ontdekken",
          "inlander",
          "zuid-rhodesië",
          "oriëntaals",
          "homoseksualiteit",
          "inuk",
          "homoseksueel",
          "gekleurd",
          "jap",
          "berber",
          "zigeuner",
          "métis",
          "primitief",
          "neger",
          "marron",
          "handicap",
          "exotisch",
          "birma",
          "gehandicapte",
          "aboriginal",
          "knecht",
          "slaaf",
          "kaukasisch",
          "mongool",
          "queer",
          "eskimo",
          "inheems",
          "page",
          "madras",
          "afkomst",
          "batavia",
          "indo",
          "dwerg",
          "blank",
          "bombay",
          "bediende",
          "roots",
          "stam",
          "westers",
          "trans",
          "calcutta",
          "indisch",
          "gay",
          "traditioneel",
          "ras",
          "moor",
          "zwart",
          "homo",
          "indiaan",
          "etnische groep",
          "wit"
         ]
        }
       ],
       "layout": {
        "bargap": 0.2,
        "barmode": "stack",
        "font": {
         "color": "black",
         "family": "Arial",
         "size": 8
        },
        "height": 1230,
        "legend": {
         "font": {
          "color": "black",
          "family": "Arial",
          "size": 8
         },
         "itemsizing": "constant",
         "itemwidth": 30,
         "orientation": "h",
         "traceorder": "normal",
         "x": -0.03,
         "xanchor": "left",
         "y": 1.03,
         "yanchor": "top"
        },
        "margin": {
         "b": 0,
         "l": 0,
         "pad": 1,
         "r": 0,
         "t": 60
        },
        "paper_bgcolor": "rgb(255, 255, 255)",
        "plot_bgcolor": "rgb(255, 255, 255)",
        "template": {
         "data": {
          "bar": [
           {
            "error_x": {
             "color": "#2a3f5f"
            },
            "error_y": {
             "color": "#2a3f5f"
            },
            "marker": {
             "line": {
              "color": "#E5ECF6",
              "width": 0.5
             },
             "pattern": {
              "fillmode": "overlay",
              "size": 10,
              "solidity": 0.2
             }
            },
            "type": "bar"
           }
          ],
          "barpolar": [
           {
            "marker": {
             "line": {
              "color": "#E5ECF6",
              "width": 0.5
             },
             "pattern": {
              "fillmode": "overlay",
              "size": 10,
              "solidity": 0.2
             }
            },
            "type": "barpolar"
           }
          ],
          "carpet": [
           {
            "aaxis": {
             "endlinecolor": "#2a3f5f",
             "gridcolor": "white",
             "linecolor": "white",
             "minorgridcolor": "white",
             "startlinecolor": "#2a3f5f"
            },
            "baxis": {
             "endlinecolor": "#2a3f5f",
             "gridcolor": "white",
             "linecolor": "white",
             "minorgridcolor": "white",
             "startlinecolor": "#2a3f5f"
            },
            "type": "carpet"
           }
          ],
          "choropleth": [
           {
            "colorbar": {
             "outlinewidth": 0,
             "ticks": ""
            },
            "type": "choropleth"
           }
          ],
          "contour": [
           {
            "colorbar": {
             "outlinewidth": 0,
             "ticks": ""
            },
            "colorscale": [
             [
              0,
              "#0d0887"
             ],
             [
              0.1111111111111111,
              "#46039f"
             ],
             [
              0.2222222222222222,
              "#7201a8"
             ],
             [
              0.3333333333333333,
              "#9c179e"
             ],
             [
              0.4444444444444444,
              "#bd3786"
             ],
             [
              0.5555555555555556,
              "#d8576b"
             ],
             [
              0.6666666666666666,
              "#ed7953"
             ],
             [
              0.7777777777777778,
              "#fb9f3a"
             ],
             [
              0.8888888888888888,
              "#fdca26"
             ],
             [
              1,
              "#f0f921"
             ]
            ],
            "type": "contour"
           }
          ],
          "contourcarpet": [
           {
            "colorbar": {
             "outlinewidth": 0,
             "ticks": ""
            },
            "type": "contourcarpet"
           }
          ],
          "heatmap": [
           {
            "colorbar": {
             "outlinewidth": 0,
             "ticks": ""
            },
            "colorscale": [
             [
              0,
              "#0d0887"
             ],
             [
              0.1111111111111111,
              "#46039f"
             ],
             [
              0.2222222222222222,
              "#7201a8"
             ],
             [
              0.3333333333333333,
              "#9c179e"
             ],
             [
              0.4444444444444444,
              "#bd3786"
             ],
             [
              0.5555555555555556,
              "#d8576b"
             ],
             [
              0.6666666666666666,
              "#ed7953"
             ],
             [
              0.7777777777777778,
              "#fb9f3a"
             ],
             [
              0.8888888888888888,
              "#fdca26"
             ],
             [
              1,
              "#f0f921"
             ]
            ],
            "type": "heatmap"
           }
          ],
          "heatmapgl": [
           {
            "colorbar": {
             "outlinewidth": 0,
             "ticks": ""
            },
            "colorscale": [
             [
              0,
              "#0d0887"
             ],
             [
              0.1111111111111111,
              "#46039f"
             ],
             [
              0.2222222222222222,
              "#7201a8"
             ],
             [
              0.3333333333333333,
              "#9c179e"
             ],
             [
              0.4444444444444444,
              "#bd3786"
             ],
             [
              0.5555555555555556,
              "#d8576b"
             ],
             [
              0.6666666666666666,
              "#ed7953"
             ],
             [
              0.7777777777777778,
              "#fb9f3a"
             ],
             [
              0.8888888888888888,
              "#fdca26"
             ],
             [
              1,
              "#f0f921"
             ]
            ],
            "type": "heatmapgl"
           }
          ],
          "histogram": [
           {
            "marker": {
             "pattern": {
              "fillmode": "overlay",
              "size": 10,
              "solidity": 0.2
             }
            },
            "type": "histogram"
           }
          ],
          "histogram2d": [
           {
            "colorbar": {
             "outlinewidth": 0,
             "ticks": ""
            },
            "colorscale": [
             [
              0,
              "#0d0887"
             ],
             [
              0.1111111111111111,
              "#46039f"
             ],
             [
              0.2222222222222222,
              "#7201a8"
             ],
             [
              0.3333333333333333,
              "#9c179e"
             ],
             [
              0.4444444444444444,
              "#bd3786"
             ],
             [
              0.5555555555555556,
              "#d8576b"
             ],
             [
              0.6666666666666666,
              "#ed7953"
             ],
             [
              0.7777777777777778,
              "#fb9f3a"
             ],
             [
              0.8888888888888888,
              "#fdca26"
             ],
             [
              1,
              "#f0f921"
             ]
            ],
            "type": "histogram2d"
           }
          ],
          "histogram2dcontour": [
           {
            "colorbar": {
             "outlinewidth": 0,
             "ticks": ""
            },
            "colorscale": [
             [
              0,
              "#0d0887"
             ],
             [
              0.1111111111111111,
              "#46039f"
             ],
             [
              0.2222222222222222,
              "#7201a8"
             ],
             [
              0.3333333333333333,
              "#9c179e"
             ],
             [
              0.4444444444444444,
              "#bd3786"
             ],
             [
              0.5555555555555556,
              "#d8576b"
             ],
             [
              0.6666666666666666,
              "#ed7953"
             ],
             [
              0.7777777777777778,
              "#fb9f3a"
             ],
             [
              0.8888888888888888,
              "#fdca26"
             ],
             [
              1,
              "#f0f921"
             ]
            ],
            "type": "histogram2dcontour"
           }
          ],
          "mesh3d": [
           {
            "colorbar": {
             "outlinewidth": 0,
             "ticks": ""
            },
            "type": "mesh3d"
           }
          ],
          "parcoords": [
           {
            "line": {
             "colorbar": {
              "outlinewidth": 0,
              "ticks": ""
             }
            },
            "type": "parcoords"
           }
          ],
          "pie": [
           {
            "automargin": true,
            "type": "pie"
           }
          ],
          "scatter": [
           {
            "marker": {
             "colorbar": {
              "outlinewidth": 0,
              "ticks": ""
             }
            },
            "type": "scatter"
           }
          ],
          "scatter3d": [
           {
            "line": {
             "colorbar": {
              "outlinewidth": 0,
              "ticks": ""
             }
            },
            "marker": {
             "colorbar": {
              "outlinewidth": 0,
              "ticks": ""
             }
            },
            "type": "scatter3d"
           }
          ],
          "scattercarpet": [
           {
            "marker": {
             "colorbar": {
              "outlinewidth": 0,
              "ticks": ""
             }
            },
            "type": "scattercarpet"
           }
          ],
          "scattergeo": [
           {
            "marker": {
             "colorbar": {
              "outlinewidth": 0,
              "ticks": ""
             }
            },
            "type": "scattergeo"
           }
          ],
          "scattergl": [
           {
            "marker": {
             "colorbar": {
              "outlinewidth": 0,
              "ticks": ""
             }
            },
            "type": "scattergl"
           }
          ],
          "scattermapbox": [
           {
            "marker": {
             "colorbar": {
              "outlinewidth": 0,
              "ticks": ""
             }
            },
            "type": "scattermapbox"
           }
          ],
          "scatterpolar": [
           {
            "marker": {
             "colorbar": {
              "outlinewidth": 0,
              "ticks": ""
             }
            },
            "type": "scatterpolar"
           }
          ],
          "scatterpolargl": [
           {
            "marker": {
             "colorbar": {
              "outlinewidth": 0,
              "ticks": ""
             }
            },
            "type": "scatterpolargl"
           }
          ],
          "scatterternary": [
           {
            "marker": {
             "colorbar": {
              "outlinewidth": 0,
              "ticks": ""
             }
            },
            "type": "scatterternary"
           }
          ],
          "surface": [
           {
            "colorbar": {
             "outlinewidth": 0,
             "ticks": ""
            },
            "colorscale": [
             [
              0,
              "#0d0887"
             ],
             [
              0.1111111111111111,
              "#46039f"
             ],
             [
              0.2222222222222222,
              "#7201a8"
             ],
             [
              0.3333333333333333,
              "#9c179e"
             ],
             [
              0.4444444444444444,
              "#bd3786"
             ],
             [
              0.5555555555555556,
              "#d8576b"
             ],
             [
              0.6666666666666666,
              "#ed7953"
             ],
             [
              0.7777777777777778,
              "#fb9f3a"
             ],
             [
              0.8888888888888888,
              "#fdca26"
             ],
             [
              1,
              "#f0f921"
             ]
            ],
            "type": "surface"
           }
          ],
          "table": [
           {
            "cells": {
             "fill": {
              "color": "#EBF0F8"
             },
             "line": {
              "color": "white"
             }
            },
            "header": {
             "fill": {
              "color": "#C8D4E3"
             },
             "line": {
              "color": "white"
             }
            },
            "type": "table"
           }
          ]
         },
         "layout": {
          "annotationdefaults": {
           "arrowcolor": "#2a3f5f",
           "arrowhead": 0,
           "arrowwidth": 1
          },
          "autotypenumbers": "strict",
          "coloraxis": {
           "colorbar": {
            "outlinewidth": 0,
            "ticks": ""
           }
          },
          "colorscale": {
           "diverging": [
            [
             0,
             "#8e0152"
            ],
            [
             0.1,
             "#c51b7d"
            ],
            [
             0.2,
             "#de77ae"
            ],
            [
             0.3,
             "#f1b6da"
            ],
            [
             0.4,
             "#fde0ef"
            ],
            [
             0.5,
             "#f7f7f7"
            ],
            [
             0.6,
             "#e6f5d0"
            ],
            [
             0.7,
             "#b8e186"
            ],
            [
             0.8,
             "#7fbc41"
            ],
            [
             0.9,
             "#4d9221"
            ],
            [
             1,
             "#276419"
            ]
           ],
           "sequential": [
            [
             0,
             "#0d0887"
            ],
            [
             0.1111111111111111,
             "#46039f"
            ],
            [
             0.2222222222222222,
             "#7201a8"
            ],
            [
             0.3333333333333333,
             "#9c179e"
            ],
            [
             0.4444444444444444,
             "#bd3786"
            ],
            [
             0.5555555555555556,
             "#d8576b"
            ],
            [
             0.6666666666666666,
             "#ed7953"
            ],
            [
             0.7777777777777778,
             "#fb9f3a"
            ],
            [
             0.8888888888888888,
             "#fdca26"
            ],
            [
             1,
             "#f0f921"
            ]
           ],
           "sequentialminus": [
            [
             0,
             "#0d0887"
            ],
            [
             0.1111111111111111,
             "#46039f"
            ],
            [
             0.2222222222222222,
             "#7201a8"
            ],
            [
             0.3333333333333333,
             "#9c179e"
            ],
            [
             0.4444444444444444,
             "#bd3786"
            ],
            [
             0.5555555555555556,
             "#d8576b"
            ],
            [
             0.6666666666666666,
             "#ed7953"
            ],
            [
             0.7777777777777778,
             "#fb9f3a"
            ],
            [
             0.8888888888888888,
             "#fdca26"
            ],
            [
             1,
             "#f0f921"
            ]
           ]
          },
          "colorway": [
           "#636efa",
           "#EF553B",
           "#00cc96",
           "#ab63fa",
           "#FFA15A",
           "#19d3f3",
           "#FF6692",
           "#B6E880",
           "#FF97FF",
           "#FECB52"
          ],
          "font": {
           "color": "#2a3f5f"
          },
          "geo": {
           "bgcolor": "white",
           "lakecolor": "white",
           "landcolor": "#E5ECF6",
           "showlakes": true,
           "showland": true,
           "subunitcolor": "white"
          },
          "hoverlabel": {
           "align": "left"
          },
          "hovermode": "closest",
          "mapbox": {
           "style": "light"
          },
          "paper_bgcolor": "white",
          "plot_bgcolor": "#E5ECF6",
          "polar": {
           "angularaxis": {
            "gridcolor": "white",
            "linecolor": "white",
            "ticks": ""
           },
           "bgcolor": "#E5ECF6",
           "radialaxis": {
            "gridcolor": "white",
            "linecolor": "white",
            "ticks": ""
           }
          },
          "scene": {
           "xaxis": {
            "backgroundcolor": "#E5ECF6",
            "gridcolor": "white",
            "gridwidth": 2,
            "linecolor": "white",
            "showbackground": true,
            "ticks": "",
            "zerolinecolor": "white"
           },
           "yaxis": {
            "backgroundcolor": "#E5ECF6",
            "gridcolor": "white",
            "gridwidth": 2,
            "linecolor": "white",
            "showbackground": true,
            "ticks": "",
            "zerolinecolor": "white"
           },
           "zaxis": {
            "backgroundcolor": "#E5ECF6",
            "gridcolor": "white",
            "gridwidth": 2,
            "linecolor": "white",
            "showbackground": true,
            "ticks": "",
            "zerolinecolor": "white"
           }
          },
          "shapedefaults": {
           "line": {
            "color": "#2a3f5f"
           }
          },
          "ternary": {
           "aaxis": {
            "gridcolor": "white",
            "linecolor": "white",
            "ticks": ""
           },
           "baxis": {
            "gridcolor": "white",
            "linecolor": "white",
            "ticks": ""
           },
           "bgcolor": "#E5ECF6",
           "caxis": {
            "gridcolor": "white",
            "linecolor": "white",
            "ticks": ""
           }
          },
          "title": {
           "x": 0.05
          },
          "xaxis": {
           "automargin": true,
           "gridcolor": "white",
           "linecolor": "white",
           "ticks": "",
           "title": {
            "standoff": 15
           },
           "zerolinecolor": "white",
           "zerolinewidth": 2
          },
          "yaxis": {
           "automargin": true,
           "gridcolor": "white",
           "linecolor": "white",
           "ticks": "",
           "title": {
            "standoff": 15
           },
           "zerolinecolor": "white",
           "zerolinewidth": 2
          }
         }
        },
        "title": {
         "font": {
          "size": 14
         },
         "pad": {
          "t": -55
         },
         "text": "Figure 4. NL, Lemmas by properties, all results, proportion",
         "x": 0,
         "y": 1,
         "yanchor": "top",
         "yref": "paper"
        },
        "width": 590,
        "xaxis": {
         "showgrid": false,
         "visible": false
        },
        "yaxis": {
         "showgrid": false,
         "visible": true
        }
       }
      },
      "text/html": [
       "<div>                            <div id=\"5cd4b8ad-e9d5-432b-bc76-5ce13e32d2b2\" class=\"plotly-graph-div\" style=\"height:1230px; width:590px;\"></div>            <script type=\"text/javascript\">                require([\"plotly\"], function(Plotly) {                    window.PLOTLYENV=window.PLOTLYENV || {};                                    if (document.getElementById(\"5cd4b8ad-e9d5-432b-bc76-5ce13e32d2b2\")) {                    Plotly.newPlot(                        \"5cd4b8ad-e9d5-432b-bc76-5ce13e32d2b2\",                        [{\"hoverinfo\":\"text\",\"hovertext\":[\"1\",\"1\",\"1\",\"1\",\"0\",\"0\",\"0\",\"1\",\"2\",\"0\",\"2\",\"1\",\"2\",\"2\",\"1\",\"2\",\"2\",\"0\",\"3\",\"5\",\"3\",\"4\",\"4\",\"5\",\"5\",\"3\",\"5\",\"8\",\"8\",\"2\",\"2\",\"14\",\"4\",\"11\",\"15\",\"20\",\"18\",\"11\",\"12\",\"26\",\"26\",\"28\",\"25\",\"27\",\"30\",\"28\",\"32\",\"38\",\"35\",\"20\",\"45\",\"61\",\"43\",\"24\",\"36\",\"71\",\"65\",\"45\",\"54\",\"63\",\"4\",\"89\",\"71\",\"64\",\"127\",\"82\",\"77\",\"164\",\"56\",\"139\",\"348\",\"129\",\"320\",\"299\",\"386\",\"591\",\"545\",\"1057\",\"83\",\"32\",\"7\",\"1654\"],\"marker\":{\"color\":\"rgb(0,0,0)\",\"line\":{\"color\":\"black\",\"width\":0.5}},\"name\":\"prefLabel\",\"orientation\":\"h\",\"textfont\":{\"size\":8},\"type\":\"bar\",\"x\":[100.0,100.0,100.0,100.0,0.0,0.0,0.0,50.0,100.0,0.0,100.0,33.33333333333333,66.66666666666666,66.66666666666666,33.33333333333333,66.66666666666666,66.66666666666666,0.0,75.0,100.0,60.0,80.0,80.0,83.33333333333334,71.42857142857143,42.857142857142854,55.55555555555556,88.88888888888889,80.0,18.181818181818183,14.285714285714285,93.33333333333333,25.0,64.70588235294117,75.0,80.0,69.23076923076923,42.30769230769231,44.44444444444444,89.65517241379311,89.65517241379311,82.35294117647058,64.1025641025641,64.28571428571429,69.76744186046511,62.22222222222222,66.66666666666666,79.16666666666666,71.42857142857143,35.714285714285715,71.42857142857143,84.72222222222221,50.588235294117645,27.586206896551722,39.130434782608695,71.71717171717171,65.65656565656566,37.81512605042017,43.90243902439025,49.60629921259843,2.8169014084507045,57.7922077922078,44.65408805031446,39.75155279503105,69.39890710382514,39.61352657004831,33.92070484581498,70.3862660944206,23.628691983122362,52.851711026615966,78.37837837837837,28.98876404494382,55.749128919860624,52.0,54.061624649859944,81.85595567867036,75.38035961272476,69.35695538057742,2.5664811379097094,0.3469586902309444,0.07568385771434749,14.257391604172053],\"y\":[\"eerste wereld\",\"achterlijk\",\"lagelonenland\",\"inboorling\",\"boslandcreool\",\"hottentot\",\"islamiet\",\"primitivisme\",\"koelie\",\"bosneger\",\"koppensneller\",\"lilliputter\",\"tweede wereld\",\"kaffer\",\"mohammedaan\",\"mesties\",\"baboe\",\"travestiet\",\"politionele actie\",\"derde wereld\",\"pygmee\",\"halfbloed\",\"hermafrodiet\",\"allochtoon\",\"volbloed\",\"jappenkamp\",\"medicijnman\",\"barbaar\",\"mulat\",\"ontwikkelingsland\",\"etniciteit\",\"ontdekken\",\"inlander\",\"zuid-rhodesi\\u00eb\",\"ori\\u00ebntaals\",\"homoseksualiteit\",\"inuk\",\"homoseksueel\",\"gekleurd\",\"jap\",\"berber\",\"zigeuner\",\"m\\u00e9tis\",\"primitief\",\"neger\",\"marron\",\"handicap\",\"exotisch\",\"birma\",\"gehandicapte\",\"aboriginal\",\"knecht\",\"slaaf\",\"kaukasisch\",\"mongool\",\"queer\",\"eskimo\",\"inheems\",\"page\",\"madras\",\"afkomst\",\"batavia\",\"indo\",\"dwerg\",\"blank\",\"bombay\",\"bediende\",\"roots\",\"stam\",\"westers\",\"trans\",\"calcutta\",\"indisch\",\"gay\",\"traditioneel\",\"ras\",\"moor\",\"zwart\",\"homo\",\"indiaan\",\"etnische groep\",\"wit\"]},{\"hoverinfo\":\"text\",\"hovertext\":[\"0\",\"0\",\"0\",\"0\",\"1\",\"2\",\"2\",\"1\",\"0\",\"2\",\"0\",\"2\",\"1\",\"0\",\"2\",\"1\",\"1\",\"1\",\"1\",\"0\",\"1\",\"1\",\"1\",\"1\",\"2\",\"1\",\"1\",\"1\",\"2\",\"3\",\"2\",\"0\",\"2\",\"0\",\"2\",\"1\",\"5\",\"4\",\"0\",\"3\",\"2\",\"6\",\"4\",\"8\",\"5\",\"2\",\"5\",\"2\",\"11\",\"5\",\"7\",\"7\",\"7\",\"16\",\"7\",\"0\",\"5\",\"11\",\"59\",\"3\",\"12\",\"21\",\"22\",\"20\",\"21\",\"20\",\"6\",\"7\",\"20\",\"44\",\"56\",\"47\",\"111\",\"35\",\"60\",\"43\",\"39\",\"236\",\"28\",\"8\",\"1\",\"439\"],\"marker\":{\"color\":\"rgb(128, 128, 128)\",\"line\":{\"color\":\"black\",\"width\":0.5}},\"name\":\"aliases\",\"orientation\":\"h\",\"textfont\":{\"size\":8},\"type\":\"bar\",\"x\":[0.0,0.0,0.0,0.0,100.0,100.0,100.0,50.0,0.0,100.0,0.0,66.66666666666666,33.33333333333333,0.0,66.66666666666666,33.33333333333333,33.33333333333333,25.0,25.0,0.0,20.0,20.0,20.0,16.666666666666664,28.57142857142857,14.285714285714285,11.11111111111111,11.11111111111111,20.0,27.27272727272727,14.285714285714285,0.0,12.5,0.0,10.0,4.0,19.230769230769234,15.384615384615385,0.0,10.344827586206897,6.896551724137931,17.647058823529413,10.256410256410255,19.047619047619047,11.627906976744185,4.444444444444445,10.416666666666668,4.166666666666666,22.448979591836736,8.928571428571429,11.11111111111111,9.722222222222223,8.235294117647058,18.39080459770115,7.608695652173914,0.0,5.05050505050505,9.243697478991598,47.96747967479675,2.3622047244094486,8.450704225352112,13.636363636363635,13.836477987421384,12.422360248447205,11.475409836065573,9.66183574879227,2.643171806167401,3.004291845493562,8.438818565400844,16.730038022813687,12.612612612612612,10.561797752808989,19.337979094076655,6.086956521739131,8.403361344537815,5.955678670360111,5.394190871369295,15.485564304461944,0.8658008658008658,0.0867396725577361,0.010811979673478214,3.7841565382294626],\"y\":[\"eerste wereld\",\"achterlijk\",\"lagelonenland\",\"inboorling\",\"boslandcreool\",\"hottentot\",\"islamiet\",\"primitivisme\",\"koelie\",\"bosneger\",\"koppensneller\",\"lilliputter\",\"tweede wereld\",\"kaffer\",\"mohammedaan\",\"mesties\",\"baboe\",\"travestiet\",\"politionele actie\",\"derde wereld\",\"pygmee\",\"halfbloed\",\"hermafrodiet\",\"allochtoon\",\"volbloed\",\"jappenkamp\",\"medicijnman\",\"barbaar\",\"mulat\",\"ontwikkelingsland\",\"etniciteit\",\"ontdekken\",\"inlander\",\"zuid-rhodesi\\u00eb\",\"ori\\u00ebntaals\",\"homoseksualiteit\",\"inuk\",\"homoseksueel\",\"gekleurd\",\"jap\",\"berber\",\"zigeuner\",\"m\\u00e9tis\",\"primitief\",\"neger\",\"marron\",\"handicap\",\"exotisch\",\"birma\",\"gehandicapte\",\"aboriginal\",\"knecht\",\"slaaf\",\"kaukasisch\",\"mongool\",\"queer\",\"eskimo\",\"inheems\",\"page\",\"madras\",\"afkomst\",\"batavia\",\"indo\",\"dwerg\",\"blank\",\"bombay\",\"bediende\",\"roots\",\"stam\",\"westers\",\"trans\",\"calcutta\",\"indisch\",\"gay\",\"traditioneel\",\"ras\",\"moor\",\"zwart\",\"homo\",\"indiaan\",\"etnische groep\",\"wit\"]},{\"hoverinfo\":\"text\",\"hovertext\":[\"0\",\"0\",\"0\",\"0\",\"0\",\"0\",\"0\",\"0\",\"0\",\"0\",\"0\",\"0\",\"0\",\"1\",\"0\",\"0\",\"0\",\"3\",\"0\",\"0\",\"1\",\"0\",\"0\",\"0\",\"0\",\"3\",\"3\",\"0\",\"0\",\"6\",\"10\",\"1\",\"10\",\"6\",\"3\",\"4\",\"3\",\"11\",\"15\",\"0\",\"1\",\"0\",\"10\",\"7\",\"8\",\"15\",\"11\",\"8\",\"3\",\"31\",\"11\",\"4\",\"35\",\"47\",\"49\",\"28\",\"29\",\"63\",\"10\",\"61\",\"126\",\"44\",\"66\",\"77\",\"35\",\"105\",\"144\",\"62\",\"161\",\"80\",\"40\",\"269\",\"143\",\"241\",\"268\",\"88\",\"139\",\"231\",\"3123\",\"9183\",\"9241\",\"9508\"],\"marker\":{\"color\":\"rgb(224, 224, 224)\",\"line\":{\"color\":\"black\",\"width\":0.5}},\"name\":\"description\",\"orientation\":\"h\",\"text\":[\"1\",\"1\",\"1\",\"1\",\"1\",\"2\",\"2\",\"2\",\"2\",\"2\",\"2\",\"3\",\"3\",\"3\",\"3\",\"3\",\"3\",\"4\",\"4\",\"5\",\"5\",\"5\",\"5\",\"6\",\"7\",\"7\",\"9\",\"9\",\"10\",\"11\",\"14\",\"15\",\"16\",\"17\",\"20\",\"25\",\"26\",\"26\",\"27\",\"29\",\"29\",\"34\",\"39\",\"42\",\"43\",\"45\",\"48\",\"48\",\"49\",\"56\",\"63\",\"72\",\"85\",\"87\",\"92\",\"99\",\"99\",\"119\",\"123\",\"127\",\"142\",\"154\",\"159\",\"161\",\"183\",\"207\",\"227\",\"233\",\"237\",\"263\",\"444\",\"445\",\"574\",\"575\",\"714\",\"722\",\"723\",\"1524\",\"3234\",\"9223\",\"9249\",\"11601\"],\"textfont\":{\"size\":8},\"textposition\":\"outside\",\"type\":\"bar\",\"x\":[0.0,0.0,0.0,0.0,0.0,0.0,0.0,0.0,0.0,0.0,0.0,0.0,0.0,33.33333333333333,0.0,0.0,0.0,75.0,0.0,0.0,20.0,0.0,0.0,0.0,0.0,42.857142857142854,33.33333333333333,0.0,0.0,54.54545454545454,71.42857142857143,6.666666666666667,62.5,35.294117647058826,15.0,16.0,11.538461538461538,42.30769230769231,55.55555555555556,0.0,3.4482758620689653,0.0,25.64102564102564,16.666666666666664,18.6046511627907,33.33333333333333,22.916666666666664,16.666666666666664,6.122448979591836,55.35714285714286,17.46031746031746,5.555555555555555,41.17647058823529,54.02298850574713,53.2608695652174,28.28282828282828,29.292929292929294,52.94117647058824,8.130081300813007,48.031496062992126,88.73239436619718,28.57142857142857,41.509433962264154,47.82608695652174,19.12568306010929,50.72463768115942,63.436123348017624,26.609442060085836,67.9324894514768,30.418250950570343,9.00900900900901,60.449438202247194,24.912891986062718,41.91304347826087,37.53501400560224,12.18836565096953,19.22544951590595,15.157480314960631,96.56771799628943,99.56630163721132,99.91350416261217,81.95845185759848],\"y\":[\"eerste wereld\",\"achterlijk\",\"lagelonenland\",\"inboorling\",\"boslandcreool\",\"hottentot\",\"islamiet\",\"primitivisme\",\"koelie\",\"bosneger\",\"koppensneller\",\"lilliputter\",\"tweede wereld\",\"kaffer\",\"mohammedaan\",\"mesties\",\"baboe\",\"travestiet\",\"politionele actie\",\"derde wereld\",\"pygmee\",\"halfbloed\",\"hermafrodiet\",\"allochtoon\",\"volbloed\",\"jappenkamp\",\"medicijnman\",\"barbaar\",\"mulat\",\"ontwikkelingsland\",\"etniciteit\",\"ontdekken\",\"inlander\",\"zuid-rhodesi\\u00eb\",\"ori\\u00ebntaals\",\"homoseksualiteit\",\"inuk\",\"homoseksueel\",\"gekleurd\",\"jap\",\"berber\",\"zigeuner\",\"m\\u00e9tis\",\"primitief\",\"neger\",\"marron\",\"handicap\",\"exotisch\",\"birma\",\"gehandicapte\",\"aboriginal\",\"knecht\",\"slaaf\",\"kaukasisch\",\"mongool\",\"queer\",\"eskimo\",\"inheems\",\"page\",\"madras\",\"afkomst\",\"batavia\",\"indo\",\"dwerg\",\"blank\",\"bombay\",\"bediende\",\"roots\",\"stam\",\"westers\",\"trans\",\"calcutta\",\"indisch\",\"gay\",\"traditioneel\",\"ras\",\"moor\",\"zwart\",\"homo\",\"indiaan\",\"etnische groep\",\"wit\"]}],                        {\"bargap\":0.2,\"barmode\":\"stack\",\"font\":{\"color\":\"black\",\"family\":\"Arial\",\"size\":8},\"height\":1230,\"legend\":{\"font\":{\"color\":\"black\",\"family\":\"Arial\",\"size\":8},\"itemsizing\":\"constant\",\"itemwidth\":30,\"orientation\":\"h\",\"traceorder\":\"normal\",\"x\":-0.03,\"xanchor\":\"left\",\"y\":1.03,\"yanchor\":\"top\"},\"margin\":{\"b\":0,\"l\":0,\"pad\":1,\"r\":0,\"t\":60},\"paper_bgcolor\":\"rgb(255, 255, 255)\",\"plot_bgcolor\":\"rgb(255, 255, 255)\",\"template\":{\"data\":{\"bar\":[{\"error_x\":{\"color\":\"#2a3f5f\"},\"error_y\":{\"color\":\"#2a3f5f\"},\"marker\":{\"line\":{\"color\":\"#E5ECF6\",\"width\":0.5},\"pattern\":{\"fillmode\":\"overlay\",\"size\":10,\"solidity\":0.2}},\"type\":\"bar\"}],\"barpolar\":[{\"marker\":{\"line\":{\"color\":\"#E5ECF6\",\"width\":0.5},\"pattern\":{\"fillmode\":\"overlay\",\"size\":10,\"solidity\":0.2}},\"type\":\"barpolar\"}],\"carpet\":[{\"aaxis\":{\"endlinecolor\":\"#2a3f5f\",\"gridcolor\":\"white\",\"linecolor\":\"white\",\"minorgridcolor\":\"white\",\"startlinecolor\":\"#2a3f5f\"},\"baxis\":{\"endlinecolor\":\"#2a3f5f\",\"gridcolor\":\"white\",\"linecolor\":\"white\",\"minorgridcolor\":\"white\",\"startlinecolor\":\"#2a3f5f\"},\"type\":\"carpet\"}],\"choropleth\":[{\"colorbar\":{\"outlinewidth\":0,\"ticks\":\"\"},\"type\":\"choropleth\"}],\"contour\":[{\"colorbar\":{\"outlinewidth\":0,\"ticks\":\"\"},\"colorscale\":[[0.0,\"#0d0887\"],[0.1111111111111111,\"#46039f\"],[0.2222222222222222,\"#7201a8\"],[0.3333333333333333,\"#9c179e\"],[0.4444444444444444,\"#bd3786\"],[0.5555555555555556,\"#d8576b\"],[0.6666666666666666,\"#ed7953\"],[0.7777777777777778,\"#fb9f3a\"],[0.8888888888888888,\"#fdca26\"],[1.0,\"#f0f921\"]],\"type\":\"contour\"}],\"contourcarpet\":[{\"colorbar\":{\"outlinewidth\":0,\"ticks\":\"\"},\"type\":\"contourcarpet\"}],\"heatmap\":[{\"colorbar\":{\"outlinewidth\":0,\"ticks\":\"\"},\"colorscale\":[[0.0,\"#0d0887\"],[0.1111111111111111,\"#46039f\"],[0.2222222222222222,\"#7201a8\"],[0.3333333333333333,\"#9c179e\"],[0.4444444444444444,\"#bd3786\"],[0.5555555555555556,\"#d8576b\"],[0.6666666666666666,\"#ed7953\"],[0.7777777777777778,\"#fb9f3a\"],[0.8888888888888888,\"#fdca26\"],[1.0,\"#f0f921\"]],\"type\":\"heatmap\"}],\"heatmapgl\":[{\"colorbar\":{\"outlinewidth\":0,\"ticks\":\"\"},\"colorscale\":[[0.0,\"#0d0887\"],[0.1111111111111111,\"#46039f\"],[0.2222222222222222,\"#7201a8\"],[0.3333333333333333,\"#9c179e\"],[0.4444444444444444,\"#bd3786\"],[0.5555555555555556,\"#d8576b\"],[0.6666666666666666,\"#ed7953\"],[0.7777777777777778,\"#fb9f3a\"],[0.8888888888888888,\"#fdca26\"],[1.0,\"#f0f921\"]],\"type\":\"heatmapgl\"}],\"histogram\":[{\"marker\":{\"pattern\":{\"fillmode\":\"overlay\",\"size\":10,\"solidity\":0.2}},\"type\":\"histogram\"}],\"histogram2d\":[{\"colorbar\":{\"outlinewidth\":0,\"ticks\":\"\"},\"colorscale\":[[0.0,\"#0d0887\"],[0.1111111111111111,\"#46039f\"],[0.2222222222222222,\"#7201a8\"],[0.3333333333333333,\"#9c179e\"],[0.4444444444444444,\"#bd3786\"],[0.5555555555555556,\"#d8576b\"],[0.6666666666666666,\"#ed7953\"],[0.7777777777777778,\"#fb9f3a\"],[0.8888888888888888,\"#fdca26\"],[1.0,\"#f0f921\"]],\"type\":\"histogram2d\"}],\"histogram2dcontour\":[{\"colorbar\":{\"outlinewidth\":0,\"ticks\":\"\"},\"colorscale\":[[0.0,\"#0d0887\"],[0.1111111111111111,\"#46039f\"],[0.2222222222222222,\"#7201a8\"],[0.3333333333333333,\"#9c179e\"],[0.4444444444444444,\"#bd3786\"],[0.5555555555555556,\"#d8576b\"],[0.6666666666666666,\"#ed7953\"],[0.7777777777777778,\"#fb9f3a\"],[0.8888888888888888,\"#fdca26\"],[1.0,\"#f0f921\"]],\"type\":\"histogram2dcontour\"}],\"mesh3d\":[{\"colorbar\":{\"outlinewidth\":0,\"ticks\":\"\"},\"type\":\"mesh3d\"}],\"parcoords\":[{\"line\":{\"colorbar\":{\"outlinewidth\":0,\"ticks\":\"\"}},\"type\":\"parcoords\"}],\"pie\":[{\"automargin\":true,\"type\":\"pie\"}],\"scatter\":[{\"marker\":{\"colorbar\":{\"outlinewidth\":0,\"ticks\":\"\"}},\"type\":\"scatter\"}],\"scatter3d\":[{\"line\":{\"colorbar\":{\"outlinewidth\":0,\"ticks\":\"\"}},\"marker\":{\"colorbar\":{\"outlinewidth\":0,\"ticks\":\"\"}},\"type\":\"scatter3d\"}],\"scattercarpet\":[{\"marker\":{\"colorbar\":{\"outlinewidth\":0,\"ticks\":\"\"}},\"type\":\"scattercarpet\"}],\"scattergeo\":[{\"marker\":{\"colorbar\":{\"outlinewidth\":0,\"ticks\":\"\"}},\"type\":\"scattergeo\"}],\"scattergl\":[{\"marker\":{\"colorbar\":{\"outlinewidth\":0,\"ticks\":\"\"}},\"type\":\"scattergl\"}],\"scattermapbox\":[{\"marker\":{\"colorbar\":{\"outlinewidth\":0,\"ticks\":\"\"}},\"type\":\"scattermapbox\"}],\"scatterpolar\":[{\"marker\":{\"colorbar\":{\"outlinewidth\":0,\"ticks\":\"\"}},\"type\":\"scatterpolar\"}],\"scatterpolargl\":[{\"marker\":{\"colorbar\":{\"outlinewidth\":0,\"ticks\":\"\"}},\"type\":\"scatterpolargl\"}],\"scatterternary\":[{\"marker\":{\"colorbar\":{\"outlinewidth\":0,\"ticks\":\"\"}},\"type\":\"scatterternary\"}],\"surface\":[{\"colorbar\":{\"outlinewidth\":0,\"ticks\":\"\"},\"colorscale\":[[0.0,\"#0d0887\"],[0.1111111111111111,\"#46039f\"],[0.2222222222222222,\"#7201a8\"],[0.3333333333333333,\"#9c179e\"],[0.4444444444444444,\"#bd3786\"],[0.5555555555555556,\"#d8576b\"],[0.6666666666666666,\"#ed7953\"],[0.7777777777777778,\"#fb9f3a\"],[0.8888888888888888,\"#fdca26\"],[1.0,\"#f0f921\"]],\"type\":\"surface\"}],\"table\":[{\"cells\":{\"fill\":{\"color\":\"#EBF0F8\"},\"line\":{\"color\":\"white\"}},\"header\":{\"fill\":{\"color\":\"#C8D4E3\"},\"line\":{\"color\":\"white\"}},\"type\":\"table\"}]},\"layout\":{\"annotationdefaults\":{\"arrowcolor\":\"#2a3f5f\",\"arrowhead\":0,\"arrowwidth\":1},\"autotypenumbers\":\"strict\",\"coloraxis\":{\"colorbar\":{\"outlinewidth\":0,\"ticks\":\"\"}},\"colorscale\":{\"diverging\":[[0,\"#8e0152\"],[0.1,\"#c51b7d\"],[0.2,\"#de77ae\"],[0.3,\"#f1b6da\"],[0.4,\"#fde0ef\"],[0.5,\"#f7f7f7\"],[0.6,\"#e6f5d0\"],[0.7,\"#b8e186\"],[0.8,\"#7fbc41\"],[0.9,\"#4d9221\"],[1,\"#276419\"]],\"sequential\":[[0.0,\"#0d0887\"],[0.1111111111111111,\"#46039f\"],[0.2222222222222222,\"#7201a8\"],[0.3333333333333333,\"#9c179e\"],[0.4444444444444444,\"#bd3786\"],[0.5555555555555556,\"#d8576b\"],[0.6666666666666666,\"#ed7953\"],[0.7777777777777778,\"#fb9f3a\"],[0.8888888888888888,\"#fdca26\"],[1.0,\"#f0f921\"]],\"sequentialminus\":[[0.0,\"#0d0887\"],[0.1111111111111111,\"#46039f\"],[0.2222222222222222,\"#7201a8\"],[0.3333333333333333,\"#9c179e\"],[0.4444444444444444,\"#bd3786\"],[0.5555555555555556,\"#d8576b\"],[0.6666666666666666,\"#ed7953\"],[0.7777777777777778,\"#fb9f3a\"],[0.8888888888888888,\"#fdca26\"],[1.0,\"#f0f921\"]]},\"colorway\":[\"#636efa\",\"#EF553B\",\"#00cc96\",\"#ab63fa\",\"#FFA15A\",\"#19d3f3\",\"#FF6692\",\"#B6E880\",\"#FF97FF\",\"#FECB52\"],\"font\":{\"color\":\"#2a3f5f\"},\"geo\":{\"bgcolor\":\"white\",\"lakecolor\":\"white\",\"landcolor\":\"#E5ECF6\",\"showlakes\":true,\"showland\":true,\"subunitcolor\":\"white\"},\"hoverlabel\":{\"align\":\"left\"},\"hovermode\":\"closest\",\"mapbox\":{\"style\":\"light\"},\"paper_bgcolor\":\"white\",\"plot_bgcolor\":\"#E5ECF6\",\"polar\":{\"angularaxis\":{\"gridcolor\":\"white\",\"linecolor\":\"white\",\"ticks\":\"\"},\"bgcolor\":\"#E5ECF6\",\"radialaxis\":{\"gridcolor\":\"white\",\"linecolor\":\"white\",\"ticks\":\"\"}},\"scene\":{\"xaxis\":{\"backgroundcolor\":\"#E5ECF6\",\"gridcolor\":\"white\",\"gridwidth\":2,\"linecolor\":\"white\",\"showbackground\":true,\"ticks\":\"\",\"zerolinecolor\":\"white\"},\"yaxis\":{\"backgroundcolor\":\"#E5ECF6\",\"gridcolor\":\"white\",\"gridwidth\":2,\"linecolor\":\"white\",\"showbackground\":true,\"ticks\":\"\",\"zerolinecolor\":\"white\"},\"zaxis\":{\"backgroundcolor\":\"#E5ECF6\",\"gridcolor\":\"white\",\"gridwidth\":2,\"linecolor\":\"white\",\"showbackground\":true,\"ticks\":\"\",\"zerolinecolor\":\"white\"}},\"shapedefaults\":{\"line\":{\"color\":\"#2a3f5f\"}},\"ternary\":{\"aaxis\":{\"gridcolor\":\"white\",\"linecolor\":\"white\",\"ticks\":\"\"},\"baxis\":{\"gridcolor\":\"white\",\"linecolor\":\"white\",\"ticks\":\"\"},\"bgcolor\":\"#E5ECF6\",\"caxis\":{\"gridcolor\":\"white\",\"linecolor\":\"white\",\"ticks\":\"\"}},\"title\":{\"x\":0.05},\"xaxis\":{\"automargin\":true,\"gridcolor\":\"white\",\"linecolor\":\"white\",\"ticks\":\"\",\"title\":{\"standoff\":15},\"zerolinecolor\":\"white\",\"zerolinewidth\":2},\"yaxis\":{\"automargin\":true,\"gridcolor\":\"white\",\"linecolor\":\"white\",\"ticks\":\"\",\"title\":{\"standoff\":15},\"zerolinecolor\":\"white\",\"zerolinewidth\":2}}},\"title\":{\"font\":{\"size\":14},\"pad\":{\"t\":-55},\"text\":\"Figure 4. NL, Lemmas by properties, all results, proportion\",\"x\":0,\"y\":1,\"yanchor\":\"top\",\"yref\":\"paper\"},\"width\":590,\"xaxis\":{\"showgrid\":false,\"visible\":false},\"yaxis\":{\"showgrid\":false,\"visible\":true}},                        {\"responsive\": true}                    ).then(function(){\n",
       "                            \n",
       "var gd = document.getElementById('5cd4b8ad-e9d5-432b-bc76-5ce13e32d2b2');\n",
       "var x = new MutationObserver(function (mutations, observer) {{\n",
       "        var display = window.getComputedStyle(gd).display;\n",
       "        if (!display || display === 'none') {{\n",
       "            console.log([gd, 'removed!']);\n",
       "            Plotly.purge(gd);\n",
       "            observer.disconnect();\n",
       "        }}\n",
       "}});\n",
       "\n",
       "// Listen for the removal of the full notebook cells\n",
       "var notebookContainer = gd.closest('#notebook-container');\n",
       "if (notebookContainer) {{\n",
       "    x.observe(notebookContainer, {childList: true});\n",
       "}}\n",
       "\n",
       "// Listen for the clearing of the current output cell\n",
       "var outputEl = gd.closest('.output');\n",
       "if (outputEl) {{\n",
       "    x.observe(outputEl, {childList: true});\n",
       "}}\n",
       "\n",
       "                        })                };                });            </script>        </div>"
      ]
     },
     "metadata": {},
     "output_type": "display_data"
    }
   ],
   "source": [
    "lemmas = list(all_hits_by_lemma_nl_p['lemma'])\n",
    "pref = list(all_hits_by_lemma_nl_p['wd_prefLabel_p'])\n",
    "alias = list(all_hits_by_lemma_nl_p['wd_aliases_p'])\n",
    "descr = list(all_hits_by_lemma_nl_p['wd_descr_p'])\n",
    "#ocr = list(fig_4_data['ocr'])\n",
    "#no_majority = list(fig_4_data['no_majority'])\n",
    "text_marker = list(all_hits_by_lemma_nl_p['wd_lemma_total'])\n",
    "\n",
    "bar_chart = go.Figure(data=[\n",
    "    go.Bar(name=\"prefLabel\",\n",
    "           x=pref,\n",
    "           y=lemmas,\n",
    "           hovertext=list(all_hits_by_lemma_nl_p['wd_prefLabel']),\n",
    "           orientation='h',\n",
    "           marker_color='rgb(0,0,0)'),\n",
    "    \n",
    "    go.Bar(name=\"aliases\",\n",
    "           x=alias,\n",
    "           y=lemmas,\n",
    "           hovertext=list(all_hits_by_lemma_nl_p['wd_aliases']),\n",
    "           orientation='h',\n",
    "           marker_color='rgb(128, 128, 128)'),\n",
    "    \n",
    "    go.Bar(name=\"description\",\n",
    "           x=descr,\n",
    "           y=lemmas,\n",
    "           hovertext=list(all_hits_by_lemma_nl_p['wd_descr']),\n",
    "           orientation='h',\n",
    "           marker_color='rgb(224, 224, 224)',\n",
    "           text=text_marker,\n",
    "           textposition='outside')\n",
    "\n",
    "])\n",
    "\n",
    "bar_chart.update_layout(barmode='stack',\n",
    "                  width=590,\n",
    "                  height=1230,\n",
    "                  bargap=0.2,\n",
    "                  paper_bgcolor='rgb(255, 255, 255)',\n",
    "                  plot_bgcolor='rgb(255, 255, 255)',\n",
    "                  title={\"text\":\"Figure 4. NL, Lemmas by properties, all results, proportion\",\n",
    "                        \"x\":0,\n",
    "                        \"y\":1,\n",
    "                        \"yanchor\":\"top\",\n",
    "                        \"yref\":\"paper\",\n",
    "                        \"pad\":{\"t\":-55},\n",
    "                        \"font\":{\"size\":14}},\n",
    "                  \n",
    "                  margin=dict(\n",
    "                    l=0,\n",
    "                    r=0,\n",
    "                    b=0,\n",
    "                    t=60,\n",
    "                    pad=1),\n",
    "                  \n",
    "                  font=dict(\n",
    "                    family=\"Arial\",\n",
    "                    size=8,\n",
    "                    color=\"black\"),\n",
    "                  \n",
    "                  legend=dict(\n",
    "                    traceorder=\"normal\",\n",
    "                    orientation=\"h\",\n",
    "                    itemsizing='constant',\n",
    "                    itemwidth=30,\n",
    "                    yanchor=\"top\",\n",
    "                    y=1.03,\n",
    "                    xanchor=\"left\",\n",
    "                    x=-0.03,\n",
    "                    font=dict(\n",
    "                    family=\"Arial\",\n",
    "                    size=8,\n",
    "                    color=\"black\"\n",
    "                )),\n",
    "                 )\n",
    "\n",
    "bar_chart.update_traces(marker=dict(line=dict(width=0.5),line_color=\"black\"),hoverinfo='text',\n",
    "                 textfont_size=8, selector=dict(type='bar'))\n",
    "\n",
    "bar_chart.update_yaxes(showgrid=False,\n",
    "                visible=True)\n",
    "\n",
    "bar_chart.update_xaxes(showgrid=False,\n",
    "                visible=False)\n",
    "\n",
    "bar_chart.show()"
   ]
  },
  {
   "cell_type": "code",
   "execution_count": 180,
   "metadata": {},
   "outputs": [],
   "source": [
    "bar_chart.write_html('all_hits_by_lemma_perc_nl.html',include_plotlyjs=\"cdn\")"
   ]
  },
  {
   "cell_type": "code",
   "execution_count": null,
   "metadata": {},
   "outputs": [],
   "source": []
  }
 ],
 "metadata": {
  "kernelspec": {
   "display_name": "Python 3",
   "language": "python",
   "name": "python3"
  },
  "language_info": {
   "codemirror_mode": {
    "name": "ipython",
    "version": 3
   },
   "file_extension": ".py",
   "mimetype": "text/x-python",
   "name": "python",
   "nbconvert_exporter": "python",
   "pygments_lexer": "ipython3",
   "version": "3.8.5"
  }
 },
 "nbformat": 4,
 "nbformat_minor": 4
}
