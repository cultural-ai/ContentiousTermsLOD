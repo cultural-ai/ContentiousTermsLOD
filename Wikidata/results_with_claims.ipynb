{
 "cells": [
  {
   "cell_type": "markdown",
   "metadata": {},
   "source": [
    "## Connecting found entities to their claims"
   ]
  },
  {
   "cell_type": "code",
   "execution_count": null,
   "metadata": {},
   "outputs": [],
   "source": [
    "import json"
   ]
  },
  {
   "cell_type": "code",
   "execution_count": null,
   "metadata": {},
   "outputs": [],
   "source": [
    "# importing EN results\n",
    "with open('/Users/anesterov/wd/jan31/terms_found_en.json','r') as jf:\n",
    "    results_en = json.load(jf)"
   ]
  },
  {
   "cell_type": "code",
   "execution_count": null,
   "metadata": {},
   "outputs": [],
   "source": [
    "# importing NL results\n",
    "with open('/Users/anesterov/wd/jan31/terms_found_nl.json','r') as jf:\n",
    "    results_nl = json.load(jf)"
   ]
  },
  {
   "cell_type": "code",
   "execution_count": null,
   "metadata": {},
   "outputs": [],
   "source": [
    "# importing all claims with labels\n",
    "with open('/Users/anesterov/wd/jan31/all_claims_with_labels.json','r') as jf:\n",
    "    claims = json.load(jf)"
   ]
  },
  {
   "cell_type": "code",
   "execution_count": null,
   "metadata": {},
   "outputs": [],
   "source": [
    "# mergin results with claims EN\n",
    "for term, hits in results_en.items():\n",
    "    for hit in hits:\n",
    "        if hit['QID'] in claims.keys():\n",
    "            hit['instance_of'] = [value['en'] for value in claims[hit['QID']]['P31'].values() if value.get('en') != None]\n",
    "            hit['subclass_of'] = [value['en'] for value in claims[hit['QID']]['P279'].values() if value.get('en') != None]     "
   ]
  },
  {
   "cell_type": "code",
   "execution_count": null,
   "metadata": {},
   "outputs": [],
   "source": [
    "# saving EN results with claims\n",
    "with open(\"/Users/anesterov/wd/jan31/results_with_claims_en.json\",\"w\") as jf:\n",
    "    json.dump(results_en, jf)"
   ]
  },
  {
   "cell_type": "code",
   "execution_count": null,
   "metadata": {},
   "outputs": [],
   "source": [
    "# mergin results with claims NL\n",
    "for term, hits in results_nl.items():\n",
    "    for hit in hits:\n",
    "        if hit['QID'] in claims.keys():\n",
    "            hit['instance_of'] = [value['nl'] for value in claims[hit['QID']]['P31'].values() if value.get('nl') != None]\n",
    "            hit['subclass_of'] = [value['nl'] for value in claims[hit['QID']]['P279'].values() if value.get('nl') != None]     "
   ]
  },
  {
   "cell_type": "code",
   "execution_count": null,
   "metadata": {},
   "outputs": [],
   "source": [
    "# saving NL results with claims\n",
    "with open(\"/Users/anesterov/wd/jan31/results_with_claims_nl.json\",\"w\") as jf:\n",
    "    json.dump(results_nl, jf)"
   ]
  }
 ],
 "metadata": {
  "kernelspec": {
   "display_name": "Python 3",
   "language": "python",
   "name": "python3"
  },
  "language_info": {
   "codemirror_mode": {
    "name": "ipython",
    "version": 3
   },
   "file_extension": ".py",
   "mimetype": "text/x-python",
   "name": "python",
   "nbconvert_exporter": "python",
   "pygments_lexer": "ipython3",
   "version": "3.8.5"
  }
 },
 "nbformat": 4,
 "nbformat_minor": 4
}
