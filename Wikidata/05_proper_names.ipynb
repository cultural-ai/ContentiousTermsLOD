{
 "cells": [
  {
   "cell_type": "markdown",
   "metadata": {},
   "source": [
    "### Filtering out Wikidata entities that represent proper names\n",
    "IF\n",
    "* P31 = Q5 (\"instance of\" is \"human\")\n",
    "* capitalised query term is used in prefLabel"
   ]
  },
  {
   "cell_type": "code",
   "execution_count": null,
   "metadata": {},
   "outputs": [],
   "source": [
    "import json\n",
    "from LODlit import wd"
   ]
  },
  {
   "cell_type": "code",
   "execution_count": null,
   "metadata": {},
   "outputs": [],
   "source": [
    "path_to_results_with_claims_en = 'results_with_claims_en.json' # gzipped on GitHub with the prefix \"gzip_\"\n",
    "path_to_results_with_claims_nl = 'results_with_claims_nl.json' # gzipped on GitHub with the prefix \"gzip_\"\n",
    "path_to_save = '' # where to save clean results"
   ]
  },
  {
   "cell_type": "markdown",
   "metadata": {},
   "source": [
    "The function *.filter_proper_names()* saves a json file with search results without proper names (results_clean_[lang].json);\n",
    "\n",
    "On GitHub, these files are gzipped and have the prefix \"gzip_\""
   ]
  },
  {
   "cell_type": "code",
   "execution_count": null,
   "metadata": {},
   "outputs": [],
   "source": [
    "# EN\n",
    "wd.filter_proper_names(path_to_results_with_claims_en,'en',path_to_save)"
   ]
  },
  {
   "cell_type": "code",
   "execution_count": null,
   "metadata": {},
   "outputs": [],
   "source": [
    "# NL\n",
    "wd.filter_proper_names(path_to_results_with_claims_nl,'nl',path_to_save)"
   ]
  }
 ],
 "metadata": {
  "kernelspec": {
   "display_name": "Python 3 (ipykernel)",
   "language": "python",
   "name": "python3"
  },
  "language_info": {
   "codemirror_mode": {
    "name": "ipython",
    "version": 3
   },
   "file_extension": ".py",
   "mimetype": "text/x-python",
   "name": "python",
   "nbconvert_exporter": "python",
   "pygments_lexer": "ipython3",
   "version": "3.8.5"
  }
 },
 "nbformat": 4,
 "nbformat_minor": 4
}
