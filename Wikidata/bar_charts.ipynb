{
 "cells": [
  {
   "cell_type": "code",
   "execution_count": 1,
   "metadata": {},
   "outputs": [],
   "source": [
    "import json\n",
    "import csv\n",
    "import pandas as pd\n",
    "import sys\n",
    "import plotly.graph_objects as go\n",
    "from IPython.display import Image"
   ]
  },
  {
   "cell_type": "code",
   "execution_count": null,
   "metadata": {},
   "outputs": [],
   "source": [
    "def draw_bar_chart(path_to_data:str,figure_title:str,proportional=False):\n",
    "    \n",
    "    to_plot = pd.read_csv(path_to_data)\n",
    "    # sorting\n",
    "    to_plot.sort_values(\"wd_total\", ascending=True, inplace=True)\n",
    "    \n",
    "    lemmas = list(to_plot['lemma'])\n",
    "    pref = list(to_plot['wd_pref'])\n",
    "    alias = list(to_plot['wd_aliases'])\n",
    "    descr = list(to_plot['wd_descr'])\n",
    "    text_marker = list(to_plot['wd_total'])\n",
    "    \n",
    "    if proportional:\n",
    "        # add proportional column\n",
    "        to_plot_p = to_plot.assign(wd_pref_p=lambda x: x.wd_pref / x.wd_total * 100,\n",
    "                                   wd_aliases_p=lambda x: x.wd_aliases / x.wd_total * 100,\n",
    "                                   wd_descr_p=lambda x: x.wd_descr / x.wd_total * 100)\n",
    "        # sort\n",
    "        to_plot_p.sort_values(\"wd_total\", ascending=True, inplace=True)\n",
    "        \n",
    "        # reassign variables\n",
    "        pref = list(to_plot_p['wd_pref_p'])\n",
    "        alias = list(to_plot_p['wd_aliases_p'])\n",
    "        descr = list(to_plot_p['wd_descr_p'])\n",
    "        \n",
    "    bar_chart = go.Figure(data=[\n",
    "    go.Bar(name=\"prefLabel\",\n",
    "           x=pref,\n",
    "           y=lemmas,\n",
    "           hovertext=to_plot['wd_pref'],\n",
    "           orientation='h',\n",
    "           marker_color='rgb(0,0,0)'),\n",
    "    \n",
    "    go.Bar(name=\"aliases\",\n",
    "           x=alias,\n",
    "           y=lemmas,\n",
    "           hovertext=to_plot['wd_aliases'],\n",
    "           orientation='h',\n",
    "           marker_color='rgb(128, 128, 128)'),\n",
    "    \n",
    "    go.Bar(name=\"description\",\n",
    "           x=descr,\n",
    "           y=lemmas,\n",
    "           hovertext=to_plot['wd_descr'],\n",
    "           orientation='h',\n",
    "           marker_color='rgb(224, 224, 224)',\n",
    "           text=text_marker,\n",
    "           textposition='outside')])\n",
    "\n",
    "    bar_chart.update_layout(barmode='stack',\n",
    "                      width=590,\n",
    "                      height=1230,\n",
    "                      bargap=0.2,\n",
    "                      paper_bgcolor='rgb(255, 255, 255)',\n",
    "                      plot_bgcolor='rgb(255, 255, 255)',\n",
    "                      title={\"text\":figure_title,\n",
    "                            \"x\":0,\n",
    "                            \"y\":1,\n",
    "                            \"yanchor\":\"top\",\n",
    "                            \"yref\":\"paper\",\n",
    "                            \"pad\":{\"t\":-55},\n",
    "                            \"font\":{\"size\":14}},\n",
    "\n",
    "                      margin=dict(\n",
    "                        l=0,\n",
    "                        r=0,\n",
    "                        b=0,\n",
    "                        t=60,\n",
    "                        pad=1),\n",
    "\n",
    "                      font=dict(\n",
    "                        family=\"Arial\",\n",
    "                        size=8,\n",
    "                        color=\"black\"),\n",
    "\n",
    "                      legend=dict(\n",
    "                        traceorder=\"normal\",\n",
    "                        orientation=\"h\",\n",
    "                        itemsizing='constant',\n",
    "                        itemwidth=30,\n",
    "                        yanchor=\"top\",\n",
    "                        y=1.03,\n",
    "                        xanchor=\"left\",\n",
    "                        x=-0.03,\n",
    "                        font=dict(\n",
    "                        family=\"Arial\",\n",
    "                        size=8,\n",
    "                        color=\"black\"\n",
    "                    )),\n",
    "                     )\n",
    "\n",
    "    bar_chart.update_traces(marker=dict(line=dict(width=0),line_color=\"black\"),hoverinfo='text',\n",
    "                     textfont_size=8, selector=dict(type='bar'))\n",
    "\n",
    "    bar_chart.update_yaxes(showgrid=False,\n",
    "                    visible=True)\n",
    "\n",
    "    bar_chart.update_xaxes(showgrid=False,\n",
    "                    visible=False)\n",
    "\n",
    "    bar_chart.show()"
   ]
  },
  {
   "cell_type": "code",
   "execution_count": 2,
   "metadata": {},
   "outputs": [],
   "source": [
    "to_plot = pd.read_csv('/Users/anesterov/reps/LODlit/n_hits/subset_wd_en_lemmas.csv')"
   ]
  },
  {
   "cell_type": "code",
   "execution_count": 9,
   "metadata": {},
   "outputs": [],
   "source": [
    "# add proportional column\n",
    "to_plot_p = to_plot.assign(wd_pref_p=lambda x: x.wd_pref / x.wd_total * 100,\n",
    "                           wd_aliases_p=lambda x: x.wd_aliases / x.wd_total * 100,\n",
    "                           wd_descr_p=lambda x: x.wd_descr / x.wd_total * 100)"
   ]
  },
  {
   "cell_type": "code",
   "execution_count": 6,
   "metadata": {},
   "outputs": [],
   "source": [
    "# sorting\n",
    "to_plot.sort_values(\"wd_total\", ascending=True, inplace=True)"
   ]
  },
  {
   "cell_type": "code",
   "execution_count": 10,
   "metadata": {},
   "outputs": [],
   "source": [
    "to_plot_p.sort_values(\"wd_total\", ascending=True, inplace=True)"
   ]
  },
  {
   "cell_type": "code",
   "execution_count": 14,
   "metadata": {},
   "outputs": [
    {
     "data": {
      "application/vnd.plotly.v1+json": {
       "config": {
        "plotlyServerURL": "https://plot.ly"
       },
       "data": [
        {
         "hoverinfo": "text",
         "hovertext": [
          "1",
          "1",
          "2",
          "2",
          "8",
          "3",
          "3",
          "3",
          "8",
          "7",
          "7",
          "7",
          "7",
          "5",
          "8",
          "7",
          "3",
          "4",
          "5",
          "10",
          "10",
          "9",
          "8",
          "7",
          "5",
          "10",
          "7",
          "8",
          "10",
          "6",
          "5",
          "5",
          "5",
          "1",
          "6",
          "5",
          "7",
          "2",
          "6",
          "8",
          "4",
          "7",
          "3",
          "6",
          "7",
          "4",
          "7",
          "4",
          "5",
          "4",
          "5",
          "3",
          "6",
          "4",
          "4",
          "4",
          "5",
          "3",
          "4",
          "7",
          "5",
          "2",
          "2",
          "7",
          "6",
          "4",
          "5",
          "3",
          "3"
         ],
         "marker": {
          "color": "rgb(0,0,0)",
          "line": {
           "color": "black",
           "width": 0
          }
         },
         "name": "prefLabel",
         "orientation": "h",
         "textfont": {
          "size": 8
         },
         "type": "bar",
         "x": [
          100,
          25,
          50,
          28.57142857142857,
          100,
          50,
          30,
          70,
          80,
          50,
          70,
          40,
          70,
          70,
          80,
          30,
          30,
          30,
          80,
          70,
          90.9090909090909,
          72.72727272727273,
          63.63636363636363,
          90.9090909090909,
          63.63636363636363,
          72.72727272727273,
          81.81818181818183,
          90.9090909090909,
          45.45454545454545,
          58.333333333333336,
          33.33333333333333,
          66.66666666666666,
          50,
          16.666666666666664,
          41.66666666666667,
          50,
          8.333333333333332,
          41.66666666666667,
          41.66666666666667,
          41.66666666666667,
          50,
          53.84615384615385,
          23.076923076923077,
          46.15384615384615,
          53.84615384615385,
          30.76923076923077,
          53.84615384615385,
          30.76923076923077,
          38.46153846153847,
          30.76923076923077,
          28.57142857142857,
          42.857142857142854,
          35.714285714285715,
          21.428571428571427,
          25,
          25,
          31.25,
          18.75,
          29.411764705882355,
          23.52941176470588,
          41.17647058823529,
          11.11111111111111,
          11.11111111111111,
          38.88888888888889,
          31.57894736842105,
          20,
          21.73913043478261,
          12.5,
          9.090909090909092
         ],
         "y": [
          "allochtoon",
          "headhunter",
          "lilliputian",
          "kaffir",
          "half-breed",
          "retarded",
          "métis",
          "third world",
          "moor",
          "caucasian",
          "mongoloid",
          "transvestite",
          "developing nations",
          "medicine man",
          "discover",
          "ethnicity",
          "homosexual",
          "homo",
          "footmen",
          "mestizo",
          "southern rhodesia",
          "coolie",
          "pygmy",
          "mohammedan",
          "page",
          "hottentot",
          "mulatto",
          "primitivism",
          "hermaphrodite",
          "maroon",
          "ethnic groups",
          "second world",
          "exotic",
          "aboriginal",
          "inuit",
          "eskimo",
          "colored",
          "bombay",
          "traditional",
          "barbarian",
          "gypsy",
          "primitive",
          "slave",
          "batavia",
          "first world",
          "calcutta",
          "descent",
          "handicap",
          "dwarf",
          "immigrant",
          "western",
          "madras",
          "servant",
          "native",
          "queer",
          "white",
          "negro",
          "disabled",
          "oriental",
          "indo",
          "berber",
          "race",
          "indian",
          "black",
          "indigenous",
          "gay",
          "tribe",
          "burma",
          "trans"
         ]
        },
        {
         "hoverinfo": "text",
         "hovertext": [
          "0",
          "1",
          "2",
          "4",
          "0",
          "2",
          "3",
          "0",
          "0",
          "1",
          "0",
          "1",
          "2",
          "3",
          "0",
          "1",
          "4",
          "1",
          "3",
          "0",
          "1",
          "1",
          "2",
          "1",
          "2",
          "1",
          "0",
          "1",
          "1",
          "5",
          "6",
          "2",
          "6",
          "4",
          "1",
          "1",
          "3",
          "6",
          "1",
          "2",
          "1",
          "1",
          "7",
          "0",
          "2",
          "9",
          "1",
          "6",
          "3",
          "6",
          "7",
          "6",
          "7",
          "5",
          "9",
          "5",
          "11",
          "10",
          "5",
          "5",
          "11",
          "11",
          "15",
          "7",
          "9",
          "10",
          "15",
          "18",
          "29"
         ],
         "marker": {
          "color": "rgb(128, 128, 128)",
          "line": {
           "color": "black",
           "width": 0
          }
         },
         "name": "aliases",
         "orientation": "h",
         "textfont": {
          "size": 8
         },
         "type": "bar",
         "x": [
          0,
          25,
          50,
          57.14285714285714,
          0,
          30,
          40,
          10,
          0,
          30,
          20,
          10,
          0,
          10,
          0,
          0,
          30,
          20,
          0,
          10,
          9.090909090909092,
          9.090909090909092,
          0,
          9.090909090909092,
          9.090909090909092,
          18.181818181818183,
          9.090909090909092,
          9.090909090909092,
          18.181818181818183,
          25,
          8.333333333333332,
          16.666666666666664,
          8.333333333333332,
          50,
          8.333333333333332,
          8.333333333333332,
          33.33333333333333,
          50,
          16.666666666666664,
          50,
          41.66666666666667,
          7.6923076923076925,
          53.84615384615385,
          0,
          15.384615384615385,
          69.23076923076923,
          7.6923076923076925,
          46.15384615384615,
          23.076923076923077,
          46.15384615384615,
          35.714285714285715,
          50,
          50,
          42.857142857142854,
          56.25,
          31.25,
          68.75,
          62.5,
          64.70588235294117,
          29.411764705882355,
          29.411764705882355,
          61.111111111111114,
          83.33333333333334,
          38.88888888888889,
          47.368421052631575,
          50,
          65.21739130434783,
          75,
          87.87878787878788
         ],
         "y": [
          "allochtoon",
          "headhunter",
          "lilliputian",
          "kaffir",
          "half-breed",
          "retarded",
          "métis",
          "third world",
          "moor",
          "caucasian",
          "mongoloid",
          "transvestite",
          "developing nations",
          "medicine man",
          "discover",
          "ethnicity",
          "homosexual",
          "homo",
          "footmen",
          "mestizo",
          "southern rhodesia",
          "coolie",
          "pygmy",
          "mohammedan",
          "page",
          "hottentot",
          "mulatto",
          "primitivism",
          "hermaphrodite",
          "maroon",
          "ethnic groups",
          "second world",
          "exotic",
          "aboriginal",
          "inuit",
          "eskimo",
          "colored",
          "bombay",
          "traditional",
          "barbarian",
          "gypsy",
          "primitive",
          "slave",
          "batavia",
          "first world",
          "calcutta",
          "descent",
          "handicap",
          "dwarf",
          "immigrant",
          "western",
          "madras",
          "servant",
          "native",
          "queer",
          "white",
          "negro",
          "disabled",
          "oriental",
          "indo",
          "berber",
          "race",
          "indian",
          "black",
          "indigenous",
          "gay",
          "tribe",
          "burma",
          "trans"
         ]
        },
        {
         "hoverinfo": "text",
         "hovertext": [
          "0",
          "2",
          "0",
          "1",
          "2",
          "5",
          "4",
          "7",
          "2",
          "2",
          "3",
          "2",
          "1",
          "2",
          "2",
          "2",
          "3",
          "5",
          "2",
          "0",
          "0",
          "1",
          "1",
          "3",
          "4",
          "0",
          "4",
          "2",
          "0",
          "1",
          "1",
          "5",
          "1",
          "7",
          "5",
          "6",
          "2",
          "4",
          "5",
          "2",
          "7",
          "5",
          "3",
          "7",
          "4",
          "0",
          "5",
          "3",
          "5",
          "3",
          "2",
          "5",
          "1",
          "5",
          "3",
          "7",
          "0",
          "3",
          "8",
          "5",
          "1",
          "5",
          "1",
          "4",
          "4",
          "6",
          "3",
          "3",
          "1"
         ],
         "marker": {
          "color": "rgb(224, 224, 224)",
          "line": {
           "color": "black",
           "width": 0
          }
         },
         "name": "description",
         "orientation": "h",
         "text": [
          "1",
          "4",
          "4",
          "7",
          "10",
          "10",
          "10",
          "10",
          "10",
          "10",
          "10",
          "10",
          "10",
          "10",
          "10",
          "10",
          "10",
          "10",
          "10",
          "10",
          "11",
          "11",
          "11",
          "11",
          "11",
          "11",
          "11",
          "11",
          "11",
          "12",
          "12",
          "12",
          "12",
          "12",
          "12",
          "12",
          "12",
          "12",
          "12",
          "12",
          "12",
          "13",
          "13",
          "13",
          "13",
          "13",
          "13",
          "13",
          "13",
          "13",
          "14",
          "14",
          "14",
          "14",
          "16",
          "16",
          "16",
          "16",
          "17",
          "17",
          "17",
          "18",
          "18",
          "18",
          "19",
          "20",
          "23",
          "24",
          "33"
         ],
         "textfont": {
          "size": 8
         },
         "textposition": "outside",
         "type": "bar",
         "x": [
          0,
          50,
          0,
          14.285714285714285,
          0,
          20,
          30,
          20,
          20,
          20,
          10,
          50,
          30,
          20,
          20,
          70,
          40,
          50,
          20,
          20,
          0,
          18.181818181818183,
          36.36363636363637,
          0,
          27.27272727272727,
          9.090909090909092,
          9.090909090909092,
          0,
          36.36363636363637,
          16.666666666666664,
          58.333333333333336,
          16.666666666666664,
          41.66666666666667,
          33.33333333333333,
          50,
          41.66666666666667,
          58.333333333333336,
          8.333333333333332,
          41.66666666666667,
          8.333333333333332,
          8.333333333333332,
          38.46153846153847,
          23.076923076923077,
          53.84615384615385,
          30.76923076923077,
          0,
          38.46153846153847,
          23.076923076923077,
          38.46153846153847,
          23.076923076923077,
          35.714285714285715,
          7.142857142857142,
          14.285714285714285,
          35.714285714285715,
          18.75,
          43.75,
          0,
          18.75,
          5.88235294117647,
          47.05882352941176,
          29.411764705882355,
          27.77777777777778,
          5.555555555555555,
          22.22222222222222,
          21.052631578947366,
          30,
          13.043478260869565,
          12.5,
          3.0303030303030303
         ],
         "y": [
          "allochtoon",
          "headhunter",
          "lilliputian",
          "kaffir",
          "half-breed",
          "retarded",
          "métis",
          "third world",
          "moor",
          "caucasian",
          "mongoloid",
          "transvestite",
          "developing nations",
          "medicine man",
          "discover",
          "ethnicity",
          "homosexual",
          "homo",
          "footmen",
          "mestizo",
          "southern rhodesia",
          "coolie",
          "pygmy",
          "mohammedan",
          "page",
          "hottentot",
          "mulatto",
          "primitivism",
          "hermaphrodite",
          "maroon",
          "ethnic groups",
          "second world",
          "exotic",
          "aboriginal",
          "inuit",
          "eskimo",
          "colored",
          "bombay",
          "traditional",
          "barbarian",
          "gypsy",
          "primitive",
          "slave",
          "batavia",
          "first world",
          "calcutta",
          "descent",
          "handicap",
          "dwarf",
          "immigrant",
          "western",
          "madras",
          "servant",
          "native",
          "queer",
          "white",
          "negro",
          "disabled",
          "oriental",
          "indo",
          "berber",
          "race",
          "indian",
          "black",
          "indigenous",
          "gay",
          "tribe",
          "burma",
          "trans"
         ]
        }
       ],
       "layout": {
        "bargap": 0.2,
        "barmode": "stack",
        "font": {
         "color": "black",
         "family": "Arial",
         "size": 8
        },
        "height": 1230,
        "legend": {
         "font": {
          "color": "black",
          "family": "Arial",
          "size": 8
         },
         "itemsizing": "constant",
         "itemwidth": 30,
         "orientation": "h",
         "traceorder": "normal",
         "x": -0.03,
         "xanchor": "left",
         "y": 1.03,
         "yanchor": "top"
        },
        "margin": {
         "b": 0,
         "l": 0,
         "pad": 1,
         "r": 0,
         "t": 60
        },
        "paper_bgcolor": "rgb(255, 255, 255)",
        "plot_bgcolor": "rgb(255, 255, 255)",
        "template": {
         "data": {
          "bar": [
           {
            "error_x": {
             "color": "#2a3f5f"
            },
            "error_y": {
             "color": "#2a3f5f"
            },
            "marker": {
             "line": {
              "color": "#E5ECF6",
              "width": 0.5
             },
             "pattern": {
              "fillmode": "overlay",
              "size": 10,
              "solidity": 0.2
             }
            },
            "type": "bar"
           }
          ],
          "barpolar": [
           {
            "marker": {
             "line": {
              "color": "#E5ECF6",
              "width": 0.5
             },
             "pattern": {
              "fillmode": "overlay",
              "size": 10,
              "solidity": 0.2
             }
            },
            "type": "barpolar"
           }
          ],
          "carpet": [
           {
            "aaxis": {
             "endlinecolor": "#2a3f5f",
             "gridcolor": "white",
             "linecolor": "white",
             "minorgridcolor": "white",
             "startlinecolor": "#2a3f5f"
            },
            "baxis": {
             "endlinecolor": "#2a3f5f",
             "gridcolor": "white",
             "linecolor": "white",
             "minorgridcolor": "white",
             "startlinecolor": "#2a3f5f"
            },
            "type": "carpet"
           }
          ],
          "choropleth": [
           {
            "colorbar": {
             "outlinewidth": 0,
             "ticks": ""
            },
            "type": "choropleth"
           }
          ],
          "contour": [
           {
            "colorbar": {
             "outlinewidth": 0,
             "ticks": ""
            },
            "colorscale": [
             [
              0,
              "#0d0887"
             ],
             [
              0.1111111111111111,
              "#46039f"
             ],
             [
              0.2222222222222222,
              "#7201a8"
             ],
             [
              0.3333333333333333,
              "#9c179e"
             ],
             [
              0.4444444444444444,
              "#bd3786"
             ],
             [
              0.5555555555555556,
              "#d8576b"
             ],
             [
              0.6666666666666666,
              "#ed7953"
             ],
             [
              0.7777777777777778,
              "#fb9f3a"
             ],
             [
              0.8888888888888888,
              "#fdca26"
             ],
             [
              1,
              "#f0f921"
             ]
            ],
            "type": "contour"
           }
          ],
          "contourcarpet": [
           {
            "colorbar": {
             "outlinewidth": 0,
             "ticks": ""
            },
            "type": "contourcarpet"
           }
          ],
          "heatmap": [
           {
            "colorbar": {
             "outlinewidth": 0,
             "ticks": ""
            },
            "colorscale": [
             [
              0,
              "#0d0887"
             ],
             [
              0.1111111111111111,
              "#46039f"
             ],
             [
              0.2222222222222222,
              "#7201a8"
             ],
             [
              0.3333333333333333,
              "#9c179e"
             ],
             [
              0.4444444444444444,
              "#bd3786"
             ],
             [
              0.5555555555555556,
              "#d8576b"
             ],
             [
              0.6666666666666666,
              "#ed7953"
             ],
             [
              0.7777777777777778,
              "#fb9f3a"
             ],
             [
              0.8888888888888888,
              "#fdca26"
             ],
             [
              1,
              "#f0f921"
             ]
            ],
            "type": "heatmap"
           }
          ],
          "heatmapgl": [
           {
            "colorbar": {
             "outlinewidth": 0,
             "ticks": ""
            },
            "colorscale": [
             [
              0,
              "#0d0887"
             ],
             [
              0.1111111111111111,
              "#46039f"
             ],
             [
              0.2222222222222222,
              "#7201a8"
             ],
             [
              0.3333333333333333,
              "#9c179e"
             ],
             [
              0.4444444444444444,
              "#bd3786"
             ],
             [
              0.5555555555555556,
              "#d8576b"
             ],
             [
              0.6666666666666666,
              "#ed7953"
             ],
             [
              0.7777777777777778,
              "#fb9f3a"
             ],
             [
              0.8888888888888888,
              "#fdca26"
             ],
             [
              1,
              "#f0f921"
             ]
            ],
            "type": "heatmapgl"
           }
          ],
          "histogram": [
           {
            "marker": {
             "pattern": {
              "fillmode": "overlay",
              "size": 10,
              "solidity": 0.2
             }
            },
            "type": "histogram"
           }
          ],
          "histogram2d": [
           {
            "colorbar": {
             "outlinewidth": 0,
             "ticks": ""
            },
            "colorscale": [
             [
              0,
              "#0d0887"
             ],
             [
              0.1111111111111111,
              "#46039f"
             ],
             [
              0.2222222222222222,
              "#7201a8"
             ],
             [
              0.3333333333333333,
              "#9c179e"
             ],
             [
              0.4444444444444444,
              "#bd3786"
             ],
             [
              0.5555555555555556,
              "#d8576b"
             ],
             [
              0.6666666666666666,
              "#ed7953"
             ],
             [
              0.7777777777777778,
              "#fb9f3a"
             ],
             [
              0.8888888888888888,
              "#fdca26"
             ],
             [
              1,
              "#f0f921"
             ]
            ],
            "type": "histogram2d"
           }
          ],
          "histogram2dcontour": [
           {
            "colorbar": {
             "outlinewidth": 0,
             "ticks": ""
            },
            "colorscale": [
             [
              0,
              "#0d0887"
             ],
             [
              0.1111111111111111,
              "#46039f"
             ],
             [
              0.2222222222222222,
              "#7201a8"
             ],
             [
              0.3333333333333333,
              "#9c179e"
             ],
             [
              0.4444444444444444,
              "#bd3786"
             ],
             [
              0.5555555555555556,
              "#d8576b"
             ],
             [
              0.6666666666666666,
              "#ed7953"
             ],
             [
              0.7777777777777778,
              "#fb9f3a"
             ],
             [
              0.8888888888888888,
              "#fdca26"
             ],
             [
              1,
              "#f0f921"
             ]
            ],
            "type": "histogram2dcontour"
           }
          ],
          "mesh3d": [
           {
            "colorbar": {
             "outlinewidth": 0,
             "ticks": ""
            },
            "type": "mesh3d"
           }
          ],
          "parcoords": [
           {
            "line": {
             "colorbar": {
              "outlinewidth": 0,
              "ticks": ""
             }
            },
            "type": "parcoords"
           }
          ],
          "pie": [
           {
            "automargin": true,
            "type": "pie"
           }
          ],
          "scatter": [
           {
            "marker": {
             "colorbar": {
              "outlinewidth": 0,
              "ticks": ""
             }
            },
            "type": "scatter"
           }
          ],
          "scatter3d": [
           {
            "line": {
             "colorbar": {
              "outlinewidth": 0,
              "ticks": ""
             }
            },
            "marker": {
             "colorbar": {
              "outlinewidth": 0,
              "ticks": ""
             }
            },
            "type": "scatter3d"
           }
          ],
          "scattercarpet": [
           {
            "marker": {
             "colorbar": {
              "outlinewidth": 0,
              "ticks": ""
             }
            },
            "type": "scattercarpet"
           }
          ],
          "scattergeo": [
           {
            "marker": {
             "colorbar": {
              "outlinewidth": 0,
              "ticks": ""
             }
            },
            "type": "scattergeo"
           }
          ],
          "scattergl": [
           {
            "marker": {
             "colorbar": {
              "outlinewidth": 0,
              "ticks": ""
             }
            },
            "type": "scattergl"
           }
          ],
          "scattermapbox": [
           {
            "marker": {
             "colorbar": {
              "outlinewidth": 0,
              "ticks": ""
             }
            },
            "type": "scattermapbox"
           }
          ],
          "scatterpolar": [
           {
            "marker": {
             "colorbar": {
              "outlinewidth": 0,
              "ticks": ""
             }
            },
            "type": "scatterpolar"
           }
          ],
          "scatterpolargl": [
           {
            "marker": {
             "colorbar": {
              "outlinewidth": 0,
              "ticks": ""
             }
            },
            "type": "scatterpolargl"
           }
          ],
          "scatterternary": [
           {
            "marker": {
             "colorbar": {
              "outlinewidth": 0,
              "ticks": ""
             }
            },
            "type": "scatterternary"
           }
          ],
          "surface": [
           {
            "colorbar": {
             "outlinewidth": 0,
             "ticks": ""
            },
            "colorscale": [
             [
              0,
              "#0d0887"
             ],
             [
              0.1111111111111111,
              "#46039f"
             ],
             [
              0.2222222222222222,
              "#7201a8"
             ],
             [
              0.3333333333333333,
              "#9c179e"
             ],
             [
              0.4444444444444444,
              "#bd3786"
             ],
             [
              0.5555555555555556,
              "#d8576b"
             ],
             [
              0.6666666666666666,
              "#ed7953"
             ],
             [
              0.7777777777777778,
              "#fb9f3a"
             ],
             [
              0.8888888888888888,
              "#fdca26"
             ],
             [
              1,
              "#f0f921"
             ]
            ],
            "type": "surface"
           }
          ],
          "table": [
           {
            "cells": {
             "fill": {
              "color": "#EBF0F8"
             },
             "line": {
              "color": "white"
             }
            },
            "header": {
             "fill": {
              "color": "#C8D4E3"
             },
             "line": {
              "color": "white"
             }
            },
            "type": "table"
           }
          ]
         },
         "layout": {
          "annotationdefaults": {
           "arrowcolor": "#2a3f5f",
           "arrowhead": 0,
           "arrowwidth": 1
          },
          "autotypenumbers": "strict",
          "coloraxis": {
           "colorbar": {
            "outlinewidth": 0,
            "ticks": ""
           }
          },
          "colorscale": {
           "diverging": [
            [
             0,
             "#8e0152"
            ],
            [
             0.1,
             "#c51b7d"
            ],
            [
             0.2,
             "#de77ae"
            ],
            [
             0.3,
             "#f1b6da"
            ],
            [
             0.4,
             "#fde0ef"
            ],
            [
             0.5,
             "#f7f7f7"
            ],
            [
             0.6,
             "#e6f5d0"
            ],
            [
             0.7,
             "#b8e186"
            ],
            [
             0.8,
             "#7fbc41"
            ],
            [
             0.9,
             "#4d9221"
            ],
            [
             1,
             "#276419"
            ]
           ],
           "sequential": [
            [
             0,
             "#0d0887"
            ],
            [
             0.1111111111111111,
             "#46039f"
            ],
            [
             0.2222222222222222,
             "#7201a8"
            ],
            [
             0.3333333333333333,
             "#9c179e"
            ],
            [
             0.4444444444444444,
             "#bd3786"
            ],
            [
             0.5555555555555556,
             "#d8576b"
            ],
            [
             0.6666666666666666,
             "#ed7953"
            ],
            [
             0.7777777777777778,
             "#fb9f3a"
            ],
            [
             0.8888888888888888,
             "#fdca26"
            ],
            [
             1,
             "#f0f921"
            ]
           ],
           "sequentialminus": [
            [
             0,
             "#0d0887"
            ],
            [
             0.1111111111111111,
             "#46039f"
            ],
            [
             0.2222222222222222,
             "#7201a8"
            ],
            [
             0.3333333333333333,
             "#9c179e"
            ],
            [
             0.4444444444444444,
             "#bd3786"
            ],
            [
             0.5555555555555556,
             "#d8576b"
            ],
            [
             0.6666666666666666,
             "#ed7953"
            ],
            [
             0.7777777777777778,
             "#fb9f3a"
            ],
            [
             0.8888888888888888,
             "#fdca26"
            ],
            [
             1,
             "#f0f921"
            ]
           ]
          },
          "colorway": [
           "#636efa",
           "#EF553B",
           "#00cc96",
           "#ab63fa",
           "#FFA15A",
           "#19d3f3",
           "#FF6692",
           "#B6E880",
           "#FF97FF",
           "#FECB52"
          ],
          "font": {
           "color": "#2a3f5f"
          },
          "geo": {
           "bgcolor": "white",
           "lakecolor": "white",
           "landcolor": "#E5ECF6",
           "showlakes": true,
           "showland": true,
           "subunitcolor": "white"
          },
          "hoverlabel": {
           "align": "left"
          },
          "hovermode": "closest",
          "mapbox": {
           "style": "light"
          },
          "paper_bgcolor": "white",
          "plot_bgcolor": "#E5ECF6",
          "polar": {
           "angularaxis": {
            "gridcolor": "white",
            "linecolor": "white",
            "ticks": ""
           },
           "bgcolor": "#E5ECF6",
           "radialaxis": {
            "gridcolor": "white",
            "linecolor": "white",
            "ticks": ""
           }
          },
          "scene": {
           "xaxis": {
            "backgroundcolor": "#E5ECF6",
            "gridcolor": "white",
            "gridwidth": 2,
            "linecolor": "white",
            "showbackground": true,
            "ticks": "",
            "zerolinecolor": "white"
           },
           "yaxis": {
            "backgroundcolor": "#E5ECF6",
            "gridcolor": "white",
            "gridwidth": 2,
            "linecolor": "white",
            "showbackground": true,
            "ticks": "",
            "zerolinecolor": "white"
           },
           "zaxis": {
            "backgroundcolor": "#E5ECF6",
            "gridcolor": "white",
            "gridwidth": 2,
            "linecolor": "white",
            "showbackground": true,
            "ticks": "",
            "zerolinecolor": "white"
           }
          },
          "shapedefaults": {
           "line": {
            "color": "#2a3f5f"
           }
          },
          "ternary": {
           "aaxis": {
            "gridcolor": "white",
            "linecolor": "white",
            "ticks": ""
           },
           "baxis": {
            "gridcolor": "white",
            "linecolor": "white",
            "ticks": ""
           },
           "bgcolor": "#E5ECF6",
           "caxis": {
            "gridcolor": "white",
            "linecolor": "white",
            "ticks": ""
           }
          },
          "title": {
           "x": 0.05
          },
          "xaxis": {
           "automargin": true,
           "gridcolor": "white",
           "linecolor": "white",
           "ticks": "",
           "title": {
            "standoff": 15
           },
           "zerolinecolor": "white",
           "zerolinewidth": 2
          },
          "yaxis": {
           "automargin": true,
           "gridcolor": "white",
           "linecolor": "white",
           "ticks": "",
           "title": {
            "standoff": 15
           },
           "zerolinecolor": "white",
           "zerolinewidth": 2
          }
         }
        },
        "title": {
         "font": {
          "size": 14
         },
         "pad": {
          "t": -55
         },
         "text": "Figure 4. NL, Lemmas by properties, all results, proportion",
         "x": 0,
         "y": 1,
         "yanchor": "top",
         "yref": "paper"
        },
        "width": 590,
        "xaxis": {
         "showgrid": false,
         "visible": false
        },
        "yaxis": {
         "showgrid": false,
         "visible": true
        }
       }
      },
      "text/html": [
       "<div>                            <div id=\"5bf4d0bb-db3f-4820-a836-158b5590ee6f\" class=\"plotly-graph-div\" style=\"height:1230px; width:590px;\"></div>            <script type=\"text/javascript\">                require([\"plotly\"], function(Plotly) {                    window.PLOTLYENV=window.PLOTLYENV || {};                                    if (document.getElementById(\"5bf4d0bb-db3f-4820-a836-158b5590ee6f\")) {                    Plotly.newPlot(                        \"5bf4d0bb-db3f-4820-a836-158b5590ee6f\",                        [{\"hoverinfo\":\"text\",\"hovertext\":[\"1\",\"1\",\"2\",\"2\",\"8\",\"3\",\"3\",\"3\",\"8\",\"7\",\"7\",\"7\",\"7\",\"5\",\"8\",\"7\",\"3\",\"4\",\"5\",\"10\",\"10\",\"9\",\"8\",\"7\",\"5\",\"10\",\"7\",\"8\",\"10\",\"6\",\"5\",\"5\",\"5\",\"1\",\"6\",\"5\",\"7\",\"2\",\"6\",\"8\",\"4\",\"7\",\"3\",\"6\",\"7\",\"4\",\"7\",\"4\",\"5\",\"4\",\"5\",\"3\",\"6\",\"4\",\"4\",\"4\",\"5\",\"3\",\"4\",\"7\",\"5\",\"2\",\"2\",\"7\",\"6\",\"4\",\"5\",\"3\",\"3\"],\"marker\":{\"color\":\"rgb(0,0,0)\",\"line\":{\"color\":\"black\",\"width\":0}},\"name\":\"prefLabel\",\"orientation\":\"h\",\"textfont\":{\"size\":8},\"type\":\"bar\",\"x\":[100.0,25.0,50.0,28.57142857142857,100.0,50.0,30.0,70.0,80.0,50.0,70.0,40.0,70.0,70.0,80.0,30.0,30.0,30.0,80.0,70.0,90.9090909090909,72.72727272727273,63.63636363636363,90.9090909090909,63.63636363636363,72.72727272727273,81.81818181818183,90.9090909090909,45.45454545454545,58.333333333333336,33.33333333333333,66.66666666666666,50.0,16.666666666666664,41.66666666666667,50.0,8.333333333333332,41.66666666666667,41.66666666666667,41.66666666666667,50.0,53.84615384615385,23.076923076923077,46.15384615384615,53.84615384615385,30.76923076923077,53.84615384615385,30.76923076923077,38.46153846153847,30.76923076923077,28.57142857142857,42.857142857142854,35.714285714285715,21.428571428571427,25.0,25.0,31.25,18.75,29.411764705882355,23.52941176470588,41.17647058823529,11.11111111111111,11.11111111111111,38.88888888888889,31.57894736842105,20.0,21.73913043478261,12.5,9.090909090909092],\"y\":[\"allochtoon\",\"headhunter\",\"lilliputian\",\"kaffir\",\"half-breed\",\"retarded\",\"m\\u00e9tis\",\"third world\",\"moor\",\"caucasian\",\"mongoloid\",\"transvestite\",\"developing nations\",\"medicine man\",\"discover\",\"ethnicity\",\"homosexual\",\"homo\",\"footmen\",\"mestizo\",\"southern rhodesia\",\"coolie\",\"pygmy\",\"mohammedan\",\"page\",\"hottentot\",\"mulatto\",\"primitivism\",\"hermaphrodite\",\"maroon\",\"ethnic groups\",\"second world\",\"exotic\",\"aboriginal\",\"inuit\",\"eskimo\",\"colored\",\"bombay\",\"traditional\",\"barbarian\",\"gypsy\",\"primitive\",\"slave\",\"batavia\",\"first world\",\"calcutta\",\"descent\",\"handicap\",\"dwarf\",\"immigrant\",\"western\",\"madras\",\"servant\",\"native\",\"queer\",\"white\",\"negro\",\"disabled\",\"oriental\",\"indo\",\"berber\",\"race\",\"indian\",\"black\",\"indigenous\",\"gay\",\"tribe\",\"burma\",\"trans\"]},{\"hoverinfo\":\"text\",\"hovertext\":[\"0\",\"1\",\"2\",\"4\",\"0\",\"2\",\"3\",\"0\",\"0\",\"1\",\"0\",\"1\",\"2\",\"3\",\"0\",\"1\",\"4\",\"1\",\"3\",\"0\",\"1\",\"1\",\"2\",\"1\",\"2\",\"1\",\"0\",\"1\",\"1\",\"5\",\"6\",\"2\",\"6\",\"4\",\"1\",\"1\",\"3\",\"6\",\"1\",\"2\",\"1\",\"1\",\"7\",\"0\",\"2\",\"9\",\"1\",\"6\",\"3\",\"6\",\"7\",\"6\",\"7\",\"5\",\"9\",\"5\",\"11\",\"10\",\"5\",\"5\",\"11\",\"11\",\"15\",\"7\",\"9\",\"10\",\"15\",\"18\",\"29\"],\"marker\":{\"color\":\"rgb(128, 128, 128)\",\"line\":{\"color\":\"black\",\"width\":0}},\"name\":\"aliases\",\"orientation\":\"h\",\"textfont\":{\"size\":8},\"type\":\"bar\",\"x\":[0.0,25.0,50.0,57.14285714285714,0.0,30.0,40.0,10.0,0.0,30.0,20.0,10.0,0.0,10.0,0.0,0.0,30.0,20.0,0.0,10.0,9.090909090909092,9.090909090909092,0.0,9.090909090909092,9.090909090909092,18.181818181818183,9.090909090909092,9.090909090909092,18.181818181818183,25.0,8.333333333333332,16.666666666666664,8.333333333333332,50.0,8.333333333333332,8.333333333333332,33.33333333333333,50.0,16.666666666666664,50.0,41.66666666666667,7.6923076923076925,53.84615384615385,0.0,15.384615384615385,69.23076923076923,7.6923076923076925,46.15384615384615,23.076923076923077,46.15384615384615,35.714285714285715,50.0,50.0,42.857142857142854,56.25,31.25,68.75,62.5,64.70588235294117,29.411764705882355,29.411764705882355,61.111111111111114,83.33333333333334,38.88888888888889,47.368421052631575,50.0,65.21739130434783,75.0,87.87878787878788],\"y\":[\"allochtoon\",\"headhunter\",\"lilliputian\",\"kaffir\",\"half-breed\",\"retarded\",\"m\\u00e9tis\",\"third world\",\"moor\",\"caucasian\",\"mongoloid\",\"transvestite\",\"developing nations\",\"medicine man\",\"discover\",\"ethnicity\",\"homosexual\",\"homo\",\"footmen\",\"mestizo\",\"southern rhodesia\",\"coolie\",\"pygmy\",\"mohammedan\",\"page\",\"hottentot\",\"mulatto\",\"primitivism\",\"hermaphrodite\",\"maroon\",\"ethnic groups\",\"second world\",\"exotic\",\"aboriginal\",\"inuit\",\"eskimo\",\"colored\",\"bombay\",\"traditional\",\"barbarian\",\"gypsy\",\"primitive\",\"slave\",\"batavia\",\"first world\",\"calcutta\",\"descent\",\"handicap\",\"dwarf\",\"immigrant\",\"western\",\"madras\",\"servant\",\"native\",\"queer\",\"white\",\"negro\",\"disabled\",\"oriental\",\"indo\",\"berber\",\"race\",\"indian\",\"black\",\"indigenous\",\"gay\",\"tribe\",\"burma\",\"trans\"]},{\"hoverinfo\":\"text\",\"hovertext\":[\"0\",\"2\",\"0\",\"1\",\"2\",\"5\",\"4\",\"7\",\"2\",\"2\",\"3\",\"2\",\"1\",\"2\",\"2\",\"2\",\"3\",\"5\",\"2\",\"0\",\"0\",\"1\",\"1\",\"3\",\"4\",\"0\",\"4\",\"2\",\"0\",\"1\",\"1\",\"5\",\"1\",\"7\",\"5\",\"6\",\"2\",\"4\",\"5\",\"2\",\"7\",\"5\",\"3\",\"7\",\"4\",\"0\",\"5\",\"3\",\"5\",\"3\",\"2\",\"5\",\"1\",\"5\",\"3\",\"7\",\"0\",\"3\",\"8\",\"5\",\"1\",\"5\",\"1\",\"4\",\"4\",\"6\",\"3\",\"3\",\"1\"],\"marker\":{\"color\":\"rgb(224, 224, 224)\",\"line\":{\"color\":\"black\",\"width\":0}},\"name\":\"description\",\"orientation\":\"h\",\"text\":[\"1\",\"4\",\"4\",\"7\",\"10\",\"10\",\"10\",\"10\",\"10\",\"10\",\"10\",\"10\",\"10\",\"10\",\"10\",\"10\",\"10\",\"10\",\"10\",\"10\",\"11\",\"11\",\"11\",\"11\",\"11\",\"11\",\"11\",\"11\",\"11\",\"12\",\"12\",\"12\",\"12\",\"12\",\"12\",\"12\",\"12\",\"12\",\"12\",\"12\",\"12\",\"13\",\"13\",\"13\",\"13\",\"13\",\"13\",\"13\",\"13\",\"13\",\"14\",\"14\",\"14\",\"14\",\"16\",\"16\",\"16\",\"16\",\"17\",\"17\",\"17\",\"18\",\"18\",\"18\",\"19\",\"20\",\"23\",\"24\",\"33\"],\"textfont\":{\"size\":8},\"textposition\":\"outside\",\"type\":\"bar\",\"x\":[0.0,50.0,0.0,14.285714285714285,0.0,20.0,30.0,20.0,20.0,20.0,10.0,50.0,30.0,20.0,20.0,70.0,40.0,50.0,20.0,20.0,0.0,18.181818181818183,36.36363636363637,0.0,27.27272727272727,9.090909090909092,9.090909090909092,0.0,36.36363636363637,16.666666666666664,58.333333333333336,16.666666666666664,41.66666666666667,33.33333333333333,50.0,41.66666666666667,58.333333333333336,8.333333333333332,41.66666666666667,8.333333333333332,8.333333333333332,38.46153846153847,23.076923076923077,53.84615384615385,30.76923076923077,0.0,38.46153846153847,23.076923076923077,38.46153846153847,23.076923076923077,35.714285714285715,7.142857142857142,14.285714285714285,35.714285714285715,18.75,43.75,0.0,18.75,5.88235294117647,47.05882352941176,29.411764705882355,27.77777777777778,5.555555555555555,22.22222222222222,21.052631578947366,30.0,13.043478260869565,12.5,3.0303030303030303],\"y\":[\"allochtoon\",\"headhunter\",\"lilliputian\",\"kaffir\",\"half-breed\",\"retarded\",\"m\\u00e9tis\",\"third world\",\"moor\",\"caucasian\",\"mongoloid\",\"transvestite\",\"developing nations\",\"medicine man\",\"discover\",\"ethnicity\",\"homosexual\",\"homo\",\"footmen\",\"mestizo\",\"southern rhodesia\",\"coolie\",\"pygmy\",\"mohammedan\",\"page\",\"hottentot\",\"mulatto\",\"primitivism\",\"hermaphrodite\",\"maroon\",\"ethnic groups\",\"second world\",\"exotic\",\"aboriginal\",\"inuit\",\"eskimo\",\"colored\",\"bombay\",\"traditional\",\"barbarian\",\"gypsy\",\"primitive\",\"slave\",\"batavia\",\"first world\",\"calcutta\",\"descent\",\"handicap\",\"dwarf\",\"immigrant\",\"western\",\"madras\",\"servant\",\"native\",\"queer\",\"white\",\"negro\",\"disabled\",\"oriental\",\"indo\",\"berber\",\"race\",\"indian\",\"black\",\"indigenous\",\"gay\",\"tribe\",\"burma\",\"trans\"]}],                        {\"bargap\":0.2,\"barmode\":\"stack\",\"font\":{\"color\":\"black\",\"family\":\"Arial\",\"size\":8},\"height\":1230,\"legend\":{\"font\":{\"color\":\"black\",\"family\":\"Arial\",\"size\":8},\"itemsizing\":\"constant\",\"itemwidth\":30,\"orientation\":\"h\",\"traceorder\":\"normal\",\"x\":-0.03,\"xanchor\":\"left\",\"y\":1.03,\"yanchor\":\"top\"},\"margin\":{\"b\":0,\"l\":0,\"pad\":1,\"r\":0,\"t\":60},\"paper_bgcolor\":\"rgb(255, 255, 255)\",\"plot_bgcolor\":\"rgb(255, 255, 255)\",\"template\":{\"data\":{\"bar\":[{\"error_x\":{\"color\":\"#2a3f5f\"},\"error_y\":{\"color\":\"#2a3f5f\"},\"marker\":{\"line\":{\"color\":\"#E5ECF6\",\"width\":0.5},\"pattern\":{\"fillmode\":\"overlay\",\"size\":10,\"solidity\":0.2}},\"type\":\"bar\"}],\"barpolar\":[{\"marker\":{\"line\":{\"color\":\"#E5ECF6\",\"width\":0.5},\"pattern\":{\"fillmode\":\"overlay\",\"size\":10,\"solidity\":0.2}},\"type\":\"barpolar\"}],\"carpet\":[{\"aaxis\":{\"endlinecolor\":\"#2a3f5f\",\"gridcolor\":\"white\",\"linecolor\":\"white\",\"minorgridcolor\":\"white\",\"startlinecolor\":\"#2a3f5f\"},\"baxis\":{\"endlinecolor\":\"#2a3f5f\",\"gridcolor\":\"white\",\"linecolor\":\"white\",\"minorgridcolor\":\"white\",\"startlinecolor\":\"#2a3f5f\"},\"type\":\"carpet\"}],\"choropleth\":[{\"colorbar\":{\"outlinewidth\":0,\"ticks\":\"\"},\"type\":\"choropleth\"}],\"contour\":[{\"colorbar\":{\"outlinewidth\":0,\"ticks\":\"\"},\"colorscale\":[[0.0,\"#0d0887\"],[0.1111111111111111,\"#46039f\"],[0.2222222222222222,\"#7201a8\"],[0.3333333333333333,\"#9c179e\"],[0.4444444444444444,\"#bd3786\"],[0.5555555555555556,\"#d8576b\"],[0.6666666666666666,\"#ed7953\"],[0.7777777777777778,\"#fb9f3a\"],[0.8888888888888888,\"#fdca26\"],[1.0,\"#f0f921\"]],\"type\":\"contour\"}],\"contourcarpet\":[{\"colorbar\":{\"outlinewidth\":0,\"ticks\":\"\"},\"type\":\"contourcarpet\"}],\"heatmap\":[{\"colorbar\":{\"outlinewidth\":0,\"ticks\":\"\"},\"colorscale\":[[0.0,\"#0d0887\"],[0.1111111111111111,\"#46039f\"],[0.2222222222222222,\"#7201a8\"],[0.3333333333333333,\"#9c179e\"],[0.4444444444444444,\"#bd3786\"],[0.5555555555555556,\"#d8576b\"],[0.6666666666666666,\"#ed7953\"],[0.7777777777777778,\"#fb9f3a\"],[0.8888888888888888,\"#fdca26\"],[1.0,\"#f0f921\"]],\"type\":\"heatmap\"}],\"heatmapgl\":[{\"colorbar\":{\"outlinewidth\":0,\"ticks\":\"\"},\"colorscale\":[[0.0,\"#0d0887\"],[0.1111111111111111,\"#46039f\"],[0.2222222222222222,\"#7201a8\"],[0.3333333333333333,\"#9c179e\"],[0.4444444444444444,\"#bd3786\"],[0.5555555555555556,\"#d8576b\"],[0.6666666666666666,\"#ed7953\"],[0.7777777777777778,\"#fb9f3a\"],[0.8888888888888888,\"#fdca26\"],[1.0,\"#f0f921\"]],\"type\":\"heatmapgl\"}],\"histogram\":[{\"marker\":{\"pattern\":{\"fillmode\":\"overlay\",\"size\":10,\"solidity\":0.2}},\"type\":\"histogram\"}],\"histogram2d\":[{\"colorbar\":{\"outlinewidth\":0,\"ticks\":\"\"},\"colorscale\":[[0.0,\"#0d0887\"],[0.1111111111111111,\"#46039f\"],[0.2222222222222222,\"#7201a8\"],[0.3333333333333333,\"#9c179e\"],[0.4444444444444444,\"#bd3786\"],[0.5555555555555556,\"#d8576b\"],[0.6666666666666666,\"#ed7953\"],[0.7777777777777778,\"#fb9f3a\"],[0.8888888888888888,\"#fdca26\"],[1.0,\"#f0f921\"]],\"type\":\"histogram2d\"}],\"histogram2dcontour\":[{\"colorbar\":{\"outlinewidth\":0,\"ticks\":\"\"},\"colorscale\":[[0.0,\"#0d0887\"],[0.1111111111111111,\"#46039f\"],[0.2222222222222222,\"#7201a8\"],[0.3333333333333333,\"#9c179e\"],[0.4444444444444444,\"#bd3786\"],[0.5555555555555556,\"#d8576b\"],[0.6666666666666666,\"#ed7953\"],[0.7777777777777778,\"#fb9f3a\"],[0.8888888888888888,\"#fdca26\"],[1.0,\"#f0f921\"]],\"type\":\"histogram2dcontour\"}],\"mesh3d\":[{\"colorbar\":{\"outlinewidth\":0,\"ticks\":\"\"},\"type\":\"mesh3d\"}],\"parcoords\":[{\"line\":{\"colorbar\":{\"outlinewidth\":0,\"ticks\":\"\"}},\"type\":\"parcoords\"}],\"pie\":[{\"automargin\":true,\"type\":\"pie\"}],\"scatter\":[{\"marker\":{\"colorbar\":{\"outlinewidth\":0,\"ticks\":\"\"}},\"type\":\"scatter\"}],\"scatter3d\":[{\"line\":{\"colorbar\":{\"outlinewidth\":0,\"ticks\":\"\"}},\"marker\":{\"colorbar\":{\"outlinewidth\":0,\"ticks\":\"\"}},\"type\":\"scatter3d\"}],\"scattercarpet\":[{\"marker\":{\"colorbar\":{\"outlinewidth\":0,\"ticks\":\"\"}},\"type\":\"scattercarpet\"}],\"scattergeo\":[{\"marker\":{\"colorbar\":{\"outlinewidth\":0,\"ticks\":\"\"}},\"type\":\"scattergeo\"}],\"scattergl\":[{\"marker\":{\"colorbar\":{\"outlinewidth\":0,\"ticks\":\"\"}},\"type\":\"scattergl\"}],\"scattermapbox\":[{\"marker\":{\"colorbar\":{\"outlinewidth\":0,\"ticks\":\"\"}},\"type\":\"scattermapbox\"}],\"scatterpolar\":[{\"marker\":{\"colorbar\":{\"outlinewidth\":0,\"ticks\":\"\"}},\"type\":\"scatterpolar\"}],\"scatterpolargl\":[{\"marker\":{\"colorbar\":{\"outlinewidth\":0,\"ticks\":\"\"}},\"type\":\"scatterpolargl\"}],\"scatterternary\":[{\"marker\":{\"colorbar\":{\"outlinewidth\":0,\"ticks\":\"\"}},\"type\":\"scatterternary\"}],\"surface\":[{\"colorbar\":{\"outlinewidth\":0,\"ticks\":\"\"},\"colorscale\":[[0.0,\"#0d0887\"],[0.1111111111111111,\"#46039f\"],[0.2222222222222222,\"#7201a8\"],[0.3333333333333333,\"#9c179e\"],[0.4444444444444444,\"#bd3786\"],[0.5555555555555556,\"#d8576b\"],[0.6666666666666666,\"#ed7953\"],[0.7777777777777778,\"#fb9f3a\"],[0.8888888888888888,\"#fdca26\"],[1.0,\"#f0f921\"]],\"type\":\"surface\"}],\"table\":[{\"cells\":{\"fill\":{\"color\":\"#EBF0F8\"},\"line\":{\"color\":\"white\"}},\"header\":{\"fill\":{\"color\":\"#C8D4E3\"},\"line\":{\"color\":\"white\"}},\"type\":\"table\"}]},\"layout\":{\"annotationdefaults\":{\"arrowcolor\":\"#2a3f5f\",\"arrowhead\":0,\"arrowwidth\":1},\"autotypenumbers\":\"strict\",\"coloraxis\":{\"colorbar\":{\"outlinewidth\":0,\"ticks\":\"\"}},\"colorscale\":{\"diverging\":[[0,\"#8e0152\"],[0.1,\"#c51b7d\"],[0.2,\"#de77ae\"],[0.3,\"#f1b6da\"],[0.4,\"#fde0ef\"],[0.5,\"#f7f7f7\"],[0.6,\"#e6f5d0\"],[0.7,\"#b8e186\"],[0.8,\"#7fbc41\"],[0.9,\"#4d9221\"],[1,\"#276419\"]],\"sequential\":[[0.0,\"#0d0887\"],[0.1111111111111111,\"#46039f\"],[0.2222222222222222,\"#7201a8\"],[0.3333333333333333,\"#9c179e\"],[0.4444444444444444,\"#bd3786\"],[0.5555555555555556,\"#d8576b\"],[0.6666666666666666,\"#ed7953\"],[0.7777777777777778,\"#fb9f3a\"],[0.8888888888888888,\"#fdca26\"],[1.0,\"#f0f921\"]],\"sequentialminus\":[[0.0,\"#0d0887\"],[0.1111111111111111,\"#46039f\"],[0.2222222222222222,\"#7201a8\"],[0.3333333333333333,\"#9c179e\"],[0.4444444444444444,\"#bd3786\"],[0.5555555555555556,\"#d8576b\"],[0.6666666666666666,\"#ed7953\"],[0.7777777777777778,\"#fb9f3a\"],[0.8888888888888888,\"#fdca26\"],[1.0,\"#f0f921\"]]},\"colorway\":[\"#636efa\",\"#EF553B\",\"#00cc96\",\"#ab63fa\",\"#FFA15A\",\"#19d3f3\",\"#FF6692\",\"#B6E880\",\"#FF97FF\",\"#FECB52\"],\"font\":{\"color\":\"#2a3f5f\"},\"geo\":{\"bgcolor\":\"white\",\"lakecolor\":\"white\",\"landcolor\":\"#E5ECF6\",\"showlakes\":true,\"showland\":true,\"subunitcolor\":\"white\"},\"hoverlabel\":{\"align\":\"left\"},\"hovermode\":\"closest\",\"mapbox\":{\"style\":\"light\"},\"paper_bgcolor\":\"white\",\"plot_bgcolor\":\"#E5ECF6\",\"polar\":{\"angularaxis\":{\"gridcolor\":\"white\",\"linecolor\":\"white\",\"ticks\":\"\"},\"bgcolor\":\"#E5ECF6\",\"radialaxis\":{\"gridcolor\":\"white\",\"linecolor\":\"white\",\"ticks\":\"\"}},\"scene\":{\"xaxis\":{\"backgroundcolor\":\"#E5ECF6\",\"gridcolor\":\"white\",\"gridwidth\":2,\"linecolor\":\"white\",\"showbackground\":true,\"ticks\":\"\",\"zerolinecolor\":\"white\"},\"yaxis\":{\"backgroundcolor\":\"#E5ECF6\",\"gridcolor\":\"white\",\"gridwidth\":2,\"linecolor\":\"white\",\"showbackground\":true,\"ticks\":\"\",\"zerolinecolor\":\"white\"},\"zaxis\":{\"backgroundcolor\":\"#E5ECF6\",\"gridcolor\":\"white\",\"gridwidth\":2,\"linecolor\":\"white\",\"showbackground\":true,\"ticks\":\"\",\"zerolinecolor\":\"white\"}},\"shapedefaults\":{\"line\":{\"color\":\"#2a3f5f\"}},\"ternary\":{\"aaxis\":{\"gridcolor\":\"white\",\"linecolor\":\"white\",\"ticks\":\"\"},\"baxis\":{\"gridcolor\":\"white\",\"linecolor\":\"white\",\"ticks\":\"\"},\"bgcolor\":\"#E5ECF6\",\"caxis\":{\"gridcolor\":\"white\",\"linecolor\":\"white\",\"ticks\":\"\"}},\"title\":{\"x\":0.05},\"xaxis\":{\"automargin\":true,\"gridcolor\":\"white\",\"linecolor\":\"white\",\"ticks\":\"\",\"title\":{\"standoff\":15},\"zerolinecolor\":\"white\",\"zerolinewidth\":2},\"yaxis\":{\"automargin\":true,\"gridcolor\":\"white\",\"linecolor\":\"white\",\"ticks\":\"\",\"title\":{\"standoff\":15},\"zerolinecolor\":\"white\",\"zerolinewidth\":2}}},\"title\":{\"font\":{\"size\":14},\"pad\":{\"t\":-55},\"text\":\"Figure 4. NL, Lemmas by properties, all results, proportion\",\"x\":0,\"y\":1,\"yanchor\":\"top\",\"yref\":\"paper\"},\"width\":590,\"xaxis\":{\"showgrid\":false,\"visible\":false},\"yaxis\":{\"showgrid\":false,\"visible\":true}},                        {\"responsive\": true}                    ).then(function(){\n",
       "                            \n",
       "var gd = document.getElementById('5bf4d0bb-db3f-4820-a836-158b5590ee6f');\n",
       "var x = new MutationObserver(function (mutations, observer) {{\n",
       "        var display = window.getComputedStyle(gd).display;\n",
       "        if (!display || display === 'none') {{\n",
       "            console.log([gd, 'removed!']);\n",
       "            Plotly.purge(gd);\n",
       "            observer.disconnect();\n",
       "        }}\n",
       "}});\n",
       "\n",
       "// Listen for the removal of the full notebook cells\n",
       "var notebookContainer = gd.closest('#notebook-container');\n",
       "if (notebookContainer) {{\n",
       "    x.observe(notebookContainer, {childList: true});\n",
       "}}\n",
       "\n",
       "// Listen for the clearing of the current output cell\n",
       "var outputEl = gd.closest('.output');\n",
       "if (outputEl) {{\n",
       "    x.observe(outputEl, {childList: true});\n",
       "}}\n",
       "\n",
       "                        })                };                });            </script>        </div>"
      ]
     },
     "metadata": {},
     "output_type": "display_data"
    }
   ],
   "source": [
    "lemmas = list(to_plot_p['lemma'])\n",
    "pref = list(to_plot_p['wd_pref_p'])\n",
    "alias = list(to_plot_p['wd_aliases_p'])\n",
    "descr = list(to_plot_p['wd_descr_p'])\n",
    "text_marker = list(to_plot_p['wd_total'])\n",
    "\n",
    "bar_chart = go.Figure(data=[\n",
    "    go.Bar(name=\"prefLabel\",\n",
    "           x=pref,\n",
    "           y=lemmas,\n",
    "           hovertext=to_plot['wd_pref'],\n",
    "           orientation='h',\n",
    "           marker_color='rgb(0,0,0)'),\n",
    "    \n",
    "    go.Bar(name=\"aliases\",\n",
    "           x=alias,\n",
    "           y=lemmas,\n",
    "           hovertext=to_plot['wd_aliases'],\n",
    "           orientation='h',\n",
    "           marker_color='rgb(128, 128, 128)'),\n",
    "    \n",
    "    go.Bar(name=\"description\",\n",
    "           x=descr,\n",
    "           y=lemmas,\n",
    "           hovertext=to_plot['wd_descr'],\n",
    "           orientation='h',\n",
    "           marker_color='rgb(224, 224, 224)',\n",
    "           text=text_marker,\n",
    "           textposition='outside')\n",
    "\n",
    "])\n",
    "\n",
    "bar_chart.update_layout(barmode='stack',\n",
    "                  width=590,\n",
    "                  height=1230,\n",
    "                  bargap=0.2,\n",
    "                  paper_bgcolor='rgb(255, 255, 255)',\n",
    "                  plot_bgcolor='rgb(255, 255, 255)',\n",
    "                  title={\"text\":\"Figure 4. NL, Lemmas by properties, all results, proportion\",\n",
    "                        \"x\":0,\n",
    "                        \"y\":1,\n",
    "                        \"yanchor\":\"top\",\n",
    "                        \"yref\":\"paper\",\n",
    "                        \"pad\":{\"t\":-55},\n",
    "                        \"font\":{\"size\":14}},\n",
    "                  \n",
    "                  margin=dict(\n",
    "                    l=0,\n",
    "                    r=0,\n",
    "                    b=0,\n",
    "                    t=60,\n",
    "                    pad=1),\n",
    "                  \n",
    "                  font=dict(\n",
    "                    family=\"Arial\",\n",
    "                    size=8,\n",
    "                    color=\"black\"),\n",
    "                  \n",
    "                  legend=dict(\n",
    "                    traceorder=\"normal\",\n",
    "                    orientation=\"h\",\n",
    "                    itemsizing='constant',\n",
    "                    itemwidth=30,\n",
    "                    yanchor=\"top\",\n",
    "                    y=1.03,\n",
    "                    xanchor=\"left\",\n",
    "                    x=-0.03,\n",
    "                    font=dict(\n",
    "                    family=\"Arial\",\n",
    "                    size=8,\n",
    "                    color=\"black\"\n",
    "                )),\n",
    "                 )\n",
    "\n",
    "bar_chart.update_traces(marker=dict(line=dict(width=0),line_color=\"black\"),hoverinfo='text',\n",
    "                 textfont_size=8, selector=dict(type='bar'))\n",
    "\n",
    "bar_chart.update_yaxes(showgrid=False,\n",
    "                visible=True)\n",
    "\n",
    "bar_chart.update_xaxes(showgrid=False,\n",
    "                visible=False)\n",
    "\n",
    "bar_chart.show()"
   ]
  },
  {
   "cell_type": "code",
   "execution_count": null,
   "metadata": {},
   "outputs": [],
   "source": [
    "bar_chart.write_html('all_hits_by_lemma_perc_nl.html',include_plotlyjs=\"cdn\")"
   ]
  }
 ],
 "metadata": {
  "kernelspec": {
   "display_name": "Python 3",
   "language": "python",
   "name": "python3"
  },
  "language_info": {
   "codemirror_mode": {
    "name": "ipython",
    "version": 3
   },
   "file_extension": ".py",
   "mimetype": "text/x-python",
   "name": "python",
   "nbconvert_exporter": "python",
   "pygments_lexer": "ipython3",
   "version": "3.8.5"
  }
 },
 "nbformat": 4,
 "nbformat_minor": 4
}
