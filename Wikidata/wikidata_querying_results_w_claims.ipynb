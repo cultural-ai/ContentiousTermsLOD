{
 "cells": [
  {
   "cell_type": "markdown",
   "metadata": {},
   "source": [
    "#### This notebook connects Wikidata query results to the json file with claims about entities in which query terms were found"
   ]
  },
  {
   "cell_type": "code",
   "execution_count": 1,
   "metadata": {},
   "outputs": [],
   "source": [
    "import json"
   ]
  },
  {
   "cell_type": "code",
   "execution_count": null,
   "metadata": {},
   "outputs": [],
   "source": [
    "# importing EN results\n",
    "with open('term_found_en.json','r') as jf:\n",
    "    results_en = json.load(jf)"
   ]
  },
  {
   "cell_type": "code",
   "execution_count": null,
   "metadata": {},
   "outputs": [],
   "source": [
    "# importing NL results\n",
    "with open('term_found_nl.json','r') as jf:\n",
    "    results_nl = json.load(jf)"
   ]
  },
  {
   "cell_type": "code",
   "execution_count": null,
   "metadata": {},
   "outputs": [],
   "source": [
    "# importing all claims with labels\n",
    "with open('all_claims_w_labels.json','r') as jf:\n",
    "    claims = json.load(jf)"
   ]
  },
  {
   "cell_type": "code",
   "execution_count": null,
   "metadata": {},
   "outputs": [],
   "source": [
    "# mergin results with claims EN\n",
    "for term, hits in results_en.items():\n",
    "    for hit in hits:\n",
    "        hit['instance_of'] = []\n",
    "        hit['subclass_of'] = []\n",
    "        \n",
    "        if hit['QID'] in claims.keys():\n",
    "            hit['instance_of'].extend([value['en'] for value in claims[hit['QID']]['P31'].values()])\n",
    "            hit['subclass_of'].extend([value['en'] for value in claims[hit['QID']]['P279'].values()])"
   ]
  },
  {
   "cell_type": "code",
   "execution_count": null,
   "metadata": {},
   "outputs": [],
   "source": [
    "# saving EN results with claims\n",
    "\n",
    "with open(\"results_w_claims_en.json\",\"w\") as jf:\n",
    "    json.dump(results_en, jf)"
   ]
  },
  {
   "cell_type": "code",
   "execution_count": null,
   "metadata": {},
   "outputs": [],
   "source": [
    "# mergin results with claims NL\n",
    "for term, hits in results_nl.items():\n",
    "    for hit in hits:\n",
    "        hit['instance_of'] = []\n",
    "        hit['subclass_of'] = []\n",
    "        \n",
    "        if hit['QID'] in claims.keys():\n",
    "            hit['instance_of'].extend([value['nl'] for value in claims[hit['QID']]['P31'].values()])\n",
    "            hit['subclass_of'].extend([value['nl'] for value in claims[hit['QID']]['P279'].values()])"
   ]
  },
  {
   "cell_type": "code",
   "execution_count": null,
   "metadata": {},
   "outputs": [],
   "source": [
    "# saving NL results with claims\n",
    "\n",
    "with open(\"results_w_claims_nl.json\",\"w\") as jf:\n",
    "    json.dump(results_nl, jf)"
   ]
  }
 ],
 "metadata": {
  "kernelspec": {
   "display_name": "Python 3",
   "language": "python",
   "name": "python3"
  },
  "language_info": {
   "codemirror_mode": {
    "name": "ipython",
    "version": 3
   },
   "file_extension": ".py",
   "mimetype": "text/x-python",
   "name": "python",
   "nbconvert_exporter": "python",
   "pygments_lexer": "ipython3",
   "version": "3.8.5"
  }
 },
 "nbformat": 4,
 "nbformat_minor": 4
}
