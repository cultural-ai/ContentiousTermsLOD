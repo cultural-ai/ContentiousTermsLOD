{
 "cells": [
  {
   "cell_type": "code",
   "execution_count": 1,
   "metadata": {},
   "outputs": [],
   "source": [
    "import json"
   ]
  },
  {
   "cell_type": "code",
   "execution_count": 22,
   "metadata": {},
   "outputs": [],
   "source": [
    "import nltk"
   ]
  },
  {
   "cell_type": "code",
   "execution_count": 32,
   "metadata": {},
   "outputs": [],
   "source": [
    "import re"
   ]
  },
  {
   "cell_type": "code",
   "execution_count": 23,
   "metadata": {},
   "outputs": [],
   "source": [
    "from nltk.corpus import stopwords\n",
    "from nltk.stem import WordNetLemmatizer"
   ]
  },
  {
   "cell_type": "code",
   "execution_count": 34,
   "metadata": {},
   "outputs": [
    {
     "name": "stderr",
     "output_type": "stream",
     "text": [
      "[nltk_data] Downloading package stopwords to\n",
      "[nltk_data]     /Users/anesterov/nltk_data...\n",
      "[nltk_data]   Unzipping corpora/stopwords.zip.\n"
     ]
    },
    {
     "data": {
      "text/plain": [
       "True"
      ]
     },
     "execution_count": 34,
     "metadata": {},
     "output_type": "execute_result"
    }
   ],
   "source": [
    "nltk.download('stopwords')"
   ]
  },
  {
   "cell_type": "code",
   "execution_count": 27,
   "metadata": {},
   "outputs": [],
   "source": [
    "wnl = WordNetLemmatizer()"
   ]
  },
  {
   "cell_type": "code",
   "execution_count": 2,
   "metadata": {},
   "outputs": [],
   "source": [
    "# importing results\n",
    "with open('/Users/anesterov/wd/jan31/results_clean_en.json','r') as jf:\n",
    "    wd = json.load(jf)"
   ]
  },
  {
   "cell_type": "code",
   "execution_count": 38,
   "metadata": {},
   "outputs": [
    {
     "name": "stdout",
     "output_type": "stream",
     "text": [
      "{'query_term': 'immigrants', 'lang': 'en', 'QID': 'Q100138599', 'prefLabel': 'Immigration, Attitudes of Natives and Immigrants Assimilation', 'aliases': ['Long-term migration'], 'description': ['EU Funded (H2020) Research Project'], 'index': 334, 'found_in': 'prefLabel', 'instance_of': ['research grant', 'research project'], 'subclass_of': []}\n"
     ]
    }
   ],
   "source": [
    "def collect_bows_per_term() -> dict:\n",
    "    '''\n",
    "    Getting bag of words from the search results\n",
    "    '''\n",
    "    \n",
    "    results = {}\n",
    "    for query_term, results in wd.items():\n",
    "        bags_by_term = {}\n",
    "\n",
    "        for hit in results:\n",
    "            q_bag = {}\n",
    "            literals = []\n",
    "            literals.append(hit[\"prefLabel\"]) # adding prefLabel\n",
    "\n",
    "            if hit[\"found_in\"] == \"prefLabel\" or hit[\"found_in\"] == \"aliases\":\n",
    "                literals.extend(hit[\"instance_of\"])\n",
    "                literals.extend(hit[\"subclass_of\"])\n",
    "\n",
    "            if hit[\"aliases\"] != None:\n",
    "                literals.extend(hit[\"aliases\"]) # adding aliases\n",
    "\n",
    "            if hit[\"description\"] != None:\n",
    "                literals.extend(hit[\"description\"]) # adding descriptions\n",
    "\n",
    "            bow = []\n",
    "            for lit in literals:\n",
    "                bow.extend(lit.replace('(','').replace(')','').replace('-',' ').replace('/',' ')\\\n",
    "                           .replace(',','').lower().split(' '))\n",
    "\n",
    "            bag_unique = [wnl.lemmatize(w) for w in set(bow) if w not in stopwords.words('english') \\\n",
    "                                    and re.search('(\\W|\\d)',w) == None and hit[\"query_term\"] not in w and w != '']\n",
    "\n",
    "            q_bag[hit[\"QID\"]] = bag_unique\n",
    "\n",
    "        bags_by_term[query_term] = q_bag\n",
    "\n",
    "    results.update(bags_by_term)       \n",
    "        "
   ]
  },
  {
   "cell_type": "code",
   "execution_count": 39,
   "metadata": {},
   "outputs": [
    {
     "data": {
      "text/plain": [
       "{'Q100138599': ['assimilation',\n",
       "  'migration',\n",
       "  'eu',\n",
       "  'native',\n",
       "  'immigration',\n",
       "  'long',\n",
       "  'grant',\n",
       "  'research',\n",
       "  'attitude',\n",
       "  'project',\n",
       "  'funded',\n",
       "  'term']}"
      ]
     },
     "execution_count": 39,
     "metadata": {},
     "output_type": "execute_result"
    }
   ],
   "source": [
    "q_bag"
   ]
  },
  {
   "cell_type": "code",
   "execution_count": 29,
   "metadata": {},
   "outputs": [],
   "source": [
    "bow = []\n",
    "for lit in literals:\n",
    "    bow.extend(lit.replace('(','').replace(')','').replace('-',' ').replace('/',' ').replace(',','').lower().split(' '))"
   ]
  },
  {
   "cell_type": "code",
   "execution_count": 31,
   "metadata": {},
   "outputs": [
    {
     "data": {
      "text/plain": [
       "['immigration',\n",
       " 'attitudes',\n",
       " 'of',\n",
       " 'natives',\n",
       " 'and',\n",
       " 'immigrants',\n",
       " 'assimilation',\n",
       " 'research',\n",
       " 'grant',\n",
       " 'research',\n",
       " 'project',\n",
       " 'long',\n",
       " 'term',\n",
       " 'migration',\n",
       " 'eu',\n",
       " 'funded',\n",
       " 'h2020',\n",
       " 'research',\n",
       " 'project']"
      ]
     },
     "execution_count": 31,
     "metadata": {},
     "output_type": "execute_result"
    }
   ],
   "source": [
    "bow"
   ]
  },
  {
   "cell_type": "code",
   "execution_count": null,
   "metadata": {},
   "outputs": [],
   "source": [
    "bag_unique = [wnl.lemmatize(w) for w in set(bow) if w not in stopwords.words('english') \\\n",
    "                            and re.search('(\\W|\\d)',w) == None and hit[\"query_term\"] not in w and w != '']"
   ]
  }
 ],
 "metadata": {
  "kernelspec": {
   "display_name": "Python 3",
   "language": "python",
   "name": "python3"
  },
  "language_info": {
   "codemirror_mode": {
    "name": "ipython",
    "version": 3
   },
   "file_extension": ".py",
   "mimetype": "text/x-python",
   "name": "python",
   "nbconvert_exporter": "python",
   "pygments_lexer": "ipython3",
   "version": "3.8.5"
  }
 },
 "nbformat": 4,
 "nbformat_minor": 4
}
