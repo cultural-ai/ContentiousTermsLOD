{
 "cells": [
  {
   "cell_type": "markdown",
   "metadata": {},
   "source": [
    "### Generating files (gzip json) with bags of words for every found Wikidata entity"
   ]
  },
  {
   "cell_type": "code",
   "execution_count": null,
   "metadata": {},
   "outputs": [],
   "source": [
    "import gzip\n",
    "import json\n",
    "from LODlit import wd"
   ]
  },
  {
   "cell_type": "code",
   "execution_count": null,
   "metadata": {},
   "outputs": [],
   "source": [
    "# EN\n",
    "# path to results; results_clean_en.json is gzipped on GitHub (gzip_results_clean_en.json)\n",
    "wd_bows_en = wd.get_bows('results_clean_en.json','en')"
   ]
  },
  {
   "cell_type": "code",
   "execution_count": null,
   "metadata": {},
   "outputs": [],
   "source": [
    "# exporting bows; gzip_wd_bows_en.json on GitHub\n",
    "with open('wd_bows_en.json', 'w') as jf:\n",
    "    json.dump(wd_bows_en, jf)"
   ]
  },
  {
   "cell_type": "code",
   "execution_count": null,
   "metadata": {},
   "outputs": [],
   "source": [
    "# NL\n",
    "# gzip_results_clean_nl.json on GitHub\n",
    "wd_bows_nl = wd.get_bows('results_clean_nl.json','nl')"
   ]
  },
  {
   "cell_type": "code",
   "execution_count": null,
   "metadata": {},
   "outputs": [],
   "source": [
    "# gzip_wd_bows_nl.json on GitHub\n",
    "with open('wd_bows_nl.json', 'w') as jf:\n",
    "    json.dump(wd_bows_nl, jf)"
   ]
  },
  {
   "cell_type": "code",
   "execution_count": null,
   "metadata": {},
   "outputs": [],
   "source": [
    "# This function was used to gzip bows"
   ]
  },
  {
   "cell_type": "code",
   "execution_count": null,
   "metadata": {},
   "outputs": [],
   "source": [
    "def gzip_files(path_to_json:str, path_to_save:str) -> str:\n",
    "    '''\n",
    "    Compressing json files with query results\n",
    "    path_to_json: str, a path to uncompressed json\n",
    "    path_to_save: str, a path where to save compressed file (with no '/' at the end)\n",
    "    Return a status str \"File is saved\"\n",
    "    Dependencies: json, gzip\n",
    "    '''\n",
    "    \n",
    "    filename = f\"gzip_{path_to_json.split('/')[-1]}\"\n",
    "    path_to_save_filename = f\"{path_to_save}/{filename}\"\n",
    "    \n",
    "    with open(path_to_json,'r') as jf:\n",
    "        json_uncompressed = json.load(jf)\n",
    "        \n",
    "    with gzip.open(path_to_save_filename, 'w') as gzip_out:\n",
    "        gzip_out.write(json.dumps(json_uncompressed).encode('utf-8'))\n",
    "        \n",
    "    return \"File is saved\""
   ]
  },
  {
   "cell_type": "code",
   "execution_count": null,
   "metadata": {},
   "outputs": [],
   "source": []
  }
 ],
 "metadata": {
  "kernelspec": {
   "display_name": "Python 3 (ipykernel)",
   "language": "python",
   "name": "python3"
  },
  "language_info": {
   "codemirror_mode": {
    "name": "ipython",
    "version": 3
   },
   "file_extension": ".py",
   "mimetype": "text/x-python",
   "name": "python",
   "nbconvert_exporter": "python",
   "pygments_lexer": "ipython3",
   "version": "3.8.5"
  }
 },
 "nbformat": 4,
 "nbformat_minor": 4
}
