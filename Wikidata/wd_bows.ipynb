{
 "cells": [
  {
   "cell_type": "markdown",
   "metadata": {},
   "source": [
    "### Generating files (json) with bags of words for every found entity"
   ]
  },
  {
   "cell_type": "code",
   "execution_count": null,
   "metadata": {},
   "outputs": [],
   "source": [
    "import gzip\n",
    "import json"
   ]
  },
  {
   "cell_type": "code",
   "execution_count": null,
   "metadata": {},
   "outputs": [],
   "source": [
    "# Importing LODlitParser Wikidata module \n",
    "# this code is taken from\n",
    "# https://stackoverflow.com/questions/67631/how-can-i-import-a-module-dynamically-given-the-full-path\n",
    "import importlib.util\n",
    "import sys\n",
    "spec = importlib.util.spec_from_file_location(\"LODlitParser.wd\", \"/Users/anesterov/reps/LODlit/LODlitParser/wd.py\")\n",
    "wd = importlib.util.module_from_spec(spec)\n",
    "sys.modules[\"LODlitParser.wd\"] = wd\n",
    "spec.loader.exec_module(wd)"
   ]
  },
  {
   "cell_type": "code",
   "execution_count": null,
   "metadata": {},
   "outputs": [],
   "source": [
    "# EN\n",
    "wd_bows_en = wd.get_bows('/Users/anesterov/wd/jan31/results_clean_en.json','en')"
   ]
  },
  {
   "cell_type": "code",
   "execution_count": null,
   "metadata": {},
   "outputs": [],
   "source": [
    "with open('/Users/anesterov/wd/jan31/wd_bows_en.json', 'w') as jf:\n",
    "    json.dump(wd_bows_en, jf)"
   ]
  },
  {
   "cell_type": "code",
   "execution_count": null,
   "metadata": {},
   "outputs": [],
   "source": [
    "# NL\n",
    "wd_bows_nl = wd.get_bows('/Users/anesterov/wd/jan31/results_clean_nl.json','nl')"
   ]
  },
  {
   "cell_type": "code",
   "execution_count": null,
   "metadata": {},
   "outputs": [],
   "source": [
    "with open('/Users/anesterov/wd/jan31/wd_bows_nl.json', 'w') as jf:\n",
    "    json.dump(wd_bows_nl, jf)"
   ]
  },
  {
   "cell_type": "code",
   "execution_count": null,
   "metadata": {},
   "outputs": [],
   "source": [
    "# gzipping bows"
   ]
  },
  {
   "cell_type": "code",
   "execution_count": null,
   "metadata": {},
   "outputs": [],
   "source": [
    "def gzip_files(path_to_json:str, path_to_save:str) -> str:\n",
    "    '''\n",
    "    Compressing json files with query results\n",
    "    path_to_json: str, a path to uncompressed json\n",
    "    path_to_save: str, a path where to save compressed file (with no '/' at the end)\n",
    "    Return a status str \"File is saved\"\n",
    "    Dependencies: json, gzip\n",
    "    '''\n",
    "    \n",
    "    filename = f\"gzip_{path_to_json.split('/')[-1]}\"\n",
    "    path_to_save_filename = f\"{path_to_save}/{filename}\"\n",
    "    \n",
    "    with open(path_to_json,'r') as jf:\n",
    "        json_uncompressed = json.load(jf)\n",
    "        \n",
    "    with gzip.open(path_to_save_filename, 'w') as gzip_out:\n",
    "        gzip_out.write(json.dumps(json_uncompressed).encode('utf-8'))\n",
    "        \n",
    "    return \"File is saved\""
   ]
  },
  {
   "cell_type": "code",
   "execution_count": null,
   "metadata": {},
   "outputs": [],
   "source": [
    "gzip_files('/Users/anesterov/wd/jan31/wd_bows_en.json','/Users/anesterov/reps/LODlit/Wikidata')"
   ]
  },
  {
   "cell_type": "code",
   "execution_count": null,
   "metadata": {},
   "outputs": [],
   "source": []
  }
 ],
 "metadata": {
  "kernelspec": {
   "display_name": "Python 3",
   "language": "python",
   "name": "python3"
  },
  "language_info": {
   "codemirror_mode": {
    "name": "ipython",
    "version": 3
   },
   "file_extension": ".py",
   "mimetype": "text/x-python",
   "name": "python",
   "nbconvert_exporter": "python",
   "pygments_lexer": "ipython3",
   "version": "3.8.5"
  }
 },
 "nbformat": 4,
 "nbformat_minor": 4
}
