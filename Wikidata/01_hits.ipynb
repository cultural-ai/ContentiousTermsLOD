{
 "cells": [
  {
   "cell_type": "code",
   "execution_count": null,
   "metadata": {},
   "outputs": [],
   "source": [
    "import json\n",
    "import csv\n",
    "import pandas as pd\n",
    "from LODlit import wd"
   ]
  },
  {
   "cell_type": "markdown",
   "metadata": {},
   "source": [
    "### Getting N of entities by term\n",
    "* Sending requests to Wikidata to retrieve N of entities found by term with:\n",
    "    * no filtering\n",
    "    * filtering with keywords\n",
    "    * filtering with keywords and statements\n",
    "* Generating 2 csv files with (1) N entities by term (n_entities_by_term.csv), (2) N entities by term grouped by canonical forms (n_entities_by_lemma.csv)"
   ]
  },
  {
   "cell_type": "code",
   "execution_count": null,
   "metadata": {},
   "outputs": [],
   "source": [
    "# importing query terms\n",
    "with open(\"/LODlit/query_terms.json\",\"r\") as jf:\n",
    "    query_terms = json.load(jf)"
   ]
  },
  {
   "cell_type": "code",
   "execution_count": null,
   "metadata": {},
   "outputs": [],
   "source": [
    "en_query_terms = []\n",
    "for lemma, wordforms in query_terms['en'].items():\n",
    "    en_query_terms.extend(wordforms)\n",
    "len(en_query_terms)"
   ]
  },
  {
   "cell_type": "code",
   "execution_count": null,
   "metadata": {},
   "outputs": [],
   "source": [
    "nl_query_terms = []\n",
    "for lemma, wordforms in query_terms['nl'].items():\n",
    "    nl_query_terms.extend(wordforms)\n",
    "len(nl_query_terms)"
   ]
  },
  {
   "cell_type": "code",
   "execution_count": null,
   "metadata": {},
   "outputs": [],
   "source": [
    "user_agent = \"Bot getting N of search hits (nesterov@cwi.nl)\""
   ]
  },
  {
   "cell_type": "code",
   "execution_count": null,
   "metadata": {},
   "outputs": [],
   "source": [
    "# hits with no filter EN\n",
    "hits_en_no_filter = {}\n",
    "\n",
    "for query_term in en_query_terms:\n",
    "    hits_per_term = wd.get_search_hits(query_term,'en',user_agent)\n",
    "    hits_en_no_filter.update(hits_per_term)"
   ]
  },
  {
   "cell_type": "code",
   "execution_count": null,
   "metadata": {},
   "outputs": [],
   "source": [
    "# hits with no filter NL\n",
    "hits_nl_no_filter = {}\n",
    "\n",
    "for query_term in nl_query_terms:\n",
    "    hits_per_term = wd.get_search_hits(query_term,'nl',user_agent)\n",
    "    hits_nl_no_filter.update(hits_per_term)"
   ]
  },
  {
   "cell_type": "code",
   "execution_count": null,
   "metadata": {},
   "outputs": [],
   "source": [
    "# hits with keywords EN\n",
    "keywords_en = ['scientific','scholarly','article']\n",
    "hits_en_filter_keywords = {}\n",
    "\n",
    "for query_term in en_query_terms:\n",
    "    hits_per_term = wd.get_search_hits(query_term,'en',user_agent,keywords_en)\n",
    "    hits_en_filter_keywords.update(hits_per_term)"
   ]
  },
  {
   "cell_type": "code",
   "execution_count": null,
   "metadata": {},
   "outputs": [],
   "source": [
    "# hits with keywords NL\n",
    "keywords_nl = ['wetenschappelijk','artikel']\n",
    "hits_nl_filter_keywords = {}\n",
    "\n",
    "for query_term in nl_query_terms:\n",
    "    hits_per_term = wd.get_search_hits(query_term,'nl',user_agent,keywords_nl)\n",
    "    hits_nl_filter_keywords.update(hits_per_term)"
   ]
  },
  {
   "cell_type": "code",
   "execution_count": null,
   "metadata": {},
   "outputs": [],
   "source": [
    "# importing statements to filter out\n",
    "with open(\"statements_filter.json\",\"r\") as jf:\n",
    "    statements_filter = json.load(jf)"
   ]
  },
  {
   "cell_type": "code",
   "execution_count": null,
   "metadata": {},
   "outputs": [],
   "source": [
    "# creating a list of tuples with statements to filter out\n",
    "statements = []\n",
    "for s in statements_filter.keys():\n",
    "    statements.extend([('P31',s),('P279',s)])"
   ]
  },
  {
   "cell_type": "code",
   "execution_count": null,
   "metadata": {},
   "outputs": [],
   "source": [
    "# hits with keywords and statements EN\n",
    "hits_en_filter_keywords_statements = {}\n",
    "\n",
    "for query_term in en_query_terms:\n",
    "    hits_per_term = wd.get_search_hits(query_term,'en',user_agent,keywords_en,statements)\n",
    "    hits_en_filter_keywords_statements.update(hits_per_term)"
   ]
  },
  {
   "cell_type": "code",
   "execution_count": null,
   "metadata": {},
   "outputs": [],
   "source": [
    "# hits with keywords and statements NL\n",
    "hits_nl_filter_keywords_statements = {}\n",
    "\n",
    "for query_term in nl_query_terms:\n",
    "    hits_per_term = wd.get_search_hits(query_term,'nl',user_agent,keywords_nl,statements)\n",
    "    hits_nl_filter_keywords_statements.update(hits_per_term)"
   ]
  },
  {
   "cell_type": "code",
   "execution_count": null,
   "metadata": {},
   "outputs": [],
   "source": [
    "# exporting a resulting csv\n",
    "with open('n_entities_by_term.csv','w') as csv_file:\n",
    "    writer = csv.writer(csv_file)\n",
    "    header = ['term', 'lang', 'e_no_filter', 'e_filter_keywords', 'e_filter_keywords_statements']\n",
    "    writer.writerow(header)\n",
    "    for query_term in en_query_terms:\n",
    "        row = [query_term,'en',hits_en_no_filter[query_term],hits_en_filter_keywords[query_term],hits_en_filter_keywords_statements[query_term]]\n",
    "        writer.writerow(row)\n",
    "    for query_term in nl_query_terms:\n",
    "        row = [query_term,'nl',hits_nl_no_filter[query_term],hits_nl_filter_keywords[query_term],hits_nl_filter_keywords_statements[query_term]]\n",
    "        writer.writerow(row)"
   ]
  },
  {
   "cell_type": "code",
   "execution_count": null,
   "metadata": {},
   "outputs": [],
   "source": [
    "# N entities by lemma"
   ]
  },
  {
   "cell_type": "code",
   "execution_count": null,
   "metadata": {},
   "outputs": [],
   "source": [
    "df = pd.read_csv('n_entities_by_term.csv')\n",
    "en_df = df.loc[df['lang'] == 'en']\n",
    "nl_df = df.loc[df['lang'] == 'nl']"
   ]
  },
  {
   "cell_type": "code",
   "execution_count": null,
   "metadata": {},
   "outputs": [],
   "source": [
    "en_df.insert(0, 'lemma','')"
   ]
  },
  {
   "cell_type": "code",
   "execution_count": null,
   "metadata": {},
   "outputs": [],
   "source": [
    "nl_df.insert(0, 'lemma','')"
   ]
  },
  {
   "cell_type": "code",
   "execution_count": null,
   "metadata": {
    "scrolled": true
   },
   "outputs": [],
   "source": [
    "# EN\n",
    "for lemma, wordforms in query_terms['en'].items():\n",
    "    for row in en_df.iterrows():\n",
    "        if row[1]['term'] in wordforms:\n",
    "            en_df.loc[row[0],'lemma'] = lemma"
   ]
  },
  {
   "cell_type": "code",
   "execution_count": null,
   "metadata": {},
   "outputs": [],
   "source": [
    "# NL\n",
    "for lemma, wordforms in query_terms['nl'].items():\n",
    "    for row in nl_df.iterrows():\n",
    "        if row[1]['term'] in wordforms:\n",
    "            nl_df.loc[row[0],'lemma'] = lemma"
   ]
  },
  {
   "cell_type": "code",
   "execution_count": null,
   "metadata": {},
   "outputs": [],
   "source": [
    "# N entities by lemma\n",
    "with open('n_entities_by_lemma.csv','w') as csv_file:\n",
    "    writer = csv.writer(csv_file)\n",
    "    header = ['lemma','lang','e_no_filter','e_filter_keywords','e_filter_keywords_statements']\n",
    "    writer.writerow(header)\n",
    "    \n",
    "    for group in en_df.groupby('lemma'):\n",
    "        row = [group[0], 'en', sum(list(group[1]['e_no_filter'])), sum(list(group[1]['e_filter_keywords'])),\\\n",
    "               sum(list(group[1]['e_filter_keywords_statements']))]\n",
    "        writer.writerow(row)\n",
    "        \n",
    "    for group in nl_df.groupby('lemma'):\n",
    "        row = [group[0], 'nl', sum(list(group[1]['e_no_filter'])), sum(list(group[1]['e_filter_keywords'])),\\\n",
    "               sum(list(group[1]['e_filter_keywords_statements']))]\n",
    "        writer.writerow(row)"
   ]
  }
 ],
 "metadata": {
  "kernelspec": {
   "display_name": "Python 3 (ipykernel)",
   "language": "python",
   "name": "python3"
  },
  "language_info": {
   "codemirror_mode": {
    "name": "ipython",
    "version": 3
   },
   "file_extension": ".py",
   "mimetype": "text/x-python",
   "name": "python",
   "nbconvert_exporter": "python",
   "pygments_lexer": "ipython3",
   "version": "3.8.5"
  }
 },
 "nbformat": 4,
 "nbformat_minor": 4
}
