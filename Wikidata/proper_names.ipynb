{
 "cells": [
  {
   "cell_type": "markdown",
   "metadata": {},
   "source": [
    "## Filtering out entities that represent proper names\n",
    "* P31 = Q5 (\"instance of\" is \"human\")\n",
    "* capitalised query term is used in prefLabel"
   ]
  },
  {
   "cell_type": "code",
   "execution_count": null,
   "metadata": {},
   "outputs": [],
   "source": [
    "import json"
   ]
  },
  {
   "cell_type": "code",
   "execution_count": null,
   "metadata": {},
   "outputs": [],
   "source": [
    "# Importing LODlitParser Wikidata module \n",
    "# this code is taken from\n",
    "# https://stackoverflow.com/questions/67631/how-can-i-import-a-module-dynamically-given-the-full-path\n",
    "import importlib.util\n",
    "import sys\n",
    "spec = importlib.util.spec_from_file_location(\"LODlitParser.wd\", \"/Users/anesterov/reps/LODlit/LODlitParser/wd.py\")\n",
    "wd = importlib.util.module_from_spec(spec)\n",
    "sys.modules[\"LODlitParser.wd\"] = wd\n",
    "spec.loader.exec_module(wd)"
   ]
  },
  {
   "cell_type": "code",
   "execution_count": null,
   "metadata": {},
   "outputs": [],
   "source": [
    "path_to_results_with_claims_en = '/Users/anesterov/wd/jan31/results_with_claims_en.json'\n",
    "path_to_results_with_claims_nl = '/Users/anesterov/wd/jan31/results_with_claims_nl.json'\n",
    "path_to_save = '/Users/anesterov/wd/jan31/'"
   ]
  },
  {
   "cell_type": "code",
   "execution_count": null,
   "metadata": {},
   "outputs": [],
   "source": [
    "# EN\n",
    "wd.filter_proper_names(path_to_results_with_claims_en,'en',path_to_save)"
   ]
  },
  {
   "cell_type": "code",
   "execution_count": null,
   "metadata": {},
   "outputs": [],
   "source": [
    "# NL\n",
    "wd.filter_proper_names(path_to_results_with_claims_nl,'nl',path_to_save)"
   ]
  }
 ],
 "metadata": {
  "kernelspec": {
   "display_name": "Python 3",
   "language": "python",
   "name": "python3"
  },
  "language_info": {
   "codemirror_mode": {
    "name": "ipython",
    "version": 3
   },
   "file_extension": ".py",
   "mimetype": "text/x-python",
   "name": "python",
   "nbconvert_exporter": "python",
   "pygments_lexer": "ipython3",
   "version": "3.8.5"
  }
 },
 "nbformat": 4,
 "nbformat_minor": 4
}
