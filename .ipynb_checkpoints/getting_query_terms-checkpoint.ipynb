{
 "cells": [
  {
   "cell_type": "code",
   "execution_count": null,
   "metadata": {},
   "outputs": [],
   "source": [
    "import json\n",
    "import requests"
   ]
  },
  {
   "cell_type": "code",
   "execution_count": null,
   "metadata": {},
   "outputs": [],
   "source": [
    "# path to query terms from Cultural AI GitHub\n",
    "# EN\n",
    "url_en = \"https://github.com/cultural-ai/wordsmatter/raw/main/query_terms_cont_en.json\"\n",
    "# NL\n",
    "url_nl = \"https://github.com/cultural-ai/wordsmatter/raw/main/query_terms_cont_nl.json\""
   ]
  },
  {
   "cell_type": "code",
   "execution_count": null,
   "metadata": {},
   "outputs": [],
   "source": [
    "getting_en = requests.get(url_en)\n",
    "wordforms_en = json.loads(getting_en.text)"
   ]
  },
  {
   "cell_type": "code",
   "execution_count": null,
   "metadata": {},
   "outputs": [],
   "source": [
    "getting_nl = requests.get(url_nl)\n",
    "wordforms_nl = json.loads(getting_nl.text)"
   ]
  },
  {
   "cell_type": "code",
   "execution_count": null,
   "metadata": {},
   "outputs": [],
   "source": [
    "# merging query terms together in one dict\n",
    "# {'en':{'lemma':[all wordforms inclusing lemma]}}\n",
    "\n",
    "query_terms = {}\n",
    "query_terms['en'] = wordforms_en\n",
    "query_terms['nl'] = wordforms_nl"
   ]
  },
  {
   "cell_type": "code",
   "execution_count": null,
   "metadata": {},
   "outputs": [],
   "source": [
    "for values in query_terms.values():\n",
    "    for lemma, wordforms in values.items():\n",
    "        wordforms.append(lemma)"
   ]
  },
  {
   "cell_type": "code",
   "execution_count": null,
   "metadata": {},
   "outputs": [],
   "source": [
    "# saving all query terms\n",
    "with open('query_terms.json', 'w') as jf:\n",
    "    json.dump(query_terms, jf)"
   ]
  },
  {
   "cell_type": "code",
   "execution_count": null,
   "metadata": {},
   "outputs": [],
   "source": [
    "# stats\n",
    "en_total = 0\n",
    "en_lemmas = 0\n",
    "nl_total = 0\n",
    "nl_lemmas = 0\n",
    "\n",
    "for lemma, wordforms in query_terms['en'].items():\n",
    "    en_lemmas += 1\n",
    "    en_total += len(wordforms)\n",
    "    \n",
    "for lemma, wordforms in query_terms['nl'].items():\n",
    "    nl_lemmas += 1\n",
    "    nl_total += len(wordforms)\n",
    "    \n",
    "print(\"EN:\",en_lemmas,en_total)\n",
    "print(\"NL:\",nl_lemmas,nl_total)"
   ]
  },
  {
   "cell_type": "code",
   "execution_count": null,
   "metadata": {},
   "outputs": [],
   "source": []
  }
 ],
 "metadata": {
  "kernelspec": {
   "display_name": "Python 3",
   "language": "python",
   "name": "python3"
  },
  "language_info": {
   "codemirror_mode": {
    "name": "ipython",
    "version": 3
   },
   "file_extension": ".py",
   "mimetype": "text/x-python",
   "name": "python",
   "nbconvert_exporter": "python",
   "pygments_lexer": "ipython3",
   "version": "3.8.5"
  }
 },
 "nbformat": 4,
 "nbformat_minor": 4
}
