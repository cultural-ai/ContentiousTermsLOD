{
 "cells": [
  {
   "cell_type": "code",
   "execution_count": 1,
   "metadata": {},
   "outputs": [],
   "source": [
    "import pandas as pd\n",
    "import json\n",
    "import csv"
   ]
  },
  {
   "cell_type": "code",
   "execution_count": 5,
   "metadata": {},
   "outputs": [],
   "source": [
    "import statistics"
   ]
  },
  {
   "cell_type": "code",
   "execution_count": 2,
   "metadata": {},
   "outputs": [],
   "source": [
    "# EN"
   ]
  },
  {
   "cell_type": "code",
   "execution_count": 3,
   "metadata": {},
   "outputs": [],
   "source": [
    "aat_en = pd.read_csv(\"/Users/anesterov/reps/LODlit/aat_en_cs.csv\")"
   ]
  },
  {
   "cell_type": "code",
   "execution_count": 15,
   "metadata": {},
   "outputs": [],
   "source": [
    "def get_mean_cs(resource:str,lang:str):\n",
    "    '''\n",
    "    Generates a csv file with mean CS scores\n",
    "    resource: str, \"wikidata\", \"aat\", \"pwn\", \"odwn\"\n",
    "    lang: str, \"en\" or \"nl\"\n",
    "    '''\n",
    "    \n",
    "    # loading appropriate file\n",
    "    if resource == \"aat\":\n",
    "        cs_scores = pd.read_csv(f\"/Users/anesterov/reps/LODlit/aat_{lang}_cs.csv\")\n",
    "    if resource == \"wikidata\":\n",
    "        cs_scores = pd.read_csv(f\"/Users/anesterov/reps/LODlit/wikidata_{lang}_cs.csv\")\n",
    "    if resource == \"pwn\":\n",
    "        cs_scores = pd.read_csv(f\"/Users/anesterov/reps/LODlit/pwn_cs.csv\")\n",
    "    if resource == \"odwn\":\n",
    "        cs_scores = pd.read_csv(f\"/Users/anesterov/reps/LODlit/odwn_cs.csv\")\n",
    "    \n",
    "    with open(f\"{resource}_{lang}_mean_cs.csv\",'w') as csv_file:\n",
    "        writer = csv.writer(csv_file)\n",
    "        header = [\"term\", \"mean_rm\", \"mean_wm\"]\n",
    "        writer.writerow(header)\n",
    "    \n",
    "        for group in cs_scores.groupby(\"term\"):\n",
    "            cs_rm_per_term = [s for s in list(group[1][\"cs_rm\"]) if s != None]\n",
    "            cs_wm_per_term = [s for s in list(group[1][\"cs_wm\"]) if s != None]\n",
    "\n",
    "            data = [group[0],statistics.mean(cs_rm_per_term),statistics.mean(cs_wm_per_term)]\n",
    "            writer.writerow(data)"
   ]
  },
  {
   "cell_type": "code",
   "execution_count": 21,
   "metadata": {},
   "outputs": [],
   "source": [
    "get_mean_cs(\"odwn\",\"nl\")"
   ]
  },
  {
   "cell_type": "code",
   "execution_count": null,
   "metadata": {},
   "outputs": [],
   "source": []
  }
 ],
 "metadata": {
  "kernelspec": {
   "display_name": "Python 3",
   "language": "python",
   "name": "python3"
  },
  "language_info": {
   "codemirror_mode": {
    "name": "ipython",
    "version": 3
   },
   "file_extension": ".py",
   "mimetype": "text/x-python",
   "name": "python",
   "nbconvert_exporter": "python",
   "pygments_lexer": "ipython3",
   "version": "3.8.5"
  }
 },
 "nbformat": 4,
 "nbformat_minor": 4
}
