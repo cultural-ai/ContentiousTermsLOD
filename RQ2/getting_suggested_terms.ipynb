{
 "cells": [
  {
   "cell_type": "code",
   "execution_count": 1,
   "metadata": {},
   "outputs": [],
   "source": [
    "import json\n",
    "import rdflib\n",
    "from rdflib import Graph\n",
    "from rdflib.namespace import Namespace\n",
    "from rdflib.namespace import SKOS, RDF"
   ]
  },
  {
   "cell_type": "markdown",
   "metadata": {},
   "source": [
    "### Querying WM KG to get pairs of contentious and suggested terms"
   ]
  },
  {
   "cell_type": "code",
   "execution_count": 2,
   "metadata": {},
   "outputs": [],
   "source": [
    "# custom namespaces\n",
    "culco = Namespace(\"https://w3id.org/culco#\")\n",
    "skosxl = Namespace(\"http://www.w3.org/2008/05/skos-xl#\")\n",
    "dcterms = Namespace(\"http://purl.org/dc/terms/\")"
   ]
  },
  {
   "cell_type": "code",
   "execution_count": 3,
   "metadata": {},
   "outputs": [],
   "source": [
    "# change to GitHub\n",
    "path_to_wm = '/Users/anesterov/reps/wordsmatter/glossary.ttl'"
   ]
  },
  {
   "cell_type": "code",
   "execution_count": 4,
   "metadata": {},
   "outputs": [
    {
     "data": {
      "text/plain": [
       "<Graph identifier=N7cad654673334dad9725d8eac94777f9 (<class 'rdflib.graph.Graph'>)>"
      ]
     },
     "execution_count": 4,
     "metadata": {},
     "output_type": "execute_result"
    }
   ],
   "source": [
    "wm = Graph()\n",
    "wm.parse(path_to_wm, format=\"turtle\")"
   ]
  },
  {
   "cell_type": "code",
   "execution_count": null,
   "metadata": {},
   "outputs": [],
   "source": [
    "# Get cont_label URI instead, then retrieve query terms for every URI\n",
    "# Get terms by language"
   ]
  },
  {
   "cell_type": "code",
   "execution_count": 59,
   "metadata": {},
   "outputs": [],
   "source": [
    "suggested_terms = wm.query(\n",
    "    \"\"\"SELECT ?cont_label_URI (GROUP_CONCAT(?sug_label;SEPARATOR=\",\") AS ?sug_label_list)\n",
    "    WHERE {\n",
    "    ?Suggestion culco:suggestedFor ?cont_label_URI ;\n",
    "        culco:hasSuggestedLabel / skosxl:literalForm ?sug_label .\n",
    "    ?cont_label_URI skosxl:literalForm ?cont_lit .\n",
    "    FILTER (lang(?cont_lit) = \"en\") }\n",
    "    \n",
    "    GROUP BY ?cont_label_URI\n",
    "    \"\"\")"
   ]
  },
  {
   "cell_type": "code",
   "execution_count": null,
   "metadata": {},
   "outputs": [],
   "source": [
    "# {\"cont_label_URI\":[\"suggested_term\"]}"
   ]
  },
  {
   "cell_type": "code",
   "execution_count": 60,
   "metadata": {},
   "outputs": [],
   "source": [
    "suggested = {}\n",
    "\n",
    "for row in suggested_terms:\n",
    "    suggested[str(row.cont_label_URI).replace('https://w3id.org/culco/wordsmatter/','')] = [str(s) for s in row.sug_label_list.split(',')]"
   ]
  },
  {
   "cell_type": "code",
   "execution_count": 61,
   "metadata": {},
   "outputs": [
    {
     "data": {
      "text/plain": [
       "{'l_109': ['historic'],\n",
       " 'l_50': ['mixed race'],\n",
       " 'l_27': ['Black and Non-Black person of color',\n",
       "  'Black and Non-Black People of Color',\n",
       "  'Black and Non-Black persons of color',\n",
       "  'Persons of Color',\n",
       "  'Person of Color',\n",
       "  'People of Color'],\n",
       " 'l_48': ['Roma'],\n",
       " 'l_34': ['People with disabilities', 'Disabled people', 'Differently abled'],\n",
       " 'l_39': ['someone with dwarfism',\n",
       "  'a person of short stature',\n",
       "  'little person'],\n",
       " 'l_01': ['Aboriginal',\n",
       "  'Torres Strait Islander peoples',\n",
       "  'First Nation peoples',\n",
       "  'First Nation people',\n",
       "  'First Nations people',\n",
       "  'Indigenous',\n",
       "  'Aboriginal peoples',\n",
       "  'Aboriginal people'],\n",
       " 'l_86': ['Asian'],\n",
       " 'l_26': ['Caucasian', 'White'],\n",
       " 'l_17': ['Mumbai'],\n",
       " 'l_79': ['Muslim'],\n",
       " 'l_93': ['LGBT'],\n",
       " 'l_85': ['Black'],\n",
       " 'l_112': ['cross-dresser'],\n",
       " 'l_57': ['intersex'],\n",
       " 'l_101': ['enslaved person', 'Enslaved'],\n",
       " 'l_24': ['Maroon'],\n",
       " 'l_11': ['Imazighen', 'Amazigh'],\n",
       " 'l_60': ['Khoisan'],\n",
       " 'l_76': ['spiritual healer', 'Traditional healer'],\n",
       " 'l_66': ['Indo-European']}"
      ]
     },
     "execution_count": 61,
     "metadata": {},
     "output_type": "execute_result"
    }
   ],
   "source": [
    "suggested"
   ]
  },
  {
   "cell_type": "code",
   "execution_count": null,
   "metadata": {},
   "outputs": [],
   "source": [
    "# Next: link query terms to their corresponding suggestions"
   ]
  },
  {
   "cell_type": "code",
   "execution_count": 24,
   "metadata": {},
   "outputs": [],
   "source": [
    "with open('/Users/anesterov/reps/wordsmatter/related_matches/rm.json','r') as jf:\n",
    "    rms = json.load(jf)"
   ]
  },
  {
   "cell_type": "code",
   "execution_count": 29,
   "metadata": {},
   "outputs": [],
   "source": [
    "query_terms_with_suggestions = {}\n",
    "\n",
    "for cont_label_URI, suggestions_list in suggested.items():\n",
    "    for term in rms[cont_label_URI]['query_terms']:\n",
    "        query_terms_with_suggestions[term] = suggestions_list"
   ]
  },
  {
   "cell_type": "code",
   "execution_count": 30,
   "metadata": {},
   "outputs": [
    {
     "data": {
      "text/plain": [
       "{'disabled': ['Disabled people',\n",
       "  'Differently abled',\n",
       "  'People with disabilities'],\n",
       " 'disableds': ['Disabled people',\n",
       "  'Differently abled',\n",
       "  'People with disabilities'],\n",
       " 'oriëntaals': ['Aziatisch'],\n",
       " 'oriëntaalste': ['Aziatisch'],\n",
       " 'oriëntaalsere': ['Aziatisch'],\n",
       " 'oriëntaal': ['Aziatisch'],\n",
       " 'oriëntale': ['Aziatisch'],\n",
       " 'oriëntalere': ['Aziatisch'],\n",
       " 'oriëntaalse': ['Aziatisch'],\n",
       " 'oriëntaalst': ['Aziatisch'],\n",
       " 'oriëntaler': ['Aziatisch'],\n",
       " 'oriëntaalser': ['Aziatisch'],\n",
       " 'gekleurd': ['niet\\xad-zwarte mensen van kleur',\n",
       "  'mensen van kleur',\n",
       "  'Iemand van kleur',\n",
       "  'Zwart'],\n",
       " 'gekleurdste': ['niet\\xad-zwarte mensen van kleur',\n",
       "  'mensen van kleur',\n",
       "  'Iemand van kleur',\n",
       "  'Zwart'],\n",
       " 'gekleurdst': ['niet\\xad-zwarte mensen van kleur',\n",
       "  'mensen van kleur',\n",
       "  'Iemand van kleur',\n",
       "  'Zwart'],\n",
       " 'gekleurds': ['niet\\xad-zwarte mensen van kleur',\n",
       "  'mensen van kleur',\n",
       "  'Iemand van kleur',\n",
       "  'Zwart'],\n",
       " 'gekleurde': ['niet\\xad-zwarte mensen van kleur',\n",
       "  'mensen van kleur',\n",
       "  'Iemand van kleur',\n",
       "  'Zwart'],\n",
       " 'gekleurdere': ['niet\\xad-zwarte mensen van kleur',\n",
       "  'mensen van kleur',\n",
       "  'Iemand van kleur',\n",
       "  'Zwart'],\n",
       " 'gekleurder': ['niet\\xad-zwarte mensen van kleur',\n",
       "  'mensen van kleur',\n",
       "  'Iemand van kleur',\n",
       "  'Zwart'],\n",
       " 'aboriginal': ['Straat Torres-\\xadeilanders',\n",
       "  'First Nations',\n",
       "  'inheems',\n",
       "  'Aboriginal personen',\n",
       "  'Aboriginal'],\n",
       " 'aboriginals': ['Straat Torres-\\xadeilanders',\n",
       "  'First Nations',\n",
       "  'inheems',\n",
       "  'Aboriginal personen',\n",
       "  'Aboriginal'],\n",
       " 'kaukasisch': ['Kaukasisch', 'Wit'],\n",
       " 'kaukasische': ['Kaukasisch', 'Wit'],\n",
       " 'kaukasischere': ['Kaukasisch', 'Wit'],\n",
       " 'kaukasischer': ['Kaukasisch', 'Wit'],\n",
       " 'hermafrodiet': ['intersekse'],\n",
       " 'hermafrodieten': ['intersekse'],\n",
       " 'bush negro': ['Maroon'],\n",
       " 'bush negros': ['Maroon'],\n",
       " 'bush negroes': ['Maroon'],\n",
       " 'jappenkamp': ['Japans kamp',\n",
       "  'Japanese military prison camp (in Burma and Thailand)',\n",
       "  'Japanese prisoners of war camp',\n",
       "  'Japans concentratiekamp',\n",
       "  'Japanese camp',\n",
       "  'Japanese concentration camp',\n",
       "  'Japans kamp voor krijgsgevangenen',\n",
       "  'Japans interneringskamp',\n",
       "  'Japanese internment camp',\n",
       "  'Japans kamp voor militaire gevangenen (in Birma en Thailand)'],\n",
       " 'jappenkampen': ['Japans kamp',\n",
       "  'Japanese military prison camp (in Burma and Thailand)',\n",
       "  'Japanese prisoners of war camp',\n",
       "  'Japans concentratiekamp',\n",
       "  'Japanese camp',\n",
       "  'Japanese concentration camp',\n",
       "  'Japans kamp voor krijgsgevangenen',\n",
       "  'Japans interneringskamp',\n",
       "  'Japanese internment camp',\n",
       "  'Japans kamp voor militaire gevangenen (in Birma en Thailand)'],\n",
       " 'dwarf': ['little person',\n",
       "  'a person of short stature',\n",
       "  'someone with dwarfism'],\n",
       " 'dwarves': ['little person',\n",
       "  'a person of short stature',\n",
       "  'someone with dwarfism'],\n",
       " 'dwarfs': ['little person',\n",
       "  'a person of short stature',\n",
       "  'someone with dwarfism'],\n",
       " 'dwarfer': ['little person',\n",
       "  'a person of short stature',\n",
       "  'someone with dwarfism'],\n",
       " 'dwarfest': ['little person',\n",
       "  'a person of short stature',\n",
       "  'someone with dwarfism'],\n",
       " 'dwerg': ['van kleine lengte', 'kleine mensen', 'iemand met dwerggroei'],\n",
       " 'dwergen': ['van kleine lengte', 'kleine mensen', 'iemand met dwerggroei'],\n",
       " 'traditional': ['historic'],\n",
       " 'traditionals': ['historic'],\n",
       " 'queer': ['LGBT'],\n",
       " 'colored': ['Person of Color',\n",
       "  'Persons of Color',\n",
       "  'Black and Non-Black person of color',\n",
       "  'Black and Non-Black People of Color',\n",
       "  'Black and Non-Black persons of color',\n",
       "  'People of Color'],\n",
       " 'coloreds': ['Person of Color',\n",
       "  'Persons of Color',\n",
       "  'Black and Non-Black person of color',\n",
       "  'Black and Non-Black People of Color',\n",
       "  'Black and Non-Black persons of color',\n",
       "  'People of Color'],\n",
       " 'politionele actie': ['Eerste en Tweede Nederlands\\xad Indonesische oorlogen',\n",
       "  'First and Second Dutch-Indonesian Wars'],\n",
       " 'politionele acties': ['Eerste en Tweede Nederlands\\xad Indonesische oorlogen',\n",
       "  'First and Second Dutch-Indonesian Wars'],\n",
       " 'travestiet': ['crossdresser'],\n",
       " 'travestieten': ['crossdresser'],\n",
       " 'trans': ['crossdresser'],\n",
       " 'transen': ['crossdresser'],\n",
       " 'caucasian': ['White', 'Caucasian'],\n",
       " 'caucasians': ['White', 'Caucasian'],\n",
       " 'medicijnman': ['spirituele healer', 'traditionele healer'],\n",
       " 'medicijnmannen': ['spirituele healer', 'traditionele healer'],\n",
       " 'medicine man': ['Traditional healer', 'spiritual healer'],\n",
       " 'medicine men': ['Traditional healer', 'spiritual healer'],\n",
       " 'bombay': ['Mumbai'],\n",
       " 'bombays': ['Mumbai'],\n",
       " 'traditioneel': ['historisch'],\n",
       " 'traditioneels': ['historisch'],\n",
       " 'traditionele': ['historisch'],\n",
       " 'traditioneelste': ['historisch'],\n",
       " 'traditioneelst': ['historisch'],\n",
       " 'traditionelere': ['historisch'],\n",
       " 'traditioneler': ['historisch'],\n",
       " 'mohammedaan': ['Moslim'],\n",
       " 'mohammedanen': ['Moslim'],\n",
       " 'halfbloed': ['mixed race', 'van gemengde afkomst', 'gemengd'],\n",
       " 'halfbloeden': ['mixed race', 'van gemengde afkomst', 'gemengd'],\n",
       " 'mesties': ['mixed race', 'van gemengde afkomst', 'gemengd'],\n",
       " 'mestiezen': ['mixed race', 'van gemengde afkomst', 'gemengd'],\n",
       " 'mulat': ['mixed race', 'van gemengde afkomst', 'gemengd'],\n",
       " 'mulatten': ['mixed race', 'van gemengde afkomst', 'gemengd'],\n",
       " 'blank': ['Wit', 'White', 'Wit', 'White'],\n",
       " 'blankere': ['Wit', 'White', 'Wit', 'White'],\n",
       " 'blanker': ['Wit', 'White', 'Wit', 'White'],\n",
       " 'blanke': ['Wit', 'White', 'Wit', 'White'],\n",
       " 'blanks': ['Wit', 'White', 'Wit', 'White'],\n",
       " 'blankste': ['Wit', 'White', 'Wit', 'White'],\n",
       " 'blankst': ['Wit', 'White', 'Wit', 'White'],\n",
       " 'blanken': ['Wit', 'White', 'Wit', 'White'],\n",
       " 'indo': ['Indo\\xad-Europeaan'],\n",
       " 'indos': ['Indo-European'],\n",
       " 'berber': ['Amazigh', 'Imazighen'],\n",
       " 'berbers': ['Amazigh', 'Imazighen'],\n",
       " 'oriental': ['Asian'],\n",
       " 'orientals': ['Asian'],\n",
       " 'queerest': ['LGBT'],\n",
       " 'queerer': ['LGBT'],\n",
       " 'queers': ['LGBT'],\n",
       " 'negro': ['Black'],\n",
       " 'negroes': ['Black'],\n",
       " 'negros': ['Black'],\n",
       " 'slaaf': ['Tot slaaf gemaakt', 'mensen in slavernij'],\n",
       " 'slaven': ['Tot slaaf gemaakt', 'mensen in slavernij'],\n",
       " 'hottentot': ['Khoisan'],\n",
       " 'hottentotten': ['Khoisan'],\n",
       " 'half-blood': ['mixed race'],\n",
       " 'half-bloods': ['mixed race'],\n",
       " 'slave': ['enslaved person', 'Enslaved'],\n",
       " 'slaves': ['enslaved person', 'Enslaved'],\n",
       " 'transvestite': ['cross-dresser'],\n",
       " 'transvestites': ['cross-dresser'],\n",
       " 'zigeuner': ['Roma'],\n",
       " 'zigeuners': ['Roma'],\n",
       " 'mohammedan': ['Muslim'],\n",
       " 'mohammedans': ['Muslim'],\n",
       " \"indo's\": ['Indo\\xad-Europeaan'],\n",
       " 'hottentots': ['Khoisan'],\n",
       " 'gypsy': ['Roma'],\n",
       " 'gypsys': ['Roma'],\n",
       " 'gypsies': ['Roma'],\n",
       " 'hermaphrodite': ['intersex'],\n",
       " 'hermaphrodites': ['intersex'],\n",
       " 'bosneger': ['Marron'],\n",
       " 'bosnegers': ['Marron'],\n",
       " 'gehandicapte': ['Mensen met een beperking'],\n",
       " 'gehandicapten': ['Mensen met een beperking'],\n",
       " 'handicap': ['Mensen met een beperking'],\n",
       " 'handicaps': ['Mensen met een beperking'],\n",
       " 'islamiet': ['Moslim'],\n",
       " 'islamieten': ['Moslim']}"
      ]
     },
     "execution_count": 30,
     "metadata": {},
     "output_type": "execute_result"
    }
   ],
   "source": [
    "query_terms_with_suggestions"
   ]
  },
  {
   "cell_type": "code",
   "execution_count": null,
   "metadata": {},
   "outputs": [],
   "source": [
    "# How many query terms don't have any suggestions? (also check by lemma)\n",
    "# EN: 101 qt\n",
    "# NL: 162 qt"
   ]
  },
  {
   "cell_type": "code",
   "execution_count": 31,
   "metadata": {},
   "outputs": [],
   "source": [
    "with open('/Users/anesterov/reps/LODlit/query_terms.json','r') as jf:\n",
    "    qt = json.load(jf)"
   ]
  },
  {
   "cell_type": "code",
   "execution_count": 33,
   "metadata": {},
   "outputs": [],
   "source": [
    "qt_en = []\n",
    "for wordforms in qt[\"en\"].values():\n",
    "    qt_en.extend(wordforms)"
   ]
  },
  {
   "cell_type": "code",
   "execution_count": 34,
   "metadata": {},
   "outputs": [
    {
     "data": {
      "text/plain": [
       "154"
      ]
     },
     "execution_count": 34,
     "metadata": {},
     "output_type": "execute_result"
    }
   ],
   "source": [
    "len(qt_en)"
   ]
  },
  {
   "cell_type": "code",
   "execution_count": 37,
   "metadata": {},
   "outputs": [],
   "source": [
    "# EN dict with suggestions\n",
    "\n",
    "en_qt_with_suggestions = {}\n",
    "\n",
    "for term in qt_en:\n",
    "    if term in query_terms_with_suggestions.keys():\n",
    "        en_qt_with_suggestions[term] = query_terms_with_suggestions[term]\n",
    "    else:\n",
    "        en_qt_with_suggestions[term] = []"
   ]
  },
  {
   "cell_type": "code",
   "execution_count": 45,
   "metadata": {},
   "outputs": [],
   "source": [
    "# exporting\n",
    "with open('en_suggestions.json', 'w') as jf:\n",
    "    json.dump(en_qt_with_suggestions, jf)"
   ]
  },
  {
   "cell_type": "code",
   "execution_count": 55,
   "metadata": {},
   "outputs": [
    {
     "data": {
      "text/plain": [
       "53"
      ]
     },
     "execution_count": 55,
     "metadata": {},
     "output_type": "execute_result"
    }
   ],
   "source": [
    "len([t for t,v in en_qt_with_suggestions.items() if len(v) > 0])"
   ]
  },
  {
   "cell_type": "code",
   "execution_count": 41,
   "metadata": {},
   "outputs": [],
   "source": [
    "qt_nl = []\n",
    "for wordforms in qt[\"nl\"].values():\n",
    "    qt_nl.extend(wordforms)"
   ]
  },
  {
   "cell_type": "code",
   "execution_count": 42,
   "metadata": {},
   "outputs": [],
   "source": [
    "# NL dict with suggestions\n",
    "\n",
    "nl_qt_with_suggestions = {}\n",
    "\n",
    "for term in qt_nl:\n",
    "    if term in query_terms_with_suggestions.keys():\n",
    "        nl_qt_with_suggestions[term] = query_terms_with_suggestions[term]\n",
    "    else:\n",
    "        nl_qt_with_suggestions[term] = []"
   ]
  },
  {
   "cell_type": "code",
   "execution_count": 43,
   "metadata": {},
   "outputs": [
    {
     "data": {
      "text/plain": [
       "242"
      ]
     },
     "execution_count": 43,
     "metadata": {},
     "output_type": "execute_result"
    }
   ],
   "source": [
    "len(nl_qt_with_suggestions)"
   ]
  },
  {
   "cell_type": "code",
   "execution_count": 56,
   "metadata": {},
   "outputs": [
    {
     "data": {
      "text/plain": [
       "80"
      ]
     },
     "execution_count": 56,
     "metadata": {},
     "output_type": "execute_result"
    }
   ],
   "source": [
    "len([t for t,v in nl_qt_with_suggestions.items() if len(v) > 0])"
   ]
  },
  {
   "cell_type": "code",
   "execution_count": 46,
   "metadata": {},
   "outputs": [],
   "source": [
    "### Unique suggestions\n",
    "all_sug = []\n",
    "for sug in en_qt_with_suggestions.values():\n",
    "    all_sug.extend(sug)"
   ]
  },
  {
   "cell_type": "code",
   "execution_count": 49,
   "metadata": {},
   "outputs": [],
   "source": [
    "sug_unique = list(set(all_sug))"
   ]
  },
  {
   "cell_type": "code",
   "execution_count": 51,
   "metadata": {},
   "outputs": [],
   "source": [
    "sug_unique = [s.replace('\\xad','').lower() for s in sug_unique]"
   ]
  },
  {
   "cell_type": "code",
   "execution_count": null,
   "metadata": {},
   "outputs": [],
   "source": [
    "### Terms without suggestions by lemma"
   ]
  }
 ],
 "metadata": {
  "kernelspec": {
   "display_name": "Python 3",
   "language": "python",
   "name": "python3"
  },
  "language_info": {
   "codemirror_mode": {
    "name": "ipython",
    "version": 3
   },
   "file_extension": ".py",
   "mimetype": "text/x-python",
   "name": "python",
   "nbconvert_exporter": "python",
   "pygments_lexer": "ipython3",
   "version": "3.8.5"
  }
 },
 "nbformat": 4,
 "nbformat_minor": 4
}
