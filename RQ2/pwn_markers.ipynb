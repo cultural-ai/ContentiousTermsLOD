{
 "cells": [
  {
   "cell_type": "code",
   "execution_count": 1,
   "metadata": {},
   "outputs": [],
   "source": [
    "import nltk\n",
    "# WordNet 3.1\n",
    "from nltk.corpus import wordnet as wn"
   ]
  },
  {
   "cell_type": "code",
   "execution_count": null,
   "metadata": {},
   "outputs": [],
   "source": [
    "# usage domains\n",
    "# hypernyms\n",
    "# hyponyms\n",
    "# in_topic_domains()\n",
    "# in_region_domains()\n",
    "in_usage_domains()\n",
    "topic_domains()\n",
    "region_domains()\n",
    "also_sees\n",
    "similar_tos()"
   ]
  },
  {
   "cell_type": "code",
   "execution_count": 35,
   "metadata": {},
   "outputs": [
    {
     "data": {
      "text/plain": [
       "[Synset('disparagement.n.01'), Synset('ethnic_slur.n.01')]"
      ]
     },
     "execution_count": 35,
     "metadata": {},
     "output_type": "execute_result"
    }
   ],
   "source": [
    "wn.synset('coolie.n.01').usage_domains()"
   ]
  },
  {
   "cell_type": "code",
   "execution_count": 39,
   "metadata": {},
   "outputs": [],
   "source": [
    "def pwn_explicit_markers(synset:str) -> dict:\n",
    "    results_dict = {}\n",
    "    results_dict[\"usage_domains\"] = wn.synset(synset).usage_domains()\n",
    "    results_dict[\"in_usage_domains\"] = wn.synset(synset).in_usage_domains()\n",
    "    results_dict[\"topic_domains\"] = wn.synset(synset).topic_domains()\n",
    "    results_dict[\"in_topic_domains\"] = wn.synset(synset).in_topic_domains()\n",
    "    results_dict[\"region_domains\"] = wn.synset(synset).region_domains()\n",
    "    results_dict[\"in_region_domains\"] = wn.synset(synset).in_region_domains()\n",
    "    results_dict[\"also_sees\"] = wn.synset(synset).also_sees()\n",
    "    results_dict[\"similar_tos\"] = wn.synset(synset).similar_tos()\n",
    "    results_dict[\"hypernyms\"] = wn.synset(synset).hypernyms()\n",
    "    results_dict[\"hyponyms\"] = wn.synset(synset).hyponyms()\n",
    "    \n",
    "    return results_dict"
   ]
  },
  {
   "cell_type": "code",
   "execution_count": 121,
   "metadata": {},
   "outputs": [
    {
     "data": {
      "text/plain": [
       "{'usage_domains': [],\n",
       " 'in_usage_domains': [],\n",
       " 'topic_domains': [],\n",
       " 'in_topic_domains': [],\n",
       " 'region_domains': [],\n",
       " 'in_region_domains': [],\n",
       " 'also_sees': [],\n",
       " 'similar_tos': [Synset('segregated.a.01')],\n",
       " 'hypernyms': [],\n",
       " 'hyponyms': []}"
      ]
     },
     "execution_count": 121,
     "metadata": {},
     "output_type": "execute_result"
    }
   ],
   "source": [
    "pwn_explicit_markers(\"white.s.05\")"
   ]
  },
  {
   "cell_type": "code",
   "execution_count": null,
   "metadata": {},
   "outputs": [],
   "source": []
  }
 ],
 "metadata": {
  "kernelspec": {
   "display_name": "Python 3",
   "language": "python",
   "name": "python3"
  },
  "language_info": {
   "codemirror_mode": {
    "name": "ipython",
    "version": 3
   },
   "file_extension": ".py",
   "mimetype": "text/x-python",
   "name": "python",
   "nbconvert_exporter": "python",
   "pygments_lexer": "ipython3",
   "version": "3.8.5"
  }
 },
 "nbformat": 4,
 "nbformat_minor": 4
}
