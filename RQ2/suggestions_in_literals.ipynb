{
 "cells": [
  {
   "cell_type": "code",
   "execution_count": 1,
   "metadata": {},
   "outputs": [],
   "source": [
    "from thefuzz import process"
   ]
  },
  {
   "cell_type": "code",
   "execution_count": 5,
   "metadata": {},
   "outputs": [],
   "source": [
    "import json"
   ]
  },
  {
   "cell_type": "code",
   "execution_count": 2,
   "metadata": {},
   "outputs": [],
   "source": [
    "alt_labels = [\"indigenous peoples\", \"aboriginal peoples\", \"traditional peoples\", \"native peoples\", \"indigenous culture\"]\n",
    "\n",
    "suggestions = ['Aboriginal',\n",
    "  'Torres Strait Islander peoples',\n",
    "  'First Nation peoples',\n",
    "  'First Nation people',\n",
    "  'First Nations people',\n",
    "  'Indigenous',\n",
    "  'Aboriginal peoples',\n",
    "  'Aboriginal people']"
   ]
  },
  {
   "cell_type": "code",
   "execution_count": null,
   "metadata": {},
   "outputs": [],
   "source": []
  },
  {
   "cell_type": "code",
   "execution_count": 3,
   "metadata": {},
   "outputs": [
    {
     "name": "stdout",
     "output_type": "stream",
     "text": [
      "indigenous peoples, near_match: ('Indigenous', 90)\n",
      "aboriginal peoples, exact_match: ('Aboriginal peoples', 100)\n",
      "indigenous culture, near_match: ('Indigenous', 90)\n"
     ]
    }
   ],
   "source": [
    "for label in alt_labels:\n",
    "    highest_score = process.extractOne(label, suggestions)\n",
    "    \n",
    "    if highest_score[1] == 100:\n",
    "            print(f\"{label}, exact_match: {highest_score}\")\n",
    "    if 100 > highest_score[1] >= 90:\n",
    "           print(f\"{label}, near_match: {highest_score}\")"
   ]
  },
  {
   "cell_type": "code",
   "execution_count": 20,
   "metadata": {},
   "outputs": [],
   "source": [
    "label = \"hhh\""
   ]
  },
  {
   "cell_type": "code",
   "execution_count": 21,
   "metadata": {},
   "outputs": [
    {
     "data": {
      "text/plain": [
       "('Aboriginal', 0)"
      ]
     },
     "execution_count": 21,
     "metadata": {},
     "output_type": "execute_result"
    }
   ],
   "source": [
    "process.extractOne(label, suggestions)"
   ]
  },
  {
   "cell_type": "code",
   "execution_count": 6,
   "metadata": {},
   "outputs": [],
   "source": [
    "with open('/Users/anesterov/reps/LODlit/AAT/aat_query_results_en.json','r') as jf:\n",
    "    aat_en = json.load(jf)"
   ]
  },
  {
   "cell_type": "code",
   "execution_count": null,
   "metadata": {},
   "outputs": [],
   "source": [
    "# suggestion can be found in the same properties as query terms\n",
    "# [{'query_term':'','entity_id':'','sug_value':'','found_in':'','close_match':(),'near_match':()}]"
   ]
  },
  {
   "cell_type": "code",
   "execution_count": null,
   "metadata": {},
   "outputs": [],
   "source": [
    "def find_suggestions(resource:str, lang:str, query_results_path:str) -> dict:\n",
    "    '''\n",
    "    Finding suggestions from WM in the literal values of entities based on fuzzy string matching (thefuzz library);\n",
    "    there can be an exact match (score = 100) or near match (score >= 90);\n",
    "    \n",
    "    resource: str, 'wikidata', 'aat', 'pwn', or 'odwn'\n",
    "    lang: str, 'en' or 'nl'\n",
    "    query_results_path: str, path to the file with query results of a resoure\n",
    "    Returns dict per resource per lang; for example: {'query_term':\n",
    "                    [{'query_term':'','entity_id':'',\n",
    "                    'sug_value':'','found_in':'',\n",
    "                    'exact_match':(),'near_match':()}]};\n",
    "    '''\n",
    "    \n",
    "    results = {}\n",
    "    \n",
    "    # load suggestions and resource per lang\n",
    "    if lang == \"en\":\n",
    "        # change path\n",
    "        with open('/Users/anesterov/reps/LODlit/RQ2/en_suggestions.json','r') as jf:\n",
    "            en_suggestions = json.load(jf)\n",
    "            \n",
    "        if resource == \"aat\":\n",
    "            with open(query_results_path,'r') as jf:\n",
    "                aat_en = json.load(jf)\n",
    "                \n",
    "            for term, hits in aat_en.items():\n",
    "                suggestions_found_per_term = []\n",
    "                # if there are suggestions and hits for a query term\n",
    "                if len(en_suggestions[term]) > 0 and len(hits) > 0:\n",
    "                    # searhing suggestions in literals\n",
    "                    for hit in hits:\n",
    "                        \n",
    "                        # prefLabel\n",
    "                        match_prefLabel = process.extractOne(hit['prefLabel'], en_suggestions[term])\n",
    "                        if match_prefLabel[1] == 100:\n",
    "                            dict_per_hit['sug_value']\n",
    "                            \n",
    "                            # STOPPED HERE\n",
    "                            \n",
    "            print(f\"{label}, exact_match: {highest_score}\")\n",
    "    if 100 > highest_score[1] >= 90:\n",
    "           print(f\"{label}, near_match: {highest_score}\")\n",
    "                    \n",
    "            \n",
    "    if lang == \"nl\":\n",
    "        with open('/Users/anesterov/reps/LODlit/RQ2/nl_suggestions.json','r') as jf:\n",
    "            nl_suggestions = json.load(jf)\n",
    "    \n",
    "        "
   ]
  },
  {
   "cell_type": "code",
   "execution_count": 34,
   "metadata": {},
   "outputs": [],
   "source": [
    "# write the function for one term\n",
    "\n",
    "def find_suggestions(resource:str, lang:str, term:str, hits:list) -> dict:\n",
    "    '''\n",
    "    '''\n",
    "    dict_per_hit = {}\n",
    "    list_of_found_suggestions = []\n",
    "    \n",
    "    # check if a query term has suggestions\n",
    "    if len(suggestions.get(hit['query_term'])) == 0:\n",
    "        dict_per_hit[hit['query_term']] = []\n",
    "    else:\n",
    "        # checking properties\n",
    "        sug_hit = {}\n",
    "        \n",
    "        # prefLabel\n",
    "        match_prefLabel = process.extractOne(hit['prefLabel'], suggestions[hit['query_term']])\n",
    "        \n",
    "        if 100 >= match_prefLabel[1] >= 90:\n",
    "            sug_hit['entity_id'] = hit['aat_uri']\n",
    "            sug_hit['sug_value'] = match_prefLabel[0]\n",
    "            sug_hit['found_in'] = 'prefLabel'\n",
    "            sug_hit['match_score'] = match_prefLabel[1]\n",
    "            list_of_found_suggestions.append(sug_hit)\n",
    "\n",
    "    \n",
    "    dict_per_hit[hit['query_term']] = list_of_found_suggestions\n",
    "    \n",
    "    return dict_per_hit"
   ]
  },
  {
   "cell_type": "code",
   "execution_count": 49,
   "metadata": {},
   "outputs": [],
   "source": [
    "match_score = 95"
   ]
  },
  {
   "cell_type": "code",
   "execution_count": 50,
   "metadata": {},
   "outputs": [
    {
     "name": "stdout",
     "output_type": "stream",
     "text": [
      "True\n"
     ]
    }
   ],
   "source": [
    "if 100 >= match_score >= 90:\n",
    "    print(True)"
   ]
  },
  {
   "cell_type": "code",
   "execution_count": null,
   "metadata": {},
   "outputs": [],
   "source": [
    "# subfunction for matches\n",
    "def _get_match_type(match:tuple) -"
   ]
  },
  {
   "cell_type": "code",
   "execution_count": 41,
   "metadata": {},
   "outputs": [],
   "source": [
    "suggestions = {'batavia':['smth', 'batavia']}"
   ]
  },
  {
   "cell_type": "code",
   "execution_count": 42,
   "metadata": {},
   "outputs": [
    {
     "data": {
      "text/plain": [
       "{'batavia': [{'entity_id': '300012925',\n",
       "   'sug_value': 'batavia',\n",
       "   'found_in': 'prefLabel',\n",
       "   'exact_match': None,\n",
       "   'near_match': ('batavia', 90)}]}"
      ]
     },
     "execution_count": 42,
     "metadata": {},
     "output_type": "execute_result"
    }
   ],
   "source": [
    "find_suggestions_in_hit(test_hit,suggestions)"
   ]
  },
  {
   "cell_type": "code",
   "execution_count": 23,
   "metadata": {},
   "outputs": [],
   "source": [
    "test_hit = {}\n",
    "for i,v in aat_en.items():\n",
    "    if len(v) > 0:\n",
    "        test_hit = v[0]\n",
    "        break"
   ]
  },
  {
   "cell_type": "code",
   "execution_count": 29,
   "metadata": {},
   "outputs": [
    {
     "data": {
      "text/plain": [
       "{'query_term': 'batavia',\n",
       " 'aat_uri': '300012925',\n",
       " 'found_in': 'prefLabel',\n",
       " 'prefLabel': 'Batavia dammar',\n",
       " 'prefLabel_comment': '',\n",
       " 'altLabel': ['Batavia damar', 'dammar, Batavia'],\n",
       " 'altLabel_comment': [],\n",
       " 'scopeNote': 'General term referring to various dammar resins that were formerly shipped under the tradename \"Batavia\" from Jakarta (formerly Batavia), Indonesia. General term referring to various dammar resins that were formerly shipped under the tradename \"Batavia\" from Jakarta (formerly Batavia), Indonesia.'}"
      ]
     },
     "execution_count": 29,
     "metadata": {},
     "output_type": "execute_result"
    }
   ],
   "source": [
    "test_hit"
   ]
  },
  {
   "cell_type": "code",
   "execution_count": 11,
   "metadata": {},
   "outputs": [
    {
     "data": {
      "text/plain": [
       "[{'query_term': 'batavia',\n",
       "  'aat_uri': '300012925',\n",
       "  'found_in': 'prefLabel',\n",
       "  'prefLabel': 'Batavia dammar',\n",
       "  'prefLabel_comment': '',\n",
       "  'altLabel': ['Batavia damar', 'dammar, Batavia'],\n",
       "  'altLabel_comment': [],\n",
       "  'scopeNote': 'General term referring to various dammar resins that were formerly shipped under the tradename \"Batavia\" from Jakarta (formerly Batavia), Indonesia. General term referring to various dammar resins that were formerly shipped under the tradename \"Batavia\" from Jakarta (formerly Batavia), Indonesia.'},\n",
       " {'query_term': 'batavia',\n",
       "  'aat_uri': '300012925',\n",
       "  'found_in': 'altLabel',\n",
       "  'prefLabel': 'Batavia dammar',\n",
       "  'prefLabel_comment': '',\n",
       "  'altLabel': ['Batavia damar', 'dammar, Batavia'],\n",
       "  'altLabel_comment': [],\n",
       "  'scopeNote': 'General term referring to various dammar resins that were formerly shipped under the tradename \"Batavia\" from Jakarta (formerly Batavia), Indonesia. General term referring to various dammar resins that were formerly shipped under the tradename \"Batavia\" from Jakarta (formerly Batavia), Indonesia.'},\n",
       " {'query_term': 'batavia',\n",
       "  'aat_uri': '300012925',\n",
       "  'found_in': 'scopeNote',\n",
       "  'prefLabel': 'Batavia dammar',\n",
       "  'prefLabel_comment': '',\n",
       "  'altLabel': ['Batavia damar', 'dammar, Batavia'],\n",
       "  'altLabel_comment': [],\n",
       "  'scopeNote': 'General term referring to various dammar resins that were formerly shipped under the tradename \"Batavia\" from Jakarta (formerly Batavia), Indonesia. General term referring to various dammar resins that were formerly shipped under the tradename \"Batavia\" from Jakarta (formerly Batavia), Indonesia.'},\n",
       " {'query_term': 'batavia',\n",
       "  'aat_uri': '300012925',\n",
       "  'found_in': 'altLabel',\n",
       "  'prefLabel': 'Batavia dammar',\n",
       "  'prefLabel_comment': '',\n",
       "  'altLabel': ['Batavia damar', 'dammar, Batavia'],\n",
       "  'altLabel_comment': [],\n",
       "  'scopeNote': 'General term referring to various dammar resins that were formerly shipped under the tradename \"Batavia\" from Jakarta (formerly Batavia), Indonesia. General term referring to various dammar resins that were formerly shipped under the tradename \"Batavia\" from Jakarta (formerly Batavia), Indonesia.'}]"
      ]
     },
     "execution_count": 11,
     "metadata": {},
     "output_type": "execute_result"
    }
   ],
   "source": [
    "aat_en['batavia']"
   ]
  },
  {
   "cell_type": "code",
   "execution_count": 12,
   "metadata": {},
   "outputs": [],
   "source": [
    "with open('/Users/anesterov/reps/LODlit/RQ2/en_suggestions.json','r') as jf:\n",
    "    en_suggestions = json.load(jf)"
   ]
  },
  {
   "cell_type": "code",
   "execution_count": 15,
   "metadata": {},
   "outputs": [
    {
     "data": {
      "text/plain": [
       "['Indigenous',\n",
       " 'First Nation people',\n",
       " 'First Nation peoples',\n",
       " 'First Nations people',\n",
       " 'Aboriginal',\n",
       " 'Torres Strait Islander peoples',\n",
       " 'Aboriginal peoples',\n",
       " 'Aboriginal people']"
      ]
     },
     "execution_count": 15,
     "metadata": {},
     "output_type": "execute_result"
    }
   ],
   "source": [
    "en_suggestions['aboriginal']"
   ]
  },
  {
   "cell_type": "code",
   "execution_count": null,
   "metadata": {},
   "outputs": [],
   "source": []
  }
 ],
 "metadata": {
  "kernelspec": {
   "display_name": "Python 3",
   "language": "python",
   "name": "python3"
  },
  "language_info": {
   "codemirror_mode": {
    "name": "ipython",
    "version": 3
   },
   "file_extension": ".py",
   "mimetype": "text/x-python",
   "name": "python",
   "nbconvert_exporter": "python",
   "pygments_lexer": "ipython3",
   "version": "3.8.5"
  }
 },
 "nbformat": 4,
 "nbformat_minor": 4
}
