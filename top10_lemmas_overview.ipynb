{
 "cells": [
  {
   "cell_type": "code",
   "execution_count": 2,
   "metadata": {},
   "outputs": [],
   "source": [
    "import pandas as pd\n",
    "import json\n",
    "import csv"
   ]
  },
  {
   "cell_type": "markdown",
   "metadata": {},
   "source": [
    "### 1. Wikidata"
   ]
  },
  {
   "cell_type": "code",
   "execution_count": 3,
   "metadata": {},
   "outputs": [],
   "source": [
    "# importing Wikidata results\n",
    "df_wikidata = pd.read_csv(\"/Users/anesterov/reps/LODlit/Wikidata/n_hits_by_lemma.csv\")"
   ]
  },
  {
   "cell_type": "code",
   "execution_count": 22,
   "metadata": {},
   "outputs": [],
   "source": [
    "wd_en = df_wikidata[df_wikidata['lang'] == 'en']"
   ]
  },
  {
   "cell_type": "code",
   "execution_count": 25,
   "metadata": {},
   "outputs": [],
   "source": [
    "wd_nl = df_wikidata[df_wikidata['lang'] == 'nl']"
   ]
  },
  {
   "cell_type": "code",
   "execution_count": 31,
   "metadata": {},
   "outputs": [],
   "source": [
    "def get_top10_lemmas(df:'pandas.core.frame.DataFrame') -> None:\n",
    "    \n",
    "    i = 0\n",
    "    for row in df.sort_values(\"total_lemma\",ascending=False)[['lemma','total_lemma']].iterrows():\n",
    "        i += 1\n",
    "        if i <= 10:\n",
    "            print(f\"{row[1]['lemma']},{row[1]['total_lemma']}\")\n",
    "            \n",
    "    return None"
   ]
  },
  {
   "cell_type": "code",
   "execution_count": 32,
   "metadata": {},
   "outputs": [
    {
     "name": "stdout",
     "output_type": "stream",
     "text": [
      "indian,12763\n",
      "western,12441\n",
      "race,12047\n",
      "black,9774\n",
      "servant,9726\n",
      "colored,9665\n",
      "descent,9555\n",
      "dwarf,9440\n",
      "trans,9243\n",
      "traditional,8248\n"
     ]
    }
   ],
   "source": [
    "get_top10_lemmas(wd_en)"
   ]
  },
  {
   "cell_type": "code",
   "execution_count": 33,
   "metadata": {},
   "outputs": [
    {
     "name": "stdout",
     "output_type": "stream",
     "text": [
      "wit,11601\n",
      "etnische groep,9249\n",
      "indiaan,9223\n",
      "homo,3234\n",
      "zwart,1524\n",
      "moor,723\n",
      "ras,722\n",
      "traditioneel,714\n",
      "gay,575\n",
      "indisch,574\n"
     ]
    }
   ],
   "source": [
    "get_top10_lemmas(wd_nl)"
   ]
  },
  {
   "cell_type": "markdown",
   "metadata": {},
   "source": [
    "### 2. AAT"
   ]
  },
  {
   "cell_type": "code",
   "execution_count": 27,
   "metadata": {},
   "outputs": [],
   "source": [
    "# importing AAT results\n",
    "df_aat = pd.read_csv(\"/Users/anesterov/reps/LODlit/AAT/n_hits_by_lemma.csv\")"
   ]
  },
  {
   "cell_type": "code",
   "execution_count": 28,
   "metadata": {},
   "outputs": [],
   "source": [
    "aat_en = df_aat[df_aat['lang'] == 'en']"
   ]
  },
  {
   "cell_type": "code",
   "execution_count": 29,
   "metadata": {},
   "outputs": [],
   "source": [
    "aat_nl = df_aat[df_aat['lang'] == 'nl']"
   ]
  },
  {
   "cell_type": "code",
   "execution_count": 34,
   "metadata": {},
   "outputs": [
    {
     "name": "stdout",
     "output_type": "stream",
     "text": [
      "white,1249\n",
      "native,1230\n",
      "black,992\n",
      "western,689\n",
      "indian,679\n",
      "ethnic groups,414\n",
      "traditional,347\n",
      "colored,316\n",
      "indigenous,279\n",
      "tribe,216\n"
     ]
    }
   ],
   "source": [
    "get_top10_lemmas(aat_en)"
   ]
  },
  {
   "cell_type": "code",
   "execution_count": 35,
   "metadata": {},
   "outputs": [
    {
     "name": "stdout",
     "output_type": "stream",
     "text": [
      "inheems,750\n",
      "wit,730\n",
      "zwart,495\n",
      "etnische groep,434\n",
      "traditioneel,313\n",
      "stam,243\n",
      "gekleurd,187\n",
      "westers,137\n",
      "bediende,97\n",
      "indiaan,76\n"
     ]
    }
   ],
   "source": [
    "get_top10_lemmas(aat_nl)"
   ]
  },
  {
   "cell_type": "markdown",
   "metadata": {},
   "source": [
    "### 3. Princeton WordNet"
   ]
  },
  {
   "cell_type": "code",
   "execution_count": 38,
   "metadata": {},
   "outputs": [],
   "source": [
    "# importing pwn results\n",
    "df_pwn = pd.read_csv(\"/Users/anesterov/reps/LODlit/Princeton_WordNet/pwn31_hits_by_lemma.csv\")"
   ]
  },
  {
   "cell_type": "code",
   "execution_count": 39,
   "metadata": {},
   "outputs": [
    {
     "name": "stdout",
     "output_type": "stream",
     "text": [
      "white,1491\n",
      "western,724\n",
      "black,623\n",
      "native,603\n",
      "colored,338\n",
      "indian,305\n",
      "roots,193\n",
      "race,187\n",
      "primitive,124\n",
      "descent,77\n"
     ]
    }
   ],
   "source": [
    "get_top10_lemmas(df_pwn)"
   ]
  },
  {
   "cell_type": "markdown",
   "metadata": {},
   "source": [
    "### 4. ODWN"
   ]
  },
  {
   "cell_type": "code",
   "execution_count": 40,
   "metadata": {},
   "outputs": [],
   "source": [
    "# importing odwn results\n",
    "df_odwn = pd.read_csv(\"/Users/anesterov/reps/LODlit/ODWN/odwn_hits_by_lemma.csv\")"
   ]
  },
  {
   "cell_type": "code",
   "execution_count": 41,
   "metadata": {},
   "outputs": [
    {
     "name": "stdout",
     "output_type": "stream",
     "text": [
      "wit,194\n",
      "zwart,190\n",
      "ras,43\n",
      "stam,38\n",
      "bediende,33\n",
      "blank,30\n",
      "traditioneel,28\n",
      "ontdekken,27\n",
      "slaaf,27\n",
      "afkomst,25\n"
     ]
    }
   ],
   "source": [
    "get_top10_lemmas(df_odwn)"
   ]
  },
  {
   "cell_type": "code",
   "execution_count": null,
   "metadata": {},
   "outputs": [],
   "source": []
  }
 ],
 "metadata": {
  "kernelspec": {
   "display_name": "Python 3",
   "language": "python",
   "name": "python3"
  },
  "language_info": {
   "codemirror_mode": {
    "name": "ipython",
    "version": 3
   },
   "file_extension": ".py",
   "mimetype": "text/x-python",
   "name": "python",
   "nbconvert_exporter": "python",
   "pygments_lexer": "ipython3",
   "version": "3.8.5"
  }
 },
 "nbformat": 4,
 "nbformat_minor": 4
}
