{
 "cells": [
  {
   "cell_type": "markdown",
   "metadata": {},
   "source": [
    "## Querying search terms in AAT subgraphs (EN and NL)\n",
    "– finding query terms in prefLabel, altLabels, label comments, scopeNotes of AAT entities and identifying where the terms were found"
   ]
  },
  {
   "cell_type": "code",
   "execution_count": null,
   "metadata": {},
   "outputs": [],
   "source": [
    "import json"
   ]
  },
  {
   "cell_type": "code",
   "execution_count": null,
   "metadata": {},
   "outputs": [],
   "source": [
    "# Importing LODlitParser AAT module \n",
    "# this code is partially taken from\n",
    "# https://stackoverflow.com/questions/67631/how-can-i-import-a-module-dynamically-given-the-full-path\n",
    "import importlib.util\n",
    "import sys\n",
    "spec = importlib.util.spec_from_file_location(\"LODlitParser.aat\", \"/Users/anesterov/reps/LODlit/LODlitParser/aat.py\")\n",
    "aat = importlib.util.module_from_spec(spec)\n",
    "sys.modules[\"LODlitParser.aat\"] = aat\n",
    "spec.loader.exec_module(aat)"
   ]
  },
  {
   "cell_type": "code",
   "execution_count": null,
   "metadata": {},
   "outputs": [],
   "source": [
    "# importing query terms\n",
    "# change path to GitHub\n",
    "with open(\"/Users/anesterov/reps/LODlit/query_terms.json\",\"r\") as jf:\n",
    "    query_terms = json.load(jf)"
   ]
  },
  {
   "cell_type": "code",
   "execution_count": null,
   "metadata": {},
   "outputs": [],
   "source": [
    "en_query_terms = []\n",
    "for lemma, wordforms in query_terms['en'].items():\n",
    "    en_query_terms.extend(wordforms)\n",
    "len(en_query_terms)"
   ]
  },
  {
   "cell_type": "code",
   "execution_count": null,
   "metadata": {},
   "outputs": [],
   "source": [
    "nl_query_terms = []\n",
    "for lemma, wordforms in query_terms['nl'].items():\n",
    "    nl_query_terms.extend(wordforms)\n",
    "len(nl_query_terms)"
   ]
  },
  {
   "cell_type": "markdown",
   "metadata": {},
   "source": [
    "### Querying EN subgraph"
   ]
  },
  {
   "cell_type": "code",
   "execution_count": null,
   "metadata": {
    "scrolled": true
   },
   "outputs": [],
   "source": [
    "# querying all the terms takes approx 60 min\n",
    "\n",
    "result_dict_aat_en = {}\n",
    "\n",
    "for query_term in en_query_terms:\n",
    "    result_dict_aat_en[query_term] = aat.find_term_in_literals(query_term,'en')"
   ]
  },
  {
   "cell_type": "code",
   "execution_count": null,
   "metadata": {},
   "outputs": [],
   "source": [
    "# saving the query results EN\n",
    "\n",
    "with open('aat_query_results_en.json', 'w') as jf:\n",
    "    json.dump(result_dict_aat_en, jf)"
   ]
  },
  {
   "cell_type": "markdown",
   "metadata": {},
   "source": [
    "### Querying NL subgraph"
   ]
  },
  {
   "cell_type": "code",
   "execution_count": null,
   "metadata": {},
   "outputs": [],
   "source": [
    "# querying all the terms takes approx 15 min\n",
    "\n",
    "result_dict_aat_nl = {}\n",
    "\n",
    "for query_term in nl_query_terms:\n",
    "    result_dict_aat_nl[query_term] = aat.find_term_in_literals(query_term,'nl')"
   ]
  },
  {
   "cell_type": "code",
   "execution_count": null,
   "metadata": {},
   "outputs": [],
   "source": [
    "# saving the query results NL\n",
    "\n",
    "with open('aat_query_results_nl.json', 'w') as jf:\n",
    "    json.dump(result_dict_aat_nl, jf)"
   ]
  },
  {
   "cell_type": "code",
   "execution_count": null,
   "metadata": {},
   "outputs": [],
   "source": []
  }
 ],
 "metadata": {
  "kernelspec": {
   "display_name": "Python 3",
   "language": "python",
   "name": "python3"
  },
  "language_info": {
   "codemirror_mode": {
    "name": "ipython",
    "version": 3
   },
   "file_extension": ".py",
   "mimetype": "text/x-python",
   "name": "python",
   "nbconvert_exporter": "python",
   "pygments_lexer": "ipython3",
   "version": "3.8.5"
  }
 },
 "nbformat": 4,
 "nbformat_minor": 4
}
