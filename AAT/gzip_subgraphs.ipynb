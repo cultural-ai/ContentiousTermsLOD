{
 "cells": [
  {
   "cell_type": "code",
   "execution_count": 1,
   "metadata": {},
   "outputs": [],
   "source": [
    "# gzip aat subgraphs\n",
    "import gzip\n",
    "import json"
   ]
  },
  {
   "cell_type": "code",
   "execution_count": 2,
   "metadata": {},
   "outputs": [],
   "source": [
    "# reading data\n",
    "with open('/Users/anesterov/WM/aat/aat_subgraph_en.json','r') as jf:\n",
    "    aat_subgraph_en = json.load(jf)\n",
    "    \n",
    "with open('/Users/anesterov/WM/aat/aat_subgraph_nl.json','r') as jf:\n",
    "    aat_subgraph_nl = json.load(jf)"
   ]
  },
  {
   "cell_type": "code",
   "execution_count": 3,
   "metadata": {},
   "outputs": [],
   "source": [
    "with gzip.open('/Users/anesterov/WM/aat/gzip_aat_subgraph_en.json', 'w') as fout:\n",
    "    fout.write(json.dumps(aat_subgraph_en).encode('utf-8'))"
   ]
  },
  {
   "cell_type": "code",
   "execution_count": 4,
   "metadata": {},
   "outputs": [],
   "source": [
    "with gzip.open('/Users/anesterov/WM/aat/gzip_aat_subgraph_nl.json', 'w') as fout:\n",
    "    fout.write(json.dumps(aat_subgraph_nl).encode('utf-8'))"
   ]
  },
  {
   "cell_type": "code",
   "execution_count": null,
   "metadata": {},
   "outputs": [],
   "source": []
  }
 ],
 "metadata": {
  "kernelspec": {
   "display_name": "Python 3",
   "language": "python",
   "name": "python3"
  },
  "language_info": {
   "codemirror_mode": {
    "name": "ipython",
    "version": 3
   },
   "file_extension": ".py",
   "mimetype": "text/x-python",
   "name": "python",
   "nbconvert_exporter": "python",
   "pygments_lexer": "ipython3",
   "version": "3.8.5"
  }
 },
 "nbformat": 4,
 "nbformat_minor": 4
}
