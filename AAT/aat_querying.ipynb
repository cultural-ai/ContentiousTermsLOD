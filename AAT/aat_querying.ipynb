{
 "cells": [
  {
   "cell_type": "code",
   "execution_count": null,
   "metadata": {},
   "outputs": [],
   "source": [
    "import json\n",
    "import re\n",
    "import csv"
   ]
  },
  {
   "cell_type": "markdown",
   "metadata": {},
   "source": [
    "#### Reading query terms"
   ]
  },
  {
   "cell_type": "code",
   "execution_count": null,
   "metadata": {},
   "outputs": [],
   "source": [
    "# EN\n",
    "with open('query_terms_cont_en.json','r') as jf:\n",
    "    query_terms_cont_en = json.load(jf)"
   ]
  },
  {
   "cell_type": "code",
   "execution_count": null,
   "metadata": {},
   "outputs": [],
   "source": [
    "# NL\n",
    "with open('query_terms_cont_nl.json','r') as jf:\n",
    "    query_terms_cont_nl = json.load(jf)"
   ]
  },
  {
   "cell_type": "markdown",
   "metadata": {},
   "source": [
    "#### Reading the AAT EN subgraph in json"
   ]
  },
  {
   "cell_type": "code",
   "execution_count": null,
   "metadata": {},
   "outputs": [],
   "source": [
    "with open('aat/aat_subgraph_en.json','r') as jf:\n",
    "    aat_subgraph_en = json.load(jf)"
   ]
  },
  {
   "cell_type": "code",
   "execution_count": null,
   "metadata": {},
   "outputs": [],
   "source": [
    "len(aat_subgraph_en['results']['bindings'])"
   ]
  },
  {
   "cell_type": "markdown",
   "metadata": {},
   "source": [
    "#### Reading the AAT NL subgraph in json"
   ]
  },
  {
   "cell_type": "code",
   "execution_count": null,
   "metadata": {},
   "outputs": [],
   "source": [
    "with open('aat/aat_subgraph_nl.json','r') as jf:\n",
    "    aat_subgraph_nl = json.load(jf)"
   ]
  },
  {
   "cell_type": "code",
   "execution_count": null,
   "metadata": {},
   "outputs": [],
   "source": [
    "len(aat_subgraph_nl['results']['bindings'])"
   ]
  },
  {
   "cell_type": "markdown",
   "metadata": {},
   "source": [
    "#### Functions to parse the json file"
   ]
  },
  {
   "cell_type": "code",
   "execution_count": null,
   "metadata": {},
   "outputs": [],
   "source": [
    "def get_entity_info_aat(entity_id:str, aat_json:dict) -> dict:\n",
    "    '''\n",
    "    Get the values of prefLabel (str), altLabel (list),\n",
    "    prefLabel_comment (str), altLabel_comment(list),\n",
    "    scopeNote (str)\n",
    "    '''\n",
    "    results = {}\n",
    "    results['entity'] = entity_id\n",
    "    altLabel_list = []\n",
    "    altLabel_comment_list = []\n",
    "    results['scopeNote'] = ''\n",
    "    results['prefLabel_comment'] = ''\n",
    "    \n",
    "    for triple in aat_json[\"results\"][\"bindings\"]:\n",
    "        if entity_id in triple['Subject']['value']:\n",
    "            \n",
    "            # prefLabel\n",
    "            if 'prefLabel' in triple['Predicate']['value']:\n",
    "                for triple_t in aat_json[\"results\"][\"bindings\"]:\n",
    "                    if triple_t['Subject']['value'] == triple['Object']['value']:\n",
    "                        if 'literalForm' in triple_t['Predicate']['value']:\n",
    "                            results['prefLabel'] = triple_t['Object']['value']\n",
    "                        # prefLabel comment\n",
    "                        if 'comment' in triple_t['Predicate']['value']:\n",
    "                            results['prefLabel_comment'] = triple_t['Object']['value']\n",
    "                        \n",
    "            # altLabel\n",
    "            if 'altLabel' in triple['Predicate']['value']:\n",
    "                for triple_t in aat_json[\"results\"][\"bindings\"]:\n",
    "                    if triple_t['Subject']['value'] == triple['Object']['value']:\n",
    "                        if 'literalForm' in triple_t['Predicate']['value']:\n",
    "                            altLabel_list.append(triple_t['Object']['value'])\n",
    "                        # altLabel comment\n",
    "                        if 'comment' in triple_t['Predicate']['value']:\n",
    "                            altLabel_comment_list.append(triple_t['Object']['value'])\n",
    "                            \n",
    "            # scopeNote\n",
    "            if 'scopeNote' in triple['Predicate']['value']:\n",
    "                for triple_t in aat_json[\"results\"][\"bindings\"]:\n",
    "                    if triple_t['Subject']['value'] == triple['Object']['value']:\n",
    "                        results['scopeNote'] = triple_t['Object']['value']\n",
    "                            \n",
    "            results['altLabel'] = altLabel_list\n",
    "            results['altLabel_comment'] = altLabel_comment_list\n",
    "                        \n",
    "    return results"
   ]
  },
  {
   "cell_type": "code",
   "execution_count": null,
   "metadata": {},
   "outputs": [],
   "source": [
    "def find_term_in_literal_aat(query_term:str, aat_json:dict) -> list:\n",
    "    '''\n",
    "    Searchers for a term in the literal values of properties:\n",
    "    prefLabel, altLabel, rdfs comment (for prefLabel and altLabel), and scopeNote\n",
    "    Returns a list of dicts with an entity URI and the property name in the literal value of which the term was found\n",
    "    '''\n",
    "    \n",
    "    list_of_results = []\n",
    "    \n",
    "    for triple in aat_json[\"results\"][\"bindings\"]:\n",
    "        \n",
    "        if triple['Object']['type'] == 'literal' \\\n",
    "        and len(re.findall(f'\\\\b{query_term}\\\\b',triple['Object']['value'],re.IGNORECASE)) > 0:\n",
    "            \n",
    "            results_per_hit = {}\n",
    "            results_per_hit['query_term'] = query_term\n",
    "            results_per_hit['aat_uri'] = ''\n",
    "            \n",
    "            # if a term found in scopeNote\n",
    "                    \n",
    "            if 'rdf-syntax' in triple['Predicate']['value']:\n",
    "                results_per_hit['found_in'] = 'scopeNote'\n",
    "                for triple_t in aat_json[\"results\"][\"bindings\"]:\n",
    "                    if triple_t['Object']['value'] == triple['Subject']['value']:\n",
    "                        # getting entity URI\n",
    "                        entity = triple_t['Subject']['value'].split('/')[-1]\n",
    "                        \n",
    "            # if a term found in labels\n",
    "            \n",
    "            if 'literalForm' in triple['Predicate']['value']:\n",
    "                for triple_t in aat_json[\"results\"][\"bindings\"]:\n",
    "                    if triple_t['Object']['value'] == triple['Subject']['value']:\n",
    "                        # getting entity URI\n",
    "                        entity = triple_t['Subject']['value'].split('/')[-1]\n",
    "                        # altLabel or prefLabel \n",
    "                        if 'altLabel' in triple_t['Predicate']['value']:\n",
    "                            results_per_hit['found_in'] = 'altLabel'\n",
    "                        if 'prefLabel' in triple_t['Predicate']['value']:\n",
    "                            results_per_hit['found_in'] = 'prefLabel'\n",
    "                        \n",
    "            # if a term found in rdfs comment\n",
    "            \n",
    "            if 'comment' in triple['Predicate']['value']:\n",
    "                for triple_t in aat_json[\"results\"][\"bindings\"]:\n",
    "                    if triple_t['Object']['value'] == triple['Subject']['value']:\n",
    "                        # getting entity URI\n",
    "                        entity = triple_t['Subject']['value'].split('/')[-1]\n",
    "                        # comment to altLabel or prefLabel\n",
    "                        if 'altLabel' in triple_t['Predicate']['value']:\n",
    "                            results_per_hit['found_in'] = 'altLabel_comment'\n",
    "                        if 'prefLabel' in triple_t['Predicate']['value']:\n",
    "                            results_per_hit['found_in'] = 'prefLabel_comment'\n",
    "            \n",
    "            results_per_hit['aat_uri'] = entity\n",
    "            \n",
    "            entity_info = get_entity_info_aat(entity, aat_json)\n",
    "            \n",
    "            results_per_hit['prefLabel'] = entity_info['prefLabel']\n",
    "            results_per_hit['prefLabel_comment'] = entity_info['prefLabel_comment']\n",
    "            results_per_hit['altLabel'] = entity_info['altLabel']\n",
    "            results_per_hit['altLabel_comment'] = entity_info['altLabel_comment']\n",
    "            results_per_hit['scopeNote'] = entity_info['scopeNote']\n",
    "            \n",
    "            list_of_results.append(results_per_hit)\n",
    "            \n",
    "    return list_of_results"
   ]
  },
  {
   "cell_type": "markdown",
   "metadata": {},
   "source": [
    "### Querying EN subgraph"
   ]
  },
  {
   "cell_type": "code",
   "execution_count": null,
   "metadata": {},
   "outputs": [],
   "source": [
    "# querying all the terms takes approx 50 min\n",
    "\n",
    "result_dict_aat_en = {}\n",
    "\n",
    "for lemma, wordforms in query_terms_cont_en.items():\n",
    "    \n",
    "    list_of_query_terms = []\n",
    "    list_of_query_terms.append(lemma)\n",
    "    list_of_query_terms.extend(wordforms)\n",
    "    \n",
    "    for query_term in list_of_query_terms:\n",
    "        result_dict_aat_en[query_term] = find_term_in_literal_aat(query_term,aat_subgraph_en)\n",
    "    \n",
    "    print(lemma)"
   ]
  },
  {
   "cell_type": "code",
   "execution_count": null,
   "metadata": {},
   "outputs": [],
   "source": [
    "# saving the query results EN\n",
    "\n",
    "with open('aat_en_query_results.json', 'w') as jf:\n",
    "    json.dump(result_dict_aat_en, jf)"
   ]
  },
  {
   "cell_type": "markdown",
   "metadata": {},
   "source": [
    "### Querying NL subgraph"
   ]
  },
  {
   "cell_type": "code",
   "execution_count": null,
   "metadata": {
    "scrolled": false
   },
   "outputs": [],
   "source": [
    "result_dict_aat_nl = {}\n",
    "\n",
    "for lemma, wordforms in query_terms_cont_nl.items():\n",
    "    \n",
    "    list_of_query_terms = []\n",
    "    list_of_query_terms.append(lemma)\n",
    "    list_of_query_terms.extend(wordforms)\n",
    "    \n",
    "    for query_term in list_of_query_terms:\n",
    "        result_dict_aat_nl[query_term] = find_term_in_literal_aat(query_term,aat_subgraph_nl)\n",
    "    \n",
    "    print(lemma)"
   ]
  },
  {
   "cell_type": "code",
   "execution_count": null,
   "metadata": {},
   "outputs": [],
   "source": [
    "# saving the query results NL\n",
    "\n",
    "with open('aat_nl_query_results.json', 'w') as jf:\n",
    "    json.dump(result_dict_aat_nl, jf)"
   ]
  }
 ],
 "metadata": {
  "kernelspec": {
   "display_name": "Python 3",
   "language": "python",
   "name": "python3"
  },
  "language_info": {
   "codemirror_mode": {
    "name": "ipython",
    "version": 3
   },
   "file_extension": ".py",
   "mimetype": "text/x-python",
   "name": "python",
   "nbconvert_exporter": "python",
   "pygments_lexer": "ipython3",
   "version": "3.8.5"
  }
 },
 "nbformat": 4,
 "nbformat_minor": 4
}
