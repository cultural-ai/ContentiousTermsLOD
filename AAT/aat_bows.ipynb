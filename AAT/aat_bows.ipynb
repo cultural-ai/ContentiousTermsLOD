{
 "cells": [
  {
   "cell_type": "code",
   "execution_count": 1,
   "metadata": {},
   "outputs": [],
   "source": [
    "import json"
   ]
  },
  {
   "cell_type": "code",
   "execution_count": 2,
   "metadata": {},
   "outputs": [],
   "source": [
    "import sys"
   ]
  },
  {
   "cell_type": "code",
   "execution_count": null,
   "metadata": {},
   "outputs": [],
   "source": [
    "# Importing LODlitParser AAT module \n",
    "# this code is partially taken from\n",
    "# https://stackoverflow.com/questions/67631/how-can-i-import-a-module-dynamically-given-the-full-path\n",
    "import importlib.util\n",
    "import sys\n",
    "spec = importlib.util.spec_from_file_location(\"LODlitParser.aat\", \"/Users/anesterov/reps/LODlit/LODlitParser/aat.py\")\n",
    "aat = importlib.util.module_from_spec(spec)\n",
    "sys.modules[\"LODlitParser.aat\"] = aat\n",
    "spec.loader.exec_module(aat)"
   ]
  },
  {
   "cell_type": "code",
   "execution_count": null,
   "metadata": {},
   "outputs": [],
   "source": [
    "# EN\n",
    "aat_bows_en = aat.get_bows('/Users/anesterov/reps/LODlit/AAT/aat_query_results_en.json','en')"
   ]
  },
  {
   "cell_type": "code",
   "execution_count": null,
   "metadata": {},
   "outputs": [],
   "source": [
    "with open('aat_bows_en.json', 'w') as jf:\n",
    "    json.dump(aat_bows_en, jf)"
   ]
  },
  {
   "cell_type": "code",
   "execution_count": null,
   "metadata": {},
   "outputs": [],
   "source": [
    "# NL\n",
    "aat_bows_nl = aat.get_bows('/Users/anesterov/reps/LODlit/AAT/aat_query_results_nl.json','nl')"
   ]
  },
  {
   "cell_type": "code",
   "execution_count": null,
   "metadata": {},
   "outputs": [],
   "source": [
    "with open('aat_bows_nl.json', 'w') as jf:\n",
    "    json.dump(aat_bows_nl, jf)"
   ]
  },
  {
   "cell_type": "markdown",
   "metadata": {},
   "source": [
    "* generating new bows (without tf-idf); 06.04"
   ]
  },
  {
   "cell_type": "code",
   "execution_count": 3,
   "metadata": {},
   "outputs": [],
   "source": [
    "sys.path.append('/Users/anesterov/reps/LODlit/LODlitParser')"
   ]
  },
  {
   "cell_type": "code",
   "execution_count": 4,
   "metadata": {},
   "outputs": [],
   "source": [
    "import aat"
   ]
  },
  {
   "cell_type": "code",
   "execution_count": 7,
   "metadata": {},
   "outputs": [],
   "source": [
    "aat_bows_en = aat.get_bows('/Users/anesterov/reps/LODlit/AAT/aat_query_results_en.json','en')"
   ]
  },
  {
   "cell_type": "code",
   "execution_count": 8,
   "metadata": {},
   "outputs": [],
   "source": [
    "with open('aat_bows_en.json', 'w') as jf:\n",
    "    json.dump(aat_bows_en, jf)"
   ]
  },
  {
   "cell_type": "code",
   "execution_count": 9,
   "metadata": {},
   "outputs": [],
   "source": [
    "aat_bows_nl = aat.get_bows('/Users/anesterov/reps/LODlit/AAT/aat_query_results_nl.json','nl')"
   ]
  },
  {
   "cell_type": "code",
   "execution_count": 10,
   "metadata": {},
   "outputs": [],
   "source": [
    "with open('aat_bows_nl.json', 'w') as jf:\n",
    "    json.dump(aat_bows_nl, jf)"
   ]
  }
 ],
 "metadata": {
  "kernelspec": {
   "display_name": "Python 3 (ipykernel)",
   "language": "python",
   "name": "python3"
  },
  "language_info": {
   "codemirror_mode": {
    "name": "ipython",
    "version": 3
   },
   "file_extension": ".py",
   "mimetype": "text/x-python",
   "name": "python",
   "nbconvert_exporter": "python",
   "pygments_lexer": "ipython3",
   "version": "3.8.5"
  }
 },
 "nbformat": 4,
 "nbformat_minor": 4
}
