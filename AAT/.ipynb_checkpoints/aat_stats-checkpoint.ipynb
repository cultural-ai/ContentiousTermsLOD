{
 "cells": [
  {
   "cell_type": "code",
   "execution_count": 1,
   "metadata": {},
   "outputs": [],
   "source": [
    "import json\n",
    "import csv\n",
    "import rdflib\n",
    "from rdflib import Graph"
   ]
  },
  {
   "cell_type": "markdown",
   "metadata": {},
   "source": [
    "#### Reading the AAT query results"
   ]
  },
  {
   "cell_type": "code",
   "execution_count": null,
   "metadata": {},
   "outputs": [],
   "source": [
    "# reading the results EN\n",
    "with open('/Users/anesterov/reps/LODlit/AAT/aat_query_results_en.json','r') as jf:\n",
    "    aat_en_query_results = json.load(jf)"
   ]
  },
  {
   "cell_type": "code",
   "execution_count": null,
   "metadata": {},
   "outputs": [],
   "source": [
    "# reading the results EN\n",
    "with open('aat_nl_query_results.json','r') as jf:\n",
    "    aat_nl_query_results = json.load(jf)"
   ]
  },
  {
   "cell_type": "markdown",
   "metadata": {},
   "source": [
    "#### Count by query term EN"
   ]
  },
  {
   "cell_type": "code",
   "execution_count": 8,
   "metadata": {},
   "outputs": [],
   "source": [
    "with open('aat_count_by_query_term_en.csv','w') as csv_file:\n",
    "    writer = csv.writer(csv_file)\n",
    "    header = ['lemma','query_term','prefLabel','altLabel','scopeNote','prefLabel_comment','altLabel_comment','total_per_query_term']\n",
    "    writer.writerow(header)\n",
    "\n",
    "    for key, forms in query_terms_cont_en.items():\n",
    "\n",
    "        list_of_query_terms = [] # lemmas and forms of query terms\n",
    "        list_of_query_terms.append(key)\n",
    "        list_of_query_terms.extend(forms)\n",
    "\n",
    "        for query_term in list_of_query_terms:\n",
    "\n",
    "            pref_count = 0\n",
    "            alt_count = 0\n",
    "            note_count = 0\n",
    "            pref_comment_count = 0\n",
    "            alt_comment_count = 0\n",
    "\n",
    "            for lemma, results in aat_en_query_results.items():\n",
    "                for result in results:\n",
    "                    if result['query_term'] == query_term:\n",
    "                        if result['found_in'] == 'prefLabel':\n",
    "                            pref_count += 1\n",
    "                        if result['found_in'] == 'altLabel':\n",
    "                            alt_count += 1\n",
    "                        if result['found_in'] == 'scopeNote':\n",
    "                            note_count += 1\n",
    "                        if result['found_in'] == 'prefLabel_comment':\n",
    "                            pref_comment_count += 1\n",
    "                        if result['found_in'] == 'altLabel_comment':\n",
    "                            alt_comment_count += 1\n",
    "            total_count = pref_count + alt_count + note_count + pref_comment_count + alt_comment_count\n",
    "\n",
    "            writer.writerow([key,query_term,pref_count,alt_count,note_count,pref_comment_count,alt_comment_count,total_count])"
   ]
  },
  {
   "cell_type": "markdown",
   "metadata": {},
   "source": [
    "#### Count by query term NL"
   ]
  },
  {
   "cell_type": "code",
   "execution_count": 9,
   "metadata": {},
   "outputs": [],
   "source": [
    "with open('aat_count_by_query_term_nl.csv','w') as csv_file:\n",
    "    writer = csv.writer(csv_file)\n",
    "    header = ['lemma','query_term','prefLabel','altLabel','scopeNote','prefLabel_comment','altLabel_comment','total_per_query_term']\n",
    "    writer.writerow(header)\n",
    "\n",
    "    for key, forms in query_terms_cont_nl.items():\n",
    "\n",
    "        list_of_query_terms = [] # lemmas and forms of query terms\n",
    "        list_of_query_terms.append(key)\n",
    "        list_of_query_terms.extend(forms)\n",
    "\n",
    "        for query_term in list_of_query_terms:\n",
    "\n",
    "            pref_count = 0\n",
    "            alt_count = 0\n",
    "            note_count = 0\n",
    "            pref_comment_count = 0\n",
    "            alt_comment_count = 0\n",
    "\n",
    "            for lemma, results in aat_nl_query_results.items():\n",
    "                for result in results:\n",
    "                    if result['query_term'] == query_term:\n",
    "                        if result['found_in'] == 'prefLabel':\n",
    "                            pref_count += 1\n",
    "                        if result['found_in'] == 'altLabel':\n",
    "                            alt_count += 1\n",
    "                        if result['found_in'] == 'scopeNote':\n",
    "                            note_count += 1\n",
    "                        if result['found_in'] == 'prefLabel_comment':\n",
    "                            pref_comment_count += 1\n",
    "                        if result['found_in'] == 'altLabel_comment':\n",
    "                            alt_comment_count += 1\n",
    "                            \n",
    "            total_count = pref_count + alt_count + note_count + pref_comment_count + alt_comment_count\n",
    "\n",
    "            writer.writerow([key,query_term,pref_count,alt_count,note_count,pref_comment_count,alt_comment_count,total_count])"
   ]
  },
  {
   "cell_type": "markdown",
   "metadata": {},
   "source": [
    "#### Counting general number of literals"
   ]
  },
  {
   "cell_type": "code",
   "execution_count": null,
   "metadata": {},
   "outputs": [],
   "source": [
    "aat_subgraph_en = Graph()\n",
    "aat_subgraph_en.parse(\"aat/aat_subgraph_en.n3\", format=\"n3\")"
   ]
  },
  {
   "cell_type": "code",
   "execution_count": null,
   "metadata": {},
   "outputs": [],
   "source": [
    "aat_subgraph_nl = Graph()\n",
    "aat_subgraph_nl.parse(\"aat/aat_subgraph_nl.n3\", format=\"n3\")"
   ]
  },
  {
   "cell_type": "code",
   "execution_count": null,
   "metadata": {},
   "outputs": [],
   "source": [
    "prefLabel_lit = \"\"\"\n",
    "SELECT (COUNT(*) AS ?count)\n",
    "\n",
    "WHERE {\n",
    "?concept skosxl:prefLabel / skosxl:literalForm ?lit_form .\n",
    "}\n",
    "\"\"\""
   ]
  },
  {
   "cell_type": "code",
   "execution_count": null,
   "metadata": {},
   "outputs": [],
   "source": [
    "altLabel_lit = \"\"\"\n",
    "SELECT (COUNT(*) AS ?count)\n",
    "\n",
    "WHERE {\n",
    "?concept skosxl:altLabel / skosxl:literalForm ?lit_form .\n",
    "}\n",
    "\"\"\""
   ]
  },
  {
   "cell_type": "code",
   "execution_count": null,
   "metadata": {},
   "outputs": [],
   "source": [
    "prefLabel_comment = \"\"\"\n",
    "SELECT (COUNT(*) AS ?count)\n",
    "\n",
    "WHERE {\n",
    "?concept skosxl:prefLabel / rdfs:comment ?lit_form .\n",
    "}\n",
    "\"\"\""
   ]
  },
  {
   "cell_type": "code",
   "execution_count": null,
   "metadata": {},
   "outputs": [],
   "source": [
    "altLabel_comment = \"\"\"\n",
    "SELECT (COUNT(*) AS ?count)\n",
    "\n",
    "WHERE {\n",
    "?concept skosxl:altLabel / rdfs:comment ?lit_form .\n",
    "}\n",
    "\"\"\""
   ]
  },
  {
   "cell_type": "code",
   "execution_count": null,
   "metadata": {},
   "outputs": [],
   "source": [
    "scope_note = \"\"\"\n",
    "SELECT (COUNT(*) AS ?count)\n",
    "\n",
    "WHERE {\n",
    "?concept skos:scopeNote / rdf:value ?lit_form .\n",
    "}\"\"\""
   ]
  },
  {
   "cell_type": "code",
   "execution_count": null,
   "metadata": {},
   "outputs": [],
   "source": [
    "count = aat_subgraph_en.query(prefLabel_lit).bindings[0]"
   ]
  },
  {
   "cell_type": "code",
   "execution_count": null,
   "metadata": {},
   "outputs": [],
   "source": []
  }
 ],
 "metadata": {
  "kernelspec": {
   "display_name": "Python 3",
   "language": "python",
   "name": "python3"
  },
  "language_info": {
   "codemirror_mode": {
    "name": "ipython",
    "version": 3
   },
   "file_extension": ".py",
   "mimetype": "text/x-python",
   "name": "python",
   "nbconvert_exporter": "python",
   "pygments_lexer": "ipython3",
   "version": "3.8.5"
  }
 },
 "nbformat": 4,
 "nbformat_minor": 4
}
