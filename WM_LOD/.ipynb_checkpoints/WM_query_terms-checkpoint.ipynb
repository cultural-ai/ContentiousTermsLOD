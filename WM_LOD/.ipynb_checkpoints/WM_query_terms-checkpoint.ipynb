{
 "cells": [
  {
   "cell_type": "code",
   "execution_count": 6,
   "metadata": {},
   "outputs": [],
   "source": [
    "import rdflib\n",
    "from rdflib import Graph\n",
    "from rdflib.namespace import Namespace\n",
    "from rdflib.namespace import SKOS, RDF\n",
    "import json"
   ]
  },
  {
   "cell_type": "code",
   "execution_count": 2,
   "metadata": {},
   "outputs": [
    {
     "data": {
      "text/plain": [
       "<Graph identifier=Ne2e1291e13ad4e9b8e15e2eb29f6f092 (<class 'rdflib.graph.Graph'>)>"
      ]
     },
     "execution_count": 2,
     "metadata": {},
     "output_type": "execute_result"
    }
   ],
   "source": [
    "# putting the English and Dutch thesauri and the labels together in one graph\n",
    "combined_graph = Graph()\n",
    "combined_graph.parse(\"thesaurus_en.ttl\", format=\"turtle\")\n",
    "combined_graph.parse(\"labels_en.ttl\", format=\"turtle\")\n",
    "combined_graph.parse(\"thesaurus_nl.ttl\", format=\"turtle\")\n",
    "combined_graph.parse(\"labels_nl.ttl\", format=\"turtle\")"
   ]
  },
  {
   "cell_type": "code",
   "execution_count": 3,
   "metadata": {},
   "outputs": [
    {
     "data": {
      "text/plain": [
       "2299"
      ]
     },
     "execution_count": 3,
     "metadata": {},
     "output_type": "execute_result"
    }
   ],
   "source": [
    "len(combined_graph)"
   ]
  },
  {
   "cell_type": "code",
   "execution_count": 7,
   "metadata": {},
   "outputs": [],
   "source": [
    "# setting up custom namespaces\n",
    "culco = Namespace(\"http://example.nl/ontology#\")\n",
    "skosxl = Namespace(\"http://www.w3.org/2008/05/skos-xl#\")"
   ]
  },
  {
   "cell_type": "markdown",
   "metadata": {},
   "source": [
    "### English labels"
   ]
  },
  {
   "cell_type": "markdown",
   "metadata": {},
   "source": [
    "#### Getting all the labels that are values of the property \"hasContentiousLabel\" (EN)"
   ]
  },
  {
   "cell_type": "code",
   "execution_count": 17,
   "metadata": {},
   "outputs": [],
   "source": [
    "contentious_en = combined_graph.query(\n",
    "    \n",
    "\"\"\"\n",
    "SELECT DISTINCT ?contentious_label_lit\n",
    "\n",
    "WHERE {\n",
    "\n",
    "  ?CI culco:hasContentiousLabel / skosxl:literalForm ?contentious_label_lit .\n",
    "\n",
    "  FILTER (lang(?contentious_label_lit) = \"en\")\n",
    "\n",
    "}\n",
    "\"\"\", initNs={'culco': culco, 'skosxl': skosxl})"
   ]
  },
  {
   "cell_type": "code",
   "execution_count": 29,
   "metadata": {},
   "outputs": [],
   "source": [
    "list_contentious_en = []\n",
    "for row in contentious_en:\n",
    "    list_contentious_en.append(row.contentious_label_lit.lower())"
   ]
  },
  {
   "cell_type": "code",
   "execution_count": 30,
   "metadata": {},
   "outputs": [
    {
     "data": {
      "text/plain": [
       "76"
      ]
     },
     "execution_count": 30,
     "metadata": {},
     "output_type": "execute_result"
    }
   ],
   "source": [
    "len(list_contentious_en)"
   ]
  },
  {
   "cell_type": "markdown",
   "metadata": {},
   "source": [
    "#### Getting all the labels that are values of the property \"hasSuggestedLabel\" (EN)"
   ]
  },
  {
   "cell_type": "code",
   "execution_count": 31,
   "metadata": {},
   "outputs": [],
   "source": [
    "suggested_en = combined_graph.query(\n",
    "    \n",
    "\"\"\"\n",
    "SELECT DISTINCT ?suggested_label_lit\n",
    "\n",
    "WHERE {\n",
    "\n",
    "  ?Suggestion culco:hasSuggestedLabel / skosxl:literalForm ?suggested_label_lit .\n",
    "\n",
    "  FILTER (lang(?suggested_label_lit) = \"en\")\n",
    "  \n",
    "}\n",
    "\"\"\", initNs={'culco': culco, 'skosxl': skosxl})"
   ]
  },
  {
   "cell_type": "code",
   "execution_count": 33,
   "metadata": {},
   "outputs": [],
   "source": [
    "list_suggested_en = []\n",
    "for row in suggested_en:\n",
    "    list_suggested_en.append(row.suggested_label_lit.lower())"
   ]
  },
  {
   "cell_type": "code",
   "execution_count": 34,
   "metadata": {},
   "outputs": [
    {
     "data": {
      "text/plain": [
       "48"
      ]
     },
     "execution_count": 34,
     "metadata": {},
     "output_type": "execute_result"
    }
   ],
   "source": [
    "len(list_suggested_en)"
   ]
  },
  {
   "cell_type": "code",
   "execution_count": 39,
   "metadata": {},
   "outputs": [],
   "source": [
    "en_labels = list(set(list_contentious_en + list_suggested_en))"
   ]
  },
  {
   "cell_type": "code",
   "execution_count": 41,
   "metadata": {},
   "outputs": [
    {
     "data": {
      "text/plain": [
       "117"
      ]
     },
     "execution_count": 41,
     "metadata": {},
     "output_type": "execute_result"
    }
   ],
   "source": [
    "len(en_labels)"
   ]
  },
  {
   "cell_type": "code",
   "execution_count": 51,
   "metadata": {},
   "outputs": [
    {
     "data": {
      "text/plain": [
       "['little person',\n",
       " 'mestizo',\n",
       " 'hermaphrodite',\n",
       " 'developing nations',\n",
       " 'roots',\n",
       " 'full blood',\n",
       " 'black',\n",
       " 'aboriginal people',\n",
       " 'japanese concentration camp',\n",
       " 'dwarf',\n",
       " 'burma',\n",
       " 'cross-dresser',\n",
       " 'japanese camp',\n",
       " 'primitive',\n",
       " 'mulatto',\n",
       " 'native',\n",
       " 'aboriginal peoples',\n",
       " 'first nations people',\n",
       " 'immigrant',\n",
       " 'traditional healer',\n",
       " 'trans',\n",
       " 'primitivism',\n",
       " 'handicap',\n",
       " 'page',\n",
       " 'discover',\n",
       " 'indo-european',\n",
       " 'indigenous',\n",
       " 'berber',\n",
       " 'disabled people',\n",
       " 'headhunter',\n",
       " 'enslaved',\n",
       " 'roma',\n",
       " 'tribe',\n",
       " 'pygmy',\n",
       " 'first nations',\n",
       " 'third world',\n",
       " 'race',\n",
       " 'persons of color',\n",
       " 'coolie',\n",
       " 'medicine man',\n",
       " 'differently abled',\n",
       " 'allochtoon',\n",
       " 'ethnic groups',\n",
       " 'imazighen',\n",
       " 'first nation peoples',\n",
       " 'intersex',\n",
       " 'transvestite',\n",
       " 'gypsy',\n",
       " 'first world',\n",
       " 'homosexual',\n",
       " 'mohammedan',\n",
       " 'homo',\n",
       " 'asian',\n",
       " 'amazigh',\n",
       " 'enslaved person',\n",
       " 'ethnicity',\n",
       " 'negro',\n",
       " 'moor',\n",
       " 'indo',\n",
       " 'maroon',\n",
       " 'mixed race',\n",
       " 'people with disabilities',\n",
       " 'someone with dwarfism',\n",
       " 'black and non-black persons of color',\n",
       " 'gay',\n",
       " 'southern rhodesia',\n",
       " 'khoisan',\n",
       " 'indian',\n",
       " 'second world',\n",
       " 'people of color',\n",
       " 'descent',\n",
       " 'métis',\n",
       " 'muslim',\n",
       " 'footmen',\n",
       " 'bush negro',\n",
       " 'torres strait islander peoples',\n",
       " 'japanese military prison camp (in burma and thailand)',\n",
       " 'kaffir',\n",
       " 'japanese internment camp',\n",
       " 'low-income countries',\n",
       " 'caucasian',\n",
       " 'half-blood',\n",
       " 'hottentot',\n",
       " 'lilliputian',\n",
       " 'retarded',\n",
       " 'eskimo',\n",
       " 'western',\n",
       " 'white',\n",
       " 'mongoloid',\n",
       " 'servant',\n",
       " 'disabled',\n",
       " 'oriental',\n",
       " 'first nation people',\n",
       " 'barbarian',\n",
       " 'traditional',\n",
       " 'mumbai',\n",
       " 'japanese prisoners of war camp',\n",
       " 'historic',\n",
       " 'calcutta',\n",
       " 'aboriginal',\n",
       " 'inuit',\n",
       " 'batavia',\n",
       " 'colored',\n",
       " 'a person of short stature',\n",
       " 'bombay',\n",
       " 'first and second dutch-indonesian wars',\n",
       " 'lgbt',\n",
       " 'slave',\n",
       " 'black and non-black person of color',\n",
       " 'exotic',\n",
       " 'queer',\n",
       " 'black and non-black people of color',\n",
       " 'person of color',\n",
       " 'half-breed',\n",
       " 'spiritual healer',\n",
       " 'madras',\n",
       " 'baboo']"
      ]
     },
     "execution_count": 51,
     "metadata": {},
     "output_type": "execute_result"
    }
   ],
   "source": [
    "en_labels"
   ]
  },
  {
   "cell_type": "markdown",
   "metadata": {},
   "source": [
    "### Dutch labels"
   ]
  },
  {
   "cell_type": "markdown",
   "metadata": {},
   "source": [
    "#### \"hasContentiousLabel\" (NL)"
   ]
  },
  {
   "cell_type": "code",
   "execution_count": 42,
   "metadata": {},
   "outputs": [],
   "source": [
    "contentious_nl = combined_graph.query(\n",
    "    \n",
    "\"\"\"\n",
    "SELECT DISTINCT ?contentious_label_lit\n",
    "\n",
    "WHERE {\n",
    "\n",
    "  ?CI culco:hasContentiousLabel / skosxl:literalForm ?contentious_label_lit .\n",
    "\n",
    "  FILTER (lang(?contentious_label_lit) = \"nl\")\n",
    "\n",
    "}\n",
    "\"\"\", initNs={'culco': culco, 'skosxl': skosxl})"
   ]
  },
  {
   "cell_type": "code",
   "execution_count": 43,
   "metadata": {},
   "outputs": [],
   "source": [
    "list_contentious_nl = []\n",
    "for row in contentious_nl:\n",
    "    list_contentious_nl.append(row.contentious_label_lit.lower())"
   ]
  },
  {
   "cell_type": "code",
   "execution_count": 44,
   "metadata": {},
   "outputs": [
    {
     "data": {
      "text/plain": [
       "84"
      ]
     },
     "execution_count": 44,
     "metadata": {},
     "output_type": "execute_result"
    }
   ],
   "source": [
    "len(list_contentious_nl)"
   ]
  },
  {
   "cell_type": "markdown",
   "metadata": {},
   "source": [
    "#### \"hasSuggestedLabel\" (NL)"
   ]
  },
  {
   "cell_type": "code",
   "execution_count": 46,
   "metadata": {},
   "outputs": [],
   "source": [
    "suggested_nl = combined_graph.query(\n",
    "    \n",
    "\"\"\"\n",
    "SELECT DISTINCT ?suggested_label_lit\n",
    "\n",
    "WHERE {\n",
    "\n",
    "  ?Suggestion culco:hasSuggestedLabel / skosxl:literalForm ?suggested_label_lit .\n",
    "\n",
    "  FILTER (lang(?suggested_label_lit) = \"nl\")\n",
    "  \n",
    "}\n",
    "\"\"\", initNs={'culco': culco, 'skosxl': skosxl})"
   ]
  },
  {
   "cell_type": "code",
   "execution_count": 52,
   "metadata": {},
   "outputs": [],
   "source": [
    "list_suggested_nl = []\n",
    "for row in suggested_nl:\n",
    "    list_suggested_nl.append(row.suggested_label_lit.lower().replace('\\xad','')) #soft-hyphen character"
   ]
  },
  {
   "cell_type": "code",
   "execution_count": 53,
   "metadata": {},
   "outputs": [
    {
     "data": {
      "text/plain": [
       "39"
      ]
     },
     "execution_count": 53,
     "metadata": {},
     "output_type": "execute_result"
    }
   ],
   "source": [
    "len(list_suggested_nl)"
   ]
  },
  {
   "cell_type": "code",
   "execution_count": 54,
   "metadata": {},
   "outputs": [],
   "source": [
    "nl_labels = list(set(list_contentious_nl + list_suggested_nl))"
   ]
  },
  {
   "cell_type": "code",
   "execution_count": 56,
   "metadata": {},
   "outputs": [
    {
     "data": {
      "text/plain": [
       "116"
      ]
     },
     "execution_count": 56,
     "metadata": {},
     "output_type": "execute_result"
    }
   ],
   "source": [
    "len(nl_labels)"
   ]
  },
  {
   "cell_type": "markdown",
   "metadata": {},
   "source": [
    "### Comparing different versions of lists"
   ]
  },
  {
   "cell_type": "code",
   "execution_count": 68,
   "metadata": {},
   "outputs": [],
   "source": [
    "#### EN"
   ]
  },
  {
   "cell_type": "code",
   "execution_count": 65,
   "metadata": {},
   "outputs": [],
   "source": [
    "with open('/Users/anesterov/reps/LODlit/target_terms_en.txt','r') as txt_file:\n",
    "    list_en_old = [i.replace('\\n','').lower() for i in txt_file.readlines()]"
   ]
  },
  {
   "cell_type": "code",
   "execution_count": 69,
   "metadata": {},
   "outputs": [
    {
     "name": "stdout",
     "output_type": "stream",
     "text": [
      "developing nations\n",
      "roots\n",
      "aboriginal people\n",
      "japanese concentration camp\n",
      "japanese camp\n",
      "aboriginal peoples\n",
      "first nations people\n",
      "traditional healer\n",
      "disabled people\n",
      "first nations\n",
      "persons of color\n",
      "ethnic groups\n",
      "first nation peoples\n",
      "enslaved person\n",
      "someone with dwarfism\n",
      "black and non-black persons of color\n",
      "footmen\n",
      "torres strait islander peoples\n",
      "japanese military prison camp (in burma and thailand)\n",
      "japanese internment camp\n",
      "low-income countries\n",
      "first nation people\n",
      "japanese prisoners of war camp\n",
      "a person of short stature\n",
      "first and second dutch-indonesian wars\n",
      "black and non-black person of color\n",
      "black and non-black people of color\n"
     ]
    }
   ],
   "source": [
    "for i in en_labels:\n",
    "    if i not in list_en_old:\n",
    "        print(i)"
   ]
  },
  {
   "cell_type": "code",
   "execution_count": null,
   "metadata": {},
   "outputs": [],
   "source": []
  }
 ],
 "metadata": {
  "kernelspec": {
   "display_name": "Python 3",
   "language": "python",
   "name": "python3"
  },
  "language_info": {
   "codemirror_mode": {
    "name": "ipython",
    "version": 3
   },
   "file_extension": ".py",
   "mimetype": "text/x-python",
   "name": "python",
   "nbconvert_exporter": "python",
   "pygments_lexer": "ipython3",
   "version": "3.8.5"
  }
 },
 "nbformat": 4,
 "nbformat_minor": 4
}
