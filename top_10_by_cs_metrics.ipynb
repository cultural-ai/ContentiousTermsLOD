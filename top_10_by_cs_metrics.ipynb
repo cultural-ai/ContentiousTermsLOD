{
 "cells": [
  {
   "cell_type": "code",
   "execution_count": null,
   "metadata": {},
   "outputs": [],
   "source": [
    "import pandas as pd\n",
    "import csv\n",
    "import sys"
   ]
  },
  {
   "cell_type": "code",
   "execution_count": null,
   "metadata": {},
   "outputs": [],
   "source": [
    "sys.path.append('/Users/anesterov/reps/LODlit/LODlitParser')"
   ]
  },
  {
   "cell_type": "code",
   "execution_count": null,
   "metadata": {},
   "outputs": [],
   "source": [
    "import bows"
   ]
  },
  {
   "cell_type": "markdown",
   "metadata": {},
   "source": [
    "## Top-10 entities by resource and metric\n",
    "* Generates 18 csv files"
   ]
  },
  {
   "cell_type": "markdown",
   "metadata": {},
   "source": [
    "#### Wikidata EN"
   ]
  },
  {
   "cell_type": "code",
   "execution_count": null,
   "metadata": {},
   "outputs": [],
   "source": [
    "path_wikidata_en = \"/Users/anesterov/reps/LODlit/wikidata_en_cs.csv\"\n",
    "\n",
    "# RM\n",
    "top_10_rm_wikidata_en = bows.get_top_10_per_term(path_wikidata_en, metric=\"cs_rm\")\n",
    "top_10_rm_wikidata_en.to_csv(\"cs/top_10_rm_wikidata_en.csv\")\n",
    "\n",
    "# WM\n",
    "top_10_wm_wikidata_en = bows.get_top_10_per_term(path_wikidata_en, metric=\"cs_wm\")\n",
    "top_10_wm_wikidata_en.to_csv(\"cs/top_10_wm_wikidata_en.csv\")\n",
    "\n",
    "# RM+WM\n",
    "top_10_rmwm_wikidata_en = bows.get_top_10_per_term(path_wikidata_en, metric=\"cs_rm_wm\")\n",
    "top_10_rmwm_wikidata_en.to_csv(\"cs/top_10_rmwm_wikidata_en.csv\")"
   ]
  },
  {
   "cell_type": "markdown",
   "metadata": {},
   "source": [
    "#### Wikidata NL"
   ]
  },
  {
   "cell_type": "code",
   "execution_count": null,
   "metadata": {},
   "outputs": [],
   "source": [
    "path_wikidata_nl = \"/Users/anesterov/reps/LODlit/wikidata_nl_cs.csv\"\n",
    "\n",
    "# RM\n",
    "top_10_rm_wikidata_nl = bows.get_top_10_per_term(path_wikidata_nl, metric=\"cs_rm\")\n",
    "top_10_rm_wikidata_nl.to_csv(\"cs/top_10_rm_wikidata_nl.csv\")\n",
    "\n",
    "# WM\n",
    "top_10_wm_wikidata_nl = bows.get_top_10_per_term(path_wikidata_nl, metric=\"cs_wm\")\n",
    "top_10_wm_wikidata_nl.to_csv(\"cs/top_10_wm_wikidata_nl.csv\")\n",
    "\n",
    "# RM+WM\n",
    "top_10_rmwm_wikidata_nl = bows.get_top_10_per_term(path_wikidata_nl, metric=\"cs_rm_wm\")\n",
    "top_10_rmwm_wikidata_nl.to_csv(\"cs/top_10_rmwm_wikidata_nl.csv\")"
   ]
  },
  {
   "cell_type": "markdown",
   "metadata": {},
   "source": [
    "#### AAT EN"
   ]
  },
  {
   "cell_type": "code",
   "execution_count": null,
   "metadata": {},
   "outputs": [],
   "source": [
    "path_aat_en = \"/Users/anesterov/reps/LODlit/aat_en_cs.csv\"\n",
    "\n",
    "# RM\n",
    "top_10_rm_aat_en = bows.get_top_10_per_term(path_aat_en, metric=\"cs_rm\")\n",
    "top_10_rm_aat_en.to_csv(\"cs/top_10_rm_aat_en.csv\")\n",
    "\n",
    "# WM\n",
    "top_10_wm_aat_en = bows.get_top_10_per_term(path_aat_en, metric=\"cs_wm\")\n",
    "top_10_wm_aat_en.to_csv(\"cs/top_10_wm_aat_en.csv\")\n",
    "\n",
    "# RM+WM\n",
    "top_10_rmwm_aat_en = bows.get_top_10_per_term(path_aat_en, metric=\"cs_rm_wm\")\n",
    "top_10_rmwm_aat_en.to_csv(\"cs/top_10_rmwm_aat_en.csv\")"
   ]
  },
  {
   "cell_type": "markdown",
   "metadata": {},
   "source": [
    "#### AAT NL"
   ]
  },
  {
   "cell_type": "code",
   "execution_count": null,
   "metadata": {},
   "outputs": [],
   "source": [
    "path_aat_nl = \"/Users/anesterov/reps/LODlit/aat_nl_cs.csv\"\n",
    "\n",
    "# RM\n",
    "top_10_rm_aat_nl = bows.get_top_10_per_term(path_aat_nl, metric=\"cs_rm\")\n",
    "top_10_rm_aat_nl.to_csv(\"cs/top_10_rm_aat_nl.csv\")\n",
    "\n",
    "# WM\n",
    "top_10_wm_aat_nl = bows.get_top_10_per_term(path_aat_nl, metric=\"cs_wm\")\n",
    "top_10_wm_aat_nl.to_csv(\"cs/top_10_wm_aat_nl.csv\")\n",
    "\n",
    "# RM+WM\n",
    "top_10_rmwm_aat_nl = bows.get_top_10_per_term(path_aat_nl, metric=\"cs_rm_wm\")\n",
    "top_10_rmwm_aat_nl.to_csv(\"cs/top_10_rmwm_aat_nl.csv\")"
   ]
  },
  {
   "cell_type": "markdown",
   "metadata": {},
   "source": [
    "#### PWN"
   ]
  },
  {
   "cell_type": "code",
   "execution_count": null,
   "metadata": {},
   "outputs": [],
   "source": [
    "path_pwn = \"/Users/anesterov/reps/LODlit/pwn_cs.csv\"\n",
    "\n",
    "# RM\n",
    "top_10_rm_pwn = bows.get_top_10_per_term(path_pwn, metric=\"cs_rm\")\n",
    "top_10_rm_pwn.to_csv(\"cs/top_10_rm_pwn.csv\")\n",
    "\n",
    "# WM\n",
    "top_10_wm_pwn = bows.get_top_10_per_term(path_pwn, metric=\"cs_wm\")\n",
    "top_10_wm_pwn.to_csv(\"cs/top_10_wm_pwn.csv\")\n",
    "\n",
    "# RM+WM\n",
    "top_10_rmwm_pwn = bows.get_top_10_per_term(path_pwn, metric=\"cs_rm_wm\")\n",
    "top_10_rmwm_pwn.to_csv(\"cs/top_10_rmwm_pwn.csv\")"
   ]
  },
  {
   "cell_type": "markdown",
   "metadata": {},
   "source": [
    "#### ODWN"
   ]
  },
  {
   "cell_type": "code",
   "execution_count": null,
   "metadata": {},
   "outputs": [],
   "source": [
    "path_odwn = \"/Users/anesterov/reps/LODlit/odwn_cs.csv\"\n",
    "\n",
    "# RM\n",
    "odwn_top_10_rm = bows.get_top_10_per_term(path_odwn, metric=\"cs_rm\")\n",
    "odwn_top_10_rm.to_csv(\"cs/top_10_rm_odwn.csv\")\n",
    "\n",
    "# WM\n",
    "odwn_top_10_wm = bows.get_top_10_per_term(path_odwn, metric=\"cs_wm\")\n",
    "odwn_top_10_wm.to_csv(\"cs/top_10_wm_odwn.csv\")\n",
    "\n",
    "# RM+WM\n",
    "odwn_top_10_rmwm = bows.get_top_10_per_term(path_odwn, metric=\"cs_rm_wm\")\n",
    "odwn_top_10_rmwm.to_csv(\"cs/top_10_rmwm_odwn.csv\")"
   ]
  },
  {
   "cell_type": "code",
   "execution_count": null,
   "metadata": {},
   "outputs": [],
   "source": []
  }
 ],
 "metadata": {
  "kernelspec": {
   "display_name": "Python 3",
   "language": "python",
   "name": "python3"
  },
  "language_info": {
   "codemirror_mode": {
    "name": "ipython",
    "version": 3
   },
   "file_extension": ".py",
   "mimetype": "text/x-python",
   "name": "python",
   "nbconvert_exporter": "python",
   "pygments_lexer": "ipython3",
   "version": "3.8.5"
  }
 },
 "nbformat": 4,
 "nbformat_minor": 4
}
