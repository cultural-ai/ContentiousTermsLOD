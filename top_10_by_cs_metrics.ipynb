{
 "cells": [
  {
   "cell_type": "markdown",
   "metadata": {},
   "source": [
    "### Generating Set 2: getting top-10 entities by dataset and metric\n",
    "* 18 csv files by dataset and metric (3 metrics: \"cs_rm\", \"cs_wm\", \"cs_rm_wm\")\n",
    "* 6 csv files for each dataset with the \"rm\" metric grouped by lemmas"
   ]
  },
  {
   "cell_type": "code",
   "execution_count": null,
   "metadata": {},
   "outputs": [],
   "source": [
    "import pandas as pd\n",
    "import csv\n",
    "from LODlit import bows"
   ]
  },
  {
   "cell_type": "code",
   "execution_count": null,
   "metadata": {},
   "outputs": [],
   "source": [
    "# paths\n",
    "# wikidata_en_cs.csv is zipped on GitHub\n",
    "path_wikidata_en = \"/cs/wikidata_en_cs.csv\"\n",
    "path_wikidata_nl = \"/cs/wikidata_nl_cs.csv\"\n",
    "path_aat_en = \"/cs/aat_en_cs.csv\"\n",
    "path_aat_nl = \"/cs/aat_nl_cs.csv\"\n",
    "path_pwn = \"/cs/pwn_cs.csv\"\n",
    "path_odwn = \"/cs/odwn_cs.csv\""
   ]
  },
  {
   "cell_type": "markdown",
   "metadata": {},
   "source": [
    "#### Wikidata EN"
   ]
  },
  {
   "cell_type": "code",
   "execution_count": null,
   "metadata": {},
   "outputs": [],
   "source": [
    "# RM\n",
    "top_10_rm_wikidata_en = bows.get_top_10(path_wikidata_en, metric=\"cs_rm\", \"en\", groupby=\"term\")\n",
    "top_10_rm_wikidata_en.to_csv(\"cs/top_10_rm_wikidata_en.csv\")\n",
    "\n",
    "# WM\n",
    "top_10_wm_wikidata_en = bows.get_top_10(path_wikidata_en, metric=\"cs_wm\", \"en\", groupby=\"term\")\n",
    "top_10_wm_wikidata_en.to_csv(\"cs/top_10_wm_wikidata_en.csv\")\n",
    "\n",
    "# RM+WM\n",
    "top_10_rmwm_wikidata_en = bows.get_top_10(path_wikidata_en, metric=\"cs_rm_wm\", \"en\", groupby=\"term\")\n",
    "top_10_rmwm_wikidata_en.to_csv(\"cs/top_10_rmwm_wikidata_en.csv\")"
   ]
  },
  {
   "cell_type": "markdown",
   "metadata": {},
   "source": [
    "#### Wikidata NL"
   ]
  },
  {
   "cell_type": "code",
   "execution_count": null,
   "metadata": {},
   "outputs": [],
   "source": [
    "# RM\n",
    "top_10_rm_wikidata_nl = bows.get_top_10(path_wikidata_nl, metric=\"cs_rm\", \"nl\", groupby=\"term\")\n",
    "top_10_rm_wikidata_nl.to_csv(\"cs/top_10_rm_wikidata_nl.csv\")\n",
    "\n",
    "# WM\n",
    "top_10_wm_wikidata_nl = bows.get_top_10(path_wikidata_nl, metric=\"cs_wm\", \"nl\", groupby=\"term\")\n",
    "top_10_wm_wikidata_nl.to_csv(\"cs/top_10_wm_wikidata_nl.csv\")\n",
    "\n",
    "# RM+WM\n",
    "top_10_rmwm_wikidata_nl = bows.get_top_10(path_wikidata_nl, metric=\"cs_rm_wm\", \"nl\", groupby=\"term\")\n",
    "top_10_rmwm_wikidata_nl.to_csv(\"cs/top_10_rmwm_wikidata_nl.csv\")"
   ]
  },
  {
   "cell_type": "markdown",
   "metadata": {},
   "source": [
    "#### AAT EN"
   ]
  },
  {
   "cell_type": "code",
   "execution_count": null,
   "metadata": {},
   "outputs": [],
   "source": [
    "# RM\n",
    "top_10_rm_aat_en = bows.get_top_10(path_aat_en, metric=\"cs_rm\", \"en\", groupby=\"term\")\n",
    "top_10_rm_aat_en.to_csv(\"cs/top_10_rm_aat_en.csv\")\n",
    "\n",
    "# WM\n",
    "top_10_wm_aat_en = bows.get_top_10(path_aat_en, metric=\"cs_wm\", \"en\", groupby=\"term\")\n",
    "top_10_wm_aat_en.to_csv(\"cs/top_10_wm_aat_en.csv\")\n",
    "\n",
    "# RM+WM\n",
    "top_10_rmwm_aat_en = bows.get_top_10(path_aat_en, metric=\"cs_rm_wm\", \"en\", groupby=\"term\")\n",
    "top_10_rmwm_aat_en.to_csv(\"cs/top_10_rmwm_aat_en.csv\")"
   ]
  },
  {
   "cell_type": "markdown",
   "metadata": {},
   "source": [
    "#### AAT NL"
   ]
  },
  {
   "cell_type": "code",
   "execution_count": null,
   "metadata": {},
   "outputs": [],
   "source": [
    "# RM\n",
    "top_10_rm_aat_nl = bows.get_top_10(path_aat_nl, metric=\"cs_rm\", \"nl\", groupby=\"term\")\n",
    "top_10_rm_aat_nl.to_csv(\"cs/top_10_rm_aat_nl.csv\")\n",
    "\n",
    "# WM\n",
    "top_10_wm_aat_nl = bows.get_top_10(path_aat_nl, metric=\"cs_wm\", \"nl\", groupby=\"term\")\n",
    "top_10_wm_aat_nl.to_csv(\"cs/top_10_wm_aat_nl.csv\")\n",
    "\n",
    "# RM+WM\n",
    "top_10_rmwm_aat_nl = bows.get_top_10(path_aat_nl, metric=\"cs_rm_wm\", \"nl\", groupby=\"term\")\n",
    "top_10_rmwm_aat_nl.to_csv(\"cs/top_10_rmwm_aat_nl.csv\")"
   ]
  },
  {
   "cell_type": "markdown",
   "metadata": {},
   "source": [
    "#### PWN"
   ]
  },
  {
   "cell_type": "code",
   "execution_count": null,
   "metadata": {},
   "outputs": [],
   "source": [
    "# RM\n",
    "top_10_rm_pwn = bows.get_top_10(path_pwn, metric=\"cs_rm\", \"en\", groupby=\"term\")\n",
    "top_10_rm_pwn.drop(columns=[\"Unnamed: 0\"],inplace=True)\n",
    "top_10_rm_pwn.to_csv(\"cs/top_10_rm_pwn.csv\")\n",
    "\n",
    "# WM\n",
    "top_10_wm_pwn = bows.get_top_10(path_pwn, metric=\"cs_wm\", \"en\", groupby=\"term\")\n",
    "top_10_wm_pwn.drop(columns=[\"Unnamed: 0\"],inplace=True)\n",
    "top_10_wm_pwn.to_csv(\"cs/top_10_wm_pwn.csv\")\n",
    "\n",
    "# RM+WM\n",
    "top_10_rmwm_pwn = bows.get_top_10(path_pwn, metric=\"cs_rm_wm\", \"en\", groupby=\"term\")\n",
    "top_10_rmwm_pwn.drop(columns=[\"Unnamed: 0\"],inplace=True)\n",
    "top_10_rmwm_pwn.to_csv(\"cs/top_10_rmwm_pwn.csv\")"
   ]
  },
  {
   "cell_type": "markdown",
   "metadata": {},
   "source": [
    "#### ODWN"
   ]
  },
  {
   "cell_type": "code",
   "execution_count": null,
   "metadata": {},
   "outputs": [],
   "source": [
    "# RM\n",
    "odwn_top_10_rm = bows.get_top_10(path_odwn, metric=\"cs_rm\", \"nl\", groupby=\"term\")\n",
    "odwn_top_10_rm.to_csv(\"cs/top_10_rm_odwn.csv\")\n",
    "\n",
    "# WM\n",
    "odwn_top_10_wm = bows.get_top_10(path_odwn, metric=\"cs_wm\", \"nl\", groupby=\"term\")\n",
    "odwn_top_10_wm.to_csv(\"cs/top_10_wm_odwn.csv\")\n",
    "\n",
    "# RM+WM\n",
    "odwn_top_10_rmwm = bows.get_top_10(path_odwn, metric=\"cs_rm_wm\", \"nl\", groupby=\"term\")\n",
    "odwn_top_10_rmwm.to_csv(\"cs/top_10_rmwm_odwn.csv\")"
   ]
  },
  {
   "cell_type": "markdown",
   "metadata": {},
   "source": [
    "## Top-10 by lemma (cs_rm)"
   ]
  },
  {
   "cell_type": "markdown",
   "metadata": {},
   "source": [
    "#### Wikidata EN"
   ]
  },
  {
   "cell_type": "code",
   "execution_count": null,
   "metadata": {},
   "outputs": [],
   "source": [
    "# RM\n",
    "top_10_rm_wikidata_en = bows.get_top_10(path_wikidata_en, metric=\"cs_rm\", lang=\"en\")\n",
    "# remove lemmas without hits\n",
    "top_10_rm_wikidata_en.dropna(subset=['hit_id'], inplace=True)\n",
    "# remove entities with no CS score\n",
    "top_10_rm_wikidata_en.drop(top_10_rm_wikidata_en[top_10_rm_wikidata_en['cs_rm'] == 0].index, inplace=True)\n",
    "top_10_rm_wikidata_en.to_csv(\"cs/top_10_by_lemma_rm_wikidata_en.csv\")"
   ]
  },
  {
   "cell_type": "markdown",
   "metadata": {},
   "source": [
    "#### Wikidata NL"
   ]
  },
  {
   "cell_type": "code",
   "execution_count": null,
   "metadata": {},
   "outputs": [],
   "source": [
    "# RM\n",
    "top_10_rm_wikidata_nl = bows.get_top_10(path_wikidata_nl, metric=\"cs_rm\", lang=\"nl\")\n",
    "# remove lemmas without hits\n",
    "top_10_rm_wikidata_nl.dropna(subset=['hit_id'], inplace=True)\n",
    "# remove entities with no CS score\n",
    "top_10_rm_wikidata_nl.drop(top_10_rm_wikidata_nl[top_10_rm_wikidata_nl['cs_rm'] == 0].index, inplace=True)\n",
    "top_10_rm_wikidata_nl.to_csv(\"cs/top_10_by_lemma_rm_wikidata_nl.csv\")"
   ]
  },
  {
   "cell_type": "markdown",
   "metadata": {},
   "source": [
    "#### AAT EN"
   ]
  },
  {
   "cell_type": "code",
   "execution_count": null,
   "metadata": {},
   "outputs": [],
   "source": [
    "# RM\n",
    "top_10_rm_aat_en = bows.get_top_10(path_aat_en, metric=\"cs_rm\", lang=\"en\")\n",
    "# remove lemmas without hits\n",
    "top_10_rm_aat_en.dropna(subset=['hit_id'], inplace=True)\n",
    "# remove entities with no CS score\n",
    "top_10_rm_aat_en.drop(top_10_rm_aat_en[top_10_rm_aat_en['cs_rm'] == 0].index, inplace=True)\n",
    "top_10_rm_aat_en.to_csv(\"cs/top_10_by_lemma_rm_aat_en.csv\")"
   ]
  },
  {
   "cell_type": "markdown",
   "metadata": {},
   "source": [
    "#### AAT NL"
   ]
  },
  {
   "cell_type": "code",
   "execution_count": null,
   "metadata": {},
   "outputs": [],
   "source": [
    "# RM\n",
    "top_10_rm_aat_nl = bows.get_top_10(path_aat_nl, metric=\"cs_rm\", lang=\"nl\")\n",
    "# remove lemmas without hits\n",
    "top_10_rm_aat_nl.dropna(subset=['hit_id'], inplace=True)\n",
    "# remove entities with no CS score\n",
    "top_10_rm_aat_nl.drop(top_10_rm_aat_nl[top_10_rm_aat_nl['cs_rm'] == 0].index, inplace=True)\n",
    "top_10_rm_aat_nl.to_csv(\"cs/top_10_by_lemma_rm_aat_nl.csv\")"
   ]
  },
  {
   "cell_type": "markdown",
   "metadata": {},
   "source": [
    "#### PWN"
   ]
  },
  {
   "cell_type": "code",
   "execution_count": null,
   "metadata": {},
   "outputs": [],
   "source": [
    "# RM\n",
    "top_10_pwn = bows.get_top_10(path_pwn, metric=\"cs_rm\", lang=\"en\")\n",
    "# remove lemmas without hits\n",
    "top_10_pwn.dropna(subset=['hit_id'], inplace=True)\n",
    "# remove entities with no CS score\n",
    "top_10_pwn.drop(top_10_pwn[top_10_pwn['cs_rm'] == 0].index, inplace=True)\n",
    "top_10_pwn.to_csv(\"cs/top_10_by_lemma_pwn.csv\")"
   ]
  },
  {
   "cell_type": "markdown",
   "metadata": {},
   "source": [
    "#### ODWN"
   ]
  },
  {
   "cell_type": "code",
   "execution_count": null,
   "metadata": {},
   "outputs": [],
   "source": [
    "# RM\n",
    "top_10_odwn = bows.get_top_10(path_odwn, metric=\"cs_rm\", lang=\"nl\")\n",
    "# remove lemmas without hits\n",
    "top_10_odwn.dropna(subset=['hit_id'], inplace=True)\n",
    "# remove entities with no CS score\n",
    "top_10_odwn.drop(top_10_odwn[top_10_odwn['cs_rm'] == 0].index, inplace=True)\n",
    "top_10_odwn.to_csv(\"cs/top_10_by_lemma_odwn.csv\")"
   ]
  },
  {
   "cell_type": "markdown",
   "metadata": {},
   "source": [
    "### Checking N entities with CS > 0.5 and CS > 0.8"
   ]
  },
  {
   "cell_type": "code",
   "execution_count": null,
   "metadata": {},
   "outputs": [],
   "source": [
    "print(len(top_10_rm_wikidata_en[top_10_rm_wikidata_en['cs_rm'] >= 0.5]),\\\n",
    "     len(top_10_rm_wikidata_en[top_10_rm_wikidata_en['cs_rm'] >= 0.8]))"
   ]
  },
  {
   "cell_type": "code",
   "execution_count": null,
   "metadata": {},
   "outputs": [],
   "source": [
    "wd_en_05 = top_10_rm_wikidata_en[top_10_rm_wikidata_en['cs_rm'] >= 0.5]"
   ]
  },
  {
   "cell_type": "code",
   "execution_count": null,
   "metadata": {},
   "outputs": [],
   "source": [
    "lemmas = []\n",
    "query_terms = []\n",
    "for group in wd_en_05.groupby('lemma'):\n",
    "    lemmas.append(group[0])\n",
    "    query_terms.extend(list(set(list(group[1][\"term\"]))))\n",
    "print(f\"lemmas: {len(lemmas)}, query terms: {len(query_terms)}\")"
   ]
  },
  {
   "cell_type": "code",
   "execution_count": null,
   "metadata": {},
   "outputs": [],
   "source": []
  }
 ],
 "metadata": {
  "kernelspec": {
   "display_name": "Python 3 (ipykernel)",
   "language": "python",
   "name": "python3"
  },
  "language_info": {
   "codemirror_mode": {
    "name": "ipython",
    "version": 3
   },
   "file_extension": ".py",
   "mimetype": "text/x-python",
   "name": "python",
   "nbconvert_exporter": "python",
   "pygments_lexer": "ipython3",
   "version": "3.8.5"
  }
 },
 "nbformat": 4,
 "nbformat_minor": 4
}
