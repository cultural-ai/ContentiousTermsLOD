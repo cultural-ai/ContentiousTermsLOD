{
 "cells": [
  {
   "cell_type": "code",
   "execution_count": 1,
   "metadata": {},
   "outputs": [],
   "source": [
    "import pandas as pd\n",
    "import csv\n",
    "import json"
   ]
  },
  {
   "cell_type": "code",
   "execution_count": 44,
   "metadata": {},
   "outputs": [],
   "source": [
    "def get_top_10_overlap(resource:str, lang:str):\n",
    "    \n",
    "    with open(f\"cs/overlap_top_10_{resource}_{lang}.csv\",'w') as csv_file:\n",
    "        writer = csv.writer(csv_file)\n",
    "        header = [\"term\",\"overlap\"]\n",
    "        writer.writerow(header)\n",
    "        \n",
    "        if resource == \"wikidata\" or resource == \"aat\":\n",
    "            rm = pd.read_csv(f\"/Users/anesterov/reps/LODlit/cs/top_10_rm_{resource}_{lang}.csv\")\n",
    "            rm.dropna(subset=[\"hit_id\"],inplace=True)\n",
    "            wm = pd.read_csv(f\"/Users/anesterov/reps/LODlit/cs/top_10_wm_{resource}_{lang}.csv\")\n",
    "            wm.dropna(subset=[\"hit_id\"],inplace=True)\n",
    "            \n",
    "        if resource == \"pwn\" or resource == \"odwn\":\n",
    "            rm = pd.read_csv(f\"/Users/anesterov/reps/LODlit/cs/top_10_rm_{resource}.csv\")\n",
    "            rm.dropna(subset=[\"hit_id\"],inplace=True)\n",
    "            wm = pd.read_csv(f\"/Users/anesterov/reps/LODlit/cs/top_10_wm_{resource}.csv\")\n",
    "            wm.dropna(subset=[\"hit_id\"],inplace=True)\n",
    "            \n",
    "        for group in rm.groupby(\"term\"):\n",
    "            hits_rm = set(group[1][\"hit_id\"])\n",
    "            hits_wm = set(wm.groupby(\"term\").get_group(group[0])[\"hit_id\"])\n",
    "            overlap_share = len(hits_rm.intersection(hits_wm)) / len(set(group[1][\"hit_id\"]))\n",
    "            \n",
    "            data = [group[0], overlap_share]\n",
    "            writer.writerow(data)"
   ]
  },
  {
   "cell_type": "code",
   "execution_count": 50,
   "metadata": {},
   "outputs": [],
   "source": [
    "get_top_10_overlap(\"pwn\",\"en\")"
   ]
  },
  {
   "cell_type": "markdown",
   "metadata": {},
   "source": [
    "### Comparing overlap of Top-10 by RM and WM per term per resource per lang"
   ]
  },
  {
   "cell_type": "code",
   "execution_count": 3,
   "metadata": {},
   "outputs": [],
   "source": [
    "# term, overlap, wd_en, aat_en, pwn"
   ]
  },
  {
   "cell_type": "code",
   "execution_count": 7,
   "metadata": {},
   "outputs": [],
   "source": [
    "# reading files\n",
    "wd_en_overlap = pd.read_csv(\"/Users/anesterov/reps/LODlit/cs/overlap_top_10_wikidata_en.csv\")\n",
    "aat_en_overlap = pd.read_csv(\"/Users/anesterov/reps/LODlit/cs/overlap_top_10_aat_en.csv\")\n",
    "pwn_overlap = pd.read_csv(\"/Users/anesterov/reps/LODlit/cs/overlap_top_10_pwn_en.csv\")"
   ]
  },
  {
   "cell_type": "code",
   "execution_count": 16,
   "metadata": {},
   "outputs": [],
   "source": [
    "wd_aat = wd_en_overlap.join(aat_en_overlap.set_index('term'), on=\"term\", lsuffix=\"_wd\", rsuffix=\"_aat\")"
   ]
  },
  {
   "cell_type": "code",
   "execution_count": 20,
   "metadata": {},
   "outputs": [],
   "source": [
    "pwn_overlap.rename(columns={\"overlap\": \"pwn_overlap\"}, inplace=True)"
   ]
  },
  {
   "cell_type": "code",
   "execution_count": 21,
   "metadata": {},
   "outputs": [],
   "source": [
    "all_resources = wd_aat.join(pwn_overlap.set_index('term'), on='term')"
   ]
  },
  {
   "cell_type": "code",
   "execution_count": 22,
   "metadata": {},
   "outputs": [
    {
     "data": {
      "text/html": [
       "<div>\n",
       "<style scoped>\n",
       "    .dataframe tbody tr th:only-of-type {\n",
       "        vertical-align: middle;\n",
       "    }\n",
       "\n",
       "    .dataframe tbody tr th {\n",
       "        vertical-align: top;\n",
       "    }\n",
       "\n",
       "    .dataframe thead th {\n",
       "        text-align: right;\n",
       "    }\n",
       "</style>\n",
       "<table border=\"1\" class=\"dataframe\">\n",
       "  <thead>\n",
       "    <tr style=\"text-align: right;\">\n",
       "      <th></th>\n",
       "      <th>term</th>\n",
       "      <th>overlap_wd</th>\n",
       "      <th>overlap_aat</th>\n",
       "      <th>pwn_overlap</th>\n",
       "    </tr>\n",
       "  </thead>\n",
       "  <tbody>\n",
       "    <tr>\n",
       "      <th>0</th>\n",
       "      <td>aboriginal</td>\n",
       "      <td>0.2</td>\n",
       "      <td>0.5</td>\n",
       "      <td>1.0</td>\n",
       "    </tr>\n",
       "    <tr>\n",
       "      <th>1</th>\n",
       "      <td>aboriginals</td>\n",
       "      <td>0.7</td>\n",
       "      <td>1.0</td>\n",
       "      <td>NaN</td>\n",
       "    </tr>\n",
       "    <tr>\n",
       "      <th>2</th>\n",
       "      <td>allochtoon</td>\n",
       "      <td>1.0</td>\n",
       "      <td>NaN</td>\n",
       "      <td>NaN</td>\n",
       "    </tr>\n",
       "    <tr>\n",
       "      <th>3</th>\n",
       "      <td>baboo</td>\n",
       "      <td>0.6</td>\n",
       "      <td>NaN</td>\n",
       "      <td>1.0</td>\n",
       "    </tr>\n",
       "    <tr>\n",
       "      <th>4</th>\n",
       "      <td>barbarian</td>\n",
       "      <td>0.5</td>\n",
       "      <td>1.0</td>\n",
       "      <td>1.0</td>\n",
       "    </tr>\n",
       "    <tr>\n",
       "      <th>...</th>\n",
       "      <td>...</td>\n",
       "      <td>...</td>\n",
       "      <td>...</td>\n",
       "      <td>...</td>\n",
       "    </tr>\n",
       "    <tr>\n",
       "      <th>131</th>\n",
       "      <td>westerns</td>\n",
       "      <td>0.6</td>\n",
       "      <td>1.0</td>\n",
       "      <td>NaN</td>\n",
       "    </tr>\n",
       "    <tr>\n",
       "      <th>132</th>\n",
       "      <td>white</td>\n",
       "      <td>0.2</td>\n",
       "      <td>0.2</td>\n",
       "      <td>0.5</td>\n",
       "    </tr>\n",
       "    <tr>\n",
       "      <th>133</th>\n",
       "      <td>whiter</td>\n",
       "      <td>0.9</td>\n",
       "      <td>1.0</td>\n",
       "      <td>1.0</td>\n",
       "    </tr>\n",
       "    <tr>\n",
       "      <th>134</th>\n",
       "      <td>whites</td>\n",
       "      <td>0.5</td>\n",
       "      <td>1.0</td>\n",
       "      <td>1.0</td>\n",
       "    </tr>\n",
       "    <tr>\n",
       "      <th>135</th>\n",
       "      <td>whitest</td>\n",
       "      <td>1.0</td>\n",
       "      <td>NaN</td>\n",
       "      <td>NaN</td>\n",
       "    </tr>\n",
       "  </tbody>\n",
       "</table>\n",
       "<p>136 rows × 4 columns</p>\n",
       "</div>"
      ],
      "text/plain": [
       "            term  overlap_wd  overlap_aat  pwn_overlap\n",
       "0     aboriginal         0.2          0.5          1.0\n",
       "1    aboriginals         0.7          1.0          NaN\n",
       "2     allochtoon         1.0          NaN          NaN\n",
       "3          baboo         0.6          NaN          1.0\n",
       "4      barbarian         0.5          1.0          1.0\n",
       "..           ...         ...          ...          ...\n",
       "131     westerns         0.6          1.0          NaN\n",
       "132        white         0.2          0.2          0.5\n",
       "133       whiter         0.9          1.0          1.0\n",
       "134       whites         0.5          1.0          1.0\n",
       "135      whitest         1.0          NaN          NaN\n",
       "\n",
       "[136 rows x 4 columns]"
      ]
     },
     "execution_count": 22,
     "metadata": {},
     "output_type": "execute_result"
    }
   ],
   "source": [
    "all_resources"
   ]
  },
  {
   "cell_type": "code",
   "execution_count": 23,
   "metadata": {},
   "outputs": [],
   "source": [
    "all_resources.to_csv(\"overlap_by_term_en.csv\")"
   ]
  },
  {
   "cell_type": "code",
   "execution_count": 24,
   "metadata": {},
   "outputs": [],
   "source": [
    "# NL\n",
    "# reading files\n",
    "wd_nl_overlap = pd.read_csv(\"/Users/anesterov/reps/LODlit/cs/overlap_top_10_wikidata_nl.csv\")\n",
    "aat_nl_overlap = pd.read_csv(\"/Users/anesterov/reps/LODlit/cs/overlap_top_10_aat_nl.csv\")\n",
    "odwn_overlap = pd.read_csv(\"/Users/anesterov/reps/LODlit/cs/overlap_top_10_odwn_nl.csv\")"
   ]
  },
  {
   "cell_type": "code",
   "execution_count": 26,
   "metadata": {},
   "outputs": [],
   "source": [
    "wd_aat_nl = wd_nl_overlap.join(aat_nl_overlap.set_index('term'), on=\"term\", lsuffix=\"_wd\", rsuffix=\"_aat\")"
   ]
  },
  {
   "cell_type": "code",
   "execution_count": 28,
   "metadata": {},
   "outputs": [],
   "source": [
    "odwn_overlap.rename(columns={\"overlap\": \"odwn_overlap\"}, inplace=True)"
   ]
  },
  {
   "cell_type": "code",
   "execution_count": 29,
   "metadata": {},
   "outputs": [],
   "source": [
    "all_overlap_nl = wd_aat_nl.join(odwn_overlap.set_index('term'), on='term')"
   ]
  },
  {
   "cell_type": "code",
   "execution_count": 31,
   "metadata": {},
   "outputs": [],
   "source": [
    "all_overlap_nl.to_csv(\"overlap_by_term_nl.csv\")"
   ]
  },
  {
   "cell_type": "markdown",
   "metadata": {},
   "source": [
    "### Getting additional entities from WM ranking"
   ]
  },
  {
   "cell_type": "code",
   "execution_count": 26,
   "metadata": {},
   "outputs": [],
   "source": [
    "def get_rm_wm_difference(resource:str, lang:str):\n",
    "    '''\n",
    "    Getting entities from Top-10 based on WM text CS similarity\n",
    "    (the difference between Top-10 based on related matches and WM)\n",
    "    resource: str, the name of the resource, \"wikidata\", \"aat\", \"pwn\", or \"odwn\"\n",
    "    lang: str, \"en\" or \"nl\"\n",
    "    '''\n",
    "    new_wm_entities = pd.DataFrame(columns=[\"term\",\"hit_id\"])\n",
    "    \n",
    "    if resource == \"wikidata\" or resource == \"aat\":\n",
    "        rm = pd.read_csv(f\"/Users/anesterov/reps/LODlit/cs/top_10_rm_{resource}_{lang}.csv\")\n",
    "        rm.dropna(subset=[\"hit_id\"],inplace=True)\n",
    "        wm = pd.read_csv(f\"/Users/anesterov/reps/LODlit/cs/top_10_wm_{resource}_{lang}.csv\")\n",
    "        wm.dropna(subset=[\"hit_id\"],inplace=True)\n",
    "\n",
    "    if resource == \"pwn\" or resource == \"odwn\":\n",
    "        rm = pd.read_csv(f\"/Users/anesterov/reps/LODlit/cs/top_10_rm_{resource}.csv\")\n",
    "        rm.dropna(subset=[\"hit_id\"],inplace=True)\n",
    "        wm = pd.read_csv(f\"/Users/anesterov/reps/LODlit/cs/top_10_wm_{resource}.csv\")\n",
    "        wm.dropna(subset=[\"hit_id\"],inplace=True)\n",
    "\n",
    "    for group in rm.groupby(\"term\"):\n",
    "        hits_rm = set(group[1][\"hit_id\"])\n",
    "        hits_wm = set(wm.groupby(\"term\").get_group(group[0])[\"hit_id\"])\n",
    "        # getting the difference in Top-10\n",
    "        diff = list(hits_wm.difference(hits_rm))\n",
    "        for entity_id in diff:\n",
    "            data = (group[0], entity_id)\n",
    "            new_wm_entities.loc[len(new_wm_entities)] = data\n",
    "            \n",
    "    return new_wm_entities"
   ]
  },
  {
   "cell_type": "code",
   "execution_count": 27,
   "metadata": {},
   "outputs": [],
   "source": [
    "wm_additional_wd_en = get_rm_wm_difference(\"wikidata\",\"en\")\n",
    "wm_additional_wd_en.to_csv(\"cs/wm_additional_wd_en.csv\")"
   ]
  },
  {
   "cell_type": "code",
   "execution_count": 28,
   "metadata": {},
   "outputs": [],
   "source": [
    "wm_additional_wd_nl = get_rm_wm_difference(\"wikidata\",\"nl\")\n",
    "wm_additional_wd_nl.to_csv(\"cs/wm_additional_wd_nl.csv\")"
   ]
  },
  {
   "cell_type": "code",
   "execution_count": 29,
   "metadata": {},
   "outputs": [],
   "source": [
    "wm_additional_aat_en = get_rm_wm_difference(\"aat\",\"en\")\n",
    "wm_additional_aat_en.to_csv(\"cs/wm_additional_aat_en.csv\")"
   ]
  },
  {
   "cell_type": "code",
   "execution_count": 30,
   "metadata": {},
   "outputs": [],
   "source": [
    "wm_additional_aat_nl = get_rm_wm_difference(\"aat\",\"nl\")\n",
    "wm_additional_aat_nl.to_csv(\"cs/wm_additional_aat_nl.csv\")"
   ]
  },
  {
   "cell_type": "code",
   "execution_count": 31,
   "metadata": {},
   "outputs": [],
   "source": [
    "wm_additional_pwn = get_rm_wm_difference(\"pwn\",\"en\")\n",
    "wm_additional_pwn.to_csv(\"cs/wm_additional_pwn.csv\")"
   ]
  },
  {
   "cell_type": "code",
   "execution_count": 32,
   "metadata": {},
   "outputs": [],
   "source": [
    "wm_additional_odwn = get_rm_wm_difference(\"odwn\",\"nl\")\n",
    "wm_additional_odwn.to_csv(\"cs/wm_additional_odwn.csv\")"
   ]
  },
  {
   "cell_type": "code",
   "execution_count": null,
   "metadata": {},
   "outputs": [],
   "source": []
  }
 ],
 "metadata": {
  "kernelspec": {
   "display_name": "Python 3",
   "language": "python",
   "name": "python3"
  },
  "language_info": {
   "codemirror_mode": {
    "name": "ipython",
    "version": 3
   },
   "file_extension": ".py",
   "mimetype": "text/x-python",
   "name": "python",
   "nbconvert_exporter": "python",
   "pygments_lexer": "ipython3",
   "version": "3.8.5"
  }
 },
 "nbformat": 4,
 "nbformat_minor": 4
}
