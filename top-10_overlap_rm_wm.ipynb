{
 "cells": [
  {
   "cell_type": "code",
   "execution_count": null,
   "metadata": {},
   "outputs": [],
   "source": [
    "import pandas as pd\n",
    "import csv\n",
    "import json"
   ]
  },
  {
   "cell_type": "code",
   "execution_count": null,
   "metadata": {},
   "outputs": [],
   "source": [
    "def get_top_10_overlap(resource:str, lang:str):\n",
    "    \n",
    "    with open(f\"cs/overlap_top_10_{resource}_{lang}.csv\",'w') as csv_file:\n",
    "        writer = csv.writer(csv_file)\n",
    "        header = [\"term\",\"overlap\"]\n",
    "        writer.writerow(header)\n",
    "        \n",
    "        if resource == \"wikidata\" or resource == \"aat\":\n",
    "            rm = pd.read_csv(f\"/Users/anesterov/reps/LODlit/cs/top_10_rm_{resource}_{lang}.csv\")\n",
    "            rm.dropna(subset=[\"hit_id\"],inplace=True)\n",
    "            wm = pd.read_csv(f\"/Users/anesterov/reps/LODlit/cs/top_10_wm_{resource}_{lang}.csv\")\n",
    "            wm.dropna(subset=[\"hit_id\"],inplace=True)\n",
    "            \n",
    "        if resource == \"pwn\" or resource == \"odwn\":\n",
    "            rm = pd.read_csv(f\"/Users/anesterov/reps/LODlit/cs/top_10_rm_{resource}.csv\")\n",
    "            rm.dropna(subset=[\"hit_id\"],inplace=True)\n",
    "            wm = pd.read_csv(f\"/Users/anesterov/reps/LODlit/cs/top_10_wm_{resource}.csv\")\n",
    "            wm.dropna(subset=[\"hit_id\"],inplace=True)\n",
    "            \n",
    "        for group in rm.groupby(\"term\"):\n",
    "            hits_rm = set(group[1][\"hit_id\"])\n",
    "            hits_wm = set(wm.groupby(\"term\").get_group(group[0])[\"hit_id\"])\n",
    "            overlap_share = len(hits_rm.intersection(hits_wm)) / len(set(group[1][\"hit_id\"]))\n",
    "            \n",
    "            data = [group[0], overlap_share]\n",
    "            writer.writerow(data)"
   ]
  },
  {
   "cell_type": "code",
   "execution_count": null,
   "metadata": {},
   "outputs": [],
   "source": [
    "get_top_10_overlap(\"pwn\",\"en\")"
   ]
  },
  {
   "cell_type": "markdown",
   "metadata": {},
   "source": [
    "### Comparing overlap of Top-10 by RM and WM per term per resource per lang"
   ]
  },
  {
   "cell_type": "markdown",
   "metadata": {},
   "source": [
    "### EN"
   ]
  },
  {
   "cell_type": "code",
   "execution_count": null,
   "metadata": {},
   "outputs": [],
   "source": [
    "# reading files\n",
    "wd_en_overlap = pd.read_csv(\"/Users/anesterov/reps/LODlit/cs/overlap_top_10_wikidata_en.csv\")\n",
    "aat_en_overlap = pd.read_csv(\"/Users/anesterov/reps/LODlit/cs/overlap_top_10_aat_en.csv\")\n",
    "pwn_overlap = pd.read_csv(\"/Users/anesterov/reps/LODlit/cs/overlap_top_10_pwn_en.csv\")"
   ]
  },
  {
   "cell_type": "code",
   "execution_count": null,
   "metadata": {},
   "outputs": [],
   "source": [
    "wd_aat = wd_en_overlap.join(aat_en_overlap.set_index('term'), on=\"term\", lsuffix=\"_wd\", rsuffix=\"_aat\")"
   ]
  },
  {
   "cell_type": "code",
   "execution_count": null,
   "metadata": {},
   "outputs": [],
   "source": [
    "pwn_overlap.rename(columns={\"overlap\": \"pwn_overlap\"}, inplace=True)"
   ]
  },
  {
   "cell_type": "code",
   "execution_count": null,
   "metadata": {},
   "outputs": [],
   "source": [
    "all_resources = wd_aat.join(pwn_overlap.set_index('term'), on='term')"
   ]
  },
  {
   "cell_type": "code",
   "execution_count": null,
   "metadata": {},
   "outputs": [],
   "source": [
    "all_resources.fillna(0,inplace=True)"
   ]
  },
  {
   "cell_type": "code",
   "execution_count": null,
   "metadata": {},
   "outputs": [],
   "source": [
    "all_resources.to_csv(\"overlap_by_term_en.csv\")"
   ]
  },
  {
   "cell_type": "markdown",
   "metadata": {},
   "source": [
    "### NL"
   ]
  },
  {
   "cell_type": "code",
   "execution_count": null,
   "metadata": {},
   "outputs": [],
   "source": [
    "# reading files\n",
    "wd_nl_overlap = pd.read_csv(\"/Users/anesterov/reps/LODlit/cs/overlap_top_10_wikidata_nl.csv\")\n",
    "aat_nl_overlap = pd.read_csv(\"/Users/anesterov/reps/LODlit/cs/overlap_top_10_aat_nl.csv\")\n",
    "odwn_overlap = pd.read_csv(\"/Users/anesterov/reps/LODlit/cs/overlap_top_10_odwn_nl.csv\")"
   ]
  },
  {
   "cell_type": "code",
   "execution_count": null,
   "metadata": {},
   "outputs": [],
   "source": [
    "wd_aat_nl = wd_nl_overlap.join(aat_nl_overlap.set_index('term'), on=\"term\", lsuffix=\"_wd\", rsuffix=\"_aat\")"
   ]
  },
  {
   "cell_type": "code",
   "execution_count": null,
   "metadata": {},
   "outputs": [],
   "source": [
    "odwn_overlap.rename(columns={\"overlap\": \"odwn_overlap\"}, inplace=True)"
   ]
  },
  {
   "cell_type": "code",
   "execution_count": null,
   "metadata": {},
   "outputs": [],
   "source": [
    "all_overlap_nl = wd_aat_nl.join(odwn_overlap.set_index('term'), on='term')"
   ]
  },
  {
   "cell_type": "code",
   "execution_count": null,
   "metadata": {},
   "outputs": [],
   "source": [
    "all_overlap_nl.to_csv(\"overlap_by_term_nl.csv\")"
   ]
  },
  {
   "cell_type": "markdown",
   "metadata": {},
   "source": [
    "### Getting additional entities from WM ranking"
   ]
  },
  {
   "cell_type": "code",
   "execution_count": null,
   "metadata": {},
   "outputs": [],
   "source": [
    "def get_rm_wm_difference(resource:str, lang:str):\n",
    "    '''\n",
    "    Getting entities from Top-10 based on WM text CS similarity\n",
    "    (the difference between Top-10 based on related matches and WM)\n",
    "    resource: str, the name of the resource, \"wikidata\", \"aat\", \"pwn\", or \"odwn\"\n",
    "    lang: str, \"en\" or \"nl\"\n",
    "    '''\n",
    "    new_wm_entities = pd.DataFrame(columns=[\"term\",\"hit_id\"])\n",
    "    \n",
    "    if resource == \"wikidata\" or resource == \"aat\":\n",
    "        rm = pd.read_csv(f\"/Users/anesterov/reps/LODlit/cs/top_10_rm_{resource}_{lang}.csv\")\n",
    "        rm.dropna(subset=[\"hit_id\"],inplace=True)\n",
    "        wm = pd.read_csv(f\"/Users/anesterov/reps/LODlit/cs/top_10_wm_{resource}_{lang}.csv\")\n",
    "        wm.dropna(subset=[\"hit_id\"],inplace=True)\n",
    "\n",
    "    if resource == \"pwn\" or resource == \"odwn\":\n",
    "        rm = pd.read_csv(f\"/Users/anesterov/reps/LODlit/cs/top_10_rm_{resource}.csv\")\n",
    "        rm.dropna(subset=[\"hit_id\"],inplace=True)\n",
    "        wm = pd.read_csv(f\"/Users/anesterov/reps/LODlit/cs/top_10_wm_{resource}.csv\")\n",
    "        wm.dropna(subset=[\"hit_id\"],inplace=True)\n",
    "\n",
    "    for group in rm.groupby(\"term\"):\n",
    "        hits_rm = set(group[1][\"hit_id\"])\n",
    "        hits_wm = set(wm.groupby(\"term\").get_group(group[0])[\"hit_id\"])\n",
    "        # getting the difference in Top-10\n",
    "        diff = list(hits_wm.difference(hits_rm))\n",
    "        for entity_id in diff:\n",
    "            data = (group[0], entity_id)\n",
    "            new_wm_entities.loc[len(new_wm_entities)] = data\n",
    "            \n",
    "    return new_wm_entities"
   ]
  },
  {
   "cell_type": "code",
   "execution_count": null,
   "metadata": {},
   "outputs": [],
   "source": [
    "wm_additional_wd_en = get_rm_wm_difference(\"wikidata\",\"en\")\n",
    "wm_additional_wd_en.to_csv(\"cs/wm_additional_wd_en.csv\")"
   ]
  },
  {
   "cell_type": "code",
   "execution_count": null,
   "metadata": {},
   "outputs": [],
   "source": [
    "wm_additional_wd_nl = get_rm_wm_difference(\"wikidata\",\"nl\")\n",
    "wm_additional_wd_nl.to_csv(\"cs/wm_additional_wd_nl.csv\")"
   ]
  },
  {
   "cell_type": "code",
   "execution_count": null,
   "metadata": {},
   "outputs": [],
   "source": [
    "wm_additional_aat_en = get_rm_wm_difference(\"aat\",\"en\")\n",
    "wm_additional_aat_en.to_csv(\"cs/wm_additional_aat_en.csv\")"
   ]
  },
  {
   "cell_type": "code",
   "execution_count": null,
   "metadata": {},
   "outputs": [],
   "source": [
    "wm_additional_aat_nl = get_rm_wm_difference(\"aat\",\"nl\")\n",
    "wm_additional_aat_nl.to_csv(\"cs/wm_additional_aat_nl.csv\")"
   ]
  },
  {
   "cell_type": "code",
   "execution_count": null,
   "metadata": {},
   "outputs": [],
   "source": [
    "wm_additional_pwn = get_rm_wm_difference(\"pwn\",\"en\")\n",
    "wm_additional_pwn.to_csv(\"cs/wm_additional_pwn.csv\")"
   ]
  },
  {
   "cell_type": "code",
   "execution_count": null,
   "metadata": {},
   "outputs": [],
   "source": [
    "wm_additional_odwn = get_rm_wm_difference(\"odwn\",\"nl\")\n",
    "wm_additional_odwn.to_csv(\"cs/wm_additional_odwn.csv\")"
   ]
  },
  {
   "cell_type": "code",
   "execution_count": null,
   "metadata": {},
   "outputs": [],
   "source": []
  }
 ],
 "metadata": {
  "kernelspec": {
   "display_name": "Python 3",
   "language": "python",
   "name": "python3"
  },
  "language_info": {
   "codemirror_mode": {
    "name": "ipython",
    "version": 3
   },
   "file_extension": ".py",
   "mimetype": "text/x-python",
   "name": "python",
   "nbconvert_exporter": "python",
   "pygments_lexer": "ipython3",
   "version": "3.8.5"
  }
 },
 "nbformat": 4,
 "nbformat_minor": 4
}
