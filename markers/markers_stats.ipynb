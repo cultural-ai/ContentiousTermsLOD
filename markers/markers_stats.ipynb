{
 "cells": [
  {
   "cell_type": "code",
   "execution_count": null,
   "metadata": {},
   "outputs": [],
   "source": [
    "# N hits with implicit markers by sets\n",
    "# N hits with implicit markers VS N all hits by sets (take only Set 3)\n",
    "# Unique resources with implicit markers by sets"
   ]
  },
  {
   "cell_type": "code",
   "execution_count": null,
   "metadata": {},
   "outputs": [],
   "source": [
    "import json\n",
    "import csv\n",
    "import pandas as pd"
   ]
  },
  {
   "cell_type": "code",
   "execution_count": null,
   "metadata": {},
   "outputs": [],
   "source": [
    "# import set3\n",
    "set3 = pd.read_csv(\"LODlit/rm/rm_entities_all.csv\")"
   ]
  },
  {
   "cell_type": "code",
   "execution_count": null,
   "metadata": {},
   "outputs": [],
   "source": [
    "# import implicit markers\n",
    "implicit_all = pd.read_csv(\"LODlit/markers/implicit/implicit_all.csv\")"
   ]
  },
  {
   "cell_type": "code",
   "execution_count": null,
   "metadata": {},
   "outputs": [],
   "source": [
    "# import explicit markers\n",
    "explicit_all = pd.read_csv(\"LODlit/markers/explicit/explicit_all.csv\")"
   ]
  },
  {
   "cell_type": "code",
   "execution_count": null,
   "metadata": {},
   "outputs": [],
   "source": [
    "set_3 = set3[set3[\"resource\"]==\"pwn\"][set3[\"lang\"]==\"en\"]"
   ]
  },
  {
   "cell_type": "code",
   "execution_count": null,
   "metadata": {},
   "outputs": [],
   "source": [
    "len(set(set3[\"entity_id\"]))"
   ]
  },
  {
   "cell_type": "code",
   "execution_count": null,
   "metadata": {},
   "outputs": [],
   "source": [
    "len(set(set3[set3[\"resource\"]==\"aat\"][\"entity_id\"]))"
   ]
  },
  {
   "cell_type": "code",
   "execution_count": null,
   "metadata": {},
   "outputs": [],
   "source": [
    "len(set(explicit_all[explicit_all[\"resource\"]==\"odwn\"][explicit_all[\"level\"]==3][\"entity_id\"]))"
   ]
  },
  {
   "cell_type": "code",
   "execution_count": null,
   "metadata": {},
   "outputs": [],
   "source": [
    "len(set(explicit_all[explicit_all[\"resource\"]==\"odwn\"][\"entity_id\"]))"
   ]
  },
  {
   "cell_type": "code",
   "execution_count": null,
   "metadata": {},
   "outputs": [],
   "source": [
    "len(set(explicit_all[\"entity_id\"]))"
   ]
  },
  {
   "cell_type": "code",
   "execution_count": null,
   "metadata": {},
   "outputs": [],
   "source": [
    "len(set(implicit_all[implicit_all[\"lang\"]==\"nl\"][\"entity_id\"]))"
   ]
  },
  {
   "cell_type": "code",
   "execution_count": null,
   "metadata": {},
   "outputs": [],
   "source": [
    "len(set_3)"
   ]
  },
  {
   "cell_type": "code",
   "execution_count": null,
   "metadata": {},
   "outputs": [],
   "source": [
    "len(set3[set3[\"resource\"]==\"aat\"])"
   ]
  },
  {
   "cell_type": "code",
   "execution_count": null,
   "metadata": {},
   "outputs": [],
   "source": [
    "dataset = \"odwn\""
   ]
  },
  {
   "cell_type": "code",
   "execution_count": null,
   "metadata": {},
   "outputs": [],
   "source": [
    "implicit_unique_by_dataset = {\"aat\":{\"set_1\":[],\"set_2\":[],\"set_3\":[]},\n",
    "                    \"wikidata\":{\"set_1\":[],\"set_2\":[],\"set_3\":[]},\n",
    "                    \"pwn\":{\"set_1\":[],\"set_2\":[],\"set_3\":[]}}"
   ]
  },
  {
   "cell_type": "code",
   "execution_count": null,
   "metadata": {},
   "outputs": [],
   "source": [
    "by_dataset = implicit_all[implicit_all[\"resource\"]==dataset]\n",
    "for level in by_dataset.groupby(\"level\"):\n",
    "    implicit_unique_by_dataset[dataset][f\"set_{level[0]}\"] = list(set(level[1][\"entity_id\"]))"
   ]
  },
  {
   "cell_type": "code",
   "execution_count": null,
   "metadata": {},
   "outputs": [],
   "source": [
    "for resource, sets in implicit_unique_by_dataset.items():\n",
    "    by_resource = []\n",
    "    for v in sets.values():\n",
    "        by_resource.extend(v)\n",
    "    print(resource, len(set(by_resource)))"
   ]
  },
  {
   "cell_type": "code",
   "execution_count": null,
   "metadata": {},
   "outputs": [],
   "source": [
    "# export\n",
    "with open('unique_resources_by_sets_implicit.json', 'w') as jf:\n",
    "    json.dump(implicit_unique_by_dataset, jf)"
   ]
  },
  {
   "cell_type": "code",
   "execution_count": null,
   "metadata": {},
   "outputs": [],
   "source": [
    "explicit_unique_by_dataset = {\"aat\":{\"set_1\":[],\"set_2\":[],\"set_3\":[]},\n",
    "                    \"wikidata\":{\"set_1\":[],\"set_2\":[],\"set_3\":[]},\n",
    "                    \"pwn\":{\"set_1\":[],\"set_2\":[],\"set_3\":[]},\n",
    "                    \"odwn\":{\"set_1\":[],\"set_2\":[],\"set_3\":[]}}"
   ]
  },
  {
   "cell_type": "code",
   "execution_count": null,
   "metadata": {},
   "outputs": [],
   "source": [
    "by_dataset = explicit_all[explicit_all[\"resource\"]==dataset]\n",
    "for level in by_dataset.groupby(\"level\"):\n",
    "    explicit_unique_by_dataset[dataset][f\"set_{level[0]}\"] = list(set(level[1][\"entity_id\"]))"
   ]
  },
  {
   "cell_type": "code",
   "execution_count": null,
   "metadata": {},
   "outputs": [],
   "source": [
    "for resource, sets in explicit_unique_by_dataset.items():\n",
    "    by_resource = []\n",
    "    for v in sets.values():\n",
    "        by_resource.extend(v)\n",
    "    print(resource, len(set(by_resource)))"
   ]
  },
  {
   "cell_type": "code",
   "execution_count": null,
   "metadata": {},
   "outputs": [],
   "source": [
    "# export\n",
    "with open('unique_resources_by_sets_explicit.json', 'w') as jf:\n",
    "    json.dump(explicit_unique_by_dataset, jf)"
   ]
  },
  {
   "cell_type": "markdown",
   "metadata": {},
   "source": [
    "#### Which terms were not marked?"
   ]
  },
  {
   "cell_type": "code",
   "execution_count": null,
   "metadata": {},
   "outputs": [],
   "source": [
    "# import query terms\n",
    "with open('LODlit/query_terms.json','r') as jf:\n",
    "        query_terms = json.load(jf)"
   ]
  },
  {
   "cell_type": "code",
   "execution_count": null,
   "metadata": {},
   "outputs": [],
   "source": [
    "en_terms = query_terms[\"en\"].keys()\n",
    "nl_terms = query_terms[\"nl\"].keys()"
   ]
  },
  {
   "cell_type": "code",
   "execution_count": null,
   "metadata": {},
   "outputs": [],
   "source": [
    "dataset = \"odwn\"\n",
    "lang = \"nl\""
   ]
  },
  {
   "cell_type": "code",
   "execution_count": null,
   "metadata": {},
   "outputs": [],
   "source": [
    "implicit_terms = set(implicit_all[implicit_all[\"resource\"]==dataset][implicit_all[\"lang\"]==lang][\"lemma\"])\n",
    "explicit_terms = set(explicit_all[explicit_all[\"resource\"]==dataset][explicit_all[\"lang\"]==lang][\"lemma\"])"
   ]
  },
  {
   "cell_type": "code",
   "execution_count": null,
   "metadata": {
    "scrolled": true
   },
   "outputs": [],
   "source": [
    "# wikidata EN\n",
    "wd_en = []\n",
    "for term in en_terms:\n",
    "    if term not in implicit_terms and term not in explicit_terms:\n",
    "        wd_en.append(term)"
   ]
  },
  {
   "cell_type": "code",
   "execution_count": null,
   "metadata": {},
   "outputs": [],
   "source": [
    "# wikidata NL\n",
    "wd_nl = []\n",
    "for term in nl_terms:\n",
    "    if term not in implicit_terms and term not in explicit_terms:\n",
    "        wd_nl.append(term)"
   ]
  },
  {
   "cell_type": "code",
   "execution_count": null,
   "metadata": {},
   "outputs": [],
   "source": [
    "# aat EN\n",
    "aat_en = []\n",
    "for term in en_terms:\n",
    "    if term not in implicit_terms and term not in explicit_terms:\n",
    "        aat_en.append(term)"
   ]
  },
  {
   "cell_type": "code",
   "execution_count": null,
   "metadata": {},
   "outputs": [],
   "source": [
    "# aat NL\n",
    "aat_nl = []\n",
    "for term in nl_terms:\n",
    "    if term not in implicit_terms and term not in explicit_terms:\n",
    "        aat_nl.append(term)"
   ]
  },
  {
   "cell_type": "code",
   "execution_count": null,
   "metadata": {},
   "outputs": [],
   "source": [
    "# pwn\n",
    "pwn = []\n",
    "for term in en_terms:\n",
    "    if term not in implicit_terms and term not in explicit_terms:\n",
    "        pwn.append(term)"
   ]
  },
  {
   "cell_type": "code",
   "execution_count": null,
   "metadata": {},
   "outputs": [],
   "source": [
    "# odwn\n",
    "odwn = []\n",
    "for term in nl_terms:\n",
    "    if term not in implicit_terms and term not in explicit_terms:\n",
    "        odwn.append(term)"
   ]
  },
  {
   "cell_type": "markdown",
   "metadata": {},
   "source": [
    "#### Examples of terms marked in one dataset but not in others"
   ]
  },
  {
   "cell_type": "code",
   "execution_count": null,
   "metadata": {},
   "outputs": [],
   "source": [
    "for term in nl_terms:\n",
    "    if term not in wd_nl and term in aat_nl and term in odwn:\n",
    "        print(term)"
   ]
  },
  {
   "cell_type": "markdown",
   "metadata": {},
   "source": [
    "#### Terms that were not marked in all datasets"
   ]
  },
  {
   "cell_type": "code",
   "execution_count": null,
   "metadata": {},
   "outputs": [],
   "source": [
    "implicit_terms_all = set(implicit_all[implicit_all[\"lang\"]==lang][\"lemma\"])\n",
    "explicit_terms_all = set(explicit_all[explicit_all[\"lang\"]==lang][\"lemma\"])"
   ]
  },
  {
   "cell_type": "code",
   "execution_count": null,
   "metadata": {},
   "outputs": [],
   "source": [
    "not_marked_en = []\n",
    "all_en = []\n",
    "all_en.extend(wd_en)\n",
    "all_en.extend(aat_en)\n",
    "all_en.extend(pwn)\n",
    "\n",
    "for t in set(all_en):\n",
    "    if t not in implicit_terms_all and t not in explicit_terms_all:\n",
    "        not_marked_en.append(t)"
   ]
  },
  {
   "cell_type": "code",
   "execution_count": null,
   "metadata": {},
   "outputs": [],
   "source": [
    "not_marked_en"
   ]
  },
  {
   "cell_type": "code",
   "execution_count": null,
   "metadata": {},
   "outputs": [],
   "source": [
    "not_marked_nl = []\n",
    "all_nl = []\n",
    "all_nl.extend(wd_nl)\n",
    "all_nl.extend(aat_nl)\n",
    "all_nl.extend(odwn)\n",
    "\n",
    "for t in set(all_nl):\n",
    "    if t not in implicit_terms_all and t not in explicit_terms_all:\n",
    "        not_marked_nl.append(t)"
   ]
  },
  {
   "cell_type": "code",
   "execution_count": null,
   "metadata": {},
   "outputs": [],
   "source": [
    "not_marked_nl"
   ]
  },
  {
   "cell_type": "code",
   "execution_count": null,
   "metadata": {},
   "outputs": [],
   "source": []
  }
 ],
 "metadata": {
  "kernelspec": {
   "display_name": "Python 3",
   "language": "python",
   "name": "python3"
  },
  "language_info": {
   "codemirror_mode": {
    "name": "ipython",
    "version": 3
   },
   "file_extension": ".py",
   "mimetype": "text/x-python",
   "name": "python",
   "nbconvert_exporter": "python",
   "pygments_lexer": "ipython3",
   "version": "3.8.5"
  }
 },
 "nbformat": 4,
 "nbformat_minor": 4
}
