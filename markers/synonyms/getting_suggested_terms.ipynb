{
 "cells": [
  {
   "cell_type": "code",
   "execution_count": null,
   "metadata": {},
   "outputs": [],
   "source": [
    "import json\n",
    "import requests\n",
    "import rdflib\n",
    "from rdflib import Graph\n",
    "from rdflib.namespace import Namespace\n",
    "from rdflib.namespace import SKOS, RDF"
   ]
  },
  {
   "cell_type": "markdown",
   "metadata": {},
   "source": [
    "### Querying WM KG to get pairs of contentious and suggested terms"
   ]
  },
  {
   "cell_type": "code",
   "execution_count": null,
   "metadata": {},
   "outputs": [],
   "source": [
    "# custom namespaces\n",
    "culco = Namespace(\"https://w3id.org/culco#\")\n",
    "skosxl = Namespace(\"http://www.w3.org/2008/05/skos-xl#\")\n",
    "dcterms = Namespace(\"http://purl.org/dc/terms/\")"
   ]
  },
  {
   "cell_type": "code",
   "execution_count": null,
   "metadata": {},
   "outputs": [],
   "source": [
    "# change to GitHub\n",
    "path_to_wm = 'https://github.com/cultural-ai/wordsmatter/raw/main/glossary.ttl'"
   ]
  },
  {
   "cell_type": "code",
   "execution_count": null,
   "metadata": {},
   "outputs": [],
   "source": [
    "wm = Graph()\n",
    "wm.parse(path_to_wm, format=\"turtle\")"
   ]
  },
  {
   "cell_type": "code",
   "execution_count": null,
   "metadata": {},
   "outputs": [],
   "source": [
    "# Get cont_label URI instead, then retrieve query terms for every URI\n",
    "# Get terms by language"
   ]
  },
  {
   "cell_type": "markdown",
   "metadata": {},
   "source": [
    "### EN"
   ]
  },
  {
   "cell_type": "code",
   "execution_count": null,
   "metadata": {},
   "outputs": [],
   "source": [
    "suggested_terms_en = wm.query(\n",
    "    \"\"\"SELECT ?cont_label_URI (GROUP_CONCAT(?sug_label;SEPARATOR=\",\") AS ?sug_label_list)\n",
    "    WHERE {\n",
    "    ?Suggestion culco:suggestedFor ?cont_label_URI ;\n",
    "        culco:hasSuggestedLabel / skosxl:literalForm ?sug_label .\n",
    "        \n",
    "    ?cont_label_URI skosxl:literalForm ?cont_lit .\n",
    "    FILTER (lang(?cont_lit) = \"en\") }\n",
    "    \n",
    "    GROUP BY ?cont_label_URI\n",
    "    \"\"\")"
   ]
  },
  {
   "cell_type": "code",
   "execution_count": null,
   "metadata": {},
   "outputs": [],
   "source": [
    "# {\"cont_label_URI\":[\"suggested_term\"]}"
   ]
  },
  {
   "cell_type": "code",
   "execution_count": null,
   "metadata": {},
   "outputs": [],
   "source": [
    "suggested_en = {}\n",
    "\n",
    "for row in suggested_terms_en:\n",
    "    suggested_en[str(row.cont_label_URI).replace('https://w3id.org/culco/wordsmatter/','')] = [str(s) for s in row.sug_label_list.split(',')]"
   ]
  },
  {
   "cell_type": "code",
   "execution_count": null,
   "metadata": {},
   "outputs": [],
   "source": [
    "# Next: link query terms to their corresponding suggestions"
   ]
  },
  {
   "cell_type": "code",
   "execution_count": null,
   "metadata": {},
   "outputs": [],
   "source": [
    "url = 'https://raw.githubusercontent.com/cultural-ai/wordsmatter/main/related_matches/rm.json'\n",
    "r = requests.get(url)\n",
    "rms = r.json()"
   ]
  },
  {
   "cell_type": "code",
   "execution_count": null,
   "metadata": {},
   "outputs": [],
   "source": [
    "en_query_terms_with_suggestions = {}\n",
    "\n",
    "for cont_label_URI, suggestions_list in suggested_en.items():\n",
    "    for term in rms[cont_label_URI]['query_terms']:\n",
    "        en_query_terms_with_suggestions[term] = suggestions_list"
   ]
  },
  {
   "cell_type": "code",
   "execution_count": null,
   "metadata": {
    "scrolled": true
   },
   "outputs": [],
   "source": [
    "len(en_query_terms_with_suggestions)"
   ]
  },
  {
   "cell_type": "code",
   "execution_count": null,
   "metadata": {},
   "outputs": [],
   "source": [
    "with open('LODlit/query_terms.json','r') as jf:\n",
    "    qt = json.load(jf)"
   ]
  },
  {
   "cell_type": "code",
   "execution_count": null,
   "metadata": {},
   "outputs": [],
   "source": [
    "qt_en = []\n",
    "for wordforms in qt[\"en\"].values():\n",
    "    qt_en.extend(wordforms)"
   ]
  },
  {
   "cell_type": "code",
   "execution_count": null,
   "metadata": {},
   "outputs": [],
   "source": [
    "len(qt_en)"
   ]
  },
  {
   "cell_type": "code",
   "execution_count": null,
   "metadata": {},
   "outputs": [],
   "source": [
    "# EN dict with suggestions\n",
    "\n",
    "en_qt_with_suggestions = {}\n",
    "\n",
    "for term in qt_en:\n",
    "    if term in en_query_terms_with_suggestions.keys():\n",
    "        en_qt_with_suggestions[term] = en_query_terms_with_suggestions[term]\n",
    "    else:\n",
    "        en_qt_with_suggestions[term] = []"
   ]
  },
  {
   "cell_type": "code",
   "execution_count": null,
   "metadata": {},
   "outputs": [],
   "source": [
    "# exporting\n",
    "with open('en_suggestions.json', 'w') as jf:\n",
    "    json.dump(en_qt_with_suggestions, jf)"
   ]
  },
  {
   "cell_type": "markdown",
   "metadata": {},
   "source": [
    "### NL"
   ]
  },
  {
   "cell_type": "code",
   "execution_count": null,
   "metadata": {},
   "outputs": [],
   "source": [
    "suggested_terms_nl = wm.query(\n",
    "    \"\"\"SELECT ?cont_label_URI (GROUP_CONCAT(?sug_label;SEPARATOR=\",\") AS ?sug_label_list)\n",
    "    WHERE {\n",
    "    ?Suggestion culco:suggestedFor ?cont_label_URI ;\n",
    "        culco:hasSuggestedLabel / skosxl:literalForm ?sug_label .\n",
    "        \n",
    "    ?cont_label_URI skosxl:literalForm ?cont_lit .\n",
    "    FILTER (lang(?cont_lit) = \"nl\") }\n",
    "    \n",
    "    GROUP BY ?cont_label_URI\n",
    "    \"\"\")"
   ]
  },
  {
   "cell_type": "code",
   "execution_count": null,
   "metadata": {},
   "outputs": [],
   "source": [
    "suggested_nl = {}\n",
    "\n",
    "for row in suggested_terms_nl:\n",
    "    suggested_nl[str(row.cont_label_URI).replace('https://w3id.org/culco/wordsmatter/','')] = [str(s) for s in row.sug_label_list.split(',')]"
   ]
  },
  {
   "cell_type": "code",
   "execution_count": null,
   "metadata": {},
   "outputs": [],
   "source": [
    "nl_query_terms_with_suggestions = {}\n",
    "\n",
    "for cont_label_URI, suggestions_list in suggested_nl.items():\n",
    "    for term in rms[cont_label_URI]['query_terms']:\n",
    "        nl_query_terms_with_suggestions[term] = suggestions_list"
   ]
  },
  {
   "cell_type": "code",
   "execution_count": null,
   "metadata": {},
   "outputs": [],
   "source": [
    "len(nl_query_terms_with_suggestions)"
   ]
  },
  {
   "cell_type": "code",
   "execution_count": null,
   "metadata": {},
   "outputs": [],
   "source": [
    "qt_nl = []\n",
    "for wordforms in qt[\"nl\"].values():\n",
    "    qt_nl.extend(wordforms)"
   ]
  },
  {
   "cell_type": "code",
   "execution_count": null,
   "metadata": {},
   "outputs": [],
   "source": [
    "# NL dict with suggestions\n",
    "\n",
    "nl_qt_with_suggestions = {}\n",
    "\n",
    "for term in qt_nl:\n",
    "    if term in nl_query_terms_with_suggestions.keys():\n",
    "        nl_qt_with_suggestions[term] = nl_query_terms_with_suggestions[term]\n",
    "    else:\n",
    "        nl_qt_with_suggestions[term] = []"
   ]
  },
  {
   "cell_type": "code",
   "execution_count": null,
   "metadata": {},
   "outputs": [],
   "source": [
    "len(nl_qt_with_suggestions)"
   ]
  },
  {
   "cell_type": "code",
   "execution_count": null,
   "metadata": {},
   "outputs": [],
   "source": [
    "# exporting\n",
    "with open('nl_suggestions.json', 'w') as jf:\n",
    "    json.dump(nl_qt_with_suggestions, jf)"
   ]
  },
  {
   "cell_type": "code",
   "execution_count": null,
   "metadata": {},
   "outputs": [],
   "source": [
    "# How many query terms don't have any suggestions? (also check by lemma)\n",
    "# EN: 104 qt\n",
    "# NL: 162 qt"
   ]
  },
  {
   "cell_type": "markdown",
   "metadata": {},
   "source": [
    "### Unique suggestions by lang"
   ]
  },
  {
   "cell_type": "code",
   "execution_count": null,
   "metadata": {},
   "outputs": [],
   "source": [
    "all_sug_en = []\n",
    "\n",
    "for sug in suggested_en.values():\n",
    "    all_sug_en.extend(sug)\n",
    "    \n",
    "en_sug_unique = list(set(all_sug_en))"
   ]
  },
  {
   "cell_type": "code",
   "execution_count": null,
   "metadata": {
    "scrolled": true
   },
   "outputs": [],
   "source": [
    "len(en_sug_unique)"
   ]
  },
  {
   "cell_type": "code",
   "execution_count": null,
   "metadata": {},
   "outputs": [],
   "source": [
    "all_sug_nl = []\n",
    "\n",
    "for sug in suggested_nl.values():\n",
    "    all_sug_nl.extend(sug)\n",
    "    \n",
    "nl_sug_unique = list(set(all_sug_nl))"
   ]
  },
  {
   "cell_type": "code",
   "execution_count": null,
   "metadata": {},
   "outputs": [],
   "source": [
    "len(nl_sug_unique)"
   ]
  }
 ],
 "metadata": {
  "kernelspec": {
   "display_name": "Python 3",
   "language": "python",
   "name": "python3"
  },
  "language_info": {
   "codemirror_mode": {
    "name": "ipython",
    "version": 3
   },
   "file_extension": ".py",
   "mimetype": "text/x-python",
   "name": "python",
   "nbconvert_exporter": "python",
   "pygments_lexer": "ipython3",
   "version": "3.8.5"
  }
 },
 "nbformat": 4,
 "nbformat_minor": 4
}
