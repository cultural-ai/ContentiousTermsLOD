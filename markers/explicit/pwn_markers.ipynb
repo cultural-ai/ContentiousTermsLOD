{
 "cells": [
  {
   "cell_type": "code",
   "execution_count": null,
   "metadata": {},
   "outputs": [],
   "source": [
    "import nltk\n",
    "# WordNet 3.1\n",
    "from nltk.corpus import wordnet as wn\n",
    "from collections import Counter\n",
    "import csv"
   ]
  },
  {
   "cell_type": "code",
   "execution_count": null,
   "metadata": {},
   "outputs": [],
   "source": [
    "# Checking the following relations of synsets in PWN as potential explicit markers:\n",
    "# usage domains\n",
    "# hypernyms\n",
    "# hyponyms\n",
    "# in_topic_domains()\n",
    "# in_region_domains()\n",
    "# in_usage_domains()\n",
    "# topic_domains()\n",
    "# region_domains()\n",
    "# also_sees\n",
    "# similar_tos()"
   ]
  },
  {
   "cell_type": "code",
   "execution_count": null,
   "metadata": {},
   "outputs": [],
   "source": [
    "def pwn_explicit_markers(synset:str) -> dict:\n",
    "    results_dict = {}\n",
    "    results_dict[\"usage_domains\"] = wn.synset(synset).usage_domains()\n",
    "    results_dict[\"in_usage_domains\"] = wn.synset(synset).in_usage_domains()\n",
    "    results_dict[\"topic_domains\"] = wn.synset(synset).topic_domains()\n",
    "    results_dict[\"in_topic_domains\"] = wn.synset(synset).in_topic_domains()\n",
    "    results_dict[\"region_domains\"] = wn.synset(synset).region_domains()\n",
    "    results_dict[\"in_region_domains\"] = wn.synset(synset).in_region_domains()\n",
    "    results_dict[\"also_sees\"] = wn.synset(synset).also_sees()\n",
    "    results_dict[\"similar_tos\"] = wn.synset(synset).similar_tos()\n",
    "    results_dict[\"hypernyms\"] = wn.synset(synset).hypernyms()\n",
    "    results_dict[\"hyponyms\"] = wn.synset(synset).hyponyms()\n",
    "    \n",
    "    return results_dict"
   ]
  },
  {
   "cell_type": "code",
   "execution_count": null,
   "metadata": {},
   "outputs": [],
   "source": [
    "# getting all (potentially) explicit markers of a synset\n",
    "pwn_explicit_markers(\"white.s.05\")"
   ]
  },
  {
   "cell_type": "code",
   "execution_count": null,
   "metadata": {},
   "outputs": [],
   "source": [
    "### Collect all usage domains\n",
    "all_usage_domains = []\n",
    "for synset in list(wn.all_synsets()):\n",
    "    all_usage_domains.extend(synset.usage_domains())"
   ]
  },
  {
   "cell_type": "code",
   "execution_count": null,
   "metadata": {},
   "outputs": [],
   "source": [
    "### Collect all topic domains\n",
    "all_topic_domains = []\n",
    "for synset in list(wn.all_synsets()):\n",
    "    all_topic_domains.extend(synset.topic_domains())"
   ]
  },
  {
   "cell_type": "code",
   "execution_count": null,
   "metadata": {},
   "outputs": [],
   "source": [
    "Counter(all_topic_domains)"
   ]
  },
  {
   "cell_type": "code",
   "execution_count": null,
   "metadata": {},
   "outputs": [],
   "source": [
    "pwn_usage_domains = {}\n",
    "for synset_key, num in dict(Counter(all_usage_domains)).items():\n",
    "    pwn_usage_domains[synset_key.name()] = num"
   ]
  },
  {
   "cell_type": "code",
   "execution_count": null,
   "metadata": {
    "scrolled": true
   },
   "outputs": [],
   "source": [
    "pwn_usage_domains"
   ]
  },
  {
   "cell_type": "code",
   "execution_count": null,
   "metadata": {},
   "outputs": [],
   "source": [
    "# Collect all synsets with selected usage domains\n",
    "\n",
    "usage_domains = ['disparagement.n.01','ethnic_slur.n.01','archaism.n.0',\n",
    "                'colloquialism.n.01','slang.n.02','obscenity.n.02']\n",
    "\n",
    "with open('explicit/pwn_usage_domain_synsets_all.csv','w') as csv_file:\n",
    "    writer = csv.writer(csv_file)\n",
    "    header = [\"synset_id\",\"usage_domains\"]\n",
    "    writer.writerow(header)\n",
    "    \n",
    "\n",
    "    for synset in list(wn.all_synsets()):\n",
    "        # check overlap between two lists\n",
    "        synset_usage_domains = [s.name() for s in synset.usage_domains()]\n",
    "        if len(synset_usage_domains) > 0:\n",
    "            intersection = [s for s in usage_domains if s in synset_usage_domains]\n",
    "            # if overlap > 0, write the synset\n",
    "            if len(intersection) > 0:\n",
    "                data = [synset.name(),[s.name() for s in synset.usage_domains()]]\n",
    "                writer.writerow(data)"
   ]
  },
  {
   "cell_type": "code",
   "execution_count": null,
   "metadata": {},
   "outputs": [],
   "source": []
  }
 ],
 "metadata": {
  "kernelspec": {
   "display_name": "Python 3",
   "language": "python",
   "name": "python3"
  },
  "language_info": {
   "codemirror_mode": {
    "name": "ipython",
    "version": 3
   },
   "file_extension": ".py",
   "mimetype": "text/x-python",
   "name": "python",
   "nbconvert_exporter": "python",
   "pygments_lexer": "ipython3",
   "version": "3.8.5"
  }
 },
 "nbformat": 4,
 "nbformat_minor": 4
}
