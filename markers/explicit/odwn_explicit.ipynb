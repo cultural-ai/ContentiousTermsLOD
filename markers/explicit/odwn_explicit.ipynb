{
 "cells": [
  {
   "cell_type": "markdown",
   "metadata": {},
   "source": [
    "### Getting pragmatics values from ODWN"
   ]
  },
  {
   "cell_type": "code",
   "execution_count": null,
   "metadata": {},
   "outputs": [],
   "source": [
    "import odwn # from LODlitParser\n",
    "import json\n",
    "import csv\n",
    "import pandas as pd"
   ]
  },
  {
   "cell_type": "code",
   "execution_count": null,
   "metadata": {},
   "outputs": [],
   "source": [
    "# collect pragmatics of synsets in search results\n",
    "# import all synsets\n",
    "with open('LODlit/ODWN/odwn_query_results.json','r') as jf:\n",
    "    odwn_query_results = json.load(jf)"
   ]
  },
  {
   "cell_type": "code",
   "execution_count": null,
   "metadata": {},
   "outputs": [],
   "source": [
    "odwn_synsets = []\n",
    "for hits in odwn_query_results.values():\n",
    "    for hit in hits:\n",
    "        # if there is no synset id, add sense id\n",
    "        if hit[\"synset_id\"] != \"\":\n",
    "            odwn_synsets.append(hit[\"synset_id\"])\n",
    "        else:\n",
    "            odwn_synsets.append(hit[\"sense_id\"])"
   ]
  },
  {
   "cell_type": "code",
   "execution_count": null,
   "metadata": {},
   "outputs": [],
   "source": [
    "odwn_ids_unique = list(set(odwn_synsets))"
   ]
  },
  {
   "cell_type": "code",
   "execution_count": null,
   "metadata": {},
   "outputs": [],
   "source": [
    "len(odwn_ids_unique)"
   ]
  },
  {
   "cell_type": "code",
   "execution_count": null,
   "metadata": {},
   "outputs": [],
   "source": [
    "sense_ids = [sense for sense in odwn_ids_unique if sense.startswith('r_') or sense.startswith('c_')]"
   ]
  },
  {
   "cell_type": "code",
   "execution_count": null,
   "metadata": {},
   "outputs": [],
   "source": [
    "len(sense_ids)"
   ]
  },
  {
   "cell_type": "code",
   "execution_count": null,
   "metadata": {},
   "outputs": [],
   "source": [
    "synset_ids = [ss for ss in odwn_ids_unique if ss.startswith('odwn') or ss.startswith('eng')]"
   ]
  },
  {
   "cell_type": "code",
   "execution_count": null,
   "metadata": {},
   "outputs": [],
   "source": [
    "len(synset_ids)"
   ]
  },
  {
   "cell_type": "code",
   "execution_count": null,
   "metadata": {},
   "outputs": [],
   "source": [
    "pragmatics_senses = odwn.get_pragmatics(sense_ids,\"\",\"sense_id\") # insert path to the directory with OpenDutchWordnet"
   ]
  },
  {
   "cell_type": "code",
   "execution_count": null,
   "metadata": {},
   "outputs": [],
   "source": [
    "pragmatics_synsets = odwn.get_pragmatics(synset_ids,\"\",\"synset_id\") # insert path to the directory with OpenDutchWordnet"
   ]
  },
  {
   "cell_type": "code",
   "execution_count": null,
   "metadata": {},
   "outputs": [],
   "source": [
    "odwn_pragmatics_all = {}\n",
    "odwn_pragmatics_all.update(pragmatics_senses)\n",
    "odwn_pragmatics_all.update(pragmatics_synsets)"
   ]
  },
  {
   "cell_type": "code",
   "execution_count": null,
   "metadata": {},
   "outputs": [],
   "source": [
    "with open('odwn_all_pragmatics.json', 'w') as jf:\n",
    "    json.dump(odwn_pragmatics_all, jf)"
   ]
  },
  {
   "cell_type": "code",
   "execution_count": null,
   "metadata": {},
   "outputs": [],
   "source": []
  }
 ],
 "metadata": {
  "kernelspec": {
   "display_name": "Python 3",
   "language": "python",
   "name": "python3"
  },
  "language_info": {
   "codemirror_mode": {
    "name": "ipython",
    "version": 3
   },
   "file_extension": ".py",
   "mimetype": "text/x-python",
   "name": "python",
   "nbconvert_exporter": "python",
   "pygments_lexer": "ipython3",
   "version": "3.8.5"
  }
 },
 "nbformat": 4,
 "nbformat_minor": 4
}
