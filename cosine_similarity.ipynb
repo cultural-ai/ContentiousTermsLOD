{
 "cells": [
  {
   "cell_type": "code",
   "execution_count": 91,
   "metadata": {},
   "outputs": [],
   "source": [
    "import json"
   ]
  },
  {
   "cell_type": "code",
   "execution_count": 92,
   "metadata": {},
   "outputs": [],
   "source": [
    "# importing related matches\n",
    "with open('/Users/anesterov/reps/LODlit/bg/rm_bows_all.json','r') as jf:\n",
    "    rm = json.load(jf)"
   ]
  },
  {
   "cell_type": "code",
   "execution_count": 93,
   "metadata": {},
   "outputs": [],
   "source": [
    "# importing BoWs of search results\n",
    "with open('/Users/anesterov/wd/jan31/wd_bows_en.json','r') as jf:\n",
    "    wd_en = json.load(jf)\n",
    "with open('/Users/anesterov/wd/jan31/wd_bows_nl.json','r') as jf:\n",
    "    wd_nl = json.load(jf)\n",
    "with open('/Users/anesterov/reps/LODlit/AAT/aat_bows_en.json','r') as jf:\n",
    "    aat_en = json.load(jf)\n",
    "with open('/Users/anesterov/reps/LODlit/AAT/aat_bows_nl.json','r') as jf:\n",
    "    aat_nl = json.load(jf)\n",
    "with open('/Users/anesterov/reps/LODlit/ODWN/odwn_bows.json','r') as jf:\n",
    "    odwn = json.load(jf)\n",
    "with open('/Users/anesterov/reps/LODlit/PWN/pwn31_bows.json','r') as jf:\n",
    "    pwn = json.load(jf)"
   ]
  },
  {
   "cell_type": "code",
   "execution_count": null,
   "metadata": {},
   "outputs": [],
   "source": [
    "# function for cosine similarity\n",
    "def bows_cosine_similarity(resource:str,lang=\"en\") -> str:\n",
    "    '''\n",
    "    Vectrorizes BoWs of search results and related matches\n",
    "    Calculates cosine similarity between the two vectors\n",
    "    term: str, query term\n",
    "    resource: str, 'wikidata', 'aat', 'odwn', or 'pwn'\n",
    "    lang: str, default is 'en'; could be 'nl' only for odwn and 'en' for pwn\n",
    "    Saves a csv file with results\n",
    "    Return a str \"File is saved\"\n",
    "    '''\n",
    "    # output: term, entity_id, resource, sim_rm (round)\n",
    "    # read related matches and search results bows\n",
    "    # importing related matches / change path\n",
    "    with open('/Users/anesterov/reps/LODlit/bg/rm_bows_all.json','r') as jf:\n",
    "        rm = json.load(jf)\n",
    "        \n",
    "    # checking resource and lang\n",
    "    if resource == 'wikidata' and lang == 'en':\n",
    "        \n",
    "    #if resource == 'wikidata' and lang == 'nl':\n",
    "        \n",
    "    #if resource == 'aat' and lang == 'en':\n",
    "        \n",
    "    #if resource == 'aat' and lang == 'nl':\n",
    "        \n",
    "    #if resource == 'pwn':\n",
    "    \n",
    "    #if resource == 'odwn':\n",
    "        \n",
    "    related_matches = all_rm[lang][term]['wikidata'] + all_rm['en']['black']['aat'] + all_rm['en']['black']['pwn']\n",
    "    wikidata = wd_en['black'][349]['Q53094']\n",
    "    rm_set = {t for t in related_matches}\n",
    "    wd_set = {t for t in wikidata}\n",
    "    rvector = rm_set.union(wd_set)"
   ]
  },
  {
   "cell_type": "code",
   "execution_count": 28,
   "metadata": {},
   "outputs": [],
   "source": [
    "lang = 'en'"
   ]
  },
  {
   "cell_type": "code",
   "execution_count": 37,
   "metadata": {},
   "outputs": [],
   "source": [
    "rm_per_term = []\n",
    "if rm[lang]['batavia'].get('aat'):\n",
    "    rm_per_term.extend(rm[lang]['batavia']['aat'])\n",
    "if rm[lang]['batavia'].get('wikidata'):\n",
    "    rm_per_term.extend(rm[lang]['batavia']['wikidata'])\n",
    "if rm[lang]['batavia'].get('pwn'):\n",
    "    rm_per_term.extend(rm[lang]['batavia']['pwn'])"
   ]
  },
  {
   "cell_type": "code",
   "execution_count": 38,
   "metadata": {},
   "outputs": [
    {
     "data": {
      "text/plain": [
       "['batavia',\n",
       " 'capital',\n",
       " 'city',\n",
       " 'toponym',\n",
       " 'capital',\n",
       " 'dutch',\n",
       " 'east',\n",
       " 'indie',\n",
       " 'city',\n",
       " 'jakarta']"
      ]
     },
     "execution_count": 38,
     "metadata": {},
     "output_type": "execute_result"
    }
   ],
   "source": [
    "rm_per_term"
   ]
  },
  {
   "cell_type": "code",
   "execution_count": 67,
   "metadata": {},
   "outputs": [],
   "source": [
    "import pandas as pd"
   ]
  },
  {
   "cell_type": "code",
   "execution_count": 68,
   "metadata": {},
   "outputs": [
    {
     "data": {
      "text/html": [
       "<div>\n",
       "<style scoped>\n",
       "    .dataframe tbody tr th:only-of-type {\n",
       "        vertical-align: middle;\n",
       "    }\n",
       "\n",
       "    .dataframe tbody tr th {\n",
       "        vertical-align: top;\n",
       "    }\n",
       "\n",
       "    .dataframe thead th {\n",
       "        text-align: right;\n",
       "    }\n",
       "</style>\n",
       "<table border=\"1\" class=\"dataframe\">\n",
       "  <thead>\n",
       "    <tr style=\"text-align: right;\">\n",
       "      <th></th>\n",
       "      <th>a</th>\n",
       "      <th>b</th>\n",
       "      <th>c</th>\n",
       "    </tr>\n",
       "  </thead>\n",
       "  <tbody>\n",
       "  </tbody>\n",
       "</table>\n",
       "</div>"
      ],
      "text/plain": [
       "Empty DataFrame\n",
       "Columns: [a, b, c]\n",
       "Index: []"
      ]
     },
     "execution_count": 68,
     "metadata": {},
     "output_type": "execute_result"
    }
   ],
   "source": [
    "pd.DataFrame(columns=['a', 'b', 'c'])"
   ]
  },
  {
   "cell_type": "code",
   "execution_count": 76,
   "metadata": {},
   "outputs": [],
   "source": [
    "wd_df = pd.DataFrame(columns=['term', 'QID', 'wd_bow', 'cs'])\n",
    "\n",
    "for term, hits in wd_en.items():\n",
    "    \n",
    "    if term in rm[lang].keys():\n",
    "    \n",
    "        # EN collecting related matches per term\n",
    "        rm_per_term = []\n",
    "        if rm[lang][term].get('aat'):\n",
    "            rm_per_term.extend(rm[lang][term]['aat'])\n",
    "        if rm[lang][term].get('wikidata'):\n",
    "            rm_per_term.extend(rm[lang][term]['wikidata'])\n",
    "        if rm[lang][term].get('pwn'):\n",
    "            rm_per_term.extend(rm[lang][term]['pwn'])\n",
    "\n",
    "        # remove target term from bow\n",
    "        rm_per_term_no_target = [t for t in rm_per_term if term != t]\n",
    "        # if there are search results\n",
    "        if len(hits) > 0:\n",
    "            for hit in hits:\n",
    "                for i, bow in hit.items():\n",
    "                    # remove target term from bow\n",
    "                    wd_bow = [t for t in bow if t != term]\n",
    "                    if len(wd_bow) > 0:\n",
    "                        # calculate cs\n",
    "                        cs = _vectorize_bows(rm_per_term_no_target,wd_bow)\n",
    "                        wd_df.loc[len(wd_df)] = [term,i,wd_bow,cs]\n",
    "                    # if there are no tokens except the target term, cs == None\n",
    "                    else:\n",
    "                        wd_df.loc[len(wd_df)] = [term,i,wd_bow,None]\n",
    "                    \n",
    "    # if there are no related matches, cs == None\n",
    "    else:\n",
    "        wd_df.loc[len(wd_df)] = [term,i,wd_bow,None]"
   ]
  },
  {
   "cell_type": "code",
   "execution_count": 78,
   "metadata": {},
   "outputs": [],
   "source": [
    "wd_df.to_csv('cs_experiment.csv')"
   ]
  },
  {
   "cell_type": "code",
   "execution_count": 13,
   "metadata": {},
   "outputs": [],
   "source": [
    "# subfunction: creating vectors\n",
    "\n",
    "def _vectorize_bows(bow_1:list, bow_2:list) -> int:\n",
    "    '''\n",
    "    Vectorizing two BoWs\n",
    "    Calculating cosine similarity between them\n",
    "    bow_1 and bow_2: list, bag of words\n",
    "    Returns int, rounded cosine similarity value\n",
    "    '''\n",
    "    # creating sets\n",
    "    set_1 = {t for t in bow_1}\n",
    "    set_2 = {t for t in bow_2}\n",
    "    union_set = set_1.union(set_2)\n",
    "    \n",
    "    # vectorizing\n",
    "    v1 = []\n",
    "    v2 = []\n",
    "    for t in union_set:\n",
    "        if t in set_1:\n",
    "            v1.append(1)\n",
    "        else:\n",
    "            v1.append(0)\n",
    "        if t in set_2:\n",
    "            v2.append(1)\n",
    "        else:\n",
    "            v2.append(0)\n",
    "    \n",
    "    # calculating cs \n",
    "    c = 0\n",
    "    for i in range(len(union_set)):\n",
    "        c += v1[i] * v2[i]\n",
    "\n",
    "    cos_sim = c / float((sum(v1) * sum(v2)) ** 0.5)\n",
    "    \n",
    "    return round(cos_sim,3)"
   ]
  },
  {
   "cell_type": "code",
   "execution_count": 80,
   "metadata": {},
   "outputs": [
    {
     "data": {
      "text/plain": [
       "0.961"
      ]
     },
     "execution_count": 80,
     "metadata": {},
     "output_type": "execute_result"
    }
   ],
   "source": [
    "_vectorize_bows(related_matches['en']['madras']['wikidata'],['chennai', 'city', 'big', 'city', 'million', 'city', 'state', 'capital', 'business', 'cluster', 'megacity', 'capital', 'tamil', 'nadu', 'india'])"
   ]
  },
  {
   "cell_type": "code",
   "execution_count": 79,
   "metadata": {},
   "outputs": [
    {
     "data": {
      "text/plain": [
       "['chennai',\n",
       " 'city',\n",
       " 'big',\n",
       " 'city',\n",
       " 'million',\n",
       " 'city',\n",
       " 'state',\n",
       " 'capital',\n",
       " 'business',\n",
       " 'cluster',\n",
       " 'madras',\n",
       " 'megacity',\n",
       " 'capital',\n",
       " 'tamil',\n",
       " 'nadu',\n",
       " 'india']"
      ]
     },
     "execution_count": 79,
     "metadata": {},
     "output_type": "execute_result"
    }
   ],
   "source": [
    "related_matches['en']['madras']['wikidata']"
   ]
  },
  {
   "cell_type": "code",
   "execution_count": 1,
   "metadata": {},
   "outputs": [],
   "source": [
    "import spacy"
   ]
  },
  {
   "cell_type": "code",
   "execution_count": 2,
   "metadata": {},
   "outputs": [],
   "source": [
    "import transformers"
   ]
  },
  {
   "cell_type": "code",
   "execution_count": 20,
   "metadata": {},
   "outputs": [],
   "source": [
    "nlp = spacy.load(\"en_core_web_md\")"
   ]
  },
  {
   "cell_type": "code",
   "execution_count": 138,
   "metadata": {},
   "outputs": [],
   "source": [
    "nlp_l = spacy.load(\"en_core_web_lg\", disable=[\"tagger\", \"attribute_ruler\", \"lemmatizer\"])"
   ]
  },
  {
   "cell_type": "code",
   "execution_count": 21,
   "metadata": {},
   "outputs": [],
   "source": [
    "doc = nlp(\"Apple shares rose on the news. Apple pie is delicious.\")"
   ]
  },
  {
   "cell_type": "code",
   "execution_count": 16,
   "metadata": {},
   "outputs": [
    {
     "name": "stdout",
     "output_type": "stream",
     "text": [
      "Apple shares rose on the news. Apple pie is delicious.\n"
     ]
    }
   ],
   "source": [
    "print(doc)"
   ]
  },
  {
   "cell_type": "code",
   "execution_count": 22,
   "metadata": {
    "scrolled": true
   },
   "outputs": [
    {
     "data": {
      "text/plain": [
       "array([-1.18700646e-01, -1.41039336e+00, -2.14910340e+00,  8.83527994e-01,\n",
       "        5.56492472e+00, -9.87121642e-01, -1.14053094e+00,  4.43576670e+00,\n",
       "       -3.72914225e-01, -1.41204226e+00,  4.56952858e+00,  4.27760839e-01,\n",
       "       -2.31775141e+00,  6.92854226e-01,  1.15528846e+00,  2.31034160e+00,\n",
       "        2.57655549e+00, -6.75784111e-01,  1.13154316e+00, -2.44445491e+00,\n",
       "        1.47608435e+00, -1.68519959e-01, -7.40572512e-01, -1.11758280e+00,\n",
       "       -3.36654162e+00, -7.73094893e-01, -1.00135839e+00, -1.16324246e+00,\n",
       "       -7.35800922e-01,  1.05197847e+00, -3.64668399e-01, -1.64117500e-01,\n",
       "       -3.30009460e+00, -3.08980751e+00, -1.81026840e+00,  5.23460805e-01,\n",
       "       -1.47361326e+00,  3.91166568e+00,  1.94414079e+00,  1.41275465e+00,\n",
       "        9.01624143e-01,  2.62060571e+00, -1.04173517e-03, -9.47884858e-01,\n",
       "        3.97454977e-01,  1.39844847e+00,  2.00074172e+00, -1.80079424e+00,\n",
       "        8.34936619e-01,  9.27045763e-01, -7.79365063e-01,  1.24467003e+00,\n",
       "       -1.04951508e-01, -4.03386641e+00,  5.83676696e-01,  4.07089114e-01,\n",
       "       -4.05124158e-01,  6.94060028e-01, -1.06562543e+00,  2.17943406e+00,\n",
       "        1.34901667e+00,  8.20858240e-01,  1.37552392e+00, -3.71830821e-01,\n",
       "        5.49558342e-01,  7.40565836e-01, -2.24515009e+00, -1.95358896e+00,\n",
       "        1.26103914e+00,  7.85405159e-01, -3.19169164e+00, -9.72279251e-01,\n",
       "       -4.72669983e+00, -6.09331667e-01,  5.14607549e-01,  1.16763973e+00,\n",
       "       -1.81991184e+00,  2.02919200e-01, -8.20809186e-01, -1.36248350e-01,\n",
       "       -1.34785998e+00, -1.16901314e+00,  1.05073571e-01,  1.83035538e-01,\n",
       "        1.69904506e+00,  8.80492389e-01,  2.22917438e+00, -2.31674150e-01,\n",
       "       -6.82343185e-01, -1.39106417e+00, -2.05942082e+00,  4.07692522e-01,\n",
       "       -1.71111241e-01, -3.08088493e+00, -2.59339124e-01, -2.07542992e+00,\n",
       "        2.03840995e+00, -3.01185322e+00,  1.22644997e+00, -1.70148814e+00,\n",
       "        1.18001592e+00, -7.37812102e-01,  2.98813653e+00,  1.63027513e+00,\n",
       "        1.23633838e+00,  3.46494985e+00, -8.30117464e-01,  8.46681654e-01,\n",
       "       -4.95027393e-01, -2.10271382e+00,  3.35914999e-01,  1.08661485e+00,\n",
       "       -1.44227231e+00, -1.14998594e-03,  2.37536645e+00,  1.32605001e-01,\n",
       "       -1.20494962e-01, -2.20827699e+00, -1.30371940e+00, -8.83465946e-01,\n",
       "       -7.60732472e-01, -1.90090179e+00,  2.25859594e+00,  9.86142635e-01,\n",
       "        2.12503299e-01, -2.70247340e+00,  1.88279307e+00, -2.02632165e+00,\n",
       "        2.63205194e+00, -1.71384251e+00, -1.88292348e+00,  3.97233337e-01,\n",
       "        4.03920317e+00, -1.02173507e+00, -1.63782075e-01,  1.79220498e+00,\n",
       "       -1.87628448e+00, -2.92802024e+00,  2.40667534e+00, -2.69538331e+00,\n",
       "       -6.53122485e-01, -2.49934182e-01, -8.49358365e-02,  1.34795082e+00,\n",
       "        4.34553295e-01,  1.44959259e+00, -3.12836671e+00,  9.76959765e-01,\n",
       "       -4.71774936e-02,  1.62865746e+00, -1.17070591e+00,  2.21900964e+00,\n",
       "        1.12856996e+00,  1.79819870e+00, -7.27369070e-01,  1.45370829e+00,\n",
       "        2.90205097e+00,  1.47067678e+00, -1.64880002e+00,  1.03538640e-01,\n",
       "        1.42856753e+00, -3.04015756e+00, -3.79456669e-01,  3.65336746e-01,\n",
       "       -3.51702523e+00, -1.00102317e+00, -1.96671355e+00,  3.05438137e+00,\n",
       "        8.80244792e-01,  2.42583361e-02, -7.13638246e-01, -2.04693675e+00,\n",
       "        1.26643956e+00, -1.64886281e-01, -1.18434989e+00,  1.91151425e-01,\n",
       "       -1.22289598e+00,  1.13706243e+00, -1.49591699e-01, -2.11158252e+00,\n",
       "       -5.99793434e-01,  2.33054042e+00,  1.09355938e+00,  3.05355042e-01,\n",
       "       -1.41592753e+00, -1.92864180e-01, -5.82340002e-01, -9.84386027e-01,\n",
       "        1.81555569e+00,  7.16437519e-01,  2.12033510e-01, -1.93555498e+00,\n",
       "       -4.64621693e-01, -1.69384754e+00,  8.35949183e-01, -1.63462484e+00,\n",
       "       -1.51919997e+00,  9.64300811e-01,  1.21696174e+00,  1.29709840e+00,\n",
       "       -5.52863598e-01, -1.58176935e+00,  1.00419186e-01, -4.33142376e+00,\n",
       "        2.23316979e+00,  1.20329249e+00, -4.38682842e+00,  3.17877460e+00,\n",
       "        4.46335882e-01, -1.13532150e+00,  2.47855973e+00, -3.33535790e-01,\n",
       "       -2.42504263e+00,  1.15777743e+00,  3.04067802e+00, -5.66462517e-01,\n",
       "        3.09777468e-01, -2.18970752e+00,  8.11491981e-02, -2.70803392e-01,\n",
       "        1.10022545e-01, -7.85760105e-01,  1.84641983e-02, -1.11871660e+00,\n",
       "       -7.71950781e-01, -9.02683318e-01,  9.61236179e-01,  1.54354823e+00,\n",
       "        1.07103050e+00,  1.20040841e-01,  1.53207934e+00, -3.87239242e+00,\n",
       "        1.73567519e-01,  1.79035604e+00, -7.65402615e-01,  3.01852918e+00,\n",
       "       -1.96838748e+00,  2.19285989e+00,  1.29488575e+00,  1.18829751e+00,\n",
       "       -1.07526827e+00, -2.01142669e+00,  9.79630053e-01,  5.68416528e-02,\n",
       "       -1.24056339e+00,  1.13695419e+00, -1.53028965e+00,  1.05279177e-01,\n",
       "       -1.43700492e+00,  6.52398348e-01, -2.17196488e+00, -1.25161088e+00,\n",
       "       -3.41784668e+00, -1.48194551e+00,  9.47370708e-01, -1.54878747e+00,\n",
       "        2.34788895e+00,  5.92197478e-01,  3.97533327e-01,  7.50247478e-01,\n",
       "       -1.30695120e-01,  5.34040594e+00,  1.68706524e+00,  2.22342229e+00,\n",
       "        1.98340166e+00, -4.99594122e-01, -1.67299926e+00,  1.43761837e+00,\n",
       "       -2.72800088e+00,  1.70937523e-01,  6.27313197e-01, -3.29280764e-01,\n",
       "        5.11275828e-01, -2.23759246e+00, -1.23533309e-02, -2.04431558e+00,\n",
       "        1.70093489e+00, -7.24595726e-01,  1.41926336e+00,  2.39449906e+00,\n",
       "        3.34605312e+00,  1.73688307e-01, -1.99673593e+00,  1.51017702e+00,\n",
       "        1.90074503e+00,  2.82934219e-01, -1.79314494e-01, -5.06724901e-02,\n",
       "       -7.54899204e-01,  2.34580159e+00,  5.88815033e-01, -1.86129138e-01,\n",
       "        5.95500087e-03, -1.54569829e+00, -1.48589504e+00,  6.10773385e-01,\n",
       "        2.17768002e+00, -4.93476003e-01, -1.14774585e+00,  1.92935094e-01],\n",
       "      dtype=float32)"
      ]
     },
     "execution_count": 22,
     "metadata": {},
     "output_type": "execute_result"
    }
   ],
   "source": [
    "doc.vector"
   ]
  },
  {
   "cell_type": "code",
   "execution_count": 35,
   "metadata": {},
   "outputs": [],
   "source": [
    "apples = nlp(\"chennai city big million state capital business cluster megacity tamil nadu india'\")\n",
    "oranges = nlp(\"Madras is a city\")\n",
    "apples_oranges = apples.similarity(oranges)"
   ]
  },
  {
   "cell_type": "code",
   "execution_count": 81,
   "metadata": {},
   "outputs": [],
   "source": [
    "apple_1 = nlp(\"black people colour skin african american race\")\n",
    "apple_2 = nlp(\"black colour darkest grey paint\")"
   ]
  },
  {
   "cell_type": "code",
   "execution_count": 36,
   "metadata": {},
   "outputs": [
    {
     "data": {
      "text/plain": [
       "0.5233238157706054"
      ]
     },
     "execution_count": 36,
     "metadata": {},
     "output_type": "execute_result"
    }
   ],
   "source": [
    "apples_oranges"
   ]
  },
  {
   "cell_type": "code",
   "execution_count": 82,
   "metadata": {},
   "outputs": [],
   "source": [
    "sim = apple_1.similarity(apple_2)"
   ]
  },
  {
   "cell_type": "code",
   "execution_count": 83,
   "metadata": {},
   "outputs": [
    {
     "data": {
      "text/plain": [
       "0.7018133052155686"
      ]
     },
     "execution_count": 83,
     "metadata": {},
     "output_type": "execute_result"
    }
   ],
   "source": [
    "sim"
   ]
  },
  {
   "cell_type": "code",
   "execution_count": 179,
   "metadata": {},
   "outputs": [],
   "source": [
    "apple_1 = nlp_l(rm_str)\n",
    "apple_2 = nlp_l(wd_str)"
   ]
  },
  {
   "cell_type": "code",
   "execution_count": 180,
   "metadata": {},
   "outputs": [
    {
     "data": {
      "text/plain": [
       "0.7892355337039458"
      ]
     },
     "execution_count": 180,
     "metadata": {},
     "output_type": "execute_result"
    }
   ],
   "source": [
    "apple_1.similarity(apple_2)"
   ]
  },
  {
   "cell_type": "code",
   "execution_count": 187,
   "metadata": {},
   "outputs": [
    {
     "data": {
      "text/plain": [
       "spacy.tokens.doc.Doc"
      ]
     },
     "execution_count": 187,
     "metadata": {},
     "output_type": "execute_result"
    }
   ],
   "source": [
    "type(apple_1)"
   ]
  },
  {
   "cell_type": "code",
   "execution_count": 190,
   "metadata": {},
   "outputs": [
    {
     "name": "stdout",
     "output_type": "stream",
     "text": [
      "life 68.47362\n",
      "matter 45.858288\n",
      "social 63.778107\n",
      "movement 52.706676\n",
      "blm 3.5632813\n",
      "international 47.453915\n",
      "human 63.08982\n",
      "right 42.769985\n",
      "movement 52.706676\n"
     ]
    }
   ],
   "source": [
    "for token in apple_2:\n",
    "    print(token.text,token.vector_norm)"
   ]
  },
  {
   "cell_type": "code",
   "execution_count": 191,
   "metadata": {},
   "outputs": [
    {
     "name": "stdout",
     "output_type": "stream",
     "text": [
      "people 51.63681\n",
      "race 66.79318\n",
      "human 63.08982\n",
      "categorization 39.347366\n",
      "person 50.16031\n",
      "color 57.97093\n",
      "man 68.725006\n",
      "woman 53.992878\n",
      "person 50.16031\n",
      "racialized 34.79334\n",
      "classification 43.620155\n",
      "people 51.63681\n",
      "usually 43.34739\n",
      "political 53.04342\n",
      "skin 78.87063\n",
      "color 57.97093\n",
      "based 65.48822\n",
      "category 37.327602\n",
      "specific 46.39293\n",
      "population 56.26217\n",
      "mid 82.85134\n",
      "dark 54.89067\n",
      "brown 47.859325\n",
      "complexion 34.19395\n"
     ]
    }
   ],
   "source": [
    "for token in apple_1:\n",
    "    print(token.text,token.vector_norm)"
   ]
  },
  {
   "cell_type": "code",
   "execution_count": 153,
   "metadata": {},
   "outputs": [
    {
     "data": {
      "text/plain": [
       "people"
      ]
     },
     "execution_count": 153,
     "metadata": {},
     "output_type": "execute_result"
    }
   ],
   "source": [
    "apple_1[2]"
   ]
  },
  {
   "cell_type": "code",
   "execution_count": 111,
   "metadata": {},
   "outputs": [],
   "source": [
    "apple_3 = nlp_l(\"eye color, black eyes, black-eyed, black eye color, black eye colour,\\\n",
    "                black (eye color), black (eye colour), black (eye), black (eyes), black-eyed person,black-eyed human\")"
   ]
  },
  {
   "cell_type": "code",
   "execution_count": 114,
   "metadata": {},
   "outputs": [],
   "source": [
    "apple_4 = nlp_l(\"hole, astronomical object so massive, that anything falling into it,\\\n",
    "                including light, cannot escape its gravity, astronomical object type\")"
   ]
  },
  {
   "cell_type": "code",
   "execution_count": 177,
   "metadata": {},
   "outputs": [],
   "source": [
    "wd_str = \"\"\n",
    "for token in wd_en[\"black\"][151][\"Q19600530\"]:\n",
    "    if token != \"black\":\n",
    "        wd_str = wd_str + f\"{token} \""
   ]
  },
  {
   "cell_type": "code",
   "execution_count": 178,
   "metadata": {},
   "outputs": [
    {
     "data": {
      "text/plain": [
       "'life matter social movement blm international human right movement '"
      ]
     },
     "execution_count": 178,
     "metadata": {},
     "output_type": "execute_result"
    }
   ],
   "source": [
    "wd_str"
   ]
  },
  {
   "cell_type": "code",
   "execution_count": 157,
   "metadata": {},
   "outputs": [],
   "source": [
    "rm_str = \"\"\n",
    "for t in rm[\"en\"][\"blacks\"][\"wikidata\"]:\n",
    "    if t != \"blacks\":\n",
    "        rm_str = rm_str + f\"{t} \""
   ]
  },
  {
   "cell_type": "code",
   "execution_count": 181,
   "metadata": {},
   "outputs": [
    {
     "data": {
      "text/plain": [
       "'people race human categorization person color man woman person racialized classification people usually political skin color based category specific population mid dark brown complexion '"
      ]
     },
     "execution_count": 181,
     "metadata": {},
     "output_type": "execute_result"
    }
   ],
   "source": [
    "rm_str"
   ]
  },
  {
   "cell_type": "code",
   "execution_count": 1,
   "metadata": {},
   "outputs": [],
   "source": [
    "import scipy"
   ]
  },
  {
   "cell_type": "code",
   "execution_count": 2,
   "metadata": {},
   "outputs": [],
   "source": [
    "from scipy import spatial"
   ]
  },
  {
   "cell_type": "code",
   "execution_count": null,
   "metadata": {},
   "outputs": [],
   "source": [
    "1 - spatial.distance.cosine(dataSetI, dataSetII)"
   ]
  }
 ],
 "metadata": {
  "kernelspec": {
   "display_name": "Python 3",
   "language": "python",
   "name": "python3"
  },
  "language_info": {
   "codemirror_mode": {
    "name": "ipython",
    "version": 3
   },
   "file_extension": ".py",
   "mimetype": "text/x-python",
   "name": "python",
   "nbconvert_exporter": "python",
   "pygments_lexer": "ipython3",
   "version": "3.8.5"
  }
 },
 "nbformat": 4,
 "nbformat_minor": 4
}
