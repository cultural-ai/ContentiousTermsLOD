{
 "cells": [
  {
   "cell_type": "code",
   "execution_count": 1,
   "metadata": {},
   "outputs": [],
   "source": [
    "import json\n",
    "import sys"
   ]
  },
  {
   "cell_type": "code",
   "execution_count": 2,
   "metadata": {},
   "outputs": [],
   "source": [
    "sys.path.append('/Users/anesterov/reps/LODlit/LODlitParser')"
   ]
  },
  {
   "cell_type": "code",
   "execution_count": 3,
   "metadata": {},
   "outputs": [],
   "source": [
    "import bows"
   ]
  },
  {
   "cell_type": "code",
   "execution_count": 4,
   "metadata": {},
   "outputs": [],
   "source": [
    "import aat"
   ]
  },
  {
   "cell_type": "code",
   "execution_count": 5,
   "metadata": {},
   "outputs": [
    {
     "name": "stderr",
     "output_type": "stream",
     "text": [
      "/Users/anesterov/reps/LODlit/LODlitParser/bows.py:140: UserWarning: [W008] Evaluating Doc.similarity based on empty vectors.\n",
      "  sim = bow_1.similarity(bow_2)\n"
     ]
    }
   ],
   "source": [
    "cs = aat.get_cs(\"en\")"
   ]
  },
  {
   "cell_type": "code",
   "execution_count": 6,
   "metadata": {},
   "outputs": [
    {
     "data": {
      "text/html": [
       "<div>\n",
       "<style scoped>\n",
       "    .dataframe tbody tr th:only-of-type {\n",
       "        vertical-align: middle;\n",
       "    }\n",
       "\n",
       "    .dataframe tbody tr th {\n",
       "        vertical-align: top;\n",
       "    }\n",
       "\n",
       "    .dataframe thead th {\n",
       "        text-align: right;\n",
       "    }\n",
       "</style>\n",
       "<table border=\"1\" class=\"dataframe\">\n",
       "  <thead>\n",
       "    <tr style=\"text-align: right;\">\n",
       "      <th></th>\n",
       "      <th>term</th>\n",
       "      <th>URI</th>\n",
       "      <th>aat_bow</th>\n",
       "      <th>cs_rm</th>\n",
       "      <th>cs_wm</th>\n",
       "      <th>cs_rm_wm</th>\n",
       "    </tr>\n",
       "  </thead>\n",
       "  <tbody>\n",
       "    <tr>\n",
       "      <th>0</th>\n",
       "      <td>batavias</td>\n",
       "      <td>None</td>\n",
       "      <td>None</td>\n",
       "      <td>NaN</td>\n",
       "      <td>NaN</td>\n",
       "      <td>NaN</td>\n",
       "    </tr>\n",
       "    <tr>\n",
       "      <th>1</th>\n",
       "      <td>batavia</td>\n",
       "      <td>300012925</td>\n",
       "      <td>[batavia, jakarta, referring, formerly, resin,...</td>\n",
       "      <td>0.539955</td>\n",
       "      <td>0.727799</td>\n",
       "      <td>0.727617</td>\n",
       "    </tr>\n",
       "    <tr>\n",
       "      <th>5</th>\n",
       "      <td>southern rhodesia</td>\n",
       "      <td>None</td>\n",
       "      <td>None</td>\n",
       "      <td>NaN</td>\n",
       "      <td>NaN</td>\n",
       "      <td>NaN</td>\n",
       "    </tr>\n",
       "    <tr>\n",
       "      <th>6</th>\n",
       "      <td>madras</td>\n",
       "      <td>300265171</td>\n",
       "      <td>[company, folding, decoration, mainly, ten, la...</td>\n",
       "      <td>0.727107</td>\n",
       "      <td>0.712293</td>\n",
       "      <td>0.790667</td>\n",
       "    </tr>\n",
       "    <tr>\n",
       "      <th>7</th>\n",
       "      <td>madras</td>\n",
       "      <td>300265173</td>\n",
       "      <td>[japanese, company, decoration, large, oil, wa...</td>\n",
       "      <td>0.704346</td>\n",
       "      <td>0.760635</td>\n",
       "      <td>0.800528</td>\n",
       "    </tr>\n",
       "    <tr>\n",
       "      <th>...</th>\n",
       "      <td>...</td>\n",
       "      <td>...</td>\n",
       "      <td>...</td>\n",
       "      <td>...</td>\n",
       "      <td>...</td>\n",
       "      <td>...</td>\n",
       "    </tr>\n",
       "    <tr>\n",
       "      <th>7767</th>\n",
       "      <td>tribe</td>\n",
       "      <td>300438502</td>\n",
       "      <td>[mountain, moved, style, recognized, virginia,...</td>\n",
       "      <td>0.822619</td>\n",
       "      <td>0.728841</td>\n",
       "      <td>0.821555</td>\n",
       "    </tr>\n",
       "    <tr>\n",
       "      <th>7768</th>\n",
       "      <td>tribe</td>\n",
       "      <td>300391522</td>\n",
       "      <td>[volscian, volscan, culture, first, south, vol...</td>\n",
       "      <td>0.822421</td>\n",
       "      <td>0.743526</td>\n",
       "      <td>0.821018</td>\n",
       "    </tr>\n",
       "    <tr>\n",
       "      <th>7769</th>\n",
       "      <td>tribe</td>\n",
       "      <td>300438503</td>\n",
       "      <td>[waccamassus, speaking, moved, style, area, re...</td>\n",
       "      <td>0.852398</td>\n",
       "      <td>0.750603</td>\n",
       "      <td>0.850639</td>\n",
       "    </tr>\n",
       "    <tr>\n",
       "      <th>7770</th>\n",
       "      <td>tribe</td>\n",
       "      <td>300435659</td>\n",
       "      <td>[culture, state, north, native, tulalip, india...</td>\n",
       "      <td>0.823820</td>\n",
       "      <td>0.715182</td>\n",
       "      <td>0.818712</td>\n",
       "    </tr>\n",
       "    <tr>\n",
       "      <th>7771</th>\n",
       "      <td>tribe</td>\n",
       "      <td>300419345</td>\n",
       "      <td>[entity, administrative, tribal, enjoy, status...</td>\n",
       "      <td>0.851989</td>\n",
       "      <td>0.781778</td>\n",
       "      <td>0.854129</td>\n",
       "    </tr>\n",
       "  </tbody>\n",
       "</table>\n",
       "<p>6459 rows × 6 columns</p>\n",
       "</div>"
      ],
      "text/plain": [
       "                   term        URI  \\\n",
       "0              batavias       None   \n",
       "1               batavia  300012925   \n",
       "5     southern rhodesia       None   \n",
       "6                madras  300265171   \n",
       "7                madras  300265173   \n",
       "...                 ...        ...   \n",
       "7767              tribe  300438502   \n",
       "7768              tribe  300391522   \n",
       "7769              tribe  300438503   \n",
       "7770              tribe  300435659   \n",
       "7771              tribe  300419345   \n",
       "\n",
       "                                                aat_bow     cs_rm     cs_wm  \\\n",
       "0                                                  None       NaN       NaN   \n",
       "1     [batavia, jakarta, referring, formerly, resin,...  0.539955  0.727799   \n",
       "5                                                  None       NaN       NaN   \n",
       "6     [company, folding, decoration, mainly, ten, la...  0.727107  0.712293   \n",
       "7     [japanese, company, decoration, large, oil, wa...  0.704346  0.760635   \n",
       "...                                                 ...       ...       ...   \n",
       "7767  [mountain, moved, style, recognized, virginia,...  0.822619  0.728841   \n",
       "7768  [volscian, volscan, culture, first, south, vol...  0.822421  0.743526   \n",
       "7769  [waccamassus, speaking, moved, style, area, re...  0.852398  0.750603   \n",
       "7770  [culture, state, north, native, tulalip, india...  0.823820  0.715182   \n",
       "7771  [entity, administrative, tribal, enjoy, status...  0.851989  0.781778   \n",
       "\n",
       "      cs_rm_wm  \n",
       "0          NaN  \n",
       "1     0.727617  \n",
       "5          NaN  \n",
       "6     0.790667  \n",
       "7     0.800528  \n",
       "...        ...  \n",
       "7767  0.821555  \n",
       "7768  0.821018  \n",
       "7769  0.850639  \n",
       "7770  0.818712  \n",
       "7771  0.854129  \n",
       "\n",
       "[6459 rows x 6 columns]"
      ]
     },
     "execution_count": 6,
     "metadata": {},
     "output_type": "execute_result"
    }
   ],
   "source": [
    "cs.drop_duplicates([\"term\",\"URI\"])"
   ]
  },
  {
   "cell_type": "code",
   "execution_count": null,
   "metadata": {},
   "outputs": [],
   "source": []
  }
 ],
 "metadata": {
  "kernelspec": {
   "display_name": "Python 3",
   "language": "python",
   "name": "python3"
  },
  "language_info": {
   "codemirror_mode": {
    "name": "ipython",
    "version": 3
   },
   "file_extension": ".py",
   "mimetype": "text/x-python",
   "name": "python",
   "nbconvert_exporter": "python",
   "pygments_lexer": "ipython3",
   "version": "3.8.5"
  }
 },
 "nbformat": 4,
 "nbformat_minor": 4
}
