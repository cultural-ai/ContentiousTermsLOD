{
 "cells": [
  {
   "cell_type": "code",
   "execution_count": null,
   "metadata": {},
   "outputs": [],
   "source": [
    "import json\n",
    "import csv\n",
    "import pandas as pd"
   ]
  },
  {
   "cell_type": "code",
   "execution_count": null,
   "metadata": {},
   "outputs": [],
   "source": [
    "# reading results\n",
    "with open(\"odwn_query_results.json\",\"r\") as jf:\n",
    "    odwn_results = json.load(jf)"
   ]
  },
  {
   "cell_type": "code",
   "execution_count": null,
   "metadata": {},
   "outputs": [],
   "source": [
    "# importing query terms\n",
    "with open(\"/LODlit/query_terms.json\",\"r\") as jf:\n",
    "    query_terms = json.load(jf)"
   ]
  },
  {
   "cell_type": "markdown",
   "metadata": {},
   "source": [
    "### 1. N synsets and LE (without synsets) by query term"
   ]
  },
  {
   "cell_type": "code",
   "execution_count": null,
   "metadata": {},
   "outputs": [],
   "source": [
    "with open(\"odwn_synsets_LE_by_query_term.csv\",\"w\") as csv_file:\n",
    "    writer = csv.writer(csv_file)\n",
    "    header = [\"lemma\",\"query_term\",\"n_synsets\", \"n_LE\"]\n",
    "    writer.writerow(header)\n",
    "    \n",
    "    for query_term, results in odwn_results.items():\n",
    "        # taking only Dutch terms\n",
    "        for l, wordforms in query_terms[\"nl\"].items():\n",
    "            if query_term in wordforms:\n",
    "                lemma = l\n",
    "                \n",
    "            n_synsets = len(set([hit[\"synset_id\"] for hit in results if hit[\"synset_id\"] != \"\"]))\n",
    "            n_LE = len(set([hit[\"le_id\"] for hit in results if hit[\"synset_id\"] == \"\"]))\n",
    "            \n",
    "        row = [lemma,query_term,n_synsets,n_LE]\n",
    "        writer.writerow(row)"
   ]
  },
  {
   "cell_type": "markdown",
   "metadata": {},
   "source": [
    "### 2. N synsets and LE (without synsets) by lemma"
   ]
  },
  {
   "cell_type": "code",
   "execution_count": null,
   "metadata": {},
   "outputs": [],
   "source": [
    "df = pd.read_csv(\"odwn_synsets_LE_by_query_term.csv\")"
   ]
  },
  {
   "cell_type": "code",
   "execution_count": null,
   "metadata": {},
   "outputs": [],
   "source": [
    "with open(\"odwn_synsets_LE_by_lemma.csv\",\"w\") as csv_file:\n",
    "    writer = csv.writer(csv_file)\n",
    "    header = [\"lemma\",\"n_synsets\",\"n_LE\"]\n",
    "    writer.writerow(header)\n",
    "\n",
    "    for group in df.groupby(\"lemma\"):\n",
    "        row = [group[0],sum(group[1][\"n_synsets\"]),sum(group[1][\"n_LE\"])]\n",
    "        writer.writerow(row)"
   ]
  },
  {
   "cell_type": "markdown",
   "metadata": {},
   "source": [
    "### 3. N hits (occurences) by query term"
   ]
  },
  {
   "cell_type": "code",
   "execution_count": null,
   "metadata": {},
   "outputs": [],
   "source": [
    "with open(\"odwn_hits_by_query_term.csv\",\"w\") as csv_file:\n",
    "    writer = csv.writer(csv_file)\n",
    "    header = [\"lemma\",\"query_term\",\"le_written_form\",\"sense_definition\",\"sense_examples\",\"synset_definition\",\"total_query_term\"]\n",
    "    writer.writerow(header)\n",
    "    \n",
    "    for query_term, results in odwn_results.items():\n",
    "        \n",
    "        le_written_form = 0\n",
    "        sense_definition = 0\n",
    "        sense_examples = 0\n",
    "        synset_definition = 0\n",
    "        \n",
    "        # taking only Dutch terms\n",
    "        for l, wordforms in query_terms[\"nl\"].items():\n",
    "            if query_term in wordforms:\n",
    "                lemma = l\n",
    "        \n",
    "        # checking where query terms were found\n",
    "        for hit in results:\n",
    "            if hit[\"found_in\"] == \"le\":\n",
    "                le_written_form += 1\n",
    "            if hit[\"found_in\"] == \"sense_definition\":\n",
    "                sense_definition += 1\n",
    "            if hit[\"found_in\"] == \"sense_examples\":\n",
    "                sense_examples += 1\n",
    "            if hit[\"found_in\"] == \"synset_definitions\":\n",
    "                synset_definition += 1\n",
    "                \n",
    "        total_count = le_written_form + sense_definition + sense_examples + synset_definition\n",
    "        row = [lemma,query_term,le_written_form,sense_definition,sense_examples,synset_definition,total_count]\n",
    "        writer.writerow(row)"
   ]
  },
  {
   "cell_type": "markdown",
   "metadata": {},
   "source": [
    "### 4. N hits (occurences) by lemma"
   ]
  },
  {
   "cell_type": "code",
   "execution_count": null,
   "metadata": {},
   "outputs": [],
   "source": [
    "df = pd.read_csv(\"odwn_hits_by_query_term.csv\")"
   ]
  },
  {
   "cell_type": "code",
   "execution_count": null,
   "metadata": {},
   "outputs": [],
   "source": [
    "with open(\"odwn_hits_by_lemma.csv\",\"w\") as csv_file:\n",
    "    writer = csv.writer(csv_file)\n",
    "    header = [\"lemma\",\"le_written_form\",\"sense_definition\",\"sense_examples\",\"synset_definition\",\"total_lemma\"]\n",
    "    writer.writerow(header)\n",
    "\n",
    "    for group in df.groupby(\"lemma\"):\n",
    "        row = [group[0],sum(group[1][\"le_written_form\"]),sum(group[1][\"sense_definition\"]),\\\n",
    "              sum(group[1][\"sense_examples\"]),sum(group[1][\"synset_definition\"]),sum(group[1][\"total_per_query_term\"])]\n",
    "        writer.writerow(row)"
   ]
  },
  {
   "cell_type": "code",
   "execution_count": null,
   "metadata": {},
   "outputs": [],
   "source": []
  }
 ],
 "metadata": {
  "kernelspec": {
   "display_name": "Python 3 (ipykernel)",
   "language": "python",
   "name": "python3"
  },
  "language_info": {
   "codemirror_mode": {
    "name": "ipython",
    "version": 3
   },
   "file_extension": ".py",
   "mimetype": "text/x-python",
   "name": "python",
   "nbconvert_exporter": "python",
   "pygments_lexer": "ipython3",
   "version": "3.8.5"
  }
 },
 "nbformat": 4,
 "nbformat_minor": 4
}
