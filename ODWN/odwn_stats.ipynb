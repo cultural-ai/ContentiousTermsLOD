{
 "cells": [
  {
   "cell_type": "code",
   "execution_count": 1,
   "metadata": {},
   "outputs": [],
   "source": [
    "import json\n",
    "import csv"
   ]
  },
  {
   "cell_type": "code",
   "execution_count": 2,
   "metadata": {},
   "outputs": [],
   "source": [
    "# reading results\n",
    "with open('odwn_query_results.json','r') as jf:\n",
    "    odwn_results_nl = json.load(jf)"
   ]
  },
  {
   "cell_type": "code",
   "execution_count": 3,
   "metadata": {},
   "outputs": [],
   "source": [
    "# reading the file with contentious terms NL\n",
    "with open('/Users/anesterov/reps/LODlit/query_terms_cont_nl.json','r') as jf:\n",
    "    query_terms_cont_nl = json.load(jf)"
   ]
  },
  {
   "cell_type": "markdown",
   "metadata": {},
   "source": [
    "#### Count by query term"
   ]
  },
  {
   "cell_type": "code",
   "execution_count": 4,
   "metadata": {},
   "outputs": [],
   "source": [
    "with open('odwn_count_by_query_term.csv','w') as csv_file:\n",
    "    writer = csv.writer(csv_file)\n",
    "    header = ['lemma','query_term','le','sense_definition','sense_examples','synset_definition','total_per_query_term']\n",
    "    writer.writerow(header)\n",
    "\n",
    "    for lemma, forms in query_terms_cont_nl.items():\n",
    "\n",
    "        list_of_query_terms = [] # lemmas and forms of query terms\n",
    "        list_of_query_terms.append(lemma)\n",
    "        list_of_query_terms.extend(forms)\n",
    "\n",
    "        for query_term in list_of_query_terms:\n",
    "\n",
    "            le_count = 0\n",
    "            sense_definition_count = 0\n",
    "            sense_examples_count = 0\n",
    "            synset_definition_count = 0\n",
    "\n",
    "            for term, results in odwn_results_nl.items():\n",
    "                for result in results:\n",
    "                    if result['query_term'] == query_term:\n",
    "                        if result['found_in'] == 'le':\n",
    "                            le_count += 1\n",
    "                        if result['found_in'] == 'sense_definition':\n",
    "                            sense_definition_count += 1\n",
    "                        if result['found_in'] == 'sense_examples':\n",
    "                            sense_examples_count += 1\n",
    "                        if result['found_in'] == 'synset_definitions':\n",
    "                            synset_definition_count += 1\n",
    "            total_count = le_count + sense_definition_count + sense_examples_count + synset_definition_count\n",
    "\n",
    "            writer.writerow([lemma,query_term,le_count,sense_definition_count,sense_examples_count,synset_definition_count,total_count])"
   ]
  },
  {
   "cell_type": "markdown",
   "metadata": {},
   "source": [
    "#### Count by lemma"
   ]
  },
  {
   "cell_type": "code",
   "execution_count": 5,
   "metadata": {},
   "outputs": [],
   "source": [
    "with open('odwn_count_by_lemma.csv','w') as csv_file:\n",
    "    writer = csv.writer(csv_file)\n",
    "    header = ['lemma','le','sense_definition','sense_examples','synset_definition','total_per_lemma']\n",
    "    writer.writerow(header)\n",
    "\n",
    "    for lemma, forms in query_terms_cont_nl.items():\n",
    "\n",
    "        list_of_query_terms = [] # lemmas and forms of query terms\n",
    "        list_of_query_terms.append(lemma)\n",
    "        list_of_query_terms.extend(forms)\n",
    "        \n",
    "        # counters per lemma\n",
    "        le_count = 0\n",
    "        sense_definition_count = 0\n",
    "        sense_examples_count = 0\n",
    "        synset_definition_count = 0\n",
    "\n",
    "        for query_term in list_of_query_terms:\n",
    "            for term, results in odwn_results_nl.items():\n",
    "                for result in results:\n",
    "                    if result['query_term'] == query_term:\n",
    "                        if result['found_in'] == 'le':\n",
    "                            le_count += 1\n",
    "                        if result['found_in'] == 'sense_definition':\n",
    "                            sense_definition_count += 1\n",
    "                        if result['found_in'] == 'sense_examples':\n",
    "                            sense_examples_count += 1\n",
    "                        if result['found_in'] == 'synset_definitions':\n",
    "                            synset_definition_count += 1\n",
    "                            \n",
    "        total_count = le_count + sense_definition_count + sense_examples_count + synset_definition_count\n",
    "\n",
    "        writer.writerow([lemma,le_count,sense_definition_count,sense_examples_count,synset_definition_count,total_count])"
   ]
  },
  {
   "cell_type": "code",
   "execution_count": null,
   "metadata": {},
   "outputs": [],
   "source": []
  }
 ],
 "metadata": {
  "kernelspec": {
   "display_name": "Python 3",
   "language": "python",
   "name": "python3"
  },
  "language_info": {
   "codemirror_mode": {
    "name": "ipython",
    "version": 3
   },
   "file_extension": ".py",
   "mimetype": "text/x-python",
   "name": "python",
   "nbconvert_exporter": "python",
   "pygments_lexer": "ipython3",
   "version": "3.8.5"
  }
 },
 "nbformat": 4,
 "nbformat_minor": 4
}
