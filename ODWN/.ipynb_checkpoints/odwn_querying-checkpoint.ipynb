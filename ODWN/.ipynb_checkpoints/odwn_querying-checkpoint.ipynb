{
 "cells": [
  {
   "cell_type": "code",
   "execution_count": null,
   "metadata": {},
   "outputs": [],
   "source": [
    "from OpenDutchWordnet import Wn_grid_parser\n",
    "import json\n",
    "import csv\n",
    "import re"
   ]
  },
  {
   "cell_type": "code",
   "execution_count": null,
   "metadata": {},
   "outputs": [],
   "source": [
    "instance = Wn_grid_parser(Wn_grid_parser.odwn)"
   ]
  },
  {
   "cell_type": "code",
   "execution_count": null,
   "metadata": {},
   "outputs": [],
   "source": [
    "# loading NL query terms\n",
    "\n",
    "with open('query_terms_cont_nl.json','r') as jf:\n",
    "    query_terms_cont_nl = json.load(jf)"
   ]
  },
  {
   "cell_type": "code",
   "execution_count": null,
   "metadata": {},
   "outputs": [],
   "source": [
    "# there are 82 lemmas of the Dutch query terms \n",
    "len(query_terms_cont_nl)"
   ]
  },
  {
   "cell_type": "code",
   "execution_count": null,
   "metadata": {},
   "outputs": [],
   "source": [
    "# loading synset definitions from a json file\n",
    "\n",
    "with open('ODWN/odwn_synset_glosses.json', 'r') as jf:\n",
    "    all_synset_definitions = json.load(jf)"
   ]
  },
  {
   "cell_type": "code",
   "execution_count": null,
   "metadata": {},
   "outputs": [],
   "source": [
    "def search_results_generator(query_term:str,le:'le.Le',all_synset_definitions:dict,found_in:str,example=\"\") -> dict:\n",
    "    \n",
    "    \"\"\"\n",
    "    Returns a dict of search results\n",
    "    This function does not search the query terms,\n",
    "    But only shapes the search results in a dict\n",
    "    \"\"\"\n",
    "    \n",
    "    result_dict = {}\n",
    "    result_dict['query_term'] = query_term\n",
    "    result_dict['le_id'] = le.get_id()\n",
    "    result_dict['le_written_form'] = le.get_lemma()\n",
    "    result_dict['sense_id'] = le.get_sense_id()\n",
    "    result_dict['sense_definition'] = le.get_definition()\n",
    "    result_dict['sense_examples'] = le.get_sense_example()\n",
    "\n",
    "    if le.get_synset_id() != None:\n",
    "        synset_id = le.get_synset_id()\n",
    "        result_dict['synset_id'] = synset_id\n",
    "        result_dict['synonyms'] = [les.get_lemma() for les in instance.les_all_les_of_one_synset(synset_id)]\n",
    "        if synset_id in all_synset_definitions.keys():\n",
    "            result_dict['synset_definitions'] = all_synset_definitions[synset_id]\n",
    "        else:\n",
    "            result_dict['synset_definitions'] = []\n",
    "    else:\n",
    "        result_dict['synset_id'] = \"\"\n",
    "        result_dict['synonyms'] = []\n",
    "        result_dict['synset_definitions'] = []\n",
    "        \n",
    "    result_dict['found_in'] = found_in\n",
    "    \n",
    "    if found_in == 'sense_examples':\n",
    "        result_dict['found_in_example'] = example\n",
    "    \n",
    "    return result_dict"
   ]
  },
  {
   "cell_type": "code",
   "execution_count": null,
   "metadata": {},
   "outputs": [],
   "source": [
    "odwn_results_nl = {}\n",
    "\n",
    "for lemma, forms in query_terms_cont_nl.items():\n",
    "\n",
    "    list_of_query_terms = []\n",
    "    list_of_query_terms.append(lemma)\n",
    "    list_of_query_terms.extend(forms)\n",
    "\n",
    "    for query_term in list_of_query_terms:\n",
    "        \n",
    "        results = []\n",
    "\n",
    "        # searching in lemmas\n",
    "        for le in instance.lemma_get_generator(query_term,ignore_case=True):\n",
    "            results.append(search_results_generator(query_term,le,all_synset_definitions,\"le\"))\n",
    "\n",
    "        # Iterating over all Lexical Entries\n",
    "        \n",
    "        # searching in sense definitions\n",
    "        for le in instance.les_get_generator():\n",
    "            if len(re.findall(f'\\\\b{query_term}\\\\b',le.get_definition(),re.IGNORECASE)) > 0:\n",
    "                results.append(search_results_generator(query_term,le,all_synset_definitions,\"sense_definition\"))\n",
    "\n",
    "            # searching in sense examples\n",
    "            for example in le.get_sense_example():\n",
    "                if len(re.findall(f'\\\\b{query_term}\\\\b',example,re.IGNORECASE)) > 0:\n",
    "                    results.append(search_results_generator(query_term,le,all_synset_definitions,\"sense_examples\",example))\n",
    "\n",
    "        # searching in synset definitions\n",
    "        for synset_id, definitions in all_synset_definitions.items():\n",
    "            for d in definitions:\n",
    "                 if len(re.findall(f'\\\\b{query_term}\\\\b',d,re.IGNORECASE)) > 0:\n",
    "                        # results for synsets are different, so we don't use the function\n",
    "                        result_dict = {}\n",
    "                        result_dict['query_term'] = query_term\n",
    "                        result_dict['synset_id'] = synset_id\n",
    "                        result_dict['synonyms'] = [les.get_lemma() for les in instance.les_all_les_of_one_synset(synset_id)]\n",
    "                        result_dict['synset_definitions'] = all_synset_definitions[synset_id]\n",
    "                        result_dict['found_in'] = \"synset_definitions\"\n",
    "                        result_dict['found_in_synset_definition'] = d\n",
    "                        results.append(result_dict)\n",
    "\n",
    "        odwn_results_nl[query_term] = results"
   ]
  },
  {
   "cell_type": "code",
   "execution_count": null,
   "metadata": {},
   "outputs": [],
   "source": [
    "# saving the query results in a json file\n",
    "\n",
    "with open('odwn_query_results.json', 'w') as jf:\n",
    "    json.dump(odwn_results_nl, jf)"
   ]
  },
  {
   "cell_type": "code",
   "execution_count": null,
   "metadata": {},
   "outputs": [],
   "source": []
  }
 ],
 "metadata": {
  "kernelspec": {
   "display_name": "Python 3",
   "language": "python",
   "name": "python3"
  },
  "language_info": {
   "codemirror_mode": {
    "name": "ipython",
    "version": 3
   },
   "file_extension": ".py",
   "mimetype": "text/x-python",
   "name": "python",
   "nbconvert_exporter": "python",
   "pygments_lexer": "ipython3",
   "version": "3.8.5"
  }
 },
 "nbformat": 4,
 "nbformat_minor": 4
}
