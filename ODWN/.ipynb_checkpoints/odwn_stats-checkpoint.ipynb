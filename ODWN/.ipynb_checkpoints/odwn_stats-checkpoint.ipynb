{
 "cells": [
  {
   "cell_type": "code",
   "execution_count": null,
   "metadata": {},
   "outputs": [],
   "source": [
    "import json\n",
    "import csv"
   ]
  },
  {
   "cell_type": "code",
   "execution_count": null,
   "metadata": {},
   "outputs": [],
   "source": [
    "# reading results\n",
    "with open('odwn_query_results.json','r') as jf:\n",
    "    odwn_results_nl = json.load(jf)"
   ]
  },
  {
   "cell_type": "markdown",
   "metadata": {},
   "source": [
    "#### Count by query term REWRITE"
   ]
  },
  {
   "cell_type": "code",
   "execution_count": null,
   "metadata": {},
   "outputs": [],
   "source": [
    "with open('odwn_count_by_query_term.csv','w') as csv_file:\n",
    "    writer = csv.writer(csv_file)\n",
    "    header = ['lemma','query_term','le','sense_definition','sense_examples','synset_definition','total_per_query_term']\n",
    "    writer.writerow(header)\n",
    "\n",
    "    for key, forms in query_terms_cont_nl.items():\n",
    "\n",
    "        list_of_query_terms = [] # lemmas and forms of query terms\n",
    "        list_of_query_terms.append(key)\n",
    "        list_of_query_terms.extend(forms)\n",
    "\n",
    "        for query_term in list_of_query_terms:\n",
    "\n",
    "            le_count = 0\n",
    "            sense_definition_count = 0\n",
    "            sense_examples_count = 0\n",
    "            synset_definition_count = 0\n",
    "\n",
    "            for lemma, results in odwn_results_nl.items():\n",
    "                for result in results:\n",
    "                    if result['query_term'] == query_term:\n",
    "                        if result['found_in'] == 'le':\n",
    "                            le_count += 1\n",
    "                        if result['found_in'] == 'sense_definition':\n",
    "                            sense_definition_count += 1\n",
    "                        if result['found_in'] == 'sense_examples':\n",
    "                            sense_examples_count += 1\n",
    "                        if result['found_in'] == 'synset_definitions':\n",
    "                            synset_definition_count += 1\n",
    "            total_count = le_count + sense_definition_count + sense_examples_count + synset_definition_count\n",
    "\n",
    "            writer.writerow([key,query_term,le_count,sense_definition_count,sense_examples_count,synset_definition_count,total_count])"
   ]
  },
  {
   "cell_type": "markdown",
   "metadata": {},
   "source": [
    "#### Count by lemma REWRITE"
   ]
  },
  {
   "cell_type": "code",
   "execution_count": null,
   "metadata": {},
   "outputs": [],
   "source": [
    "with open('odwn_count_by_lemma.csv','w') as csv_file:\n",
    "    writer = csv.writer(csv_file)\n",
    "    header = ['lemma','le','sense_definition','sense_examples','synset_definition','total_per_lemma']\n",
    "    writer.writerow(header)\n",
    "\n",
    "    for lemma, results in odwn_results_nl.items():\n",
    "        \n",
    "        le_count = 0\n",
    "        sense_definition_count = 0\n",
    "        sense_examples_count = 0\n",
    "        synset_definition_count = 0\n",
    "        total_count = 0\n",
    "        \n",
    "        for result in results:\n",
    "            if result['found_in'] == 'le':\n",
    "                le_count += 1\n",
    "            if result['found_in'] == 'sense_definition':\n",
    "                sense_definition_count += 1\n",
    "            if result['found_in'] == 'sense_examples':\n",
    "                sense_examples_count += 1\n",
    "            if result['found_in'] == 'synset_definitions':\n",
    "                synset_definition_count += 1\n",
    "                \n",
    "        total_count = len(results)\n",
    "        \n",
    "        writer.writerow([lemma,le_count,sense_definition_count,sense_examples_count,synset_definition_count,total_count])"
   ]
  },
  {
   "cell_type": "code",
   "execution_count": null,
   "metadata": {},
   "outputs": [],
   "source": []
  }
 ],
 "metadata": {
  "kernelspec": {
   "display_name": "Python 3",
   "language": "python",
   "name": "python3"
  },
  "language_info": {
   "codemirror_mode": {
    "name": "ipython",
    "version": 3
   },
   "file_extension": ".py",
   "mimetype": "text/x-python",
   "name": "python",
   "nbconvert_exporter": "python",
   "pygments_lexer": "ipython3",
   "version": "3.8.5"
  }
 },
 "nbformat": 4,
 "nbformat_minor": 4
}
