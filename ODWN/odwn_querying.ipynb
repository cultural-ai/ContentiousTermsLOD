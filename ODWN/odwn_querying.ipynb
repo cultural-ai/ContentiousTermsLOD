{
 "cells": [
  {
   "cell_type": "code",
   "execution_count": 1,
   "metadata": {},
   "outputs": [],
   "source": [
    "from OpenDutchWordnet import Wn_grid_parser\n",
    "import json\n",
    "import csv\n",
    "import re"
   ]
  },
  {
   "cell_type": "code",
   "execution_count": 2,
   "metadata": {},
   "outputs": [],
   "source": [
    "instance = Wn_grid_parser(Wn_grid_parser.odwn)"
   ]
  },
  {
   "cell_type": "code",
   "execution_count": 3,
   "metadata": {},
   "outputs": [],
   "source": [
    "# loading NL query terms\n",
    "\n",
    "with open('/Users/anesterov/reps/words-matter/labels_in_LOD/query_terms_cont_nl.json','r') as jf:\n",
    "    query_terms_cont_nl = json.load(jf)"
   ]
  },
  {
   "cell_type": "code",
   "execution_count": 4,
   "metadata": {},
   "outputs": [
    {
     "data": {
      "text/plain": [
       "82"
      ]
     },
     "execution_count": 4,
     "metadata": {},
     "output_type": "execute_result"
    }
   ],
   "source": [
    "# there are 82 lemmas of the Dutch query terms \n",
    "len(query_terms_cont_nl)"
   ]
  },
  {
   "cell_type": "code",
   "execution_count": 5,
   "metadata": {},
   "outputs": [],
   "source": [
    "# loading synset definitions from a json file\n",
    "\n",
    "with open('/Users/anesterov/reps/words-matter/labels_in_LOD/odwn/odnw_synset_glosses.json', 'r') as jf:\n",
    "    all_synset_definitions = json.load(jf)"
   ]
  },
  {
   "cell_type": "code",
   "execution_count": 6,
   "metadata": {},
   "outputs": [],
   "source": [
    "def search_results_generator(query_term:str,le:'le.Le',all_synset_definitions:dict,found_in:str,example=\"\") -> dict:\n",
    "    \n",
    "    \"\"\"\n",
    "    Returns a dict of search results\n",
    "    This function does not search the query terms,\n",
    "    But only shapes the search results in a dict\n",
    "    \"\"\"\n",
    "    \n",
    "    result_dict = {}\n",
    "    result_dict['query_term'] = query_term\n",
    "    result_dict['le_id'] = le.get_id()\n",
    "    result_dict['le_written_form'] = le.get_lemma()\n",
    "    result_dict['sense_id'] = le.get_sense_id()\n",
    "    result_dict['sense_definition'] = le.get_definition()\n",
    "    result_dict['sense_examples'] = le.get_sense_example()\n",
    "\n",
    "    if le.get_synset_id() != None:\n",
    "        synset_id = le.get_synset_id()\n",
    "        result_dict['synset_id'] = synset_id\n",
    "        result_dict['synonyms'] = [les.get_lemma() for les in instance.les_all_les_of_one_synset(synset_id)]\n",
    "        if synset_id in all_synset_definitions.keys():\n",
    "            result_dict['synset_definitions'] = all_synset_definitions[synset_id]\n",
    "        else:\n",
    "            result_dict['synset_definitions'] = []\n",
    "    else:\n",
    "        result_dict['synset_id'] = \"\"\n",
    "        result_dict['synonyms'] = []\n",
    "        result_dict['synset_definitions'] = []\n",
    "        \n",
    "    result_dict['found_in'] = found_in\n",
    "    \n",
    "    if found_in == 'sense_examples':\n",
    "        result_dict['found_in_example'] = example\n",
    "    \n",
    "    return result_dict"
   ]
  },
  {
   "cell_type": "code",
   "execution_count": 7,
   "metadata": {},
   "outputs": [],
   "source": [
    "### replace 'lemma' with a query terms and move the results list;\n",
    "### indentation of the resulting dict\n",
    "### generate a new results file!"
   ]
  },
  {
   "cell_type": "code",
   "execution_count": 8,
   "metadata": {},
   "outputs": [],
   "source": [
    "odwn_results_nl = {}\n",
    "\n",
    "for lemma, forms in query_terms_cont_nl.items():\n",
    "\n",
    "    list_of_query_terms = []\n",
    "    list_of_query_terms.append(lemma)\n",
    "    list_of_query_terms.extend(forms)\n",
    "\n",
    "    for query_term in list_of_query_terms:\n",
    "        \n",
    "        results = []\n",
    "\n",
    "        # searching in lemmas\n",
    "        for le in instance.lemma_get_generator(query_term,ignore_case=True):\n",
    "            results.append(search_results_generator(query_term,le,all_synset_definitions,\"le\"))\n",
    "\n",
    "        # Iterating over all Lexical Entries\n",
    "        \n",
    "        # searching in sense definitions\n",
    "        for le in instance.les_get_generator():\n",
    "            if len(re.findall(f'\\\\b{query_term}\\\\b',le.get_definition(),re.IGNORECASE)) > 0:\n",
    "                results.append(search_results_generator(query_term,le,all_synset_definitions,\"sense_definition\"))\n",
    "\n",
    "            # searching in sense examples\n",
    "            for example in le.get_sense_example():\n",
    "                if len(re.findall(f'\\\\b{query_term}\\\\b',example,re.IGNORECASE)) > 0:\n",
    "                    results.append(search_results_generator(query_term,le,all_synset_definitions,\"sense_examples\",example))\n",
    "\n",
    "        # searching in synset definitions\n",
    "        for synset_id, definitions in all_synset_definitions.items():\n",
    "            for d in definitions:\n",
    "                 if len(re.findall(f'\\\\b{query_term}\\\\b',d,re.IGNORECASE)) > 0:\n",
    "                        # results for synsets are different, so we don't use the function\n",
    "                        result_dict = {}\n",
    "                        result_dict['query_term'] = query_term\n",
    "                        result_dict['synset_id'] = synset_id\n",
    "                        result_dict['synonyms'] = [les.get_lemma() for les in instance.les_all_les_of_one_synset(synset_id)]\n",
    "                        result_dict['synset_definitions'] = all_synset_definitions[synset_id]\n",
    "                        result_dict['found_in'] = \"synset_definitions\"\n",
    "                        result_dict['found_in_synset_definition'] = d\n",
    "                        results.append(result_dict)\n",
    "\n",
    "        odwn_results_nl[query_term] = results"
   ]
  },
  {
   "cell_type": "code",
   "execution_count": 9,
   "metadata": {},
   "outputs": [],
   "source": [
    "# new file\n",
    "# saving the query results in a json file\n",
    "\n",
    "with open('odwn_query_results_new.json', 'w') as jf:\n",
    "    json.dump(odwn_results_nl, jf)"
   ]
  },
  {
   "cell_type": "code",
   "execution_count": 4,
   "metadata": {},
   "outputs": [],
   "source": [
    "# reading results\n",
    "with open('odwn_query_results.json','r') as jf:\n",
    "    odwn_results_nl = json.load(jf)"
   ]
  },
  {
   "cell_type": "markdown",
   "metadata": {},
   "source": [
    "#### Count by query term"
   ]
  },
  {
   "cell_type": "code",
   "execution_count": 6,
   "metadata": {},
   "outputs": [],
   "source": [
    "with open('ODWN/odwn_count_by_query_term.csv','w') as csv_file:\n",
    "    writer = csv.writer(csv_file)\n",
    "    header = ['lemma','query_term','le','sense_definition','sense_examples','synset_definition','total_per_query_term']\n",
    "    writer.writerow(header)\n",
    "\n",
    "    for key, forms in query_terms_cont_nl.items():\n",
    "\n",
    "        list_of_query_terms = [] # lemmas and forms of query terms\n",
    "        list_of_query_terms.append(key)\n",
    "        list_of_query_terms.extend(forms)\n",
    "\n",
    "        for query_term in list_of_query_terms:\n",
    "\n",
    "            le_count = 0\n",
    "            sense_definition_count = 0\n",
    "            sense_examples_count = 0\n",
    "            synset_definition_count = 0\n",
    "\n",
    "            for lemma, results in odwn_results_nl.items():\n",
    "                for result in results:\n",
    "                    if result['query_term'] == query_term:\n",
    "                        if result['found_in'] == 'le':\n",
    "                            le_count += 1\n",
    "                        if result['found_in'] == 'sense_definition':\n",
    "                            sense_definition_count += 1\n",
    "                        if result['found_in'] == 'sense_examples':\n",
    "                            sense_examples_count += 1\n",
    "                        if result['found_in'] == 'synset_definitions':\n",
    "                            synset_definition_count += 1\n",
    "            total_count = le_count + sense_definition_count + sense_examples_count + synset_definition_count\n",
    "\n",
    "            writer.writerow([key,query_term,le_count,sense_definition_count,sense_examples_count,synset_definition_count,total_count])"
   ]
  },
  {
   "cell_type": "markdown",
   "metadata": {},
   "source": [
    "#### Count by lemma"
   ]
  },
  {
   "cell_type": "code",
   "execution_count": 7,
   "metadata": {},
   "outputs": [],
   "source": [
    "with open('ODWN/odwn_count_by_lemma.csv','w') as csv_file:\n",
    "    writer = csv.writer(csv_file)\n",
    "    header = ['lemma','le','sense_definition','sense_examples','synset_definition','total_per_lemma']\n",
    "    writer.writerow(header)\n",
    "\n",
    "    for lemma, results in odwn_results_nl.items():\n",
    "        \n",
    "        le_count = 0\n",
    "        sense_definition_count = 0\n",
    "        sense_examples_count = 0\n",
    "        synset_definition_count = 0\n",
    "        total_count = 0\n",
    "        \n",
    "        for result in results:\n",
    "            if result['found_in'] == 'le':\n",
    "                le_count += 1\n",
    "            if result['found_in'] == 'sense_definition':\n",
    "                sense_definition_count += 1\n",
    "            if result['found_in'] == 'sense_examples':\n",
    "                sense_examples_count += 1\n",
    "            if result['found_in'] == 'synset_definitions':\n",
    "                synset_definition_count += 1\n",
    "                \n",
    "        total_count = len(results)\n",
    "        \n",
    "        writer.writerow([lemma,le_count,sense_definition_count,sense_examples_count,synset_definition_count,total_count])"
   ]
  },
  {
   "cell_type": "code",
   "execution_count": null,
   "metadata": {},
   "outputs": [],
   "source": []
  }
 ],
 "metadata": {
  "kernelspec": {
   "display_name": "Python 3",
   "language": "python",
   "name": "python3"
  },
  "language_info": {
   "codemirror_mode": {
    "name": "ipython",
    "version": 3
   },
   "file_extension": ".py",
   "mimetype": "text/x-python",
   "name": "python",
   "nbconvert_exporter": "python",
   "pygments_lexer": "ipython3",
   "version": "3.8.5"
  }
 },
 "nbformat": 4,
 "nbformat_minor": 4
}
