{
 "cells": [
  {
   "cell_type": "code",
   "execution_count": null,
   "metadata": {},
   "outputs": [],
   "source": [
    "from OpenDutchWordnet import Wn_grid_parser"
   ]
  },
  {
   "cell_type": "code",
   "execution_count": null,
   "metadata": {},
   "outputs": [],
   "source": [
    "# creating an instance\n",
    "instance = Wn_grid_parser(Wn_grid_parser.odwn)"
   ]
  },
  {
   "cell_type": "code",
   "execution_count": null,
   "metadata": {},
   "outputs": [],
   "source": [
    "def search_term_odwn(term:str) -> None:\n",
    "    \n",
    "    c = 0\n",
    "    les = instance.lemma_get_generator(term,ignore_case=True)\n",
    "    \n",
    "    if len(les) > 0:\n",
    "        print(f\"{term} is found in {len(les)} Lexical entries\\n\")\n",
    "        for le in les:\n",
    "            c += 1\n",
    "            print(f\"{c}. Lemma: {le.get_lemma()}, Definition: {le.get_definition()}, Examples: {le.get_sense_example()}, Synset ID: {le.get_id()}\\n\")\n",
    "    else:\n",
    "        print(f\"{term} is not found\")\n",
    "    \n",
    "    return None"
   ]
  },
  {
   "cell_type": "code",
   "execution_count": null,
   "metadata": {},
   "outputs": [],
   "source": [
    "search_term_odwn(\"zwarte\")"
   ]
  },
  {
   "cell_type": "code",
   "execution_count": null,
   "metadata": {},
   "outputs": [],
   "source": []
  }
 ],
 "metadata": {
  "kernelspec": {
   "display_name": "Python 3",
   "language": "python",
   "name": "python3"
  },
  "language_info": {
   "codemirror_mode": {
    "name": "ipython",
    "version": 3
   },
   "file_extension": ".py",
   "mimetype": "text/x-python",
   "name": "python",
   "nbconvert_exporter": "python",
   "pygments_lexer": "ipython3",
   "version": "3.8.5"
  }
 },
 "nbformat": 4,
 "nbformat_minor": 4
}
