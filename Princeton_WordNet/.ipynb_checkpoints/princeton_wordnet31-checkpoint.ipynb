{
 "cells": [
  {
   "cell_type": "code",
   "execution_count": 1,
   "metadata": {},
   "outputs": [],
   "source": [
    "import json\n",
    "import csv\n",
    "import re\n",
    "# data is taken from 'https://github.com/nltk/nltk_data/blob/gh-pages/packages/corpora/wordnet31.zip'\n",
    "# the package 'wordnet31' was renamed to 'wordnet' due to parsing errors\n",
    "# the script to get definition and examples was edited (see 'nltk/nltk/corpus/reader/wordnet.py') to retrieve examples\n",
    "from nltk.corpus import wordnet as wn"
   ]
  },
  {
   "cell_type": "code",
   "execution_count": null,
   "metadata": {},
   "outputs": [],
   "source": [
    "with open('query_terms_cont_en.json','r') as jf:\n",
    "    query_terms_cont_en = json.load(jf)"
   ]
  },
  {
   "cell_type": "code",
   "execution_count": null,
   "metadata": {
    "scrolled": true
   },
   "outputs": [],
   "source": [
    "# there are 75 English query terms\n",
    "len(query_terms_cont_en)"
   ]
  },
  {
   "cell_type": "code",
   "execution_count": null,
   "metadata": {},
   "outputs": [],
   "source": [
    "wn_results_en = {}\n",
    "\n",
    "for lemma, forms in query_terms_cont_en.items():\n",
    "    \n",
    "    list_of_query_terms = [] # lemmas and forms of query terms\n",
    "    list_of_query_terms.append(lemma)\n",
    "    list_of_query_terms.extend(forms)\n",
    "    \n",
    "    for query_term in list_of_query_terms:\n",
    "        \n",
    "        results = []\n",
    "\n",
    "        # searching in lemmata\n",
    "        # getting synset_id, lemmata (synonyms), definition, examples\n",
    "\n",
    "        for synset in wn.synsets(query_term):\n",
    "            for le in synset.lemmas():\n",
    "                # exact match between query term and lemma name\n",
    "                if query_term == le.name().lower(): # lemmas can be capitalized\n",
    "                    result_dict = {}\n",
    "                    result_dict['query_term'] = query_term\n",
    "                    result_dict['synset_id'] = synset.name()\n",
    "                    result_dict['lemmata'] = [l.name() for l in synset.lemmas()]\n",
    "                    result_dict['definition'] = synset.definition()\n",
    "                    result_dict['examples'] = synset.examples()\n",
    "                    result_dict['found_in'] = 'lemmata'\n",
    "                    results.append(result_dict)\n",
    "\n",
    "        # searching in all definitions\n",
    "    \n",
    "        for synset in list(wn.all_synsets()):\n",
    "            if len(re.findall(f'\\\\b{query_term}\\\\b',synset.definition(),re.IGNORECASE)) > 0:\n",
    "                result_dict = {}\n",
    "                result_dict['query_term'] = query_term\n",
    "                result_dict['synset_id'] = synset.name()\n",
    "                result_dict['lemmata'] = [l.name() for l in synset.lemmas()]\n",
    "                result_dict['definition'] = synset.definition()\n",
    "                result_dict['examples'] = synset.examples()\n",
    "                result_dict['found_in'] = 'definition'\n",
    "                results.append(result_dict)\n",
    "\n",
    "            # searching in all examples\n",
    "            for example in synset.examples():\n",
    "                if len(re.findall(f'\\\\b{query_term}\\\\b',example,re.IGNORECASE)) > 0:\n",
    "                    result_dict = {}\n",
    "                    result_dict['query_term'] = query_term\n",
    "                    result_dict['synset_id'] = synset.name()\n",
    "                    result_dict['lemmata'] = [l.name() for l in synset.lemmas()]\n",
    "                    result_dict['definition'] = synset.definition()\n",
    "                    result_dict['examples'] = synset.examples()\n",
    "                    result_dict['found_in'] = 'examples'\n",
    "                    results.append(result_dict)\n",
    "\n",
    "        wn_results_en[query_term] = results"
   ]
  },
  {
   "cell_type": "code",
   "execution_count": null,
   "metadata": {},
   "outputs": [],
   "source": [
    "# saving the query results\n",
    "\n",
    "with open('princeton_wordnet31_query_results.json', 'w') as jf:\n",
    "    json.dump(wn_results_en, jf)"
   ]
  }
 ],
 "metadata": {
  "kernelspec": {
   "display_name": "Python 3",
   "language": "python",
   "name": "python3"
  },
  "language_info": {
   "codemirror_mode": {
    "name": "ipython",
    "version": 3
   },
   "file_extension": ".py",
   "mimetype": "text/x-python",
   "name": "python",
   "nbconvert_exporter": "python",
   "pygments_lexer": "ipython3",
   "version": "3.8.5"
  }
 },
 "nbformat": 4,
 "nbformat_minor": 4
}
