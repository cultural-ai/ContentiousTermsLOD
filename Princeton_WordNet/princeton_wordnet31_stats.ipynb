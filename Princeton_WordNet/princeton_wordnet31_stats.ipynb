{
 "cells": [
  {
   "cell_type": "code",
   "execution_count": null,
   "metadata": {},
   "outputs": [],
   "source": [
    "import csv\n",
    "import json"
   ]
  },
  {
   "cell_type": "code",
   "execution_count": null,
   "metadata": {},
   "outputs": [],
   "source": [
    "# data is taken from 'https://github.com/nltk/nltk_data/blob/gh-pages/packages/corpora/wordnet31.zip'\n",
    "# the package 'wordnet31' was renamed to 'wordnet' due to parsing errors\n",
    "# the script to get definition and examples was edited (see 'nltk/nltk/corpus/reader/wordnet.py') to retrieve examples\n",
    "from nltk.corpus import wordnet as wn"
   ]
  },
  {
   "cell_type": "markdown",
   "metadata": {},
   "source": [
    "## All WordNet (3.1)"
   ]
  },
  {
   "cell_type": "code",
   "execution_count": null,
   "metadata": {},
   "outputs": [],
   "source": [
    "count_lemma_name = 0\n",
    "for synset in list(wn.all_synsets()):\n",
    "    for le in synset.lemmas():\n",
    "        if le.name() != None:\n",
    "            count_lemma_name = count_lemma_name + 1"
   ]
  },
  {
   "cell_type": "code",
   "execution_count": null,
   "metadata": {},
   "outputs": [],
   "source": [
    "count_lemma_name"
   ]
  },
  {
   "cell_type": "code",
   "execution_count": null,
   "metadata": {},
   "outputs": [],
   "source": [
    "count_synset_definition = 0\n",
    "for synset in list(wn.all_synsets()):\n",
    "    if synset.definition() != None:\n",
    "        count_synset_definition = count_synset_definition + 1"
   ]
  },
  {
   "cell_type": "code",
   "execution_count": null,
   "metadata": {},
   "outputs": [],
   "source": [
    "count_synset_definition"
   ]
  },
  {
   "cell_type": "code",
   "execution_count": null,
   "metadata": {},
   "outputs": [],
   "source": [
    "count_synset_examples = 0\n",
    "for synset in list(wn.all_synsets()):\n",
    "    if synset.examples() != []:\n",
    "        count_synset_examples = count_synset_examples + 1"
   ]
  },
  {
   "cell_type": "code",
   "execution_count": null,
   "metadata": {},
   "outputs": [],
   "source": [
    "count_synset_examples"
   ]
  },
  {
   "cell_type": "markdown",
   "metadata": {},
   "source": [
    "## Query results"
   ]
  },
  {
   "cell_type": "code",
   "execution_count": null,
   "metadata": {},
   "outputs": [],
   "source": [
    "# reading results\n",
    "with open('princeton_wordnet31_query_results.json','r') as jf:\n",
    "    wn_results_en = json.load(jf)"
   ]
  },
  {
   "cell_type": "code",
   "execution_count": null,
   "metadata": {},
   "outputs": [],
   "source": [
    "# reading the file with contentious terms EN\n",
    "with open('query_terms_cont_en.json','r') as jf:\n",
    "    query_terms_cont_en = json.load(jf)"
   ]
  },
  {
   "cell_type": "markdown",
   "metadata": {},
   "source": [
    "#### Count by query term"
   ]
  },
  {
   "cell_type": "code",
   "execution_count": null,
   "metadata": {},
   "outputs": [],
   "source": [
    "with open('princeton_wordnet31_count_by_query_term.csv','w') as csv_file:\n",
    "    writer = csv.writer(csv_file)\n",
    "    header = ['lemma','query_term','synsets','definitions','examples','total_per_query_term']\n",
    "    writer.writerow(header)\n",
    "\n",
    "    for lemma, forms in query_terms_cont_en.items():\n",
    "\n",
    "        list_of_query_terms = [] # lemmas and forms of query terms\n",
    "        list_of_query_terms.append(lemma)\n",
    "        list_of_query_terms.extend(forms)\n",
    "\n",
    "        for query_term in list_of_query_terms:\n",
    "\n",
    "            lemmata_count = 0\n",
    "            definition_count = 0\n",
    "            examples_count = 0\n",
    "\n",
    "            for term, results in wn_results_en.items():\n",
    "                for result in results:\n",
    "                    if result['query_term'] == query_term:\n",
    "                        if result['found_in'] == 'lemmata':\n",
    "                            lemmata_count += 1\n",
    "                        if result['found_in'] == 'definition':\n",
    "                            definition_count += 1\n",
    "                        if result['found_in'] == 'examples':\n",
    "                            examples_count += 1\n",
    "            total_count = lemmata_count + definition_count + examples_count\n",
    "\n",
    "            writer.writerow([lemma,query_term,lemmata_count,definition_count,examples_count,total_count])"
   ]
  },
  {
   "cell_type": "markdown",
   "metadata": {},
   "source": [
    "#### Count by lemma"
   ]
  },
  {
   "cell_type": "code",
   "execution_count": null,
   "metadata": {},
   "outputs": [],
   "source": [
    "with open('princeton_wordnet31_count_by_lemma.csv','w') as csv_file:\n",
    "    writer = csv.writer(csv_file)\n",
    "    header = ['lemma','synsets','definitions','examples','total_per_lemma']\n",
    "    writer.writerow(header)\n",
    "\n",
    "    for lemma, forms in query_terms_cont_en.items():\n",
    "\n",
    "        list_of_query_terms = [] # lemmas and forms of query terms\n",
    "        list_of_query_terms.append(lemma)\n",
    "        list_of_query_terms.extend(forms)\n",
    "        \n",
    "        # counter per lemma\n",
    "        lemmata_count = 0\n",
    "        definition_count = 0\n",
    "        examples_count = 0\n",
    "\n",
    "        for query_term in list_of_query_terms:\n",
    "            for term, results in wn_results_en.items():\n",
    "                for result in results:\n",
    "                    if result['query_term'] == query_term:\n",
    "                        if result['found_in'] == 'lemmata':\n",
    "                            lemmata_count += 1\n",
    "                        if result['found_in'] == 'definition':\n",
    "                            definition_count += 1\n",
    "                        if result['found_in'] == 'examples':\n",
    "                            examples_count += 1\n",
    "        total_count = lemmata_count + definition_count + examples_count\n",
    "\n",
    "        writer.writerow([lemma,lemmata_count,definition_count,examples_count,total_count])"
   ]
  },
  {
   "cell_type": "code",
   "execution_count": null,
   "metadata": {},
   "outputs": [],
   "source": []
  }
 ],
 "metadata": {
  "kernelspec": {
   "display_name": "Python 3",
   "language": "python",
   "name": "python3"
  },
  "language_info": {
   "codemirror_mode": {
    "name": "ipython",
    "version": 3
   },
   "file_extension": ".py",
   "mimetype": "text/x-python",
   "name": "python",
   "nbconvert_exporter": "python",
   "pygments_lexer": "ipython3",
   "version": "3.8.5"
  }
 },
 "nbformat": 4,
 "nbformat_minor": 4
}
