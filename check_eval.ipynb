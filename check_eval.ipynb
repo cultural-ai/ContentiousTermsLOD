{
 "cells": [
  {
   "cell_type": "code",
   "execution_count": 1,
   "metadata": {},
   "outputs": [],
   "source": [
    "import csv\n",
    "import pandas as pd"
   ]
  },
  {
   "cell_type": "code",
   "execution_count": 78,
   "metadata": {},
   "outputs": [],
   "source": [
    "wikidata_cs = pd.read_csv('/Users/anesterov/reps/LODlit/spacy_sim_experiment.csv')"
   ]
  },
  {
   "cell_type": "code",
   "execution_count": 79,
   "metadata": {},
   "outputs": [
    {
     "data": {
      "text/plain": [
       "151412"
      ]
     },
     "execution_count": 79,
     "metadata": {},
     "output_type": "execute_result"
    }
   ],
   "source": [
    "len(wikidata_cs)"
   ]
  },
  {
   "cell_type": "code",
   "execution_count": 3,
   "metadata": {},
   "outputs": [],
   "source": [
    "annotated = pd.read_csv('/Users/anesterov/reps/LODlit/gt_matching.csv')"
   ]
  },
  {
   "cell_type": "code",
   "execution_count": 74,
   "metadata": {},
   "outputs": [
    {
     "data": {
      "text/html": [
       "<div>\n",
       "<style scoped>\n",
       "    .dataframe tbody tr th:only-of-type {\n",
       "        vertical-align: middle;\n",
       "    }\n",
       "\n",
       "    .dataframe tbody tr th {\n",
       "        vertical-align: top;\n",
       "    }\n",
       "\n",
       "    .dataframe thead th {\n",
       "        text-align: right;\n",
       "    }\n",
       "</style>\n",
       "<table border=\"1\" class=\"dataframe\">\n",
       "  <thead>\n",
       "    <tr style=\"text-align: right;\">\n",
       "      <th></th>\n",
       "      <th>Unnamed: 0</th>\n",
       "      <th>term</th>\n",
       "      <th>QID</th>\n",
       "      <th>wd_bow</th>\n",
       "      <th>spacy_cs</th>\n",
       "    </tr>\n",
       "  </thead>\n",
       "  <tbody>\n",
       "    <tr>\n",
       "      <th>0</th>\n",
       "      <td>0</td>\n",
       "      <td>batavia</td>\n",
       "      <td>Q100341056</td>\n",
       "      <td>['tentoonstelling', 'ter', 'herdenking', 'van'...</td>\n",
       "      <td>0.238</td>\n",
       "    </tr>\n",
       "    <tr>\n",
       "      <th>1</th>\n",
       "      <td>1</td>\n",
       "      <td>batavia</td>\n",
       "      <td>Q100341171</td>\n",
       "      <td>['topografische', 'dienst', 'temporary', 'exhi...</td>\n",
       "      <td>0.453</td>\n",
       "    </tr>\n",
       "    <tr>\n",
       "      <th>2</th>\n",
       "      <td>2</td>\n",
       "      <td>batavia</td>\n",
       "      <td>Q100342162</td>\n",
       "      <td>['kaart', 'exhibition', 'temporary', 'exhibiti...</td>\n",
       "      <td>0.439</td>\n",
       "    </tr>\n",
       "    <tr>\n",
       "      <th>3</th>\n",
       "      <td>3</td>\n",
       "      <td>batavia</td>\n",
       "      <td>Q102227440</td>\n",
       "      <td>['gerardus', 'van', 'groll', 'sep', 'kaapstad'...</td>\n",
       "      <td>0.590</td>\n",
       "    </tr>\n",
       "    <tr>\n",
       "      <th>4</th>\n",
       "      <td>4</td>\n",
       "      <td>batavia</td>\n",
       "      <td>Q102227447</td>\n",
       "      <td>['pieter', 'hendrick', 'breton', 'est', 'oct']</td>\n",
       "      <td>0.088</td>\n",
       "    </tr>\n",
       "  </tbody>\n",
       "</table>\n",
       "</div>"
      ],
      "text/plain": [
       "   Unnamed: 0     term         QID  \\\n",
       "0           0  batavia  Q100341056   \n",
       "1           1  batavia  Q100341171   \n",
       "2           2  batavia  Q100342162   \n",
       "3           3  batavia  Q102227440   \n",
       "4           4  batavia  Q102227447   \n",
       "\n",
       "                                              wd_bow  spacy_cs  \n",
       "0  ['tentoonstelling', 'ter', 'herdenking', 'van'...     0.238  \n",
       "1  ['topografische', 'dienst', 'temporary', 'exhi...     0.453  \n",
       "2  ['kaart', 'exhibition', 'temporary', 'exhibiti...     0.439  \n",
       "3  ['gerardus', 'van', 'groll', 'sep', 'kaapstad'...     0.590  \n",
       "4     ['pieter', 'hendrick', 'breton', 'est', 'oct']     0.088  "
      ]
     },
     "execution_count": 74,
     "metadata": {},
     "output_type": "execute_result"
    }
   ],
   "source": [
    "wikidata_cs.head()"
   ]
  },
  {
   "cell_type": "code",
   "execution_count": 80,
   "metadata": {},
   "outputs": [],
   "source": [
    "# removing entities with the same QIDs from the search results\n",
    "wikidata_cs.drop_duplicates(subset=[\"QID\"], inplace=True)"
   ]
  },
  {
   "cell_type": "code",
   "execution_count": 81,
   "metadata": {},
   "outputs": [
    {
     "data": {
      "text/plain": [
       "135108"
      ]
     },
     "execution_count": 81,
     "metadata": {},
     "output_type": "execute_result"
    }
   ],
   "source": [
    "len(wikidata_cs)"
   ]
  },
  {
   "cell_type": "code",
   "execution_count": 7,
   "metadata": {},
   "outputs": [],
   "source": [
    "annotated.rename(columns={'entity_id': 'QID','target_term': 'term'}, inplace=True)"
   ]
  },
  {
   "cell_type": "code",
   "execution_count": 8,
   "metadata": {},
   "outputs": [
    {
     "data": {
      "text/html": [
       "<div>\n",
       "<style scoped>\n",
       "    .dataframe tbody tr th:only-of-type {\n",
       "        vertical-align: middle;\n",
       "    }\n",
       "\n",
       "    .dataframe tbody tr th {\n",
       "        vertical-align: top;\n",
       "    }\n",
       "\n",
       "    .dataframe thead th {\n",
       "        text-align: right;\n",
       "    }\n",
       "</style>\n",
       "<table border=\"1\" class=\"dataframe\">\n",
       "  <thead>\n",
       "    <tr style=\"text-align: right;\">\n",
       "      <th></th>\n",
       "      <th>term</th>\n",
       "      <th>QID</th>\n",
       "      <th>check</th>\n",
       "    </tr>\n",
       "  </thead>\n",
       "  <tbody>\n",
       "    <tr>\n",
       "      <th>0</th>\n",
       "      <td>aboriginal</td>\n",
       "      <td>Q10474818</td>\n",
       "      <td>True</td>\n",
       "    </tr>\n",
       "    <tr>\n",
       "      <th>1</th>\n",
       "      <td>aboriginal</td>\n",
       "      <td>Q1131830</td>\n",
       "      <td>True</td>\n",
       "    </tr>\n",
       "    <tr>\n",
       "      <th>2</th>\n",
       "      <td>aboriginal</td>\n",
       "      <td>Q12060728</td>\n",
       "      <td>True</td>\n",
       "    </tr>\n",
       "    <tr>\n",
       "      <th>3</th>\n",
       "      <td>aboriginal</td>\n",
       "      <td>Q1236246</td>\n",
       "      <td>True</td>\n",
       "    </tr>\n",
       "    <tr>\n",
       "      <th>4</th>\n",
       "      <td>aboriginal</td>\n",
       "      <td>Q12860160</td>\n",
       "      <td>True</td>\n",
       "    </tr>\n",
       "  </tbody>\n",
       "</table>\n",
       "</div>"
      ],
      "text/plain": [
       "         term        QID  check\n",
       "0  aboriginal  Q10474818   True\n",
       "1  aboriginal   Q1131830   True\n",
       "2  aboriginal  Q12060728   True\n",
       "3  aboriginal   Q1236246   True\n",
       "4  aboriginal  Q12860160   True"
      ]
     },
     "execution_count": 8,
     "metadata": {},
     "output_type": "execute_result"
    }
   ],
   "source": [
    "annotated.head()"
   ]
  },
  {
   "cell_type": "markdown",
   "metadata": {},
   "source": [
    "### Getting Top-10 for every term"
   ]
  },
  {
   "cell_type": "code",
   "execution_count": 82,
   "metadata": {},
   "outputs": [],
   "source": [
    "top_10_unique = pd.DataFrame()"
   ]
  },
  {
   "cell_type": "code",
   "execution_count": 83,
   "metadata": {},
   "outputs": [],
   "source": [
    "for group in wikidata_cs.groupby(\"term\"):\n",
    "    top_10_unique = top_10_unique.append(group[1].sort_values(by='spacy_cs', ascending=False)[0:10])"
   ]
  },
  {
   "cell_type": "code",
   "execution_count": 84,
   "metadata": {},
   "outputs": [
    {
     "data": {
      "text/html": [
       "<div>\n",
       "<style scoped>\n",
       "    .dataframe tbody tr th:only-of-type {\n",
       "        vertical-align: middle;\n",
       "    }\n",
       "\n",
       "    .dataframe tbody tr th {\n",
       "        vertical-align: top;\n",
       "    }\n",
       "\n",
       "    .dataframe thead th {\n",
       "        text-align: right;\n",
       "    }\n",
       "</style>\n",
       "<table border=\"1\" class=\"dataframe\">\n",
       "  <thead>\n",
       "    <tr style=\"text-align: right;\">\n",
       "      <th></th>\n",
       "      <th>Unnamed: 0</th>\n",
       "      <th>term</th>\n",
       "      <th>QID</th>\n",
       "      <th>wd_bow</th>\n",
       "      <th>spacy_cs</th>\n",
       "    </tr>\n",
       "  </thead>\n",
       "  <tbody>\n",
       "    <tr>\n",
       "      <th>72742</th>\n",
       "      <td>72742</td>\n",
       "      <td>aboriginal</td>\n",
       "      <td>Q103817</td>\n",
       "      <td>['indigenous', 'people', 'population', 'group'...</td>\n",
       "      <td>0.971</td>\n",
       "    </tr>\n",
       "    <tr>\n",
       "      <th>73002</th>\n",
       "      <td>73002</td>\n",
       "      <td>aboriginal</td>\n",
       "      <td>Q28942344</td>\n",
       "      <td>['indigenous', 'australian', 'community', 'hum...</td>\n",
       "      <td>0.945</td>\n",
       "    </tr>\n",
       "    <tr>\n",
       "      <th>74022</th>\n",
       "      <td>74022</td>\n",
       "      <td>aboriginal</td>\n",
       "      <td>Q28943050</td>\n",
       "      <td>['warndarang', 'people', 'extinct', 'language'...</td>\n",
       "      <td>0.937</td>\n",
       "    </tr>\n",
       "    <tr>\n",
       "      <th>73813</th>\n",
       "      <td>73813</td>\n",
       "      <td>aboriginal</td>\n",
       "      <td>Q9064330</td>\n",
       "      <td>['native', 'people', 'ethnic', 'group', 'indig...</td>\n",
       "      <td>0.932</td>\n",
       "    </tr>\n",
       "    <tr>\n",
       "      <th>72840</th>\n",
       "      <td>72840</td>\n",
       "      <td>aboriginal</td>\n",
       "      <td>Q1493806</td>\n",
       "      <td>['indigenous', 'people', 'australia', 'ethnic'...</td>\n",
       "      <td>0.931</td>\n",
       "    </tr>\n",
       "    <tr>\n",
       "      <th>...</th>\n",
       "      <td>...</td>\n",
       "      <td>...</td>\n",
       "      <td>...</td>\n",
       "      <td>...</td>\n",
       "      <td>...</td>\n",
       "    </tr>\n",
       "    <tr>\n",
       "      <th>31588</th>\n",
       "      <td>31588</td>\n",
       "      <td>whitest</td>\n",
       "      <td>Q2089766</td>\n",
       "      <td>['kid', 'know', 'television', 'series', 'theat...</td>\n",
       "      <td>0.426</td>\n",
       "    </tr>\n",
       "    <tr>\n",
       "      <th>31589</th>\n",
       "      <td>31589</td>\n",
       "      <td>whitest</td>\n",
       "      <td>Q23414911</td>\n",
       "      <td>['rich', 'road', 'trip', 'town', 'america', 't...</td>\n",
       "      <td>0.403</td>\n",
       "    </tr>\n",
       "    <tr>\n",
       "      <th>31590</th>\n",
       "      <td>31590</td>\n",
       "      <td>whitest</td>\n",
       "      <td>Q639424</td>\n",
       "      <td>['boy', 'alive', 'musical', 'group', 'band']</td>\n",
       "      <td>0.366</td>\n",
       "    </tr>\n",
       "    <tr>\n",
       "      <th>31591</th>\n",
       "      <td>31591</td>\n",
       "      <td>whitest</td>\n",
       "      <td>Q8850480</td>\n",
       "      <td>['boy', 'alive', 'album', 'wikimedia', 'catego...</td>\n",
       "      <td>0.288</td>\n",
       "    </tr>\n",
       "    <tr>\n",
       "      <th>31592</th>\n",
       "      <td>31592</td>\n",
       "      <td>whitest</td>\n",
       "      <td>Q8850483</td>\n",
       "      <td>['kid', 'know', 'album', 'wikimedia', 'categor...</td>\n",
       "      <td>0.285</td>\n",
       "    </tr>\n",
       "  </tbody>\n",
       "</table>\n",
       "<p>1010 rows × 5 columns</p>\n",
       "</div>"
      ],
      "text/plain": [
       "       Unnamed: 0        term        QID  \\\n",
       "72742       72742  aboriginal    Q103817   \n",
       "73002       73002  aboriginal  Q28942344   \n",
       "74022       74022  aboriginal  Q28943050   \n",
       "73813       73813  aboriginal   Q9064330   \n",
       "72840       72840  aboriginal   Q1493806   \n",
       "...           ...         ...        ...   \n",
       "31588       31588     whitest   Q2089766   \n",
       "31589       31589     whitest  Q23414911   \n",
       "31590       31590     whitest    Q639424   \n",
       "31591       31591     whitest   Q8850480   \n",
       "31592       31592     whitest   Q8850483   \n",
       "\n",
       "                                                  wd_bow  spacy_cs  \n",
       "72742  ['indigenous', 'people', 'population', 'group'...     0.971  \n",
       "73002  ['indigenous', 'australian', 'community', 'hum...     0.945  \n",
       "74022  ['warndarang', 'people', 'extinct', 'language'...     0.937  \n",
       "73813  ['native', 'people', 'ethnic', 'group', 'indig...     0.932  \n",
       "72840  ['indigenous', 'people', 'australia', 'ethnic'...     0.931  \n",
       "...                                                  ...       ...  \n",
       "31588  ['kid', 'know', 'television', 'series', 'theat...     0.426  \n",
       "31589  ['rich', 'road', 'trip', 'town', 'america', 't...     0.403  \n",
       "31590       ['boy', 'alive', 'musical', 'group', 'band']     0.366  \n",
       "31591  ['boy', 'alive', 'album', 'wikimedia', 'catego...     0.288  \n",
       "31592  ['kid', 'know', 'album', 'wikimedia', 'categor...     0.285  \n",
       "\n",
       "[1010 rows x 5 columns]"
      ]
     },
     "execution_count": 84,
     "metadata": {},
     "output_type": "execute_result"
    }
   ],
   "source": [
    "top_10_unique"
   ]
  },
  {
   "cell_type": "code",
   "execution_count": 85,
   "metadata": {},
   "outputs": [],
   "source": [
    "merged = top_10_unique.merge(annotated,how=\"left\",on=[\"term\",\"QID\"])"
   ]
  },
  {
   "cell_type": "code",
   "execution_count": 86,
   "metadata": {},
   "outputs": [],
   "source": [
    "merged.to_csv('checking_top10.csv')"
   ]
  },
  {
   "cell_type": "code",
   "execution_count": null,
   "metadata": {},
   "outputs": [],
   "source": []
  }
 ],
 "metadata": {
  "kernelspec": {
   "display_name": "Python 3",
   "language": "python",
   "name": "python3"
  },
  "language_info": {
   "codemirror_mode": {
    "name": "ipython",
    "version": 3
   },
   "file_extension": ".py",
   "mimetype": "text/x-python",
   "name": "python",
   "nbconvert_exporter": "python",
   "pygments_lexer": "ipython3",
   "version": "3.8.5"
  }
 },
 "nbformat": 4,
 "nbformat_minor": 4
}
