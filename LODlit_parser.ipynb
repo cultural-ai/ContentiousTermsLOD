{
 "cells": [
  {
   "cell_type": "markdown",
   "metadata": {},
   "source": [
    "### lodlitparser"
   ]
  },
  {
   "cell_type": "code",
   "execution_count": 1,
   "metadata": {},
   "outputs": [],
   "source": [
    "import json\n",
    "import requests\n",
    "import time\n",
    "import re\n",
    "import sys\n",
    "from io import BytesIO\n",
    "from zipfile import ZipFile\n",
    "from SPARQLWrapper import SPARQLWrapper, JSON\n",
    "# install NLTK, download wordnet31 ('https://github.com/nltk/nltk_data/blob/gh-pages/packages/corpora/wordnet31.zip');\n",
    "# put the content of 'wordnet31' to 'wordnet' in 'nltk_data/corpora' (there are issues with importing wordnet31 from nltk.corpus)\n",
    "from nltk.corpus import wordnet as wn\n",
    "# download OpenDutchWordnet from 'https://github.com/cultural-ai/OpenDutchWordnet'"
   ]
  },
  {
   "cell_type": "markdown",
   "metadata": {},
   "source": [
    "### Wikidata"
   ]
  },
  {
   "cell_type": "code",
   "execution_count": 20,
   "metadata": {},
   "outputs": [],
   "source": [
    "def wd(qids:list,lang:str,user_agent:str) -> dict:\n",
    "    \n",
    "    \"\"\"\n",
    "    Requesting labels, aliases, descriptions of Wikidata entities\n",
    "    qids: list of entity IDs (str) (requests 50 entities at a time slicing the list)\n",
    "    lang: str with language code; for example, 'en' or 'nl';\n",
    "    (see language codes in Wikidata: https://www.wikidata.org/w/api.php?action=help&modules=wbgetentities)\n",
    "    user_agent: str with user-agent's info; required by Wikidata (see: https://meta.wikimedia.org/wiki/User-Agent_policy)\n",
    "    Returns a dict: {'QID': {'type': '',\n",
    "                     'id': 'QID',\n",
    "                     'labels': {'lang': {'language': 'lang', 'value': ''}},\n",
    "                     'descriptions': {'lang': {'language': 'lang','value': ''}},\n",
    "                     'aliases': {'lang': [{'language': 'lang', 'value': ''}\n",
    "    \"\"\"\n",
    "    \n",
    "    # 'wbgetentities' constant params\n",
    "    url = \"https://www.wikidata.org/w/api.php\"\n",
    "    params = {\"action\":\"wbgetentities\",\n",
    "              \"ids\":\"\", # string of entities (max=50)\n",
    "              \"props\":\"labels|aliases|descriptions\",\n",
    "              \"languages\":lang,\n",
    "              \"format\":\"json\"}\n",
    "    headers = {\"user-agent\":user_agent}\n",
    "\n",
    "    # - N LOOPS - #\n",
    "\n",
    "    # if there's a remainder\n",
    "    if len(qids) % 50 > 0:\n",
    "        loops = len(qids) // 50 + 1 # add another loop for requests\n",
    "    else:\n",
    "        loops = len(qids) // 50\n",
    "\n",
    "    # - REQUEST LOOPS - #   \n",
    "\n",
    "    # counters to slice qids\n",
    "\n",
    "    start_quid_str = 0\n",
    "    end_quid_str = 0\n",
    "\n",
    "    for i in range(0,loops):\n",
    "        ids_string = \"\" # putting Qs in one string\n",
    "        end_quid_str = end_quid_str + 50 # max 50 entities per request\n",
    "\n",
    "        for q in qids[start_quid_str:end_quid_str]:\n",
    "            ids_string = ids_string + f\"{q}|\"\n",
    "\n",
    "        start_quid_str = start_quid_str + 50\n",
    "\n",
    "        # updating params\n",
    "\n",
    "        params[\"ids\"] = ids_string.rstrip(\"|\")\n",
    "\n",
    "        # sending a request\n",
    "        d = requests.get(url,params=params,headers=headers)\n",
    "        literals = d.json() # claims per request\n",
    "\n",
    "    return literals['entities']"
   ]
  },
  {
   "cell_type": "code",
   "execution_count": 23,
   "metadata": {},
   "outputs": [
    {
     "data": {
      "text/plain": [
       "{'Q592': {'type': 'item',\n",
       "  'id': 'Q592',\n",
       "  'labels': {'nl': {'language': 'nl', 'value': 'gay'}},\n",
       "  'descriptions': {'nl': {'language': 'nl',\n",
       "    'value': 'synoniem voor homosexueel'}},\n",
       "  'aliases': {'nl': [{'language': 'nl', 'value': 'homoseksueel persoon'}]}},\n",
       " 'Q486680': {'type': 'item',\n",
       "  'id': 'Q486680',\n",
       "  'labels': {'nl': {'language': 'nl', 'value': 'travestie'}},\n",
       "  'descriptions': {'nl': {'language': 'nl',\n",
       "    'value': 'bewust kleding dragen van het andere geslacht, anders dan voor een acteerrol'}},\n",
       "  'aliases': {'nl': [{'language': 'nl', 'value': 'travestiet'},\n",
       "    {'language': 'nl', 'value': 'travesti'},\n",
       "    {'language': 'nl', 'value': 'transvestitisme'}]}}}"
      ]
     },
     "execution_count": 23,
     "metadata": {},
     "output_type": "execute_result"
    }
   ],
   "source": [
    "wd(qids,lang,user_agent)"
   ]
  },
  {
   "cell_type": "markdown",
   "metadata": {},
   "source": [
    "### AAT"
   ]
  },
  {
   "cell_type": "code",
   "execution_count": 25,
   "metadata": {},
   "outputs": [],
   "source": [
    "sparql = SPARQLWrapper(\"http://vocab.getty.edu/sparql\")"
   ]
  },
  {
   "cell_type": "code",
   "execution_count": 68,
   "metadata": {},
   "outputs": [],
   "source": [
    "aat_uri = ['300236748']"
   ]
  },
  {
   "cell_type": "code",
   "execution_count": 61,
   "metadata": {},
   "outputs": [],
   "source": [
    "lang = 'en'"
   ]
  },
  {
   "cell_type": "code",
   "execution_count": 70,
   "metadata": {},
   "outputs": [],
   "source": [
    "def aat(aat_uri:list,lang:str) -> dict:\n",
    "    '''\n",
    "    Querying prefLabel, altLabel, scopeNote, rdfs comments of concepts in AAT;\n",
    "    Sends SPARQL queries to the AAT endpoint via SPARQLwrapper \n",
    "    aat_uri: list of AAT concepts IDs (str) ['ID']\n",
    "    lang: str 'en' or 'nl'\n",
    "    Returns a dict with query results: {'ID':{'lang':'en',\n",
    "                                              'prefLabel':'',\n",
    "                                              'altLabels':[],\n",
    "                                              'scopeNote':'',\n",
    "                                              'prefLabel_comment':'',\n",
    "                                              'altLabel_comment':''}\n",
    "    '''\n",
    "    \n",
    "    sparql = SPARQLWrapper(\"http://vocab.getty.edu/sparql\")\n",
    "    \n",
    "    if lang == 'en':\n",
    "        lang_code = '300388277'\n",
    "    if lang == 'nl':\n",
    "        lang_code = '300388256'\n",
    "        \n",
    "    result_dict = {}\n",
    "        \n",
    "    for uri in aat_uri:\n",
    "        \n",
    "        result_dict[uri] = {}\n",
    "        \n",
    "        query_string = '''SELECT ?prefLabel (GROUP_CONCAT(?altLabel;SEPARATOR=\"#\") AS ?altLabels)\n",
    "        ?scopeNote ?prefLabel_comment ?altLabel_comment\n",
    "        WHERE {aat:''' + uri + ''' xl:prefLabel ?pL .?pL dcterms:language aat:''' + lang_code + ''';\n",
    "        xl:literalForm ?prefLabel .\n",
    "        OPTIONAL {?pL rdfs:comment ?prefLabel_comment . }\n",
    "        OPTIONAL {aat:''' + uri + ''' xl:altLabel ?aL .\n",
    "        ?aL dcterms:language aat:''' + lang_code + ''';\n",
    "        xl:literalForm ?altLabel . \n",
    "        OPTIONAL { ?aL rdfs:comment ?altLabel_comment . }}\n",
    "        OPTIONAL {aat:''' + uri + ''' skos:scopeNote / dcterms:language aat:'''+ lang_code + ''';\n",
    "        skos:scopeNote / rdf:value ?scopeNote . }}\n",
    "        GROUP BY ?prefLabel ?scopeNote ?prefLabel_comment ?altLabel_comment'''\n",
    "        \n",
    "        sparql.setQuery(query_string)\n",
    "        sparql.setReturnFormat(JSON)\n",
    "        results = sparql.query().convert()\n",
    "        \n",
    "        altLabels = []\n",
    "        scopeNote = None\n",
    "        prefLabel_comment = None\n",
    "        altLabel_comment = None\n",
    "        \n",
    "        for result in results['results']['bindings']:\n",
    "            \n",
    "            if 'altLabels' in result:\n",
    "                altLabels = result['altLabels']['value'].split('#')\n",
    "            if 'scopeNote' in results:\n",
    "                scopeNote = result['scopeNote']['value']\n",
    "            if 'prefLabel_comment' in results:\n",
    "                prefLabel_comment = result['prefLabel_comment']['value']\n",
    "            if 'altLabel_comment' in results:\n",
    "                altLabel_comment = result['altLabel_comment']['value']\n",
    "\n",
    "            result_dict[uri]['lang'] = lang\n",
    "            result_dict[uri]['prefLabel'] = result['prefLabel']['value']\n",
    "            result_dict[uri]['altLabels'] = altLabels\n",
    "            result_dict[uri]['prefLabel_comment'] = prefLabel_comment\n",
    "            result_dict[uri]['altLabel_comment'] = altLabel_comment\n",
    "            result_dict[uri]['scopeNote'] = scopeNote\n",
    "        \n",
    "    return result_dict"
   ]
  },
  {
   "cell_type": "code",
   "execution_count": 63,
   "metadata": {},
   "outputs": [],
   "source": [
    "query_string = '''SELECT ?prefLabel (GROUP_CONCAT(?altLabel;SEPARATOR=\"#\") AS ?altLabels) ?scopeNote ?prefLabel_comment ?altLabel_comment\n",
    "\n",
    "WHERE {\n",
    "\n",
    "  aat:''' + aat_uri + ''' xl:prefLabel ?pL .\n",
    "  ?pL dcterms:language aat:''' + lang_code + ''';\n",
    "    xl:literalForm ?prefLabel .\n",
    "  \n",
    "  OPTIONAL {?pL rdfs:comment ?prefLabel_comment . }\n",
    "  \n",
    "  OPTIONAL {\n",
    "  aat:''' + aat_uri + ''' xl:altLabel ?aL .\n",
    "  ?aL dcterms:language aat:''' + lang_code + ''';\n",
    "    xl:literalForm ?altLabel . \n",
    "    OPTIONAL { ?aL rdfs:comment ?altLabel_comment . }\n",
    "  }\n",
    "  \n",
    "  OPTIONAL {\n",
    "  aat:''' + aat_uri + ''' skos:scopeNote / dcterms:language aat:'''+ lang_code + ''';\n",
    "                skos:scopeNote / rdf:value ?scopeNote . }\n",
    "}\n",
    "GROUP BY ?prefLabel ?scopeNote ?prefLabel_comment ?altLabel_comment'''"
   ]
  },
  {
   "cell_type": "code",
   "execution_count": 64,
   "metadata": {},
   "outputs": [
    {
     "data": {
      "text/plain": [
       "'SELECT ?prefLabel (GROUP_CONCAT(?altLabel;SEPARATOR=\"#\") AS ?altLabels) ?scopeNote ?prefLabel_comment ?altLabel_comment\\n\\nWHERE {\\n\\n  aat:300236748 xl:prefLabel ?pL .\\n  ?pL dcterms:language aat:300388277;\\n    xl:literalForm ?prefLabel .\\n  \\n  OPTIONAL {?pL rdfs:comment ?prefLabel_comment . }\\n  \\n  OPTIONAL {\\n  aat:300236748 xl:altLabel ?aL .\\n  ?aL dcterms:language aat:300388277;\\n    xl:literalForm ?altLabel . \\n    OPTIONAL { ?aL rdfs:comment ?altLabel_comment . }\\n  }\\n  \\n  OPTIONAL {\\n  aat:300236748 skos:scopeNote / dcterms:language aat:300388277;\\n                skos:scopeNote / rdf:value ?scopeNote . }\\n}\\nGROUP BY ?prefLabel ?scopeNote ?prefLabel_comment ?altLabel_comment'"
      ]
     },
     "execution_count": 64,
     "metadata": {},
     "output_type": "execute_result"
    }
   ],
   "source": [
    "query_string"
   ]
  },
  {
   "cell_type": "code",
   "execution_count": 71,
   "metadata": {},
   "outputs": [
    {
     "data": {
      "text/plain": [
       "{'head': {'vars': ['prefLabel',\n",
       "   'altLabels',\n",
       "   'scopeNote',\n",
       "   'prefLabel_comment',\n",
       "   'altLabel_comment']},\n",
       " 'results': {'bindings': [{'prefLabel': {'xml:lang': 'en',\n",
       "     'type': 'literal',\n",
       "     'value': 'dwarfs'},\n",
       "    'altLabels': {'type': 'literal', 'value': \"dwarf#dwarf's#dwarfs'#dwarves\"},\n",
       "    'scopeNote': {'xml:lang': 'en',\n",
       "     'type': 'literal',\n",
       "     'value': 'People who are abnormally small in stature.'}}]}}"
      ]
     },
     "execution_count": 71,
     "metadata": {},
     "output_type": "execute_result"
    }
   ],
   "source": [
    "aat(aat_uri,lang)"
   ]
  },
  {
   "cell_type": "code",
   "execution_count": 72,
   "metadata": {},
   "outputs": [],
   "source": [
    "# draft\n",
    "\n",
    "results = {'head': {'vars': ['prefLabel',\n",
    "   'altLabels',\n",
    "   'scopeNote',\n",
    "   'prefLabel_comment',\n",
    "   'altLabel_comment']},\n",
    " 'results': {'bindings': [{'prefLabel': {'xml:lang': 'en',\n",
    "     'type': 'literal',\n",
    "     'value': 'dwarfs'},\n",
    "    'altLabels': {'type': 'literal', 'value': \"dwarf#dwarf's#dwarfs'#dwarves\"},\n",
    "    'scopeNote': {'xml:lang': 'en',\n",
    "     'type': 'literal',\n",
    "     'value': 'People who are abnormally small in stature.'}}]}}"
   ]
  },
  {
   "cell_type": "code",
   "execution_count": 80,
   "metadata": {},
   "outputs": [
    {
     "name": "stdout",
     "output_type": "stream",
     "text": [
      "{'300236748': {'lang': 'en', 'prefLabel': 'dwarfs', 'altLabels': ['dwarf', \"dwarf's\", \"dwarfs'\", 'dwarves'], 'prefLabel_comment': None, 'altLabel_comment': None, 'scopeNote': None}}\n"
     ]
    }
   ],
   "source": [
    "lang = 'en'\n",
    "uri = '300236748'\n",
    "altLabels = []\n",
    "scopeNote = None\n",
    "prefLabel_comment = None\n",
    "altLabel_comment = None\n",
    "\n",
    "for result in results['results']['bindings']:\n",
    "    \n",
    "    result_dict = {uri:{}}\n",
    "    \n",
    "    if 'altLabels' in result:\n",
    "        altLabels = result['altLabels']['value'].split('#')\n",
    "    if 'scopeNote' in results:\n",
    "        scopeNote = result['scopeNote']['value']\n",
    "    if 'prefLabel_comment' in results:\n",
    "        prefLabel_comment = result['prefLabel_comment']['value']\n",
    "    if 'altLabel_comment' in results:\n",
    "        altLabel_comment = result['altLabel_comment']['value']\n",
    "        \n",
    "    result_dict[uri]['lang'] = lang\n",
    "    result_dict[uri]['prefLabel'] = result['prefLabel']['value']\n",
    "    result_dict[uri]['altLabels'] = altLabels\n",
    "    result_dict[uri]['prefLabel_comment'] = prefLabel_comment\n",
    "    result_dict[uri]['altLabel_comment'] = altLabel_comment\n",
    "    result_dict[uri]['scopeNote'] = scopeNote\n",
    "        \n",
    "    print(result_dict)"
   ]
  },
  {
   "cell_type": "code",
   "execution_count": null,
   "metadata": {},
   "outputs": [],
   "source": [
    "{'300236748':{'lang':'en',\n",
    "              'prefLabel':'',\n",
    "              'altLabels':[],\n",
    "              'scopeNote':'',\n",
    "              'prefLabel_comment':'',\n",
    "              'altLabel_comment':''}"
   ]
  },
  {
   "cell_type": "markdown",
   "metadata": {},
   "source": [
    "### NMVW"
   ]
  },
  {
   "cell_type": "code",
   "execution_count": 1,
   "metadata": {},
   "outputs": [],
   "source": [
    "# parsing the json file created before: '/Users/anesterov/WM/nmvw_thesaurus.json'"
   ]
  },
  {
   "cell_type": "code",
   "execution_count": 19,
   "metadata": {},
   "outputs": [],
   "source": [
    "term_ids = ['10076668','10060821','003']"
   ]
  },
  {
   "cell_type": "code",
   "execution_count": 5,
   "metadata": {},
   "outputs": [],
   "source": [
    "nmvw_path = '/Users/anesterov/WM/nmvw_thesaurus.json'"
   ]
  },
  {
   "cell_type": "code",
   "execution_count": 22,
   "metadata": {},
   "outputs": [],
   "source": [
    "def nmvw(term_ids:list) -> dict:\n",
    "    '''\n",
    "    Getting info about terms by their handle IDs in NMVW-thesaurus\n",
    "    term_ids: list of term IDs (str)\n",
    "    Returns a dict with query results: {'ID': {'prefLabel': '',\n",
    "                                               'altLabel': [],\n",
    "                                               'notes': [],\n",
    "                                               'exactMatch': '',\n",
    "                                               'scheme': ''}}\n",
    "    '''\n",
    "    \n",
    "    results_nmvw = {}\n",
    "    \n",
    "    for term_id in term_ids:\n",
    "        handle = 'https://hdl.handle.net/20.500.11840/termmaster' + term_id\n",
    "        results_nmvw[handle] = nmvw_json.get(handle)\n",
    "        \n",
    "    return results_nmvw"
   ]
  },
  {
   "cell_type": "code",
   "execution_count": 23,
   "metadata": {},
   "outputs": [
    {
     "data": {
      "text/plain": [
       "{'https://hdl.handle.net/20.500.11840/termmaster10076668': {'prefLabel': 'Aboriginal Australiërs',\n",
       "  'altLabel': ['Aborigines',\n",
       "   'Aboriginal',\n",
       "   'Australisch Aboriginal',\n",
       "   'Aboriginals',\n",
       "   'Australian Aboriginal'],\n",
       "  'notes': ['Algemene aanduiding voor de oorspronkelijke bewoners van Australië',\n",
       "   \"Price & AAT-Ned; Words that Metter  ; in AAT: DESC='Australisch Aboriginal' ; v16: AAT-ID & BE toegevoegd ; v19: DESC gewijzigd, was 'Aboriginal'\"],\n",
       "  'exactMatch': 'http://vocab.getty.edu/aat/300021862',\n",
       "  'scheme': 'Cultuur'},\n",
       " 'https://hdl.handle.net/20.500.11840/termmaster10060821': {'prefLabel': 'Nagoya',\n",
       "  'altLabel': [],\n",
       "  'notes': ['Times Atlas 1994 & TGN ; WMR (2010) ; v01: tech.val.'],\n",
       "  'exactMatch': 'https://www.geonames.org/1856057',\n",
       "  'scheme': 'Geografie'},\n",
       " 'https://hdl.handle.net/20.500.11840/termmaster003': None}"
      ]
     },
     "execution_count": 23,
     "metadata": {},
     "output_type": "execute_result"
    }
   ],
   "source": [
    "nmvw(term_ids,nmvw_path)"
   ]
  },
  {
   "cell_type": "markdown",
   "metadata": {},
   "source": [
    "### Princeton WordNet"
   ]
  },
  {
   "cell_type": "code",
   "execution_count": 13,
   "metadata": {},
   "outputs": [],
   "source": [
    "def pwn(synsets:list) -> dict:\n",
    "    '''\n",
    "    Getting lemmata, definition, examples of a synset\n",
    "    synsets: a list of synsets IDs (str)\n",
    "    Return a dict: {'synset_id': {'lemmata': '',\n",
    "                                   'definition': '',\n",
    "                                   'examples': []}\n",
    "    Requires NLTK, wordnet corpus version 3.1\n",
    "    '''\n",
    "    \n",
    "    results_pwn = {}\n",
    "    \n",
    "    for s in synsets:\n",
    "        synset = wn.synset(s)\n",
    "        lemmata = [l.name() for l in synset.lemmas()]\n",
    "        definition = synset.definition()\n",
    "        examples = synset.examples()\n",
    "        \n",
    "        # writing results \n",
    "        results_pwn[s] = {'lemmata': lemmata,\n",
    "                         'definition': definition,\n",
    "                         'examples': examples}\n",
    "        \n",
    "    return results_pwn"
   ]
  },
  {
   "cell_type": "code",
   "execution_count": 14,
   "metadata": {},
   "outputs": [
    {
     "data": {
      "text/plain": [
       "{'savage.n.01': {'lemmata': ['savage', 'barbarian'],\n",
       "  'definition': 'a member of an uncivilized people',\n",
       "  'examples': []}}"
      ]
     },
     "execution_count": 14,
     "metadata": {},
     "output_type": "execute_result"
    }
   ],
   "source": [
    "pwn(['savage.n.01'])"
   ]
  },
  {
   "cell_type": "markdown",
   "metadata": {},
   "source": [
    "### ODWN"
   ]
  },
  {
   "cell_type": "code",
   "execution_count": null,
   "metadata": {},
   "outputs": [],
   "source": [
    "def odwn(synsets:list, path_odwn:str) -> dict:\n",
    "    '''\n",
    "    Getting lemmata, sense definitions, synset definitions, examples of ODWN synsets\n",
    "    synsets: list of synset IDs (str)\n",
    "    path_odwn: str path to the directory with OpenDutchWordnet (not including the module itself)\n",
    "    '''\n",
    "    # importing ODWN\n",
    "    sys.path.insert(0,'path_odwn')\n",
    "    from OpenDutchWordnet import Wn_grid_parser\n",
    "    # creating an instance\n",
    "    instance = Wn_grid_parser(Wn_grid_parser.odwn)\n",
    "    \n"
   ]
  },
  {
   "cell_type": "markdown",
   "metadata": {},
   "source": [
    "#### check where a query term is found per resource:\n",
    "* Wikidata: labels, aliases\n",
    "* AAT: prefLabel, altLabel\n",
    "* NMVW: prefLabel, altLabel\n",
    "* Princeton WordNet: no checking, only lemmata\n",
    "* ODWN: no checking, only lemma"
   ]
  },
  {
   "cell_type": "code",
   "execution_count": 1,
   "metadata": {},
   "outputs": [],
   "source": [
    "from LODlitParser import lodlitparser"
   ]
  },
  {
   "cell_type": "code",
   "execution_count": 2,
   "metadata": {},
   "outputs": [
    {
     "data": {
      "text/plain": [
       "{'savage.n.01': {'lemmata': ['savage', 'barbarian'],\n",
       "  'definition': 'a member of an uncivilized people',\n",
       "  'examples': []}}"
      ]
     },
     "execution_count": 2,
     "metadata": {},
     "output_type": "execute_result"
    }
   ],
   "source": [
    "lodlitparser.pwn(['savage.n.01'])"
   ]
  },
  {
   "cell_type": "code",
   "execution_count": 3,
   "metadata": {},
   "outputs": [
    {
     "ename": "NameError",
     "evalue": "name 'nmvw_json' is not defined",
     "output_type": "error",
     "traceback": [
      "\u001b[0;31m---------------------------------------------------------------------------\u001b[0m",
      "\u001b[0;31mNameError\u001b[0m                                 Traceback (most recent call last)",
      "\u001b[0;32m<ipython-input-3-1c22073697bd>\u001b[0m in \u001b[0;36m<module>\u001b[0;34m\u001b[0m\n\u001b[0;32m----> 1\u001b[0;31m \u001b[0mlodlitparser\u001b[0m\u001b[0;34m.\u001b[0m\u001b[0mnmvw\u001b[0m\u001b[0;34m(\u001b[0m\u001b[0;34m[\u001b[0m\u001b[0;34m'10076668'\u001b[0m\u001b[0;34m]\u001b[0m\u001b[0;34m)\u001b[0m\u001b[0;34m\u001b[0m\u001b[0;34m\u001b[0m\u001b[0m\n\u001b[0m",
      "\u001b[0;32m~/reps/LODlit/LODlitParser/lodlitparser.py\u001b[0m in \u001b[0;36mnmvw\u001b[0;34m(term_ids)\u001b[0m\n\u001b[1;32m     75\u001b[0m     \u001b[0;32mfor\u001b[0m \u001b[0mterm_id\u001b[0m \u001b[0;32min\u001b[0m \u001b[0mterm_ids\u001b[0m\u001b[0;34m:\u001b[0m\u001b[0;34m\u001b[0m\u001b[0;34m\u001b[0m\u001b[0m\n\u001b[1;32m     76\u001b[0m         \u001b[0mhandle\u001b[0m \u001b[0;34m=\u001b[0m \u001b[0;34m'https://hdl.handle.net/20.500.11840/termmaster'\u001b[0m \u001b[0;34m+\u001b[0m \u001b[0mterm_id\u001b[0m\u001b[0;34m\u001b[0m\u001b[0;34m\u001b[0m\u001b[0m\n\u001b[0;32m---> 77\u001b[0;31m         \u001b[0mresults_nmvw\u001b[0m\u001b[0;34m[\u001b[0m\u001b[0mhandle\u001b[0m\u001b[0;34m]\u001b[0m \u001b[0;34m=\u001b[0m \u001b[0mnmvw_json\u001b[0m\u001b[0;34m.\u001b[0m\u001b[0mget\u001b[0m\u001b[0;34m(\u001b[0m\u001b[0mhandle\u001b[0m\u001b[0;34m)\u001b[0m\u001b[0;34m\u001b[0m\u001b[0;34m\u001b[0m\u001b[0m\n\u001b[0m\u001b[1;32m     78\u001b[0m \u001b[0;34m\u001b[0m\u001b[0m\n\u001b[1;32m     79\u001b[0m     \u001b[0;32mreturn\u001b[0m \u001b[0mresults_nmvw\u001b[0m\u001b[0;34m\u001b[0m\u001b[0;34m\u001b[0m\u001b[0m\n",
      "\u001b[0;31mNameError\u001b[0m: name 'nmvw_json' is not defined"
     ]
    }
   ],
   "source": [
    "lodlitparser.nmvw(['10076668'])"
   ]
  },
  {
   "cell_type": "code",
   "execution_count": null,
   "metadata": {},
   "outputs": [],
   "source": []
  }
 ],
 "metadata": {
  "kernelspec": {
   "display_name": "Python 3",
   "language": "python",
   "name": "python3"
  },
  "language_info": {
   "codemirror_mode": {
    "name": "ipython",
    "version": 3
   },
   "file_extension": ".py",
   "mimetype": "text/x-python",
   "name": "python",
   "nbconvert_exporter": "python",
   "pygments_lexer": "ipython3",
   "version": "3.8.5"
  }
 },
 "nbformat": 4,
 "nbformat_minor": 4
}
