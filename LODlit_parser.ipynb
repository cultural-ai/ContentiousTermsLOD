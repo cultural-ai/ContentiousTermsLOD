{
 "cells": [
  {
   "cell_type": "markdown",
   "metadata": {},
   "source": [
    "### lodlitparser"
   ]
  },
  {
   "cell_type": "code",
   "execution_count": 1,
   "metadata": {},
   "outputs": [],
   "source": [
    "import json\n",
    "import requests\n",
    "import time\n",
    "import re\n",
    "import sys\n",
    "from io import BytesIO\n",
    "from zipfile import ZipFile\n",
    "from SPARQLWrapper import SPARQLWrapper, JSON\n",
    "# install NLTK, download wordnet31 ('https://github.com/nltk/nltk_data/blob/gh-pages/packages/corpora/wordnet31.zip');\n",
    "# put the content of 'wordnet31' to 'wordnet' in 'nltk_data/corpora' (there are issues with importing wordnet31 from nltk.corpus)\n",
    "from nltk.corpus import wordnet as wn\n",
    "# download OpenDutchWordnet from 'https://github.com/cultural-ai/OpenDutchWordnet'"
   ]
  },
  {
   "cell_type": "markdown",
   "metadata": {},
   "source": [
    "### Wikidata"
   ]
  },
  {
   "cell_type": "code",
   "execution_count": 20,
   "metadata": {},
   "outputs": [],
   "source": [
    "def wd(qids:list,lang:str,user_agent:str) -> dict:\n",
    "    \n",
    "    \"\"\"\n",
    "    Requesting labels, aliases, descriptions of Wikidata entities\n",
    "    qids: list of entity IDs (str) (requests 50 entities at a time slicing the list)\n",
    "    lang: str with language code; for example, 'en' or 'nl';\n",
    "    (see language codes in Wikidata: https://www.wikidata.org/w/api.php?action=help&modules=wbgetentities)\n",
    "    user_agent: str with user-agent's info; required by Wikidata (see: https://meta.wikimedia.org/wiki/User-Agent_policy)\n",
    "    Returns a dict: {'QID': {'type': '',\n",
    "                     'id': 'QID',\n",
    "                     'labels': {'lang': {'language': 'lang', 'value': ''}},\n",
    "                     'descriptions': {'lang': {'language': 'lang','value': ''}},\n",
    "                     'aliases': {'lang': [{'language': 'lang', 'value': ''}\n",
    "    \"\"\"\n",
    "    \n",
    "    # 'wbgetentities' constant params\n",
    "    url = \"https://www.wikidata.org/w/api.php\"\n",
    "    params = {\"action\":\"wbgetentities\",\n",
    "              \"ids\":\"\", # string of entities (max=50)\n",
    "              \"props\":\"labels|aliases|descriptions\",\n",
    "              \"languages\":lang,\n",
    "              \"format\":\"json\"}\n",
    "    headers = {\"user-agent\":user_agent}\n",
    "\n",
    "    # - N LOOPS - #\n",
    "\n",
    "    # if there's a remainder\n",
    "    if len(qids) % 50 > 0:\n",
    "        loops = len(qids) // 50 + 1 # add another loop for requests\n",
    "    else:\n",
    "        loops = len(qids) // 50\n",
    "\n",
    "    # - REQUEST LOOPS - #   \n",
    "\n",
    "    # counters to slice qids\n",
    "\n",
    "    start_quid_str = 0\n",
    "    end_quid_str = 0\n",
    "\n",
    "    for i in range(0,loops):\n",
    "        ids_string = \"\" # putting Qs in one string\n",
    "        end_quid_str = end_quid_str + 50 # max 50 entities per request\n",
    "\n",
    "        for q in qids[start_quid_str:end_quid_str]:\n",
    "            ids_string = ids_string + f\"{q}|\"\n",
    "\n",
    "        start_quid_str = start_quid_str + 50\n",
    "\n",
    "        # updating params\n",
    "\n",
    "        params[\"ids\"] = ids_string.rstrip(\"|\")\n",
    "\n",
    "        # sending a request\n",
    "        d = requests.get(url,params=params,headers=headers)\n",
    "        literals = d.json() # claims per request\n",
    "\n",
    "    return literals['entities']"
   ]
  },
  {
   "cell_type": "code",
   "execution_count": 23,
   "metadata": {},
   "outputs": [
    {
     "data": {
      "text/plain": [
       "{'Q592': {'type': 'item',\n",
       "  'id': 'Q592',\n",
       "  'labels': {'nl': {'language': 'nl', 'value': 'gay'}},\n",
       "  'descriptions': {'nl': {'language': 'nl',\n",
       "    'value': 'synoniem voor homosexueel'}},\n",
       "  'aliases': {'nl': [{'language': 'nl', 'value': 'homoseksueel persoon'}]}},\n",
       " 'Q486680': {'type': 'item',\n",
       "  'id': 'Q486680',\n",
       "  'labels': {'nl': {'language': 'nl', 'value': 'travestie'}},\n",
       "  'descriptions': {'nl': {'language': 'nl',\n",
       "    'value': 'bewust kleding dragen van het andere geslacht, anders dan voor een acteerrol'}},\n",
       "  'aliases': {'nl': [{'language': 'nl', 'value': 'travestiet'},\n",
       "    {'language': 'nl', 'value': 'travesti'},\n",
       "    {'language': 'nl', 'value': 'transvestitisme'}]}}}"
      ]
     },
     "execution_count": 23,
     "metadata": {},
     "output_type": "execute_result"
    }
   ],
   "source": [
    "wd(qids,lang,user_agent)"
   ]
  },
  {
   "cell_type": "markdown",
   "metadata": {},
   "source": [
    "### AAT"
   ]
  },
  {
   "cell_type": "code",
   "execution_count": 25,
   "metadata": {},
   "outputs": [],
   "source": [
    "sparql = SPARQLWrapper(\"http://vocab.getty.edu/sparql\")"
   ]
  },
  {
   "cell_type": "code",
   "execution_count": 9,
   "metadata": {},
   "outputs": [],
   "source": [
    "aat_uri = ['300236748']"
   ]
  },
  {
   "cell_type": "code",
   "execution_count": 10,
   "metadata": {},
   "outputs": [],
   "source": [
    "lang = 'en'"
   ]
  },
  {
   "cell_type": "code",
   "execution_count": 45,
   "metadata": {},
   "outputs": [],
   "source": [
    "def aat(aat_uri:list,lang:str) -> dict:\n",
    "    '''\n",
    "    Querying prefLabel, altLabel, scopeNote, rdfs comments of concepts in AAT;\n",
    "    Sends SPARQL queries to the AAT endpoint via SPARQLwrapper \n",
    "    aat_uri: list of AAT concepts IDs (str) ['ID']\n",
    "    lang: str 'en' or 'nl'\n",
    "    Returns a dict with query results: {'ID':{'lang':'en',\n",
    "                                              'prefLabel':'',\n",
    "                                              'altLabels':[],\n",
    "                                              'scopeNote':'',\n",
    "                                              'prefLabel_comment':'',\n",
    "                                              'altLabel_comment':''}\n",
    "    '''\n",
    "    \n",
    "    sparql = SPARQLWrapper(\"http://vocab.getty.edu/sparql\")\n",
    "    \n",
    "    if lang == 'en':\n",
    "        lang_code = '300388277'\n",
    "    if lang == 'nl':\n",
    "        lang_code = '300388256'\n",
    "        \n",
    "    result_dict = {}\n",
    "        \n",
    "    for uri in aat_uri:\n",
    "        \n",
    "        result_dict[uri] = {}\n",
    "        \n",
    "        query_string = '''SELECT ?prefLabel (GROUP_CONCAT(?altLabel;SEPARATOR=\"#\") AS ?altLabels)\n",
    "        ?scopeNote ?prefLabel_comment ?altLabel_comment\n",
    "        WHERE {aat:''' + uri + ''' xl:prefLabel ?pL .?pL dcterms:language aat:''' + lang_code + ''';\n",
    "        xl:literalForm ?prefLabel .\n",
    "        OPTIONAL {?pL rdfs:comment ?prefLabel_comment . }\n",
    "        OPTIONAL {aat:''' + uri + ''' xl:altLabel ?aL .\n",
    "        ?aL dcterms:language aat:''' + lang_code + ''';\n",
    "        xl:literalForm ?altLabel . \n",
    "        OPTIONAL { ?aL rdfs:comment ?altLabel_comment . }}\n",
    "        OPTIONAL {aat:''' + uri + ''' skos:scopeNote / dcterms:language aat:'''+ lang_code + ''';\n",
    "        skos:scopeNote / rdf:value ?scopeNote . }}\n",
    "        GROUP BY ?prefLabel ?scopeNote ?prefLabel_comment ?altLabel_comment'''\n",
    "        \n",
    "        sparql.setQuery(query_string)\n",
    "        sparql.setReturnFormat(JSON)\n",
    "        results = sparql.query().convert()\n",
    "        \n",
    "        altLabels = []\n",
    "        scopeNote = None\n",
    "        prefLabel_comment = None\n",
    "        altLabel_comment = None\n",
    "        \n",
    "        for result in results['results']['bindings']:\n",
    "            \n",
    "            if 'altLabels' in result:\n",
    "                altLabels = result['altLabels']['value'].split('#')\n",
    "            if 'scopeNote' in result:\n",
    "                scopeNote = result['scopeNote']['value']\n",
    "            if 'prefLabel_comment' in result:\n",
    "                prefLabel_comment = result['prefLabel_comment']['value']\n",
    "            if 'altLabel_comment' in result:\n",
    "                altLabel_comment = result['altLabel_comment']['value']\n",
    "\n",
    "            result_dict[uri]['lang'] = lang\n",
    "            result_dict[uri]['prefLabel'] = result['prefLabel']['value']\n",
    "            result_dict[uri]['altLabels'] = altLabels\n",
    "            result_dict[uri]['prefLabel_comment'] = prefLabel_comment\n",
    "            result_dict[uri]['altLabel_comment'] = altLabel_comment\n",
    "            result_dict[uri]['scopeNote'] = scopeNote\n",
    "    print(query_string)    \n",
    "    return result_dict"
   ]
  },
  {
   "cell_type": "code",
   "execution_count": 18,
   "metadata": {},
   "outputs": [],
   "source": [
    "aat_uri_test = '300236748'\n",
    "lang_code = '300388277'"
   ]
  },
  {
   "cell_type": "code",
   "execution_count": 19,
   "metadata": {},
   "outputs": [],
   "source": [
    "query_string = '''SELECT ?prefLabel (GROUP_CONCAT(?altLabel;SEPARATOR=\"#\") AS ?altLabels) ?scopeNote ?prefLabel_comment ?altLabel_comment\n",
    "\n",
    "WHERE {\n",
    "\n",
    "  aat:''' + aat_uri_test + ''' xl:prefLabel ?pL .\n",
    "  ?pL dcterms:language aat:''' + lang_code + ''';\n",
    "    xl:literalForm ?prefLabel .\n",
    "  \n",
    "  OPTIONAL {?pL rdfs:comment ?prefLabel_comment . }\n",
    "  \n",
    "  OPTIONAL {\n",
    "  aat:''' + aat_uri_test + ''' xl:altLabel ?aL .\n",
    "  ?aL dcterms:language aat:''' + lang_code + ''';\n",
    "    xl:literalForm ?altLabel . \n",
    "    OPTIONAL { ?aL rdfs:comment ?altLabel_comment . }\n",
    "  }\n",
    "  \n",
    "  OPTIONAL {aat:''' + aat_uri_test + ''' skos:scopeNote / dcterms:language aat:'''+ lang_code + ''';\n",
    "                skos:scopeNote / rdf:value ?scopeNote . }\n",
    "}\n",
    "GROUP BY ?prefLabel ?scopeNote ?prefLabel_comment ?altLabel_comment'''"
   ]
  },
  {
   "cell_type": "code",
   "execution_count": 37,
   "metadata": {},
   "outputs": [],
   "source": [
    "#### Debugging AAT"
   ]
  },
  {
   "cell_type": "code",
   "execution_count": 38,
   "metadata": {},
   "outputs": [],
   "source": [
    "aat_uri_test = '300236748'\n",
    "lang = 'en'"
   ]
  },
  {
   "cell_type": "code",
   "execution_count": 39,
   "metadata": {},
   "outputs": [],
   "source": [
    "sparql = SPARQLWrapper(\"http://vocab.getty.edu/sparql\")\n",
    "\n",
    "if lang == 'en':\n",
    "    lang_code = '300388277'\n",
    "if lang == 'nl':\n",
    "    lang_code = '300388256'\n",
    "\n",
    "result_dict = {}\n",
    "\n",
    "for uri in aat_uri:\n",
    "\n",
    "    result_dict[uri] = {}\n",
    "\n",
    "    query_string = '''SELECT ?prefLabel (GROUP_CONCAT(?altLabel;SEPARATOR=\"#\") AS ?altLabels)\n",
    "    ?scopeNote ?prefLabel_comment ?altLabel_comment\n",
    "    WHERE {aat:''' + uri + ''' xl:prefLabel ?pL .?pL dcterms:language aat:''' + lang_code + ''';\n",
    "    xl:literalForm ?prefLabel .\n",
    "    OPTIONAL {?pL rdfs:comment ?prefLabel_comment . }\n",
    "    OPTIONAL {aat:''' + uri + ''' xl:altLabel ?aL .\n",
    "    ?aL dcterms:language aat:''' + lang_code + ''';\n",
    "    xl:literalForm ?altLabel . \n",
    "    OPTIONAL { ?aL rdfs:comment ?altLabel_comment . }}\n",
    "    OPTIONAL {aat:''' + uri + ''' skos:scopeNote / dcterms:language aat:'''+ lang_code + ''';\n",
    "    skos:scopeNote / rdf:value ?scopeNote . }}\n",
    "    GROUP BY ?prefLabel ?scopeNote ?prefLabel_comment ?altLabel_comment'''\n",
    "\n",
    "    sparql.setQuery(query_string)\n",
    "    sparql.setReturnFormat(JSON)\n",
    "    results = sparql.query().convert()\n",
    "\n",
    "    altLabels = []\n",
    "    scopeNote = None\n",
    "    prefLabel_comment = None\n",
    "    altLabel_comment = None\n",
    "\n",
    "    for result in results['results']['bindings']:\n",
    "\n",
    "        if 'altLabels' in result:\n",
    "            altLabels = result['altLabels']['value'].split('#')\n",
    "        if 'scopeNote' in result:\n",
    "            scopeNote = result['scopeNote']['value']\n",
    "        if 'prefLabel_comment' in result:\n",
    "            prefLabel_comment = result['prefLabel_comment']['value']\n",
    "        if 'altLabel_comment' in result:\n",
    "            altLabel_comment = result['altLabel_comment']['value']\n",
    "\n",
    "        result_dict[uri]['lang'] = lang\n",
    "        result_dict[uri]['prefLabel'] = result['prefLabel']['value']\n",
    "        result_dict[uri]['altLabels'] = altLabels\n",
    "        result_dict[uri]['prefLabel_comment'] = prefLabel_comment\n",
    "        result_dict[uri]['altLabel_comment'] = altLabel_comment\n",
    "        result_dict[uri]['scopeNote'] = scopeNote"
   ]
  },
  {
   "cell_type": "code",
   "execution_count": 42,
   "metadata": {},
   "outputs": [],
   "source": [
    "if 'scopeNote' in results:\n",
    "    print(True)"
   ]
  },
  {
   "cell_type": "code",
   "execution_count": 44,
   "metadata": {},
   "outputs": [
    {
     "data": {
      "text/plain": [
       "[{'prefLabel': {'xml:lang': 'en', 'type': 'literal', 'value': 'dwarfs'},\n",
       "  'altLabels': {'type': 'literal', 'value': \"dwarf#dwarf's#dwarfs'#dwarves\"},\n",
       "  'scopeNote': {'xml:lang': 'en',\n",
       "   'type': 'literal',\n",
       "   'value': 'People who are abnormally small in stature.'}}]"
      ]
     },
     "execution_count": 44,
     "metadata": {},
     "output_type": "execute_result"
    }
   ],
   "source": [
    "results['results']['bindings']"
   ]
  },
  {
   "cell_type": "code",
   "execution_count": 46,
   "metadata": {},
   "outputs": [
    {
     "name": "stdout",
     "output_type": "stream",
     "text": [
      "SELECT ?prefLabel (GROUP_CONCAT(?altLabel;SEPARATOR=\"#\") AS ?altLabels)\n",
      "        ?scopeNote ?prefLabel_comment ?altLabel_comment\n",
      "        WHERE {aat:300236748 xl:prefLabel ?pL .?pL dcterms:language aat:300388277;\n",
      "        xl:literalForm ?prefLabel .\n",
      "        OPTIONAL {?pL rdfs:comment ?prefLabel_comment . }\n",
      "        OPTIONAL {aat:300236748 xl:altLabel ?aL .\n",
      "        ?aL dcterms:language aat:300388277;\n",
      "        xl:literalForm ?altLabel . \n",
      "        OPTIONAL { ?aL rdfs:comment ?altLabel_comment . }}\n",
      "        OPTIONAL {aat:300236748 skos:scopeNote / dcterms:language aat:300388277;\n",
      "        skos:scopeNote / rdf:value ?scopeNote . }}\n",
      "        GROUP BY ?prefLabel ?scopeNote ?prefLabel_comment ?altLabel_comment\n"
     ]
    },
    {
     "data": {
      "text/plain": [
       "{'300236748': {'lang': 'en',\n",
       "  'prefLabel': 'dwarfs',\n",
       "  'altLabels': ['dwarf', \"dwarf's\", \"dwarfs'\", 'dwarves'],\n",
       "  'prefLabel_comment': None,\n",
       "  'altLabel_comment': None,\n",
       "  'scopeNote': 'People who are abnormally small in stature.'}}"
      ]
     },
     "execution_count": 46,
     "metadata": {},
     "output_type": "execute_result"
    }
   ],
   "source": [
    "aat(['300236748'],lang)"
   ]
  },
  {
   "cell_type": "code",
   "execution_count": 72,
   "metadata": {},
   "outputs": [],
   "source": [
    "# draft\n",
    "\n",
    "results = {'head': {'vars': ['prefLabel',\n",
    "   'altLabels',\n",
    "   'scopeNote',\n",
    "   'prefLabel_comment',\n",
    "   'altLabel_comment']},\n",
    " 'results': {'bindings': [{'prefLabel': {'xml:lang': 'en',\n",
    "     'type': 'literal',\n",
    "     'value': 'dwarfs'},\n",
    "    'altLabels': {'type': 'literal', 'value': \"dwarf#dwarf's#dwarfs'#dwarves\"},\n",
    "    'scopeNote': {'xml:lang': 'en',\n",
    "     'type': 'literal',\n",
    "     'value': 'People who are abnormally small in stature.'}}]}}"
   ]
  },
  {
   "cell_type": "code",
   "execution_count": 80,
   "metadata": {},
   "outputs": [
    {
     "name": "stdout",
     "output_type": "stream",
     "text": [
      "{'300236748': {'lang': 'en', 'prefLabel': 'dwarfs', 'altLabels': ['dwarf', \"dwarf's\", \"dwarfs'\", 'dwarves'], 'prefLabel_comment': None, 'altLabel_comment': None, 'scopeNote': None}}\n"
     ]
    }
   ],
   "source": [
    "lang = 'en'\n",
    "uri = '300236748'\n",
    "altLabels = []\n",
    "scopeNote = None\n",
    "prefLabel_comment = None\n",
    "altLabel_comment = None\n",
    "\n",
    "for result in results['results']['bindings']:\n",
    "    \n",
    "    result_dict = {uri:{}}\n",
    "    \n",
    "    if 'altLabels' in result:\n",
    "        altLabels = result['altLabels']['value'].split('#')\n",
    "    if 'scopeNote' in results:\n",
    "        scopeNote = result['scopeNote']['value']\n",
    "    if 'prefLabel_comment' in results:\n",
    "        prefLabel_comment = result['prefLabel_comment']['value']\n",
    "    if 'altLabel_comment' in results:\n",
    "        altLabel_comment = result['altLabel_comment']['value']\n",
    "        \n",
    "    result_dict[uri]['lang'] = lang\n",
    "    result_dict[uri]['prefLabel'] = result['prefLabel']['value']\n",
    "    result_dict[uri]['altLabels'] = altLabels\n",
    "    result_dict[uri]['prefLabel_comment'] = prefLabel_comment\n",
    "    result_dict[uri]['altLabel_comment'] = altLabel_comment\n",
    "    result_dict[uri]['scopeNote'] = scopeNote\n",
    "        \n",
    "    print(result_dict)"
   ]
  },
  {
   "cell_type": "code",
   "execution_count": null,
   "metadata": {},
   "outputs": [],
   "source": [
    "{'300236748':{'lang':'en',\n",
    "              'prefLabel':'',\n",
    "              'altLabels':[],\n",
    "              'scopeNote':'',\n",
    "              'prefLabel_comment':'',\n",
    "              'altLabel_comment':''}"
   ]
  },
  {
   "cell_type": "markdown",
   "metadata": {},
   "source": [
    "### NMVW"
   ]
  },
  {
   "cell_type": "code",
   "execution_count": 1,
   "metadata": {},
   "outputs": [],
   "source": [
    "# parsing the json file created before: '/Users/anesterov/WM/nmvw_thesaurus.json'"
   ]
  },
  {
   "cell_type": "code",
   "execution_count": 19,
   "metadata": {},
   "outputs": [],
   "source": [
    "term_ids = ['10076668','10060821','003']"
   ]
  },
  {
   "cell_type": "code",
   "execution_count": 5,
   "metadata": {},
   "outputs": [],
   "source": [
    "nmvw_path = '/Users/anesterov/WM/nmvw_thesaurus.json'"
   ]
  },
  {
   "cell_type": "code",
   "execution_count": 22,
   "metadata": {},
   "outputs": [],
   "source": [
    "def nmvw(term_ids:list) -> dict:\n",
    "    '''\n",
    "    Getting info about terms by their handle IDs in NMVW-thesaurus\n",
    "    term_ids: list of term IDs (str)\n",
    "    Returns a dict with query results: {'ID': {'prefLabel': '',\n",
    "                                               'altLabel': [],\n",
    "                                               'notes': [],\n",
    "                                               'exactMatch': '',\n",
    "                                               'scheme': ''}}\n",
    "    '''\n",
    "    \n",
    "    results_nmvw = {}\n",
    "    \n",
    "    for term_id in term_ids:\n",
    "        handle = 'https://hdl.handle.net/20.500.11840/termmaster' + term_id\n",
    "        results_nmvw[handle] = nmvw_json.get(handle)\n",
    "        \n",
    "    return results_nmvw"
   ]
  },
  {
   "cell_type": "code",
   "execution_count": 23,
   "metadata": {},
   "outputs": [
    {
     "data": {
      "text/plain": [
       "{'https://hdl.handle.net/20.500.11840/termmaster10076668': {'prefLabel': 'Aboriginal Australiërs',\n",
       "  'altLabel': ['Aborigines',\n",
       "   'Aboriginal',\n",
       "   'Australisch Aboriginal',\n",
       "   'Aboriginals',\n",
       "   'Australian Aboriginal'],\n",
       "  'notes': ['Algemene aanduiding voor de oorspronkelijke bewoners van Australië',\n",
       "   \"Price & AAT-Ned; Words that Metter  ; in AAT: DESC='Australisch Aboriginal' ; v16: AAT-ID & BE toegevoegd ; v19: DESC gewijzigd, was 'Aboriginal'\"],\n",
       "  'exactMatch': 'http://vocab.getty.edu/aat/300021862',\n",
       "  'scheme': 'Cultuur'},\n",
       " 'https://hdl.handle.net/20.500.11840/termmaster10060821': {'prefLabel': 'Nagoya',\n",
       "  'altLabel': [],\n",
       "  'notes': ['Times Atlas 1994 & TGN ; WMR (2010) ; v01: tech.val.'],\n",
       "  'exactMatch': 'https://www.geonames.org/1856057',\n",
       "  'scheme': 'Geografie'},\n",
       " 'https://hdl.handle.net/20.500.11840/termmaster003': None}"
      ]
     },
     "execution_count": 23,
     "metadata": {},
     "output_type": "execute_result"
    }
   ],
   "source": [
    "nmvw(term_ids,nmvw_path)"
   ]
  },
  {
   "cell_type": "markdown",
   "metadata": {},
   "source": [
    "### Princeton WordNet"
   ]
  },
  {
   "cell_type": "code",
   "execution_count": 13,
   "metadata": {},
   "outputs": [],
   "source": [
    "def pwn(synsets:list) -> dict:\n",
    "    '''\n",
    "    Getting lemmata, definition, examples of a synset\n",
    "    synsets: a list of synsets IDs (str)\n",
    "    Return a dict: {'synset_id': {'lemmata': '',\n",
    "                                   'definition': '',\n",
    "                                   'examples': []}\n",
    "    Requires NLTK, wordnet corpus version 3.1\n",
    "    '''\n",
    "    \n",
    "    results_pwn = {}\n",
    "    \n",
    "    for s in synsets:\n",
    "        synset = wn.synset(s)\n",
    "        lemmata = [l.name() for l in synset.lemmas()]\n",
    "        definition = synset.definition()\n",
    "        examples = synset.examples()\n",
    "        \n",
    "        # writing results \n",
    "        results_pwn[s] = {'lemmata': lemmata,\n",
    "                         'definition': definition,\n",
    "                         'examples': examples}\n",
    "        \n",
    "    return results_pwn"
   ]
  },
  {
   "cell_type": "code",
   "execution_count": 14,
   "metadata": {},
   "outputs": [
    {
     "data": {
      "text/plain": [
       "{'savage.n.01': {'lemmata': ['savage', 'barbarian'],\n",
       "  'definition': 'a member of an uncivilized people',\n",
       "  'examples': []}}"
      ]
     },
     "execution_count": 14,
     "metadata": {},
     "output_type": "execute_result"
    }
   ],
   "source": [
    "pwn(['savage.n.01'])"
   ]
  },
  {
   "cell_type": "markdown",
   "metadata": {},
   "source": [
    "### ODWN"
   ]
  },
  {
   "cell_type": "code",
   "execution_count": 2,
   "metadata": {},
   "outputs": [],
   "source": [
    "def odwn(le_ids:list, path_odwn:str) -> dict:\n",
    "    '''\n",
    "    Getting Lemma, sense definitions, examples, synset ID, synset definitions of ODWN Lexical Entries\n",
    "    le_ids: list of Lexical Entries IDs (str)\n",
    "    path_odwn: str path to the directory with OpenDutchWordnet (not including the module itself, for example 'user/Downloads')\n",
    "    Returns a dict: {'le_id': {'lemma': '',\n",
    "                                'sense_def': '',\n",
    "                                'examples': [],\n",
    "                                'synset_ID': '',\n",
    "                                'synset_def': []}\n",
    "    '''\n",
    "    # importing ODWN\n",
    "    sys.path.insert(0,path_odwn)\n",
    "    from OpenDutchWordnet import Wn_grid_parser\n",
    "    # creating an instance\n",
    "    instance = Wn_grid_parser(Wn_grid_parser.odwn)\n",
    "    \n",
    "    # importing all synset definitions\n",
    "    path_to_glosses = \"https://raw.githubusercontent.com/cultural-ai/wordsmatter/main/ODWN/odwn_synset_glosses.json\"\n",
    "    synset_glosses = requests.get(path_to_glosses).json()\n",
    "    \n",
    "    results_odwn = {}\n",
    "\n",
    "    for le_id in le_ids:\n",
    "        le = instance.les_find_le(le_id)\n",
    "        synset_id = le.get_synset_id()\n",
    "\n",
    "        sense_def = le.get_definition()\n",
    "        if sense_def == '':\n",
    "            sense_def = None\n",
    "\n",
    "        results_odwn[le_id] = {'lemma': le.get_lemma(),\n",
    "                                'sense_def': sense_def,\n",
    "                                'examples': le.get_sense_example(),\n",
    "                                'synset_ID': synset_id,\n",
    "                                'synset_def': synset_glosses.get(synset_id)}\n",
    "    return results_odwn"
   ]
  },
  {
   "cell_type": "code",
   "execution_count": 5,
   "metadata": {},
   "outputs": [
    {
     "data": {
      "text/plain": [
       "{'koelie-n-1': {'lemma': 'koelie',\n",
       "  'sense_def': 'bediende zoals in de tropen',\n",
       "  'examples': [],\n",
       "  'synset_ID': 'odwn-10-101160806-n',\n",
       "  'synset_def': ['bediende zoals in de tropen']},\n",
       " 'koelie-n-2': {'lemma': 'koelie',\n",
       "  'sense_def': None,\n",
       "  'examples': [],\n",
       "  'synset_ID': 'eng-30-10035809-n',\n",
       "  'synset_def': ['iemand die werkt tegen betaling']},\n",
       " 'Jap-n-1': {'lemma': 'Jap',\n",
       "  'sense_def': 'Japanner',\n",
       "  'examples': [],\n",
       "  'synset_ID': 'odwn-10-103201483-n',\n",
       "  'synset_def': ['Japanner']},\n",
       " 'homoseksueel-n-1': {'lemma': 'homoseksueel',\n",
       "  'sense_def': 'homofiel persoon',\n",
       "  'examples': [],\n",
       "  'synset_ID': 'eng-30-10182913-n',\n",
       "  'synset_def': ['homoseksueel persoon',\n",
       "   'homoseksueel persoon',\n",
       "   'homofiel persoon']},\n",
       " 'mohammedaan-n-1': {'lemma': 'mohammedaan',\n",
       "  'sense_def': 'aanhanger v.d. islam',\n",
       "  'examples': [],\n",
       "  'synset_ID': 'odwn-10-107525787-n',\n",
       "  'synset_def': ['aanhanger v.d. islam']},\n",
       " 'moor-n-1': {'lemma': 'moor',\n",
       "  'sense_def': 'iemand met een donkere huidskleur',\n",
       "  'examples': [],\n",
       "  'synset_ID': 'eng-30-09638009-n',\n",
       "  'synset_def': ['iemand met een donkere huidskleur',\n",
       "   'iemand met donkere huidskleur',\n",
       "   'vrouw met donkere huidskleur',\n",
       "   'neger',\n",
       "   'neger of vies persoon',\n",
       "   'duivel']},\n",
       " 'Moor-n-2': {'lemma': 'Moor',\n",
       "  'sense_def': 'Noordafrikaanse moslim',\n",
       "  'examples': ['De Moren veroverden Corsica in de negende eeuw.'],\n",
       "  'synset_ID': 'odwn-10-102610292-n',\n",
       "  'synset_def': ['Noordafrikaanse moslim']}}"
      ]
     },
     "execution_count": 5,
     "metadata": {},
     "output_type": "execute_result"
    }
   ],
   "source": [
    "odwn(le_ids,path_odwn)"
   ]
  },
  {
   "cell_type": "code",
   "execution_count": 4,
   "metadata": {},
   "outputs": [],
   "source": [
    "path_odwn = \"/Users/anesterov/reps\""
   ]
  },
  {
   "cell_type": "code",
   "execution_count": 47,
   "metadata": {},
   "outputs": [],
   "source": [
    "sys.path.insert(0,path_odwn)"
   ]
  },
  {
   "cell_type": "code",
   "execution_count": 48,
   "metadata": {},
   "outputs": [],
   "source": [
    "from OpenDutchWordnet import Wn_grid_parser"
   ]
  },
  {
   "cell_type": "code",
   "execution_count": 49,
   "metadata": {},
   "outputs": [],
   "source": [
    "instance = Wn_grid_parser(Wn_grid_parser.odwn)"
   ]
  },
  {
   "cell_type": "code",
   "execution_count": 72,
   "metadata": {},
   "outputs": [],
   "source": [
    "# importing all synset definitions\n",
    "path_to_glosses = \"https://raw.githubusercontent.com/cultural-ai/wordsmatter/main/ODWN/odwn_synset_glosses.json\"\n",
    "synset_glosses = requests.get(path_to_glosses).json()"
   ]
  },
  {
   "cell_type": "code",
   "execution_count": 3,
   "metadata": {},
   "outputs": [],
   "source": [
    "le_ids = ['koelie-n-1','koelie-n-2','Jap-n-1','homoseksueel-n-1','mohammedaan-n-1','moor-n-1','Moor-n-2']"
   ]
  },
  {
   "cell_type": "code",
   "execution_count": 80,
   "metadata": {},
   "outputs": [],
   "source": [
    "results_odwn = {}\n",
    "\n",
    "for le_id in le_ids:\n",
    "    le = instance.les_find_le(le_id)\n",
    "    synset_id = le.get_synset_id()\n",
    "    \n",
    "    sense_def = le.get_definition()\n",
    "    if sense_def == '':\n",
    "        sense_def = None\n",
    "        \n",
    "    \n",
    "    results_odwn[le_id] = {'lemma': le.get_lemma(),\n",
    "                            'sense_def': sense_def,\n",
    "                            'examples': le.get_sense_example(),\n",
    "                            'synset_ID': synset_id,\n",
    "                            'synset_def': synset_glosses.get(synset_id)}"
   ]
  },
  {
   "cell_type": "code",
   "execution_count": 81,
   "metadata": {},
   "outputs": [
    {
     "data": {
      "text/plain": [
       "{'koelie-n-1': {'lemma': 'koelie',\n",
       "  'sense_def': 'bediende zoals in de tropen',\n",
       "  'examples': [],\n",
       "  'synset_ID': 'odwn-10-101160806-n',\n",
       "  'synset_def': ['bediende zoals in de tropen']},\n",
       " 'koelie-n-2': {'lemma': 'koelie',\n",
       "  'sense_def': None,\n",
       "  'examples': [],\n",
       "  'synset_ID': 'eng-30-10035809-n',\n",
       "  'synset_def': ['iemand die werkt tegen betaling']},\n",
       " 'Jap-n-1': {'lemma': 'Jap',\n",
       "  'sense_def': 'Japanner',\n",
       "  'examples': [],\n",
       "  'synset_ID': 'odwn-10-103201483-n',\n",
       "  'synset_def': ['Japanner']},\n",
       " 'homoseksueel-n-1': {'lemma': 'homoseksueel',\n",
       "  'sense_def': 'homofiel persoon',\n",
       "  'examples': [],\n",
       "  'synset_ID': 'eng-30-10182913-n',\n",
       "  'synset_def': ['homoseksueel persoon',\n",
       "   'homoseksueel persoon',\n",
       "   'homofiel persoon']},\n",
       " 'mohammedaan-n-1': {'lemma': 'mohammedaan',\n",
       "  'sense_def': 'aanhanger v.d. islam',\n",
       "  'examples': [],\n",
       "  'synset_ID': 'odwn-10-107525787-n',\n",
       "  'synset_def': ['aanhanger v.d. islam']},\n",
       " 'moor-n-1': {'lemma': 'moor',\n",
       "  'sense_def': 'iemand met een donkere huidskleur',\n",
       "  'examples': [],\n",
       "  'synset_ID': 'eng-30-09638009-n',\n",
       "  'synset_def': ['iemand met een donkere huidskleur',\n",
       "   'iemand met donkere huidskleur',\n",
       "   'vrouw met donkere huidskleur',\n",
       "   'neger',\n",
       "   'neger of vies persoon',\n",
       "   'duivel']},\n",
       " 'Moor-n-2': {'lemma': 'Moor',\n",
       "  'sense_def': 'Noordafrikaanse moslim',\n",
       "  'examples': ['De Moren veroverden Corsica in de negende eeuw.'],\n",
       "  'synset_ID': 'odwn-10-102610292-n',\n",
       "  'synset_def': ['Noordafrikaanse moslim']}}"
      ]
     },
     "execution_count": 81,
     "metadata": {},
     "output_type": "execute_result"
    }
   ],
   "source": [
    "results_odwn"
   ]
  },
  {
   "cell_type": "code",
   "execution_count": 62,
   "metadata": {},
   "outputs": [],
   "source": [
    "le = instance.les_find_le('neger-n-1')"
   ]
  },
  {
   "cell_type": "code",
   "execution_count": 60,
   "metadata": {},
   "outputs": [
    {
     "data": {
      "text/plain": [
       "<le.Le at 0x7f86a4a3d940>"
      ]
     },
     "execution_count": 60,
     "metadata": {},
     "output_type": "execute_result"
    }
   ],
   "source": [
    "le"
   ]
  },
  {
   "cell_type": "code",
   "execution_count": 69,
   "metadata": {},
   "outputs": [
    {
     "data": {
      "text/plain": [
       "{'barbaar',\n",
       " 'boer',\n",
       " 'boerenhufter',\n",
       " 'boerenkaffer',\n",
       " 'boerenkarhengst',\n",
       " 'boerenkinkel',\n",
       " 'boerenlul',\n",
       " 'boerenpummel',\n",
       " 'botterik',\n",
       " 'grobbejanus',\n",
       " 'heikneuter',\n",
       " 'hork',\n",
       " 'hufter',\n",
       " 'kaffer',\n",
       " 'kinkel',\n",
       " 'lomperd',\n",
       " 'lomperik',\n",
       " 'palurk',\n",
       " 'plebejer',\n",
       " 'plomperd',\n",
       " 'primitieveling',\n",
       " 'proleet',\n",
       " 'pummel',\n",
       " 'raudauwer',\n",
       " 'rouwdouw',\n",
       " 'rouwdouwer',\n",
       " 'vlegel',\n",
       " 'woudezel'}"
      ]
     },
     "execution_count": 69,
     "metadata": {},
     "output_type": "execute_result"
    }
   ],
   "source": [
    "instance.les_lemma_synonyms('kaffer')"
   ]
  },
  {
   "cell_type": "code",
   "execution_count": 50,
   "metadata": {},
   "outputs": [
    {
     "data": {
      "text/plain": [
       "<synset.Synset at 0x7f8690269520>"
      ]
     },
     "execution_count": 50,
     "metadata": {},
     "output_type": "execute_result"
    }
   ],
   "source": []
  },
  {
   "cell_type": "markdown",
   "metadata": {},
   "source": [
    "#### check where a query term is found per resource:\n",
    "* Wikidata: labels, aliases\n",
    "* AAT: prefLabel, altLabel\n",
    "* NMVW: prefLabel, altLabel\n",
    "* Princeton WordNet: no checking, only lemmata\n",
    "* ODWN: no checking, only lemma"
   ]
  },
  {
   "cell_type": "code",
   "execution_count": 1,
   "metadata": {},
   "outputs": [],
   "source": [
    "from LODlitParser import lodlitparser"
   ]
  },
  {
   "cell_type": "code",
   "execution_count": 35,
   "metadata": {},
   "outputs": [
    {
     "data": {
      "text/plain": [
       "{'white.n.01': {'lemmata': ['White', 'White_person', 'Caucasian'],\n",
       "  'definition': 'a Caucasian',\n",
       "  'examples': []},\n",
       " 'white.a.02': {'lemmata': ['white'],\n",
       "  'definition': 'of or belonging to a racial group having light skin coloration',\n",
       "  'examples': ['voting patterns within the white population']},\n",
       " 'white.s.05': {'lemmata': ['white', 'lily-white'],\n",
       "  'definition': 'restricted to whites only',\n",
       "  'examples': ['under segregation there were even white restrooms and white drinking fountains',\n",
       "   'a lily-white movement which would expel Negroes from the organization']}}"
      ]
     },
     "execution_count": 35,
     "metadata": {},
     "output_type": "execute_result"
    }
   ],
   "source": [
    "lodlitparser.pwn(['white.n.01', 'white.a.02', 'white.s.05'])"
   ]
  },
  {
   "cell_type": "code",
   "execution_count": 3,
   "metadata": {},
   "outputs": [
    {
     "data": {
      "text/plain": [
       "{'https://hdl.handle.net/20.500.11840/termmaster10076668': {'prefLabel': 'Aboriginal Australiërs',\n",
       "  'altLabel': ['Aborigines',\n",
       "   'Aboriginal',\n",
       "   'Australisch Aboriginal',\n",
       "   'Aboriginals',\n",
       "   'Australian Aboriginal'],\n",
       "  'notes': ['Algemene aanduiding voor de oorspronkelijke bewoners van Australië',\n",
       "   \"Price & AAT-Ned; Words that Metter  ; in AAT: DESC='Australisch Aboriginal' ; v16: AAT-ID & BE toegevoegd ; v19: DESC gewijzigd, was 'Aboriginal'\"],\n",
       "  'exactMatch': 'http://vocab.getty.edu/aat/300021862',\n",
       "  'scheme': 'Cultuur'}}"
      ]
     },
     "execution_count": 3,
     "metadata": {},
     "output_type": "execute_result"
    }
   ],
   "source": [
    "lodlitparser.nmvw(['10076668'])"
   ]
  },
  {
   "cell_type": "code",
   "execution_count": 4,
   "metadata": {},
   "outputs": [
    {
     "data": {
      "text/plain": [
       "{'Q592': {'type': 'item',\n",
       "  'id': 'Q592',\n",
       "  'labels': {'en': {'language': 'en', 'value': 'gay'}},\n",
       "  'descriptions': {'en': {'language': 'en',\n",
       "    'value': 'term referring to a homosexual person or the trait of homosexuality'}},\n",
       "  'aliases': {'en': [{'language': 'en', 'value': 'homosexual person'},\n",
       "    {'language': 'en', 'value': 'homosexuals'},\n",
       "    {'language': 'en', 'value': 'homosexual people'},\n",
       "    {'language': 'en', 'value': 'gay people'},\n",
       "    {'language': 'en', 'value': 'gay person'},\n",
       "    {'language': 'en', 'value': 'ghey'},\n",
       "    {'language': 'en', 'value': 'ゲイ'}]}}}"
      ]
     },
     "execution_count": 4,
     "metadata": {},
     "output_type": "execute_result"
    }
   ],
   "source": [
    "lodlitparser.wd(['Q592'],'en','test_query')"
   ]
  },
  {
   "cell_type": "code",
   "execution_count": 6,
   "metadata": {},
   "outputs": [
    {
     "data": {
      "text/plain": [
       "{'300016430': {'lang': 'nl',\n",
       "  'prefLabel': 'Pygmee',\n",
       "  'altLabels': [''],\n",
       "  'prefLabel_comment': None,\n",
       "  'altLabel_comment': None,\n",
       "  'scopeNote': 'Te gebruiken om werken te beschrijven van bepaalde Afrikaanse volkeren die leven in Kameroen, Equatoriaal-Guinea, de Democratische Republiek Congo, Congo, de Centraal-Afrikaanse Republiek, Rwanda en Burundi. De term Pygmee heeft soms een negatieve bijklank. Waar mogelijk verdient het gebruik van de specifieke naam van een subgroep de voorkeur.'},\n",
       " '300049946': {'lang': 'nl',\n",
       "  'prefLabel': 'stammen',\n",
       "  'altLabels': ['stam', 'volksstammen'],\n",
       "  'prefLabel_comment': None,\n",
       "  'altLabel_comment': None,\n",
       "  'scopeNote': 'Sociale groepen waarvan de leden geacht worden af te stammen van een gemeenschappelijke voorouder, en die bestaan uit talrijke families, geslachten of dorpen. Meestal bewonen ze een specifiek geografisch gebied, zijn ze homogeen op cultureel, religieus en taalkundig gebied en zijn ze politiek verenigd door één leider of hoofdman.'}}"
      ]
     },
     "execution_count": 6,
     "metadata": {},
     "output_type": "execute_result"
    }
   ],
   "source": [
    "lodlitparser.aat(['300016430','300049946'],'nl')"
   ]
  },
  {
   "cell_type": "code",
   "execution_count": null,
   "metadata": {},
   "outputs": [],
   "source": []
  }
 ],
 "metadata": {
  "kernelspec": {
   "display_name": "Python 3",
   "language": "python",
   "name": "python3"
  },
  "language_info": {
   "codemirror_mode": {
    "name": "ipython",
    "version": 3
   },
   "file_extension": ".py",
   "mimetype": "text/x-python",
   "name": "python",
   "nbconvert_exporter": "python",
   "pygments_lexer": "ipython3",
   "version": "3.8.5"
  }
 },
 "nbformat": 4,
 "nbformat_minor": 4
}
