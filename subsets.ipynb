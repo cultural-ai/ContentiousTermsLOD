{
 "cells": [
  {
   "cell_type": "code",
   "execution_count": 2,
   "metadata": {},
   "outputs": [],
   "source": [
    "import pandas as pd\n",
    "import json"
   ]
  },
  {
   "cell_type": "code",
   "execution_count": null,
   "metadata": {},
   "outputs": [],
   "source": [
    "def _get_subset_entities(path_to_top10:str) -> dict:\n",
    "    '''\n",
    "    '''\n",
    "    subset_dict = {}\n",
    "    \n",
    "    top_10 = pd.read_csv(path_to_top10)\n",
    "    subset = top_10[top_10[\"cs_rm\"] >= 0.5]\n",
    "    \n",
    "    # special condition for AAT\n",
    "    if '_aat_' in path_to_top10:\n",
    "        for term_group in subset.groupby(\"term\"):\n",
    "            list_of_entities_per_term = [str(int(hit_id)) for hit_id in term_group[1][\"hit_id\"]]\n",
    "            subset_dict[term_group[0]] = list_of_entities_per_term\n",
    "    else:\n",
    "        for term_group in subset.groupby(\"term\"):\n",
    "            list_of_entities_per_term = list(set(term_group[1][\"hit_id\"]))\n",
    "            subset_dict[term_group[0]] = list_of_entities_per_term\n",
    "        \n",
    "    return subset_dict"
   ]
  },
  {
   "cell_type": "code",
   "execution_count": null,
   "metadata": {},
   "outputs": [],
   "source": [
    "def construct_subset(resource:str, path_to_top10:str, path_to_search_results:str) -> dict:\n",
    "    '''\n",
    "    Constructs a subset of relevant entities from all search results\n",
    "    resource: str, 'wikidata', 'aat', 'pwn', 'odwn'\n",
    "    path_to_top10: str, a path to csv file with Top-10 entiites per lemma per resource\n",
    "    path_to_search_results: str, a path to json file with search results per resource\n",
    "    Returns dict with a subset for a resource\n",
    "    '''\n",
    "    \n",
    "    subset = {}\n",
    "    \n",
    "    # get the entities for the subset\n",
    "    subset_entities = _get_subset_entities(path_to_top10)\n",
    "    \n",
    "    # load the search results\n",
    "    with open(path_to_search_results,'r') as jf:\n",
    "        search_results = json.load(jf)\n",
    "    \n",
    "    # check the resource\n",
    "    if resource == 'wikidata':\n",
    "        entity_id = 'QID'\n",
    "    if resource == 'aat':\n",
    "        entity_id = 'aat_uri'\n",
    "    if resource == 'pwn':\n",
    "        entity_id = 'synset_id'\n",
    "        \n",
    "    # special conditions for ODWN    \n",
    "    if resource == 'odwn':\n",
    "        for query_term, entities in subset_entities.items():\n",
    "            hits_per_term = []\n",
    "            for hit in search_results[query_term]:\n",
    "                # in ODWN, instead of synset_id, there could be le_id; checking both\n",
    "                if (hit.get(\"le_id\") != None and hit.get(\"le_id\") in entities) or (hit.get(\"synset_id\") != None and hit.get(\"synset_id\") in entities):\n",
    "                    hits_per_term.append(hit)\n",
    "            subset[query_term] = hits_per_term\n",
    "\n",
    "    # get the subset for other resources\n",
    "    else:\n",
    "        for query_term, entities in subset_entities.items():\n",
    "            hits_per_term = []\n",
    "            for hit in search_results[query_term]:\n",
    "                if hit[entity_id] in entities:\n",
    "                    hits_per_term.append(hit)\n",
    "            subset[query_term] = hits_per_term\n",
    "        \n",
    "   \n",
    "    return subset"
   ]
  },
  {
   "cell_type": "markdown",
   "metadata": {},
   "source": [
    "### Generating and exporting the subset files"
   ]
  },
  {
   "cell_type": "markdown",
   "metadata": {},
   "source": [
    "#### Wikidata EN"
   ]
  },
  {
   "cell_type": "code",
   "execution_count": null,
   "metadata": {},
   "outputs": [],
   "source": [
    "wd_en_subset = construct_subset('wikidata',\"/Users/anesterov/reps/LODlit/cs/top_10_by_lemma_rm_wikidata_en.csv\",\"/Users/anesterov/LODlit_local/wd/jan31/results_clean_en.json\")"
   ]
  },
  {
   "cell_type": "code",
   "execution_count": null,
   "metadata": {},
   "outputs": [],
   "source": [
    "with open('/Users/anesterov/reps/LODlit/Wikidata/wd_en_subset.json', 'w') as jf:\n",
    "    json.dump(wd_en_subset, jf)"
   ]
  },
  {
   "cell_type": "markdown",
   "metadata": {},
   "source": [
    "#### Wikidata NL"
   ]
  },
  {
   "cell_type": "code",
   "execution_count": null,
   "metadata": {},
   "outputs": [],
   "source": [
    "wd_nl_subset = construct_subset('wikidata',\"/Users/anesterov/reps/LODlit/cs/top_10_by_lemma_rm_wikidata_nl.csv\",\"/Users/anesterov/LODlit_local/wd/jan31/results_clean_nl.json\")"
   ]
  },
  {
   "cell_type": "code",
   "execution_count": null,
   "metadata": {},
   "outputs": [],
   "source": [
    "with open('/Users/anesterov/reps/LODlit/Wikidata/wd_nl_subset.json', 'w') as jf:\n",
    "    json.dump(wd_nl_subset, jf)"
   ]
  },
  {
   "cell_type": "markdown",
   "metadata": {},
   "source": [
    "#### AAT EN"
   ]
  },
  {
   "cell_type": "code",
   "execution_count": null,
   "metadata": {},
   "outputs": [],
   "source": [
    "aat_en_subset = construct_subset('aat',\"/Users/anesterov/reps/LODlit/cs/top_10_by_lemma_rm_aat_en.csv\",\"/Users/anesterov/reps/LODlit/AAT/aat_query_results_en.json\")"
   ]
  },
  {
   "cell_type": "code",
   "execution_count": null,
   "metadata": {},
   "outputs": [],
   "source": [
    "with open('/Users/anesterov/reps/LODlit/AAT/aat_en_subset.json', 'w') as jf:\n",
    "    json.dump(aat_en_subset, jf)"
   ]
  },
  {
   "cell_type": "markdown",
   "metadata": {},
   "source": [
    "#### AAT NL"
   ]
  },
  {
   "cell_type": "code",
   "execution_count": null,
   "metadata": {},
   "outputs": [],
   "source": [
    "aat_nl_subset = construct_subset('aat',\"/Users/anesterov/reps/LODlit/cs/top_10_by_lemma_rm_aat_nl.csv\",\"/Users/anesterov/reps/LODlit/AAT/aat_query_results_nl.json\")"
   ]
  },
  {
   "cell_type": "code",
   "execution_count": null,
   "metadata": {},
   "outputs": [],
   "source": [
    "with open('/Users/anesterov/reps/LODlit/AAT/aat_nl_subset.json', 'w') as jf:\n",
    "    json.dump(aat_nl_subset, jf)"
   ]
  },
  {
   "cell_type": "markdown",
   "metadata": {},
   "source": [
    "#### PWN"
   ]
  },
  {
   "cell_type": "code",
   "execution_count": null,
   "metadata": {},
   "outputs": [],
   "source": [
    "pwn_subset = construct_subset('pwn',\"/Users/anesterov/reps/LODlit/cs/top_10_by_lemma_pwn.csv\",\"/Users/anesterov/reps/LODlit/PWN/pwn31_query_results.json\")"
   ]
  },
  {
   "cell_type": "code",
   "execution_count": null,
   "metadata": {},
   "outputs": [],
   "source": [
    "with open('/Users/anesterov/reps/LODlit/PWN/pwn_subset.json', 'w') as jf:\n",
    "    json.dump(pwn_subset, jf)"
   ]
  },
  {
   "cell_type": "markdown",
   "metadata": {},
   "source": [
    "#### ODWN"
   ]
  },
  {
   "cell_type": "code",
   "execution_count": null,
   "metadata": {},
   "outputs": [],
   "source": [
    "odwn_subset = construct_subset('odwn',\"/Users/anesterov/reps/LODlit/cs/top_10_by_lemma_odwn.csv\",\"/Users/anesterov/reps/LODlit/ODWN/odwn_query_results.json\")"
   ]
  },
  {
   "cell_type": "code",
   "execution_count": null,
   "metadata": {},
   "outputs": [],
   "source": [
    "with open('/Users/anesterov/reps/LODlit/ODWN/odwn_subset.json', 'w') as jf:\n",
    "    json.dump(odwn_subset, jf)"
   ]
  },
  {
   "cell_type": "code",
   "execution_count": 1,
   "metadata": {},
   "outputs": [],
   "source": [
    "#### Stats"
   ]
  },
  {
   "cell_type": "code",
   "execution_count": 3,
   "metadata": {},
   "outputs": [],
   "source": [
    "with open(\"/Users/anesterov/reps/LODlit/Wikidata/wd_en_subset.json\",'r') as jf:\n",
    "    wd_en_subset = json.load(jf)"
   ]
  },
  {
   "cell_type": "code",
   "execution_count": 15,
   "metadata": {},
   "outputs": [],
   "source": [
    "with open(\"/Users/anesterov/reps/LODlit/Wikidata/wd_nl_subset.json\",'r') as jf:\n",
    "    wd_nl_subset = json.load(jf)"
   ]
  },
  {
   "cell_type": "code",
   "execution_count": 19,
   "metadata": {},
   "outputs": [],
   "source": [
    "with open(\"/Users/anesterov/reps/LODlit/AAT/aat_en_subset.json\",'r') as jf:\n",
    "    aat_en_subset = json.load(jf)"
   ]
  },
  {
   "cell_type": "code",
   "execution_count": 25,
   "metadata": {},
   "outputs": [],
   "source": [
    "with open(\"/Users/anesterov/reps/LODlit/AAT/aat_nl_subset.json\",'r') as jf:\n",
    "    aat_nl_subset = json.load(jf)"
   ]
  },
  {
   "cell_type": "code",
   "execution_count": 13,
   "metadata": {},
   "outputs": [],
   "source": [
    "entities_en = []\n",
    "for hits in wd_en_subset.values():\n",
    "    entities_en.extend([hit['QID'] for hit in hits if hit['found_in'] == 'aliases'])"
   ]
  },
  {
   "cell_type": "code",
   "execution_count": 14,
   "metadata": {},
   "outputs": [
    {
     "data": {
      "text/plain": [
       "187"
      ]
     },
     "execution_count": 14,
     "metadata": {},
     "output_type": "execute_result"
    }
   ],
   "source": [
    "len(set(entities_en))"
   ]
  },
  {
   "cell_type": "code",
   "execution_count": 16,
   "metadata": {},
   "outputs": [],
   "source": [
    "entities_nl = []\n",
    "for hits in wd_nl_subset.values():\n",
    "    entities_nl.extend([hit['QID'] for hit in hits if hit['found_in'] == 'aliases'])"
   ]
  },
  {
   "cell_type": "code",
   "execution_count": 18,
   "metadata": {},
   "outputs": [
    {
     "data": {
      "text/plain": [
       "106"
      ]
     },
     "execution_count": 18,
     "metadata": {},
     "output_type": "execute_result"
    }
   ],
   "source": [
    "len(set(entities_nl))"
   ]
  },
  {
   "cell_type": "code",
   "execution_count": 28,
   "metadata": {},
   "outputs": [],
   "source": [
    "aat_entities_en = []\n",
    "for hits in aat_en_subset.values():\n",
    "    aat_entities_en.extend([hit['aat_uri'] for hit in hits if hit['found_in'] == 'altLabel'])\n",
    "   # prefLabels.extend([hit[\"prefLabel\"] for hit in hits if hit['found_in'] == 'prefLabel'])"
   ]
  },
  {
   "cell_type": "code",
   "execution_count": 29,
   "metadata": {},
   "outputs": [
    {
     "data": {
      "text/plain": [
       "90"
      ]
     },
     "execution_count": 29,
     "metadata": {},
     "output_type": "execute_result"
    }
   ],
   "source": [
    "len(set(aat_entities_en))"
   ]
  },
  {
   "cell_type": "code",
   "execution_count": 30,
   "metadata": {},
   "outputs": [],
   "source": [
    "aat_entities_nl = []\n",
    "for hits in aat_nl_subset.values():\n",
    "    aat_entities_nl.extend([hit['aat_uri'] for hit in hits if hit['found_in'] == 'altLabel'])"
   ]
  },
  {
   "cell_type": "code",
   "execution_count": 31,
   "metadata": {},
   "outputs": [
    {
     "data": {
      "text/plain": [
       "14"
      ]
     },
     "execution_count": 31,
     "metadata": {},
     "output_type": "execute_result"
    }
   ],
   "source": [
    "len(set(aat_entities_nl))"
   ]
  },
  {
   "cell_type": "code",
   "execution_count": null,
   "metadata": {},
   "outputs": [],
   "source": []
  }
 ],
 "metadata": {
  "kernelspec": {
   "display_name": "Python 3",
   "language": "python",
   "name": "python3"
  },
  "language_info": {
   "codemirror_mode": {
    "name": "ipython",
    "version": 3
   },
   "file_extension": ".py",
   "mimetype": "text/x-python",
   "name": "python",
   "nbconvert_exporter": "python",
   "pygments_lexer": "ipython3",
   "version": "3.8.5"
  }
 },
 "nbformat": 4,
 "nbformat_minor": 4
}
