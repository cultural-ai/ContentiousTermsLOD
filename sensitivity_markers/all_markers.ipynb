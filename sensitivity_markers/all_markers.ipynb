{
 "cells": [
  {
   "cell_type": "code",
   "execution_count": 2,
   "metadata": {},
   "outputs": [],
   "source": [
    "import csv\n",
    "import pandas as pd\n",
    "import json"
   ]
  },
  {
   "cell_type": "code",
   "execution_count": 147,
   "metadata": {},
   "outputs": [],
   "source": [
    "import regex as re"
   ]
  },
  {
   "cell_type": "code",
   "execution_count": 47,
   "metadata": {},
   "outputs": [],
   "source": [
    "all_markers = pd.read_csv(\"/Users/anesterov/reps/LODlit/RQ2/sensitivity_markers.csv\")"
   ]
  },
  {
   "cell_type": "code",
   "execution_count": 221,
   "metadata": {},
   "outputs": [
    {
     "name": "stderr",
     "output_type": "stream",
     "text": [
      "<ipython-input-221-6728d5d4aa7a>:1: UserWarning: Boolean Series key will be reindexed to match DataFrame index.\n",
      "  wd_en = all_markers[all_markers[\"lang\"] == \"en\"][all_markers[\"resource\"] == \"wikidata\"]\n"
     ]
    }
   ],
   "source": [
    "wd_en = all_markers[all_markers[\"lang\"] == \"en\"][all_markers[\"resource\"] == \"wikidata\"]"
   ]
  },
  {
   "cell_type": "code",
   "execution_count": 49,
   "metadata": {},
   "outputs": [
    {
     "name": "stderr",
     "output_type": "stream",
     "text": [
      "<ipython-input-49-7e244f55bb60>:1: UserWarning: Boolean Series key will be reindexed to match DataFrame index.\n",
      "  wd_nl = all_markers[all_markers[\"lang\"] == \"nl\"][all_markers[\"resource\"] == \"wikidata\"]\n"
     ]
    }
   ],
   "source": [
    "wd_nl = all_markers[all_markers[\"lang\"] == \"nl\"][all_markers[\"resource\"] == \"wikidata\"]"
   ]
  },
  {
   "cell_type": "code",
   "execution_count": 205,
   "metadata": {},
   "outputs": [
    {
     "name": "stderr",
     "output_type": "stream",
     "text": [
      "<ipython-input-205-1fca84d39f40>:1: UserWarning: Boolean Series key will be reindexed to match DataFrame index.\n",
      "  aat_en = all_markers[all_markers[\"lang\"] == \"en\"][all_markers[\"resource\"] == \"aat\"]\n"
     ]
    }
   ],
   "source": [
    "aat_en = all_markers[all_markers[\"lang\"] == \"en\"][all_markers[\"resource\"] == \"aat\"]"
   ]
  },
  {
   "cell_type": "code",
   "execution_count": 209,
   "metadata": {},
   "outputs": [
    {
     "name": "stderr",
     "output_type": "stream",
     "text": [
      "<ipython-input-209-07646a744ddd>:1: UserWarning: Boolean Series key will be reindexed to match DataFrame index.\n",
      "  aat_nl = all_markers[all_markers[\"lang\"] == \"nl\"][all_markers[\"resource\"] == \"aat\"]\n"
     ]
    }
   ],
   "source": [
    "aat_nl = all_markers[all_markers[\"lang\"] == \"nl\"][all_markers[\"resource\"] == \"aat\"]"
   ]
  },
  {
   "cell_type": "code",
   "execution_count": 214,
   "metadata": {},
   "outputs": [],
   "source": [
    "pwn = all_markers[all_markers[\"resource\"] == \"pwn\"]"
   ]
  },
  {
   "cell_type": "code",
   "execution_count": 227,
   "metadata": {},
   "outputs": [],
   "source": [
    "odwn = all_markers[all_markers[\"resource\"] == \"odwn\"]"
   ]
  },
  {
   "cell_type": "code",
   "execution_count": 228,
   "metadata": {},
   "outputs": [
    {
     "data": {
      "text/html": [
       "<div>\n",
       "<style scoped>\n",
       "    .dataframe tbody tr th:only-of-type {\n",
       "        vertical-align: middle;\n",
       "    }\n",
       "\n",
       "    .dataframe tbody tr th {\n",
       "        vertical-align: top;\n",
       "    }\n",
       "\n",
       "    .dataframe thead th {\n",
       "        text-align: right;\n",
       "    }\n",
       "</style>\n",
       "<table border=\"1\" class=\"dataframe\">\n",
       "  <thead>\n",
       "    <tr style=\"text-align: right;\">\n",
       "      <th></th>\n",
       "      <th>lemma</th>\n",
       "      <th>lang</th>\n",
       "      <th>resource</th>\n",
       "      <th>entity_id</th>\n",
       "      <th>link</th>\n",
       "      <th>implicit_value</th>\n",
       "      <th>implicit_property</th>\n",
       "      <th>explicit_value</th>\n",
       "      <th>explicit_property</th>\n",
       "      <th>notes</th>\n",
       "    </tr>\n",
       "  </thead>\n",
       "  <tbody>\n",
       "    <tr>\n",
       "      <th>220</th>\n",
       "      <td>homoseksualiteit</td>\n",
       "      <td>nl</td>\n",
       "      <td>odwn</td>\n",
       "      <td>eng-30-00856847-n</td>\n",
       "      <td>NaN</td>\n",
       "      <td>None</td>\n",
       "      <td>None</td>\n",
       "      <td>pejorative</td>\n",
       "      <td>Pragmatics connotation</td>\n",
       "      <td>for the lemma \"sodomie-n-1\"</td>\n",
       "    </tr>\n",
       "    <tr>\n",
       "      <th>221</th>\n",
       "      <td>homoseksualiteit</td>\n",
       "      <td>nl</td>\n",
       "      <td>odwn</td>\n",
       "      <td>eng-30-00858060-n</td>\n",
       "      <td>NaN</td>\n",
       "      <td>None</td>\n",
       "      <td>None</td>\n",
       "      <td>None</td>\n",
       "      <td>None</td>\n",
       "      <td>NaN</td>\n",
       "    </tr>\n",
       "    <tr>\n",
       "      <th>222</th>\n",
       "      <td>ontdekken</td>\n",
       "      <td>nl</td>\n",
       "      <td>odwn</td>\n",
       "      <td>eng-30-02154508-v</td>\n",
       "      <td>NaN</td>\n",
       "      <td>None</td>\n",
       "      <td>None</td>\n",
       "      <td>None</td>\n",
       "      <td>None</td>\n",
       "      <td>NaN</td>\n",
       "    </tr>\n",
       "    <tr>\n",
       "      <th>223</th>\n",
       "      <td>etniciteit</td>\n",
       "      <td>nl</td>\n",
       "      <td>odwn</td>\n",
       "      <td>eng-30-04799133-n</td>\n",
       "      <td>NaN</td>\n",
       "      <td>None</td>\n",
       "      <td>None</td>\n",
       "      <td>None</td>\n",
       "      <td>None</td>\n",
       "      <td>NaN</td>\n",
       "    </tr>\n",
       "    <tr>\n",
       "      <th>224</th>\n",
       "      <td>afkomst</td>\n",
       "      <td>nl</td>\n",
       "      <td>odwn</td>\n",
       "      <td>eng-30-04923743-n</td>\n",
       "      <td>NaN</td>\n",
       "      <td>None</td>\n",
       "      <td>None</td>\n",
       "      <td>None</td>\n",
       "      <td>None</td>\n",
       "      <td>NaN</td>\n",
       "    </tr>\n",
       "    <tr>\n",
       "      <th>...</th>\n",
       "      <td>...</td>\n",
       "      <td>...</td>\n",
       "      <td>...</td>\n",
       "      <td>...</td>\n",
       "      <td>...</td>\n",
       "      <td>...</td>\n",
       "      <td>...</td>\n",
       "      <td>...</td>\n",
       "      <td>...</td>\n",
       "      <td>...</td>\n",
       "    </tr>\n",
       "    <tr>\n",
       "      <th>280</th>\n",
       "      <td>achterlijk</td>\n",
       "      <td>nl</td>\n",
       "      <td>odwn</td>\n",
       "      <td>r_n-2619</td>\n",
       "      <td>NaN</td>\n",
       "      <td>None</td>\n",
       "      <td>None</td>\n",
       "      <td>None</td>\n",
       "      <td>None</td>\n",
       "      <td>sense ids are checked in the raw file</td>\n",
       "    </tr>\n",
       "    <tr>\n",
       "      <th>281</th>\n",
       "      <td>page</td>\n",
       "      <td>nl</td>\n",
       "      <td>odwn</td>\n",
       "      <td>r_n-27354</td>\n",
       "      <td>NaN</td>\n",
       "      <td>None</td>\n",
       "      <td>None</td>\n",
       "      <td>None</td>\n",
       "      <td>None</td>\n",
       "      <td>sense ids are checked in the raw file</td>\n",
       "    </tr>\n",
       "    <tr>\n",
       "      <th>282</th>\n",
       "      <td>trans</td>\n",
       "      <td>nl</td>\n",
       "      <td>odwn</td>\n",
       "      <td>r_n-38275</td>\n",
       "      <td>NaN</td>\n",
       "      <td>None</td>\n",
       "      <td>None</td>\n",
       "      <td>None</td>\n",
       "      <td>None</td>\n",
       "      <td>sense ids are checked in the raw file</td>\n",
       "    </tr>\n",
       "    <tr>\n",
       "      <th>283</th>\n",
       "      <td>zwart</td>\n",
       "      <td>nl</td>\n",
       "      <td>odwn</td>\n",
       "      <td>r_n-44553</td>\n",
       "      <td>NaN</td>\n",
       "      <td>None</td>\n",
       "      <td>None</td>\n",
       "      <td>None</td>\n",
       "      <td>None</td>\n",
       "      <td>sense ids are checked in the raw file</td>\n",
       "    </tr>\n",
       "    <tr>\n",
       "      <th>284</th>\n",
       "      <td>birma</td>\n",
       "      <td>nl</td>\n",
       "      <td>odwn</td>\n",
       "      <td>r_n-7429</td>\n",
       "      <td>NaN</td>\n",
       "      <td>None</td>\n",
       "      <td>None</td>\n",
       "      <td>None</td>\n",
       "      <td>None</td>\n",
       "      <td>sense ids are checked in the raw file</td>\n",
       "    </tr>\n",
       "  </tbody>\n",
       "</table>\n",
       "<p>65 rows × 10 columns</p>\n",
       "</div>"
      ],
      "text/plain": [
       "                lemma lang resource          entity_id link implicit_value  \\\n",
       "220  homoseksualiteit   nl     odwn  eng-30-00856847-n  NaN           None   \n",
       "221  homoseksualiteit   nl     odwn  eng-30-00858060-n  NaN           None   \n",
       "222         ontdekken   nl     odwn  eng-30-02154508-v  NaN           None   \n",
       "223        etniciteit   nl     odwn  eng-30-04799133-n  NaN           None   \n",
       "224           afkomst   nl     odwn  eng-30-04923743-n  NaN           None   \n",
       "..                ...  ...      ...                ...  ...            ...   \n",
       "280        achterlijk   nl     odwn           r_n-2619  NaN           None   \n",
       "281              page   nl     odwn          r_n-27354  NaN           None   \n",
       "282             trans   nl     odwn          r_n-38275  NaN           None   \n",
       "283             zwart   nl     odwn          r_n-44553  NaN           None   \n",
       "284             birma   nl     odwn           r_n-7429  NaN           None   \n",
       "\n",
       "    implicit_property explicit_value       explicit_property  \\\n",
       "220              None     pejorative  Pragmatics connotation   \n",
       "221              None           None                    None   \n",
       "222              None           None                    None   \n",
       "223              None           None                    None   \n",
       "224              None           None                    None   \n",
       "..                ...            ...                     ...   \n",
       "280              None           None                    None   \n",
       "281              None           None                    None   \n",
       "282              None           None                    None   \n",
       "283              None           None                    None   \n",
       "284              None           None                    None   \n",
       "\n",
       "                                     notes  \n",
       "220            for the lemma \"sodomie-n-1\"  \n",
       "221                                    NaN  \n",
       "222                                    NaN  \n",
       "223                                    NaN  \n",
       "224                                    NaN  \n",
       "..                                     ...  \n",
       "280  sense ids are checked in the raw file  \n",
       "281  sense ids are checked in the raw file  \n",
       "282  sense ids are checked in the raw file  \n",
       "283  sense ids are checked in the raw file  \n",
       "284  sense ids are checked in the raw file  \n",
       "\n",
       "[65 rows x 10 columns]"
      ]
     },
     "execution_count": 228,
     "metadata": {},
     "output_type": "execute_result"
    }
   ],
   "source": [
    "odwn"
   ]
  },
  {
   "cell_type": "code",
   "execution_count": 229,
   "metadata": {},
   "outputs": [
    {
     "name": "stdout",
     "output_type": "stream",
     "text": [
      "Pragmatics connotation\n",
      "Pragmatics chronology, connotation\n",
      "Pragmatics chronology, connotation\n",
      "Pragmatics chronology, connotation\n",
      "Pragmatics chronology, connotation\n",
      "Pragmatics connotation\n",
      "Pragmatics connotation\n",
      "Pragmatics connotation\n",
      "Pragmatics connotation\n",
      "Pragmatics connotation, Pragmatics connotation\n",
      "Pragmatics connotation, Pragmatics connotation, Pragmatics chronology\n",
      "Pragmatics connotation\n",
      "Pragmatics connotation\n",
      "Pragmatics chronology\n",
      "Pragmatics connotation\n"
     ]
    }
   ],
   "source": [
    "k = 0\n",
    "for i in odwn[\"explicit_property\"]:\n",
    "    if i != \"None\":\n",
    "        k += 1\n",
    "        print(i)"
   ]
  },
  {
   "cell_type": "code",
   "execution_count": 212,
   "metadata": {},
   "outputs": [
    {
     "name": "stdout",
     "output_type": "stream",
     "text": [
      "2\n"
     ]
    }
   ],
   "source": [
    "print(k)"
   ]
  },
  {
   "cell_type": "code",
   "execution_count": 230,
   "metadata": {},
   "outputs": [
    {
     "name": "stdout",
     "output_type": "stream",
     "text": [
      "pejorative\n",
      "oldfashioned, offensive\n",
      "oldfashioned, offensive\n",
      "oldfashioned, offensive\n",
      "oldfashioned, pejorative\n",
      "pejorative\n",
      "pejorative\n",
      "pejorative\n",
      "pejorative\n",
      "offensive, pejorative\n",
      "offensive, pejorative, oldfashioned\n",
      "offensive\n",
      "offensive\n",
      "oldfashioned\n",
      "offensive\n"
     ]
    }
   ],
   "source": [
    "for i in odwn[\"explicit_value\"]:\n",
    "    if i != \"None\":\n",
    "        print(i)"
   ]
  },
  {
   "cell_type": "code",
   "execution_count": 60,
   "metadata": {},
   "outputs": [],
   "source": [
    "from thefuzz import process"
   ]
  },
  {
   "cell_type": "code",
   "execution_count": 80,
   "metadata": {},
   "outputs": [
    {
     "data": {
      "text/plain": [
       "('stereotypes', 49)"
      ]
     },
     "execution_count": 80,
     "metadata": {},
     "output_type": "execute_result"
    }
   ],
   "source": [
    "process.extractOne(\"A humorous novel  (though with some racial stereotyping) of a negro servant and his master, a planter.\", [\"stereotypes\"]) "
   ]
  },
  {
   "cell_type": "code",
   "execution_count": 93,
   "metadata": {},
   "outputs": [],
   "source": [
    "target_str = \"A humorous novel  (though with some racial stereotyping) of a negro servant and his master, a planter.\""
   ]
  },
  {
   "cell_type": "code",
   "execution_count": 94,
   "metadata": {},
   "outputs": [],
   "source": [
    "target_str_split = target_str.split(\" \")"
   ]
  },
  {
   "cell_type": "code",
   "execution_count": 95,
   "metadata": {},
   "outputs": [
    {
     "data": {
      "text/plain": [
       "['A',\n",
       " 'humorous',\n",
       " 'novel',\n",
       " '',\n",
       " '(though',\n",
       " 'with',\n",
       " 'some',\n",
       " 'racial',\n",
       " 'stereotyping)',\n",
       " 'of',\n",
       " 'a',\n",
       " 'negro',\n",
       " 'servant',\n",
       " 'and',\n",
       " 'his',\n",
       " 'master,',\n",
       " 'a',\n",
       " 'planter.']"
      ]
     },
     "execution_count": 95,
     "metadata": {},
     "output_type": "execute_result"
    }
   ],
   "source": [
    "target_str_split"
   ]
  },
  {
   "cell_type": "code",
   "execution_count": 97,
   "metadata": {},
   "outputs": [
    {
     "data": {
      "text/plain": [
       "('his', 90)"
      ]
     },
     "execution_count": 97,
     "metadata": {},
     "output_type": "execute_result"
    }
   ],
   "source": [
    "process.extractOne(\"historical word for\",target_str_split)"
   ]
  },
  {
   "cell_type": "code",
   "execution_count": 98,
   "metadata": {},
   "outputs": [],
   "source": [
    "# import all results\n",
    "with open(\"/Users/anesterov/LODlit_local/wd/jan31/results_clean_en.json\") as jf:\n",
    "    wd_en = json.load(jf)"
   ]
  },
  {
   "cell_type": "code",
   "execution_count": 179,
   "metadata": {},
   "outputs": [],
   "source": [
    "# import all results NL\n",
    "with open(\"/Users/anesterov/LODlit_local/wd/jan31/results_clean_nl.json\") as jf:\n",
    "    wd_nl = json.load(jf)"
   ]
  },
  {
   "cell_type": "code",
   "execution_count": 203,
   "metadata": {},
   "outputs": [],
   "source": [
    "search_term = \"racistisch\\\\w*\""
   ]
  },
  {
   "cell_type": "code",
   "execution_count": 204,
   "metadata": {
    "scrolled": true
   },
   "outputs": [
    {
     "name": "stdout",
     "output_type": "stream",
     "text": [
      "['racistische ideologie']\n",
      "[\"betreft de discussie of het gebruik van de term 'blank' racistisch is\"]\n",
      "betreft de discussie of het gebruik van de term 'blank' racistisch is\n"
     ]
    }
   ],
   "source": [
    "k = 0\n",
    "for term, hits in wd_nl.items():\n",
    "    for hit in hits:\n",
    "        if hit[\"description\"]:\n",
    "            \n",
    "            if type(hit[\"description\"]) == str and re.search(f\"\\\\b{search_term}\\\\b\",hit[\"description\"]):\n",
    "                k += 1\n",
    "                print(hit[\"description\"])\n",
    "            \n",
    "            if type(hit[\"description\"]) == list:\n",
    "                for d in hit[\"description\"]:\n",
    "                    if re.search(f\"\\\\b{search_term}\\\\b\",d):\n",
    "                        k += 1\n",
    "                        print(hit[\"description\"])"
   ]
  },
  {
   "cell_type": "code",
   "execution_count": 182,
   "metadata": {},
   "outputs": [
    {
     "data": {
      "text/plain": [
       "23"
      ]
     },
     "execution_count": 182,
     "metadata": {},
     "output_type": "execute_result"
    }
   ],
   "source": [
    "k"
   ]
  },
  {
   "cell_type": "code",
   "execution_count": 122,
   "metadata": {},
   "outputs": [],
   "source": [
    "list_of_types = []\n",
    "for term, hits in wd_en.items():\n",
    "    for hit in hits:\n",
    "        list_of_types.append(type(hit[\"description\"]))"
   ]
  },
  {
   "cell_type": "code",
   "execution_count": 123,
   "metadata": {},
   "outputs": [],
   "source": [
    "from collections import Counter"
   ]
  },
  {
   "cell_type": "code",
   "execution_count": 124,
   "metadata": {},
   "outputs": [
    {
     "data": {
      "text/plain": [
       "Counter({list: 91768, str: 87058, NoneType: 10619})"
      ]
     },
     "execution_count": 124,
     "metadata": {},
     "output_type": "execute_result"
    }
   ],
   "source": [
    "Counter(list_of_types)"
   ]
  },
  {
   "cell_type": "code",
   "execution_count": 153,
   "metadata": {},
   "outputs": [
    {
     "data": {
      "text/plain": [
       "<regex.Match object; span=(2, 12), match='racialized'>"
      ]
     },
     "execution_count": 153,
     "metadata": {},
     "output_type": "execute_result"
    }
   ],
   "source": [
    "re.search(f\"\\\\b{search_term}\\\\b\",\"a racialized classification\")"
   ]
  },
  {
   "cell_type": "code",
   "execution_count": null,
   "metadata": {},
   "outputs": [],
   "source": []
  }
 ],
 "metadata": {
  "kernelspec": {
   "display_name": "Python 3",
   "language": "python",
   "name": "python3"
  },
  "language_info": {
   "codemirror_mode": {
    "name": "ipython",
    "version": 3
   },
   "file_extension": ".py",
   "mimetype": "text/x-python",
   "name": "python",
   "nbconvert_exporter": "python",
   "pygments_lexer": "ipython3",
   "version": "3.8.5"
  }
 },
 "nbformat": 4,
 "nbformat_minor": 4
}
