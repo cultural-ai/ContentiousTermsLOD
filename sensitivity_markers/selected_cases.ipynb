{
 "cells": [
  {
   "cell_type": "code",
   "execution_count": null,
   "metadata": {},
   "outputs": [],
   "source": [
    "import json\n",
    "import pandas as pd\n",
    "import csv"
   ]
  },
  {
   "cell_type": "code",
   "execution_count": null,
   "metadata": {},
   "outputs": [],
   "source": [
    "# import implicit markers\n",
    "implicit_markers = pd.read_csv(\"/Users/anesterov/reps/LODlit/sensitivity_markers/implicit/implicit_all.csv\")"
   ]
  },
  {
   "cell_type": "code",
   "execution_count": null,
   "metadata": {},
   "outputs": [],
   "source": [
    "# import explicit markers\n",
    "explicit_markers = pd.read_csv(\"/Users/anesterov/reps/LODlit/sensitivity_markers/explicit/explicit_all.csv\")"
   ]
  },
  {
   "cell_type": "markdown",
   "metadata": {},
   "source": [
    "## Wikidata"
   ]
  },
  {
   "cell_type": "code",
   "execution_count": null,
   "metadata": {},
   "outputs": [],
   "source": [
    "lang = \"nl\""
   ]
  },
  {
   "cell_type": "code",
   "execution_count": null,
   "metadata": {},
   "outputs": [],
   "source": [
    "# import subset\n",
    "with open(f\"/Users/anesterov/reps/LODlit/Wikidata/wd_{lang}_subset.json\",'r') as jf:\n",
    "    wd_subset = json.load(jf)"
   ]
  },
  {
   "cell_type": "code",
   "execution_count": null,
   "metadata": {},
   "outputs": [],
   "source": [
    "# WD EN entities with implicit markers\n",
    "e_wd_implicit = implicit_markers[implicit_markers[\"resource\"] == \"wikidata\"][implicit_markers[\"lang\"] == lang][\"entity_id\"].to_list()\n",
    "# WD EN entities with explicit markers\n",
    "e_wd_explicit = explicit_markers[explicit_markers[\"resource\"] == \"wikidata\"][explicit_markers[\"lang\"] == lang][\"entity_id\"].to_list()"
   ]
  },
  {
   "cell_type": "markdown",
   "metadata": {},
   "source": [
    "#### Case 1"
   ]
  },
  {
   "cell_type": "code",
   "execution_count": null,
   "metadata": {},
   "outputs": [],
   "source": [
    "# prefLabel no markers\n",
    "case_1 = []\n",
    "case_1_count = 0\n",
    "for term, hits in wd_subset.items():\n",
    "    for hit in hits:\n",
    "        if hit[\"found_in\"] == \"prefLabel\":\n",
    "            if hit[\"QID\"] not in e_wd_implicit and hit[\"QID\"] not in e_wd_explicit:\n",
    "                case_1_count += 1\n",
    "                case_1.append(hit[\"QID\"])\n",
    "                print(term, hit[\"QID\"], hit[\"prefLabel\"])"
   ]
  },
  {
   "cell_type": "code",
   "execution_count": null,
   "metadata": {},
   "outputs": [],
   "source": [
    "case_1_count"
   ]
  },
  {
   "cell_type": "code",
   "execution_count": null,
   "metadata": {},
   "outputs": [],
   "source": [
    "# export\n",
    "with open(f\"selected_cases/wd_{lang}_case1.txt\",'w') as txt_file:\n",
    "    for l in case_1:\n",
    "        txt_file.write(f\"{l}\\n\")"
   ]
  },
  {
   "cell_type": "code",
   "execution_count": null,
   "metadata": {},
   "outputs": [],
   "source": [
    "# prefLabel with markers\n",
    "case_1_markers = []\n",
    "case_1_markers_count = 0\n",
    "for term, hits in wd_subset.items():\n",
    "    for hit in hits:\n",
    "        if hit[\"found_in\"] == \"prefLabel\":\n",
    "            # either markers\n",
    "            if hit[\"QID\"] in e_wd_implicit or hit[\"QID\"] in e_wd_explicit:\n",
    "                case_1_markers_count += 1\n",
    "                case_1_markers.append(hit[\"QID\"])\n",
    "                print(term, hit[\"QID\"], hit[\"prefLabel\"])"
   ]
  },
  {
   "cell_type": "code",
   "execution_count": null,
   "metadata": {},
   "outputs": [],
   "source": [
    "case_1_markers_count"
   ]
  },
  {
   "cell_type": "code",
   "execution_count": null,
   "metadata": {},
   "outputs": [],
   "source": [
    "# export\n",
    "with open(f\"selected_cases/wd_{lang}_case1_with_markers.txt\",'w') as txt_file:\n",
    "    for l in case_1_markers:\n",
    "        txt_file.write(f\"{l}\\n\")"
   ]
  },
  {
   "cell_type": "markdown",
   "metadata": {},
   "source": [
    "#### Case 2"
   ]
  },
  {
   "cell_type": "code",
   "execution_count": null,
   "metadata": {},
   "outputs": [],
   "source": [
    "# altLabel no markers\n",
    "case_2 = []\n",
    "case_2_count = 0\n",
    "for term, hits in wd_subset.items():\n",
    "    for hit in hits:\n",
    "        if hit[\"found_in\"] == \"aliases\":\n",
    "            if hit[\"QID\"] not in e_wd_implicit and hit[\"QID\"] not in e_wd_explicit:\n",
    "                case_2_count += 1\n",
    "                case_2.append(hit[\"QID\"])\n",
    "                print(term, hit[\"QID\"], hit[\"aliases\"])"
   ]
  },
  {
   "cell_type": "code",
   "execution_count": null,
   "metadata": {
    "scrolled": true
   },
   "outputs": [],
   "source": [
    "case_2_count"
   ]
  },
  {
   "cell_type": "code",
   "execution_count": null,
   "metadata": {},
   "outputs": [],
   "source": [
    "# export\n",
    "with open(f\"selected_cases/wd_{lang}_case2.txt\",'w') as txt_file:\n",
    "    for l in case_2:\n",
    "        txt_file.write(f\"{l}\\n\")"
   ]
  },
  {
   "cell_type": "code",
   "execution_count": null,
   "metadata": {},
   "outputs": [],
   "source": [
    "# altLabel with markers\n",
    "case_2_markers = []\n",
    "case_2_markers_count = 0\n",
    "for term, hits in wd_subset.items():\n",
    "    for hit in hits:\n",
    "        if hit[\"found_in\"] == \"aliases\":\n",
    "            # either markers\n",
    "            if hit[\"QID\"] in e_wd_implicit or hit[\"QID\"] in e_wd_explicit:\n",
    "                case_2_markers_count += 1\n",
    "                case_2_markers.append(hit[\"QID\"])\n",
    "                print(term, hit[\"QID\"], hit[\"aliases\"])"
   ]
  },
  {
   "cell_type": "code",
   "execution_count": null,
   "metadata": {},
   "outputs": [],
   "source": [
    "case_2_markers_count"
   ]
  },
  {
   "cell_type": "code",
   "execution_count": null,
   "metadata": {},
   "outputs": [],
   "source": [
    "# export\n",
    "with open(f\"selected_cases/wd_{lang}_case2_with_markers.txt\",'w') as txt_file:\n",
    "    for l in case_2_markers:\n",
    "        txt_file.write(f\"{l}\\n\")"
   ]
  },
  {
   "cell_type": "markdown",
   "metadata": {},
   "source": [
    "#### Case 3"
   ]
  },
  {
   "cell_type": "code",
   "execution_count": null,
   "metadata": {},
   "outputs": [],
   "source": [
    "case_3 = []\n",
    "case_3_count = 0\n",
    "for term, hits in wd_subset.items():\n",
    "    for hit in hits:\n",
    "        if hit[\"found_in\"] == \"description\":\n",
    "            case_3_count += 1\n",
    "            case_3.append(hit[\"QID\"])\n",
    "            print(term, hit[\"QID\"], hit[\"description\"])"
   ]
  },
  {
   "cell_type": "code",
   "execution_count": null,
   "metadata": {},
   "outputs": [],
   "source": [
    "case_3_count"
   ]
  },
  {
   "cell_type": "code",
   "execution_count": null,
   "metadata": {},
   "outputs": [],
   "source": [
    "# export\n",
    "with open(f\"selected_cases/wd_{lang}_case3.txt\",'w') as txt_file:\n",
    "    for l in case_3:\n",
    "        txt_file.write(f\"{l}\\n\")"
   ]
  },
  {
   "cell_type": "markdown",
   "metadata": {},
   "source": [
    "## AAT"
   ]
  },
  {
   "cell_type": "code",
   "execution_count": null,
   "metadata": {},
   "outputs": [],
   "source": [
    "lang = \"nl\""
   ]
  },
  {
   "cell_type": "code",
   "execution_count": null,
   "metadata": {},
   "outputs": [],
   "source": [
    "# import subset\n",
    "with open(f\"/Users/anesterov/reps/LODlit/AAT/aat_{lang}_subset.json\",'r') as jf:\n",
    "    aat_subset = json.load(jf)"
   ]
  },
  {
   "cell_type": "code",
   "execution_count": null,
   "metadata": {},
   "outputs": [],
   "source": [
    "# AAT EN entities with implicit markers\n",
    "e_aat_implicit = implicit_markers[implicit_markers[\"resource\"] == \"aat\"][implicit_markers[\"lang\"] == lang][\"entity_id\"].to_list()\n",
    "\n",
    "# AAT EN entities with explicit markers\n",
    "e_aat_explicit = explicit_markers[explicit_markers[\"resource\"] == \"aat\"][explicit_markers[\"lang\"] == lang][\"entity_id\"].to_list()"
   ]
  },
  {
   "cell_type": "markdown",
   "metadata": {},
   "source": [
    "#### Case 1"
   ]
  },
  {
   "cell_type": "code",
   "execution_count": null,
   "metadata": {
    "scrolled": true
   },
   "outputs": [],
   "source": [
    "# prefLabel no markers\n",
    "case_1 = []\n",
    "case_1_count = 0\n",
    "for term, hits in aat_subset.items():\n",
    "    for hit in hits:\n",
    "        if hit[\"found_in\"] == \"prefLabel\":\n",
    "            if hit[\"aat_uri\"] not in e_aat_implicit and hit[\"aat_uri\"] not in e_aat_explicit:\n",
    "                case_1_count += 1\n",
    "                case_1.append(hit[\"aat_uri\"])\n",
    "                print(term, hit[\"aat_uri\"], hit[\"prefLabel\"])"
   ]
  },
  {
   "cell_type": "code",
   "execution_count": null,
   "metadata": {},
   "outputs": [],
   "source": [
    "case_1_count"
   ]
  },
  {
   "cell_type": "code",
   "execution_count": null,
   "metadata": {},
   "outputs": [],
   "source": [
    "# export\n",
    "with open(f\"selected_cases/aat_{lang}_case1.txt\",'w') as txt_file:\n",
    "    for l in case_1:\n",
    "        txt_file.write(f\"{l}\\n\")"
   ]
  },
  {
   "cell_type": "code",
   "execution_count": null,
   "metadata": {},
   "outputs": [],
   "source": [
    "# prefLabel with markers\n",
    "case_1_markers = []\n",
    "case_1_markers_count = 0\n",
    "for term, hits in aat_subset.items():\n",
    "    for hit in hits:\n",
    "        if hit[\"found_in\"] == \"prefLabel\":\n",
    "            # either markers\n",
    "            if hit[\"aat_uri\"] in e_aat_implicit or hit[\"aat_uri\"] in e_aat_explicit:\n",
    "                case_1_markers_count += 1\n",
    "                case_1_markers.append(hit[\"aat_uri\"])\n",
    "                print(term, hit[\"aat_uri\"], hit[\"prefLabel\"])"
   ]
  },
  {
   "cell_type": "code",
   "execution_count": null,
   "metadata": {},
   "outputs": [],
   "source": [
    "case_1_markers_count"
   ]
  },
  {
   "cell_type": "code",
   "execution_count": null,
   "metadata": {},
   "outputs": [],
   "source": [
    "# export\n",
    "with open(f\"selected_cases/aat_{lang}_case1_with_markers.txt\",'w') as txt_file:\n",
    "    for l in case_1_markers:\n",
    "        txt_file.write(f\"{l}\\n\")"
   ]
  },
  {
   "cell_type": "markdown",
   "metadata": {},
   "source": [
    "#### Case 2"
   ]
  },
  {
   "cell_type": "code",
   "execution_count": null,
   "metadata": {},
   "outputs": [],
   "source": [
    "# altLabels no markers\n",
    "case_2 = []\n",
    "case_2_count = 0\n",
    "for term, hits in aat_subset.items():\n",
    "    for hit in hits:\n",
    "        if hit[\"found_in\"] == \"altLabel\":\n",
    "            if hit[\"aat_uri\"] not in e_aat_implicit and hit[\"aat_uri\"] not in e_aat_explicit:\n",
    "                case_2_count += 1\n",
    "                case_2.append(hit[\"aat_uri\"])\n",
    "                print(term, hit[\"aat_uri\"], hit[\"altLabel\"])"
   ]
  },
  {
   "cell_type": "code",
   "execution_count": null,
   "metadata": {},
   "outputs": [],
   "source": [
    "case_2_count"
   ]
  },
  {
   "cell_type": "code",
   "execution_count": null,
   "metadata": {},
   "outputs": [],
   "source": [
    "# export\n",
    "with open(f\"selected_cases/aat_{lang}_case2.txt\",'w') as txt_file:\n",
    "    for l in case_2:\n",
    "        txt_file.write(f\"{l}\\n\")"
   ]
  },
  {
   "cell_type": "code",
   "execution_count": null,
   "metadata": {},
   "outputs": [],
   "source": [
    "# altLabels with markers\n",
    "case_2_markers = []\n",
    "case_2_markers_count = 0\n",
    "for term, hits in aat_subset.items():\n",
    "    for hit in hits:\n",
    "        if hit[\"found_in\"] == \"altLabel\":\n",
    "            # either markers\n",
    "            if hit[\"aat_uri\"] in e_aat_implicit or hit[\"aat_uri\"] in e_aat_explicit:\n",
    "                case_2_markers_count += 1\n",
    "                case_2_markers.append(hit[\"aat_uri\"])\n",
    "                print(term, hit[\"aat_uri\"], hit[\"altLabel\"])"
   ]
  },
  {
   "cell_type": "code",
   "execution_count": null,
   "metadata": {
    "scrolled": true
   },
   "outputs": [],
   "source": [
    "case_2_markers_count"
   ]
  },
  {
   "cell_type": "code",
   "execution_count": null,
   "metadata": {},
   "outputs": [],
   "source": [
    "# export\n",
    "with open(f\"selected_cases/aat_{lang}_case2_with_markers.txt\",'w') as txt_file:\n",
    "    for l in case_2_markers:\n",
    "        txt_file.write(f\"{l}\\n\")"
   ]
  },
  {
   "cell_type": "markdown",
   "metadata": {},
   "source": [
    "#### Case 3"
   ]
  },
  {
   "cell_type": "code",
   "execution_count": null,
   "metadata": {},
   "outputs": [],
   "source": [
    "case_3 = []\n",
    "case_3_count = 0\n",
    "for term, hits in aat_subset.items():\n",
    "    for hit in hits:\n",
    "        if hit[\"found_in\"] == \"scopeNote\":\n",
    "            case_3_count += 1\n",
    "            case_3.append(hit[\"aat_uri\"])\n",
    "            print(term, hit[\"aat_uri\"], hit[\"scopeNote\"])"
   ]
  },
  {
   "cell_type": "code",
   "execution_count": null,
   "metadata": {},
   "outputs": [],
   "source": [
    "case_3_count"
   ]
  },
  {
   "cell_type": "code",
   "execution_count": null,
   "metadata": {},
   "outputs": [],
   "source": [
    "# export\n",
    "with open(f\"selected_cases/aat_{lang}_case3.txt\",'w') as txt_file:\n",
    "    for l in case_3:\n",
    "        txt_file.write(f\"{l}\\n\")"
   ]
  },
  {
   "cell_type": "markdown",
   "metadata": {},
   "source": [
    "## PWN"
   ]
  },
  {
   "cell_type": "code",
   "execution_count": null,
   "metadata": {},
   "outputs": [],
   "source": [
    "# import subset\n",
    "with open(\"/Users/anesterov/reps/LODlit/PWN/pwn_subset.json\",'r') as jf:\n",
    "    pwn_subset = json.load(jf)"
   ]
  },
  {
   "cell_type": "code",
   "execution_count": null,
   "metadata": {},
   "outputs": [],
   "source": [
    "# AAT EN entities with implicit markers\n",
    "pwn_implicit = implicit_markers[implicit_markers[\"resource\"] == \"pwn\"][\"entity_id\"].to_list()\n",
    "\n",
    "# AAT EN entities with explicit markers\n",
    "pwn_explicit = explicit_markers[explicit_markers[\"resource\"] == \"aat\"][\"entity_id\"].to_list()"
   ]
  },
  {
   "cell_type": "markdown",
   "metadata": {},
   "source": [
    "#### Case 4"
   ]
  },
  {
   "cell_type": "code",
   "execution_count": null,
   "metadata": {},
   "outputs": [],
   "source": [
    "# definitions and examples\n",
    "case_4 = []\n",
    "case_4_count = 0\n",
    "for term, hits in pwn_subset.items():\n",
    "    for hit in hits:\n",
    "        if hit[\"found_in\"] == \"definition\" or hit[\"found_in\"] == \"examples\":\n",
    "            case_4_count += 1\n",
    "            case_4.append(hit[\"synset_id\"])\n",
    "            print(term, hit[\"synset_id\"], hit[\"definition\"], hit[\"examples\"])"
   ]
  },
  {
   "cell_type": "code",
   "execution_count": null,
   "metadata": {
    "scrolled": true
   },
   "outputs": [],
   "source": [
    "case_4_count"
   ]
  },
  {
   "cell_type": "code",
   "execution_count": null,
   "metadata": {},
   "outputs": [],
   "source": [
    "# export\n",
    "with open('selected_cases/pwn_case4.txt','w') as txt_file:\n",
    "    for l in case_4:\n",
    "        txt_file.write(f\"{l}\\n\")"
   ]
  },
  {
   "cell_type": "markdown",
   "metadata": {},
   "source": [
    "#### Case 5"
   ]
  },
  {
   "cell_type": "code",
   "execution_count": null,
   "metadata": {},
   "outputs": [],
   "source": [
    "# lemmas no markers\n",
    "case_5 = []\n",
    "case_5_count = 0\n",
    "for term, hits in pwn_subset.items():\n",
    "    for hit in hits:\n",
    "        if hit[\"found_in\"] == \"lemmata\":\n",
    "            # no markers\n",
    "            if hit[\"synset_id\"] not in pwn_implicit and hit[\"synset_id\"] not in pwn_explicit:\n",
    "                case_5_count += 1\n",
    "                case_5.append(hit[\"synset_id\"])\n",
    "                print(term, hit[\"synset_id\"], hit[\"lemmata\"])"
   ]
  },
  {
   "cell_type": "code",
   "execution_count": null,
   "metadata": {},
   "outputs": [],
   "source": [
    "case_5_count"
   ]
  },
  {
   "cell_type": "code",
   "execution_count": null,
   "metadata": {},
   "outputs": [],
   "source": [
    "# export\n",
    "with open('selected_cases/pwn_case5.txt','w') as txt_file:\n",
    "    for l in case_5:\n",
    "        txt_file.write(f\"{l}\\n\")"
   ]
  },
  {
   "cell_type": "code",
   "execution_count": null,
   "metadata": {},
   "outputs": [],
   "source": [
    "# lemmas with markers\n",
    "case_5_markers = []\n",
    "case_5_markers_count = 0\n",
    "for term, hits in pwn_subset.items():\n",
    "    for hit in hits:\n",
    "        if hit[\"found_in\"] == \"lemmata\":\n",
    "            # no markers\n",
    "            if hit[\"synset_id\"] in pwn_implicit or hit[\"synset_id\"] in pwn_explicit:\n",
    "                case_5_markers_count += 1\n",
    "                case_5_markers.append(hit[\"synset_id\"])\n",
    "                print(term, hit[\"synset_id\"], hit[\"lemmata\"])"
   ]
  },
  {
   "cell_type": "code",
   "execution_count": null,
   "metadata": {},
   "outputs": [],
   "source": [
    "case_5_markers_count"
   ]
  },
  {
   "cell_type": "code",
   "execution_count": null,
   "metadata": {},
   "outputs": [],
   "source": [
    "# export\n",
    "with open('selected_cases/pwn_case5_with_markers.txt','w') as txt_file:\n",
    "    for l in case_5_markers:\n",
    "        txt_file.write(f\"{l}\\n\")"
   ]
  },
  {
   "cell_type": "markdown",
   "metadata": {},
   "source": [
    "## ODWN"
   ]
  },
  {
   "cell_type": "code",
   "execution_count": null,
   "metadata": {},
   "outputs": [],
   "source": [
    "# import subset\n",
    "with open(\"/Users/anesterov/reps/LODlit/ODWN/odwn_subset.json\",'r') as jf:\n",
    "    odwn_subset = json.load(jf)"
   ]
  },
  {
   "cell_type": "code",
   "execution_count": null,
   "metadata": {},
   "outputs": [],
   "source": [
    "odwn_implicit = implicit_markers[implicit_markers[\"resource\"] == \"odwn\"][\"entity_id\"].to_list()\n",
    "odwn_explicit = explicit_markers[explicit_markers[\"resource\"] == \"odwn\"][\"entity_id\"].to_list()"
   ]
  },
  {
   "cell_type": "markdown",
   "metadata": {},
   "source": [
    "#### Case 4"
   ]
  },
  {
   "cell_type": "code",
   "execution_count": null,
   "metadata": {},
   "outputs": [],
   "source": [
    "# sense_definition, synset_definitions, sense_examples\n",
    "case_4 = []\n",
    "case_4_count = 0\n",
    "\n",
    "for term, hits in odwn_subset.items():\n",
    "    for hit in hits:\n",
    "        \n",
    "        # get odwn ID\n",
    "        if hit[\"synset_id\"] != \"\":\n",
    "            odwn_id_key = \"synset_id\"\n",
    "        else:\n",
    "            odwn_id_key = \"sense_id\"\n",
    "        \n",
    "        if hit[\"found_in\"] == \"sense_definition\" or hit[\"found_in\"] == \"synset_definitions\" \\\n",
    "        or hit[\"found_in\"] == \"sense_examples\":\n",
    "            case_4_count += 1\n",
    "            case_4.append(hit[odwn_id_key])\n",
    "            print(term, hit[odwn_id_key], hit.get(\"sense_definition\"),hit.get(\"synset_definitions\"),hit.get(\"sense_examples\"))"
   ]
  },
  {
   "cell_type": "code",
   "execution_count": null,
   "metadata": {},
   "outputs": [],
   "source": [
    "case_4_count"
   ]
  },
  {
   "cell_type": "code",
   "execution_count": null,
   "metadata": {},
   "outputs": [],
   "source": [
    "# export\n",
    "with open('selected_cases/odwn_case4.txt','w') as txt_file:\n",
    "    for l in case_4:\n",
    "        txt_file.write(f\"{l}\\n\")"
   ]
  },
  {
   "cell_type": "markdown",
   "metadata": {},
   "source": [
    "#### Case 5"
   ]
  },
  {
   "cell_type": "code",
   "execution_count": null,
   "metadata": {
    "scrolled": true
   },
   "outputs": [],
   "source": [
    "# lemmas no markers\n",
    "case_5 = []\n",
    "case_5_count = 0\n",
    "for term, hits in odwn_subset.items():\n",
    "    for hit in hits:\n",
    "        if hit[\"found_in\"] == \"le\":\n",
    "            \n",
    "             # get odwn ID\n",
    "            if hit[\"synset_id\"] != \"\":\n",
    "                odwn_id_key = \"synset_id\"\n",
    "            else:\n",
    "                odwn_id_key = \"sense_id\"\n",
    "            \n",
    "            # no markers\n",
    "            if hit[odwn_id_key] not in odwn_implicit and hit[odwn_id_key] not in odwn_explicit:\n",
    "                case_5_count += 1\n",
    "                case_5.append(hit[odwn_id_key])\n",
    "                print(term, hit[\"synset_id\"], hit[\"le_written_form\"])"
   ]
  },
  {
   "cell_type": "code",
   "execution_count": null,
   "metadata": {},
   "outputs": [],
   "source": [
    "case_5_count"
   ]
  },
  {
   "cell_type": "code",
   "execution_count": null,
   "metadata": {},
   "outputs": [],
   "source": [
    "# export\n",
    "with open('selected_cases/odwn_case5.txt','w') as txt_file:\n",
    "    for l in case_5:\n",
    "        txt_file.write(f\"{l}\\n\")"
   ]
  },
  {
   "cell_type": "code",
   "execution_count": null,
   "metadata": {
    "scrolled": true
   },
   "outputs": [],
   "source": [
    "# lemmas with markers\n",
    "case_5_markers = []\n",
    "case_5_markers_count = 0\n",
    "for term, hits in odwn_subset.items():\n",
    "    for hit in hits:\n",
    "        if hit[\"found_in\"] == \"le\":\n",
    "            \n",
    "             # get odwn ID\n",
    "            if hit[\"synset_id\"] != \"\":\n",
    "                odwn_id_key = \"synset_id\"\n",
    "            else:\n",
    "                odwn_id_key = \"sense_id\"\n",
    "            \n",
    "            # no markers\n",
    "            if hit[odwn_id_key] in odwn_implicit or hit[odwn_id_key] in odwn_explicit:\n",
    "                case_5_markers_count += 1\n",
    "                case_5_markers.append(hit[odwn_id_key])\n",
    "                print(term, hit[odwn_id_key], hit[\"le_written_form\"])"
   ]
  },
  {
   "cell_type": "code",
   "execution_count": null,
   "metadata": {},
   "outputs": [],
   "source": [
    "case_5_markers_count"
   ]
  },
  {
   "cell_type": "code",
   "execution_count": null,
   "metadata": {},
   "outputs": [],
   "source": [
    "# export\n",
    "with open('selected_cases/odwn_case5_with_markers.txt','w') as txt_file:\n",
    "    for l in case_5_markers:\n",
    "        txt_file.write(f\"{l}\\n\")"
   ]
  },
  {
   "cell_type": "code",
   "execution_count": null,
   "metadata": {},
   "outputs": [],
   "source": []
  }
 ],
 "metadata": {
  "kernelspec": {
   "display_name": "Python 3",
   "language": "python",
   "name": "python3"
  },
  "language_info": {
   "codemirror_mode": {
    "name": "ipython",
    "version": 3
   },
   "file_extension": ".py",
   "mimetype": "text/x-python",
   "name": "python",
   "nbconvert_exporter": "python",
   "pygments_lexer": "ipython3",
   "version": "3.8.5"
  }
 },
 "nbformat": 4,
 "nbformat_minor": 4
}
