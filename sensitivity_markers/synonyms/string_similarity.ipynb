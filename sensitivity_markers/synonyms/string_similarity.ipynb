{
 "cells": [
  {
   "cell_type": "code",
   "execution_count": 2,
   "metadata": {},
   "outputs": [
    {
     "name": "stdout",
     "output_type": "stream",
     "text": [
      "Collecting thefuzz\n",
      "  Downloading thefuzz-0.19.0-py2.py3-none-any.whl (17 kB)\n",
      "Installing collected packages: thefuzz\n",
      "Successfully installed thefuzz-0.19.0\n"
     ]
    }
   ],
   "source": [
    "!pip install thefuzz"
   ]
  },
  {
   "cell_type": "code",
   "execution_count": 3,
   "metadata": {},
   "outputs": [],
   "source": [
    "from thefuzz import fuzz\n",
    "from thefuzz import process"
   ]
  },
  {
   "cell_type": "code",
   "execution_count": 4,
   "metadata": {},
   "outputs": [],
   "source": [
    "alt_labels = [\"indigenous peoples\", \"aboriginal peoples\", \"traditional peoples\", \"native peoples\", \"indigenous culture\"]"
   ]
  },
  {
   "cell_type": "code",
   "execution_count": 8,
   "metadata": {},
   "outputs": [],
   "source": [
    "suggestions = ['Aboriginal',\n",
    "  'Torres Strait Islander peoples',\n",
    "  'First Nation peoples',\n",
    "  'First Nation people',\n",
    "  'First Nations people',\n",
    "  'Indigenous',\n",
    "  'Aboriginal peoples',\n",
    "  'Aboriginal people']"
   ]
  },
  {
   "cell_type": "code",
   "execution_count": 25,
   "metadata": {},
   "outputs": [
    {
     "name": "stdout",
     "output_type": "stream",
     "text": [
      "indigenous peoples, near_match: ('Indigenous', 90)\n",
      "aboriginal peoples, exact_match: ('Aboriginal peoples', 100)\n",
      "indigenous culture, near_match: ('Indigenous', 90)\n"
     ]
    }
   ],
   "source": [
    "for label in alt_labels:\n",
    "    highest_score = process.extractOne(label, suggestions)\n",
    "    \n",
    "    if highest_score[1] == 100:\n",
    "            print(f\"{label}, exact_match: {highest_score}\")\n",
    "    if 100 > highest_score[1] >= 90:\n",
    "           print(f\"{label}, near_match: {highest_score}\")"
   ]
  },
  {
   "cell_type": "code",
   "execution_count": null,
   "metadata": {},
   "outputs": [],
   "source": []
  }
 ],
 "metadata": {
  "kernelspec": {
   "display_name": "Python 3",
   "language": "python",
   "name": "python3"
  },
  "language_info": {
   "codemirror_mode": {
    "name": "ipython",
    "version": 3
   },
   "file_extension": ".py",
   "mimetype": "text/x-python",
   "name": "python",
   "nbconvert_exporter": "python",
   "pygments_lexer": "ipython3",
   "version": "3.8.5"
  }
 },
 "nbformat": 4,
 "nbformat_minor": 4
}
