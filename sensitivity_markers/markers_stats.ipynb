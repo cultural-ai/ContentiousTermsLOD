{
 "cells": [
  {
   "cell_type": "code",
   "execution_count": null,
   "metadata": {},
   "outputs": [],
   "source": [
    "# N hits with implicit markers by sets\n",
    "# %: N hits with implicit markers VS N all hits by sets (take only Set 3)\n",
    "# Unique resources with implicit markers by sets"
   ]
  },
  {
   "cell_type": "code",
   "execution_count": 1,
   "metadata": {},
   "outputs": [],
   "source": [
    "import json\n",
    "import csv\n",
    "import pandas as pd"
   ]
  },
  {
   "cell_type": "code",
   "execution_count": 2,
   "metadata": {},
   "outputs": [],
   "source": [
    "# import set3\n",
    "set3 = pd.read_csv(\"/Users/anesterov/reps/LODlit/rm/rm_entities_all.csv\")"
   ]
  },
  {
   "cell_type": "code",
   "execution_count": 153,
   "metadata": {},
   "outputs": [],
   "source": [
    "# import implicit markers\n",
    "implicit_all = pd.read_csv(\"/Users/anesterov/reps/LODlit/sensitivity_markers/implicit/implicit_all.csv\")"
   ]
  },
  {
   "cell_type": "code",
   "execution_count": 154,
   "metadata": {},
   "outputs": [],
   "source": [
    "# import explicit markers\n",
    "explicit_all = pd.read_csv(\"/Users/anesterov/reps/LODlit/sensitivity_markers/explicit/explicit_all.csv\")"
   ]
  },
  {
   "cell_type": "code",
   "execution_count": 196,
   "metadata": {},
   "outputs": [
    {
     "name": "stderr",
     "output_type": "stream",
     "text": [
      "<ipython-input-196-ab2990f9db05>:1: UserWarning: Boolean Series key will be reindexed to match DataFrame index.\n",
      "  set_3 = set3[set3[\"resource\"]==\"pwn\"][set3[\"lang\"]==\"en\"]\n"
     ]
    }
   ],
   "source": [
    "set_3 = set3[set3[\"resource\"]==\"pwn\"][set3[\"lang\"]==\"en\"]"
   ]
  },
  {
   "cell_type": "code",
   "execution_count": 3,
   "metadata": {},
   "outputs": [
    {
     "data": {
      "text/plain": [
       "261"
      ]
     },
     "execution_count": 3,
     "metadata": {},
     "output_type": "execute_result"
    }
   ],
   "source": [
    "len(set(set3[\"entity_id\"]))"
   ]
  },
  {
   "cell_type": "code",
   "execution_count": 262,
   "metadata": {},
   "outputs": [
    {
     "data": {
      "text/plain": [
       "41"
      ]
     },
     "execution_count": 262,
     "metadata": {},
     "output_type": "execute_result"
    }
   ],
   "source": [
    "len(set(set3[set3[\"resource\"]==\"aat\"][\"entity_id\"]))"
   ]
  },
  {
   "cell_type": "code",
   "execution_count": 286,
   "metadata": {},
   "outputs": [
    {
     "name": "stderr",
     "output_type": "stream",
     "text": [
      "<ipython-input-286-4f44b1ac8af2>:1: UserWarning: Boolean Series key will be reindexed to match DataFrame index.\n",
      "  len(set(explicit_all[explicit_all[\"resource\"]==\"odwn\"][explicit_all[\"level\"]==3][\"entity_id\"]))\n"
     ]
    },
    {
     "data": {
      "text/plain": [
       "12"
      ]
     },
     "execution_count": 286,
     "metadata": {},
     "output_type": "execute_result"
    }
   ],
   "source": [
    "len(set(explicit_all[explicit_all[\"resource\"]==\"odwn\"][explicit_all[\"level\"]==3][\"entity_id\"]))"
   ]
  },
  {
   "cell_type": "code",
   "execution_count": 290,
   "metadata": {},
   "outputs": [
    {
     "data": {
      "text/plain": [
       "32"
      ]
     },
     "execution_count": 290,
     "metadata": {},
     "output_type": "execute_result"
    }
   ],
   "source": [
    "len(set(explicit_all[explicit_all[\"resource\"]==\"odwn\"][\"entity_id\"]))"
   ]
  },
  {
   "cell_type": "code",
   "execution_count": 291,
   "metadata": {},
   "outputs": [
    {
     "data": {
      "text/plain": [
       "179"
      ]
     },
     "execution_count": 291,
     "metadata": {},
     "output_type": "execute_result"
    }
   ],
   "source": [
    "len(set(explicit_all[\"entity_id\"]))"
   ]
  },
  {
   "cell_type": "code",
   "execution_count": 274,
   "metadata": {},
   "outputs": [
    {
     "data": {
      "text/plain": [
       "19"
      ]
     },
     "execution_count": 274,
     "metadata": {},
     "output_type": "execute_result"
    }
   ],
   "source": [
    "len(set(implicit_all[implicit_all[\"lang\"]==\"nl\"][\"entity_id\"]))"
   ]
  },
  {
   "cell_type": "code",
   "execution_count": 197,
   "metadata": {},
   "outputs": [
    {
     "data": {
      "text/plain": [
       "137"
      ]
     },
     "execution_count": 197,
     "metadata": {},
     "output_type": "execute_result"
    }
   ],
   "source": [
    "len(set_3)"
   ]
  },
  {
   "cell_type": "code",
   "execution_count": 198,
   "metadata": {},
   "outputs": [
    {
     "data": {
      "text/plain": [
       "135"
      ]
     },
     "execution_count": 198,
     "metadata": {},
     "output_type": "execute_result"
    }
   ],
   "source": [
    "len(set3[set3[\"resource\"]==\"aat\"])"
   ]
  },
  {
   "cell_type": "code",
   "execution_count": 178,
   "metadata": {},
   "outputs": [],
   "source": [
    "dataset = \"odwn\""
   ]
  },
  {
   "cell_type": "code",
   "execution_count": 158,
   "metadata": {},
   "outputs": [],
   "source": [
    "implicit_unique_by_dataset = {\"aat\":{\"set_1\":[],\"set_2\":[],\"set_3\":[]},\n",
    "                    \"wikidata\":{\"set_1\":[],\"set_2\":[],\"set_3\":[]},\n",
    "                    \"pwn\":{\"set_1\":[],\"set_2\":[],\"set_3\":[]}}"
   ]
  },
  {
   "cell_type": "code",
   "execution_count": 165,
   "metadata": {},
   "outputs": [],
   "source": [
    "by_dataset = implicit_all[implicit_all[\"resource\"]==dataset]\n",
    "for level in by_dataset.groupby(\"level\"):\n",
    "    implicit_unique_by_dataset[dataset][f\"set_{level[0]}\"] = list(set(level[1][\"entity_id\"]))"
   ]
  },
  {
   "cell_type": "code",
   "execution_count": 166,
   "metadata": {},
   "outputs": [
    {
     "name": "stdout",
     "output_type": "stream",
     "text": [
      "aat 22\n",
      "wikidata 67\n",
      "pwn 33\n"
     ]
    }
   ],
   "source": [
    "for resource, sets in implicit_unique_by_dataset.items():\n",
    "    by_resource = []\n",
    "    for v in sets.values():\n",
    "        by_resource.extend(v)\n",
    "    print(resource, len(set(by_resource)))"
   ]
  },
  {
   "cell_type": "code",
   "execution_count": 167,
   "metadata": {},
   "outputs": [],
   "source": [
    "# export\n",
    "with open('unique_resources_by_sets_implicit.json', 'w') as jf:\n",
    "    json.dump(implicit_unique_by_dataset, jf)"
   ]
  },
  {
   "cell_type": "code",
   "execution_count": 169,
   "metadata": {},
   "outputs": [],
   "source": [
    "explicit_unique_by_dataset = {\"aat\":{\"set_1\":[],\"set_2\":[],\"set_3\":[]},\n",
    "                    \"wikidata\":{\"set_1\":[],\"set_2\":[],\"set_3\":[]},\n",
    "                    \"pwn\":{\"set_1\":[],\"set_2\":[],\"set_3\":[]},\n",
    "                    \"odwn\":{\"set_1\":[],\"set_2\":[],\"set_3\":[]}}"
   ]
  },
  {
   "cell_type": "code",
   "execution_count": 179,
   "metadata": {},
   "outputs": [],
   "source": [
    "by_dataset = explicit_all[explicit_all[\"resource\"]==dataset]\n",
    "for level in by_dataset.groupby(\"level\"):\n",
    "    explicit_unique_by_dataset[dataset][f\"set_{level[0]}\"] = list(set(level[1][\"entity_id\"]))"
   ]
  },
  {
   "cell_type": "code",
   "execution_count": 180,
   "metadata": {},
   "outputs": [
    {
     "name": "stdout",
     "output_type": "stream",
     "text": [
      "aat 77\n",
      "wikidata 44\n",
      "pwn 26\n",
      "odwn 32\n"
     ]
    }
   ],
   "source": [
    "for resource, sets in explicit_unique_by_dataset.items():\n",
    "    by_resource = []\n",
    "    for v in sets.values():\n",
    "        by_resource.extend(v)\n",
    "    print(resource, len(set(by_resource)))"
   ]
  },
  {
   "cell_type": "code",
   "execution_count": 181,
   "metadata": {},
   "outputs": [],
   "source": [
    "# export\n",
    "with open('unique_resources_by_sets_explicit.json', 'w') as jf:\n",
    "    json.dump(explicit_unique_by_dataset, jf)"
   ]
  },
  {
   "cell_type": "markdown",
   "metadata": {},
   "source": [
    "#### Which terms were not marked?"
   ]
  },
  {
   "cell_type": "code",
   "execution_count": 199,
   "metadata": {},
   "outputs": [],
   "source": [
    "# import query terms\n",
    "with open('/Users/anesterov/reps/LODlit/query_terms.json','r') as jf:\n",
    "        query_terms = json.load(jf)"
   ]
  },
  {
   "cell_type": "code",
   "execution_count": 200,
   "metadata": {},
   "outputs": [],
   "source": [
    "en_terms = query_terms[\"en\"].keys()\n",
    "nl_terms = query_terms[\"nl\"].keys()"
   ]
  },
  {
   "cell_type": "code",
   "execution_count": 228,
   "metadata": {},
   "outputs": [],
   "source": [
    "dataset = \"odwn\"\n",
    "lang = \"nl\""
   ]
  },
  {
   "cell_type": "code",
   "execution_count": 229,
   "metadata": {},
   "outputs": [
    {
     "name": "stderr",
     "output_type": "stream",
     "text": [
      "<ipython-input-229-c813afcaa551>:1: UserWarning: Boolean Series key will be reindexed to match DataFrame index.\n",
      "  implicit_terms = set(implicit_all[implicit_all[\"resource\"]==dataset][implicit_all[\"lang\"]==lang][\"lemma\"])\n",
      "<ipython-input-229-c813afcaa551>:2: UserWarning: Boolean Series key will be reindexed to match DataFrame index.\n",
      "  explicit_terms = set(explicit_all[explicit_all[\"resource\"]==dataset][explicit_all[\"lang\"]==lang][\"lemma\"])\n"
     ]
    }
   ],
   "source": [
    "implicit_terms = set(implicit_all[implicit_all[\"resource\"]==dataset][implicit_all[\"lang\"]==lang][\"lemma\"])\n",
    "explicit_terms = set(explicit_all[explicit_all[\"resource\"]==dataset][explicit_all[\"lang\"]==lang][\"lemma\"])"
   ]
  },
  {
   "cell_type": "code",
   "execution_count": 214,
   "metadata": {
    "scrolled": true
   },
   "outputs": [],
   "source": [
    "# wikidata EN\n",
    "wd_en = []\n",
    "for term in en_terms:\n",
    "    if term not in implicit_terms and term not in explicit_terms:\n",
    "        wd_en.append(term)"
   ]
  },
  {
   "cell_type": "code",
   "execution_count": 218,
   "metadata": {},
   "outputs": [],
   "source": [
    "# wikidata NL\n",
    "wd_nl = []\n",
    "for term in nl_terms:\n",
    "    if term not in implicit_terms and term not in explicit_terms:\n",
    "        wd_nl.append(term)"
   ]
  },
  {
   "cell_type": "code",
   "execution_count": 221,
   "metadata": {},
   "outputs": [],
   "source": [
    "# aat EN\n",
    "aat_en = []\n",
    "for term in en_terms:\n",
    "    if term not in implicit_terms and term not in explicit_terms:\n",
    "        aat_en.append(term)"
   ]
  },
  {
   "cell_type": "code",
   "execution_count": 224,
   "metadata": {},
   "outputs": [],
   "source": [
    "# aat NL\n",
    "aat_nl = []\n",
    "for term in nl_terms:\n",
    "    if term not in implicit_terms and term not in explicit_terms:\n",
    "        aat_nl.append(term)"
   ]
  },
  {
   "cell_type": "code",
   "execution_count": 227,
   "metadata": {},
   "outputs": [],
   "source": [
    "# pwn\n",
    "pwn = []\n",
    "for term in en_terms:\n",
    "    if term not in implicit_terms and term not in explicit_terms:\n",
    "        pwn.append(term)"
   ]
  },
  {
   "cell_type": "code",
   "execution_count": 230,
   "metadata": {},
   "outputs": [],
   "source": [
    "# odwn\n",
    "odwn = []\n",
    "for term in nl_terms:\n",
    "    if term not in implicit_terms and term not in explicit_terms:\n",
    "        odwn.append(term)"
   ]
  },
  {
   "cell_type": "markdown",
   "metadata": {},
   "source": [
    "#### Examples of terms marked in one dataset but not in others"
   ]
  },
  {
   "cell_type": "code",
   "execution_count": 233,
   "metadata": {},
   "outputs": [
    {
     "name": "stdout",
     "output_type": "stream",
     "text": [
      "bediende\n",
      "queer\n",
      "zigeuner\n",
      "kaukasisch\n",
      "mulat\n",
      "etnische groep\n",
      "page\n"
     ]
    }
   ],
   "source": [
    "for term in nl_terms:\n",
    "    if term not in wd_nl and term in aat_nl and term in odwn:\n",
    "        print(term)"
   ]
  },
  {
   "cell_type": "markdown",
   "metadata": {},
   "source": [
    "#### Terms that were not marked in all datasets"
   ]
  },
  {
   "cell_type": "code",
   "execution_count": null,
   "metadata": {},
   "outputs": [],
   "source": [
    "implicit_terms_all = set(implicit_all[implicit_all[\"lang\"]==lang][\"lemma\"])\n",
    "explicit_terms_all = set(explicit_all[explicit_all[\"lang\"]==lang][\"lemma\"])"
   ]
  },
  {
   "cell_type": "code",
   "execution_count": null,
   "metadata": {},
   "outputs": [],
   "source": [
    "not_marked_en = []\n",
    "all_en = []\n",
    "all_en.extend(wd_en)\n",
    "all_en.extend(aat_en)\n",
    "all_en.extend(pwn)\n",
    "\n",
    "for t in set(all_en):\n",
    "    if t not in implicit_terms_all and t not in explicit_terms_all:\n",
    "        not_marked_en.append(t)"
   ]
  },
  {
   "cell_type": "code",
   "execution_count": null,
   "metadata": {},
   "outputs": [],
   "source": [
    "not_marked_en"
   ]
  },
  {
   "cell_type": "code",
   "execution_count": null,
   "metadata": {},
   "outputs": [],
   "source": [
    "not_marked_nl = []\n",
    "all_nl = []\n",
    "all_nl.extend(wd_nl)\n",
    "all_nl.extend(aat_nl)\n",
    "all_nl.extend(odwn)\n",
    "\n",
    "for t in set(all_nl):\n",
    "    if t not in implicit_terms_all and t not in explicit_terms_all:\n",
    "        not_marked_nl.append(t)"
   ]
  },
  {
   "cell_type": "code",
   "execution_count": null,
   "metadata": {},
   "outputs": [],
   "source": [
    "not_marked_nl"
   ]
  },
  {
   "cell_type": "code",
   "execution_count": null,
   "metadata": {},
   "outputs": [],
   "source": []
  }
 ],
 "metadata": {
  "kernelspec": {
   "display_name": "Python 3",
   "language": "python",
   "name": "python3"
  },
  "language_info": {
   "codemirror_mode": {
    "name": "ipython",
    "version": 3
   },
   "file_extension": ".py",
   "mimetype": "text/x-python",
   "name": "python",
   "nbconvert_exporter": "python",
   "pygments_lexer": "ipython3",
   "version": "3.8.5"
  }
 },
 "nbformat": 4,
 "nbformat_minor": 4
}
