{
 "cells": [
  {
   "cell_type": "markdown",
   "metadata": {},
   "source": [
    "### Comparing the lengths (in symbols) of AAT scopeNotes, Wikidata descriptions, PWN and ODWN definitions"
   ]
  },
  {
   "cell_type": "code",
   "execution_count": null,
   "metadata": {},
   "outputs": [],
   "source": [
    "import json\n",
    "import statistics"
   ]
  },
  {
   "cell_type": "markdown",
   "metadata": {},
   "source": [
    "#### Wikidata"
   ]
  },
  {
   "cell_type": "code",
   "execution_count": null,
   "metadata": {},
   "outputs": [],
   "source": [
    "with open('/Users/anesterov/wd/jan31/results_clean_en.json','r') as jf:\n",
    "    wd_bows_en = json.load(jf)"
   ]
  },
  {
   "cell_type": "code",
   "execution_count": null,
   "metadata": {},
   "outputs": [],
   "source": [
    "all_descriptions = []\n",
    "for query_term, results in wd_bows_en.items():\n",
    "    \n",
    "    for hit in results:\n",
    "        \n",
    "        if type(hit[\"description\"]) == str:\n",
    "            all_descriptions.append(hit[\"description\"])\n",
    "                \n",
    "        if type(hit[\"description\"]) == list:\n",
    "            all_descriptions.extend(hit[\"description\"])"
   ]
  },
  {
   "cell_type": "code",
   "execution_count": null,
   "metadata": {
    "scrolled": true
   },
   "outputs": [],
   "source": [
    "statistics.mean([len(d) for d in all_descriptions])"
   ]
  },
  {
   "cell_type": "code",
   "execution_count": null,
   "metadata": {},
   "outputs": [],
   "source": [
    "with open(\"/Users/anesterov/wd/jan31/results_clean_nl.json\",'r') as jf:\n",
    "    results_clean_nl = json.load(jf)"
   ]
  },
  {
   "cell_type": "code",
   "execution_count": null,
   "metadata": {},
   "outputs": [],
   "source": [
    "all_descriptions = []\n",
    "for query_term, results in results_clean_nl.items():\n",
    "    \n",
    "    for hit in results:\n",
    "        \n",
    "        if type(hit[\"description\"]) == str:\n",
    "            all_descriptions.append(hit[\"description\"])\n",
    "                \n",
    "        if type(hit[\"description\"]) == list:\n",
    "            all_descriptions.extend(hit[\"description\"])"
   ]
  },
  {
   "cell_type": "code",
   "execution_count": null,
   "metadata": {},
   "outputs": [],
   "source": [
    "statistics.mean([len(d) for d in all_descriptions])"
   ]
  },
  {
   "cell_type": "markdown",
   "metadata": {},
   "source": [
    "#### AAT"
   ]
  },
  {
   "cell_type": "code",
   "execution_count": null,
   "metadata": {},
   "outputs": [],
   "source": [
    "with open('/Users/anesterov/reps/LODlit/AAT/aat_query_results_en.json','r') as jf:\n",
    "    aat_en = json.load(jf)"
   ]
  },
  {
   "cell_type": "code",
   "execution_count": null,
   "metadata": {},
   "outputs": [],
   "source": [
    "all_scopeNotes = []\n",
    "for results in aat_en.values():\n",
    "    for hit in results:\n",
    "        if hit[\"scopeNote\"] != \"\":\n",
    "            all_scopeNotes.append(hit[\"scopeNote\"])"
   ]
  },
  {
   "cell_type": "code",
   "execution_count": null,
   "metadata": {},
   "outputs": [],
   "source": [
    "statistics.mean([len(d) for d in all_scopeNotes])"
   ]
  },
  {
   "cell_type": "code",
   "execution_count": null,
   "metadata": {},
   "outputs": [],
   "source": [
    "with open('/Users/anesterov/reps/LODlit/AAT/aat_query_results_nl.json','r') as jf:\n",
    "    aat_nl = json.load(jf)"
   ]
  },
  {
   "cell_type": "code",
   "execution_count": null,
   "metadata": {},
   "outputs": [],
   "source": [
    "all_scopeNotes = []\n",
    "for results in aat_nl.values():\n",
    "    for hit in results:\n",
    "        if hit[\"scopeNote\"] != \"\":\n",
    "            all_scopeNotes.append(hit[\"scopeNote\"])"
   ]
  },
  {
   "cell_type": "code",
   "execution_count": null,
   "metadata": {},
   "outputs": [],
   "source": [
    "statistics.mean([len(d) for d in all_scopeNotes])"
   ]
  },
  {
   "cell_type": "markdown",
   "metadata": {},
   "source": [
    "#### PWN"
   ]
  },
  {
   "cell_type": "code",
   "execution_count": null,
   "metadata": {},
   "outputs": [],
   "source": [
    "with open(\"/Users/anesterov/reps/LODlit/PWN/pwn31_query_results.json\",'r') as jf:\n",
    "    pwn = json.load(jf)"
   ]
  },
  {
   "cell_type": "code",
   "execution_count": null,
   "metadata": {},
   "outputs": [],
   "source": [
    "all_pwn_def = []\n",
    "for results in pwn.values():\n",
    "    for hit in results:\n",
    "        if hit[\"definition\"] != \"\":\n",
    "            all_pwn_def.append(hit[\"definition\"])"
   ]
  },
  {
   "cell_type": "code",
   "execution_count": null,
   "metadata": {},
   "outputs": [],
   "source": [
    "statistics.mean([len(d) for d in all_pwn_def])"
   ]
  },
  {
   "cell_type": "markdown",
   "metadata": {},
   "source": [
    "#### ODWN"
   ]
  },
  {
   "cell_type": "code",
   "execution_count": null,
   "metadata": {},
   "outputs": [],
   "source": [
    "with open(\"/Users/anesterov/reps/LODlit/ODWN/odwn_query_results.json\",'r') as jf:\n",
    "    odwn = json.load(jf)"
   ]
  },
  {
   "cell_type": "code",
   "execution_count": null,
   "metadata": {},
   "outputs": [],
   "source": [
    "odwn_def = []\n",
    "for results in odwn.values():\n",
    "    for hit in results:\n",
    "        if hit.get(\"sense_definition\") != None:\n",
    "            odwn_def.append(hit[\"sense_definition\"])\n",
    "            odwn_def.extend(hit[\"synset_definitions\"])"
   ]
  },
  {
   "cell_type": "code",
   "execution_count": null,
   "metadata": {},
   "outputs": [],
   "source": [
    "statistics.mean([len(d) for d in odwn_def])"
   ]
  },
  {
   "cell_type": "code",
   "execution_count": null,
   "metadata": {},
   "outputs": [],
   "source": []
  }
 ],
 "metadata": {
  "kernelspec": {
   "display_name": "Python 3",
   "language": "python",
   "name": "python3"
  },
  "language_info": {
   "codemirror_mode": {
    "name": "ipython",
    "version": 3
   },
   "file_extension": ".py",
   "mimetype": "text/x-python",
   "name": "python",
   "nbconvert_exporter": "python",
   "pygments_lexer": "ipython3",
   "version": "3.8.5"
  }
 },
 "nbformat": 4,
 "nbformat_minor": 4
}
