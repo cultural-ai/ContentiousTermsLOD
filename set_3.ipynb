{
 "cells": [
  {
   "cell_type": "markdown",
   "metadata": {},
   "source": [
    "### Set 3: generating subsets of every dataset based on Top-10 entities for each term by their cosine similarity scores"
   ]
  },
  {
   "cell_type": "code",
   "execution_count": null,
   "metadata": {},
   "outputs": [],
   "source": [
    "import pandas as pd\n",
    "import json"
   ]
  },
  {
   "cell_type": "code",
   "execution_count": null,
   "metadata": {},
   "outputs": [],
   "source": [
    "def _get_subset_entities(path_to_top10:str) -> dict:\n",
    "\n",
    "    subset_dict = {}\n",
    "    \n",
    "    top_10 = pd.read_csv(path_to_top10)\n",
    "    subset = top_10[top_10[\"cs_rm\"] >= 0.5]\n",
    "    \n",
    "    # special condition for AAT\n",
    "    if '_aat_' in path_to_top10:\n",
    "        for term_group in subset.groupby(\"term\"):\n",
    "            list_of_entities_per_term = [str(int(hit_id)) for hit_id in term_group[1][\"hit_id\"]]\n",
    "            subset_dict[term_group[0]] = list_of_entities_per_term\n",
    "    else:\n",
    "        for term_group in subset.groupby(\"term\"):\n",
    "            list_of_entities_per_term = list(set(term_group[1][\"hit_id\"]))\n",
    "            subset_dict[term_group[0]] = list_of_entities_per_term\n",
    "        \n",
    "    return subset_dict"
   ]
  },
  {
   "cell_type": "code",
   "execution_count": null,
   "metadata": {},
   "outputs": [],
   "source": [
    "def construct_subset(dataset:str, path_to_top10:str, path_to_search_results:str) -> dict:\n",
    "    '''\n",
    "    Constructs a subset of relevant entities from all search results\n",
    "    dataset: str, 'wikidata', 'aat', 'pwn', 'odwn'\n",
    "    path_to_top10: str, a path to csv file with Top-10 entiites per lemma per dataset\n",
    "    path_to_search_results: str, a path to json file with search results per dataset\n",
    "    Returns dict with a subset of a dataset\n",
    "    '''\n",
    "    \n",
    "    subset = {}\n",
    "    \n",
    "    # get the entities for the subset\n",
    "    subset_entities = _get_subset_entities(path_to_top10)\n",
    "    \n",
    "    # load the search results\n",
    "    with open(path_to_search_results,'r') as jf:\n",
    "        search_results = json.load(jf)\n",
    "    \n",
    "    # check the resource\n",
    "    if dataset == 'wikidata':\n",
    "        entity_id = 'QID'\n",
    "    if dataset == 'aat':\n",
    "        entity_id = 'aat_uri'\n",
    "    if dataset == 'pwn':\n",
    "        entity_id = 'synset_id'\n",
    "        \n",
    "    # special conditions for ODWN    \n",
    "    if dataset == 'odwn':\n",
    "        for query_term, entities in subset_entities.items():\n",
    "            hits_per_term = []\n",
    "            for hit in search_results[query_term]:\n",
    "                # in ODWN, instead of synset_id, there could be le_id; checking both\n",
    "                if (hit.get(\"le_id\") != None and hit.get(\"le_id\") in entities) or (hit.get(\"synset_id\") != None and hit.get(\"synset_id\") in entities):\n",
    "                    hits_per_term.append(hit)\n",
    "            subset[query_term] = hits_per_term\n",
    "\n",
    "    # get the subset for other datasets\n",
    "    else:\n",
    "        for query_term, entities in subset_entities.items():\n",
    "            hits_per_term = []\n",
    "            for hit in search_results[query_term]:\n",
    "                if hit[entity_id] in entities:\n",
    "                    hits_per_term.append(hit)\n",
    "            subset[query_term] = hits_per_term\n",
    "        \n",
    "   \n",
    "    return subset"
   ]
  },
  {
   "cell_type": "markdown",
   "metadata": {},
   "source": [
    "### Generating and exporting the subset files"
   ]
  },
  {
   "cell_type": "markdown",
   "metadata": {},
   "source": [
    "#### Wikidata EN"
   ]
  },
  {
   "cell_type": "code",
   "execution_count": null,
   "metadata": {},
   "outputs": [],
   "source": [
    "# results_clean_en.json is gzipped on GitHub \n",
    "wd_en_subset = construct_subset('wikidata',\"/cs/top_10_by_lemma_rm_wikidata_en.csv\",\"Wikidata/results_clean_en.json\")"
   ]
  },
  {
   "cell_type": "code",
   "execution_count": null,
   "metadata": {},
   "outputs": [],
   "source": [
    "with open('/Wikidata/wd_en_subset.json', 'w') as jf:\n",
    "    json.dump(wd_en_subset, jf)"
   ]
  },
  {
   "cell_type": "markdown",
   "metadata": {},
   "source": [
    "#### Wikidata NL"
   ]
  },
  {
   "cell_type": "code",
   "execution_count": null,
   "metadata": {},
   "outputs": [],
   "source": [
    "# results_clean_nl.json is gzipped on GitHub \n",
    "wd_nl_subset = construct_subset('wikidata',\"/cs/top_10_by_lemma_rm_wikidata_nl.csv\",\"Wikidata/results_clean_nl.json\")"
   ]
  },
  {
   "cell_type": "code",
   "execution_count": null,
   "metadata": {},
   "outputs": [],
   "source": [
    "with open('/Wikidata/wd_nl_subset.json', 'w') as jf:\n",
    "    json.dump(wd_nl_subset, jf)"
   ]
  },
  {
   "cell_type": "markdown",
   "metadata": {},
   "source": [
    "#### AAT EN"
   ]
  },
  {
   "cell_type": "code",
   "execution_count": null,
   "metadata": {},
   "outputs": [],
   "source": [
    "aat_en_subset = construct_subset('aat',\"/cs/top_10_by_lemma_rm_aat_en.csv\",\"/AAT/aat_query_results_en.json\")"
   ]
  },
  {
   "cell_type": "code",
   "execution_count": null,
   "metadata": {},
   "outputs": [],
   "source": [
    "with open('/AAT/aat_en_subset.json', 'w') as jf:\n",
    "    json.dump(aat_en_subset, jf)"
   ]
  },
  {
   "cell_type": "markdown",
   "metadata": {},
   "source": [
    "#### AAT NL"
   ]
  },
  {
   "cell_type": "code",
   "execution_count": null,
   "metadata": {},
   "outputs": [],
   "source": [
    "aat_nl_subset = construct_subset('aat',\"/cs/top_10_by_lemma_rm_aat_nl.csv\",\"/AAT/aat_query_results_nl.json\")"
   ]
  },
  {
   "cell_type": "code",
   "execution_count": null,
   "metadata": {},
   "outputs": [],
   "source": [
    "with open('/AAT/aat_nl_subset.json', 'w') as jf:\n",
    "    json.dump(aat_nl_subset, jf)"
   ]
  },
  {
   "cell_type": "markdown",
   "metadata": {},
   "source": [
    "#### PWN"
   ]
  },
  {
   "cell_type": "code",
   "execution_count": null,
   "metadata": {},
   "outputs": [],
   "source": [
    "pwn_subset = construct_subset('pwn',\"/cs/top_10_by_lemma_pwn.csv\",\"/PWN/pwn31_query_results.json\")"
   ]
  },
  {
   "cell_type": "code",
   "execution_count": null,
   "metadata": {},
   "outputs": [],
   "source": [
    "with open('/PWN/pwn_subset.json', 'w') as jf:\n",
    "    json.dump(pwn_subset, jf)"
   ]
  },
  {
   "cell_type": "markdown",
   "metadata": {},
   "source": [
    "#### ODWN"
   ]
  },
  {
   "cell_type": "code",
   "execution_count": null,
   "metadata": {},
   "outputs": [],
   "source": [
    "odwn_subset = construct_subset('odwn',\"/cs/top_10_by_lemma_odwn.csv\",\"/ODWN/odwn_query_results.json\")"
   ]
  },
  {
   "cell_type": "code",
   "execution_count": null,
   "metadata": {},
   "outputs": [],
   "source": [
    "with open('/ODWN/odwn_subset.json', 'w') as jf:\n",
    "    json.dump(odwn_subset, jf)"
   ]
  },
  {
   "cell_type": "code",
   "execution_count": null,
   "metadata": {},
   "outputs": [],
   "source": []
  }
 ],
 "metadata": {
  "kernelspec": {
   "display_name": "Python 3",
   "language": "python",
   "name": "python3"
  },
  "language_info": {
   "codemirror_mode": {
    "name": "ipython",
    "version": 3
   },
   "file_extension": ".py",
   "mimetype": "text/x-python",
   "name": "python",
   "nbconvert_exporter": "python",
   "pygments_lexer": "ipython3",
   "version": "3.8.5"
  }
 },
 "nbformat": 4,
 "nbformat_minor": 4
}
