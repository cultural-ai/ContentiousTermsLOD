{
 "cells": [
  {
   "cell_type": "code",
   "execution_count": 1,
   "metadata": {},
   "outputs": [],
   "source": [
    "import numpy\n",
    "import json\n",
    "import pandas as pd"
   ]
  },
  {
   "cell_type": "code",
   "execution_count": 2,
   "metadata": {},
   "outputs": [],
   "source": [
    "wd_hits = pd.read_csv('/Users/anesterov/reps/LODlit/Wikidata/n_hits_by_lemma.csv')"
   ]
  },
  {
   "cell_type": "code",
   "execution_count": 4,
   "metadata": {},
   "outputs": [],
   "source": [
    "wd_en = wd_hits.loc[wd_hits['lang'] == 'en']"
   ]
  },
  {
   "cell_type": "code",
   "execution_count": 15,
   "metadata": {},
   "outputs": [
    {
     "data": {
      "text/plain": [
       "0.00        1.0\n",
       "0.25       61.0\n",
       "0.50      705.0\n",
       "0.75     4391.0\n",
       "1.00    12763.0\n",
       "Name: total_lemma, dtype: float64"
      ]
     },
     "execution_count": 15,
     "metadata": {},
     "output_type": "execute_result"
    }
   ],
   "source": [
    "wd_en[\"total_lemma\"].quantile([0,0.25,0.5,0.75,1])"
   ]
  },
  {
   "cell_type": "code",
   "execution_count": 10,
   "metadata": {},
   "outputs": [],
   "source": [
    "x = numpy.quantile(list(values), [0,0.25,0.5,0.75,1])"
   ]
  },
  {
   "cell_type": "code",
   "execution_count": 11,
   "metadata": {},
   "outputs": [
    {
     "data": {
      "text/plain": [
       "array([1.0000e+00, 1.7000e+01, 9.2000e+01, 8.4500e+02, 1.2763e+04])"
      ]
     },
     "execution_count": 11,
     "metadata": {},
     "output_type": "execute_result"
    }
   ],
   "source": [
    "x"
   ]
  },
  {
   "cell_type": "code",
   "execution_count": 14,
   "metadata": {},
   "outputs": [
    {
     "data": {
      "text/plain": [
       "int"
      ]
     },
     "execution_count": 14,
     "metadata": {},
     "output_type": "execute_result"
    }
   ],
   "source": [
    "list(values)[0]"
   ]
  },
  {
   "cell_type": "code",
   "execution_count": 12,
   "metadata": {},
   "outputs": [
    {
     "data": {
      "text/plain": [
       "189445"
      ]
     },
     "execution_count": 12,
     "metadata": {},
     "output_type": "execute_result"
    }
   ],
   "source": [
    "sum(wd_en['total_lemma'])"
   ]
  },
  {
   "cell_type": "code",
   "execution_count": 19,
   "metadata": {},
   "outputs": [
    {
     "data": {
      "text/plain": [
       "92.0"
      ]
     },
     "execution_count": 19,
     "metadata": {},
     "output_type": "execute_result"
    }
   ],
   "source": [
    "wd_en.total_lemma.median()"
   ]
  },
  {
   "cell_type": "code",
   "execution_count": 21,
   "metadata": {},
   "outputs": [
    {
     "data": {
      "text/plain": [
       "[2009,\n",
       " 1,\n",
       " 30,\n",
       " 360,\n",
       " 472,\n",
       " 516,\n",
       " 9774,\n",
       " 979,\n",
       " 2190,\n",
       " 1,\n",
       " 1103,\n",
       " 705,\n",
       " 9665,\n",
       " 41,\n",
       " 9555,\n",
       " 38,\n",
       " 1124,\n",
       " 313,\n",
       " 9440,\n",
       " 405,\n",
       " 4745,\n",
       " 749,\n",
       " 474,\n",
       " 845,\n",
       " 59,\n",
       " 8,\n",
       " 3639,\n",
       " 890,\n",
       " 48,\n",
       " 43,\n",
       " 557,\n",
       " 63,\n",
       " 89,\n",
       " 6435,\n",
       " 378,\n",
       " 32,\n",
       " 1301,\n",
       " 12763,\n",
       " 4710,\n",
       " 4448,\n",
       " 451,\n",
       " 23,\n",
       " 11,\n",
       " 14,\n",
       " 876,\n",
       " 592,\n",
       " 86,\n",
       " 57,\n",
       " 48,\n",
       " 14,\n",
       " 4603,\n",
       " 56,\n",
       " 332,\n",
       " 5894,\n",
       " 4334,\n",
       " 5702,\n",
       " 1660,\n",
       " 1182,\n",
       " 27,\n",
       " 81,\n",
       " 843,\n",
       " 12047,\n",
       " 67,\n",
       " 1356,\n",
       " 930,\n",
       " 9726,\n",
       " 3140,\n",
       " 303,\n",
       " 126,\n",
       " 8248,\n",
       " 9243,\n",
       " 37,\n",
       " 5680,\n",
       " 12441,\n",
       " 8218,\n",
       " 63,\n",
       " 1,\n",
       " 142,\n",
       " 6,\n",
       " 3,\n",
       " 9,\n",
       " 154,\n",
       " 227,\n",
       " 29,\n",
       " 49,\n",
       " 183,\n",
       " 207,\n",
       " 1,\n",
       " 2,\n",
       " 445,\n",
       " 5,\n",
       " 161,\n",
       " 1,\n",
       " 99,\n",
       " 14,\n",
       " 9249,\n",
       " 48,\n",
       " 575,\n",
       " 56,\n",
       " 27,\n",
       " 5,\n",
       " 48,\n",
       " 5,\n",
       " 3234,\n",
       " 25,\n",
       " 26,\n",
       " 2,\n",
       " 1,\n",
       " 9223,\n",
       " 574,\n",
       " 159,\n",
       " 119,\n",
       " 16,\n",
       " 26,\n",
       " 2,\n",
       " 29,\n",
       " 7,\n",
       " 3,\n",
       " 87,\n",
       " 72,\n",
       " 2,\n",
       " 2,\n",
       " 1,\n",
       " 3,\n",
       " 127,\n",
       " 45,\n",
       " 9,\n",
       " 3,\n",
       " 3,\n",
       " 92,\n",
       " 723,\n",
       " 10,\n",
       " 39,\n",
       " 43,\n",
       " 15,\n",
       " 11,\n",
       " 20,\n",
       " 123,\n",
       " 4,\n",
       " 42,\n",
       " 2,\n",
       " 5,\n",
       " 99,\n",
       " 722,\n",
       " 233,\n",
       " 85,\n",
       " 237,\n",
       " 714,\n",
       " 444,\n",
       " 4,\n",
       " 3,\n",
       " 7,\n",
       " 263,\n",
       " 11601,\n",
       " 34,\n",
       " 17,\n",
       " 1524]"
      ]
     },
     "execution_count": 21,
     "metadata": {},
     "output_type": "execute_result"
    }
   ],
   "source": [
    "list(wd_en.total_lemma)"
   ]
  },
  {
   "cell_type": "code",
   "execution_count": null,
   "metadata": {},
   "outputs": [],
   "source": []
  }
 ],
 "metadata": {
  "kernelspec": {
   "display_name": "Python 3",
   "language": "python",
   "name": "python3"
  },
  "language_info": {
   "codemirror_mode": {
    "name": "ipython",
    "version": 3
   },
   "file_extension": ".py",
   "mimetype": "text/x-python",
   "name": "python",
   "nbconvert_exporter": "python",
   "pygments_lexer": "ipython3",
   "version": "3.8.5"
  }
 },
 "nbformat": 4,
 "nbformat_minor": 4
}
