{
 "cells": [
  {
   "cell_type": "code",
   "execution_count": 1,
   "metadata": {},
   "outputs": [],
   "source": [
    "import json\n",
    "import csv\n",
    "import pandas as pd"
   ]
  },
  {
   "cell_type": "code",
   "execution_count": 35,
   "metadata": {},
   "outputs": [],
   "source": [
    "# importing previous annotations\n",
    "annotated_wd_en = pd.read_csv(\"/Users/anesterov/reps/LODlit/top10_spacy.csv\")"
   ]
  },
  {
   "cell_type": "code",
   "execution_count": 36,
   "metadata": {},
   "outputs": [],
   "source": [
    "annotated_wd_en.rename(columns={\"QID\": \"entity_id\"}, inplace=True)"
   ]
  },
  {
   "cell_type": "code",
   "execution_count": 37,
   "metadata": {},
   "outputs": [],
   "source": [
    "annotated_wd_en.drop(['wd_bow','spacy_cs','link_wd'], axis=1, inplace=True)"
   ]
  },
  {
   "cell_type": "code",
   "execution_count": 38,
   "metadata": {},
   "outputs": [],
   "source": [
    "# importing the annotation sheet\n",
    "new_sheet = pd.read_csv(\"/Users/anesterov/reps/LODlit/annotation_sheet_wikidata_en.csv\")"
   ]
  },
  {
   "cell_type": "code",
   "execution_count": 39,
   "metadata": {},
   "outputs": [],
   "source": [
    "new_sheet.drop(['Unnamed: 0'], axis=1, inplace=True)"
   ]
  },
  {
   "cell_type": "code",
   "execution_count": 40,
   "metadata": {},
   "outputs": [],
   "source": [
    "merged_annotations = new_sheet.merge(annotated_wd_en, on=['term','entity_id'], how='left')"
   ]
  },
  {
   "cell_type": "code",
   "execution_count": 41,
   "metadata": {},
   "outputs": [],
   "source": [
    "merged_annotations.to_csv(\"annotations1_wd_en.csv\")"
   ]
  },
  {
   "cell_type": "code",
   "execution_count": 42,
   "metadata": {},
   "outputs": [],
   "source": [
    "### Checking overlap with NL top-10"
   ]
  },
  {
   "cell_type": "code",
   "execution_count": 43,
   "metadata": {},
   "outputs": [],
   "source": [
    "annotated_wd_en_18_04 = pd.read_csv(\"/Users/anesterov/reps/LODlit/annotated_wd_en.csv\")"
   ]
  },
  {
   "cell_type": "code",
   "execution_count": 45,
   "metadata": {},
   "outputs": [],
   "source": [
    "annotated_wd_en_18_04.drop(['text_1','text_2','text_3','text_4','text_5'], axis=1, inplace=True)"
   ]
  },
  {
   "cell_type": "code",
   "execution_count": 46,
   "metadata": {},
   "outputs": [],
   "source": [
    "# importing the NL annotation sheet\n",
    "sheet_nl = pd.read_csv(\"/Users/anesterov/reps/LODlit/annotation_sheet_wikidata_nl.csv\")"
   ]
  },
  {
   "cell_type": "code",
   "execution_count": 48,
   "metadata": {},
   "outputs": [],
   "source": [
    "sheet_nl.drop(['Unnamed: 0'], axis=1, inplace=True)"
   ]
  },
  {
   "cell_type": "code",
   "execution_count": 49,
   "metadata": {},
   "outputs": [],
   "source": [
    "merged_annotations = sheet_nl.merge(annotated_wd_en_18_04, on=['entity_id'], how='left')"
   ]
  },
  {
   "cell_type": "code",
   "execution_count": 55,
   "metadata": {},
   "outputs": [],
   "source": [
    "merged_annotations.drop_duplicates(subset=['term_x','entity_id'], inplace=True)"
   ]
  },
  {
   "cell_type": "code",
   "execution_count": 57,
   "metadata": {},
   "outputs": [],
   "source": [
    "merged_annotations.to_csv(\"annotation_sheet_merged_nl.csv\")"
   ]
  },
  {
   "cell_type": "code",
   "execution_count": 56,
   "metadata": {},
   "outputs": [
    {
     "data": {
      "text/html": [
       "<div>\n",
       "<style scoped>\n",
       "    .dataframe tbody tr th:only-of-type {\n",
       "        vertical-align: middle;\n",
       "    }\n",
       "\n",
       "    .dataframe tbody tr th {\n",
       "        vertical-align: top;\n",
       "    }\n",
       "\n",
       "    .dataframe thead th {\n",
       "        text-align: right;\n",
       "    }\n",
       "</style>\n",
       "<table border=\"1\" class=\"dataframe\">\n",
       "  <thead>\n",
       "    <tr style=\"text-align: right;\">\n",
       "      <th></th>\n",
       "      <th>term_x</th>\n",
       "      <th>entity_id</th>\n",
       "      <th>text_1</th>\n",
       "      <th>text_2</th>\n",
       "      <th>text_3</th>\n",
       "      <th>text_4</th>\n",
       "      <th>text_5</th>\n",
       "      <th>term_y</th>\n",
       "      <th>check</th>\n",
       "    </tr>\n",
       "  </thead>\n",
       "  <tbody>\n",
       "    <tr>\n",
       "      <th>0</th>\n",
       "      <td>aboriginal</td>\n",
       "      <td>Q254387</td>\n",
       "      <td>Orang Asli</td>\n",
       "      <td>NaN</td>\n",
       "      <td>inheemse minderheden van het schiereiland Male...</td>\n",
       "      <td>['etnische groep']</td>\n",
       "      <td>['inheemse bevolking']</td>\n",
       "      <td>NaN</td>\n",
       "      <td>NaN</td>\n",
       "    </tr>\n",
       "    <tr>\n",
       "      <th>1</th>\n",
       "      <td>aboriginal</td>\n",
       "      <td>Q100341850</td>\n",
       "      <td>Aboriginal kunst</td>\n",
       "      <td>NaN</td>\n",
       "      <td>['Tentoonstelling uit 2002']</td>\n",
       "      <td>['tijdelijke tentoonstelling']</td>\n",
       "      <td>[]</td>\n",
       "      <td>NaN</td>\n",
       "      <td>NaN</td>\n",
       "    </tr>\n",
       "    <tr>\n",
       "      <th>2</th>\n",
       "      <td>aboriginal</td>\n",
       "      <td>Q1476490</td>\n",
       "      <td>Regenboogslang</td>\n",
       "      <td>NaN</td>\n",
       "      <td>scheppergod en motief in de kunst en religie v...</td>\n",
       "      <td>['mythische slang']</td>\n",
       "      <td>[]</td>\n",
       "      <td>NaN</td>\n",
       "      <td>NaN</td>\n",
       "    </tr>\n",
       "    <tr>\n",
       "      <th>3</th>\n",
       "      <td>aboriginal</td>\n",
       "      <td>Q2479183</td>\n",
       "      <td>Canadian aboriginal syllabics</td>\n",
       "      <td>NaN</td>\n",
       "      <td>NaN</td>\n",
       "      <td>['geconstrueerd schrift', 'abugida', 'alfabet ...</td>\n",
       "      <td>['abugida']</td>\n",
       "      <td>NaN</td>\n",
       "      <td>NaN</td>\n",
       "    </tr>\n",
       "    <tr>\n",
       "      <th>4</th>\n",
       "      <td>aboriginal</td>\n",
       "      <td>Q170355</td>\n",
       "      <td>aborigines</td>\n",
       "      <td>['Aboriginals', 'Australiden', 'Aboriginal', '...</td>\n",
       "      <td>['Australië']</td>\n",
       "      <td>['bevolking', 'inheemse bevolking']</td>\n",
       "      <td>['Australiërs', 'inwoner', 'inheemse bevolking']</td>\n",
       "      <td>aboriginal</td>\n",
       "      <td>True</td>\n",
       "    </tr>\n",
       "    <tr>\n",
       "      <th>...</th>\n",
       "      <td>...</td>\n",
       "      <td>...</td>\n",
       "      <td>...</td>\n",
       "      <td>...</td>\n",
       "      <td>...</td>\n",
       "      <td>...</td>\n",
       "      <td>...</td>\n",
       "      <td>...</td>\n",
       "      <td>...</td>\n",
       "    </tr>\n",
       "    <tr>\n",
       "      <th>1061</th>\n",
       "      <td>zwarts</td>\n",
       "      <td>Q713701</td>\n",
       "      <td>Sirius Zwarts</td>\n",
       "      <td>['Sirius Black', 'Sluipvoet', 'Sirius Swarts']</td>\n",
       "      <td>['personage uit Harry Potter']</td>\n",
       "      <td>['Faunaat', 'tovenaar in de wereld van Harry P...</td>\n",
       "      <td>[]</td>\n",
       "      <td>NaN</td>\n",
       "      <td>NaN</td>\n",
       "    </tr>\n",
       "    <tr>\n",
       "      <th>1062</th>\n",
       "      <td>zwarts</td>\n",
       "      <td>Q1057918</td>\n",
       "      <td>Bellatrix van Detta</td>\n",
       "      <td>['Bellatrix Zwarts', 'Bellatrix Van Detta-Zwar...</td>\n",
       "      <td>['personage uit Harry Potter']</td>\n",
       "      <td>['tovenaar in de wereld van Harry Potter', 'pe...</td>\n",
       "      <td>[]</td>\n",
       "      <td>NaN</td>\n",
       "      <td>NaN</td>\n",
       "    </tr>\n",
       "    <tr>\n",
       "      <th>1063</th>\n",
       "      <td>zwarts</td>\n",
       "      <td>Q16856359</td>\n",
       "      <td>Zwarts</td>\n",
       "      <td>NaN</td>\n",
       "      <td>['achternaam']</td>\n",
       "      <td>['familienaam', 'Übername']</td>\n",
       "      <td>[]</td>\n",
       "      <td>NaN</td>\n",
       "      <td>NaN</td>\n",
       "    </tr>\n",
       "    <tr>\n",
       "      <th>1064</th>\n",
       "      <td>zwarts</td>\n",
       "      <td>Q42496007</td>\n",
       "      <td>NaN</td>\n",
       "      <td>NaN</td>\n",
       "      <td>boek van Leo Zwarts</td>\n",
       "      <td>['literair werk']</td>\n",
       "      <td>[]</td>\n",
       "      <td>NaN</td>\n",
       "      <td>NaN</td>\n",
       "    </tr>\n",
       "    <tr>\n",
       "      <th>1065</th>\n",
       "      <td>zwarts</td>\n",
       "      <td>Q113340868</td>\n",
       "      <td>portret Jacob Zwarts</td>\n",
       "      <td>NaN</td>\n",
       "      <td>['schilderij van Hendrik Johannes Schellevis (...</td>\n",
       "      <td>['schilderij']</td>\n",
       "      <td>[]</td>\n",
       "      <td>NaN</td>\n",
       "      <td>NaN</td>\n",
       "    </tr>\n",
       "  </tbody>\n",
       "</table>\n",
       "<p>1027 rows × 9 columns</p>\n",
       "</div>"
      ],
      "text/plain": [
       "          term_x   entity_id                         text_1  \\\n",
       "0     aboriginal     Q254387                     Orang Asli   \n",
       "1     aboriginal  Q100341850               Aboriginal kunst   \n",
       "2     aboriginal    Q1476490                 Regenboogslang   \n",
       "3     aboriginal    Q2479183  Canadian aboriginal syllabics   \n",
       "4     aboriginal     Q170355                     aborigines   \n",
       "...          ...         ...                            ...   \n",
       "1061      zwarts     Q713701                  Sirius Zwarts   \n",
       "1062      zwarts    Q1057918            Bellatrix van Detta   \n",
       "1063      zwarts   Q16856359                         Zwarts   \n",
       "1064      zwarts   Q42496007                            NaN   \n",
       "1065      zwarts  Q113340868           portret Jacob Zwarts   \n",
       "\n",
       "                                                 text_2  \\\n",
       "0                                                   NaN   \n",
       "1                                                   NaN   \n",
       "2                                                   NaN   \n",
       "3                                                   NaN   \n",
       "4     ['Aboriginals', 'Australiden', 'Aboriginal', '...   \n",
       "...                                                 ...   \n",
       "1061     ['Sirius Black', 'Sluipvoet', 'Sirius Swarts']   \n",
       "1062  ['Bellatrix Zwarts', 'Bellatrix Van Detta-Zwar...   \n",
       "1063                                                NaN   \n",
       "1064                                                NaN   \n",
       "1065                                                NaN   \n",
       "\n",
       "                                                 text_3  \\\n",
       "0     inheemse minderheden van het schiereiland Male...   \n",
       "1                          ['Tentoonstelling uit 2002']   \n",
       "2     scheppergod en motief in de kunst en religie v...   \n",
       "3                                                   NaN   \n",
       "4                                         ['Australië']   \n",
       "...                                                 ...   \n",
       "1061                     ['personage uit Harry Potter']   \n",
       "1062                     ['personage uit Harry Potter']   \n",
       "1063                                     ['achternaam']   \n",
       "1064                                boek van Leo Zwarts   \n",
       "1065  ['schilderij van Hendrik Johannes Schellevis (...   \n",
       "\n",
       "                                                 text_4  \\\n",
       "0                                    ['etnische groep']   \n",
       "1                        ['tijdelijke tentoonstelling']   \n",
       "2                                   ['mythische slang']   \n",
       "3     ['geconstrueerd schrift', 'abugida', 'alfabet ...   \n",
       "4                   ['bevolking', 'inheemse bevolking']   \n",
       "...                                                 ...   \n",
       "1061  ['Faunaat', 'tovenaar in de wereld van Harry P...   \n",
       "1062  ['tovenaar in de wereld van Harry Potter', 'pe...   \n",
       "1063                        ['familienaam', 'Übername']   \n",
       "1064                                  ['literair werk']   \n",
       "1065                                     ['schilderij']   \n",
       "\n",
       "                                                text_5      term_y check  \n",
       "0                               ['inheemse bevolking']         NaN   NaN  \n",
       "1                                                   []         NaN   NaN  \n",
       "2                                                   []         NaN   NaN  \n",
       "3                                          ['abugida']         NaN   NaN  \n",
       "4     ['Australiërs', 'inwoner', 'inheemse bevolking']  aboriginal  True  \n",
       "...                                                ...         ...   ...  \n",
       "1061                                                []         NaN   NaN  \n",
       "1062                                                []         NaN   NaN  \n",
       "1063                                                []         NaN   NaN  \n",
       "1064                                                []         NaN   NaN  \n",
       "1065                                                []         NaN   NaN  \n",
       "\n",
       "[1027 rows x 9 columns]"
      ]
     },
     "execution_count": 56,
     "metadata": {},
     "output_type": "execute_result"
    }
   ],
   "source": [
    "merged_annotations"
   ]
  },
  {
   "cell_type": "code",
   "execution_count": 58,
   "metadata": {},
   "outputs": [],
   "source": [
    "### check the annotated Wikidata EN"
   ]
  },
  {
   "cell_type": "code",
   "execution_count": 61,
   "metadata": {},
   "outputs": [],
   "source": [
    "from collections import Counter"
   ]
  },
  {
   "cell_type": "code",
   "execution_count": 72,
   "metadata": {},
   "outputs": [
    {
     "name": "stdout",
     "output_type": "stream",
     "text": [
      "aboriginal 10\n",
      "aboriginals 10\n",
      "allochtoon 1\n",
      "batavia 10\n",
      "berber 10\n",
      "berbers 10\n",
      "developing nation 1\n",
      "developing nations 10\n",
      "disabled 10\n",
      "eskimos 10\n",
      "ethnic group 10\n",
      "ethnic groups 10\n",
      "ethnicities 10\n",
      "ethnicity 10\n",
      "gay 10\n",
      "gypsies 10\n",
      "handicap 10\n",
      "handicaps 10\n",
      "hermaphrodites 5\n",
      "homosexual 10\n",
      "homosexuals 10\n",
      "immigrant 10\n",
      "immigrants 10\n",
      "indians 10\n",
      "indigenous 10\n",
      "inuit 10\n",
      "inuits 4\n",
      "lilliputian 8\n",
      "lilliputians 3\n",
      "mestizo 10\n",
      "metis 10\n",
      "mohammedans 4\n",
      "mulattoes 3\n",
      "mulattos 1\n",
      "métis 10\n",
      "natives 10\n",
      "negro 10\n",
      "negroes 10\n",
      "queer 10\n",
      "queerer 1\n",
      "retarded 10\n",
      "slaves 10\n",
      "southern rhodesia 10\n",
      "third world 10\n",
      "traditional 10\n",
      "trans 10\n",
      "transvestite 10\n",
      "transvestites 8\n",
      "tribe 10\n",
      "tribes 10\n"
     ]
    }
   ],
   "source": [
    "for group in annotated_wd_en_18_04.groupby(\"term\"):\n",
    "    if Counter(group[1][\"check\"]).get(True):\n",
    "        if Counter(group[1][\"check\"]).get(True)/len(group[1][\"entity_id\"]) == 1:\n",
    "            print(group[0],Counter(group[1][\"check\"]).get(True))"
   ]
  },
  {
   "cell_type": "code",
   "execution_count": null,
   "metadata": {},
   "outputs": [],
   "source": []
  }
 ],
 "metadata": {
  "kernelspec": {
   "display_name": "Python 3",
   "language": "python",
   "name": "python3"
  },
  "language_info": {
   "codemirror_mode": {
    "name": "ipython",
    "version": 3
   },
   "file_extension": ".py",
   "mimetype": "text/x-python",
   "name": "python",
   "nbconvert_exporter": "python",
   "pygments_lexer": "ipython3",
   "version": "3.8.5"
  }
 },
 "nbformat": 4,
 "nbformat_minor": 4
}
