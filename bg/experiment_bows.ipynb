{
 "cells": [
  {
   "cell_type": "code",
   "execution_count": null,
   "metadata": {},
   "outputs": [],
   "source": [
    "import json"
   ]
  },
  {
   "cell_type": "code",
   "execution_count": null,
   "metadata": {},
   "outputs": [],
   "source": [
    "l1 = []\n",
    "l2 = []\n",
    "# tokenization\n",
    "X_list = all_rm['en']['black']['wikidata'] + all_rm['en']['black']['aat'] + all_rm['en']['black']['pwn']\n",
    "Y_list = wd_en['black'][349]['Q53094']\n",
    "X_set = {t for t in X_list}\n",
    "Y_set = {t for t in Y_list}\n",
    "rvector = X_set.union(Y_set)"
   ]
  },
  {
   "cell_type": "code",
   "execution_count": null,
   "metadata": {},
   "outputs": [],
   "source": [
    "# creating vectors\n",
    "for w in rvector:\n",
    "    if w in X_set:\n",
    "        l1.append(1) # create a vector\n",
    "    else:\n",
    "        l1.append(0)\n",
    "    if w in Y_set:\n",
    "        l2.append(1)\n",
    "    else:\n",
    "        l2.append(0)"
   ]
  },
  {
   "cell_type": "code",
   "execution_count": null,
   "metadata": {},
   "outputs": [],
   "source": [
    "# cosine formula \n",
    "c = 0\n",
    "for i in range(len(rvector)):\n",
    "        c+= l1[i]*l2[i]\n",
    "        \n",
    "cosine = c / float((sum(l1)*sum(l2))**0.5)\n",
    "print(\"similarity: \", cosine)"
   ]
  },
  {
   "cell_type": "code",
   "execution_count": 1,
   "metadata": {},
   "outputs": [],
   "source": [
    "# weighted cosine similarity"
   ]
  },
  {
   "cell_type": "code",
   "execution_count": 2,
   "metadata": {},
   "outputs": [
    {
     "name": "stderr",
     "output_type": "stream",
     "text": [
      "/Users/anesterov/opt/anaconda3/lib/python3.8/site-packages/scipy/__init__.py:143: UserWarning: A NumPy version >=1.19.5 and <1.27.0 is required for this version of SciPy (detected version 1.18.5)\n",
      "  warnings.warn(f\"A NumPy version >={np_minversion} and <{np_maxversion}\"\n"
     ]
    }
   ],
   "source": [
    "from scipy import spatial"
   ]
  },
  {
   "cell_type": "code",
   "execution_count": 43,
   "metadata": {},
   "outputs": [
    {
     "name": "stdout",
     "output_type": "stream",
     "text": [
      "0.3030303030303031\n"
     ]
    }
   ],
   "source": [
    "d1 = [1,1,0,1,1,0]\n",
    "d2 = [0,1,1,1,1,0]\n",
    "weight_of_importance = [1,0.3,1,1,1,1]\n",
    "\n",
    "result = spatial.distance.cosine(d1, d2, weight_of_importance)\n",
    "print(result)"
   ]
  },
  {
   "cell_type": "code",
   "execution_count": null,
   "metadata": {},
   "outputs": [],
   "source": []
  }
 ],
 "metadata": {
  "kernelspec": {
   "display_name": "Python 3",
   "language": "python",
   "name": "python3"
  },
  "language_info": {
   "codemirror_mode": {
    "name": "ipython",
    "version": 3
   },
   "file_extension": ".py",
   "mimetype": "text/x-python",
   "name": "python",
   "nbconvert_exporter": "python",
   "pygments_lexer": "ipython3",
   "version": "3.8.5"
  }
 },
 "nbformat": 4,
 "nbformat_minor": 4
}
