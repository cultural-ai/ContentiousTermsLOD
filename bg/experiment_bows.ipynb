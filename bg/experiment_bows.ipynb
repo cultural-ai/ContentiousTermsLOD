{
 "cells": [
  {
   "cell_type": "markdown",
   "metadata": {},
   "source": [
    "### Experimenting with cosine similarity"
   ]
  },
  {
   "cell_type": "code",
   "execution_count": 1,
   "metadata": {},
   "outputs": [],
   "source": [
    "import json"
   ]
  },
  {
   "cell_type": "code",
   "execution_count": 2,
   "metadata": {},
   "outputs": [],
   "source": [
    "with open('/Users/anesterov/reps/LODlit/bg/rm_bows_all.json','r') as jf:\n",
    "    all_rm = json.load(jf)"
   ]
  },
  {
   "cell_type": "code",
   "execution_count": 6,
   "metadata": {},
   "outputs": [],
   "source": [
    "with open('/Users/anesterov/wd/jan31/wd_bows_en.json','r') as jf:\n",
    "    wd_en = json.load(jf)"
   ]
  },
  {
   "cell_type": "code",
   "execution_count": 7,
   "metadata": {},
   "outputs": [
    {
     "data": {
      "text/plain": [
       "{'Q53094': ['black',\n",
       "  'comedy',\n",
       "  'comedic',\n",
       "  'genre',\n",
       "  'comedy',\n",
       "  'dark',\n",
       "  'comedy',\n",
       "  'black',\n",
       "  'humor',\n",
       "  'black',\n",
       "  'joke',\n",
       "  'gallows',\n",
       "  'humor',\n",
       "  'dark',\n",
       "  'humor',\n",
       "  'comic',\n",
       "  'work',\n",
       "  'employ',\n",
       "  'black',\n",
       "  'humor',\n",
       "  'gallows',\n",
       "  'humor']}"
      ]
     },
     "execution_count": 7,
     "metadata": {},
     "output_type": "execute_result"
    }
   ],
   "source": [
    "wd_en['black'][349]"
   ]
  },
  {
   "cell_type": "code",
   "execution_count": 9,
   "metadata": {},
   "outputs": [],
   "source": [
    "related_matches = all_rm['en']['black']['wikidata'] + all_rm['en']['black']['aat'] + all_rm['en']['black']['pwn']\n",
    "wikidata = wd_en['black'][349]['Q53094']\n",
    "rm_set = {t for t in related_matches}\n",
    "wd_set = {t for t in wikidata}\n",
    "rvector = rm_set.union(wd_set)"
   ]
  },
  {
   "cell_type": "code",
   "execution_count": 10,
   "metadata": {
    "scrolled": true
   },
   "outputs": [
    {
     "data": {
      "text/plain": [
       "{'aboriginal',\n",
       " 'africa',\n",
       " 'african',\n",
       " 'american',\n",
       " 'ancestry',\n",
       " 'archaic',\n",
       " 'australian',\n",
       " 'based',\n",
       " 'belonging',\n",
       " 'black',\n",
       " 'brown',\n",
       " 'categorization',\n",
       " 'category',\n",
       " 'civilization',\n",
       " 'classification',\n",
       " 'color',\n",
       " 'complexion',\n",
       " 'culture',\n",
       " 'dark',\n",
       " 'descent',\n",
       " 'designation',\n",
       " 'dignity',\n",
       " 'especially',\n",
       " 'ethnicity',\n",
       " 'general',\n",
       " 'great',\n",
       " 'group',\n",
       " 'heritage',\n",
       " 'human',\n",
       " 'including',\n",
       " 'king',\n",
       " 'luther',\n",
       " 'man',\n",
       " 'martin',\n",
       " 'meaning',\n",
       " 'member',\n",
       " 'mid',\n",
       " 'negro',\n",
       " 'negroid',\n",
       " 'new',\n",
       " 'origin',\n",
       " 'outside',\n",
       " 'pejorative',\n",
       " 'people',\n",
       " 'person',\n",
       " 'place',\n",
       " 'political',\n",
       " 'population',\n",
       " 'race',\n",
       " 'racial',\n",
       " 'racialized',\n",
       " 'saharan',\n",
       " 'skin',\n",
       " 'skinned',\n",
       " 'specific',\n",
       " 'style',\n",
       " 'sub',\n",
       " 'today',\n",
       " 'usually',\n",
       " 'vein',\n",
       " 'woman'}"
      ]
     },
     "execution_count": 10,
     "metadata": {},
     "output_type": "execute_result"
    }
   ],
   "source": [
    "# a combination of related matches BoWs from Wikidata, AAT, and PWN for the term \"black\"\n",
    "rm_set"
   ]
  },
  {
   "cell_type": "code",
   "execution_count": 11,
   "metadata": {},
   "outputs": [
    {
     "data": {
      "text/plain": [
       "{'black',\n",
       " 'comedic',\n",
       " 'comedy',\n",
       " 'comic',\n",
       " 'dark',\n",
       " 'employ',\n",
       " 'gallows',\n",
       " 'genre',\n",
       " 'humor',\n",
       " 'joke',\n",
       " 'work'}"
      ]
     },
     "execution_count": 11,
     "metadata": {},
     "output_type": "execute_result"
    }
   ],
   "source": [
    "# a set of the literal values for the entity 'Q53094' in Wikidata\n",
    "wd_set"
   ]
  },
  {
   "cell_type": "code",
   "execution_count": 12,
   "metadata": {},
   "outputs": [],
   "source": [
    "l1 = []\n",
    "l2 = []\n",
    "# creating vectors\n",
    "for w in rvector:\n",
    "    if w in rm_set:\n",
    "        l1.append(1) # create a vector\n",
    "    else:\n",
    "        l1.append(0)\n",
    "    if w in wd_set:\n",
    "        l2.append(1)\n",
    "    else:\n",
    "        l2.append(0)"
   ]
  },
  {
   "cell_type": "code",
   "execution_count": 13,
   "metadata": {},
   "outputs": [
    {
     "name": "stdout",
     "output_type": "stream",
     "text": [
      "[1, 1, 1, 1, 1, 0, 1, 1, 1, 1, 1, 1, 1, 1, 1, 0, 0, 1, 1, 1, 1, 1, 1, 1, 1, 1, 1, 1, 1, 1, 1, 1, 0, 1, 1, 1, 1, 1, 0, 1, 1, 1, 0, 0, 1, 1, 1, 1, 1, 1, 1, 1, 1, 1, 0, 1, 1, 1, 1, 1, 1, 1, 1, 1, 1, 1, 1, 0, 1, 1]\n"
     ]
    }
   ],
   "source": [
    "print(l1)"
   ]
  },
  {
   "cell_type": "code",
   "execution_count": 14,
   "metadata": {},
   "outputs": [
    {
     "name": "stdout",
     "output_type": "stream",
     "text": [
      "similarity:  0.07720914364821829\n"
     ]
    }
   ],
   "source": [
    "# cosine formula \n",
    "c = 0\n",
    "for i in range(len(rvector)):\n",
    "        c+= l1[i]*l2[i]\n",
    "        \n",
    "cosine = c / float((sum(l1)*sum(l2))**0.5)\n",
    "print(\"similarity: \", cosine)"
   ]
  },
  {
   "cell_type": "code",
   "execution_count": 16,
   "metadata": {},
   "outputs": [
    {
     "name": "stderr",
     "output_type": "stream",
     "text": [
      "/Users/anesterov/opt/anaconda3/lib/python3.8/site-packages/scipy/__init__.py:143: UserWarning: A NumPy version >=1.19.5 and <1.27.0 is required for this version of SciPy (detected version 1.18.5)\n",
      "  warnings.warn(f\"A NumPy version >={np_minversion} and <{np_maxversion}\"\n"
     ]
    }
   ],
   "source": [
    "from scipy import spatial"
   ]
  },
  {
   "cell_type": "code",
   "execution_count": 17,
   "metadata": {},
   "outputs": [
    {
     "data": {
      "text/plain": [
       "0.9227908563517817"
      ]
     },
     "execution_count": 17,
     "metadata": {},
     "output_type": "execute_result"
    }
   ],
   "source": [
    "spatial.distance.cosine(l1,l2)"
   ]
  },
  {
   "cell_type": "code",
   "execution_count": 1,
   "metadata": {},
   "outputs": [],
   "source": [
    "# weighted cosine similarity"
   ]
  },
  {
   "cell_type": "code",
   "execution_count": 43,
   "metadata": {},
   "outputs": [
    {
     "name": "stdout",
     "output_type": "stream",
     "text": [
      "0.3030303030303031\n"
     ]
    }
   ],
   "source": [
    "d1 = [1,1,0,1,1,0]\n",
    "d2 = [0,1,1,1,1,0]\n",
    "weight_of_importance = [1,0.3,1,1,1,1]\n",
    "\n",
    "result = spatial.distance.cosine(d1, d2, weight_of_importance)\n",
    "print(result)"
   ]
  },
  {
   "cell_type": "code",
   "execution_count": null,
   "metadata": {},
   "outputs": [],
   "source": []
  }
 ],
 "metadata": {
  "kernelspec": {
   "display_name": "Python 3",
   "language": "python",
   "name": "python3"
  },
  "language_info": {
   "codemirror_mode": {
    "name": "ipython",
    "version": 3
   },
   "file_extension": ".py",
   "mimetype": "text/x-python",
   "name": "python",
   "nbconvert_exporter": "python",
   "pygments_lexer": "ipython3",
   "version": "3.8.5"
  }
 },
 "nbformat": 4,
 "nbformat_minor": 4
}
