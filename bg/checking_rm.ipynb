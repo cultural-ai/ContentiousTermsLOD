{
 "cells": [
  {
   "cell_type": "code",
   "execution_count": 1,
   "metadata": {},
   "outputs": [],
   "source": [
    "import json"
   ]
  },
  {
   "cell_type": "code",
   "execution_count": 2,
   "metadata": {},
   "outputs": [],
   "source": [
    "with open(\"/Users/anesterov/reps/LODlit/bg/background_info_bows.json\",\"r\") as jf:\n",
    "    bg_info = json.load(jf)"
   ]
  },
  {
   "cell_type": "code",
   "execution_count": 12,
   "metadata": {},
   "outputs": [],
   "source": [
    "n_term_only_wm = 0\n",
    "has_rm = 0\n",
    "for term, bg in bg_info[\"nl\"].items():\n",
    "    if len(bg) == 1 and \"wm\" in bg:\n",
    "        n_term_only_wm += 1\n",
    "    else:\n",
    "        has_rm += 1"
   ]
  },
  {
   "cell_type": "code",
   "execution_count": 11,
   "metadata": {},
   "outputs": [
    {
     "name": "stdout",
     "output_type": "stream",
     "text": [
      "EN total terms: 154, has rm: 143, has wm only: 11\n"
     ]
    }
   ],
   "source": [
    "print(f\"EN total terms: {len(bg_info['en'].keys())}, has rm: {has_rm}, has wm only: {n_term_only_wm}\")"
   ]
  },
  {
   "cell_type": "code",
   "execution_count": 13,
   "metadata": {},
   "outputs": [
    {
     "name": "stdout",
     "output_type": "stream",
     "text": [
      "NL total terms: 242, has rm: 218, has wm only: 24\n"
     ]
    }
   ],
   "source": [
    "print(f\"NL total terms: {len(bg_info['nl'].keys())}, has rm: {has_rm}, has wm only: {n_term_only_wm}\")"
   ]
  },
  {
   "cell_type": "code",
   "execution_count": null,
   "metadata": {},
   "outputs": [],
   "source": []
  }
 ],
 "metadata": {
  "kernelspec": {
   "display_name": "Python 3",
   "language": "python",
   "name": "python3"
  },
  "language_info": {
   "codemirror_mode": {
    "name": "ipython",
    "version": 3
   },
   "file_extension": ".py",
   "mimetype": "text/x-python",
   "name": "python",
   "nbconvert_exporter": "python",
   "pygments_lexer": "ipython3",
   "version": "3.8.5"
  }
 },
 "nbformat": 4,
 "nbformat_minor": 4
}
