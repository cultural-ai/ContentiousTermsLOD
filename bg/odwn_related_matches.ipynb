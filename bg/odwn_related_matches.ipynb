{
 "cells": [
  {
   "cell_type": "code",
   "execution_count": null,
   "metadata": {},
   "outputs": [],
   "source": [
    "import json\n",
    "import pandas as pd\n",
    "from OpenDutchWordnet import Wn_grid_parser"
   ]
  },
  {
   "cell_type": "markdown",
   "metadata": {},
   "source": [
    "### Generating a json file with related matches of terms from ODWN"
   ]
  },
  {
   "cell_type": "code",
   "execution_count": null,
   "metadata": {},
   "outputs": [],
   "source": [
    "# creating an instance\n",
    "odwn_instance = Wn_grid_parser(Wn_grid_parser.odwn)"
   ]
  },
  {
   "cell_type": "code",
   "execution_count": null,
   "metadata": {},
   "outputs": [],
   "source": [
    "# importing related matches for ODWN\n",
    "df_odwn = pd.read_csv(\"related_matches_odwn.csv\")"
   ]
  },
  {
   "cell_type": "code",
   "execution_count": null,
   "metadata": {},
   "outputs": [],
   "source": [
    "# converting to dict\n",
    "odwn_rm = {}\n",
    "for row in df_odwn.iterrows():\n",
    "    odwn_rm[row[1]['label_uri']] = {\"literal_form\":row[1]['literal'],\\\n",
    "                                    \"query_terms\":row[1]['query_terms'].split('_'),\\\n",
    "                                    \"odwn_le\":row[1]['odwn'].split('_')}"
   ]
  },
  {
   "cell_type": "code",
   "execution_count": null,
   "metadata": {},
   "outputs": [],
   "source": [
    "# adding synset IDs if available\n",
    "for v in odwn_rm.values():\n",
    "    v[\"odwn_synsets\"] = \"\"\n",
    "    odwn_synsets = []\n",
    "    for le in v[\"odwn_le\"]:\n",
    "        if le != \"None\":\n",
    "            synset_id = odwn_instance.les_find_le(le).get_synset_id()\n",
    "            # adding only found synsets\n",
    "            if synset_id != None:\n",
    "                odwn_synsets.append(synset_id)\n",
    "                v[\"odwn_synsets\"] = odwn_synsets"
   ]
  },
  {
   "cell_type": "code",
   "execution_count": null,
   "metadata": {},
   "outputs": [],
   "source": [
    "# saving json\n",
    "with open('related_matches_odwn.json', 'w') as jf:\n",
    "    json.dump(odwn_rm, jf)"
   ]
  },
  {
   "cell_type": "code",
   "execution_count": null,
   "metadata": {},
   "outputs": [],
   "source": []
  }
 ],
 "metadata": {
  "kernelspec": {
   "display_name": "Python 3 (ipykernel)",
   "language": "python",
   "name": "python3"
  },
  "language_info": {
   "codemirror_mode": {
    "name": "ipython",
    "version": 3
   },
   "file_extension": ".py",
   "mimetype": "text/x-python",
   "name": "python",
   "nbconvert_exporter": "python",
   "pygments_lexer": "ipython3",
   "version": "3.8.5"
  }
 },
 "nbformat": 4,
 "nbformat_minor": 4
}
