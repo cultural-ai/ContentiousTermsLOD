{
 "cells": [
  {
   "cell_type": "markdown",
   "metadata": {},
   "source": [
    "### Getting literal values of related matches for query terms\n",
    "(Wikidata, AAT, PWN, ODWN)"
   ]
  },
  {
   "cell_type": "code",
   "execution_count": null,
   "metadata": {},
   "outputs": [],
   "source": [
    "import json\n",
    "import pandas as pd"
   ]
  },
  {
   "cell_type": "markdown",
   "metadata": {},
   "source": [
    "#### Wikidata"
   ]
  },
  {
   "cell_type": "code",
   "execution_count": null,
   "metadata": {},
   "outputs": [],
   "source": [
    "# Importing LODlitParser Wikidata module \n",
    "# this code is taken from\n",
    "# https://stackoverflow.com/questions/67631/how-can-i-import-a-module-dynamically-given-the-full-path\n",
    "import importlib.util\n",
    "import sys\n",
    "spec = importlib.util.spec_from_file_location(\"LODlitParser.wd\", \"/Users/anesterov/reps/LODlit/LODlitParser/wd.py\")\n",
    "wd = importlib.util.module_from_spec(spec)\n",
    "sys.modules[\"LODlitParser.wd\"] = wd\n",
    "spec.loader.exec_module(wd)"
   ]
  },
  {
   "cell_type": "code",
   "execution_count": null,
   "metadata": {},
   "outputs": [],
   "source": [
    "rm_wikidata_en = wd.get_lit_related_matches_bow(\"en\")"
   ]
  },
  {
   "cell_type": "code",
   "execution_count": null,
   "metadata": {},
   "outputs": [],
   "source": [
    "rm_wikidata_nl = wd.get_lit_related_matches_bow(\"nl\")"
   ]
  },
  {
   "cell_type": "code",
   "execution_count": null,
   "metadata": {},
   "outputs": [],
   "source": [
    "with open('rm_bows_wikidata_en.json', 'w') as jf:\n",
    "    json.dump(rm_wikidata_en, jf)"
   ]
  },
  {
   "cell_type": "code",
   "execution_count": null,
   "metadata": {},
   "outputs": [],
   "source": [
    "with open('rm_bows_wikidata_nl.json', 'w') as jf:\n",
    "    json.dump(rm_wikidata_nl, jf)"
   ]
  },
  {
   "cell_type": "markdown",
   "metadata": {},
   "source": [
    "#### AAT"
   ]
  },
  {
   "cell_type": "code",
   "execution_count": null,
   "metadata": {},
   "outputs": [],
   "source": [
    "# Importing LODlitParser AAT module \n",
    "# this code is taken from\n",
    "# https://stackoverflow.com/questions/67631/how-can-i-import-a-module-dynamically-given-the-full-path\n",
    "import importlib.util\n",
    "import sys\n",
    "spec = importlib.util.spec_from_file_location(\"LODlitParser.aat\", \"/Users/anesterov/reps/LODlit/LODlitParser/aat.py\")\n",
    "aat = importlib.util.module_from_spec(spec)\n",
    "sys.modules[\"LODlitParser.aat\"] = aat\n",
    "spec.loader.exec_module(aat)"
   ]
  },
  {
   "cell_type": "code",
   "execution_count": null,
   "metadata": {},
   "outputs": [],
   "source": [
    "rm_aat_en = aat.get_lit_related_matches_bow(\"en\")"
   ]
  },
  {
   "cell_type": "code",
   "execution_count": null,
   "metadata": {},
   "outputs": [],
   "source": [
    "rm_aat_nl = aat.get_lit_related_matches_bow(\"nl\")"
   ]
  },
  {
   "cell_type": "code",
   "execution_count": null,
   "metadata": {},
   "outputs": [],
   "source": [
    "with open('rm_bows_aat_en.json', 'w') as jf:\n",
    "    json.dump(rm_aat_en, jf)"
   ]
  },
  {
   "cell_type": "code",
   "execution_count": null,
   "metadata": {},
   "outputs": [],
   "source": [
    "with open('rm_bows_aat_nl.json', 'w') as jf:\n",
    "    json.dump(rm_aat_nl, jf)"
   ]
  },
  {
   "cell_type": "markdown",
   "metadata": {},
   "source": [
    "#### PWN"
   ]
  },
  {
   "cell_type": "code",
   "execution_count": null,
   "metadata": {},
   "outputs": [],
   "source": [
    "# Importing LODlitParser pwn31 module \n",
    "# this code is taken from\n",
    "# https://stackoverflow.com/questions/67631/how-can-i-import-a-module-dynamically-given-the-full-path\n",
    "import importlib.util\n",
    "import sys\n",
    "spec = importlib.util.spec_from_file_location(\"LODlitParser.pwn31\", \"/Users/anesterov/reps/LODlit/LODlitParser/pwn31.py\")\n",
    "pwn31 = importlib.util.module_from_spec(spec)\n",
    "sys.modules[\"LODlitParser.pwn31\"] = pwn31\n",
    "spec.loader.exec_module(pwn31)"
   ]
  },
  {
   "cell_type": "code",
   "execution_count": null,
   "metadata": {},
   "outputs": [],
   "source": [
    "rm_pwn = pwn31.get_lit_related_matches_bow()"
   ]
  },
  {
   "cell_type": "code",
   "execution_count": null,
   "metadata": {},
   "outputs": [],
   "source": [
    "with open('rm_bows_pwn.json', 'w') as jf:\n",
    "    json.dump(rm_pwn, jf)"
   ]
  },
  {
   "cell_type": "markdown",
   "metadata": {},
   "source": [
    "#### ODWN"
   ]
  },
  {
   "cell_type": "code",
   "execution_count": null,
   "metadata": {},
   "outputs": [],
   "source": [
    "# Importing LODlitParser pwn31 module \n",
    "# this code is taken from\n",
    "# https://stackoverflow.com/questions/67631/how-can-i-import-a-module-dynamically-given-the-full-path\n",
    "import importlib.util\n",
    "import sys\n",
    "spec = importlib.util.spec_from_file_location(\"LODlitParser.odwn\", \"/Users/anesterov/reps/LODlit/LODlitParser/odwn.py\")\n",
    "odwn = importlib.util.module_from_spec(spec)\n",
    "sys.modules[\"LODlitParser.odwn\"] = odwn\n",
    "spec.loader.exec_module(odwn)"
   ]
  },
  {
   "cell_type": "code",
   "execution_count": null,
   "metadata": {},
   "outputs": [],
   "source": [
    "rm_odwn = odwn.get_lit_related_matches_bow()"
   ]
  },
  {
   "cell_type": "code",
   "execution_count": null,
   "metadata": {},
   "outputs": [],
   "source": [
    "with open('rm_bows_odwn.json', 'w') as jf:\n",
    "    json.dump(rm_odwn, jf)"
   ]
  },
  {
   "cell_type": "markdown",
   "metadata": {},
   "source": [
    "#### Common file with all related matches BoWs"
   ]
  },
  {
   "cell_type": "code",
   "execution_count": null,
   "metadata": {},
   "outputs": [],
   "source": [
    "# reading all files\n",
    "with open('rm_bows_wikidata_en.json','r') as jf:\n",
    "    rm_wikidata_en = json.load(jf)\n",
    "with open('rm_bows_wikidata_nl.json','r') as jf:\n",
    "    rm_wikidata_nl = json.load(jf)\n",
    "with open('rm_bows_aat_en.json','r') as jf:\n",
    "    rm_aat_en = json.load(jf)\n",
    "with open('rm_bows_aat_nl.json','r') as jf:\n",
    "    rm_aat_nl = json.load(jf)\n",
    "with open('rm_bows_pwn.json','r') as jf:\n",
    "    rm_pwn = json.load(jf)\n",
    "with open('rm_bows_odwn.json','r') as jf:\n",
    "    rm_odwn = json.load(jf)"
   ]
  },
  {
   "cell_type": "code",
   "execution_count": null,
   "metadata": {},
   "outputs": [],
   "source": [
    "# {\"en\":{\"term\":{\"wikidata\":[], \"aat\":[], \"pwn\":[]}}"
   ]
  },
  {
   "cell_type": "code",
   "execution_count": null,
   "metadata": {},
   "outputs": [],
   "source": [
    "# getting a list of terms\n",
    "en_terms = list(rm_wikidata_en.keys())\n",
    "nl_terms = list(rm_wikidata_nl.keys())"
   ]
  },
  {
   "cell_type": "code",
   "execution_count": null,
   "metadata": {},
   "outputs": [],
   "source": [
    "all_rm = {}\n",
    "all_rm[\"en\"] = {}\n",
    "all_rm[\"nl\"] = {}\n",
    "\n",
    "for term in en_terms:\n",
    "    dict_per_term = {}\n",
    "    dict_per_term[term] = {}\n",
    "    dict_per_term[term][\"wikidata\"] = rm_wikidata_en[term][\"bow\"]\n",
    "    \n",
    "    if term in rm_aat_en.keys():\n",
    "        dict_per_term[term][\"aat\"] = rm_aat_en[term][\"bow\"]\n",
    "        \n",
    "    if term in rm_pwn.keys():\n",
    "        dict_per_term[term][\"pwn\"] = rm_pwn[term]\n",
    "    \n",
    "    all_rm[\"en\"].update(dict_per_term)\n",
    "    \n",
    "for term in nl_terms:\n",
    "    dict_per_term = {}\n",
    "    dict_per_term[term] = {}\n",
    "    dict_per_term[term][\"wikidata\"] = rm_wikidata_nl[term][\"bow\"]\n",
    "    \n",
    "    if term in rm_aat_nl.keys():\n",
    "        dict_per_term[term][\"aat\"] = rm_aat_nl[term][\"bow\"]\n",
    "        \n",
    "    if term in rm_odwn.keys():\n",
    "        dict_per_term[term][\"odwn\"] = rm_odwn[term]\n",
    "    \n",
    "    all_rm[\"nl\"].update(dict_per_term)"
   ]
  },
  {
   "cell_type": "code",
   "execution_count": null,
   "metadata": {},
   "outputs": [],
   "source": [
    "with open('rm_bows_all.json', 'w') as jf:\n",
    "    json.dump(all_rm, jf)"
   ]
  },
  {
   "cell_type": "code",
   "execution_count": null,
   "metadata": {},
   "outputs": [],
   "source": []
  }
 ],
 "metadata": {
  "kernelspec": {
   "display_name": "Python 3",
   "language": "python",
   "name": "python3"
  },
  "language_info": {
   "codemirror_mode": {
    "name": "ipython",
    "version": 3
   },
   "file_extension": ".py",
   "mimetype": "text/x-python",
   "name": "python",
   "nbconvert_exporter": "python",
   "pygments_lexer": "ipython3",
   "version": "3.8.5"
  }
 },
 "nbformat": 4,
 "nbformat_minor": 4
}
