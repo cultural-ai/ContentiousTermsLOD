{
 "cells": [
  {
   "cell_type": "code",
   "execution_count": 5,
   "metadata": {},
   "outputs": [],
   "source": [
    "import json"
   ]
  },
  {
   "cell_type": "code",
   "execution_count": 2,
   "metadata": {},
   "outputs": [],
   "source": [
    "import importlib.util\n",
    "import sys"
   ]
  },
  {
   "cell_type": "code",
   "execution_count": 4,
   "metadata": {},
   "outputs": [],
   "source": [
    "# Importing LODlitParser AAT and bows modules \n",
    "# this code is taken from\n",
    "# https://stackoverflow.com/questions/67631/how-can-i-import-a-module-dynamically-given-the-full-path\n",
    "\n",
    "# aat\n",
    "spec_aat = importlib.util.spec_from_file_location(\"LODlitParser.aat\", \"/Users/anesterov/reps/LODlit/LODlitParser/aat.py\")\n",
    "aat = importlib.util.module_from_spec(spec_aat)\n",
    "sys.modules[\"LODlitParser.aat\"] = aat\n",
    "spec_aat.loader.exec_module(aat)\n",
    "\n",
    "# bows\n",
    "spec_bows = importlib.util.spec_from_file_location(\"LODlitParser.bows\", \"/Users/anesterov/reps/LODlit/LODlitParser/bows.py\")\n",
    "bows = importlib.util.module_from_spec(spec_bows)\n",
    "sys.modules[\"LODlitParser.bows\"] = bows\n",
    "spec_bows.loader.exec_module(bows)"
   ]
  },
  {
   "cell_type": "code",
   "execution_count": null,
   "metadata": {},
   "outputs": [],
   "source": [
    "# changing the aat function"
   ]
  },
  {
   "cell_type": "code",
   "execution_count": 6,
   "metadata": {},
   "outputs": [],
   "source": [
    "with open('/Users/anesterov/reps/LODlit/AAT/aat_query_results_en.json','r') as jf:\n",
    "    aat_search_results = json.load(jf)"
   ]
  },
  {
   "cell_type": "code",
   "execution_count": 11,
   "metadata": {},
   "outputs": [],
   "source": [
    "for hit in aat_search_results[\"batavia\"]:\n",
    "    \n",
    "    literals = []\n",
    "        \n",
    "    literals.append(hit[\"prefLabel\"])\n",
    "    literals.append(hit[\"prefLabel_comment\"])\n",
    "    literals.append(hit[\"scopeNote\"])\n",
    "    literals.extend(hit[\"altLabel\"])\n",
    "    literals.extend(hit[\"altLabel_comment\"])"
   ]
  },
  {
   "cell_type": "code",
   "execution_count": 15,
   "metadata": {
    "scrolled": true
   },
   "outputs": [
    {
     "data": {
      "text/plain": [
       "['batavia',\n",
       " 'dammar',\n",
       " 'general',\n",
       " 'term',\n",
       " 'referring',\n",
       " 'various',\n",
       " 'dammar',\n",
       " 'resin',\n",
       " 'formerly',\n",
       " 'shipped',\n",
       " 'tradename',\n",
       " 'batavia',\n",
       " 'jakarta',\n",
       " 'formerly',\n",
       " 'batavia',\n",
       " 'indonesia',\n",
       " 'general',\n",
       " 'term',\n",
       " 'referring',\n",
       " 'various',\n",
       " 'dammar',\n",
       " 'resin',\n",
       " 'formerly',\n",
       " 'shipped',\n",
       " 'tradename',\n",
       " 'batavia',\n",
       " 'jakarta',\n",
       " 'formerly',\n",
       " 'batavia',\n",
       " 'indonesia',\n",
       " 'batavia',\n",
       " 'damar',\n",
       " 'dammar',\n",
       " 'batavia']"
      ]
     },
     "execution_count": 15,
     "metadata": {},
     "output_type": "execute_result"
    }
   ],
   "source": [
    "bows.make_bows(literals,\"en\",merge_bows=True)"
   ]
  },
  {
   "cell_type": "code",
   "execution_count": 66,
   "metadata": {},
   "outputs": [
    {
     "name": "stdout",
     "output_type": "stream",
     "text": [
      "Unique tokens: 16089\n"
     ]
    }
   ],
   "source": [
    "all_docs = []\n",
    "all_tokens = []\n",
    "    \n",
    "for value in aat_search_results.values():\n",
    "    for hit in value:\n",
    "        if hit[\"scopeNote\"] != \"\" and hit[\"scopeNote\"] not in all_docs:\n",
    "            scopeNote_bow = bows.make_bows([hit[\"scopeNote\"]],\"en\",merge_bows=True)\n",
    "            all_docs.append(scopeNote_bow)\n",
    "            # collecting all unique tokens\n",
    "            for token in scopeNote_bow:\n",
    "                if token not in all_tokens:\n",
    "                    all_tokens.append(token)\n",
    "\n",
    "print(f\"Unique tokens: {len(all_tokens)}\")    "
   ]
  },
  {
   "cell_type": "code",
   "execution_count": 98,
   "metadata": {
    "scrolled": true
   },
   "outputs": [
    {
     "data": {
      "text/plain": [
       "['general',\n",
       " 'term',\n",
       " 'referring',\n",
       " 'various',\n",
       " 'dammar',\n",
       " 'resin',\n",
       " 'formerly',\n",
       " 'shipped',\n",
       " 'tradename',\n",
       " 'batavia',\n",
       " 'jakarta',\n",
       " 'formerly',\n",
       " 'batavia',\n",
       " 'indonesia',\n",
       " 'general',\n",
       " 'term',\n",
       " 'referring',\n",
       " 'various',\n",
       " 'dammar',\n",
       " 'resin',\n",
       " 'formerly',\n",
       " 'shipped',\n",
       " 'tradename',\n",
       " 'batavia',\n",
       " 'jakarta',\n",
       " 'formerly',\n",
       " 'batavia',\n",
       " 'indonesia']"
      ]
     },
     "execution_count": 98,
     "metadata": {},
     "output_type": "execute_result"
    }
   ],
   "source": [
    "all_docs[0]"
   ]
  },
  {
   "cell_type": "code",
   "execution_count": 52,
   "metadata": {},
   "outputs": [],
   "source": [
    "big_bow = bows.make_bows(all_docs,\"en\",merge_bows=True)"
   ]
  },
  {
   "cell_type": "code",
   "execution_count": 54,
   "metadata": {},
   "outputs": [
    {
     "data": {
      "text/plain": [
       "16089"
      ]
     },
     "execution_count": 54,
     "metadata": {},
     "output_type": "execute_result"
    }
   ],
   "source": [
    "len(set(big_bow))"
   ]
  },
  {
   "cell_type": "code",
   "execution_count": 68,
   "metadata": {},
   "outputs": [],
   "source": [
    "# Making a dict with document frequency (DF) scores for every unique token\n",
    "doc_freq = {}\n",
    "for token in all_tokens:\n",
    "    token_count = 0\n",
    "    for bow in all_docs:\n",
    "        if token in bow:\n",
    "            token_count += 1\n",
    "    doc_freq[token] = token_count"
   ]
  },
  {
   "cell_type": "code",
   "execution_count": 91,
   "metadata": {},
   "outputs": [
    {
     "data": {
      "text/plain": [
       "195"
      ]
     },
     "execution_count": 91,
     "metadata": {},
     "output_type": "execute_result"
    }
   ],
   "source": [
    "doc_freq[\"general\"]"
   ]
  },
  {
   "cell_type": "code",
   "execution_count": 147,
   "metadata": {},
   "outputs": [],
   "source": [
    "test_note = aat_search_results[\"aboriginal\"][20][\"scopeNote\"]"
   ]
  },
  {
   "cell_type": "code",
   "execution_count": 148,
   "metadata": {},
   "outputs": [],
   "source": [
    "bowed = bows.make_bows([test_note],\"en\",merge_bows=True)"
   ]
  },
  {
   "cell_type": "code",
   "execution_count": 149,
   "metadata": {},
   "outputs": [
    {
     "data": {
      "text/plain": [
       "['general',\n",
       " 'designation',\n",
       " 'race',\n",
       " 'ethnicity',\n",
       " 'style',\n",
       " 'culture',\n",
       " 'heritage',\n",
       " 'people',\n",
       " 'sub',\n",
       " 'saharan',\n",
       " 'african',\n",
       " 'origin',\n",
       " 'descent',\n",
       " 'place',\n",
       " 'outside',\n",
       " 'africa',\n",
       " 'member',\n",
       " 'dark',\n",
       " 'skinned',\n",
       " 'group',\n",
       " 'people',\n",
       " 'including',\n",
       " 'australian',\n",
       " 'aboriginal',\n",
       " 'origin',\n",
       " 'descent']"
      ]
     },
     "execution_count": 149,
     "metadata": {},
     "output_type": "execute_result"
    }
   ],
   "source": [
    "bowed"
   ]
  },
  {
   "cell_type": "code",
   "execution_count": 150,
   "metadata": {
    "scrolled": true
   },
   "outputs": [
    {
     "data": {
      "text/plain": [
       "['descent',\n",
       " 'origin',\n",
       " 'saharan',\n",
       " 'designation',\n",
       " 'skinned',\n",
       " 'heritage',\n",
       " 'sub',\n",
       " 'australian',\n",
       " 'outside',\n",
       " 'ethnicity']"
      ]
     },
     "execution_count": 150,
     "metadata": {},
     "output_type": "execute_result"
    }
   ],
   "source": [
    "bows.get_top_tokens_tfidf(bowed,doc_freq,len(all_docs))"
   ]
  },
  {
   "cell_type": "code",
   "execution_count": 64,
   "metadata": {},
   "outputs": [
    {
     "name": "stdout",
     "output_type": "stream",
     "text": [
      "['Inuksuit are constructed to act as waypoints, message centers, spiritual veneration, or as hunting decoys', 'Groups of stacked stones or boulders in a figural form, constructed by Inuit individuals', 'The oldest inuksuit date from 2400 to 1800 years ago']\n",
      "['', 'Often includes a lid topped with a carved, ivory finial; these finials are usually figurative, taking the forms of various Arctic animals', 'The first baleen baskets were woven by Inuit men in the 1910s following tourist interest', 'Baskets constructed of baleen that is coiled around an ivory base']\n",
      "[]\n",
      "[]\n",
      "['', 'Often decorated with beadwork and fringe detailing', 'Parkas characterized by broad shoulders and case on the back meant to carry an infant; created and worn by Inuit communities in North America']\n",
      "[]\n",
      "[]\n",
      "[]\n",
      "['Sometimes a bead or circular depression is placed in the middle of the paw shape, relating to pierced hand designs common in Alaska Native and Inuit material culture', 'Often, claws of other animals such as seals are lashed to these points with fiber', 'Used to imitate the sounds of seals scratching the ice and attract the attention of seals when hunting', 'Hunting tools used by Alaska Native and Inuit communities', \"Consists of a carved wooden handle, usually in the shape of an animal's paw, terminating in several carved points imitating the appearance of claws\"]\n",
      "[]\n",
      "[]\n",
      "['Refers to artwork produced by native Arctic culture, prior to European contact', 'For names of specific native peoples of the present, use descriptors such as \"Chugach,\" \"Inuit,\" or \"Katladlit', '\"']\n",
      "['Native cultures and styles of Greenland']\n",
      "[]\n",
      "[]\n",
      "[]\n",
      "['Hair of the caribou or reindeer, used by the Inuit people for clothing']\n",
      "['Refers to products of the Inuit people living along the northern coast of Labrador, now part of Quebec and Newfoundland', 'Originally a hunting culture focused on bowhead whales']\n",
      "['Refers to products of the Inuit people living along the northern coast of Labrador, now part of Quebec and Newfoundland', 'Originally a hunting culture focused on bowhead whales']\n",
      "['Refers to products of the Inuit people living along the northern coast of Labrador, now part of Quebec and Newfoundland', 'Originally a hunting culture focused on bowhead whales']\n",
      "['One of several groups of Inuit who live on the Arctic coast of Canada west of Hudson Bay']\n",
      "['One of several groups of Inuit who live on the Arctic coast of Canada west of Hudson Bay']\n",
      "['Style and culture of the native people who live along the shores of Ungava Bay, on the south shore of Hudson Strait, and on the eastern coast of Hudson Bay', 'Culturally close to the Inuit southeast of Baffin Island and to the Labrador Inuit, the Ungava nevertheless differ from these tribes in a number of linguistic and technological respects and in their social and religious customs', 'They exploit the resources of the vast area north of the treeline, especially sea mammals in the coastal waters, and also move inland to hunt caribou and at times penetrate the traditional Cree and Montagnais-Naskapi lands south of the treeline']\n",
      "['Style and culture of the native people who live along the shores of Ungava Bay, on the south shore of Hudson Strait, and on the eastern coast of Hudson Bay', 'Culturally close to the Inuit southeast of Baffin Island and to the Labrador Inuit, the Ungava nevertheless differ from these tribes in a number of linguistic and technological respects and in their social and religious customs', 'They exploit the resources of the vast area north of the treeline, especially sea mammals in the coastal waters, and also move inland to hunt caribou and at times penetrate the traditional Cree and Montagnais-Naskapi lands south of the treeline']\n",
      "['Style and culture of the native people who live along the shores of Ungava Bay, on the south shore of Hudson Strait, and on the eastern coast of Hudson Bay', 'Culturally close to the Inuit southeast of Baffin Island and to the Labrador Inuit, the Ungava nevertheless differ from these tribes in a number of linguistic and technological respects and in their social and religious customs', 'They exploit the resources of the vast area north of the treeline, especially sea mammals in the coastal waters, and also move inland to hunt caribou and at times penetrate the traditional Cree and Montagnais-Naskapi lands south of the treeline']\n",
      "['Style and culture of the native people who live along the shores of Ungava Bay, on the south shore of Hudson Strait, and on the eastern coast of Hudson Bay', 'Culturally close to the Inuit southeast of Baffin Island and to the Labrador Inuit, the Ungava nevertheless differ from these tribes in a number of linguistic and technological respects and in their social and religious customs', 'They exploit the resources of the vast area north of the treeline, especially sea mammals in the coastal waters, and also move inland to hunt caribou and at times penetrate the traditional Cree and Montagnais-Naskapi lands south of the treeline']\n",
      "[]\n",
      "[]\n",
      "[]\n",
      "[]\n",
      "[]\n",
      "['The term was originally used by the Tungus people of Siberia', 'Shamanism is also found amongst the pre-Chrisitian Lapps, the Inuit, the Plains Indians of North America, some Australian Aborigines, and some other peoples', 'Refers generally to the religious practices of some northern Asian peoples who believe that good and evil spirits inhabit the world and can be summoned or heard through inspired priests acting as mediums']\n",
      "['An Eskimo-Aleut language spoken by Greenlandic Inuit people']\n",
      "[]\n"
     ]
    }
   ],
   "source": [
    "for hit in aat_search_results[\"inuit\"]:\n",
    "    modified_note = list(set([sent.lstrip(' ') for sent in hit[\"scopeNote\"].split('.') if sent != '']))\n",
    "    print(modified_note)"
   ]
  },
  {
   "cell_type": "code",
   "execution_count": null,
   "metadata": {},
   "outputs": [],
   "source": [
    "def get_bows(path_to_results:str, lang:str) -> dict:\n",
    "    '''\n",
    "    Getting bag of words (BoW) from the AAT search results for every search term\n",
    "    path_to_results: str, a path to the search results (in json format)\n",
    "    lang: str, 'en' or 'nl'\n",
    "    Returns a dict with BoWs per hit per term: {term:[{aat_URI:['token1','token2','token3']}]}\n",
    "    '''\n",
    "    \n",
    "    wnl = WordNetLemmatizer()\n",
    "    all_bows = {}\n",
    "   \n",
    "    with open(path_to_results,'r') as jf:\n",
    "        search_results = json.load(jf)\n",
    "\n",
    "    for query_term, results in search_results.items():\n",
    "\n",
    "        list_by_term = []\n",
    "\n",
    "        for hit in results:\n",
    "            q_bag = {}\n",
    "            literals = []\n",
    "            \n",
    "            if hit[\"prefLabel\"] != \"\":\n",
    "                literals.append(hit[\"prefLabel\"]) \n",
    "            if hit[\"prefLabel_comment\"] != \"\":\n",
    "                literals.append(hit[\"prefLabel_comment\"])\n",
    "            if hit[\"scopeNote\"] != \"\":\n",
    "                literals.append(hit[\"scopeNote\"])\n",
    "            # altLabel and altLabel comments are lists\n",
    "            if hit[\"altLabel\"] != []:\n",
    "                literals.extend(hit[\"altLabel\"])\n",
    "            if hit[\"altLabel_comment\"] != \"\":\n",
    "                literals.extend(hit[\"altLabel_comment\"])\n",
    "\n",
    "            bow = []\n",
    "            for lit in literals:\n",
    "                bow.extend(lit.replace('(','').replace(')','').replace('-',' ').replace('/',' ')\\\n",
    "                           .replace(',','').lower().split(' '))\n",
    "\n",
    "            # checking lang for stopwords\n",
    "            if lang == 'en':\n",
    "                bag_filtered = [wnl.lemmatize(w) for w in bow if w not in stopwords.words('english') \\\n",
    "                                    and re.search('(\\W|\\d)',w) == None and w != '']\n",
    "            if lang == 'nl':\n",
    "                bag_filtered = [simplemma.lemmatize(w,lang='nl') for w in bow if w not in stopwords.words('dutch') \\\n",
    "                                    and re.search('(\\W|\\d)',w) == None and w != '']\n",
    "\n",
    "            q_bag[hit[\"aat_uri\"]] = bag_filtered\n",
    "\n",
    "            list_by_term.append(q_bag)\n",
    "\n",
    "        all_bows[query_term] = list_by_term\n",
    "\n",
    "    return all_bows"
   ]
  },
  {
   "cell_type": "code",
   "execution_count": null,
   "metadata": {},
   "outputs": [],
   "source": [
    "def get_unique_tokens_and_docs(source:dict) -> tuple:\n",
    "    '''\n",
    "    Gets unique tokens and documents in a file\n",
    "    source: dict\n",
    "    Prints N of unique tokens\n",
    "    Returns a tuple, where 0: list of tokens (str), 1: list of documents (list)\n",
    "    '''\n",
    "    all_docs = []\n",
    "    all_tokens = []\n",
    "    \n",
    "    for value in source.values():\n",
    "        # taking only unique bows\n",
    "        for bow in value[\"bow\"]:\n",
    "            if bow not in all_docs:\n",
    "                all_docs.append(bow)\n",
    "                # collecting all unique tokens\n",
    "                for token in bow:\n",
    "                    if token not in all_tokens:\n",
    "                        all_tokens.append(token)\n",
    "    \n",
    "    print(f\"Unique tokens: {len(all_tokens)}\")\n",
    "    \n",
    "    tokens_docs = (all_tokens, all_docs) \n",
    "    \n",
    "    return tokens_docs"
   ]
  }
 ],
 "metadata": {
  "kernelspec": {
   "display_name": "Python 3",
   "language": "python",
   "name": "python3"
  },
  "language_info": {
   "codemirror_mode": {
    "name": "ipython",
    "version": 3
   },
   "file_extension": ".py",
   "mimetype": "text/x-python",
   "name": "python",
   "nbconvert_exporter": "python",
   "pygments_lexer": "ipython3",
   "version": "3.8.5"
  }
 },
 "nbformat": 4,
 "nbformat_minor": 4
}
