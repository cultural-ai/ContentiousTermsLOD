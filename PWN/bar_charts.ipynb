{
 "cells": [
  {
   "cell_type": "code",
   "execution_count": 1,
   "metadata": {},
   "outputs": [],
   "source": [
    "import json\n",
    "import csv\n",
    "import pandas as pd\n",
    "import sys\n",
    "import plotly.graph_objects as go\n",
    "from IPython.display import Image"
   ]
  },
  {
   "cell_type": "code",
   "execution_count": 2,
   "metadata": {},
   "outputs": [],
   "source": [
    "n_hits_by_lemma = pd.read_csv('/Users/anesterov/reps/LODlit/PWN/pwn31_hits_by_lemma.csv')"
   ]
  },
  {
   "cell_type": "code",
   "execution_count": 7,
   "metadata": {},
   "outputs": [],
   "source": [
    "n_hits_by_lemma.sort_values(\"total_lemma\", ascending=True, inplace=True)"
   ]
  },
  {
   "cell_type": "code",
   "execution_count": 5,
   "metadata": {},
   "outputs": [
    {
     "data": {
      "text/html": [
       "<div>\n",
       "<style scoped>\n",
       "    .dataframe tbody tr th:only-of-type {\n",
       "        vertical-align: middle;\n",
       "    }\n",
       "\n",
       "    .dataframe tbody tr th {\n",
       "        vertical-align: top;\n",
       "    }\n",
       "\n",
       "    .dataframe thead th {\n",
       "        text-align: right;\n",
       "    }\n",
       "</style>\n",
       "<table border=\"1\" class=\"dataframe\">\n",
       "  <thead>\n",
       "    <tr style=\"text-align: right;\">\n",
       "      <th></th>\n",
       "      <th>lemma</th>\n",
       "      <th>synset_lemmas</th>\n",
       "      <th>definitions</th>\n",
       "      <th>examples</th>\n",
       "      <th>total_lemma</th>\n",
       "    </tr>\n",
       "  </thead>\n",
       "  <tbody>\n",
       "    <tr>\n",
       "      <th>74</th>\n",
       "      <td>white</td>\n",
       "      <td>25</td>\n",
       "      <td>1466</td>\n",
       "      <td>0</td>\n",
       "      <td>1491</td>\n",
       "    </tr>\n",
       "    <tr>\n",
       "      <th>73</th>\n",
       "      <td>western</td>\n",
       "      <td>6</td>\n",
       "      <td>718</td>\n",
       "      <td>0</td>\n",
       "      <td>724</td>\n",
       "    </tr>\n",
       "    <tr>\n",
       "      <th>6</th>\n",
       "      <td>black</td>\n",
       "      <td>22</td>\n",
       "      <td>601</td>\n",
       "      <td>0</td>\n",
       "      <td>623</td>\n",
       "    </tr>\n",
       "    <tr>\n",
       "      <th>53</th>\n",
       "      <td>native</td>\n",
       "      <td>7</td>\n",
       "      <td>596</td>\n",
       "      <td>0</td>\n",
       "      <td>603</td>\n",
       "    </tr>\n",
       "    <tr>\n",
       "      <th>12</th>\n",
       "      <td>colored</td>\n",
       "      <td>4</td>\n",
       "      <td>334</td>\n",
       "      <td>0</td>\n",
       "      <td>338</td>\n",
       "    </tr>\n",
       "  </tbody>\n",
       "</table>\n",
       "</div>"
      ],
      "text/plain": [
       "      lemma  synset_lemmas  definitions  examples  total_lemma\n",
       "74    white             25         1466         0         1491\n",
       "73  western              6          718         0          724\n",
       "6     black             22          601         0          623\n",
       "53   native              7          596         0          603\n",
       "12  colored              4          334         0          338"
      ]
     },
     "execution_count": 5,
     "metadata": {},
     "output_type": "execute_result"
    }
   ],
   "source": [
    "n_hits_by_lemma.head()"
   ]
  },
  {
   "cell_type": "code",
   "execution_count": 10,
   "metadata": {},
   "outputs": [],
   "source": [
    "# proportional chart\n",
    "n_hits_by_lemma_p = n_hits_by_lemma.assign(synset_lemmas_p=lambda x: x.synset_lemmas / x.total_lemma * 100,\n",
    "                                               definitions_p=lambda x: x.definitions / x.total_lemma * 100,\n",
    "                                               examples_p=lambda x: x.examples / x.total_lemma * 100)"
   ]
  },
  {
   "cell_type": "code",
   "execution_count": 13,
   "metadata": {},
   "outputs": [
    {
     "data": {
      "application/vnd.plotly.v1+json": {
       "config": {
        "plotlyServerURL": "https://plot.ly"
       },
       "data": [
        {
         "hoverinfo": "text",
         "hovertext": [
          "0",
          "0",
          "0",
          "0",
          "0",
          "0",
          "0",
          "0",
          "0",
          "0",
          "0",
          "1",
          "0",
          "1",
          "1",
          "0",
          "1",
          "1",
          "2",
          "1",
          "2",
          "2",
          "1",
          "2",
          "2",
          "1",
          "1",
          "2",
          "1",
          "2",
          "2",
          "5",
          "1",
          "3",
          "5",
          "2",
          "3",
          "2",
          "5",
          "3",
          "2",
          "2",
          "3",
          "6",
          "4",
          "2",
          "1",
          "2",
          "7",
          "4",
          "1",
          "5",
          "2",
          "1",
          "6",
          "0",
          "1",
          "2",
          "0",
          "8",
          "5",
          "4",
          "4",
          "2",
          "9",
          "6",
          "7",
          "10",
          "1",
          "4",
          "4",
          "7",
          "22",
          "6",
          "25"
         ],
         "marker": {
          "color": "rgb(0,0,0)",
          "line": {
           "width": 0
          }
         },
         "name": "synset lemmas",
         "orientation": "h",
         "textfont": {
          "size": 8
         },
         "type": "bar",
         "x": [
          null,
          null,
          null,
          null,
          null,
          null,
          null,
          null,
          null,
          null,
          0,
          100,
          0,
          100,
          100,
          0,
          100,
          100,
          100,
          50,
          100,
          100,
          50,
          100,
          100,
          50,
          50,
          100,
          33.33333333333333,
          50,
          40,
          100,
          20,
          60,
          83.33333333333334,
          33.33333333333333,
          50,
          33.33333333333333,
          83.33333333333334,
          50,
          22.22222222222222,
          22.22222222222222,
          33.33333333333333,
          60,
          36.36363636363637,
          18.181818181818183,
          9.090909090909092,
          16.666666666666664,
          58.333333333333336,
          26.666666666666668,
          6.25,
          31.25,
          11.76470588235294,
          5.555555555555555,
          31.57894736842105,
          0,
          4.166666666666666,
          7.142857142857142,
          0,
          25,
          12.195121951219512,
          8.333333333333332,
          6.25,
          3.0303030303030303,
          11.842105263157894,
          7.792207792207792,
          5.64516129032258,
          5.347593582887701,
          0.5181347150259068,
          1.3114754098360655,
          1.183431952662722,
          1.1608623548922055,
          3.5313001605136436,
          0.8287292817679558,
          1.676727028839705
         ],
         "y": [
          "half-blood",
          "second world",
          "first world",
          "batavia",
          "southern rhodesia",
          "bush negro",
          "low-income countries",
          "full blood",
          "allochtoon",
          "third world",
          "developing nations",
          "mestizo",
          "medicine man",
          "métis",
          "coolie",
          "trans",
          "baboo",
          "hottentot",
          "transvestite",
          "ethnicity",
          "primitivism",
          "kaffir",
          "footmen",
          "half-breed",
          "headhunter",
          "mulatto",
          "bombay",
          "mohammedan",
          "inuit",
          "hermaphrodite",
          "negro",
          "queer",
          "calcutta",
          "barbarian",
          "lilliputian",
          "exotic",
          "aboriginal",
          "retarded",
          "mongoloid",
          "madras",
          "pygmy",
          "homo",
          "berber",
          "handicap",
          "gypsy",
          "eskimo",
          "immigrant",
          "disabled",
          "gay",
          "caucasian",
          "oriental",
          "moor",
          "homosexual",
          "burma",
          "maroon",
          "ethnic groups",
          "indigenous",
          "servant",
          "indo",
          "discover",
          "dwarf",
          "slave",
          "tribe",
          "traditional",
          "page",
          "descent",
          "primitive",
          "race",
          "roots",
          "indian",
          "colored",
          "native",
          "black",
          "western",
          "white"
         ]
        },
        {
         "hoverinfo": "text",
         "hovertext": [
          "0",
          "0",
          "0",
          "0",
          "0",
          "0",
          "0",
          "0",
          "0",
          "0",
          "1",
          "0",
          "1",
          "0",
          "0",
          "1",
          "0",
          "0",
          "0",
          "1",
          "0",
          "0",
          "1",
          "0",
          "0",
          "1",
          "1",
          "0",
          "2",
          "2",
          "3",
          "0",
          "4",
          "2",
          "1",
          "4",
          "3",
          "4",
          "1",
          "3",
          "7",
          "7",
          "6",
          "4",
          "7",
          "9",
          "10",
          "10",
          "5",
          "11",
          "15",
          "11",
          "15",
          "17",
          "13",
          "19",
          "23",
          "26",
          "29",
          "24",
          "36",
          "44",
          "60",
          "64",
          "67",
          "71",
          "117",
          "177",
          "192",
          "301",
          "334",
          "596",
          "601",
          "718",
          "1466"
         ],
         "marker": {
          "color": "rgb(128, 128, 128)",
          "line": {
           "width": 0
          }
         },
         "name": "definitions",
         "orientation": "h",
         "textfont": {
          "size": 8
         },
         "type": "bar",
         "x": [
          null,
          null,
          null,
          null,
          null,
          null,
          null,
          null,
          null,
          null,
          100,
          0,
          100,
          0,
          0,
          100,
          0,
          0,
          0,
          50,
          0,
          0,
          50,
          0,
          0,
          50,
          50,
          0,
          66.66666666666666,
          50,
          60,
          0,
          80,
          40,
          16.666666666666664,
          66.66666666666666,
          50,
          66.66666666666666,
          16.666666666666664,
          50,
          77.77777777777779,
          77.77777777777779,
          66.66666666666666,
          40,
          63.63636363636363,
          81.81818181818183,
          90.9090909090909,
          83.33333333333334,
          41.66666666666667,
          73.33333333333333,
          93.75,
          68.75,
          88.23529411764706,
          94.44444444444444,
          68.42105263157895,
          100,
          95.83333333333334,
          92.85714285714286,
          100,
          75,
          87.8048780487805,
          91.66666666666666,
          93.75,
          96.96969696969697,
          88.1578947368421,
          92.20779220779221,
          94.35483870967742,
          94.6524064171123,
          99.48186528497409,
          98.68852459016394,
          98.81656804733728,
          98.8391376451078,
          96.46869983948636,
          99.17127071823204,
          98.32327297116029
         ],
         "y": [
          "half-blood",
          "second world",
          "first world",
          "batavia",
          "southern rhodesia",
          "bush negro",
          "low-income countries",
          "full blood",
          "allochtoon",
          "third world",
          "developing nations",
          "mestizo",
          "medicine man",
          "métis",
          "coolie",
          "trans",
          "baboo",
          "hottentot",
          "transvestite",
          "ethnicity",
          "primitivism",
          "kaffir",
          "footmen",
          "half-breed",
          "headhunter",
          "mulatto",
          "bombay",
          "mohammedan",
          "inuit",
          "hermaphrodite",
          "negro",
          "queer",
          "calcutta",
          "barbarian",
          "lilliputian",
          "exotic",
          "aboriginal",
          "retarded",
          "mongoloid",
          "madras",
          "pygmy",
          "homo",
          "berber",
          "handicap",
          "gypsy",
          "eskimo",
          "immigrant",
          "disabled",
          "gay",
          "caucasian",
          "oriental",
          "moor",
          "homosexual",
          "burma",
          "maroon",
          "ethnic groups",
          "indigenous",
          "servant",
          "indo",
          "discover",
          "dwarf",
          "slave",
          "tribe",
          "traditional",
          "page",
          "descent",
          "primitive",
          "race",
          "roots",
          "indian",
          "colored",
          "native",
          "black",
          "western",
          "white"
         ]
        },
        {
         "hoverinfo": "text",
         "hovertext": [
          "0",
          "0",
          "0",
          "0",
          "0",
          "0",
          "0",
          "0",
          "0",
          "0",
          "0",
          "0",
          "0",
          "0",
          "0",
          "0",
          "0",
          "0",
          "0",
          "0",
          "0",
          "0",
          "0",
          "0",
          "0",
          "0",
          "0",
          "0",
          "0",
          "0",
          "0",
          "0",
          "0",
          "0",
          "0",
          "0",
          "0",
          "0",
          "0",
          "0",
          "0",
          "0",
          "0",
          "0",
          "0",
          "0",
          "0",
          "0",
          "0",
          "0",
          "0",
          "0",
          "0",
          "0",
          "0",
          "0",
          "0",
          "0",
          "0",
          "0",
          "0",
          "0",
          "0",
          "0",
          "0",
          "0",
          "0",
          "0",
          "0",
          "0",
          "0",
          "0",
          "0",
          "0",
          "0"
         ],
         "marker": {
          "color": "rgb(224, 224, 224)",
          "line": {
           "width": 0
          }
         },
         "name": "examples",
         "orientation": "h",
         "text": [
          "0",
          "0",
          "0",
          "0",
          "0",
          "0",
          "0",
          "0",
          "0",
          "0",
          "1",
          "1",
          "1",
          "1",
          "1",
          "1",
          "1",
          "1",
          "2",
          "2",
          "2",
          "2",
          "2",
          "2",
          "2",
          "2",
          "2",
          "2",
          "3",
          "4",
          "5",
          "5",
          "5",
          "5",
          "6",
          "6",
          "6",
          "6",
          "6",
          "6",
          "9",
          "9",
          "9",
          "10",
          "11",
          "11",
          "11",
          "12",
          "12",
          "15",
          "16",
          "16",
          "17",
          "18",
          "19",
          "19",
          "24",
          "28",
          "29",
          "32",
          "41",
          "48",
          "64",
          "66",
          "76",
          "77",
          "124",
          "187",
          "193",
          "305",
          "338",
          "603",
          "623",
          "724",
          "1491"
         ],
         "textfont": {
          "size": 8
         },
         "textposition": "outside",
         "type": "bar",
         "x": [
          null,
          null,
          null,
          null,
          null,
          null,
          null,
          null,
          null,
          null,
          0,
          0,
          0,
          0,
          0,
          0,
          0,
          0,
          0,
          0,
          0,
          0,
          0,
          0,
          0,
          0,
          0,
          0,
          0,
          0,
          0,
          0,
          0,
          0,
          0,
          0,
          0,
          0,
          0,
          0,
          0,
          0,
          0,
          0,
          0,
          0,
          0,
          0,
          0,
          0,
          0,
          0,
          0,
          0,
          0,
          0,
          0,
          0,
          0,
          0,
          0,
          0,
          0,
          0,
          0,
          0,
          0,
          0,
          0,
          0,
          0,
          0,
          0,
          0,
          0
         ],
         "y": [
          "half-blood",
          "second world",
          "first world",
          "batavia",
          "southern rhodesia",
          "bush negro",
          "low-income countries",
          "full blood",
          "allochtoon",
          "third world",
          "developing nations",
          "mestizo",
          "medicine man",
          "métis",
          "coolie",
          "trans",
          "baboo",
          "hottentot",
          "transvestite",
          "ethnicity",
          "primitivism",
          "kaffir",
          "footmen",
          "half-breed",
          "headhunter",
          "mulatto",
          "bombay",
          "mohammedan",
          "inuit",
          "hermaphrodite",
          "negro",
          "queer",
          "calcutta",
          "barbarian",
          "lilliputian",
          "exotic",
          "aboriginal",
          "retarded",
          "mongoloid",
          "madras",
          "pygmy",
          "homo",
          "berber",
          "handicap",
          "gypsy",
          "eskimo",
          "immigrant",
          "disabled",
          "gay",
          "caucasian",
          "oriental",
          "moor",
          "homosexual",
          "burma",
          "maroon",
          "ethnic groups",
          "indigenous",
          "servant",
          "indo",
          "discover",
          "dwarf",
          "slave",
          "tribe",
          "traditional",
          "page",
          "descent",
          "primitive",
          "race",
          "roots",
          "indian",
          "colored",
          "native",
          "black",
          "western",
          "white"
         ]
        }
       ],
       "layout": {
        "bargap": 0.2,
        "barmode": "stack",
        "font": {
         "color": "black",
         "family": "Arial",
         "size": 7
        },
        "height": 1230,
        "legend": {
         "font": {
          "color": "black",
          "family": "Arial",
          "size": 8
         },
         "itemsizing": "constant",
         "itemwidth": 30,
         "orientation": "h",
         "traceorder": "normal",
         "x": -0.03,
         "xanchor": "left",
         "y": 1.03,
         "yanchor": "top"
        },
        "margin": {
         "b": 0,
         "l": 0,
         "pad": 1,
         "r": 0,
         "t": 60
        },
        "paper_bgcolor": "rgb(255, 255, 255)",
        "plot_bgcolor": "rgb(255, 255, 255)",
        "template": {
         "data": {
          "bar": [
           {
            "error_x": {
             "color": "#2a3f5f"
            },
            "error_y": {
             "color": "#2a3f5f"
            },
            "marker": {
             "line": {
              "color": "#E5ECF6",
              "width": 0.5
             },
             "pattern": {
              "fillmode": "overlay",
              "size": 10,
              "solidity": 0.2
             }
            },
            "type": "bar"
           }
          ],
          "barpolar": [
           {
            "marker": {
             "line": {
              "color": "#E5ECF6",
              "width": 0.5
             },
             "pattern": {
              "fillmode": "overlay",
              "size": 10,
              "solidity": 0.2
             }
            },
            "type": "barpolar"
           }
          ],
          "carpet": [
           {
            "aaxis": {
             "endlinecolor": "#2a3f5f",
             "gridcolor": "white",
             "linecolor": "white",
             "minorgridcolor": "white",
             "startlinecolor": "#2a3f5f"
            },
            "baxis": {
             "endlinecolor": "#2a3f5f",
             "gridcolor": "white",
             "linecolor": "white",
             "minorgridcolor": "white",
             "startlinecolor": "#2a3f5f"
            },
            "type": "carpet"
           }
          ],
          "choropleth": [
           {
            "colorbar": {
             "outlinewidth": 0,
             "ticks": ""
            },
            "type": "choropleth"
           }
          ],
          "contour": [
           {
            "colorbar": {
             "outlinewidth": 0,
             "ticks": ""
            },
            "colorscale": [
             [
              0,
              "#0d0887"
             ],
             [
              0.1111111111111111,
              "#46039f"
             ],
             [
              0.2222222222222222,
              "#7201a8"
             ],
             [
              0.3333333333333333,
              "#9c179e"
             ],
             [
              0.4444444444444444,
              "#bd3786"
             ],
             [
              0.5555555555555556,
              "#d8576b"
             ],
             [
              0.6666666666666666,
              "#ed7953"
             ],
             [
              0.7777777777777778,
              "#fb9f3a"
             ],
             [
              0.8888888888888888,
              "#fdca26"
             ],
             [
              1,
              "#f0f921"
             ]
            ],
            "type": "contour"
           }
          ],
          "contourcarpet": [
           {
            "colorbar": {
             "outlinewidth": 0,
             "ticks": ""
            },
            "type": "contourcarpet"
           }
          ],
          "heatmap": [
           {
            "colorbar": {
             "outlinewidth": 0,
             "ticks": ""
            },
            "colorscale": [
             [
              0,
              "#0d0887"
             ],
             [
              0.1111111111111111,
              "#46039f"
             ],
             [
              0.2222222222222222,
              "#7201a8"
             ],
             [
              0.3333333333333333,
              "#9c179e"
             ],
             [
              0.4444444444444444,
              "#bd3786"
             ],
             [
              0.5555555555555556,
              "#d8576b"
             ],
             [
              0.6666666666666666,
              "#ed7953"
             ],
             [
              0.7777777777777778,
              "#fb9f3a"
             ],
             [
              0.8888888888888888,
              "#fdca26"
             ],
             [
              1,
              "#f0f921"
             ]
            ],
            "type": "heatmap"
           }
          ],
          "heatmapgl": [
           {
            "colorbar": {
             "outlinewidth": 0,
             "ticks": ""
            },
            "colorscale": [
             [
              0,
              "#0d0887"
             ],
             [
              0.1111111111111111,
              "#46039f"
             ],
             [
              0.2222222222222222,
              "#7201a8"
             ],
             [
              0.3333333333333333,
              "#9c179e"
             ],
             [
              0.4444444444444444,
              "#bd3786"
             ],
             [
              0.5555555555555556,
              "#d8576b"
             ],
             [
              0.6666666666666666,
              "#ed7953"
             ],
             [
              0.7777777777777778,
              "#fb9f3a"
             ],
             [
              0.8888888888888888,
              "#fdca26"
             ],
             [
              1,
              "#f0f921"
             ]
            ],
            "type": "heatmapgl"
           }
          ],
          "histogram": [
           {
            "marker": {
             "pattern": {
              "fillmode": "overlay",
              "size": 10,
              "solidity": 0.2
             }
            },
            "type": "histogram"
           }
          ],
          "histogram2d": [
           {
            "colorbar": {
             "outlinewidth": 0,
             "ticks": ""
            },
            "colorscale": [
             [
              0,
              "#0d0887"
             ],
             [
              0.1111111111111111,
              "#46039f"
             ],
             [
              0.2222222222222222,
              "#7201a8"
             ],
             [
              0.3333333333333333,
              "#9c179e"
             ],
             [
              0.4444444444444444,
              "#bd3786"
             ],
             [
              0.5555555555555556,
              "#d8576b"
             ],
             [
              0.6666666666666666,
              "#ed7953"
             ],
             [
              0.7777777777777778,
              "#fb9f3a"
             ],
             [
              0.8888888888888888,
              "#fdca26"
             ],
             [
              1,
              "#f0f921"
             ]
            ],
            "type": "histogram2d"
           }
          ],
          "histogram2dcontour": [
           {
            "colorbar": {
             "outlinewidth": 0,
             "ticks": ""
            },
            "colorscale": [
             [
              0,
              "#0d0887"
             ],
             [
              0.1111111111111111,
              "#46039f"
             ],
             [
              0.2222222222222222,
              "#7201a8"
             ],
             [
              0.3333333333333333,
              "#9c179e"
             ],
             [
              0.4444444444444444,
              "#bd3786"
             ],
             [
              0.5555555555555556,
              "#d8576b"
             ],
             [
              0.6666666666666666,
              "#ed7953"
             ],
             [
              0.7777777777777778,
              "#fb9f3a"
             ],
             [
              0.8888888888888888,
              "#fdca26"
             ],
             [
              1,
              "#f0f921"
             ]
            ],
            "type": "histogram2dcontour"
           }
          ],
          "mesh3d": [
           {
            "colorbar": {
             "outlinewidth": 0,
             "ticks": ""
            },
            "type": "mesh3d"
           }
          ],
          "parcoords": [
           {
            "line": {
             "colorbar": {
              "outlinewidth": 0,
              "ticks": ""
             }
            },
            "type": "parcoords"
           }
          ],
          "pie": [
           {
            "automargin": true,
            "type": "pie"
           }
          ],
          "scatter": [
           {
            "marker": {
             "colorbar": {
              "outlinewidth": 0,
              "ticks": ""
             }
            },
            "type": "scatter"
           }
          ],
          "scatter3d": [
           {
            "line": {
             "colorbar": {
              "outlinewidth": 0,
              "ticks": ""
             }
            },
            "marker": {
             "colorbar": {
              "outlinewidth": 0,
              "ticks": ""
             }
            },
            "type": "scatter3d"
           }
          ],
          "scattercarpet": [
           {
            "marker": {
             "colorbar": {
              "outlinewidth": 0,
              "ticks": ""
             }
            },
            "type": "scattercarpet"
           }
          ],
          "scattergeo": [
           {
            "marker": {
             "colorbar": {
              "outlinewidth": 0,
              "ticks": ""
             }
            },
            "type": "scattergeo"
           }
          ],
          "scattergl": [
           {
            "marker": {
             "colorbar": {
              "outlinewidth": 0,
              "ticks": ""
             }
            },
            "type": "scattergl"
           }
          ],
          "scattermapbox": [
           {
            "marker": {
             "colorbar": {
              "outlinewidth": 0,
              "ticks": ""
             }
            },
            "type": "scattermapbox"
           }
          ],
          "scatterpolar": [
           {
            "marker": {
             "colorbar": {
              "outlinewidth": 0,
              "ticks": ""
             }
            },
            "type": "scatterpolar"
           }
          ],
          "scatterpolargl": [
           {
            "marker": {
             "colorbar": {
              "outlinewidth": 0,
              "ticks": ""
             }
            },
            "type": "scatterpolargl"
           }
          ],
          "scatterternary": [
           {
            "marker": {
             "colorbar": {
              "outlinewidth": 0,
              "ticks": ""
             }
            },
            "type": "scatterternary"
           }
          ],
          "surface": [
           {
            "colorbar": {
             "outlinewidth": 0,
             "ticks": ""
            },
            "colorscale": [
             [
              0,
              "#0d0887"
             ],
             [
              0.1111111111111111,
              "#46039f"
             ],
             [
              0.2222222222222222,
              "#7201a8"
             ],
             [
              0.3333333333333333,
              "#9c179e"
             ],
             [
              0.4444444444444444,
              "#bd3786"
             ],
             [
              0.5555555555555556,
              "#d8576b"
             ],
             [
              0.6666666666666666,
              "#ed7953"
             ],
             [
              0.7777777777777778,
              "#fb9f3a"
             ],
             [
              0.8888888888888888,
              "#fdca26"
             ],
             [
              1,
              "#f0f921"
             ]
            ],
            "type": "surface"
           }
          ],
          "table": [
           {
            "cells": {
             "fill": {
              "color": "#EBF0F8"
             },
             "line": {
              "color": "white"
             }
            },
            "header": {
             "fill": {
              "color": "#C8D4E3"
             },
             "line": {
              "color": "white"
             }
            },
            "type": "table"
           }
          ]
         },
         "layout": {
          "annotationdefaults": {
           "arrowcolor": "#2a3f5f",
           "arrowhead": 0,
           "arrowwidth": 1
          },
          "autotypenumbers": "strict",
          "coloraxis": {
           "colorbar": {
            "outlinewidth": 0,
            "ticks": ""
           }
          },
          "colorscale": {
           "diverging": [
            [
             0,
             "#8e0152"
            ],
            [
             0.1,
             "#c51b7d"
            ],
            [
             0.2,
             "#de77ae"
            ],
            [
             0.3,
             "#f1b6da"
            ],
            [
             0.4,
             "#fde0ef"
            ],
            [
             0.5,
             "#f7f7f7"
            ],
            [
             0.6,
             "#e6f5d0"
            ],
            [
             0.7,
             "#b8e186"
            ],
            [
             0.8,
             "#7fbc41"
            ],
            [
             0.9,
             "#4d9221"
            ],
            [
             1,
             "#276419"
            ]
           ],
           "sequential": [
            [
             0,
             "#0d0887"
            ],
            [
             0.1111111111111111,
             "#46039f"
            ],
            [
             0.2222222222222222,
             "#7201a8"
            ],
            [
             0.3333333333333333,
             "#9c179e"
            ],
            [
             0.4444444444444444,
             "#bd3786"
            ],
            [
             0.5555555555555556,
             "#d8576b"
            ],
            [
             0.6666666666666666,
             "#ed7953"
            ],
            [
             0.7777777777777778,
             "#fb9f3a"
            ],
            [
             0.8888888888888888,
             "#fdca26"
            ],
            [
             1,
             "#f0f921"
            ]
           ],
           "sequentialminus": [
            [
             0,
             "#0d0887"
            ],
            [
             0.1111111111111111,
             "#46039f"
            ],
            [
             0.2222222222222222,
             "#7201a8"
            ],
            [
             0.3333333333333333,
             "#9c179e"
            ],
            [
             0.4444444444444444,
             "#bd3786"
            ],
            [
             0.5555555555555556,
             "#d8576b"
            ],
            [
             0.6666666666666666,
             "#ed7953"
            ],
            [
             0.7777777777777778,
             "#fb9f3a"
            ],
            [
             0.8888888888888888,
             "#fdca26"
            ],
            [
             1,
             "#f0f921"
            ]
           ]
          },
          "colorway": [
           "#636efa",
           "#EF553B",
           "#00cc96",
           "#ab63fa",
           "#FFA15A",
           "#19d3f3",
           "#FF6692",
           "#B6E880",
           "#FF97FF",
           "#FECB52"
          ],
          "font": {
           "color": "#2a3f5f"
          },
          "geo": {
           "bgcolor": "white",
           "lakecolor": "white",
           "landcolor": "#E5ECF6",
           "showlakes": true,
           "showland": true,
           "subunitcolor": "white"
          },
          "hoverlabel": {
           "align": "left"
          },
          "hovermode": "closest",
          "mapbox": {
           "style": "light"
          },
          "paper_bgcolor": "white",
          "plot_bgcolor": "#E5ECF6",
          "polar": {
           "angularaxis": {
            "gridcolor": "white",
            "linecolor": "white",
            "ticks": ""
           },
           "bgcolor": "#E5ECF6",
           "radialaxis": {
            "gridcolor": "white",
            "linecolor": "white",
            "ticks": ""
           }
          },
          "scene": {
           "xaxis": {
            "backgroundcolor": "#E5ECF6",
            "gridcolor": "white",
            "gridwidth": 2,
            "linecolor": "white",
            "showbackground": true,
            "ticks": "",
            "zerolinecolor": "white"
           },
           "yaxis": {
            "backgroundcolor": "#E5ECF6",
            "gridcolor": "white",
            "gridwidth": 2,
            "linecolor": "white",
            "showbackground": true,
            "ticks": "",
            "zerolinecolor": "white"
           },
           "zaxis": {
            "backgroundcolor": "#E5ECF6",
            "gridcolor": "white",
            "gridwidth": 2,
            "linecolor": "white",
            "showbackground": true,
            "ticks": "",
            "zerolinecolor": "white"
           }
          },
          "shapedefaults": {
           "line": {
            "color": "#2a3f5f"
           }
          },
          "ternary": {
           "aaxis": {
            "gridcolor": "white",
            "linecolor": "white",
            "ticks": ""
           },
           "baxis": {
            "gridcolor": "white",
            "linecolor": "white",
            "ticks": ""
           },
           "bgcolor": "#E5ECF6",
           "caxis": {
            "gridcolor": "white",
            "linecolor": "white",
            "ticks": ""
           }
          },
          "title": {
           "x": 0.05
          },
          "xaxis": {
           "automargin": true,
           "gridcolor": "white",
           "linecolor": "white",
           "ticks": "",
           "title": {
            "standoff": 15
           },
           "zerolinecolor": "white",
           "zerolinewidth": 2
          },
          "yaxis": {
           "automargin": true,
           "gridcolor": "white",
           "linecolor": "white",
           "ticks": "",
           "title": {
            "standoff": 15
           },
           "zerolinecolor": "white",
           "zerolinewidth": 2
          }
         }
        },
        "title": {
         "font": {
          "size": 14
         },
         "pad": {
          "t": -55
         },
         "text": "Figure 11. PWN. Lemmas by properties, all results, absolute",
         "x": 0,
         "y": 1,
         "yanchor": "top",
         "yref": "paper"
        },
        "width": 540,
        "xaxis": {
         "showgrid": false,
         "visible": false
        },
        "yaxis": {
         "showgrid": false,
         "visible": true
        }
       }
      },
      "text/html": [
       "<div>                            <div id=\"fd5ae960-d997-4c83-b9ed-b385dd14a47f\" class=\"plotly-graph-div\" style=\"height:1230px; width:540px;\"></div>            <script type=\"text/javascript\">                require([\"plotly\"], function(Plotly) {                    window.PLOTLYENV=window.PLOTLYENV || {};                                    if (document.getElementById(\"fd5ae960-d997-4c83-b9ed-b385dd14a47f\")) {                    Plotly.newPlot(                        \"fd5ae960-d997-4c83-b9ed-b385dd14a47f\",                        [{\"hoverinfo\":\"text\",\"hovertext\":[\"0\",\"0\",\"0\",\"0\",\"0\",\"0\",\"0\",\"0\",\"0\",\"0\",\"0\",\"1\",\"0\",\"1\",\"1\",\"0\",\"1\",\"1\",\"2\",\"1\",\"2\",\"2\",\"1\",\"2\",\"2\",\"1\",\"1\",\"2\",\"1\",\"2\",\"2\",\"5\",\"1\",\"3\",\"5\",\"2\",\"3\",\"2\",\"5\",\"3\",\"2\",\"2\",\"3\",\"6\",\"4\",\"2\",\"1\",\"2\",\"7\",\"4\",\"1\",\"5\",\"2\",\"1\",\"6\",\"0\",\"1\",\"2\",\"0\",\"8\",\"5\",\"4\",\"4\",\"2\",\"9\",\"6\",\"7\",\"10\",\"1\",\"4\",\"4\",\"7\",\"22\",\"6\",\"25\"],\"marker\":{\"color\":\"rgb(0,0,0)\",\"line\":{\"width\":0}},\"name\":\"synset lemmas\",\"orientation\":\"h\",\"textfont\":{\"size\":8},\"type\":\"bar\",\"x\":[null,null,null,null,null,null,null,null,null,null,0.0,100.0,0.0,100.0,100.0,0.0,100.0,100.0,100.0,50.0,100.0,100.0,50.0,100.0,100.0,50.0,50.0,100.0,33.33333333333333,50.0,40.0,100.0,20.0,60.0,83.33333333333334,33.33333333333333,50.0,33.33333333333333,83.33333333333334,50.0,22.22222222222222,22.22222222222222,33.33333333333333,60.0,36.36363636363637,18.181818181818183,9.090909090909092,16.666666666666664,58.333333333333336,26.666666666666668,6.25,31.25,11.76470588235294,5.555555555555555,31.57894736842105,0.0,4.166666666666666,7.142857142857142,0.0,25.0,12.195121951219512,8.333333333333332,6.25,3.0303030303030303,11.842105263157894,7.792207792207792,5.64516129032258,5.347593582887701,0.5181347150259068,1.3114754098360655,1.183431952662722,1.1608623548922055,3.5313001605136436,0.8287292817679558,1.676727028839705],\"y\":[\"half-blood\",\"second world\",\"first world\",\"batavia\",\"southern rhodesia\",\"bush negro\",\"low-income countries\",\"full blood\",\"allochtoon\",\"third world\",\"developing nations\",\"mestizo\",\"medicine man\",\"m\\u00e9tis\",\"coolie\",\"trans\",\"baboo\",\"hottentot\",\"transvestite\",\"ethnicity\",\"primitivism\",\"kaffir\",\"footmen\",\"half-breed\",\"headhunter\",\"mulatto\",\"bombay\",\"mohammedan\",\"inuit\",\"hermaphrodite\",\"negro\",\"queer\",\"calcutta\",\"barbarian\",\"lilliputian\",\"exotic\",\"aboriginal\",\"retarded\",\"mongoloid\",\"madras\",\"pygmy\",\"homo\",\"berber\",\"handicap\",\"gypsy\",\"eskimo\",\"immigrant\",\"disabled\",\"gay\",\"caucasian\",\"oriental\",\"moor\",\"homosexual\",\"burma\",\"maroon\",\"ethnic groups\",\"indigenous\",\"servant\",\"indo\",\"discover\",\"dwarf\",\"slave\",\"tribe\",\"traditional\",\"page\",\"descent\",\"primitive\",\"race\",\"roots\",\"indian\",\"colored\",\"native\",\"black\",\"western\",\"white\"]},{\"hoverinfo\":\"text\",\"hovertext\":[\"0\",\"0\",\"0\",\"0\",\"0\",\"0\",\"0\",\"0\",\"0\",\"0\",\"1\",\"0\",\"1\",\"0\",\"0\",\"1\",\"0\",\"0\",\"0\",\"1\",\"0\",\"0\",\"1\",\"0\",\"0\",\"1\",\"1\",\"0\",\"2\",\"2\",\"3\",\"0\",\"4\",\"2\",\"1\",\"4\",\"3\",\"4\",\"1\",\"3\",\"7\",\"7\",\"6\",\"4\",\"7\",\"9\",\"10\",\"10\",\"5\",\"11\",\"15\",\"11\",\"15\",\"17\",\"13\",\"19\",\"23\",\"26\",\"29\",\"24\",\"36\",\"44\",\"60\",\"64\",\"67\",\"71\",\"117\",\"177\",\"192\",\"301\",\"334\",\"596\",\"601\",\"718\",\"1466\"],\"marker\":{\"color\":\"rgb(128, 128, 128)\",\"line\":{\"width\":0}},\"name\":\"definitions\",\"orientation\":\"h\",\"textfont\":{\"size\":8},\"type\":\"bar\",\"x\":[null,null,null,null,null,null,null,null,null,null,100.0,0.0,100.0,0.0,0.0,100.0,0.0,0.0,0.0,50.0,0.0,0.0,50.0,0.0,0.0,50.0,50.0,0.0,66.66666666666666,50.0,60.0,0.0,80.0,40.0,16.666666666666664,66.66666666666666,50.0,66.66666666666666,16.666666666666664,50.0,77.77777777777779,77.77777777777779,66.66666666666666,40.0,63.63636363636363,81.81818181818183,90.9090909090909,83.33333333333334,41.66666666666667,73.33333333333333,93.75,68.75,88.23529411764706,94.44444444444444,68.42105263157895,100.0,95.83333333333334,92.85714285714286,100.0,75.0,87.8048780487805,91.66666666666666,93.75,96.96969696969697,88.1578947368421,92.20779220779221,94.35483870967742,94.6524064171123,99.48186528497409,98.68852459016394,98.81656804733728,98.8391376451078,96.46869983948636,99.17127071823204,98.32327297116029],\"y\":[\"half-blood\",\"second world\",\"first world\",\"batavia\",\"southern rhodesia\",\"bush negro\",\"low-income countries\",\"full blood\",\"allochtoon\",\"third world\",\"developing nations\",\"mestizo\",\"medicine man\",\"m\\u00e9tis\",\"coolie\",\"trans\",\"baboo\",\"hottentot\",\"transvestite\",\"ethnicity\",\"primitivism\",\"kaffir\",\"footmen\",\"half-breed\",\"headhunter\",\"mulatto\",\"bombay\",\"mohammedan\",\"inuit\",\"hermaphrodite\",\"negro\",\"queer\",\"calcutta\",\"barbarian\",\"lilliputian\",\"exotic\",\"aboriginal\",\"retarded\",\"mongoloid\",\"madras\",\"pygmy\",\"homo\",\"berber\",\"handicap\",\"gypsy\",\"eskimo\",\"immigrant\",\"disabled\",\"gay\",\"caucasian\",\"oriental\",\"moor\",\"homosexual\",\"burma\",\"maroon\",\"ethnic groups\",\"indigenous\",\"servant\",\"indo\",\"discover\",\"dwarf\",\"slave\",\"tribe\",\"traditional\",\"page\",\"descent\",\"primitive\",\"race\",\"roots\",\"indian\",\"colored\",\"native\",\"black\",\"western\",\"white\"]},{\"hoverinfo\":\"text\",\"hovertext\":[\"0\",\"0\",\"0\",\"0\",\"0\",\"0\",\"0\",\"0\",\"0\",\"0\",\"0\",\"0\",\"0\",\"0\",\"0\",\"0\",\"0\",\"0\",\"0\",\"0\",\"0\",\"0\",\"0\",\"0\",\"0\",\"0\",\"0\",\"0\",\"0\",\"0\",\"0\",\"0\",\"0\",\"0\",\"0\",\"0\",\"0\",\"0\",\"0\",\"0\",\"0\",\"0\",\"0\",\"0\",\"0\",\"0\",\"0\",\"0\",\"0\",\"0\",\"0\",\"0\",\"0\",\"0\",\"0\",\"0\",\"0\",\"0\",\"0\",\"0\",\"0\",\"0\",\"0\",\"0\",\"0\",\"0\",\"0\",\"0\",\"0\",\"0\",\"0\",\"0\",\"0\",\"0\",\"0\"],\"marker\":{\"color\":\"rgb(224, 224, 224)\",\"line\":{\"width\":0}},\"name\":\"examples\",\"orientation\":\"h\",\"text\":[\"0\",\"0\",\"0\",\"0\",\"0\",\"0\",\"0\",\"0\",\"0\",\"0\",\"1\",\"1\",\"1\",\"1\",\"1\",\"1\",\"1\",\"1\",\"2\",\"2\",\"2\",\"2\",\"2\",\"2\",\"2\",\"2\",\"2\",\"2\",\"3\",\"4\",\"5\",\"5\",\"5\",\"5\",\"6\",\"6\",\"6\",\"6\",\"6\",\"6\",\"9\",\"9\",\"9\",\"10\",\"11\",\"11\",\"11\",\"12\",\"12\",\"15\",\"16\",\"16\",\"17\",\"18\",\"19\",\"19\",\"24\",\"28\",\"29\",\"32\",\"41\",\"48\",\"64\",\"66\",\"76\",\"77\",\"124\",\"187\",\"193\",\"305\",\"338\",\"603\",\"623\",\"724\",\"1491\"],\"textfont\":{\"size\":8},\"textposition\":\"outside\",\"type\":\"bar\",\"x\":[null,null,null,null,null,null,null,null,null,null,0.0,0.0,0.0,0.0,0.0,0.0,0.0,0.0,0.0,0.0,0.0,0.0,0.0,0.0,0.0,0.0,0.0,0.0,0.0,0.0,0.0,0.0,0.0,0.0,0.0,0.0,0.0,0.0,0.0,0.0,0.0,0.0,0.0,0.0,0.0,0.0,0.0,0.0,0.0,0.0,0.0,0.0,0.0,0.0,0.0,0.0,0.0,0.0,0.0,0.0,0.0,0.0,0.0,0.0,0.0,0.0,0.0,0.0,0.0,0.0,0.0,0.0,0.0,0.0,0.0],\"y\":[\"half-blood\",\"second world\",\"first world\",\"batavia\",\"southern rhodesia\",\"bush negro\",\"low-income countries\",\"full blood\",\"allochtoon\",\"third world\",\"developing nations\",\"mestizo\",\"medicine man\",\"m\\u00e9tis\",\"coolie\",\"trans\",\"baboo\",\"hottentot\",\"transvestite\",\"ethnicity\",\"primitivism\",\"kaffir\",\"footmen\",\"half-breed\",\"headhunter\",\"mulatto\",\"bombay\",\"mohammedan\",\"inuit\",\"hermaphrodite\",\"negro\",\"queer\",\"calcutta\",\"barbarian\",\"lilliputian\",\"exotic\",\"aboriginal\",\"retarded\",\"mongoloid\",\"madras\",\"pygmy\",\"homo\",\"berber\",\"handicap\",\"gypsy\",\"eskimo\",\"immigrant\",\"disabled\",\"gay\",\"caucasian\",\"oriental\",\"moor\",\"homosexual\",\"burma\",\"maroon\",\"ethnic groups\",\"indigenous\",\"servant\",\"indo\",\"discover\",\"dwarf\",\"slave\",\"tribe\",\"traditional\",\"page\",\"descent\",\"primitive\",\"race\",\"roots\",\"indian\",\"colored\",\"native\",\"black\",\"western\",\"white\"]}],                        {\"bargap\":0.2,\"barmode\":\"stack\",\"font\":{\"color\":\"black\",\"family\":\"Arial\",\"size\":7},\"height\":1230,\"legend\":{\"font\":{\"color\":\"black\",\"family\":\"Arial\",\"size\":8},\"itemsizing\":\"constant\",\"itemwidth\":30,\"orientation\":\"h\",\"traceorder\":\"normal\",\"x\":-0.03,\"xanchor\":\"left\",\"y\":1.03,\"yanchor\":\"top\"},\"margin\":{\"b\":0,\"l\":0,\"pad\":1,\"r\":0,\"t\":60},\"paper_bgcolor\":\"rgb(255, 255, 255)\",\"plot_bgcolor\":\"rgb(255, 255, 255)\",\"template\":{\"data\":{\"bar\":[{\"error_x\":{\"color\":\"#2a3f5f\"},\"error_y\":{\"color\":\"#2a3f5f\"},\"marker\":{\"line\":{\"color\":\"#E5ECF6\",\"width\":0.5},\"pattern\":{\"fillmode\":\"overlay\",\"size\":10,\"solidity\":0.2}},\"type\":\"bar\"}],\"barpolar\":[{\"marker\":{\"line\":{\"color\":\"#E5ECF6\",\"width\":0.5},\"pattern\":{\"fillmode\":\"overlay\",\"size\":10,\"solidity\":0.2}},\"type\":\"barpolar\"}],\"carpet\":[{\"aaxis\":{\"endlinecolor\":\"#2a3f5f\",\"gridcolor\":\"white\",\"linecolor\":\"white\",\"minorgridcolor\":\"white\",\"startlinecolor\":\"#2a3f5f\"},\"baxis\":{\"endlinecolor\":\"#2a3f5f\",\"gridcolor\":\"white\",\"linecolor\":\"white\",\"minorgridcolor\":\"white\",\"startlinecolor\":\"#2a3f5f\"},\"type\":\"carpet\"}],\"choropleth\":[{\"colorbar\":{\"outlinewidth\":0,\"ticks\":\"\"},\"type\":\"choropleth\"}],\"contour\":[{\"colorbar\":{\"outlinewidth\":0,\"ticks\":\"\"},\"colorscale\":[[0.0,\"#0d0887\"],[0.1111111111111111,\"#46039f\"],[0.2222222222222222,\"#7201a8\"],[0.3333333333333333,\"#9c179e\"],[0.4444444444444444,\"#bd3786\"],[0.5555555555555556,\"#d8576b\"],[0.6666666666666666,\"#ed7953\"],[0.7777777777777778,\"#fb9f3a\"],[0.8888888888888888,\"#fdca26\"],[1.0,\"#f0f921\"]],\"type\":\"contour\"}],\"contourcarpet\":[{\"colorbar\":{\"outlinewidth\":0,\"ticks\":\"\"},\"type\":\"contourcarpet\"}],\"heatmap\":[{\"colorbar\":{\"outlinewidth\":0,\"ticks\":\"\"},\"colorscale\":[[0.0,\"#0d0887\"],[0.1111111111111111,\"#46039f\"],[0.2222222222222222,\"#7201a8\"],[0.3333333333333333,\"#9c179e\"],[0.4444444444444444,\"#bd3786\"],[0.5555555555555556,\"#d8576b\"],[0.6666666666666666,\"#ed7953\"],[0.7777777777777778,\"#fb9f3a\"],[0.8888888888888888,\"#fdca26\"],[1.0,\"#f0f921\"]],\"type\":\"heatmap\"}],\"heatmapgl\":[{\"colorbar\":{\"outlinewidth\":0,\"ticks\":\"\"},\"colorscale\":[[0.0,\"#0d0887\"],[0.1111111111111111,\"#46039f\"],[0.2222222222222222,\"#7201a8\"],[0.3333333333333333,\"#9c179e\"],[0.4444444444444444,\"#bd3786\"],[0.5555555555555556,\"#d8576b\"],[0.6666666666666666,\"#ed7953\"],[0.7777777777777778,\"#fb9f3a\"],[0.8888888888888888,\"#fdca26\"],[1.0,\"#f0f921\"]],\"type\":\"heatmapgl\"}],\"histogram\":[{\"marker\":{\"pattern\":{\"fillmode\":\"overlay\",\"size\":10,\"solidity\":0.2}},\"type\":\"histogram\"}],\"histogram2d\":[{\"colorbar\":{\"outlinewidth\":0,\"ticks\":\"\"},\"colorscale\":[[0.0,\"#0d0887\"],[0.1111111111111111,\"#46039f\"],[0.2222222222222222,\"#7201a8\"],[0.3333333333333333,\"#9c179e\"],[0.4444444444444444,\"#bd3786\"],[0.5555555555555556,\"#d8576b\"],[0.6666666666666666,\"#ed7953\"],[0.7777777777777778,\"#fb9f3a\"],[0.8888888888888888,\"#fdca26\"],[1.0,\"#f0f921\"]],\"type\":\"histogram2d\"}],\"histogram2dcontour\":[{\"colorbar\":{\"outlinewidth\":0,\"ticks\":\"\"},\"colorscale\":[[0.0,\"#0d0887\"],[0.1111111111111111,\"#46039f\"],[0.2222222222222222,\"#7201a8\"],[0.3333333333333333,\"#9c179e\"],[0.4444444444444444,\"#bd3786\"],[0.5555555555555556,\"#d8576b\"],[0.6666666666666666,\"#ed7953\"],[0.7777777777777778,\"#fb9f3a\"],[0.8888888888888888,\"#fdca26\"],[1.0,\"#f0f921\"]],\"type\":\"histogram2dcontour\"}],\"mesh3d\":[{\"colorbar\":{\"outlinewidth\":0,\"ticks\":\"\"},\"type\":\"mesh3d\"}],\"parcoords\":[{\"line\":{\"colorbar\":{\"outlinewidth\":0,\"ticks\":\"\"}},\"type\":\"parcoords\"}],\"pie\":[{\"automargin\":true,\"type\":\"pie\"}],\"scatter\":[{\"marker\":{\"colorbar\":{\"outlinewidth\":0,\"ticks\":\"\"}},\"type\":\"scatter\"}],\"scatter3d\":[{\"line\":{\"colorbar\":{\"outlinewidth\":0,\"ticks\":\"\"}},\"marker\":{\"colorbar\":{\"outlinewidth\":0,\"ticks\":\"\"}},\"type\":\"scatter3d\"}],\"scattercarpet\":[{\"marker\":{\"colorbar\":{\"outlinewidth\":0,\"ticks\":\"\"}},\"type\":\"scattercarpet\"}],\"scattergeo\":[{\"marker\":{\"colorbar\":{\"outlinewidth\":0,\"ticks\":\"\"}},\"type\":\"scattergeo\"}],\"scattergl\":[{\"marker\":{\"colorbar\":{\"outlinewidth\":0,\"ticks\":\"\"}},\"type\":\"scattergl\"}],\"scattermapbox\":[{\"marker\":{\"colorbar\":{\"outlinewidth\":0,\"ticks\":\"\"}},\"type\":\"scattermapbox\"}],\"scatterpolar\":[{\"marker\":{\"colorbar\":{\"outlinewidth\":0,\"ticks\":\"\"}},\"type\":\"scatterpolar\"}],\"scatterpolargl\":[{\"marker\":{\"colorbar\":{\"outlinewidth\":0,\"ticks\":\"\"}},\"type\":\"scatterpolargl\"}],\"scatterternary\":[{\"marker\":{\"colorbar\":{\"outlinewidth\":0,\"ticks\":\"\"}},\"type\":\"scatterternary\"}],\"surface\":[{\"colorbar\":{\"outlinewidth\":0,\"ticks\":\"\"},\"colorscale\":[[0.0,\"#0d0887\"],[0.1111111111111111,\"#46039f\"],[0.2222222222222222,\"#7201a8\"],[0.3333333333333333,\"#9c179e\"],[0.4444444444444444,\"#bd3786\"],[0.5555555555555556,\"#d8576b\"],[0.6666666666666666,\"#ed7953\"],[0.7777777777777778,\"#fb9f3a\"],[0.8888888888888888,\"#fdca26\"],[1.0,\"#f0f921\"]],\"type\":\"surface\"}],\"table\":[{\"cells\":{\"fill\":{\"color\":\"#EBF0F8\"},\"line\":{\"color\":\"white\"}},\"header\":{\"fill\":{\"color\":\"#C8D4E3\"},\"line\":{\"color\":\"white\"}},\"type\":\"table\"}]},\"layout\":{\"annotationdefaults\":{\"arrowcolor\":\"#2a3f5f\",\"arrowhead\":0,\"arrowwidth\":1},\"autotypenumbers\":\"strict\",\"coloraxis\":{\"colorbar\":{\"outlinewidth\":0,\"ticks\":\"\"}},\"colorscale\":{\"diverging\":[[0,\"#8e0152\"],[0.1,\"#c51b7d\"],[0.2,\"#de77ae\"],[0.3,\"#f1b6da\"],[0.4,\"#fde0ef\"],[0.5,\"#f7f7f7\"],[0.6,\"#e6f5d0\"],[0.7,\"#b8e186\"],[0.8,\"#7fbc41\"],[0.9,\"#4d9221\"],[1,\"#276419\"]],\"sequential\":[[0.0,\"#0d0887\"],[0.1111111111111111,\"#46039f\"],[0.2222222222222222,\"#7201a8\"],[0.3333333333333333,\"#9c179e\"],[0.4444444444444444,\"#bd3786\"],[0.5555555555555556,\"#d8576b\"],[0.6666666666666666,\"#ed7953\"],[0.7777777777777778,\"#fb9f3a\"],[0.8888888888888888,\"#fdca26\"],[1.0,\"#f0f921\"]],\"sequentialminus\":[[0.0,\"#0d0887\"],[0.1111111111111111,\"#46039f\"],[0.2222222222222222,\"#7201a8\"],[0.3333333333333333,\"#9c179e\"],[0.4444444444444444,\"#bd3786\"],[0.5555555555555556,\"#d8576b\"],[0.6666666666666666,\"#ed7953\"],[0.7777777777777778,\"#fb9f3a\"],[0.8888888888888888,\"#fdca26\"],[1.0,\"#f0f921\"]]},\"colorway\":[\"#636efa\",\"#EF553B\",\"#00cc96\",\"#ab63fa\",\"#FFA15A\",\"#19d3f3\",\"#FF6692\",\"#B6E880\",\"#FF97FF\",\"#FECB52\"],\"font\":{\"color\":\"#2a3f5f\"},\"geo\":{\"bgcolor\":\"white\",\"lakecolor\":\"white\",\"landcolor\":\"#E5ECF6\",\"showlakes\":true,\"showland\":true,\"subunitcolor\":\"white\"},\"hoverlabel\":{\"align\":\"left\"},\"hovermode\":\"closest\",\"mapbox\":{\"style\":\"light\"},\"paper_bgcolor\":\"white\",\"plot_bgcolor\":\"#E5ECF6\",\"polar\":{\"angularaxis\":{\"gridcolor\":\"white\",\"linecolor\":\"white\",\"ticks\":\"\"},\"bgcolor\":\"#E5ECF6\",\"radialaxis\":{\"gridcolor\":\"white\",\"linecolor\":\"white\",\"ticks\":\"\"}},\"scene\":{\"xaxis\":{\"backgroundcolor\":\"#E5ECF6\",\"gridcolor\":\"white\",\"gridwidth\":2,\"linecolor\":\"white\",\"showbackground\":true,\"ticks\":\"\",\"zerolinecolor\":\"white\"},\"yaxis\":{\"backgroundcolor\":\"#E5ECF6\",\"gridcolor\":\"white\",\"gridwidth\":2,\"linecolor\":\"white\",\"showbackground\":true,\"ticks\":\"\",\"zerolinecolor\":\"white\"},\"zaxis\":{\"backgroundcolor\":\"#E5ECF6\",\"gridcolor\":\"white\",\"gridwidth\":2,\"linecolor\":\"white\",\"showbackground\":true,\"ticks\":\"\",\"zerolinecolor\":\"white\"}},\"shapedefaults\":{\"line\":{\"color\":\"#2a3f5f\"}},\"ternary\":{\"aaxis\":{\"gridcolor\":\"white\",\"linecolor\":\"white\",\"ticks\":\"\"},\"baxis\":{\"gridcolor\":\"white\",\"linecolor\":\"white\",\"ticks\":\"\"},\"bgcolor\":\"#E5ECF6\",\"caxis\":{\"gridcolor\":\"white\",\"linecolor\":\"white\",\"ticks\":\"\"}},\"title\":{\"x\":0.05},\"xaxis\":{\"automargin\":true,\"gridcolor\":\"white\",\"linecolor\":\"white\",\"ticks\":\"\",\"title\":{\"standoff\":15},\"zerolinecolor\":\"white\",\"zerolinewidth\":2},\"yaxis\":{\"automargin\":true,\"gridcolor\":\"white\",\"linecolor\":\"white\",\"ticks\":\"\",\"title\":{\"standoff\":15},\"zerolinecolor\":\"white\",\"zerolinewidth\":2}}},\"title\":{\"font\":{\"size\":14},\"pad\":{\"t\":-55},\"text\":\"Figure 11. PWN. Lemmas by properties, all results, absolute\",\"x\":0,\"y\":1,\"yanchor\":\"top\",\"yref\":\"paper\"},\"width\":540,\"xaxis\":{\"showgrid\":false,\"visible\":false},\"yaxis\":{\"showgrid\":false,\"visible\":true}},                        {\"responsive\": true}                    ).then(function(){\n",
       "                            \n",
       "var gd = document.getElementById('fd5ae960-d997-4c83-b9ed-b385dd14a47f');\n",
       "var x = new MutationObserver(function (mutations, observer) {{\n",
       "        var display = window.getComputedStyle(gd).display;\n",
       "        if (!display || display === 'none') {{\n",
       "            console.log([gd, 'removed!']);\n",
       "            Plotly.purge(gd);\n",
       "            observer.disconnect();\n",
       "        }}\n",
       "}});\n",
       "\n",
       "// Listen for the removal of the full notebook cells\n",
       "var notebookContainer = gd.closest('#notebook-container');\n",
       "if (notebookContainer) {{\n",
       "    x.observe(notebookContainer, {childList: true});\n",
       "}}\n",
       "\n",
       "// Listen for the clearing of the current output cell\n",
       "var outputEl = gd.closest('.output');\n",
       "if (outputEl) {{\n",
       "    x.observe(outputEl, {childList: true});\n",
       "}}\n",
       "\n",
       "                        })                };                });            </script>        </div>"
      ]
     },
     "metadata": {},
     "output_type": "display_data"
    }
   ],
   "source": [
    "lemmas = list(n_hits_by_lemma_p['lemma'])\n",
    "synset_lemmas = list(n_hits_by_lemma_p['synset_lemmas_p'])\n",
    "definitions = list(n_hits_by_lemma_p['definitions_p'])\n",
    "examples = list(n_hits_by_lemma_p['examples_p'])\n",
    "\n",
    "# total marker\n",
    "text_marker = list(n_hits_by_lemma_p['total_lemma'])\n",
    "\n",
    "bar_chart = go.Figure(data=[\n",
    "    go.Bar(name=\"synset lemmas\",\n",
    "           x=synset_lemmas,\n",
    "           y=lemmas,\n",
    "           hovertext=list(n_hits_by_lemma_p['synset_lemmas']),\n",
    "           orientation='h',\n",
    "           marker_color='rgb(0,0,0)'),\n",
    "    \n",
    "    go.Bar(name=\"definitions\",\n",
    "           x=definitions,\n",
    "           y=lemmas,\n",
    "           hovertext=list(n_hits_by_lemma_p['definitions']),\n",
    "           orientation='h',\n",
    "           marker_color='rgb(128, 128, 128)'),\n",
    "    \n",
    "    go.Bar(name=\"examples\",\n",
    "           x=examples,\n",
    "           y=lemmas,\n",
    "           hovertext=list(n_hits_by_lemma_p['examples']),\n",
    "           orientation='h',\n",
    "           marker_color='rgb(224, 224, 224)',\n",
    "           text=text_marker,\n",
    "           textposition='outside')\n",
    "])\n",
    "\n",
    "bar_chart.update_layout(barmode='stack',\n",
    "                  width=540,\n",
    "                  height=1230,\n",
    "                  bargap=0.2,\n",
    "                  paper_bgcolor='rgb(255, 255, 255)',\n",
    "                  plot_bgcolor='rgb(255, 255, 255)',\n",
    "                  title={\"text\":\"Figure 11. PWN. Lemmas by properties, all results, absolute\",\n",
    "                        \"x\":0,\n",
    "                        \"y\":1,\n",
    "                        \"yanchor\":\"top\",\n",
    "                        \"yref\":\"paper\",\n",
    "                        \"pad\":{\"t\":-55},\n",
    "                        \"font\":{\"size\":14}},\n",
    "                  \n",
    "                  margin=dict(\n",
    "                    l=0,\n",
    "                    r=0,\n",
    "                    b=0,\n",
    "                    t=60,\n",
    "                    pad=1),\n",
    "                  \n",
    "                  font=dict(\n",
    "                    family=\"Arial\",\n",
    "                    size=7,\n",
    "                    color=\"black\"),\n",
    "                  \n",
    "                  legend=dict(\n",
    "                    traceorder=\"normal\",\n",
    "                    orientation=\"h\",\n",
    "                    itemsizing='constant',\n",
    "                    itemwidth=30,\n",
    "                    yanchor=\"top\",\n",
    "                    y=1.03,\n",
    "                    xanchor=\"left\",\n",
    "                    x=-0.03,\n",
    "                    font=dict(\n",
    "                    family=\"Arial\",\n",
    "                    size=8,\n",
    "                    color=\"black\"\n",
    "                )),\n",
    "                 )\n",
    "\n",
    "bar_chart.update_traces(marker=dict(line=dict(width=0)),hoverinfo='text',\n",
    "                 textfont_size=8, selector=dict(type='bar'))\n",
    "\n",
    "bar_chart.update_yaxes(showgrid=False,\n",
    "                visible=True)\n",
    "\n",
    "bar_chart.update_xaxes(showgrid=False,\n",
    "                visible=False)"
   ]
  },
  {
   "cell_type": "code",
   "execution_count": 12,
   "metadata": {},
   "outputs": [],
   "source": [
    "bar_chart.write_html('all_hits_by_lemma_proportional.html',include_plotlyjs=\"cdn\")"
   ]
  },
  {
   "cell_type": "code",
   "execution_count": null,
   "metadata": {},
   "outputs": [],
   "source": []
  }
 ],
 "metadata": {
  "kernelspec": {
   "display_name": "Python 3",
   "language": "python",
   "name": "python3"
  },
  "language_info": {
   "codemirror_mode": {
    "name": "ipython",
    "version": 3
   },
   "file_extension": ".py",
   "mimetype": "text/x-python",
   "name": "python",
   "nbconvert_exporter": "python",
   "pygments_lexer": "ipython3",
   "version": "3.8.5"
  }
 },
 "nbformat": 4,
 "nbformat_minor": 4
}
