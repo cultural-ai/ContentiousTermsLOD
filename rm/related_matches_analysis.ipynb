{
 "cells": [
  {
   "cell_type": "code",
   "execution_count": 2,
   "metadata": {},
   "outputs": [],
   "source": [
    "import json\n",
    "import csv"
   ]
  },
  {
   "cell_type": "markdown",
   "metadata": {},
   "source": [
    "### Importing related matches"
   ]
  },
  {
   "cell_type": "code",
   "execution_count": 3,
   "metadata": {},
   "outputs": [],
   "source": [
    "with open('/Users/anesterov/reps/wordsmatter/related_matches/rm.json','r') as jf:\n",
    "    rms = json.load(jf)"
   ]
  },
  {
   "cell_type": "code",
   "execution_count": 7,
   "metadata": {},
   "outputs": [],
   "source": [
    "# related matches from ODWN are in a separate file\n",
    "with open('/Users/anesterov/reps/LODlit/bg/related_matches_odwn.json','r') as jf:\n",
    "    rms_odwn = json.load(jf)"
   ]
  },
  {
   "cell_type": "markdown",
   "metadata": {},
   "source": [
    "### Importing search results and generating a subset with related matches for every resource"
   ]
  },
  {
   "cell_type": "code",
   "execution_count": 61,
   "metadata": {},
   "outputs": [],
   "source": [
    "def generate_rm_subset(resource_data:dict, rm_data:dict, resource:str, lang:str) -> dict:\n",
    "    '''\n",
    "    '''\n",
    "    results = {}\n",
    "\n",
    "    for query_term, value in resource_data.items():\n",
    "        \n",
    "        hits_by_query_term = []\n",
    "    \n",
    "        for rm_info in rm_data.values():\n",
    "            \n",
    "            if rm_info['lang'] == lang and query_term in rm_info['query_terms']:\n",
    "                for hit in value:\n",
    "                    \n",
    "                    # checking resource\n",
    "                    \n",
    "                    if resource == 'wikidata':\n",
    "                        \n",
    "                        if hit.get('QID') == rm_info['related_matches']['wikidata'][0]:\n",
    "                            hits_by_query_term.append(hit)\n",
    "                            \n",
    "                    if resource == 'aat':\n",
    "                        \n",
    "                        if hit.get('aat_uri') == rm_info['related_matches']['aat'][0]:\n",
    "                            hits_by_query_term.append(hit)\n",
    "                            \n",
    "                    if resource == 'pwn':\n",
    "                        \n",
    "                        if hit.get('synset_id') in rm_info['related_matches']['pwn']:\n",
    "                            hits_by_query_term.append(hit)\n",
    "                            \n",
    "                    # ODWN is handled separately\n",
    "                            \n",
    "        results[query_term] = hits_by_query_term\n",
    "        \n",
    "    return results"
   ]
  },
  {
   "cell_type": "markdown",
   "metadata": {},
   "source": [
    "#### Wikidata EN"
   ]
  },
  {
   "cell_type": "code",
   "execution_count": 11,
   "metadata": {},
   "outputs": [],
   "source": [
    "with open('/Users/anesterov/LODlit_local/wd/jan31/results_clean_en.json','r') as jf:\n",
    "    wd_en = json.load(jf)"
   ]
  },
  {
   "cell_type": "code",
   "execution_count": 62,
   "metadata": {},
   "outputs": [],
   "source": [
    "rm_wd_en = generate_rm_subset(wd_en,rms,\"wikidata\",\"en\")"
   ]
  },
  {
   "cell_type": "code",
   "execution_count": 65,
   "metadata": {},
   "outputs": [],
   "source": [
    "with open('/Users/anesterov/reps/LODlit/rm/rm_wd_en.json', 'w') as jf:\n",
    "    json.dump(rm_wd_en, jf)"
   ]
  },
  {
   "cell_type": "markdown",
   "metadata": {},
   "source": [
    "#### Wikidata NL"
   ]
  },
  {
   "cell_type": "code",
   "execution_count": 52,
   "metadata": {},
   "outputs": [],
   "source": [
    "with open('/Users/anesterov/LODlit_local/wd/jan31/results_clean_nl.json','r') as jf:\n",
    "    wd_nl = json.load(jf)"
   ]
  },
  {
   "cell_type": "code",
   "execution_count": 66,
   "metadata": {},
   "outputs": [],
   "source": [
    "rm_wd_nl = generate_rm_subset(wd_nl,rms,\"wikidata\",\"nl\")"
   ]
  },
  {
   "cell_type": "code",
   "execution_count": 67,
   "metadata": {},
   "outputs": [],
   "source": [
    "with open('/Users/anesterov/reps/LODlit/rm/rm_wd_nl.json', 'w') as jf:\n",
    "    json.dump(rm_wd_nl, jf)"
   ]
  },
  {
   "cell_type": "markdown",
   "metadata": {},
   "source": [
    "#### AAT EN"
   ]
  },
  {
   "cell_type": "code",
   "execution_count": 55,
   "metadata": {},
   "outputs": [],
   "source": [
    "with open('/Users/anesterov/reps/LODlit/AAT/aat_query_results_en.json','r') as jf:\n",
    "    aat_en = json.load(jf)"
   ]
  },
  {
   "cell_type": "code",
   "execution_count": 68,
   "metadata": {},
   "outputs": [],
   "source": [
    "rm_aat_en = generate_rm_subset(aat_en,rms,\"aat\",\"en\")"
   ]
  },
  {
   "cell_type": "code",
   "execution_count": 69,
   "metadata": {},
   "outputs": [],
   "source": [
    "with open('/Users/anesterov/reps/LODlit/rm/rm_aat_en.json', 'w') as jf:\n",
    "    json.dump(rm_aat_en, jf)"
   ]
  },
  {
   "cell_type": "markdown",
   "metadata": {},
   "source": [
    "#### AAT NL"
   ]
  },
  {
   "cell_type": "code",
   "execution_count": 70,
   "metadata": {},
   "outputs": [],
   "source": [
    "with open('/Users/anesterov/reps/LODlit/AAT/aat_query_results_nl.json','r') as jf:\n",
    "    aat_nl = json.load(jf)"
   ]
  },
  {
   "cell_type": "code",
   "execution_count": 71,
   "metadata": {},
   "outputs": [],
   "source": [
    "rm_aat_nl = generate_rm_subset(aat_nl,rms,\"aat\",\"nl\")"
   ]
  },
  {
   "cell_type": "code",
   "execution_count": 72,
   "metadata": {},
   "outputs": [],
   "source": [
    "with open('/Users/anesterov/reps/LODlit/rm/rm_aat_nl.json', 'w') as jf:\n",
    "    json.dump(rm_aat_nl, jf)"
   ]
  },
  {
   "cell_type": "markdown",
   "metadata": {},
   "source": [
    "#### PWN"
   ]
  },
  {
   "cell_type": "code",
   "execution_count": 73,
   "metadata": {},
   "outputs": [],
   "source": [
    "with open('/Users/anesterov/reps/LODlit/PWN/pwn31_query_results.json','r') as jf:\n",
    "    pwn = json.load(jf)"
   ]
  },
  {
   "cell_type": "code",
   "execution_count": 74,
   "metadata": {},
   "outputs": [],
   "source": [
    "rm_pwn = generate_rm_subset(pwn,rms,\"pwn\",\"en\")"
   ]
  },
  {
   "cell_type": "code",
   "execution_count": 75,
   "metadata": {},
   "outputs": [],
   "source": [
    "with open('/Users/anesterov/reps/LODlit/rm/rm_pwn.json', 'w') as jf:\n",
    "    json.dump(rm_pwn, jf)"
   ]
  },
  {
   "cell_type": "markdown",
   "metadata": {},
   "source": [
    "#### ODWN"
   ]
  },
  {
   "cell_type": "code",
   "execution_count": 76,
   "metadata": {},
   "outputs": [],
   "source": [
    "with open('/Users/anesterov/reps/LODlit/ODWN/odwn_query_results.json','r') as jf:\n",
    "    odwn = json.load(jf)"
   ]
  },
  {
   "cell_type": "code",
   "execution_count": 79,
   "metadata": {},
   "outputs": [],
   "source": [
    "rm_odwn = {}\n",
    "\n",
    "for query_term, value in odwn.items():\n",
    "    \n",
    "    hits_by_query_term = []\n",
    "    \n",
    "    for rm_info in rms_odwn.values():\n",
    "        if query_term in rm_info['query_terms']:\n",
    "            \n",
    "            for hit in value:\n",
    "                # all related matches in ODWN have LE_id\n",
    "                if hit.get('le_id') in rm_info['odwn_le']:\n",
    "                    hits_by_query_term.append(hit)\n",
    "                    \n",
    "    rm_odwn[query_term] = hits_by_query_term"
   ]
  },
  {
   "cell_type": "code",
   "execution_count": 81,
   "metadata": {},
   "outputs": [],
   "source": [
    "with open('/Users/anesterov/reps/LODlit/rm/rm_odwn.json', 'w') as jf:\n",
    "    json.dump(rm_odwn, jf)"
   ]
  },
  {
   "cell_type": "code",
   "execution_count": null,
   "metadata": {},
   "outputs": [],
   "source": []
  }
 ],
 "metadata": {
  "kernelspec": {
   "display_name": "Python 3",
   "language": "python",
   "name": "python3"
  },
  "language_info": {
   "codemirror_mode": {
    "name": "ipython",
    "version": 3
   },
   "file_extension": ".py",
   "mimetype": "text/x-python",
   "name": "python",
   "nbconvert_exporter": "python",
   "pygments_lexer": "ipython3",
   "version": "3.8.5"
  }
 },
 "nbformat": 4,
 "nbformat_minor": 4
}
